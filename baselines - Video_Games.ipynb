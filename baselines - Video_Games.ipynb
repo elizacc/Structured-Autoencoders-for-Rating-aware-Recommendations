{
 "cells": [
  {
   "cell_type": "code",
   "execution_count": 1,
   "id": "9a6cea2a",
   "metadata": {
    "ExecuteTime": {
     "end_time": "2023-03-30T19:15:49.540921Z",
     "start_time": "2023-03-30T19:15:39.912547Z"
    },
    "code_folding": [
     13
    ]
   },
   "outputs": [],
   "source": [
    "import numpy as np\n",
    "import pandas as pd\n",
    "import matplotlib.pyplot as plt\n",
    "\n",
    "from scipy.sparse import csr_matrix\n",
    "from scipy.linalg import norm\n",
    "from IPython.display import clear_output\n",
    "from IPython.utils import io\n",
    "import random\n",
    "from copy import deepcopy\n",
    "from urllib import request\n",
    "import tempfile\n",
    "import gzip\n",
    "from ast import literal_eval\n",
    "\n",
    "from tqdm.notebook import tqdm\n",
    "\n",
    "from torch.utils.data import Dataset, DataLoader\n",
    "import torch\n",
    "import torch.nn as nn\n",
    "import torch.optim as optim\n",
    "\n",
    "# from polara.lib.tensor import hooi\n",
    "# from polara.lib.sparse import tensor_outer_at\n",
    "\n",
    "from dataprep import transform_indices, full_preproccessing\n",
    "from utils import topn_recommendations, downvote_seen_items, make_prediction, model_evaluate\n",
    "# from RecVAE.utils import *\n",
    "# from RecVAE.model import VAE as RecVAE"
   ]
  },
  {
   "cell_type": "code",
   "execution_count": 2,
   "id": "64dde154",
   "metadata": {
    "ExecuteTime": {
     "end_time": "2023-03-30T19:15:50.259853Z",
     "start_time": "2023-03-30T19:15:50.250854Z"
    },
    "code_folding": [
     0
    ]
   },
   "outputs": [],
   "source": [
    "def fix_torch_seed(seed, conv_determinism=True):\n",
    "    torch.manual_seed(seed)\n",
    "    torch.cuda.manual_seed_all(seed)\n",
    "    # settings below may affect computational performance\n",
    "    # see https://pytorch.org/docs/stable/notes/randomness.html:\n",
    "    if conv_determinism:\n",
    "        torch.backends.cudnn.benchmark = False\n",
    "        torch.backends.cudnn.deterministic = True\n",
    "\n",
    "def set_random_seed(seed):\n",
    "#     torch.cuda.manual_seed(seed)\n",
    "    np.random.seed(seed)\n",
    "    \n",
    "# fix_torch_seed(42)\n",
    "set_random_seed(42)"
   ]
  },
  {
   "cell_type": "code",
   "execution_count": 3,
   "id": "2d7570e5",
   "metadata": {
    "ExecuteTime": {
     "end_time": "2023-03-30T19:15:50.796823Z",
     "start_time": "2023-03-30T19:15:50.785828Z"
    }
   },
   "outputs": [],
   "source": [
    "import os    \n",
    "os.environ['KMP_DUPLICATE_LIB_OK'] = 'True'"
   ]
  },
  {
   "cell_type": "code",
   "execution_count": 4,
   "id": "640d61dc",
   "metadata": {
    "ExecuteTime": {
     "end_time": "2023-03-30T19:15:52.720122Z",
     "start_time": "2023-03-30T19:15:51.353614Z"
    }
   },
   "outputs": [],
   "source": [
    "device = torch.device('cuda:0' if torch.cuda.is_available() else 'cpu')"
   ]
  },
  {
   "cell_type": "markdown",
   "id": "a766d87d",
   "metadata": {},
   "source": [
    "# Data preprocessing"
   ]
  },
  {
   "cell_type": "code",
   "execution_count": 5,
   "id": "e09c0a49",
   "metadata": {
    "ExecuteTime": {
     "end_time": "2023-03-30T19:15:53.471001Z",
     "start_time": "2023-03-30T19:15:53.458001Z"
    },
    "code_folding": [
     0,
     5
    ]
   },
   "outputs": [],
   "source": [
    "# def amazon_data_reader(path):\n",
    "#     with gzip.open(path, 'rt') as gz:\n",
    "#         for line in gz:\n",
    "#             yield literal_eval(line)\n",
    "\n",
    "# def read_amazon_data(path=None, name=None):\n",
    "#     '''Data is taken from https://jmcauley.ucsd.edu/data/amazon/'''\n",
    "#     if path is None and name is None:\n",
    "#             raise ValueError('Either the name of the dataset to download \\\n",
    "#                 or a path to a local file must be specified.')\n",
    "#     if path is None:\n",
    "#         file_url = f'http://snap.stanford.edu/data/amazon/productGraph/categoryFiles/reviews_{name}_5.json.gz'\n",
    "#         print(f'Downloading data from: {file_url}')\n",
    "#         with request.urlopen(file_url) as response:\n",
    "#             file = response.read()\n",
    "#             with tempfile.NamedTemporaryFile(delete=False) as temp:\n",
    "#                 temp.write(file)\n",
    "#                 path = temp.name\n",
    "#                 print(f'Temporarily saved file at: {path}')\n",
    "#     data = pd.DataFrame.from_records(\n",
    "#         amazon_data_reader(path),\n",
    "#         columns=['reviewerID', 'asin', 'overall', 'unixReviewTime']\n",
    "#     )\n",
    "#     data.to_csv(f'Amazon_{name}.csv', index=None)\n",
    "#     return data\n",
    "\n",
    "# data = read_amazon_data(name = \"Video_Games\")\n",
    "# data.rename(columns = {'reviewerID' : 'userid', 'asin' : 'movieid', \"overall\" : \"rating\", \"unixReviewTime\" : \"timestamp\"}, inplace = True)"
   ]
  },
  {
   "cell_type": "code",
   "execution_count": 6,
   "id": "614fb7b1",
   "metadata": {
    "ExecuteTime": {
     "end_time": "2023-03-30T19:15:54.209152Z",
     "start_time": "2023-03-30T19:15:54.070160Z"
    }
   },
   "outputs": [],
   "source": [
    "data = pd.read_csv('Amazon_Video_Games.csv')\n",
    "data.rename(columns = {'reviewerID' : 'userid', 'asin' : 'movieid', \"overall\" : \"rating\", \"unixReviewTime\" : \"timestamp\"}, inplace = True)"
   ]
  },
  {
   "cell_type": "code",
   "execution_count": 7,
   "id": "dd32a931",
   "metadata": {
    "ExecuteTime": {
     "end_time": "2023-03-30T19:15:55.410147Z",
     "start_time": "2023-03-30T19:15:54.736147Z"
    }
   },
   "outputs": [
    {
     "name": "stdout",
     "output_type": "stream",
     "text": [
      "There are 24303 users\n",
      "Filtered 17693 invalid observations.\n"
     ]
    }
   ],
   "source": [
    "training, testset_valid, holdout_valid, testset, holdout, data_description, data_index = full_preproccessing(data)"
   ]
  },
  {
   "cell_type": "code",
   "execution_count": 8,
   "id": "951a2eaa",
   "metadata": {
    "ExecuteTime": {
     "end_time": "2023-03-30T19:15:57.425144Z",
     "start_time": "2023-03-30T19:15:57.416138Z"
    }
   },
   "outputs": [],
   "source": [
    "del data"
   ]
  },
  {
   "cell_type": "code",
   "execution_count": 9,
   "id": "ec12dc75",
   "metadata": {
    "ExecuteTime": {
     "end_time": "2023-03-30T19:15:58.255943Z",
     "start_time": "2023-03-30T19:15:58.251943Z"
    }
   },
   "outputs": [],
   "source": [
    "# alpha = 4\n",
    "# a = training[training['rating']>=alpha][['userid', 'movieid']]\n",
    "# a.columns = ['uid', 'sid']\n",
    "# a.to_csv(\"train.csv\", index=None)\n",
    "# b = testset_valid[(testset_valid['rating']>=alpha)&(testset_valid['movieid'].isin(training['movieid']))][['userid', 'movieid']]\n",
    "# b.columns = ['uid', 'sid']\n",
    "# b.to_csv(\"validation_tr.csv\", index=None)\n",
    "# c = holdout_valid[(holdout_valid['rating']>=alpha)&(holdout_valid['movieid'].isin(training['movieid']))&(holdout_valid['userid'].isin(testset_valid['userid']))][['userid', 'movieid']]\n",
    "# c.columns = ['uid', 'sid']\n",
    "# c.to_csv(\"validation_te.csv\", index=None)\n",
    "# d = testset[(testset['rating']>=alpha)&(testset['movieid'].isin(training['movieid']))][['userid', 'movieid']]\n",
    "# d.columns = ['uid', 'sid']\n",
    "# d.to_csv(\"test_tr.csv\", index=None)\n",
    "# e = holdout[(holdout['rating']>=alpha)&(holdout['movieid'].isin(training['movieid']))&(holdout['userid'].isin(testset['userid']))][['userid', 'movieid']]\n",
    "# e.columns = ['uid', 'sid']\n",
    "# e.to_csv(\"test_te.csv\", index=None)"
   ]
  },
  {
   "cell_type": "markdown",
   "id": "0e6d164f",
   "metadata": {},
   "source": [
    "# Baselines"
   ]
  },
  {
   "cell_type": "markdown",
   "id": "a9f5b040",
   "metadata": {},
   "source": [
    "## TopPop"
   ]
  },
  {
   "cell_type": "code",
   "execution_count": 7,
   "id": "1efeadd0",
   "metadata": {
    "ExecuteTime": {
     "end_time": "2023-03-18T11:52:36.629043Z",
     "start_time": "2023-03-18T11:52:36.620046Z"
    },
    "code_folding": [
     0,
     5
    ]
   },
   "outputs": [],
   "source": [
    "def build_popularity_model(trainset, trainset_description):\n",
    "    itemid = trainset_description['items']\n",
    "    item_popularity = trainset[itemid].value_counts()\n",
    "    return item_popularity\n",
    "\n",
    "def popularity_model_scoring(params, testset, testset_description):\n",
    "    item_popularity = params\n",
    "    n_items = item_popularity.index.max() + 1\n",
    "    n_users = testset_description['n_test_users']\n",
    "    # fill in popularity scores for each item with indices from 0 to n_items-1\n",
    "    popularity_scores = np.zeros(n_items,)\n",
    "    popularity_scores[item_popularity.index] = item_popularity.values\n",
    "    # same scores for each test user\n",
    "    scores = np.tile(popularity_scores, n_users).reshape(n_users, n_items)\n",
    "    return scores"
   ]
  },
  {
   "cell_type": "markdown",
   "id": "a3459acd",
   "metadata": {},
   "source": [
    "## Normalized PureSVD"
   ]
  },
  {
   "cell_type": "code",
   "execution_count": 16,
   "id": "d6573d3b",
   "metadata": {
    "ExecuteTime": {
     "end_time": "2023-03-18T14:42:10.677393Z",
     "start_time": "2023-03-18T14:42:10.665389Z"
    },
    "code_folding": [
     0,
     6,
     16
    ]
   },
   "outputs": [],
   "source": [
    "def matrix_from_observations(data, data_description):\n",
    "    useridx = data[data_description['users']]\n",
    "    itemidx = data[data_description['items']]\n",
    "    values = data[data_description['feedback']]\n",
    "    return csr_matrix((values, (useridx, itemidx)), shape=(useridx.values.max() + 1, data_description[\"n_items\"]), dtype='f8')\n",
    "\n",
    "def build_svd_model(config, data, data_description):\n",
    "    source_matrix = matrix_from_observations(data, data_description)\n",
    "    #print(source_matrix.shape)\n",
    "    D = norm(source_matrix, axis=0)\n",
    "    A = source_matrix.dot(diags(D**(config['f']-1)))\n",
    "    _, _, vt = svds(A, k=config['rank'], return_singular_vectors='vh')\n",
    "#     singular_values = s[::-1]\n",
    "    item_factors = np.ascontiguousarray(vt[::-1, :].T)\n",
    "    return item_factors\n",
    "\n",
    "def svd_model_scoring(params, data, data_description):\n",
    "    item_factors = params\n",
    "    test_data = data.assign(\n",
    "        userid = pd.factorize(data['userid'])[0]\n",
    "    )\n",
    "    test_matrix = matrix_from_observations(test_data, data_description)\n",
    "    #print(test_matrix.shape, item_factors.shape)\n",
    "    scores = test_matrix.dot(item_factors) @ item_factors.T\n",
    "    return scores"
   ]
  },
  {
   "cell_type": "markdown",
   "id": "4db38f88",
   "metadata": {},
   "source": [
    "## EASEr"
   ]
  },
  {
   "cell_type": "code",
   "execution_count": 8,
   "id": "f3400353",
   "metadata": {
    "ExecuteTime": {
     "end_time": "2023-03-18T11:52:38.081061Z",
     "start_time": "2023-03-18T11:52:38.067062Z"
    },
    "code_folding": [
     0,
     6,
     17
    ]
   },
   "outputs": [],
   "source": [
    "def matrix_from_observations(data, data_description):\n",
    "    useridx = data[data_description['users']]\n",
    "    itemidx = data[data_description['items']]\n",
    "    values = data[data_description['feedback']]\n",
    "    return csr_matrix((values, (useridx, itemidx)), shape=(useridx.values.max() + 1, data_description[\"n_items\"]), dtype='f8')\n",
    "\n",
    "def easer(data, data_description, lmbda=500):\n",
    "    X = matrix_from_observations(data, data_description)\n",
    "    G = X.T.dot(X)\n",
    "    diag_indices = np.diag_indices(G.shape[0])\n",
    "    G[diag_indices] += lmbda\n",
    "    P = np.linalg.inv(G.A)\n",
    "    B = P / (-np.diag(P))\n",
    "    B[diag_indices] = 0\n",
    "    \n",
    "    return B\n",
    "\n",
    "def easer_scoring(params, data, data_description):\n",
    "    item_factors = params\n",
    "    test_data = data.assign(\n",
    "        userid = pd.factorize(data['userid'])[0]\n",
    "    )\n",
    "    test_matrix = matrix_from_observations(test_data, data_description)\n",
    "    scores = test_matrix.dot(item_factors)\n",
    "    return scores"
   ]
  },
  {
   "cell_type": "markdown",
   "id": "a7a21cc5",
   "metadata": {},
   "source": [
    "## CoFFee"
   ]
  },
  {
   "cell_type": "code",
   "execution_count": 8,
   "id": "f9f5f89a",
   "metadata": {
    "ExecuteTime": {
     "end_time": "2023-03-18T10:59:15.495179Z",
     "start_time": "2023-03-18T10:59:15.471183Z"
    },
    "code_folding": [
     0,
     24
    ]
   },
   "outputs": [],
   "source": [
    "def tf_model_build(config, data, data_description):\n",
    "    userid = data_description[\"users\"]\n",
    "    itemid = data_description[\"items\"]\n",
    "    feedback = data_description[\"feedback\"]\n",
    "\n",
    "    idx = data[[userid, itemid, feedback]].values\n",
    "    idx[:, -1] = idx[:, -1] - data_description['min_rating'] # works only for integer ratings!\n",
    "    val = np.ones(idx.shape[0], dtype='f8')\n",
    "    \n",
    "    n_users = data_description[\"n_users\"]\n",
    "    n_items = data_description[\"n_items\"]\n",
    "    n_ratings = data_description[\"n_ratings\"]\n",
    "    shape = (n_users, n_items, n_ratings)\n",
    "    core_shape = config['mlrank']\n",
    "    num_iters = config[\"num_iters\"]\n",
    "    \n",
    "    u0, u1, u2, g = hooi(\n",
    "        idx, val, shape, core_shape,\n",
    "        num_iters=num_iters,\n",
    "        parallel_ttm=False, growth_tol=0.01,\n",
    "    )\n",
    "    return u0, u1, u2\n",
    "        \n",
    "\n",
    "def tf_scoring(params, data, data_description):\n",
    "    user_factors, item_factors, feedback_factors = params\n",
    "    userid = data_description[\"users\"]\n",
    "    itemid = data_description[\"items\"]\n",
    "    feedback = data_description[\"feedback\"]\n",
    "\n",
    "    data = data.sort_values(userid)\n",
    "    useridx = data[userid].values\n",
    "    itemidx = data[itemid].values\n",
    "    ratings = data[feedback].values\n",
    "    ratings = ratings - data_description['min_rating'] # works only for integer ratings!\n",
    "    \n",
    "    tensor_outer = tensor_outer_at('cpu')\n",
    "    # use the fact that test data is sorted by users for reduction:\n",
    "    scores = tensor_outer(\n",
    "        1.0,\n",
    "        item_factors,\n",
    "        feedback_factors,\n",
    "        itemidx,\n",
    "        ratings\n",
    "    )\n",
    "    scores = np.add.reduceat(scores, np.r_[0, np.where(np.diff(useridx))[0]+1])\n",
    "    scores = np.tensordot(\n",
    "        scores,\n",
    "        feedback_factors[-1, :],\n",
    "        axes=(2, 0)\n",
    "    ).dot(item_factors.T)\n",
    "    return scores"
   ]
  },
  {
   "cell_type": "markdown",
   "id": "22537ce2",
   "metadata": {},
   "source": [
    "## Simple AE"
   ]
  },
  {
   "cell_type": "code",
   "execution_count": 10,
   "id": "709f370d",
   "metadata": {
    "ExecuteTime": {
     "end_time": "2023-03-30T19:16:02.723223Z",
     "start_time": "2023-03-30T19:16:02.705225Z"
    },
    "code_folding": []
   },
   "outputs": [],
   "source": [
    "class SimpleDataset(Dataset):\n",
    "    def __init__(self, data, augment=False):\n",
    "        self.data = data\n",
    "        self.augment = augment\n",
    "\n",
    "    def __len__(self):\n",
    "        return self.data.shape[0]\n",
    "\n",
    "    def __getitem__(self, idx):\n",
    "        if self.augment:\n",
    "            num_noise = np.random.randint(0, int(0.1*self.data.shape[1]))\n",
    "            idxs = torch.randint(0, self.data.shape[1], size=(num_noise,))\n",
    "            noised_input = self.data[idx].detach().clone().to_dense()\n",
    "            noised_input[idxs] = torch.distributions.bernoulli.Bernoulli(0.5).sample(sample_shape=(num_noise,))\n",
    "            \n",
    "            useridx = np.zeros_like(noised_input)\n",
    "            itemidx = np.arange(self.data.shape[1])\n",
    "            noised_input = torch.sparse_coo_tensor(np.array([itemidx,]), noised_input,\n",
    "                                                   size=torch.Size((data_description[\"n_items\"],)), dtype=torch.float32)\n",
    "            return noised_input, self.data[idx]\n",
    "        else:\n",
    "            return self.data[idx], self.data[idx]"
   ]
  },
  {
   "cell_type": "code",
   "execution_count": 11,
   "id": "227b687d",
   "metadata": {
    "ExecuteTime": {
     "end_time": "2023-03-30T19:16:03.147397Z",
     "start_time": "2023-03-30T19:16:03.130398Z"
    },
    "code_folding": [
     0
    ]
   },
   "outputs": [],
   "source": [
    "class baseAE(nn.Module):\n",
    "    def __init__(self, n_items, hid):\n",
    "        super(baseAE, self).__init__()\n",
    "        self.V = nn.Linear(n_items, hid)\n",
    "        self.VT = nn.Linear(hid, n_items)\n",
    "        self.relu = nn.ReLU()\n",
    "\n",
    "    def forward(self, x):\n",
    "        # encode\n",
    "        x = self.V(x)\n",
    "        x = self.relu(x)\n",
    "        # decode\n",
    "        output = self.VT(x)\n",
    "#         output = self.relu(output)\n",
    "        return output"
   ]
  },
  {
   "cell_type": "markdown",
   "id": "fdb73016",
   "metadata": {},
   "source": [
    "## RecVAE"
   ]
  },
  {
   "cell_type": "code",
   "execution_count": 7,
   "id": "913c6190",
   "metadata": {
    "ExecuteTime": {
     "end_time": "2023-03-15T10:46:52.870443Z",
     "start_time": "2023-03-15T10:46:52.809899Z"
    }
   },
   "outputs": [
    {
     "data": {
      "text/plain": [
       "2490400"
      ]
     },
     "execution_count": 7,
     "metadata": {},
     "output_type": "execute_result"
    }
   ],
   "source": [
    "vae = RecVAE(600, 200, 1000)\n",
    "sum(p.numel() for p in vae.parameters() if p.requires_grad)"
   ]
  },
  {
   "cell_type": "markdown",
   "id": "eb43703f",
   "metadata": {},
   "source": [
    "# Tuning"
   ]
  },
  {
   "cell_type": "markdown",
   "id": "15644cdd",
   "metadata": {},
   "source": [
    "## Normalized PureSVD"
   ]
  },
  {
   "cell_type": "code",
   "execution_count": 14,
   "id": "89ab9696",
   "metadata": {
    "ExecuteTime": {
     "end_time": "2023-03-18T14:42:04.227386Z",
     "start_time": "2023-03-18T14:42:04.215392Z"
    },
    "code_folding": [
     1
    ]
   },
   "outputs": [],
   "source": [
    "rank_grid = []\n",
    "for i in range(5, 10):\n",
    "    rank_grid.append(2 * 2 ** i)\n",
    "    rank_grid.append(3 * 2 ** i)\n",
    "    \n",
    "rank_grid = np.array(rank_grid)\n",
    "\n",
    "f_grid = np.linspace(0, 2, 21)"
   ]
  },
  {
   "cell_type": "code",
   "execution_count": 17,
   "id": "78685dd9",
   "metadata": {
    "ExecuteTime": {
     "end_time": "2023-03-18T14:43:14.788813Z",
     "start_time": "2023-03-18T14:42:13.601389Z"
    },
    "code_folding": []
   },
   "outputs": [
    {
     "data": {
      "application/vnd.jupyter.widget-view+json": {
       "model_id": "440f1917f8964fb1b3eb28f695e1b97c",
       "version_major": 2,
       "version_minor": 0
      },
      "text/plain": [
       "  0%|          | 0/210 [00:00<?, ?it/s]"
      ]
     },
     "metadata": {},
     "output_type": "display_data"
    },
    {
     "ename": "MemoryError",
     "evalue": "Unable to allocate 903. KiB for an array with shape (115526,) and data type float64",
     "output_type": "error",
     "traceback": [
      "\u001b[1;31m---------------------------------------------------------------------------\u001b[0m",
      "\u001b[1;31mMemoryError\u001b[0m                               Traceback (most recent call last)",
      "\u001b[1;32m~\\AppData\\Local\\Temp\\ipykernel_8968\\203975642.py\u001b[0m in \u001b[0;36m<module>\u001b[1;34m\u001b[0m\n\u001b[0;32m      5\u001b[0m     \u001b[0mr\u001b[0m\u001b[1;33m,\u001b[0m \u001b[0mf\u001b[0m \u001b[1;33m=\u001b[0m \u001b[0mparams\u001b[0m\u001b[1;33m\u001b[0m\u001b[1;33m\u001b[0m\u001b[0m\n\u001b[0;32m      6\u001b[0m     \u001b[0msvd_config\u001b[0m \u001b[1;33m=\u001b[0m \u001b[1;33m{\u001b[0m\u001b[1;34m'rank'\u001b[0m\u001b[1;33m:\u001b[0m \u001b[0mint\u001b[0m\u001b[1;33m(\u001b[0m\u001b[0mr\u001b[0m\u001b[1;33m)\u001b[0m\u001b[1;33m,\u001b[0m \u001b[1;34m'f'\u001b[0m\u001b[1;33m:\u001b[0m \u001b[0mf\u001b[0m\u001b[1;33m}\u001b[0m\u001b[1;33m\u001b[0m\u001b[1;33m\u001b[0m\u001b[0m\n\u001b[1;32m----> 7\u001b[1;33m     \u001b[0msvd_params\u001b[0m \u001b[1;33m=\u001b[0m \u001b[0mbuild_svd_model\u001b[0m\u001b[1;33m(\u001b[0m\u001b[0msvd_config\u001b[0m\u001b[1;33m,\u001b[0m \u001b[0mtraining\u001b[0m\u001b[1;33m,\u001b[0m \u001b[0mdata_description\u001b[0m\u001b[1;33m)\u001b[0m\u001b[1;33m\u001b[0m\u001b[1;33m\u001b[0m\u001b[0m\n\u001b[0m\u001b[0;32m      8\u001b[0m     \u001b[0msvd_scores\u001b[0m \u001b[1;33m=\u001b[0m \u001b[0msvd_model_scoring\u001b[0m\u001b[1;33m(\u001b[0m\u001b[0msvd_params\u001b[0m\u001b[1;33m,\u001b[0m \u001b[0mtestset_valid\u001b[0m\u001b[1;33m,\u001b[0m \u001b[0mdata_description\u001b[0m\u001b[1;33m)\u001b[0m\u001b[1;33m\u001b[0m\u001b[1;33m\u001b[0m\u001b[0m\n\u001b[0;32m      9\u001b[0m     \u001b[0mdownvote_seen_items\u001b[0m\u001b[1;33m(\u001b[0m\u001b[0msvd_scores\u001b[0m\u001b[1;33m,\u001b[0m \u001b[0mtestset_valid\u001b[0m\u001b[1;33m,\u001b[0m \u001b[0mdata_description\u001b[0m\u001b[1;33m)\u001b[0m\u001b[1;33m\u001b[0m\u001b[1;33m\u001b[0m\u001b[0m\n",
      "\u001b[1;32m~\\AppData\\Local\\Temp\\ipykernel_8968\\2258178731.py\u001b[0m in \u001b[0;36mbuild_svd_model\u001b[1;34m(config, data, data_description)\u001b[0m\n\u001b[0;32m      8\u001b[0m     \u001b[0msource_matrix\u001b[0m \u001b[1;33m=\u001b[0m \u001b[0mmatrix_from_observations\u001b[0m\u001b[1;33m(\u001b[0m\u001b[0mdata\u001b[0m\u001b[1;33m,\u001b[0m \u001b[0mdata_description\u001b[0m\u001b[1;33m)\u001b[0m\u001b[1;33m\u001b[0m\u001b[1;33m\u001b[0m\u001b[0m\n\u001b[0;32m      9\u001b[0m     \u001b[1;31m#print(source_matrix.shape)\u001b[0m\u001b[1;33m\u001b[0m\u001b[1;33m\u001b[0m\u001b[0m\n\u001b[1;32m---> 10\u001b[1;33m     \u001b[0mD\u001b[0m \u001b[1;33m=\u001b[0m \u001b[0mnorm\u001b[0m\u001b[1;33m(\u001b[0m\u001b[0msource_matrix\u001b[0m\u001b[1;33m,\u001b[0m \u001b[0maxis\u001b[0m\u001b[1;33m=\u001b[0m\u001b[1;36m0\u001b[0m\u001b[1;33m)\u001b[0m\u001b[1;33m\u001b[0m\u001b[1;33m\u001b[0m\u001b[0m\n\u001b[0m\u001b[0;32m     11\u001b[0m     \u001b[0mA\u001b[0m \u001b[1;33m=\u001b[0m \u001b[0msource_matrix\u001b[0m\u001b[1;33m.\u001b[0m\u001b[0mdot\u001b[0m\u001b[1;33m(\u001b[0m\u001b[0mdiags\u001b[0m\u001b[1;33m(\u001b[0m\u001b[0mD\u001b[0m\u001b[1;33m**\u001b[0m\u001b[1;33m(\u001b[0m\u001b[0mconfig\u001b[0m\u001b[1;33m[\u001b[0m\u001b[1;34m'f'\u001b[0m\u001b[1;33m]\u001b[0m\u001b[1;33m-\u001b[0m\u001b[1;36m1\u001b[0m\u001b[1;33m)\u001b[0m\u001b[1;33m)\u001b[0m\u001b[1;33m)\u001b[0m\u001b[1;33m\u001b[0m\u001b[1;33m\u001b[0m\u001b[0m\n\u001b[0;32m     12\u001b[0m     \u001b[0m_\u001b[0m\u001b[1;33m,\u001b[0m \u001b[0m_\u001b[0m\u001b[1;33m,\u001b[0m \u001b[0mvt\u001b[0m \u001b[1;33m=\u001b[0m \u001b[0msvds\u001b[0m\u001b[1;33m(\u001b[0m\u001b[0mA\u001b[0m\u001b[1;33m,\u001b[0m \u001b[0mk\u001b[0m\u001b[1;33m=\u001b[0m\u001b[0mconfig\u001b[0m\u001b[1;33m[\u001b[0m\u001b[1;34m'rank'\u001b[0m\u001b[1;33m]\u001b[0m\u001b[1;33m,\u001b[0m \u001b[0mreturn_singular_vectors\u001b[0m\u001b[1;33m=\u001b[0m\u001b[1;34m'vh'\u001b[0m\u001b[1;33m)\u001b[0m\u001b[1;33m\u001b[0m\u001b[1;33m\u001b[0m\u001b[0m\n",
      "\u001b[1;32m~\\anaconda3\\lib\\site-packages\\scipy\\linalg\\_misc.py\u001b[0m in \u001b[0;36mnorm\u001b[1;34m(a, ord, axis, keepdims, check_finite)\u001b[0m\n\u001b[0;32m    175\u001b[0m \u001b[1;33m\u001b[0m\u001b[0m\n\u001b[0;32m    176\u001b[0m     \u001b[1;31m# fall back to numpy in every other case\u001b[0m\u001b[1;33m\u001b[0m\u001b[1;33m\u001b[0m\u001b[0m\n\u001b[1;32m--> 177\u001b[1;33m     \u001b[1;32mreturn\u001b[0m \u001b[0mnp\u001b[0m\u001b[1;33m.\u001b[0m\u001b[0mlinalg\u001b[0m\u001b[1;33m.\u001b[0m\u001b[0mnorm\u001b[0m\u001b[1;33m(\u001b[0m\u001b[0ma\u001b[0m\u001b[1;33m,\u001b[0m \u001b[0mord\u001b[0m\u001b[1;33m=\u001b[0m\u001b[0mord\u001b[0m\u001b[1;33m,\u001b[0m \u001b[0maxis\u001b[0m\u001b[1;33m=\u001b[0m\u001b[0maxis\u001b[0m\u001b[1;33m,\u001b[0m \u001b[0mkeepdims\u001b[0m\u001b[1;33m=\u001b[0m\u001b[0mkeepdims\u001b[0m\u001b[1;33m)\u001b[0m\u001b[1;33m\u001b[0m\u001b[1;33m\u001b[0m\u001b[0m\n\u001b[0m\u001b[0;32m    178\u001b[0m \u001b[1;33m\u001b[0m\u001b[0m\n\u001b[0;32m    179\u001b[0m \u001b[1;33m\u001b[0m\u001b[0m\n",
      "\u001b[1;32m<__array_function__ internals>\u001b[0m in \u001b[0;36mnorm\u001b[1;34m(*args, **kwargs)\u001b[0m\n",
      "\u001b[1;32m~\\anaconda3\\lib\\site-packages\\numpy\\linalg\\linalg.py\u001b[0m in \u001b[0;36mnorm\u001b[1;34m(x, ord, axis, keepdims)\u001b[0m\n\u001b[0;32m   2558\u001b[0m         \u001b[1;32melif\u001b[0m \u001b[0mord\u001b[0m \u001b[1;32mis\u001b[0m \u001b[1;32mNone\u001b[0m \u001b[1;32mor\u001b[0m \u001b[0mord\u001b[0m \u001b[1;33m==\u001b[0m \u001b[1;36m2\u001b[0m\u001b[1;33m:\u001b[0m\u001b[1;33m\u001b[0m\u001b[1;33m\u001b[0m\u001b[0m\n\u001b[0;32m   2559\u001b[0m             \u001b[1;31m# special case for speedup\u001b[0m\u001b[1;33m\u001b[0m\u001b[1;33m\u001b[0m\u001b[0m\n\u001b[1;32m-> 2560\u001b[1;33m             \u001b[0ms\u001b[0m \u001b[1;33m=\u001b[0m \u001b[1;33m(\u001b[0m\u001b[0mx\u001b[0m\u001b[1;33m.\u001b[0m\u001b[0mconj\u001b[0m\u001b[1;33m(\u001b[0m\u001b[1;33m)\u001b[0m \u001b[1;33m*\u001b[0m \u001b[0mx\u001b[0m\u001b[1;33m)\u001b[0m\u001b[1;33m.\u001b[0m\u001b[0mreal\u001b[0m\u001b[1;33m\u001b[0m\u001b[1;33m\u001b[0m\u001b[0m\n\u001b[0m\u001b[0;32m   2561\u001b[0m             \u001b[1;32mreturn\u001b[0m \u001b[0msqrt\u001b[0m\u001b[1;33m(\u001b[0m\u001b[0madd\u001b[0m\u001b[1;33m.\u001b[0m\u001b[0mreduce\u001b[0m\u001b[1;33m(\u001b[0m\u001b[0ms\u001b[0m\u001b[1;33m,\u001b[0m \u001b[0maxis\u001b[0m\u001b[1;33m=\u001b[0m\u001b[0maxis\u001b[0m\u001b[1;33m,\u001b[0m \u001b[0mkeepdims\u001b[0m\u001b[1;33m=\u001b[0m\u001b[0mkeepdims\u001b[0m\u001b[1;33m)\u001b[0m\u001b[1;33m)\u001b[0m\u001b[1;33m\u001b[0m\u001b[1;33m\u001b[0m\u001b[0m\n\u001b[0;32m   2562\u001b[0m         \u001b[1;31m# None of the str-type keywords for ord ('fro', 'nuc')\u001b[0m\u001b[1;33m\u001b[0m\u001b[1;33m\u001b[0m\u001b[0m\n",
      "\u001b[1;32m~\\anaconda3\\lib\\site-packages\\scipy\\sparse\\_base.py\u001b[0m in \u001b[0;36m__mul__\u001b[1;34m(self, other)\u001b[0m\n\u001b[0;32m    588\u001b[0m \u001b[1;33m\u001b[0m\u001b[0m\n\u001b[0;32m    589\u001b[0m     \u001b[1;32mdef\u001b[0m \u001b[0m__mul__\u001b[0m\u001b[1;33m(\u001b[0m\u001b[0mself\u001b[0m\u001b[1;33m,\u001b[0m \u001b[0mother\u001b[0m\u001b[1;33m)\u001b[0m\u001b[1;33m:\u001b[0m\u001b[1;33m\u001b[0m\u001b[1;33m\u001b[0m\u001b[0m\n\u001b[1;32m--> 590\u001b[1;33m         \u001b[1;32mreturn\u001b[0m \u001b[0mself\u001b[0m\u001b[1;33m.\u001b[0m\u001b[0m_mul_dispatch\u001b[0m\u001b[1;33m(\u001b[0m\u001b[0mother\u001b[0m\u001b[1;33m)\u001b[0m\u001b[1;33m\u001b[0m\u001b[1;33m\u001b[0m\u001b[0m\n\u001b[0m\u001b[0;32m    591\u001b[0m \u001b[1;33m\u001b[0m\u001b[0m\n\u001b[0;32m    592\u001b[0m     \u001b[1;31m# by default, use CSR for __mul__ handlers\u001b[0m\u001b[1;33m\u001b[0m\u001b[1;33m\u001b[0m\u001b[0m\n",
      "\u001b[1;32m~\\anaconda3\\lib\\site-packages\\scipy\\sparse\\_base.py\u001b[0m in \u001b[0;36m_mul_dispatch\u001b[1;34m(self, other)\u001b[0m\n\u001b[0;32m    534\u001b[0m         \u001b[1;32mif\u001b[0m \u001b[0misscalarlike\u001b[0m\u001b[1;33m(\u001b[0m\u001b[0mother\u001b[0m\u001b[1;33m)\u001b[0m\u001b[1;33m:\u001b[0m\u001b[1;33m\u001b[0m\u001b[1;33m\u001b[0m\u001b[0m\n\u001b[0;32m    535\u001b[0m             \u001b[1;31m# scalar value\u001b[0m\u001b[1;33m\u001b[0m\u001b[1;33m\u001b[0m\u001b[0m\n\u001b[1;32m--> 536\u001b[1;33m             \u001b[1;32mreturn\u001b[0m \u001b[0mself\u001b[0m\u001b[1;33m.\u001b[0m\u001b[0m_mul_scalar\u001b[0m\u001b[1;33m(\u001b[0m\u001b[0mother\u001b[0m\u001b[1;33m)\u001b[0m\u001b[1;33m\u001b[0m\u001b[1;33m\u001b[0m\u001b[0m\n\u001b[0m\u001b[0;32m    537\u001b[0m \u001b[1;33m\u001b[0m\u001b[0m\n\u001b[0;32m    538\u001b[0m         \u001b[1;32mif\u001b[0m \u001b[0missparse\u001b[0m\u001b[1;33m(\u001b[0m\u001b[0mother\u001b[0m\u001b[1;33m)\u001b[0m\u001b[1;33m:\u001b[0m\u001b[1;33m\u001b[0m\u001b[1;33m\u001b[0m\u001b[0m\n",
      "\u001b[1;32m~\\anaconda3\\lib\\site-packages\\scipy\\sparse\\_data.py\u001b[0m in \u001b[0;36m_mul_scalar\u001b[1;34m(self, other)\u001b[0m\n\u001b[0;32m    122\u001b[0m \u001b[1;33m\u001b[0m\u001b[0m\n\u001b[0;32m    123\u001b[0m     \u001b[1;32mdef\u001b[0m \u001b[0m_mul_scalar\u001b[0m\u001b[1;33m(\u001b[0m\u001b[0mself\u001b[0m\u001b[1;33m,\u001b[0m \u001b[0mother\u001b[0m\u001b[1;33m)\u001b[0m\u001b[1;33m:\u001b[0m\u001b[1;33m\u001b[0m\u001b[1;33m\u001b[0m\u001b[0m\n\u001b[1;32m--> 124\u001b[1;33m         \u001b[1;32mreturn\u001b[0m \u001b[0mself\u001b[0m\u001b[1;33m.\u001b[0m\u001b[0m_with_data\u001b[0m\u001b[1;33m(\u001b[0m\u001b[0mself\u001b[0m\u001b[1;33m.\u001b[0m\u001b[0mdata\u001b[0m \u001b[1;33m*\u001b[0m \u001b[0mother\u001b[0m\u001b[1;33m)\u001b[0m\u001b[1;33m\u001b[0m\u001b[1;33m\u001b[0m\u001b[0m\n\u001b[0m\u001b[0;32m    125\u001b[0m \u001b[1;33m\u001b[0m\u001b[0m\n\u001b[0;32m    126\u001b[0m \u001b[1;33m\u001b[0m\u001b[0m\n",
      "\u001b[1;32m~\\anaconda3\\lib\\site-packages\\scipy\\sparse\\_base.py\u001b[0m in \u001b[0;36m__rmul__\u001b[1;34m(self, other)\u001b[0m\n\u001b[0;32m    618\u001b[0m \u001b[1;33m\u001b[0m\u001b[0m\n\u001b[0;32m    619\u001b[0m     \u001b[1;32mdef\u001b[0m \u001b[0m__rmul__\u001b[0m\u001b[1;33m(\u001b[0m\u001b[0mself\u001b[0m\u001b[1;33m,\u001b[0m \u001b[0mother\u001b[0m\u001b[1;33m)\u001b[0m\u001b[1;33m:\u001b[0m  \u001b[1;31m# other * self\u001b[0m\u001b[1;33m\u001b[0m\u001b[1;33m\u001b[0m\u001b[0m\n\u001b[1;32m--> 620\u001b[1;33m         \u001b[1;32mreturn\u001b[0m \u001b[0mself\u001b[0m\u001b[1;33m.\u001b[0m\u001b[0m_rmul_dispatch\u001b[0m\u001b[1;33m(\u001b[0m\u001b[0mother\u001b[0m\u001b[1;33m)\u001b[0m\u001b[1;33m\u001b[0m\u001b[1;33m\u001b[0m\u001b[0m\n\u001b[0m\u001b[0;32m    621\u001b[0m \u001b[1;33m\u001b[0m\u001b[0m\n\u001b[0;32m    622\u001b[0m     \u001b[1;31m#######################\u001b[0m\u001b[1;33m\u001b[0m\u001b[1;33m\u001b[0m\u001b[0m\n",
      "\u001b[1;32m~\\anaconda3\\lib\\site-packages\\scipy\\sparse\\_base.py\u001b[0m in \u001b[0;36m_rmul_dispatch\u001b[1;34m(self, other)\u001b[0m\n\u001b[0;32m    605\u001b[0m     \u001b[1;32mdef\u001b[0m \u001b[0m_rmul_dispatch\u001b[0m\u001b[1;33m(\u001b[0m\u001b[0mself\u001b[0m\u001b[1;33m,\u001b[0m \u001b[0mother\u001b[0m\u001b[1;33m)\u001b[0m\u001b[1;33m:\u001b[0m\u001b[1;33m\u001b[0m\u001b[1;33m\u001b[0m\u001b[0m\n\u001b[0;32m    606\u001b[0m         \u001b[1;32mif\u001b[0m \u001b[0misscalarlike\u001b[0m\u001b[1;33m(\u001b[0m\u001b[0mother\u001b[0m\u001b[1;33m)\u001b[0m\u001b[1;33m:\u001b[0m\u001b[1;33m\u001b[0m\u001b[1;33m\u001b[0m\u001b[0m\n\u001b[1;32m--> 607\u001b[1;33m             \u001b[1;32mreturn\u001b[0m \u001b[0mself\u001b[0m\u001b[1;33m.\u001b[0m\u001b[0m_mul_scalar\u001b[0m\u001b[1;33m(\u001b[0m\u001b[0mother\u001b[0m\u001b[1;33m)\u001b[0m\u001b[1;33m\u001b[0m\u001b[1;33m\u001b[0m\u001b[0m\n\u001b[0m\u001b[0;32m    608\u001b[0m         \u001b[1;32melse\u001b[0m\u001b[1;33m:\u001b[0m\u001b[1;33m\u001b[0m\u001b[1;33m\u001b[0m\u001b[0m\n\u001b[0;32m    609\u001b[0m             \u001b[1;31m# Don't use asarray unless we have to\u001b[0m\u001b[1;33m\u001b[0m\u001b[1;33m\u001b[0m\u001b[0m\n",
      "\u001b[1;32m~\\anaconda3\\lib\\site-packages\\scipy\\sparse\\_data.py\u001b[0m in \u001b[0;36m_mul_scalar\u001b[1;34m(self, other)\u001b[0m\n\u001b[0;32m    122\u001b[0m \u001b[1;33m\u001b[0m\u001b[0m\n\u001b[0;32m    123\u001b[0m     \u001b[1;32mdef\u001b[0m \u001b[0m_mul_scalar\u001b[0m\u001b[1;33m(\u001b[0m\u001b[0mself\u001b[0m\u001b[1;33m,\u001b[0m \u001b[0mother\u001b[0m\u001b[1;33m)\u001b[0m\u001b[1;33m:\u001b[0m\u001b[1;33m\u001b[0m\u001b[1;33m\u001b[0m\u001b[0m\n\u001b[1;32m--> 124\u001b[1;33m         \u001b[1;32mreturn\u001b[0m \u001b[0mself\u001b[0m\u001b[1;33m.\u001b[0m\u001b[0m_with_data\u001b[0m\u001b[1;33m(\u001b[0m\u001b[0mself\u001b[0m\u001b[1;33m.\u001b[0m\u001b[0mdata\u001b[0m \u001b[1;33m*\u001b[0m \u001b[0mother\u001b[0m\u001b[1;33m)\u001b[0m\u001b[1;33m\u001b[0m\u001b[1;33m\u001b[0m\u001b[0m\n\u001b[0m\u001b[0;32m    125\u001b[0m \u001b[1;33m\u001b[0m\u001b[0m\n\u001b[0;32m    126\u001b[0m \u001b[1;33m\u001b[0m\u001b[0m\n",
      "\u001b[1;31mMemoryError\u001b[0m: Unable to allocate 903. KiB for an array with shape (115526,) and data type float64"
     ]
    }
   ],
   "source": [
    "hr_tf = {}\n",
    "mrr_tf = {}\n",
    "grid = list(zip(np.meshgrid(rank_grid, f_grid)[0].flatten(), np.meshgrid(rank_grid, f_grid)[1].flatten()))\n",
    "for params in tqdm(grid):\n",
    "    r, f = params\n",
    "    svd_config = {'rank': int(r), 'f': f}\n",
    "    svd_params = build_svd_model(svd_config, training, data_description)\n",
    "    svd_scores = svd_model_scoring(svd_params, testset_valid, data_description)\n",
    "    downvote_seen_items(svd_scores, testset_valid, data_description)\n",
    "    svd_recs = topn_recommendations(svd_scores, topn=10)\n",
    "    hr, hr_pos, hr_neg, mrr, mrr_pos, mrr_neg, cov, C = model_evaluate(svd_recs, holdout_valid, data_description)\n",
    "    hr_tf[f'r={r}, f={f:.2f}'] = hr\n",
    "    mrr_tf[f'r={r}, f={f:.2f}'] = mrr"
   ]
  },
  {
   "cell_type": "markdown",
   "id": "21e935a2",
   "metadata": {},
   "source": [
    "## EASEr"
   ]
  },
  {
   "cell_type": "code",
   "execution_count": 9,
   "id": "5de163de",
   "metadata": {
    "ExecuteTime": {
     "end_time": "2023-03-18T11:52:41.473523Z",
     "start_time": "2023-03-18T11:52:41.462520Z"
    }
   },
   "outputs": [],
   "source": [
    "lambda_grid = np.arange(10, 510, 10)"
   ]
  },
  {
   "cell_type": "code",
   "execution_count": 10,
   "id": "f2c7a561",
   "metadata": {
    "ExecuteTime": {
     "end_time": "2023-03-18T12:12:04.013323Z",
     "start_time": "2023-03-18T11:52:42.163398Z"
    }
   },
   "outputs": [
    {
     "data": {
      "application/vnd.jupyter.widget-view+json": {
       "model_id": "390211516f424fcca035487ea57848a6",
       "version_major": 2,
       "version_minor": 0
      },
      "text/plain": [
       "  0%|          | 0/50 [00:00<?, ?it/s]"
      ]
     },
     "metadata": {},
     "output_type": "display_data"
    }
   ],
   "source": [
    "hr_tf = {}\n",
    "mrr_tf = {}\n",
    "for lmbda in tqdm(lambda_grid):\n",
    "    easer_params = easer(training, data_description, lmbda=lmbda)\n",
    "    easer_scores = easer_scoring(easer_params, testset_valid, data_description)\n",
    "    downvote_seen_items(easer_scores, testset_valid, data_description)\n",
    "    easer_recs = topn_recommendations(easer_scores, topn=10)\n",
    "    hr, hr_pos, hr_neg, mrr, mrr_pos, mrr_neg, cov, C = model_evaluate(easer_recs, holdout_valid, data_description)\n",
    "    hr_tf[lmbda] = hr\n",
    "    mrr_tf[lmbda] = mrr"
   ]
  },
  {
   "cell_type": "code",
   "execution_count": 14,
   "id": "cacc776c",
   "metadata": {
    "ExecuteTime": {
     "end_time": "2023-03-18T12:14:02.396568Z",
     "start_time": "2023-03-18T12:14:02.381575Z"
    }
   },
   "outputs": [
    {
     "data": {
      "text/plain": [
       "{10: 0.06382978723404255,\n",
       " 20: 0.06758448060075094,\n",
       " 30: 0.07108886107634543,\n",
       " 40: 0.07459324155193993,\n",
       " 50: 0.07659574468085106,\n",
       " 60: 0.07909887359198998,\n",
       " 80: 0.08035043804755945,\n",
       " 70: 0.08110137672090113,\n",
       " 90: 0.08110137672090113,\n",
       " 110: 0.08110137672090113,\n",
       " 100: 0.08160200250312892,\n",
       " 120: 0.0818523153942428,\n",
       " 130: 0.08235294117647059,\n",
       " 140: 0.08260325406758448,\n",
       " 150: 0.08310387984981227,\n",
       " 160: 0.08310387984981227,\n",
       " 170: 0.08385481852315395,\n",
       " 180: 0.08485607008760951,\n",
       " 190: 0.0853566958698373,\n",
       " 200: 0.08610763454317898,\n",
       " 210: 0.08660826032540676,\n",
       " 220: 0.08685857321652066,\n",
       " 350: 0.08710888610763455,\n",
       " 360: 0.08710888610763455,\n",
       " 370: 0.08710888610763455,\n",
       " 280: 0.08735919899874844,\n",
       " 290: 0.08735919899874844,\n",
       " 340: 0.08735919899874844,\n",
       " 390: 0.08735919899874844,\n",
       " 260: 0.08760951188986234,\n",
       " 270: 0.08760951188986234,\n",
       " 320: 0.08760951188986234,\n",
       " 330: 0.08760951188986234,\n",
       " 380: 0.08760951188986234,\n",
       " 240: 0.08785982478097622,\n",
       " 250: 0.08785982478097622,\n",
       " 300: 0.08785982478097622,\n",
       " 400: 0.08785982478097622,\n",
       " 420: 0.08785982478097622,\n",
       " 440: 0.08785982478097622,\n",
       " 450: 0.08785982478097622,\n",
       " 460: 0.08785982478097622,\n",
       " 500: 0.08785982478097622,\n",
       " 230: 0.08811013767209011,\n",
       " 310: 0.08811013767209011,\n",
       " 410: 0.08811013767209011,\n",
       " 430: 0.08811013767209011,\n",
       " 470: 0.08811013767209011,\n",
       " 480: 0.08811013767209011,\n",
       " 490: 0.08811013767209011}"
      ]
     },
     "execution_count": 14,
     "metadata": {},
     "output_type": "execute_result"
    }
   ],
   "source": [
    "{k: v for k, v in sorted(hr_tf.items(), key=lambda item: item[1])}"
   ]
  },
  {
   "cell_type": "markdown",
   "id": "68036ac8",
   "metadata": {},
   "source": [
    "## CoFFee"
   ]
  },
  {
   "cell_type": "code",
   "execution_count": 13,
   "id": "340cbfec",
   "metadata": {
    "ExecuteTime": {
     "end_time": "2023-03-15T07:54:39.799707Z",
     "start_time": "2023-03-15T07:54:39.787733Z"
    },
    "code_folding": [
     0
    ]
   },
   "outputs": [],
   "source": [
    "config = {\n",
    "    \"scaling\": 1,\n",
    "    \"n_ratings\": data_description['n_ratings'],\n",
    "    \"num_iters\": 4,\n",
    "    \"params\": None,\n",
    "    \"randomized\": True,\n",
    "    \"growth_tol\": 1e-4,\n",
    "    \"seed\": 42\n",
    "}\n",
    "\n",
    "grid1 = 2**np.arange(4, 12)\n",
    "grid2 = np.arange(2, 5)\n",
    "grid = np.meshgrid(grid1, grid2)"
   ]
  },
  {
   "cell_type": "code",
   "execution_count": 12,
   "id": "53a658b0",
   "metadata": {
    "ExecuteTime": {
     "end_time": "2023-03-15T05:10:13.056097Z",
     "start_time": "2023-03-14T18:04:03.705111Z"
    }
   },
   "outputs": [
    {
     "data": {
      "application/vnd.jupyter.widget-view+json": {
       "model_id": "47c73822aed34917bcc38cbe33158a01",
       "version_major": 2,
       "version_minor": 0
      },
      "text/plain": [
       "  0%|          | 0/24 [00:00<?, ?it/s]"
      ]
     },
     "metadata": {},
     "output_type": "display_data"
    },
    {
     "name": "stdout",
     "output_type": "stream",
     "text": [
      "growth of the core: 1.0\n",
      "growth of the core: 0.17108376145578136\n",
      "growth of the core: 0.013724276626127477\n",
      "growth of the core: 0.002121752668025982\n",
      "Done\n",
      "growth of the core: 1.0\n",
      "growth of the core: 0.1944648491989059\n",
      "growth of the core: 0.02467704747273349\n",
      "growth of the core: 0.005981755700370528\n",
      "Done\n",
      "growth of the core: 1.0\n",
      "growth of the core: 0.16282144181882102\n",
      "growth of the core: 0.029912952116613767\n",
      "growth of the core: 0.013916498704220537\n",
      "Done\n",
      "growth of the core: 1.0\n",
      "growth of the core: 0.23035313236669488\n",
      "growth of the core: 0.034784826568450604\n",
      "growth of the core: 0.011006067169166954\n",
      "Done\n",
      "growth of the core: 1.0\n",
      "growth of the core: 0.17594728189169354\n",
      "growth of the core: 0.030919135038606764\n",
      "growth of the core: 0.008959802437981649\n",
      "Done\n",
      "growth of the core: 1.0\n",
      "growth of the core: 0.1619910003475919\n",
      "growth of the core: 0.025820893734533307\n",
      "growth of the core: 0.008684790230411127\n",
      "Done\n",
      "growth of the core: 1.0\n",
      "growth of the core: 0.19297251628357556\n",
      "growth of the core: 0.0166869500789291\n",
      "growth of the core: 0.002735988699718407\n",
      "Done\n",
      "growth of the core: 1.0\n",
      "growth of the core: 0.03365805809426123\n",
      "growth of the core: 0.0008554701181437297\n",
      "Done\n",
      "growth of the core: 1.0\n",
      "growth of the core: 0.18773021057361874\n",
      "growth of the core: 0.023485580886369872\n",
      "growth of the core: 0.002659556048777158\n",
      "Done\n",
      "growth of the core: 1.0\n",
      "growth of the core: 0.16512210868559962\n",
      "growth of the core: 0.017278446629316057\n",
      "growth of the core: 0.004602445609099242\n",
      "Done\n",
      "growth of the core: 1.0\n",
      "growth of the core: 0.15929073359665435\n",
      "growth of the core: 0.025305541756806483\n",
      "growth of the core: 0.0078376026165582\n",
      "Done\n",
      "growth of the core: 1.0\n",
      "growth of the core: 0.16186025603337792\n",
      "growth of the core: 0.029482781213242534\n",
      "growth of the core: 0.008479828949641123\n",
      "Done\n",
      "growth of the core: 1.0\n",
      "growth of the core: 0.18356884139666396\n",
      "growth of the core: 0.027622863356177967\n",
      "growth of the core: 0.006383339883576526\n",
      "Done\n",
      "growth of the core: 1.0\n",
      "growth of the core: 0.14756299088392333\n",
      "growth of the core: 0.01598896146257266\n",
      "growth of the core: 0.0029837460381056456\n",
      "Done\n",
      "growth of the core: 1.0\n",
      "growth of the core: 0.07797536394350588\n",
      "growth of the core: 0.0057760244850739466\n",
      "Done\n",
      "growth of the core: 1.0\n",
      "growth of the core: 0.02484645102380898\n",
      "growth of the core: 0.00032360705597963115\n",
      "Done\n",
      "growth of the core: 1.0\n",
      "growth of the core: 0.1546311128986518\n",
      "growth of the core: 0.011421921104295407\n",
      "growth of the core: 0.0014350922061708313\n",
      "Done\n",
      "growth of the core: 1.0\n",
      "growth of the core: 0.15019894761489438\n",
      "growth of the core: 0.01476013323060603\n",
      "growth of the core: 0.0035170418715658102\n",
      "Done\n",
      "growth of the core: 1.0\n",
      "growth of the core: 0.1412237555895496\n",
      "growth of the core: 0.017331407447011334\n",
      "growth of the core: 0.0051468849070099715\n",
      "Done\n",
      "growth of the core: 1.0\n",
      "growth of the core: 0.13931418099261722\n",
      "growth of the core: 0.019110758182288252\n",
      "growth of the core: 0.005454518632815006\n",
      "Done\n",
      "growth of the core: 1.0\n",
      "growth of the core: 0.15165213874775577\n",
      "growth of the core: 0.021250598195627295\n",
      "growth of the core: 0.005190066626399523\n",
      "Done\n",
      "growth of the core: 1.0\n",
      "growth of the core: 0.09112532372673275\n",
      "growth of the core: 0.007363870609810213\n",
      "Done\n",
      "growth of the core: 1.0\n",
      "growth of the core: 0.06379321183703744\n",
      "growth of the core: 0.0029658054249700632\n",
      "Done\n",
      "growth of the core: 1.0\n",
      "growth of the core: 0.015562310916317443\n",
      "growth of the core: 0.0001331197749348139\n",
      "Done\n"
     ]
    }
   ],
   "source": [
    "hr_tf = {}\n",
    "mrr_tf = {}\n",
    "for r12, r3 in tqdm(zip(grid[0].flatten(), grid[1].flatten()), total=24):\n",
    "    config['mlrank'] = (r12, r12, r3)\n",
    "    tf_params = tf_model_build(config, training, data_description)\n",
    "    tf_scores = tf_scoring(tf_params, testset_valid, data_description)\n",
    "    downvote_seen_items(tf_scores, testset_valid, data_description)\n",
    "    tf_recs = topn_recommendations(tf_scores, topn=10)\n",
    "    hr, hr_pos, hr_neg, mrr, mrr_pos, mrr_neg, cov, C = model_evaluate(tf_recs, holdout_valid, data_description)\n",
    "    hr_tf[(r12, r3)] = hr\n",
    "    mrr_tf[(r12, r3)] = mrr"
   ]
  },
  {
   "cell_type": "code",
   "execution_count": 13,
   "id": "68a0c8e0",
   "metadata": {
    "ExecuteTime": {
     "end_time": "2023-03-15T06:54:41.000976Z",
     "start_time": "2023-03-15T06:54:40.980625Z"
    }
   },
   "outputs": [
    {
     "data": {
      "text/plain": [
       "{(16, 2): 0.05102639296187683,\n",
       " (32, 2): 0.05689149560117302,\n",
       " (64, 2): 0.06099706744868035,\n",
       " (128, 2): 0.05337243401759531,\n",
       " (256, 2): 0.06862170087976541,\n",
       " (512, 2): 0.031085043988269796,\n",
       " (1024, 2): 0.021114369501466276,\n",
       " (2048, 2): 0.008211143695014663,\n",
       " (16, 3): 0.04868035190615835,\n",
       " (32, 3): 0.04574780058651026,\n",
       " (64, 3): 0.052785923753665684,\n",
       " (128, 3): 0.047507331378299114,\n",
       " (256, 3): 0.04105571847507332,\n",
       " (512, 3): 0.03284457478005865,\n",
       " (1024, 3): 0.01818181818181818,\n",
       " (2048, 3): 0.004105571847507331,\n",
       " (16, 4): 0.04281524926686217,\n",
       " (32, 4): 0.04574780058651026,\n",
       " (64, 4): 0.04926686217008798,\n",
       " (128, 4): 0.0469208211143695,\n",
       " (256, 4): 0.0404692082111437,\n",
       " (512, 4): 0.03167155425219941,\n",
       " (1024, 4): 0.01935483870967742,\n",
       " (2048, 4): 0.004105571847507331}"
      ]
     },
     "execution_count": 13,
     "metadata": {},
     "output_type": "execute_result"
    }
   ],
   "source": [
    "hr_tf"
   ]
  },
  {
   "cell_type": "markdown",
   "id": "1ec110e7",
   "metadata": {},
   "source": [
    "## Simple AE"
   ]
  },
  {
   "cell_type": "code",
   "execution_count": 12,
   "id": "9ce22fff",
   "metadata": {
    "ExecuteTime": {
     "end_time": "2023-03-30T19:16:05.522530Z",
     "start_time": "2023-03-30T19:16:05.517531Z"
    }
   },
   "outputs": [],
   "source": [
    "useridx = training[data_description['users']].values\n",
    "itemidx = training[data_description['items']].values\n",
    "# feedbackidx = training[data_description['feedback']].values\n",
    "values = np.ones(len(itemidx))"
   ]
  },
  {
   "cell_type": "code",
   "execution_count": 13,
   "id": "61f143ca",
   "metadata": {
    "ExecuteTime": {
     "end_time": "2023-03-30T19:16:06.014416Z",
     "start_time": "2023-03-30T19:16:05.995423Z"
    }
   },
   "outputs": [],
   "source": [
    "user_tensor_train = torch.sparse_coo_tensor(np.array([useridx, itemidx]), torch.tensor(values),\n",
    "                                      size=torch.Size((data_description[\"n_users\"], data_description[\"n_items\"])), dtype=torch.float32)"
   ]
  },
  {
   "cell_type": "code",
   "execution_count": 19,
   "id": "a8e4694b",
   "metadata": {
    "ExecuteTime": {
     "end_time": "2023-03-31T09:46:20.932697Z",
     "start_time": "2023-03-31T09:46:20.895688Z"
    }
   },
   "outputs": [],
   "source": [
    "train_dataset = SimpleDataset(user_tensor_train, augment=True)\n",
    "train_dataloader = DataLoader(train_dataset, batch_size=16, shuffle=True)"
   ]
  },
  {
   "cell_type": "code",
   "execution_count": 20,
   "id": "257a9fba",
   "metadata": {
    "ExecuteTime": {
     "end_time": "2023-03-31T09:46:21.990431Z",
     "start_time": "2023-03-31T09:46:21.980431Z"
    }
   },
   "outputs": [],
   "source": [
    "grid = 2**np.arange(2, 11)"
   ]
  },
  {
   "cell_type": "code",
   "execution_count": null,
   "id": "d838c0eb",
   "metadata": {
    "ExecuteTime": {
     "start_time": "2023-03-31T09:46:24.350Z"
    }
   },
   "outputs": [
    {
     "data": {
      "application/vnd.jupyter.widget-view+json": {
       "model_id": "14f8e42557d74195ad4c178100d465eb",
       "version_major": 2,
       "version_minor": 0
      },
      "text/plain": [
       "  0%|          | 0/9 [00:00<?, ?it/s]"
      ]
     },
     "metadata": {},
     "output_type": "display_data"
    },
    {
     "name": "stdout",
     "output_type": "stream",
     "text": [
      "Hidden sizes: 4\n"
     ]
    }
   ],
   "source": [
    "params = []\n",
    "histories = []\n",
    "test_losses = []\n",
    "mrrs = []\n",
    "hrs = []\n",
    "cs = []\n",
    "early_stop = 10\n",
    "n_epochs = 1000\n",
    "\n",
    "\n",
    "for h in tqdm(grid):\n",
    "    print('Hidden sizes:', h)\n",
    "    \n",
    "    bae = baseAE(data_description['n_items'], h).to(device)\n",
    "    criterion = nn.BCEWithLogitsLoss().to(device)\n",
    "    optimizer = optim.Adam(bae.parameters())\n",
    "    scheduler = optim.lr_scheduler.ExponentialLR(optimizer, gamma=0.9)\n",
    "    \n",
    "    params.append(sum(p.numel() for p in bae.parameters() if p.requires_grad))\n",
    "    \n",
    "    # Training the AE\n",
    "    history = []\n",
    "    val_history = []\n",
    "#     prev_train_loss = [1000]\n",
    "    prev_test_loss = [1000]\n",
    "    train_loss = 0.1 * len(train_dataloader)\n",
    "    epoch = 1\n",
    "    \n",
    "    for epoch in range(1, n_epochs+1):\n",
    "        train_loss = 0\n",
    "        for user_matrix in train_dataloader:\n",
    "            optimizer.zero_grad()\n",
    "\n",
    "            input_tensor, target = user_matrix\n",
    "            input_tensor, target = input_tensor.to_dense().to(device), target.to_dense().to(device)\n",
    "\n",
    "            output = bae(input_tensor)\n",
    "            target.require_grad = False # we don't use it in training\n",
    "\n",
    "            loss = criterion(output, target)\n",
    "            loss.backward()\n",
    "            optimizer.step()\n",
    "            train_loss += loss.data.item()\n",
    "\n",
    "        scheduler.step()\n",
    "        tr_loss = train_loss / len(train_dataloader)\n",
    "        history.append(tr_loss)\n",
    "\n",
    "    #     print('epoch: '+str(epoch)+' loss: '+str(train_loss / len(train_dataloader)))\n",
    "        test_loss = 0\n",
    "        with torch.no_grad():\n",
    "            for user in testset.userid.unique():\n",
    "                itemidx = testset.loc[testset.userid == user, data_description['items']].values\n",
    "                values = np.ones(len(itemidx), dtype=np.float32)\n",
    "\n",
    "                user_tensor_test = torch.sparse_coo_tensor(np.array([itemidx]), torch.tensor(values),\n",
    "                                          size=torch.Size((data_description[\"n_items\"], ))).to_dense().to(device).unsqueeze(0)\n",
    "                target = user_tensor_test.clone()\n",
    "\n",
    "                output = bae(user_tensor_test)\n",
    "                target.require_grad = False\n",
    "\n",
    "                loss = criterion(output, target)\n",
    "                test_loss += loss.data.item()\n",
    "\n",
    "            test_losses.append(test_loss / testset.userid.nunique())\n",
    "        val_loss = test_loss / testset.userid.nunique()\n",
    "        val_history.append(val_loss)\n",
    "        \n",
    "        if prev_test_loss[-1] > val_loss:\n",
    "            prev_test_loss = [val_loss]\n",
    "            torch.save(bae.state_dict(), f'best_bae_{h}.pt')\n",
    "        else:\n",
    "            prev_test_loss.append(val_loss)\n",
    "        \n",
    "        stop = epoch if epoch < early_stop else epoch-early_stop\n",
    "        if len(prev_test_loss) == early_stop:\n",
    "            print(f'Current epoch {epoch}. Best model found at epoch {stop}')\n",
    "            break\n",
    "        \n",
    "        # only for this weird model (where dev loss increases)\n",
    "#         if prev_train_loss[-1] > tr_loss:\n",
    "#             prev_train_loss = [tr_loss]\n",
    "#             torch.save(bae.state_dict(), f'best_bae_{h}.pt')\n",
    "#         else:\n",
    "#             prev_train_loss.append(tr_loss)\n",
    "        \n",
    "#         stop = epoch if epoch < early_stop else epoch-early_stop\n",
    "#         if len(prev_train_loss) == early_stop:\n",
    "#             print(f'Current epoch {epoch}. Best model found at epoch {stop}')\n",
    "#             break\n",
    "            \n",
    "        epoch += 1\n",
    "    \n",
    "    # Testing the AE\n",
    "    test_loss = 0\n",
    "    scores = torch.zeros((len(testset_valid.userid.unique()), data_description['n_items']))\n",
    "    model = baseAE(data_description['n_items'], h).to(device)\n",
    "    model.load_state_dict(torch.load(f'best_bae_{h}.pt'))\n",
    "\n",
    "    for i, user in enumerate(testset_valid.userid.unique()):\n",
    "        itemidx = testset_valid.loc[testset_valid.userid == user, data_description['items']].values\n",
    "        values = np.ones(len(itemidx), dtype=np.float32)\n",
    "\n",
    "        user_tensor_test = torch.sparse_coo_tensor(np.array([itemidx]), torch.tensor(values),\n",
    "                                  size=torch.Size((data_description[\"n_items\"], ))).to_dense().to(device).unsqueeze(0)\n",
    "        target = user_tensor_test.clone()\n",
    "\n",
    "        output = model(user_tensor_test)\n",
    "        scores[i] = output[0].T\n",
    "        target.require_grad = False\n",
    "\n",
    "        loss = criterion(output, target)\n",
    "        test_loss += loss.data.item()\n",
    "    \n",
    "    scores = scores.detach().numpy()        \n",
    "    \n",
    "    # our\n",
    "    plt.plot(history, label='train')\n",
    "    plt.plot(val_history, label='val')\n",
    "    plt.legend()\n",
    "    plt.show()\n",
    "    print('Test loss:', val_history[-min(early_stop, epoch)])\n",
    "    print('Train loss:', history[-min(early_stop, epoch)])\n",
    "    print('Epochs:', stop)\n",
    "    downvote_seen_items(scores, testset_valid, data_description)\n",
    "    mrr10, hr10, c10 = make_prediction(scores, holdout_valid, data_description)\n",
    "    mrrs.append(mrr10)\n",
    "    hrs.append(hr10)\n",
    "    cs.append(c10)\n",
    "    \n",
    "    print()\n",
    "    print()"
   ]
  },
  {
   "cell_type": "code",
   "execution_count": null,
   "id": "3bd98248",
   "metadata": {},
   "outputs": [],
   "source": []
  },
  {
   "cell_type": "code",
   "execution_count": null,
   "id": "49fbc205",
   "metadata": {},
   "outputs": [],
   "source": []
  },
  {
   "cell_type": "code",
   "execution_count": null,
   "id": "2a65dfce",
   "metadata": {},
   "outputs": [],
   "source": []
  },
  {
   "cell_type": "code",
   "execution_count": null,
   "id": "87b3f11a",
   "metadata": {},
   "outputs": [],
   "source": []
  },
  {
   "cell_type": "code",
   "execution_count": 18,
   "id": "fb511577",
   "metadata": {
    "ExecuteTime": {
     "end_time": "2023-03-30T22:46:46.323844Z",
     "start_time": "2023-03-30T19:25:36.073300Z"
    },
    "scrolled": true
   },
   "outputs": [
    {
     "data": {
      "application/vnd.jupyter.widget-view+json": {
       "model_id": "dc18bb120fb441d28a7d86e38886f00b",
       "version_major": 2,
       "version_minor": 0
      },
      "text/plain": [
       "  0%|          | 0/9 [00:00<?, ?it/s]"
      ]
     },
     "metadata": {},
     "output_type": "display_data"
    },
    {
     "name": "stdout",
     "output_type": "stream",
     "text": [
      "Hidden sizes: 4\n",
      "Current epoch 93. Best model found at epoch 83\n"
     ]
    },
    {
     "name": "stderr",
     "output_type": "stream",
     "text": [
      "C:\\Users\\Liza\\AppData\\Local\\Temp\\ipykernel_10488\\1356720059.py:110: UserWarning: The use of `x.T` on tensors of dimension other than 2 to reverse their shape is deprecated and it will throw an error in a future release. Consider `x.mT` to transpose batches of matrices or `x.permute(*torch.arange(x.ndim - 1, -1, -1))` to reverse the dimensions of a tensor. (Triggered internally at C:\\cb\\pytorch_1000000000000\\work\\aten\\src\\ATen\\native\\TensorShape.cpp:3575.)\n",
      "  scores[i] = output[0].T\n"
     ]
    },
    {
     "data": {
      "image/png": "[encoded data removed]",
      "text/plain": [
       "<Figure size 640x480 with 1 Axes>"
      ]
     },
     "metadata": {},
     "output_type": "display_data"
    },
    {
     "name": "stdout",
     "output_type": "stream",
     "text": [
      "Test loss: 0.003412516100566204\n",
      "Train loss: 0.006416392074682878\n",
      "Epochs: 83\n"
     ]
    },
    {
     "data": {
      "text/html": [
       "<div>\n",
       "<style scoped>\n",
       "    .dataframe tbody tr th:only-of-type {\n",
       "        vertical-align: middle;\n",
       "    }\n",
       "\n",
       "    .dataframe tbody tr th {\n",
       "        vertical-align: top;\n",
       "    }\n",
       "\n",
       "    .dataframe thead th {\n",
       "        text-align: right;\n",
       "    }\n",
       "</style>\n",
       "<table border=\"1\" class=\"dataframe\">\n",
       "  <thead>\n",
       "    <tr style=\"text-align: right;\">\n",
       "      <th></th>\n",
       "      <th>HR@5</th>\n",
       "      <th>MRR@5</th>\n",
       "      <th>Coverage@5</th>\n",
       "      <th>HR_pos@5</th>\n",
       "      <th>HR_neg@5</th>\n",
       "      <th>MRR_pos@5</th>\n",
       "      <th>MRR_neg@5</th>\n",
       "      <th>Matthews@5</th>\n",
       "    </tr>\n",
       "  </thead>\n",
       "  <tbody>\n",
       "    <tr>\n",
       "      <th>5</th>\n",
       "      <td>0.00776</td>\n",
       "      <td>0.004139</td>\n",
       "      <td>0.002322</td>\n",
       "      <td>0.007509</td>\n",
       "      <td>0.00025</td>\n",
       "      <td>0.003888</td>\n",
       "      <td>0.00025</td>\n",
       "      <td>0.016976</td>\n",
       "    </tr>\n",
       "  </tbody>\n",
       "</table>\n",
       "</div>"
      ],
      "text/plain": [
       "      HR@5     MRR@5  Coverage@5  HR_pos@5  HR_neg@5  MRR_pos@5  MRR_neg@5  \\\n",
       "5  0.00776  0.004139    0.002322  0.007509   0.00025   0.003888    0.00025   \n",
       "\n",
       "   Matthews@5  \n",
       "5    0.016976  "
      ]
     },
     "metadata": {},
     "output_type": "display_data"
    },
    {
     "data": {
      "text/html": [
       "<div>\n",
       "<style scoped>\n",
       "    .dataframe tbody tr th:only-of-type {\n",
       "        vertical-align: middle;\n",
       "    }\n",
       "\n",
       "    .dataframe tbody tr th {\n",
       "        vertical-align: top;\n",
       "    }\n",
       "\n",
       "    .dataframe thead th {\n",
       "        text-align: right;\n",
       "    }\n",
       "</style>\n",
       "<table border=\"1\" class=\"dataframe\">\n",
       "  <thead>\n",
       "    <tr style=\"text-align: right;\">\n",
       "      <th></th>\n",
       "      <th>HR@10</th>\n",
       "      <th>MRR@10</th>\n",
       "      <th>Coverage@10</th>\n",
       "      <th>HR_pos@10</th>\n",
       "      <th>HR_neg@10</th>\n",
       "      <th>MRR_pos@10</th>\n",
       "      <th>MRR_neg@10</th>\n",
       "      <th>Matthews@10</th>\n",
       "    </tr>\n",
       "  </thead>\n",
       "  <tbody>\n",
       "    <tr>\n",
       "      <th>10</th>\n",
       "      <td>0.010013</td>\n",
       "      <td>0.004416</td>\n",
       "      <td>0.00424</td>\n",
       "      <td>0.009762</td>\n",
       "      <td>0.00025</td>\n",
       "      <td>0.004165</td>\n",
       "      <td>0.00025</td>\n",
       "      <td>0.021907</td>\n",
       "    </tr>\n",
       "  </tbody>\n",
       "</table>\n",
       "</div>"
      ],
      "text/plain": [
       "       HR@10    MRR@10  Coverage@10  HR_pos@10  HR_neg@10  MRR_pos@10  \\\n",
       "10  0.010013  0.004416      0.00424   0.009762    0.00025    0.004165   \n",
       "\n",
       "    MRR_neg@10  Matthews@10  \n",
       "10     0.00025     0.021907  "
      ]
     },
     "metadata": {},
     "output_type": "display_data"
    },
    {
     "data": {
      "text/html": [
       "<div>\n",
       "<style scoped>\n",
       "    .dataframe tbody tr th:only-of-type {\n",
       "        vertical-align: middle;\n",
       "    }\n",
       "\n",
       "    .dataframe tbody tr th {\n",
       "        vertical-align: top;\n",
       "    }\n",
       "\n",
       "    .dataframe thead th {\n",
       "        text-align: right;\n",
       "    }\n",
       "</style>\n",
       "<table border=\"1\" class=\"dataframe\">\n",
       "  <thead>\n",
       "    <tr style=\"text-align: right;\">\n",
       "      <th></th>\n",
       "      <th>HR@20</th>\n",
       "      <th>MRR@20</th>\n",
       "      <th>Coverage@20</th>\n",
       "      <th>HR_pos@20</th>\n",
       "      <th>HR_neg@20</th>\n",
       "      <th>MRR_pos@20</th>\n",
       "      <th>MRR_neg@20</th>\n",
       "      <th>Matthews@20</th>\n",
       "    </tr>\n",
       "  </thead>\n",
       "  <tbody>\n",
       "    <tr>\n",
       "      <th>20</th>\n",
       "      <td>0.021527</td>\n",
       "      <td>0.005183</td>\n",
       "      <td>0.006865</td>\n",
       "      <td>0.021277</td>\n",
       "      <td>0.00025</td>\n",
       "      <td>0.004932</td>\n",
       "      <td>0.00025</td>\n",
       "      <td>0.039381</td>\n",
       "    </tr>\n",
       "  </tbody>\n",
       "</table>\n",
       "</div>"
      ],
      "text/plain": [
       "       HR@20    MRR@20  Coverage@20  HR_pos@20  HR_neg@20  MRR_pos@20  \\\n",
       "20  0.021527  0.005183     0.006865   0.021277    0.00025    0.004932   \n",
       "\n",
       "    MRR_neg@20  Matthews@20  \n",
       "20     0.00025     0.039381  "
      ]
     },
     "metadata": {},
     "output_type": "display_data"
    },
    {
     "name": "stdout",
     "output_type": "stream",
     "text": [
      "\n",
      "\n",
      "Hidden sizes: 8\n",
      "Current epoch 94. Best model found at epoch 84\n"
     ]
    },
    {
     "data": {
      "image/png": "[encoded data removed]",
      "text/plain": [
       "<Figure size 640x480 with 1 Axes>"
      ]
     },
     "metadata": {},
     "output_type": "display_data"
    },
    {
     "name": "stdout",
     "output_type": "stream",
     "text": [
      "Test loss: 0.0033150711042217013\n",
      "Train loss: 0.006321344437487287\n",
      "Epochs: 84\n"
     ]
    },
    {
     "data": {
      "text/html": [
       "<div>\n",
       "<style scoped>\n",
       "    .dataframe tbody tr th:only-of-type {\n",
       "        vertical-align: middle;\n",
       "    }\n",
       "\n",
       "    .dataframe tbody tr th {\n",
       "        vertical-align: top;\n",
       "    }\n",
       "\n",
       "    .dataframe thead th {\n",
       "        text-align: right;\n",
       "    }\n",
       "</style>\n",
       "<table border=\"1\" class=\"dataframe\">\n",
       "  <thead>\n",
       "    <tr style=\"text-align: right;\">\n",
       "      <th></th>\n",
       "      <th>HR@5</th>\n",
       "      <th>MRR@5</th>\n",
       "      <th>Coverage@5</th>\n",
       "      <th>HR_pos@5</th>\n",
       "      <th>HR_neg@5</th>\n",
       "      <th>MRR_pos@5</th>\n",
       "      <th>MRR_neg@5</th>\n",
       "      <th>Matthews@5</th>\n",
       "    </tr>\n",
       "  </thead>\n",
       "  <tbody>\n",
       "    <tr>\n",
       "      <th>5</th>\n",
       "      <td>0.00801</td>\n",
       "      <td>0.005544</td>\n",
       "      <td>0.006259</td>\n",
       "      <td>0.00776</td>\n",
       "      <td>0.00025</td>\n",
       "      <td>0.005419</td>\n",
       "      <td>0.000125</td>\n",
       "      <td>0.017572</td>\n",
       "    </tr>\n",
       "  </tbody>\n",
       "</table>\n",
       "</div>"
      ],
      "text/plain": [
       "      HR@5     MRR@5  Coverage@5  HR_pos@5  HR_neg@5  MRR_pos@5  MRR_neg@5  \\\n",
       "5  0.00801  0.005544    0.006259   0.00776   0.00025   0.005419   0.000125   \n",
       "\n",
       "   Matthews@5  \n",
       "5    0.017572  "
      ]
     },
     "metadata": {},
     "output_type": "display_data"
    },
    {
     "data": {
      "text/html": [
       "<div>\n",
       "<style scoped>\n",
       "    .dataframe tbody tr th:only-of-type {\n",
       "        vertical-align: middle;\n",
       "    }\n",
       "\n",
       "    .dataframe tbody tr th {\n",
       "        vertical-align: top;\n",
       "    }\n",
       "\n",
       "    .dataframe thead th {\n",
       "        text-align: right;\n",
       "    }\n",
       "</style>\n",
       "<table border=\"1\" class=\"dataframe\">\n",
       "  <thead>\n",
       "    <tr style=\"text-align: right;\">\n",
       "      <th></th>\n",
       "      <th>HR@10</th>\n",
       "      <th>MRR@10</th>\n",
       "      <th>Coverage@10</th>\n",
       "      <th>HR_pos@10</th>\n",
       "      <th>HR_neg@10</th>\n",
       "      <th>MRR_pos@10</th>\n",
       "      <th>MRR_neg@10</th>\n",
       "      <th>Matthews@10</th>\n",
       "    </tr>\n",
       "  </thead>\n",
       "  <tbody>\n",
       "    <tr>\n",
       "      <th>10</th>\n",
       "      <td>0.012265</td>\n",
       "      <td>0.006081</td>\n",
       "      <td>0.008884</td>\n",
       "      <td>0.012015</td>\n",
       "      <td>0.00025</td>\n",
       "      <td>0.005956</td>\n",
       "      <td>0.000125</td>\n",
       "      <td>0.026098</td>\n",
       "    </tr>\n",
       "  </tbody>\n",
       "</table>\n",
       "</div>"
      ],
      "text/plain": [
       "       HR@10    MRR@10  Coverage@10  HR_pos@10  HR_neg@10  MRR_pos@10  \\\n",
       "10  0.012265  0.006081     0.008884   0.012015    0.00025    0.005956   \n",
       "\n",
       "    MRR_neg@10  Matthews@10  \n",
       "10    0.000125     0.026098  "
      ]
     },
     "metadata": {},
     "output_type": "display_data"
    },
    {
     "data": {
      "text/html": [
       "<div>\n",
       "<style scoped>\n",
       "    .dataframe tbody tr th:only-of-type {\n",
       "        vertical-align: middle;\n",
       "    }\n",
       "\n",
       "    .dataframe tbody tr th {\n",
       "        vertical-align: top;\n",
       "    }\n",
       "\n",
       "    .dataframe thead th {\n",
       "        text-align: right;\n",
       "    }\n",
       "</style>\n",
       "<table border=\"1\" class=\"dataframe\">\n",
       "  <thead>\n",
       "    <tr style=\"text-align: right;\">\n",
       "      <th></th>\n",
       "      <th>HR@20</th>\n",
       "      <th>MRR@20</th>\n",
       "      <th>Coverage@20</th>\n",
       "      <th>HR_pos@20</th>\n",
       "      <th>HR_neg@20</th>\n",
       "      <th>MRR_pos@20</th>\n",
       "      <th>MRR_neg@20</th>\n",
       "      <th>Matthews@20</th>\n",
       "    </tr>\n",
       "  </thead>\n",
       "  <tbody>\n",
       "    <tr>\n",
       "      <th>20</th>\n",
       "      <td>0.024531</td>\n",
       "      <td>0.006916</td>\n",
       "      <td>0.013123</td>\n",
       "      <td>0.023529</td>\n",
       "      <td>0.001001</td>\n",
       "      <td>0.006738</td>\n",
       "      <td>0.000178</td>\n",
       "      <td>0.025603</td>\n",
       "    </tr>\n",
       "  </tbody>\n",
       "</table>\n",
       "</div>"
      ],
      "text/plain": [
       "       HR@20    MRR@20  Coverage@20  HR_pos@20  HR_neg@20  MRR_pos@20  \\\n",
       "20  0.024531  0.006916     0.013123   0.023529   0.001001    0.006738   \n",
       "\n",
       "    MRR_neg@20  Matthews@20  \n",
       "20    0.000178     0.025603  "
      ]
     },
     "metadata": {},
     "output_type": "display_data"
    },
    {
     "name": "stdout",
     "output_type": "stream",
     "text": [
      "\n",
      "\n",
      "Hidden sizes: 16\n",
      "Current epoch 97. Best model found at epoch 87\n"
     ]
    },
    {
     "data": {
      "image/png": "[encoded data removed]",
      "text/plain": [
       "<Figure size 640x480 with 1 Axes>"
      ]
     },
     "metadata": {},
     "output_type": "display_data"
    },
    {
     "name": "stdout",
     "output_type": "stream",
     "text": [
      "Test loss: 0.003118508913807777\n",
      "Train loss: 0.005840880439853248\n",
      "Epochs: 87\n"
     ]
    },
    {
     "data": {
      "text/html": [
       "<div>\n",
       "<style scoped>\n",
       "    .dataframe tbody tr th:only-of-type {\n",
       "        vertical-align: middle;\n",
       "    }\n",
       "\n",
       "    .dataframe tbody tr th {\n",
       "        vertical-align: top;\n",
       "    }\n",
       "\n",
       "    .dataframe thead th {\n",
       "        text-align: right;\n",
       "    }\n",
       "</style>\n",
       "<table border=\"1\" class=\"dataframe\">\n",
       "  <thead>\n",
       "    <tr style=\"text-align: right;\">\n",
       "      <th></th>\n",
       "      <th>HR@5</th>\n",
       "      <th>MRR@5</th>\n",
       "      <th>Coverage@5</th>\n",
       "      <th>HR_pos@5</th>\n",
       "      <th>HR_neg@5</th>\n",
       "      <th>MRR_pos@5</th>\n",
       "      <th>MRR_neg@5</th>\n",
       "      <th>Matthews@5</th>\n",
       "    </tr>\n",
       "  </thead>\n",
       "  <tbody>\n",
       "    <tr>\n",
       "      <th>5</th>\n",
       "      <td>0.012516</td>\n",
       "      <td>0.005549</td>\n",
       "      <td>0.009691</td>\n",
       "      <td>0.012015</td>\n",
       "      <td>0.000501</td>\n",
       "      <td>0.005298</td>\n",
       "      <td>0.00025</td>\n",
       "      <td>0.018504</td>\n",
       "    </tr>\n",
       "  </tbody>\n",
       "</table>\n",
       "</div>"
      ],
      "text/plain": [
       "       HR@5     MRR@5  Coverage@5  HR_pos@5  HR_neg@5  MRR_pos@5  MRR_neg@5  \\\n",
       "5  0.012516  0.005549    0.009691  0.012015  0.000501   0.005298    0.00025   \n",
       "\n",
       "   Matthews@5  \n",
       "5    0.018504  "
      ]
     },
     "metadata": {},
     "output_type": "display_data"
    },
    {
     "data": {
      "text/html": [
       "<div>\n",
       "<style scoped>\n",
       "    .dataframe tbody tr th:only-of-type {\n",
       "        vertical-align: middle;\n",
       "    }\n",
       "\n",
       "    .dataframe tbody tr th {\n",
       "        vertical-align: top;\n",
       "    }\n",
       "\n",
       "    .dataframe thead th {\n",
       "        text-align: right;\n",
       "    }\n",
       "</style>\n",
       "<table border=\"1\" class=\"dataframe\">\n",
       "  <thead>\n",
       "    <tr style=\"text-align: right;\">\n",
       "      <th></th>\n",
       "      <th>HR@10</th>\n",
       "      <th>MRR@10</th>\n",
       "      <th>Coverage@10</th>\n",
       "      <th>HR_pos@10</th>\n",
       "      <th>HR_neg@10</th>\n",
       "      <th>MRR_pos@10</th>\n",
       "      <th>MRR_neg@10</th>\n",
       "      <th>Matthews@10</th>\n",
       "    </tr>\n",
       "  </thead>\n",
       "  <tbody>\n",
       "    <tr>\n",
       "      <th>10</th>\n",
       "      <td>0.022028</td>\n",
       "      <td>0.006771</td>\n",
       "      <td>0.013628</td>\n",
       "      <td>0.021277</td>\n",
       "      <td>0.000751</td>\n",
       "      <td>0.006485</td>\n",
       "      <td>0.000286</td>\n",
       "      <td>0.027829</td>\n",
       "    </tr>\n",
       "  </tbody>\n",
       "</table>\n",
       "</div>"
      ],
      "text/plain": [
       "       HR@10    MRR@10  Coverage@10  HR_pos@10  HR_neg@10  MRR_pos@10  \\\n",
       "10  0.022028  0.006771     0.013628   0.021277   0.000751    0.006485   \n",
       "\n",
       "    MRR_neg@10  Matthews@10  \n",
       "10    0.000286     0.027829  "
      ]
     },
     "metadata": {},
     "output_type": "display_data"
    },
    {
     "data": {
      "text/html": [
       "<div>\n",
       "<style scoped>\n",
       "    .dataframe tbody tr th:only-of-type {\n",
       "        vertical-align: middle;\n",
       "    }\n",
       "\n",
       "    .dataframe tbody tr th {\n",
       "        vertical-align: top;\n",
       "    }\n",
       "\n",
       "    .dataframe thead th {\n",
       "        text-align: right;\n",
       "    }\n",
       "</style>\n",
       "<table border=\"1\" class=\"dataframe\">\n",
       "  <thead>\n",
       "    <tr style=\"text-align: right;\">\n",
       "      <th></th>\n",
       "      <th>HR@20</th>\n",
       "      <th>MRR@20</th>\n",
       "      <th>Coverage@20</th>\n",
       "      <th>HR_pos@20</th>\n",
       "      <th>HR_neg@20</th>\n",
       "      <th>MRR_pos@20</th>\n",
       "      <th>MRR_neg@20</th>\n",
       "      <th>Matthews@20</th>\n",
       "    </tr>\n",
       "  </thead>\n",
       "  <tbody>\n",
       "    <tr>\n",
       "      <th>20</th>\n",
       "      <td>0.03204</td>\n",
       "      <td>0.007433</td>\n",
       "      <td>0.022108</td>\n",
       "      <td>0.029787</td>\n",
       "      <td>0.002253</td>\n",
       "      <td>0.007046</td>\n",
       "      <td>0.000387</td>\n",
       "      <td>0.010244</td>\n",
       "    </tr>\n",
       "  </tbody>\n",
       "</table>\n",
       "</div>"
      ],
      "text/plain": [
       "      HR@20    MRR@20  Coverage@20  HR_pos@20  HR_neg@20  MRR_pos@20  \\\n",
       "20  0.03204  0.007433     0.022108   0.029787   0.002253    0.007046   \n",
       "\n",
       "    MRR_neg@20  Matthews@20  \n",
       "20    0.000387     0.010244  "
      ]
     },
     "metadata": {},
     "output_type": "display_data"
    },
    {
     "name": "stdout",
     "output_type": "stream",
     "text": [
      "\n",
      "\n",
      "Hidden sizes: 32\n",
      "Current epoch 99. Best model found at epoch 89\n"
     ]
    },
    {
     "data": {
      "image/png": "[encoded data removed]",
      "text/plain": [
       "<Figure size 640x480 with 1 Axes>"
      ]
     },
     "metadata": {},
     "output_type": "display_data"
    },
    {
     "name": "stdout",
     "output_type": "stream",
     "text": [
      "Test loss: 0.002923179816558847\n",
      "Train loss: 0.005146038096131053\n",
      "Epochs: 89\n"
     ]
    },
    {
     "data": {
      "text/html": [
       "<div>\n",
       "<style scoped>\n",
       "    .dataframe tbody tr th:only-of-type {\n",
       "        vertical-align: middle;\n",
       "    }\n",
       "\n",
       "    .dataframe tbody tr th {\n",
       "        vertical-align: top;\n",
       "    }\n",
       "\n",
       "    .dataframe thead th {\n",
       "        text-align: right;\n",
       "    }\n",
       "</style>\n",
       "<table border=\"1\" class=\"dataframe\">\n",
       "  <thead>\n",
       "    <tr style=\"text-align: right;\">\n",
       "      <th></th>\n",
       "      <th>HR@5</th>\n",
       "      <th>MRR@5</th>\n",
       "      <th>Coverage@5</th>\n",
       "      <th>HR_pos@5</th>\n",
       "      <th>HR_neg@5</th>\n",
       "      <th>MRR_pos@5</th>\n",
       "      <th>MRR_neg@5</th>\n",
       "      <th>Matthews@5</th>\n",
       "    </tr>\n",
       "  </thead>\n",
       "  <tbody>\n",
       "    <tr>\n",
       "      <th>5</th>\n",
       "      <td>0.017272</td>\n",
       "      <td>0.008544</td>\n",
       "      <td>0.022915</td>\n",
       "      <td>0.01627</td>\n",
       "      <td>0.001001</td>\n",
       "      <td>0.008235</td>\n",
       "      <td>0.000309</td>\n",
       "      <td>0.013297</td>\n",
       "    </tr>\n",
       "  </tbody>\n",
       "</table>\n",
       "</div>"
      ],
      "text/plain": [
       "       HR@5     MRR@5  Coverage@5  HR_pos@5  HR_neg@5  MRR_pos@5  MRR_neg@5  \\\n",
       "5  0.017272  0.008544    0.022915   0.01627  0.001001   0.008235   0.000309   \n",
       "\n",
       "   Matthews@5  \n",
       "5    0.013297  "
      ]
     },
     "metadata": {},
     "output_type": "display_data"
    },
    {
     "data": {
      "text/html": [
       "<div>\n",
       "<style scoped>\n",
       "    .dataframe tbody tr th:only-of-type {\n",
       "        vertical-align: middle;\n",
       "    }\n",
       "\n",
       "    .dataframe tbody tr th {\n",
       "        vertical-align: top;\n",
       "    }\n",
       "\n",
       "    .dataframe thead th {\n",
       "        text-align: right;\n",
       "    }\n",
       "</style>\n",
       "<table border=\"1\" class=\"dataframe\">\n",
       "  <thead>\n",
       "    <tr style=\"text-align: right;\">\n",
       "      <th></th>\n",
       "      <th>HR@10</th>\n",
       "      <th>MRR@10</th>\n",
       "      <th>Coverage@10</th>\n",
       "      <th>HR_pos@10</th>\n",
       "      <th>HR_neg@10</th>\n",
       "      <th>MRR_pos@10</th>\n",
       "      <th>MRR_neg@10</th>\n",
       "      <th>Matthews@10</th>\n",
       "    </tr>\n",
       "  </thead>\n",
       "  <tbody>\n",
       "    <tr>\n",
       "      <th>10</th>\n",
       "      <td>0.027534</td>\n",
       "      <td>0.009907</td>\n",
       "      <td>0.03301</td>\n",
       "      <td>0.025782</td>\n",
       "      <td>0.001752</td>\n",
       "      <td>0.009485</td>\n",
       "      <td>0.000422</td>\n",
       "      <td>0.013479</td>\n",
       "    </tr>\n",
       "  </tbody>\n",
       "</table>\n",
       "</div>"
      ],
      "text/plain": [
       "       HR@10    MRR@10  Coverage@10  HR_pos@10  HR_neg@10  MRR_pos@10  \\\n",
       "10  0.027534  0.009907      0.03301   0.025782   0.001752    0.009485   \n",
       "\n",
       "    MRR_neg@10  Matthews@10  \n",
       "10    0.000422     0.013479  "
      ]
     },
     "metadata": {},
     "output_type": "display_data"
    },
    {
     "data": {
      "text/html": [
       "<div>\n",
       "<style scoped>\n",
       "    .dataframe tbody tr th:only-of-type {\n",
       "        vertical-align: middle;\n",
       "    }\n",
       "\n",
       "    .dataframe tbody tr th {\n",
       "        vertical-align: top;\n",
       "    }\n",
       "\n",
       "    .dataframe thead th {\n",
       "        text-align: right;\n",
       "    }\n",
       "</style>\n",
       "<table border=\"1\" class=\"dataframe\">\n",
       "  <thead>\n",
       "    <tr style=\"text-align: right;\">\n",
       "      <th></th>\n",
       "      <th>HR@20</th>\n",
       "      <th>MRR@20</th>\n",
       "      <th>Coverage@20</th>\n",
       "      <th>HR_pos@20</th>\n",
       "      <th>HR_neg@20</th>\n",
       "      <th>MRR_pos@20</th>\n",
       "      <th>MRR_neg@20</th>\n",
       "      <th>Matthews@20</th>\n",
       "    </tr>\n",
       "  </thead>\n",
       "  <tbody>\n",
       "    <tr>\n",
       "      <th>20</th>\n",
       "      <td>0.049061</td>\n",
       "      <td>0.011398</td>\n",
       "      <td>0.049263</td>\n",
       "      <td>0.046058</td>\n",
       "      <td>0.003004</td>\n",
       "      <td>0.010873</td>\n",
       "      <td>0.000524</td>\n",
       "      <td>0.020148</td>\n",
       "    </tr>\n",
       "  </tbody>\n",
       "</table>\n",
       "</div>"
      ],
      "text/plain": [
       "       HR@20    MRR@20  Coverage@20  HR_pos@20  HR_neg@20  MRR_pos@20  \\\n",
       "20  0.049061  0.011398     0.049263   0.046058   0.003004    0.010873   \n",
       "\n",
       "    MRR_neg@20  Matthews@20  \n",
       "20    0.000524     0.020148  "
      ]
     },
     "metadata": {},
     "output_type": "display_data"
    },
    {
     "name": "stdout",
     "output_type": "stream",
     "text": [
      "\n",
      "\n",
      "Hidden sizes: 64\n",
      "Current epoch 107. Best model found at epoch 97\n"
     ]
    },
    {
     "data": {
      "image/png": "[encoded data removed]",
      "text/plain": [
       "<Figure size 640x480 with 1 Axes>"
      ]
     },
     "metadata": {},
     "output_type": "display_data"
    },
    {
     "name": "stdout",
     "output_type": "stream",
     "text": [
      "Test loss: 0.0026682072219593404\n",
      "Train loss: 0.004173165675250412\n",
      "Epochs: 97\n"
     ]
    },
    {
     "data": {
      "text/html": [
       "<div>\n",
       "<style scoped>\n",
       "    .dataframe tbody tr th:only-of-type {\n",
       "        vertical-align: middle;\n",
       "    }\n",
       "\n",
       "    .dataframe tbody tr th {\n",
       "        vertical-align: top;\n",
       "    }\n",
       "\n",
       "    .dataframe thead th {\n",
       "        text-align: right;\n",
       "    }\n",
       "</style>\n",
       "<table border=\"1\" class=\"dataframe\">\n",
       "  <thead>\n",
       "    <tr style=\"text-align: right;\">\n",
       "      <th></th>\n",
       "      <th>HR@5</th>\n",
       "      <th>MRR@5</th>\n",
       "      <th>Coverage@5</th>\n",
       "      <th>HR_pos@5</th>\n",
       "      <th>HR_neg@5</th>\n",
       "      <th>MRR_pos@5</th>\n",
       "      <th>MRR_neg@5</th>\n",
       "      <th>Matthews@5</th>\n",
       "    </tr>\n",
       "  </thead>\n",
       "  <tbody>\n",
       "    <tr>\n",
       "      <th>5</th>\n",
       "      <td>0.030788</td>\n",
       "      <td>0.018014</td>\n",
       "      <td>0.055219</td>\n",
       "      <td>0.029537</td>\n",
       "      <td>0.001252</td>\n",
       "      <td>0.017222</td>\n",
       "      <td>0.000793</td>\n",
       "      <td>0.028881</td>\n",
       "    </tr>\n",
       "  </tbody>\n",
       "</table>\n",
       "</div>"
      ],
      "text/plain": [
       "       HR@5     MRR@5  Coverage@5  HR_pos@5  HR_neg@5  MRR_pos@5  MRR_neg@5  \\\n",
       "5  0.030788  0.018014    0.055219  0.029537  0.001252   0.017222   0.000793   \n",
       "\n",
       "   Matthews@5  \n",
       "5    0.028881  "
      ]
     },
     "metadata": {},
     "output_type": "display_data"
    },
    {
     "data": {
      "text/html": [
       "<div>\n",
       "<style scoped>\n",
       "    .dataframe tbody tr th:only-of-type {\n",
       "        vertical-align: middle;\n",
       "    }\n",
       "\n",
       "    .dataframe tbody tr th {\n",
       "        vertical-align: top;\n",
       "    }\n",
       "\n",
       "    .dataframe thead th {\n",
       "        text-align: right;\n",
       "    }\n",
       "</style>\n",
       "<table border=\"1\" class=\"dataframe\">\n",
       "  <thead>\n",
       "    <tr style=\"text-align: right;\">\n",
       "      <th></th>\n",
       "      <th>HR@10</th>\n",
       "      <th>MRR@10</th>\n",
       "      <th>Coverage@10</th>\n",
       "      <th>HR_pos@10</th>\n",
       "      <th>HR_neg@10</th>\n",
       "      <th>MRR_pos@10</th>\n",
       "      <th>MRR_neg@10</th>\n",
       "      <th>Matthews@10</th>\n",
       "    </tr>\n",
       "  </thead>\n",
       "  <tbody>\n",
       "    <tr>\n",
       "      <th>10</th>\n",
       "      <td>0.045557</td>\n",
       "      <td>0.019932</td>\n",
       "      <td>0.079043</td>\n",
       "      <td>0.042804</td>\n",
       "      <td>0.002753</td>\n",
       "      <td>0.018925</td>\n",
       "      <td>0.001006</td>\n",
       "      <td>0.019991</td>\n",
       "    </tr>\n",
       "  </tbody>\n",
       "</table>\n",
       "</div>"
      ],
      "text/plain": [
       "       HR@10    MRR@10  Coverage@10  HR_pos@10  HR_neg@10  MRR_pos@10  \\\n",
       "10  0.045557  0.019932     0.079043   0.042804   0.002753    0.018925   \n",
       "\n",
       "    MRR_neg@10  Matthews@10  \n",
       "10    0.001006     0.019991  "
      ]
     },
     "metadata": {},
     "output_type": "display_data"
    },
    {
     "data": {
      "text/html": [
       "<div>\n",
       "<style scoped>\n",
       "    .dataframe tbody tr th:only-of-type {\n",
       "        vertical-align: middle;\n",
       "    }\n",
       "\n",
       "    .dataframe tbody tr th {\n",
       "        vertical-align: top;\n",
       "    }\n",
       "\n",
       "    .dataframe thead th {\n",
       "        text-align: right;\n",
       "    }\n",
       "</style>\n",
       "<table border=\"1\" class=\"dataframe\">\n",
       "  <thead>\n",
       "    <tr style=\"text-align: right;\">\n",
       "      <th></th>\n",
       "      <th>HR@20</th>\n",
       "      <th>MRR@20</th>\n",
       "      <th>Coverage@20</th>\n",
       "      <th>HR_pos@20</th>\n",
       "      <th>HR_neg@20</th>\n",
       "      <th>MRR_pos@20</th>\n",
       "      <th>MRR_neg@20</th>\n",
       "      <th>Matthews@20</th>\n",
       "    </tr>\n",
       "  </thead>\n",
       "  <tbody>\n",
       "    <tr>\n",
       "      <th>20</th>\n",
       "      <td>0.075344</td>\n",
       "      <td>0.022001</td>\n",
       "      <td>0.110943</td>\n",
       "      <td>0.069837</td>\n",
       "      <td>0.005507</td>\n",
       "      <td>0.020809</td>\n",
       "      <td>0.001193</td>\n",
       "      <td>0.013247</td>\n",
       "    </tr>\n",
       "  </tbody>\n",
       "</table>\n",
       "</div>"
      ],
      "text/plain": [
       "       HR@20    MRR@20  Coverage@20  HR_pos@20  HR_neg@20  MRR_pos@20  \\\n",
       "20  0.075344  0.022001     0.110943   0.069837   0.005507    0.020809   \n",
       "\n",
       "    MRR_neg@20  Matthews@20  \n",
       "20    0.001193     0.013247  "
      ]
     },
     "metadata": {},
     "output_type": "display_data"
    },
    {
     "name": "stdout",
     "output_type": "stream",
     "text": [
      "\n",
      "\n",
      "Hidden sizes: 128\n",
      "Current epoch 184. Best model found at epoch 174\n"
     ]
    },
    {
     "data": {
      "image/png": "[encoded data removed]",
      "text/plain": [
       "<Figure size 640x480 with 1 Axes>"
      ]
     },
     "metadata": {},
     "output_type": "display_data"
    },
    {
     "name": "stdout",
     "output_type": "stream",
     "text": [
      "Test loss: 0.002250940249000086\n",
      "Train loss: 0.0027797605559730025\n",
      "Epochs: 174\n"
     ]
    },
    {
     "data": {
      "text/html": [
       "<div>\n",
       "<style scoped>\n",
       "    .dataframe tbody tr th:only-of-type {\n",
       "        vertical-align: middle;\n",
       "    }\n",
       "\n",
       "    .dataframe tbody tr th {\n",
       "        vertical-align: top;\n",
       "    }\n",
       "\n",
       "    .dataframe thead th {\n",
       "        text-align: right;\n",
       "    }\n",
       "</style>\n",
       "<table border=\"1\" class=\"dataframe\">\n",
       "  <thead>\n",
       "    <tr style=\"text-align: right;\">\n",
       "      <th></th>\n",
       "      <th>HR@5</th>\n",
       "      <th>MRR@5</th>\n",
       "      <th>Coverage@5</th>\n",
       "      <th>HR_pos@5</th>\n",
       "      <th>HR_neg@5</th>\n",
       "      <th>MRR_pos@5</th>\n",
       "      <th>MRR_neg@5</th>\n",
       "      <th>Matthews@5</th>\n",
       "    </tr>\n",
       "  </thead>\n",
       "  <tbody>\n",
       "    <tr>\n",
       "      <th>5</th>\n",
       "      <td>0.043554</td>\n",
       "      <td>0.022336</td>\n",
       "      <td>0.123864</td>\n",
       "      <td>0.041302</td>\n",
       "      <td>0.002253</td>\n",
       "      <td>0.021381</td>\n",
       "      <td>0.000955</td>\n",
       "      <td>0.026156</td>\n",
       "    </tr>\n",
       "  </tbody>\n",
       "</table>\n",
       "</div>"
      ],
      "text/plain": [
       "       HR@5     MRR@5  Coverage@5  HR_pos@5  HR_neg@5  MRR_pos@5  MRR_neg@5  \\\n",
       "5  0.043554  0.022336    0.123864  0.041302  0.002253   0.021381   0.000955   \n",
       "\n",
       "   Matthews@5  \n",
       "5    0.026156  "
      ]
     },
     "metadata": {},
     "output_type": "display_data"
    },
    {
     "data": {
      "text/html": [
       "<div>\n",
       "<style scoped>\n",
       "    .dataframe tbody tr th:only-of-type {\n",
       "        vertical-align: middle;\n",
       "    }\n",
       "\n",
       "    .dataframe tbody tr th {\n",
       "        vertical-align: top;\n",
       "    }\n",
       "\n",
       "    .dataframe thead th {\n",
       "        text-align: right;\n",
       "    }\n",
       "</style>\n",
       "<table border=\"1\" class=\"dataframe\">\n",
       "  <thead>\n",
       "    <tr style=\"text-align: right;\">\n",
       "      <th></th>\n",
       "      <th>HR@10</th>\n",
       "      <th>MRR@10</th>\n",
       "      <th>Coverage@10</th>\n",
       "      <th>HR_pos@10</th>\n",
       "      <th>HR_neg@10</th>\n",
       "      <th>MRR_pos@10</th>\n",
       "      <th>MRR_neg@10</th>\n",
       "      <th>Matthews@10</th>\n",
       "    </tr>\n",
       "  </thead>\n",
       "  <tbody>\n",
       "    <tr>\n",
       "      <th>10</th>\n",
       "      <td>0.065582</td>\n",
       "      <td>0.025227</td>\n",
       "      <td>0.168686</td>\n",
       "      <td>0.062578</td>\n",
       "      <td>0.003004</td>\n",
       "      <td>0.024184</td>\n",
       "      <td>0.001043</td>\n",
       "      <td>0.038065</td>\n",
       "    </tr>\n",
       "  </tbody>\n",
       "</table>\n",
       "</div>"
      ],
      "text/plain": [
       "       HR@10    MRR@10  Coverage@10  HR_pos@10  HR_neg@10  MRR_pos@10  \\\n",
       "10  0.065582  0.025227     0.168686   0.062578   0.003004    0.024184   \n",
       "\n",
       "    MRR_neg@10  Matthews@10  \n",
       "10    0.001043     0.038065  "
      ]
     },
     "metadata": {},
     "output_type": "display_data"
    },
    {
     "data": {
      "text/html": [
       "<div>\n",
       "<style scoped>\n",
       "    .dataframe tbody tr th:only-of-type {\n",
       "        vertical-align: middle;\n",
       "    }\n",
       "\n",
       "    .dataframe tbody tr th {\n",
       "        vertical-align: top;\n",
       "    }\n",
       "\n",
       "    .dataframe thead th {\n",
       "        text-align: right;\n",
       "    }\n",
       "</style>\n",
       "<table border=\"1\" class=\"dataframe\">\n",
       "  <thead>\n",
       "    <tr style=\"text-align: right;\">\n",
       "      <th></th>\n",
       "      <th>HR@20</th>\n",
       "      <th>MRR@20</th>\n",
       "      <th>Coverage@20</th>\n",
       "      <th>HR_pos@20</th>\n",
       "      <th>HR_neg@20</th>\n",
       "      <th>MRR_pos@20</th>\n",
       "      <th>MRR_neg@20</th>\n",
       "      <th>Matthews@20</th>\n",
       "    </tr>\n",
       "  </thead>\n",
       "  <tbody>\n",
       "    <tr>\n",
       "      <th>20</th>\n",
       "      <td>0.098373</td>\n",
       "      <td>0.027421</td>\n",
       "      <td>0.227842</td>\n",
       "      <td>0.092365</td>\n",
       "      <td>0.006008</td>\n",
       "      <td>0.026177</td>\n",
       "      <td>0.001244</td>\n",
       "      <td>0.029483</td>\n",
       "    </tr>\n",
       "  </tbody>\n",
       "</table>\n",
       "</div>"
      ],
      "text/plain": [
       "       HR@20    MRR@20  Coverage@20  HR_pos@20  HR_neg@20  MRR_pos@20  \\\n",
       "20  0.098373  0.027421     0.227842   0.092365   0.006008    0.026177   \n",
       "\n",
       "    MRR_neg@20  Matthews@20  \n",
       "20    0.001244     0.029483  "
      ]
     },
     "metadata": {},
     "output_type": "display_data"
    },
    {
     "name": "stdout",
     "output_type": "stream",
     "text": [
      "\n",
      "\n",
      "Hidden sizes: 256\n",
      "Current epoch 182. Best model found at epoch 172\n"
     ]
    },
    {
     "data": {
      "image/png": "[encoded data removed]",
      "text/plain": [
       "<Figure size 640x480 with 1 Axes>"
      ]
     },
     "metadata": {},
     "output_type": "display_data"
    },
    {
     "name": "stdout",
     "output_type": "stream",
     "text": [
      "Test loss: 0.0017146291658143161\n",
      "Train loss: 0.0009789559628756747\n",
      "Epochs: 172\n"
     ]
    },
    {
     "data": {
      "text/html": [
       "<div>\n",
       "<style scoped>\n",
       "    .dataframe tbody tr th:only-of-type {\n",
       "        vertical-align: middle;\n",
       "    }\n",
       "\n",
       "    .dataframe tbody tr th {\n",
       "        vertical-align: top;\n",
       "    }\n",
       "\n",
       "    .dataframe thead th {\n",
       "        text-align: right;\n",
       "    }\n",
       "</style>\n",
       "<table border=\"1\" class=\"dataframe\">\n",
       "  <thead>\n",
       "    <tr style=\"text-align: right;\">\n",
       "      <th></th>\n",
       "      <th>HR@5</th>\n",
       "      <th>MRR@5</th>\n",
       "      <th>Coverage@5</th>\n",
       "      <th>HR_pos@5</th>\n",
       "      <th>HR_neg@5</th>\n",
       "      <th>MRR_pos@5</th>\n",
       "      <th>MRR_neg@5</th>\n",
       "      <th>Matthews@5</th>\n",
       "    </tr>\n",
       "  </thead>\n",
       "  <tbody>\n",
       "    <tr>\n",
       "      <th>5</th>\n",
       "      <td>0.045056</td>\n",
       "      <td>0.024543</td>\n",
       "      <td>0.265899</td>\n",
       "      <td>0.043054</td>\n",
       "      <td>0.002003</td>\n",
       "      <td>0.023838</td>\n",
       "      <td>0.000705</td>\n",
       "      <td>0.032261</td>\n",
       "    </tr>\n",
       "  </tbody>\n",
       "</table>\n",
       "</div>"
      ],
      "text/plain": [
       "       HR@5     MRR@5  Coverage@5  HR_pos@5  HR_neg@5  MRR_pos@5  MRR_neg@5  \\\n",
       "5  0.045056  0.024543    0.265899  0.043054  0.002003   0.023838   0.000705   \n",
       "\n",
       "   Matthews@5  \n",
       "5    0.032261  "
      ]
     },
     "metadata": {},
     "output_type": "display_data"
    },
    {
     "data": {
      "text/html": [
       "<div>\n",
       "<style scoped>\n",
       "    .dataframe tbody tr th:only-of-type {\n",
       "        vertical-align: middle;\n",
       "    }\n",
       "\n",
       "    .dataframe tbody tr th {\n",
       "        vertical-align: top;\n",
       "    }\n",
       "\n",
       "    .dataframe thead th {\n",
       "        text-align: right;\n",
       "    }\n",
       "</style>\n",
       "<table border=\"1\" class=\"dataframe\">\n",
       "  <thead>\n",
       "    <tr style=\"text-align: right;\">\n",
       "      <th></th>\n",
       "      <th>HR@10</th>\n",
       "      <th>MRR@10</th>\n",
       "      <th>Coverage@10</th>\n",
       "      <th>HR_pos@10</th>\n",
       "      <th>HR_neg@10</th>\n",
       "      <th>MRR_pos@10</th>\n",
       "      <th>MRR_neg@10</th>\n",
       "      <th>Matthews@10</th>\n",
       "    </tr>\n",
       "  </thead>\n",
       "  <tbody>\n",
       "    <tr>\n",
       "      <th>10</th>\n",
       "      <td>0.069337</td>\n",
       "      <td>0.027761</td>\n",
       "      <td>0.352413</td>\n",
       "      <td>0.065081</td>\n",
       "      <td>0.004255</td>\n",
       "      <td>0.026786</td>\n",
       "      <td>0.000975</td>\n",
       "      <td>0.024068</td>\n",
       "    </tr>\n",
       "  </tbody>\n",
       "</table>\n",
       "</div>"
      ],
      "text/plain": [
       "       HR@10    MRR@10  Coverage@10  HR_pos@10  HR_neg@10  MRR_pos@10  \\\n",
       "10  0.069337  0.027761     0.352413   0.065081   0.004255    0.026786   \n",
       "\n",
       "    MRR_neg@10  Matthews@10  \n",
       "10    0.000975     0.024068  "
      ]
     },
     "metadata": {},
     "output_type": "display_data"
    },
    {
     "data": {
      "text/html": [
       "<div>\n",
       "<style scoped>\n",
       "    .dataframe tbody tr th:only-of-type {\n",
       "        vertical-align: middle;\n",
       "    }\n",
       "\n",
       "    .dataframe tbody tr th {\n",
       "        vertical-align: top;\n",
       "    }\n",
       "\n",
       "    .dataframe thead th {\n",
       "        text-align: right;\n",
       "    }\n",
       "</style>\n",
       "<table border=\"1\" class=\"dataframe\">\n",
       "  <thead>\n",
       "    <tr style=\"text-align: right;\">\n",
       "      <th></th>\n",
       "      <th>HR@20</th>\n",
       "      <th>MRR@20</th>\n",
       "      <th>Coverage@20</th>\n",
       "      <th>HR_pos@20</th>\n",
       "      <th>HR_neg@20</th>\n",
       "      <th>MRR_pos@20</th>\n",
       "      <th>MRR_neg@20</th>\n",
       "      <th>Matthews@20</th>\n",
       "    </tr>\n",
       "  </thead>\n",
       "  <tbody>\n",
       "    <tr>\n",
       "      <th>20</th>\n",
       "      <td>0.097622</td>\n",
       "      <td>0.029686</td>\n",
       "      <td>0.460731</td>\n",
       "      <td>0.090864</td>\n",
       "      <td>0.006758</td>\n",
       "      <td>0.028565</td>\n",
       "      <td>0.001122</td>\n",
       "      <td>0.019788</td>\n",
       "    </tr>\n",
       "  </tbody>\n",
       "</table>\n",
       "</div>"
      ],
      "text/plain": [
       "       HR@20    MRR@20  Coverage@20  HR_pos@20  HR_neg@20  MRR_pos@20  \\\n",
       "20  0.097622  0.029686     0.460731   0.090864   0.006758    0.028565   \n",
       "\n",
       "    MRR_neg@20  Matthews@20  \n",
       "20    0.001122     0.019788  "
      ]
     },
     "metadata": {},
     "output_type": "display_data"
    },
    {
     "name": "stdout",
     "output_type": "stream",
     "text": [
      "\n",
      "\n",
      "Hidden sizes: 512\n",
      "Current epoch 31. Best model found at epoch 21\n"
     ]
    },
    {
     "data": {
      "image/png": "[encoded data removed]",
      "text/plain": [
       "<Figure size 640x480 with 1 Axes>"
      ]
     },
     "metadata": {},
     "output_type": "display_data"
    },
    {
     "name": "stdout",
     "output_type": "stream",
     "text": [
      "Test loss: 0.001499646365153538\n",
      "Train loss: 0.00034960565487667466\n",
      "Epochs: 21\n"
     ]
    },
    {
     "data": {
      "text/html": [
       "<div>\n",
       "<style scoped>\n",
       "    .dataframe tbody tr th:only-of-type {\n",
       "        vertical-align: middle;\n",
       "    }\n",
       "\n",
       "    .dataframe tbody tr th {\n",
       "        vertical-align: top;\n",
       "    }\n",
       "\n",
       "    .dataframe thead th {\n",
       "        text-align: right;\n",
       "    }\n",
       "</style>\n",
       "<table border=\"1\" class=\"dataframe\">\n",
       "  <thead>\n",
       "    <tr style=\"text-align: right;\">\n",
       "      <th></th>\n",
       "      <th>HR@5</th>\n",
       "      <th>MRR@5</th>\n",
       "      <th>Coverage@5</th>\n",
       "      <th>HR_pos@5</th>\n",
       "      <th>HR_neg@5</th>\n",
       "      <th>MRR_pos@5</th>\n",
       "      <th>MRR_neg@5</th>\n",
       "      <th>Matthews@5</th>\n",
       "    </tr>\n",
       "  </thead>\n",
       "  <tbody>\n",
       "    <tr>\n",
       "      <th>5</th>\n",
       "      <td>0.041302</td>\n",
       "      <td>0.024401</td>\n",
       "      <td>0.370483</td>\n",
       "      <td>0.04005</td>\n",
       "      <td>0.001252</td>\n",
       "      <td>0.023642</td>\n",
       "      <td>0.000759</td>\n",
       "      <td>0.04129</td>\n",
       "    </tr>\n",
       "  </tbody>\n",
       "</table>\n",
       "</div>"
      ],
      "text/plain": [
       "       HR@5     MRR@5  Coverage@5  HR_pos@5  HR_neg@5  MRR_pos@5  MRR_neg@5  \\\n",
       "5  0.041302  0.024401    0.370483   0.04005  0.001252   0.023642   0.000759   \n",
       "\n",
       "   Matthews@5  \n",
       "5     0.04129  "
      ]
     },
     "metadata": {},
     "output_type": "display_data"
    },
    {
     "data": {
      "text/html": [
       "<div>\n",
       "<style scoped>\n",
       "    .dataframe tbody tr th:only-of-type {\n",
       "        vertical-align: middle;\n",
       "    }\n",
       "\n",
       "    .dataframe tbody tr th {\n",
       "        vertical-align: top;\n",
       "    }\n",
       "\n",
       "    .dataframe thead th {\n",
       "        text-align: right;\n",
       "    }\n",
       "</style>\n",
       "<table border=\"1\" class=\"dataframe\">\n",
       "  <thead>\n",
       "    <tr style=\"text-align: right;\">\n",
       "      <th></th>\n",
       "      <th>HR@10</th>\n",
       "      <th>MRR@10</th>\n",
       "      <th>Coverage@10</th>\n",
       "      <th>HR_pos@10</th>\n",
       "      <th>HR_neg@10</th>\n",
       "      <th>MRR_pos@10</th>\n",
       "      <th>MRR_neg@10</th>\n",
       "      <th>Matthews@10</th>\n",
       "    </tr>\n",
       "  </thead>\n",
       "  <tbody>\n",
       "    <tr>\n",
       "      <th>10</th>\n",
       "      <td>0.060075</td>\n",
       "      <td>0.026958</td>\n",
       "      <td>0.497173</td>\n",
       "      <td>0.057322</td>\n",
       "      <td>0.002753</td>\n",
       "      <td>0.025983</td>\n",
       "      <td>0.000975</td>\n",
       "      <td>0.036296</td>\n",
       "    </tr>\n",
       "  </tbody>\n",
       "</table>\n",
       "</div>"
      ],
      "text/plain": [
       "       HR@10    MRR@10  Coverage@10  HR_pos@10  HR_neg@10  MRR_pos@10  \\\n",
       "10  0.060075  0.026958     0.497173   0.057322   0.002753    0.025983   \n",
       "\n",
       "    MRR_neg@10  Matthews@10  \n",
       "10    0.000975     0.036296  "
      ]
     },
     "metadata": {},
     "output_type": "display_data"
    },
    {
     "data": {
      "text/html": [
       "<div>\n",
       "<style scoped>\n",
       "    .dataframe tbody tr th:only-of-type {\n",
       "        vertical-align: middle;\n",
       "    }\n",
       "\n",
       "    .dataframe tbody tr th {\n",
       "        vertical-align: top;\n",
       "    }\n",
       "\n",
       "    .dataframe thead th {\n",
       "        text-align: right;\n",
       "    }\n",
       "</style>\n",
       "<table border=\"1\" class=\"dataframe\">\n",
       "  <thead>\n",
       "    <tr style=\"text-align: right;\">\n",
       "      <th></th>\n",
       "      <th>HR@20</th>\n",
       "      <th>MRR@20</th>\n",
       "      <th>Coverage@20</th>\n",
       "      <th>HR_pos@20</th>\n",
       "      <th>HR_neg@20</th>\n",
       "      <th>MRR_pos@20</th>\n",
       "      <th>MRR_neg@20</th>\n",
       "      <th>Matthews@20</th>\n",
       "    </tr>\n",
       "  </thead>\n",
       "  <tbody>\n",
       "    <tr>\n",
       "      <th>20</th>\n",
       "      <td>0.087359</td>\n",
       "      <td>0.028836</td>\n",
       "      <td>0.628609</td>\n",
       "      <td>0.083354</td>\n",
       "      <td>0.004005</td>\n",
       "      <td>0.027777</td>\n",
       "      <td>0.001059</td>\n",
       "      <td>0.044405</td>\n",
       "    </tr>\n",
       "  </tbody>\n",
       "</table>\n",
       "</div>"
      ],
      "text/plain": [
       "       HR@20    MRR@20  Coverage@20  HR_pos@20  HR_neg@20  MRR_pos@20  \\\n",
       "20  0.087359  0.028836     0.628609   0.083354   0.004005    0.027777   \n",
       "\n",
       "    MRR_neg@20  Matthews@20  \n",
       "20    0.001059     0.044405  "
      ]
     },
     "metadata": {},
     "output_type": "display_data"
    },
    {
     "name": "stdout",
     "output_type": "stream",
     "text": [
      "\n",
      "\n",
      "Hidden sizes: 1024\n",
      "Current epoch 23. Best model found at epoch 13\n"
     ]
    },
    {
     "data": {
      "image/png": "[encoded data removed]",
      "text/plain": [
       "<Figure size 640x480 with 1 Axes>"
      ]
     },
     "metadata": {},
     "output_type": "display_data"
    },
    {
     "name": "stdout",
     "output_type": "stream",
     "text": [
      "Test loss: 0.0013998409492646008\n",
      "Train loss: 0.00023737902735585724\n",
      "Epochs: 13\n"
     ]
    },
    {
     "data": {
      "text/html": [
       "<div>\n",
       "<style scoped>\n",
       "    .dataframe tbody tr th:only-of-type {\n",
       "        vertical-align: middle;\n",
       "    }\n",
       "\n",
       "    .dataframe tbody tr th {\n",
       "        vertical-align: top;\n",
       "    }\n",
       "\n",
       "    .dataframe thead th {\n",
       "        text-align: right;\n",
       "    }\n",
       "</style>\n",
       "<table border=\"1\" class=\"dataframe\">\n",
       "  <thead>\n",
       "    <tr style=\"text-align: right;\">\n",
       "      <th></th>\n",
       "      <th>HR@5</th>\n",
       "      <th>MRR@5</th>\n",
       "      <th>Coverage@5</th>\n",
       "      <th>HR_pos@5</th>\n",
       "      <th>HR_neg@5</th>\n",
       "      <th>MRR_pos@5</th>\n",
       "      <th>MRR_neg@5</th>\n",
       "      <th>Matthews@5</th>\n",
       "    </tr>\n",
       "  </thead>\n",
       "  <tbody>\n",
       "    <tr>\n",
       "      <th>5</th>\n",
       "      <td>0.039299</td>\n",
       "      <td>0.02315</td>\n",
       "      <td>0.38189</td>\n",
       "      <td>0.037797</td>\n",
       "      <td>0.001502</td>\n",
       "      <td>0.022716</td>\n",
       "      <td>0.000434</td>\n",
       "      <td>0.034529</td>\n",
       "    </tr>\n",
       "  </tbody>\n",
       "</table>\n",
       "</div>"
      ],
      "text/plain": [
       "       HR@5    MRR@5  Coverage@5  HR_pos@5  HR_neg@5  MRR_pos@5  MRR_neg@5  \\\n",
       "5  0.039299  0.02315     0.38189  0.037797  0.001502   0.022716   0.000434   \n",
       "\n",
       "   Matthews@5  \n",
       "5    0.034529  "
      ]
     },
     "metadata": {},
     "output_type": "display_data"
    },
    {
     "data": {
      "text/html": [
       "<div>\n",
       "<style scoped>\n",
       "    .dataframe tbody tr th:only-of-type {\n",
       "        vertical-align: middle;\n",
       "    }\n",
       "\n",
       "    .dataframe tbody tr th {\n",
       "        vertical-align: top;\n",
       "    }\n",
       "\n",
       "    .dataframe thead th {\n",
       "        text-align: right;\n",
       "    }\n",
       "</style>\n",
       "<table border=\"1\" class=\"dataframe\">\n",
       "  <thead>\n",
       "    <tr style=\"text-align: right;\">\n",
       "      <th></th>\n",
       "      <th>HR@10</th>\n",
       "      <th>MRR@10</th>\n",
       "      <th>Coverage@10</th>\n",
       "      <th>HR_pos@10</th>\n",
       "      <th>HR_neg@10</th>\n",
       "      <th>MRR_pos@10</th>\n",
       "      <th>MRR_neg@10</th>\n",
       "      <th>Matthews@10</th>\n",
       "    </tr>\n",
       "  </thead>\n",
       "  <tbody>\n",
       "    <tr>\n",
       "      <th>10</th>\n",
       "      <td>0.059574</td>\n",
       "      <td>0.025758</td>\n",
       "      <td>0.514537</td>\n",
       "      <td>0.057071</td>\n",
       "      <td>0.002503</td>\n",
       "      <td>0.025188</td>\n",
       "      <td>0.00057</td>\n",
       "      <td>0.039559</td>\n",
       "    </tr>\n",
       "  </tbody>\n",
       "</table>\n",
       "</div>"
      ],
      "text/plain": [
       "       HR@10    MRR@10  Coverage@10  HR_pos@10  HR_neg@10  MRR_pos@10  \\\n",
       "10  0.059574  0.025758     0.514537   0.057071   0.002503    0.025188   \n",
       "\n",
       "    MRR_neg@10  Matthews@10  \n",
       "10     0.00057     0.039559  "
      ]
     },
     "metadata": {},
     "output_type": "display_data"
    },
    {
     "data": {
      "text/html": [
       "<div>\n",
       "<style scoped>\n",
       "    .dataframe tbody tr th:only-of-type {\n",
       "        vertical-align: middle;\n",
       "    }\n",
       "\n",
       "    .dataframe tbody tr th {\n",
       "        vertical-align: top;\n",
       "    }\n",
       "\n",
       "    .dataframe thead th {\n",
       "        text-align: right;\n",
       "    }\n",
       "</style>\n",
       "<table border=\"1\" class=\"dataframe\">\n",
       "  <thead>\n",
       "    <tr style=\"text-align: right;\">\n",
       "      <th></th>\n",
       "      <th>HR@20</th>\n",
       "      <th>MRR@20</th>\n",
       "      <th>Coverage@20</th>\n",
       "      <th>HR_pos@20</th>\n",
       "      <th>HR_neg@20</th>\n",
       "      <th>MRR_pos@20</th>\n",
       "      <th>MRR_neg@20</th>\n",
       "      <th>Matthews@20</th>\n",
       "    </tr>\n",
       "  </thead>\n",
       "  <tbody>\n",
       "    <tr>\n",
       "      <th>20</th>\n",
       "      <td>0.08811</td>\n",
       "      <td>0.027722</td>\n",
       "      <td>0.647486</td>\n",
       "      <td>0.082854</td>\n",
       "      <td>0.005257</td>\n",
       "      <td>0.026965</td>\n",
       "      <td>0.000758</td>\n",
       "      <td>0.029307</td>\n",
       "    </tr>\n",
       "  </tbody>\n",
       "</table>\n",
       "</div>"
      ],
      "text/plain": [
       "      HR@20    MRR@20  Coverage@20  HR_pos@20  HR_neg@20  MRR_pos@20  \\\n",
       "20  0.08811  0.027722     0.647486   0.082854   0.005257    0.026965   \n",
       "\n",
       "    MRR_neg@20  Matthews@20  \n",
       "20    0.000758     0.029307  "
      ]
     },
     "metadata": {},
     "output_type": "display_data"
    },
    {
     "name": "stdout",
     "output_type": "stream",
     "text": [
      "\n",
      "\n"
     ]
    }
   ],
   "source": [
    "params = []\n",
    "histories = []\n",
    "test_losses = []\n",
    "mrrs = []\n",
    "hrs = []\n",
    "cs = []\n",
    "early_stop = 10\n",
    "n_epochs = 1000\n",
    "\n",
    "\n",
    "for h in tqdm(grid):\n",
    "    print('Hidden sizes:', h)\n",
    "    \n",
    "    bae = baseAE(data_description['n_items'], h).to(device)\n",
    "    criterion = nn.BCEWithLogitsLoss().to(device)\n",
    "    optimizer = optim.Adam(bae.parameters())\n",
    "    scheduler = optim.lr_scheduler.ExponentialLR(optimizer, gamma=0.9)\n",
    "    \n",
    "    params.append(sum(p.numel() for p in bae.parameters() if p.requires_grad))\n",
    "    \n",
    "    # Training the AE\n",
    "    history = []\n",
    "    val_history = []\n",
    "#     prev_train_loss = [1000]\n",
    "    prev_test_loss = [1000]\n",
    "    train_loss = 0.1 * len(train_dataloader)\n",
    "    epoch = 1\n",
    "    \n",
    "    for epoch in range(1, n_epochs+1):\n",
    "        train_loss = 0\n",
    "        for user_matrix in train_dataloader:\n",
    "            optimizer.zero_grad()\n",
    "\n",
    "            input_tensor, target = user_matrix\n",
    "            input_tensor, target = input_tensor.to_dense().to(device), target.to_dense().to(device)\n",
    "\n",
    "            output = bae(input_tensor)\n",
    "            target.require_grad = False # we don't use it in training\n",
    "\n",
    "            loss = criterion(output, target)\n",
    "            loss.backward()\n",
    "            optimizer.step()\n",
    "            train_loss += loss.data.item()\n",
    "\n",
    "        scheduler.step()\n",
    "        tr_loss = train_loss / len(train_dataloader)\n",
    "        history.append(tr_loss)\n",
    "\n",
    "    #     print('epoch: '+str(epoch)+' loss: '+str(train_loss / len(train_dataloader)))\n",
    "        test_loss = 0\n",
    "        with torch.no_grad():\n",
    "            for user in testset.userid.unique():\n",
    "                itemidx = testset.loc[testset.userid == user, data_description['items']].values\n",
    "                values = np.ones(len(itemidx), dtype=np.float32)\n",
    "\n",
    "                user_tensor_test = torch.sparse_coo_tensor(np.array([itemidx]), torch.tensor(values),\n",
    "                                          size=torch.Size((data_description[\"n_items\"], ))).to_dense().to(device).unsqueeze(0)\n",
    "                target = user_tensor_test.clone()\n",
    "\n",
    "                output = bae(user_tensor_test)\n",
    "                target.require_grad = False\n",
    "\n",
    "                loss = criterion(output, target)\n",
    "                test_loss += loss.data.item()\n",
    "\n",
    "            test_losses.append(test_loss / testset.userid.nunique())\n",
    "        val_loss = test_loss / testset.userid.nunique()\n",
    "        val_history.append(val_loss)\n",
    "        \n",
    "        if prev_test_loss[-1] > val_loss:\n",
    "            prev_test_loss = [val_loss]\n",
    "            torch.save(bae.state_dict(), f'best_bae_{h}.pt')\n",
    "        else:\n",
    "            prev_test_loss.append(val_loss)\n",
    "        \n",
    "        stop = epoch if epoch < early_stop else epoch-early_stop\n",
    "        if len(prev_test_loss) == early_stop:\n",
    "            print(f'Current epoch {epoch}. Best model found at epoch {stop}')\n",
    "            break\n",
    "        \n",
    "        # only for this weird model (where dev loss increases)\n",
    "#         if prev_train_loss[-1] > tr_loss:\n",
    "#             prev_train_loss = [tr_loss]\n",
    "#             torch.save(bae.state_dict(), f'best_bae_{h}.pt')\n",
    "#         else:\n",
    "#             prev_train_loss.append(tr_loss)\n",
    "        \n",
    "#         stop = epoch if epoch < early_stop else epoch-early_stop\n",
    "#         if len(prev_train_loss) == early_stop:\n",
    "#             print(f'Current epoch {epoch}. Best model found at epoch {stop}')\n",
    "#             break\n",
    "            \n",
    "        epoch += 1\n",
    "    \n",
    "    # Testing the AE\n",
    "    test_loss = 0\n",
    "    scores = torch.zeros((len(testset_valid.userid.unique()), data_description['n_items']))\n",
    "    model = baseAE(data_description['n_items'], h).to(device)\n",
    "    model.load_state_dict(torch.load(f'best_bae_{h}.pt'))\n",
    "\n",
    "    for i, user in enumerate(testset_valid.userid.unique()):\n",
    "        itemidx = testset_valid.loc[testset_valid.userid == user, data_description['items']].values\n",
    "        values = np.ones(len(itemidx), dtype=np.float32)\n",
    "\n",
    "        user_tensor_test = torch.sparse_coo_tensor(np.array([itemidx]), torch.tensor(values),\n",
    "                                  size=torch.Size((data_description[\"n_items\"], ))).to_dense().to(device).unsqueeze(0)\n",
    "        target = user_tensor_test.clone()\n",
    "\n",
    "        output = model(user_tensor_test)\n",
    "        scores[i] = output[0].T\n",
    "        target.require_grad = False\n",
    "\n",
    "        loss = criterion(output, target)\n",
    "        test_loss += loss.data.item()\n",
    "    \n",
    "    scores = scores.detach().numpy()        \n",
    "    \n",
    "    # our\n",
    "    plt.plot(history, label='train')\n",
    "    plt.plot(val_history, label='val')\n",
    "    plt.legend()\n",
    "    plt.show()\n",
    "    print('Test loss:', val_history[-min(early_stop, epoch)])\n",
    "    print('Train loss:', history[-min(early_stop, epoch)])\n",
    "    print('Epochs:', stop)\n",
    "    downvote_seen_items(scores, testset_valid, data_description)\n",
    "    mrr10, hr10, c10 = make_prediction(scores, holdout_valid, data_description)\n",
    "    mrrs.append(mrr10)\n",
    "    hrs.append(hr10)\n",
    "    cs.append(c10)\n",
    "    \n",
    "    print()\n",
    "    print()"
   ]
  },
  {
   "cell_type": "markdown",
   "id": "2bd0e131",
   "metadata": {},
   "source": [
    "## VAE"
   ]
  },
  {
   "cell_type": "code",
   "execution_count": 70,
   "id": "5daa6e6e",
   "metadata": {
    "ExecuteTime": {
     "end_time": "2023-03-15T11:49:43.617803Z",
     "start_time": "2023-03-15T11:49:43.604806Z"
    }
   },
   "outputs": [
    {
     "data": {
      "text/plain": [
       "device(type='cuda', index=0)"
      ]
     },
     "execution_count": 70,
     "metadata": {},
     "output_type": "execute_result"
    }
   ],
   "source": [
    "device = torch.device('cuda:0' if torch.cuda.is_available() else 'cpu')\n",
    "device"
   ]
  },
  {
   "cell_type": "code",
   "execution_count": 97,
   "id": "9f713d16",
   "metadata": {
    "ExecuteTime": {
     "end_time": "2023-03-15T12:11:53.455155Z",
     "start_time": "2023-03-15T12:11:53.369157Z"
    }
   },
   "outputs": [],
   "source": [
    "alpha = 3\n",
    "\n",
    "# training\n",
    "vae_training = training[training['rating']>=alpha]\n",
    "n_users = vae_training['userid'].max()+1\n",
    "n_items = data_description['n_items']\n",
    "\n",
    "rows, cols = vae_training['userid'], vae_training['movieid']\n",
    "vae_train_data = sparse.csr_matrix((np.ones_like(rows),\n",
    "                         (rows, cols)), dtype='float64',\n",
    "                         shape=(n_users, n_items))\n",
    "\n",
    "# validation\n",
    "start_idx = min(testset_valid['userid'].min(), holdout_valid['userid'].min())\n",
    "end_idx = max(testset_valid['userid'].max(), holdout_valid['userid'].max())\n",
    "\n",
    "rows_tr, cols_tr = testset_valid['userid'] - start_idx, testset_valid['movieid']\n",
    "rows_te, cols_te = holdout_valid['userid'] - start_idx, holdout_valid['movieid']\n",
    "\n",
    "valid_in_data = sparse.csr_matrix((np.ones_like(rows_tr),\n",
    "                         (rows_tr, cols_tr)), dtype='float64', shape=(end_idx - start_idx + 1, n_items))\n",
    "valid_out_data = sparse.csr_matrix((np.ones_like(rows_te),\n",
    "                         (rows_te, cols_te)), dtype='float64', shape=(end_idx - start_idx + 1, n_items))\n",
    "\n",
    "# test\n",
    "start_idx = min(testset['userid'].min(), holdout['userid'].min())\n",
    "end_idx = max(testset['userid'].max(), holdout['userid'].max())\n",
    "\n",
    "rows_tr, cols_tr = testset['userid'] - start_idx, testset['movieid']\n",
    "rows_te, cols_te = holdout['userid'] - start_idx, holdout['movieid']\n",
    "\n",
    "test_in_data = sparse.csr_matrix((np.ones_like(rows_tr),\n",
    "                         (rows_tr, cols_tr)), dtype='float64', shape=(end_idx - start_idx + 1, n_items))\n",
    "test_out_data = sparse.csr_matrix((np.ones_like(rows_te),\n",
    "                         (rows_te, cols_te)), dtype='float64', shape=(end_idx - start_idx + 1, n_items))"
   ]
  },
  {
   "cell_type": "code",
   "execution_count": 105,
   "id": "4f7a7c0d",
   "metadata": {
    "ExecuteTime": {
     "end_time": "2023-03-15T12:13:54.042391Z",
     "start_time": "2023-03-15T12:13:53.877393Z"
    }
   },
   "outputs": [
    {
     "data": {
      "text/plain": [
       "(462784.0, 196310.0, 1705.0, 198048.0, 1738.0)"
      ]
     },
     "execution_count": 105,
     "metadata": {},
     "output_type": "execute_result"
    }
   ],
   "source": [
    "np.sum(vae_train_data.A), np.sum(valid_in_data.A), np.sum(valid_out_data.A), np.sum(test_in_data.A), np.sum(test_out_data.A)"
   ]
  },
  {
   "cell_type": "code",
   "execution_count": 129,
   "id": "0234c39e",
   "metadata": {
    "ExecuteTime": {
     "end_time": "2023-03-15T12:20:53.338110Z",
     "start_time": "2023-03-15T12:20:53.319110Z"
    },
    "code_folding": []
   },
   "outputs": [],
   "source": [
    "def generate(batch_size, device, data_in, data_out=None, shuffle=False, samples_perc_per_epoch=1):\n",
    "    assert 0 < samples_perc_per_epoch <= 1\n",
    "    \n",
    "    total_samples = data_in.shape[0]\n",
    "    samples_per_epoch = int(total_samples * samples_perc_per_epoch)\n",
    "    \n",
    "    if shuffle:\n",
    "        idxlist = np.arange(total_samples)\n",
    "        np.random.shuffle(idxlist)\n",
    "        idxlist = idxlist[:samples_per_epoch]\n",
    "    else:\n",
    "        idxlist = np.arange(samples_per_epoch)\n",
    "    \n",
    "    for st_idx in range(0, samples_per_epoch, batch_size):\n",
    "        end_idx = min(st_idx + batch_size, samples_per_epoch)\n",
    "        idx = idxlist[st_idx:end_idx]\n",
    "\n",
    "        yield Batch(device, idx, data_in, data_out)\n",
    "\n",
    "\n",
    "class Batch:\n",
    "    def __init__(self, device, idx, data_in, data_out=None):\n",
    "        self._device = device\n",
    "        self._idx = idx\n",
    "        self._data_in = data_in\n",
    "        self._data_out = data_out\n",
    "    \n",
    "    def get_idx(self):\n",
    "        return self._idx\n",
    "    \n",
    "    def get_idx_to_dev(self):\n",
    "        return torch.LongTensor(self.get_idx()).to(self._device)\n",
    "        \n",
    "    def get_ratings(self, is_out=False):\n",
    "        data = self._data_out if is_out else self._data_in\n",
    "        return data[self._idx]\n",
    "    \n",
    "    def get_ratings_to_dev(self, is_out=False):\n",
    "        return torch.Tensor(\n",
    "            self.get_ratings(is_out).toarray()\n",
    "        ).to(self._device)\n",
    "\n",
    "\n",
    "def evaluate(model, data_in, data_out, metrics, samples_perc_per_epoch=1, batch_size=500):\n",
    "    metrics = deepcopy(metrics)\n",
    "    model.eval()\n",
    "    \n",
    "    for m in metrics:\n",
    "        m['score'] = []\n",
    "    \n",
    "    for batch in generate(batch_size=batch_size,\n",
    "                          device=device,\n",
    "                          data_in=data_in,\n",
    "                          data_out=data_out,\n",
    "                          samples_perc_per_epoch=samples_perc_per_epoch\n",
    "                         ):\n",
    "        ratings_in = batch.get_ratings_to_dev()\n",
    "#         print(ratings_in)\n",
    "        ratings_out = batch.get_ratings(is_out=True)\n",
    "#         print(ratings_out)\n",
    "    \n",
    "        ratings_pred = model(ratings_in, calculate_loss=False).cpu().detach().numpy()\n",
    "#         print(ratings_pred)\n",
    "        \n",
    "        if not (data_in is data_out):\n",
    "            ratings_pred[batch.get_ratings().nonzero()] = -np.inf\n",
    "            \n",
    "        for m in metrics:\n",
    "            m['score'].append(m['metric'](ratings_pred, ratings_out, k=m['k']))\n",
    "\n",
    "    for m in metrics:\n",
    "        m['score'] = np.concatenate(m['score']).mean()\n",
    "        \n",
    "    return [x['score'] for x in metrics]\n",
    "\n",
    "\n",
    "def run(model, opts, train_data, batch_size, n_epochs, beta, gamma, dropout_rate):\n",
    "    model.train()\n",
    "    for epoch in range(n_epochs):\n",
    "        for batch in generate(batch_size=batch_size, device=device, data_in=train_data, shuffle=True):\n",
    "            ratings = batch.get_ratings_to_dev()\n",
    "#             print(ratings)\n",
    "\n",
    "            for optimizer in opts:\n",
    "                optimizer.zero_grad()\n",
    "                \n",
    "            a, loss = model(ratings, beta=beta, gamma=gamma, dropout_rate=dropout_rate)\n",
    "            print(a, loss)\n",
    "#             print(loss)\n",
    "            loss.backward()\n",
    "            \n",
    "            for optimizer in opts:\n",
    "                optimizer.step()"
   ]
  },
  {
   "cell_type": "code",
   "execution_count": 130,
   "id": "1d2851b4",
   "metadata": {
    "ExecuteTime": {
     "end_time": "2023-03-15T12:20:53.837161Z",
     "start_time": "2023-03-15T12:20:53.827159Z"
    }
   },
   "outputs": [],
   "source": [
    "grid1 = np.arange(100, 2100, 100)\n",
    "grid = np.meshgrid(grid1, grid1)"
   ]
  },
  {
   "cell_type": "code",
   "execution_count": 131,
   "id": "8ad55305",
   "metadata": {
    "ExecuteTime": {
     "end_time": "2023-03-15T12:20:56.255016Z",
     "start_time": "2023-03-15T12:20:54.074740Z"
    },
    "code_folding": [
     0,
     20,
     43
    ]
   },
   "outputs": [
    {
     "name": "stdout",
     "output_type": "stream",
     "text": [
      "(tensor(nan, device='cuda:0', grad_fn=<MeanBackward0>), tensor(nan, device='cuda:0', grad_fn=<MeanBackward0>)) tensor(nan, device='cuda:0', grad_fn=<NegBackward0>)\n",
      "(tensor(nan, device='cuda:0', grad_fn=<MeanBackward0>), tensor(nan, device='cuda:0', grad_fn=<MeanBackward0>)) tensor(nan, device='cuda:0', grad_fn=<NegBackward0>)\n",
      "(tensor(nan, device='cuda:0', grad_fn=<MeanBackward0>), tensor(nan, device='cuda:0', grad_fn=<MeanBackward0>)) tensor(nan, device='cuda:0', grad_fn=<NegBackward0>)\n",
      "(tensor(nan, device='cuda:0', grad_fn=<MeanBackward0>), tensor(nan, device='cuda:0', grad_fn=<MeanBackward0>)) tensor(nan, device='cuda:0', grad_fn=<NegBackward0>)\n",
      "(tensor(nan, device='cuda:0', grad_fn=<MeanBackward0>), tensor(nan, device='cuda:0', grad_fn=<MeanBackward0>)) tensor(nan, device='cuda:0', grad_fn=<NegBackward0>)\n",
      "(tensor(nan, device='cuda:0', grad_fn=<MeanBackward0>), tensor(nan, device='cuda:0', grad_fn=<MeanBackward0>)) tensor(nan, device='cuda:0', grad_fn=<NegBackward0>)\n",
      "(tensor(nan, device='cuda:0', grad_fn=<MeanBackward0>), tensor(nan, device='cuda:0', grad_fn=<MeanBackward0>)) tensor(nan, device='cuda:0', grad_fn=<NegBackward0>)\n",
      "(tensor(nan, device='cuda:0', grad_fn=<MeanBackward0>), tensor(nan, device='cuda:0', grad_fn=<MeanBackward0>)) tensor(nan, device='cuda:0', grad_fn=<NegBackward0>)\n",
      "(tensor(nan, device='cuda:0', grad_fn=<MeanBackward0>), tensor(nan, device='cuda:0', grad_fn=<MeanBackward0>)) tensor(nan, device='cuda:0', grad_fn=<NegBackward0>)\n",
      "(tensor(nan, device='cuda:0', grad_fn=<MeanBackward0>), tensor(nan, device='cuda:0', grad_fn=<MeanBackward0>)) tensor(nan, device='cuda:0', grad_fn=<NegBackward0>)\n",
      "(tensor(nan, device='cuda:0', grad_fn=<MeanBackward0>), tensor(nan, device='cuda:0', grad_fn=<MeanBackward0>)) tensor(nan, device='cuda:0', grad_fn=<NegBackward0>)\n",
      "(tensor(nan, device='cuda:0', grad_fn=<MeanBackward0>), tensor(nan, device='cuda:0', grad_fn=<MeanBackward0>)) tensor(nan, device='cuda:0', grad_fn=<NegBackward0>)\n",
      "(tensor(nan, device='cuda:0', grad_fn=<MeanBackward0>), tensor(nan, device='cuda:0', grad_fn=<MeanBackward0>)) tensor(nan, device='cuda:0', grad_fn=<NegBackward0>)\n",
      "(tensor(nan, device='cuda:0', grad_fn=<MeanBackward0>), tensor(nan, device='cuda:0', grad_fn=<MeanBackward0>)) tensor(nan, device='cuda:0', grad_fn=<NegBackward0>)\n",
      "(tensor(nan, device='cuda:0', grad_fn=<MeanBackward0>), tensor(nan, device='cuda:0', grad_fn=<MeanBackward0>)) tensor(nan, device='cuda:0', grad_fn=<NegBackward0>)\n",
      "(tensor(nan, device='cuda:0', grad_fn=<MeanBackward0>), tensor(nan, device='cuda:0', grad_fn=<MeanBackward0>)) tensor(nan, device='cuda:0', grad_fn=<NegBackward0>)\n",
      "(tensor(nan, device='cuda:0', grad_fn=<MeanBackward0>), tensor(nan, device='cuda:0', grad_fn=<MeanBackward0>)) tensor(nan, device='cuda:0', grad_fn=<NegBackward0>)\n",
      "(tensor(nan, device='cuda:0', grad_fn=<MeanBackward0>), tensor(nan, device='cuda:0', grad_fn=<MeanBackward0>)) tensor(nan, device='cuda:0', grad_fn=<NegBackward0>)\n",
      "(tensor(nan, device='cuda:0', grad_fn=<MeanBackward0>), tensor(nan, device='cuda:0', grad_fn=<MeanBackward0>)) tensor(nan, device='cuda:0', grad_fn=<NegBackward0>)\n",
      "(tensor(nan, device='cuda:0', grad_fn=<MeanBackward0>), tensor(nan, device='cuda:0', grad_fn=<MeanBackward0>)) tensor(nan, device='cuda:0', grad_fn=<NegBackward0>)\n",
      "(tensor(nan, device='cuda:0', grad_fn=<MeanBackward0>), tensor(nan, device='cuda:0', grad_fn=<MeanBackward0>)) tensor(nan, device='cuda:0', grad_fn=<NegBackward0>)\n",
      "(tensor(nan, device='cuda:0', grad_fn=<MeanBackward0>), tensor(nan, device='cuda:0', grad_fn=<MeanBackward0>)) tensor(nan, device='cuda:0', grad_fn=<NegBackward0>)\n",
      "(tensor(nan, device='cuda:0', grad_fn=<MeanBackward0>), tensor(nan, device='cuda:0', grad_fn=<MeanBackward0>)) tensor(nan, device='cuda:0', grad_fn=<NegBackward0>)\n",
      "(tensor(nan, device='cuda:0', grad_fn=<MeanBackward0>), tensor(nan, device='cuda:0', grad_fn=<MeanBackward0>)) tensor(nan, device='cuda:0', grad_fn=<NegBackward0>)\n",
      "(tensor(nan, device='cuda:0', grad_fn=<MeanBackward0>), tensor(nan, device='cuda:0', grad_fn=<MeanBackward0>)) tensor(nan, device='cuda:0', grad_fn=<NegBackward0>)\n",
      "(tensor(nan, device='cuda:0', grad_fn=<MeanBackward0>), tensor(nan, device='cuda:0', grad_fn=<MeanBackward0>)) tensor(nan, device='cuda:0', grad_fn=<NegBackward0>)\n",
      "(tensor(nan, device='cuda:0', grad_fn=<MeanBackward0>), tensor(nan, device='cuda:0', grad_fn=<MeanBackward0>)) tensor(nan, device='cuda:0', grad_fn=<NegBackward0>)\n",
      "(tensor(nan, device='cuda:0', grad_fn=<MeanBackward0>), tensor(nan, device='cuda:0', grad_fn=<MeanBackward0>)) tensor(nan, device='cuda:0', grad_fn=<NegBackward0>)\n",
      "(tensor(nan, device='cuda:0', grad_fn=<MeanBackward0>), tensor(nan, device='cuda:0', grad_fn=<MeanBackward0>)) tensor(nan, device='cuda:0', grad_fn=<NegBackward0>)\n",
      "(tensor(nan, device='cuda:0', grad_fn=<MeanBackward0>), tensor(nan, device='cuda:0', grad_fn=<MeanBackward0>)) tensor(nan, device='cuda:0', grad_fn=<NegBackward0>)\n",
      "(tensor(nan, device='cuda:0', grad_fn=<MeanBackward0>), tensor(nan, device='cuda:0', grad_fn=<MeanBackward0>)) tensor(nan, device='cuda:0', grad_fn=<NegBackward0>)\n",
      "(tensor(nan, device='cuda:0', grad_fn=<MeanBackward0>), tensor(nan, device='cuda:0', grad_fn=<MeanBackward0>)) tensor(nan, device='cuda:0', grad_fn=<NegBackward0>)\n",
      "(tensor(nan, device='cuda:0', grad_fn=<MeanBackward0>), tensor(nan, device='cuda:0', grad_fn=<MeanBackward0>)) tensor(nan, device='cuda:0', grad_fn=<NegBackward0>)\n",
      "(tensor(nan, device='cuda:0', grad_fn=<MeanBackward0>), tensor(nan, device='cuda:0', grad_fn=<MeanBackward0>)) tensor(nan, device='cuda:0', grad_fn=<NegBackward0>)\n",
      "(tensor(nan, device='cuda:0', grad_fn=<MeanBackward0>), tensor(nan, device='cuda:0', grad_fn=<MeanBackward0>)) tensor(nan, device='cuda:0', grad_fn=<NegBackward0>)\n",
      "(tensor(nan, device='cuda:0', grad_fn=<MeanBackward0>), tensor(nan, device='cuda:0', grad_fn=<MeanBackward0>)) tensor(nan, device='cuda:0', grad_fn=<NegBackward0>)\n"
     ]
    },
    {
     "name": "stderr",
     "output_type": "stream",
     "text": [
      "C:\\Users\\Liza\\Desktop\\Thesis\\RecVAE\\utils.py:98: RuntimeWarning: invalid value encountered in true_divide\n",
      "  return DCG / IDCG\n"
     ]
    },
    {
     "name": "stdout",
     "output_type": "stream",
     "text": [
      "epoch 0 | valid ndcg@100: nan | best valid: -inf | train ndcg@100: 0.0184\n",
      "(tensor(nan, device='cuda:0', grad_fn=<MeanBackward0>), tensor(nan, device='cuda:0', grad_fn=<MeanBackward0>)) tensor(nan, device='cuda:0', grad_fn=<NegBackward0>)\n",
      "(tensor(nan, device='cuda:0', grad_fn=<MeanBackward0>), tensor(nan, device='cuda:0', grad_fn=<MeanBackward0>)) tensor(nan, device='cuda:0', grad_fn=<NegBackward0>)\n",
      "(tensor(nan, device='cuda:0', grad_fn=<MeanBackward0>), tensor(nan, device='cuda:0', grad_fn=<MeanBackward0>)) tensor(nan, device='cuda:0', grad_fn=<NegBackward0>)\n",
      "(tensor(nan, device='cuda:0', grad_fn=<MeanBackward0>), tensor(nan, device='cuda:0', grad_fn=<MeanBackward0>)) tensor(nan, device='cuda:0', grad_fn=<NegBackward0>)\n",
      "(tensor(nan, device='cuda:0', grad_fn=<MeanBackward0>), tensor(nan, device='cuda:0', grad_fn=<MeanBackward0>)) tensor(nan, device='cuda:0', grad_fn=<NegBackward0>)\n",
      "(tensor(nan, device='cuda:0', grad_fn=<MeanBackward0>), tensor(nan, device='cuda:0', grad_fn=<MeanBackward0>)) tensor(nan, device='cuda:0', grad_fn=<NegBackward0>)\n",
      "(tensor(nan, device='cuda:0', grad_fn=<MeanBackward0>), tensor(nan, device='cuda:0', grad_fn=<MeanBackward0>)) tensor(nan, device='cuda:0', grad_fn=<NegBackward0>)\n",
      "(tensor(nan, device='cuda:0', grad_fn=<MeanBackward0>), tensor(nan, device='cuda:0', grad_fn=<MeanBackward0>)) tensor(nan, device='cuda:0', grad_fn=<NegBackward0>)\n",
      "(tensor(nan, device='cuda:0', grad_fn=<MeanBackward0>), tensor(nan, device='cuda:0', grad_fn=<MeanBackward0>)) tensor(nan, device='cuda:0', grad_fn=<NegBackward0>)\n",
      "(tensor(nan, device='cuda:0', grad_fn=<MeanBackward0>), tensor(nan, device='cuda:0', grad_fn=<MeanBackward0>)) tensor(nan, device='cuda:0', grad_fn=<NegBackward0>)\n",
      "(tensor(nan, device='cuda:0', grad_fn=<MeanBackward0>), tensor(nan, device='cuda:0', grad_fn=<MeanBackward0>)) tensor(nan, device='cuda:0', grad_fn=<NegBackward0>)\n"
     ]
    },
    {
     "ename": "KeyboardInterrupt",
     "evalue": "",
     "output_type": "error",
     "traceback": [
      "\u001b[1;31m---------------------------------------------------------------------------\u001b[0m",
      "\u001b[1;31mKeyboardInterrupt\u001b[0m                         Traceback (most recent call last)",
      "\u001b[1;32m~\\AppData\\Local\\Temp\\ipykernel_27924\\2651340918.py\u001b[0m in \u001b[0;36m<module>\u001b[1;34m\u001b[0m\n\u001b[0;32m     30\u001b[0m \u001b[1;32mfor\u001b[0m \u001b[0mepoch\u001b[0m \u001b[1;32min\u001b[0m \u001b[0mrange\u001b[0m\u001b[1;33m(\u001b[0m\u001b[0mn_epochs\u001b[0m\u001b[1;33m)\u001b[0m\u001b[1;33m:\u001b[0m\u001b[1;33m\u001b[0m\u001b[1;33m\u001b[0m\u001b[0m\n\u001b[0;32m     31\u001b[0m \u001b[1;33m\u001b[0m\u001b[0m\n\u001b[1;32m---> 32\u001b[1;33m     \u001b[0mrun\u001b[0m\u001b[1;33m(\u001b[0m\u001b[0mopts\u001b[0m\u001b[1;33m=\u001b[0m\u001b[1;33m[\u001b[0m\u001b[0moptimizer_encoder\u001b[0m\u001b[1;33m]\u001b[0m\u001b[1;33m,\u001b[0m \u001b[0mn_epochs\u001b[0m\u001b[1;33m=\u001b[0m\u001b[1;36m3\u001b[0m\u001b[1;33m,\u001b[0m \u001b[0mdropout_rate\u001b[0m\u001b[1;33m=\u001b[0m\u001b[1;36m0.5\u001b[0m\u001b[1;33m,\u001b[0m \u001b[1;33m**\u001b[0m\u001b[0mlearning_kwargs\u001b[0m\u001b[1;33m)\u001b[0m\u001b[1;33m\u001b[0m\u001b[1;33m\u001b[0m\u001b[0m\n\u001b[0m\u001b[0;32m     33\u001b[0m     \u001b[0mmodel\u001b[0m\u001b[1;33m.\u001b[0m\u001b[0mupdate_prior\u001b[0m\u001b[1;33m(\u001b[0m\u001b[1;33m)\u001b[0m\u001b[1;33m\u001b[0m\u001b[1;33m\u001b[0m\u001b[0m\n\u001b[0;32m     34\u001b[0m     \u001b[0mrun\u001b[0m\u001b[1;33m(\u001b[0m\u001b[0mopts\u001b[0m\u001b[1;33m=\u001b[0m\u001b[1;33m[\u001b[0m\u001b[0moptimizer_decoder\u001b[0m\u001b[1;33m]\u001b[0m\u001b[1;33m,\u001b[0m \u001b[0mn_epochs\u001b[0m\u001b[1;33m=\u001b[0m\u001b[1;36m1\u001b[0m\u001b[1;33m,\u001b[0m \u001b[0mdropout_rate\u001b[0m\u001b[1;33m=\u001b[0m\u001b[1;36m0\u001b[0m\u001b[1;33m,\u001b[0m \u001b[1;33m**\u001b[0m\u001b[0mlearning_kwargs\u001b[0m\u001b[1;33m)\u001b[0m\u001b[1;33m\u001b[0m\u001b[1;33m\u001b[0m\u001b[0m\n",
      "\u001b[1;32m~\\AppData\\Local\\Temp\\ipykernel_27924\\3679679009.py\u001b[0m in \u001b[0;36mrun\u001b[1;34m(model, opts, train_data, batch_size, n_epochs, beta, gamma, dropout_rate)\u001b[0m\n\u001b[0;32m     91\u001b[0m \u001b[1;33m\u001b[0m\u001b[0m\n\u001b[0;32m     92\u001b[0m             \u001b[1;32mfor\u001b[0m \u001b[0moptimizer\u001b[0m \u001b[1;32min\u001b[0m \u001b[0mopts\u001b[0m\u001b[1;33m:\u001b[0m\u001b[1;33m\u001b[0m\u001b[1;33m\u001b[0m\u001b[0m\n\u001b[1;32m---> 93\u001b[1;33m                 \u001b[0moptimizer\u001b[0m\u001b[1;33m.\u001b[0m\u001b[0mstep\u001b[0m\u001b[1;33m(\u001b[0m\u001b[1;33m)\u001b[0m\u001b[1;33m\u001b[0m\u001b[1;33m\u001b[0m\u001b[0m\n\u001b[0m",
      "\u001b[1;32m~\\anaconda3\\lib\\site-packages\\torch\\optim\\optimizer.py\u001b[0m in \u001b[0;36mwrapper\u001b[1;34m(*args, **kwargs)\u001b[0m\n\u001b[0;32m    138\u001b[0m                 \u001b[0mprofile_name\u001b[0m \u001b[1;33m=\u001b[0m \u001b[1;34m\"Optimizer.step#{}.step\"\u001b[0m\u001b[1;33m.\u001b[0m\u001b[0mformat\u001b[0m\u001b[1;33m(\u001b[0m\u001b[0mobj\u001b[0m\u001b[1;33m.\u001b[0m\u001b[0m__class__\u001b[0m\u001b[1;33m.\u001b[0m\u001b[0m__name__\u001b[0m\u001b[1;33m)\u001b[0m\u001b[1;33m\u001b[0m\u001b[1;33m\u001b[0m\u001b[0m\n\u001b[0;32m    139\u001b[0m                 \u001b[1;32mwith\u001b[0m \u001b[0mtorch\u001b[0m\u001b[1;33m.\u001b[0m\u001b[0mautograd\u001b[0m\u001b[1;33m.\u001b[0m\u001b[0mprofiler\u001b[0m\u001b[1;33m.\u001b[0m\u001b[0mrecord_function\u001b[0m\u001b[1;33m(\u001b[0m\u001b[0mprofile_name\u001b[0m\u001b[1;33m)\u001b[0m\u001b[1;33m:\u001b[0m\u001b[1;33m\u001b[0m\u001b[1;33m\u001b[0m\u001b[0m\n\u001b[1;32m--> 140\u001b[1;33m                     \u001b[0mout\u001b[0m \u001b[1;33m=\u001b[0m \u001b[0mfunc\u001b[0m\u001b[1;33m(\u001b[0m\u001b[1;33m*\u001b[0m\u001b[0margs\u001b[0m\u001b[1;33m,\u001b[0m \u001b[1;33m**\u001b[0m\u001b[0mkwargs\u001b[0m\u001b[1;33m)\u001b[0m\u001b[1;33m\u001b[0m\u001b[1;33m\u001b[0m\u001b[0m\n\u001b[0m\u001b[0;32m    141\u001b[0m                     \u001b[0mobj\u001b[0m\u001b[1;33m.\u001b[0m\u001b[0m_optimizer_step_code\u001b[0m\u001b[1;33m(\u001b[0m\u001b[1;33m)\u001b[0m\u001b[1;33m\u001b[0m\u001b[1;33m\u001b[0m\u001b[0m\n\u001b[0;32m    142\u001b[0m                     \u001b[1;32mreturn\u001b[0m \u001b[0mout\u001b[0m\u001b[1;33m\u001b[0m\u001b[1;33m\u001b[0m\u001b[0m\n",
      "\u001b[1;32m~\\anaconda3\\lib\\site-packages\\torch\\optim\\optimizer.py\u001b[0m in \u001b[0;36m_use_grad\u001b[1;34m(self, *args, **kwargs)\u001b[0m\n\u001b[0;32m     21\u001b[0m         \u001b[1;32mtry\u001b[0m\u001b[1;33m:\u001b[0m\u001b[1;33m\u001b[0m\u001b[1;33m\u001b[0m\u001b[0m\n\u001b[0;32m     22\u001b[0m             \u001b[0mtorch\u001b[0m\u001b[1;33m.\u001b[0m\u001b[0mset_grad_enabled\u001b[0m\u001b[1;33m(\u001b[0m\u001b[0mself\u001b[0m\u001b[1;33m.\u001b[0m\u001b[0mdefaults\u001b[0m\u001b[1;33m[\u001b[0m\u001b[1;34m'differentiable'\u001b[0m\u001b[1;33m]\u001b[0m\u001b[1;33m)\u001b[0m\u001b[1;33m\u001b[0m\u001b[1;33m\u001b[0m\u001b[0m\n\u001b[1;32m---> 23\u001b[1;33m             \u001b[0mret\u001b[0m \u001b[1;33m=\u001b[0m \u001b[0mfunc\u001b[0m\u001b[1;33m(\u001b[0m\u001b[0mself\u001b[0m\u001b[1;33m,\u001b[0m \u001b[1;33m*\u001b[0m\u001b[0margs\u001b[0m\u001b[1;33m,\u001b[0m \u001b[1;33m**\u001b[0m\u001b[0mkwargs\u001b[0m\u001b[1;33m)\u001b[0m\u001b[1;33m\u001b[0m\u001b[1;33m\u001b[0m\u001b[0m\n\u001b[0m\u001b[0;32m     24\u001b[0m         \u001b[1;32mfinally\u001b[0m\u001b[1;33m:\u001b[0m\u001b[1;33m\u001b[0m\u001b[1;33m\u001b[0m\u001b[0m\n\u001b[0;32m     25\u001b[0m             \u001b[0mtorch\u001b[0m\u001b[1;33m.\u001b[0m\u001b[0mset_grad_enabled\u001b[0m\u001b[1;33m(\u001b[0m\u001b[0mprev_grad\u001b[0m\u001b[1;33m)\u001b[0m\u001b[1;33m\u001b[0m\u001b[1;33m\u001b[0m\u001b[0m\n",
      "\u001b[1;32m~\\anaconda3\\lib\\site-packages\\torch\\optim\\adam.py\u001b[0m in \u001b[0;36mstep\u001b[1;34m(self, closure, grad_scaler)\u001b[0m\n\u001b[0;32m    232\u001b[0m                     \u001b[0mstate_steps\u001b[0m\u001b[1;33m.\u001b[0m\u001b[0mappend\u001b[0m\u001b[1;33m(\u001b[0m\u001b[0mstate\u001b[0m\u001b[1;33m[\u001b[0m\u001b[1;34m'step'\u001b[0m\u001b[1;33m]\u001b[0m\u001b[1;33m)\u001b[0m\u001b[1;33m\u001b[0m\u001b[1;33m\u001b[0m\u001b[0m\n\u001b[0;32m    233\u001b[0m \u001b[1;33m\u001b[0m\u001b[0m\n\u001b[1;32m--> 234\u001b[1;33m             adam(params_with_grad,\n\u001b[0m\u001b[0;32m    235\u001b[0m                  \u001b[0mgrads\u001b[0m\u001b[1;33m,\u001b[0m\u001b[1;33m\u001b[0m\u001b[1;33m\u001b[0m\u001b[0m\n\u001b[0;32m    236\u001b[0m                  \u001b[0mexp_avgs\u001b[0m\u001b[1;33m,\u001b[0m\u001b[1;33m\u001b[0m\u001b[1;33m\u001b[0m\u001b[0m\n",
      "\u001b[1;32m~\\anaconda3\\lib\\site-packages\\torch\\optim\\adam.py\u001b[0m in \u001b[0;36madam\u001b[1;34m(params, grads, exp_avgs, exp_avg_sqs, max_exp_avg_sqs, state_steps, foreach, capturable, differentiable, fused, grad_scale, found_inf, amsgrad, beta1, beta2, lr, weight_decay, eps, maximize)\u001b[0m\n\u001b[0;32m    298\u001b[0m         \u001b[0mfunc\u001b[0m \u001b[1;33m=\u001b[0m \u001b[0m_single_tensor_adam\u001b[0m\u001b[1;33m\u001b[0m\u001b[1;33m\u001b[0m\u001b[0m\n\u001b[0;32m    299\u001b[0m \u001b[1;33m\u001b[0m\u001b[0m\n\u001b[1;32m--> 300\u001b[1;33m     func(params,\n\u001b[0m\u001b[0;32m    301\u001b[0m          \u001b[0mgrads\u001b[0m\u001b[1;33m,\u001b[0m\u001b[1;33m\u001b[0m\u001b[1;33m\u001b[0m\u001b[0m\n\u001b[0;32m    302\u001b[0m          \u001b[0mexp_avgs\u001b[0m\u001b[1;33m,\u001b[0m\u001b[1;33m\u001b[0m\u001b[1;33m\u001b[0m\u001b[0m\n",
      "\u001b[1;32m~\\anaconda3\\lib\\site-packages\\torch\\optim\\adam.py\u001b[0m in \u001b[0;36m_single_tensor_adam\u001b[1;34m(params, grads, exp_avgs, exp_avg_sqs, max_exp_avg_sqs, state_steps, grad_scale, found_inf, amsgrad, beta1, beta2, lr, weight_decay, eps, maximize, capturable, differentiable)\u001b[0m\n\u001b[0;32m    361\u001b[0m \u001b[1;33m\u001b[0m\u001b[0m\n\u001b[0;32m    362\u001b[0m         \u001b[1;31m# Decay the first and second moment running average coefficient\u001b[0m\u001b[1;33m\u001b[0m\u001b[1;33m\u001b[0m\u001b[0m\n\u001b[1;32m--> 363\u001b[1;33m         \u001b[0mexp_avg\u001b[0m\u001b[1;33m.\u001b[0m\u001b[0mmul_\u001b[0m\u001b[1;33m(\u001b[0m\u001b[0mbeta1\u001b[0m\u001b[1;33m)\u001b[0m\u001b[1;33m.\u001b[0m\u001b[0madd_\u001b[0m\u001b[1;33m(\u001b[0m\u001b[0mgrad\u001b[0m\u001b[1;33m,\u001b[0m \u001b[0malpha\u001b[0m\u001b[1;33m=\u001b[0m\u001b[1;36m1\u001b[0m \u001b[1;33m-\u001b[0m \u001b[0mbeta1\u001b[0m\u001b[1;33m)\u001b[0m\u001b[1;33m\u001b[0m\u001b[1;33m\u001b[0m\u001b[0m\n\u001b[0m\u001b[0;32m    364\u001b[0m         \u001b[0mexp_avg_sq\u001b[0m\u001b[1;33m.\u001b[0m\u001b[0mmul_\u001b[0m\u001b[1;33m(\u001b[0m\u001b[0mbeta2\u001b[0m\u001b[1;33m)\u001b[0m\u001b[1;33m.\u001b[0m\u001b[0maddcmul_\u001b[0m\u001b[1;33m(\u001b[0m\u001b[0mgrad\u001b[0m\u001b[1;33m,\u001b[0m \u001b[0mgrad\u001b[0m\u001b[1;33m.\u001b[0m\u001b[0mconj\u001b[0m\u001b[1;33m(\u001b[0m\u001b[1;33m)\u001b[0m\u001b[1;33m,\u001b[0m \u001b[0mvalue\u001b[0m\u001b[1;33m=\u001b[0m\u001b[1;36m1\u001b[0m \u001b[1;33m-\u001b[0m \u001b[0mbeta2\u001b[0m\u001b[1;33m)\u001b[0m\u001b[1;33m\u001b[0m\u001b[1;33m\u001b[0m\u001b[0m\n\u001b[0;32m    365\u001b[0m \u001b[1;33m\u001b[0m\u001b[0m\n",
      "\u001b[1;31mKeyboardInterrupt\u001b[0m: "
     ]
    }
   ],
   "source": [
    "model_kwargs = {\n",
    "    'hidden_dim': 100,\n",
    "    'latent_dim': 100,\n",
    "    'input_dim': vae_train_data.shape[1]\n",
    "}\n",
    "metrics = [{'metric': ndcg, 'k': 10}]\n",
    "\n",
    "best_ndcg = -np.inf\n",
    "train_scores, valid_scores = [], []\n",
    "\n",
    "model = RecVAE(**model_kwargs).to(device)\n",
    "model_best = RecVAE(**model_kwargs).to(device)\n",
    "\n",
    "learning_kwargs = {\n",
    "    'model': model,\n",
    "    'train_data': vae_train_data,\n",
    "    'batch_size': 512,\n",
    "    'beta': None,\n",
    "    'gamma': 0.005\n",
    "}\n",
    "\n",
    "decoder_params = set(model.decoder.parameters())\n",
    "encoder_params = set(model.encoder.parameters())\n",
    "\n",
    "optimizer_encoder = optim.Adam(encoder_params, lr=5e-4)\n",
    "optimizer_decoder = optim.Adam(decoder_params, lr=5e-4)\n",
    "\n",
    "n_epochs = 50\n",
    "\n",
    "for epoch in range(n_epochs):\n",
    "\n",
    "    run(opts=[optimizer_encoder], n_epochs=3, dropout_rate=0.5, **learning_kwargs)\n",
    "    model.update_prior()\n",
    "    run(opts=[optimizer_decoder], n_epochs=1, dropout_rate=0, **learning_kwargs)\n",
    "\n",
    "    train_scores.append(\n",
    "        evaluate(model, vae_train_data, vae_train_data, metrics, 0.01)[0]\n",
    "    )\n",
    "    valid_scores.append(\n",
    "        evaluate(model, valid_in_data, valid_out_data, metrics, 1)[0]\n",
    "    )\n",
    "    \n",
    "    if valid_scores[-1] > best_ndcg:\n",
    "        best_ndcg = valid_scores[-1]\n",
    "        model_best.load_state_dict(deepcopy(model.state_dict()))\n",
    "        \n",
    "\n",
    "    print(f'epoch {epoch} | valid ndcg@100: {valid_scores[-1]:.4f} | ' +\n",
    "          f'best valid: {best_ndcg:.4f} | train ndcg@100: {train_scores[-1]:.4f}')\n",
    "\n",
    "\n",
    "    \n",
    "test_metrics = [{'metric': ndcg, 'k': 100}, {'metric': recall, 'k': 20}, {'metric': recall, 'k': 50}]\n",
    "\n",
    "final_scores = evaluate(model_best, test_in_data, test_out_data, test_metrics)\n",
    "\n",
    "for metric, score in zip(test_metrics, final_scores):\n",
    "    print(f\"{metric['metric'].__name__}@{metric['k']}:\\t{score:.4f}\")"
   ]
  },
  {
   "cell_type": "code",
   "execution_count": 106,
   "id": "3e0fe046",
   "metadata": {
    "ExecuteTime": {
     "end_time": "2023-03-15T12:15:15.675502Z",
     "start_time": "2023-03-15T12:15:15.663497Z"
    }
   },
   "outputs": [
    {
     "data": {
      "text/plain": [
       "[nan, nan, nan, nan, nan, nan, nan, nan, nan, nan, nan, nan, nan]"
      ]
     },
     "execution_count": 106,
     "metadata": {},
     "output_type": "execute_result"
    }
   ],
   "source": [
    "valid_scores"
   ]
  },
  {
   "cell_type": "code",
   "execution_count": null,
   "id": "b91b5b38",
   "metadata": {},
   "outputs": [],
   "source": [
    "params = []\n",
    "histories = []\n",
    "test_losses = []\n",
    "mrrs = []\n",
    "hrs = []\n",
    "cs = []\n",
    "\n",
    "\n",
    "for h1, h2, in tqdm(zip(grid[0].flatten(), grid[1].flatten()), total=24):\n",
    "    print('Hidden sizes:', h1, h2)\n",
    "    \n",
    "    vae = VAE(data_description['n_items'], data_description['n_ratings'], h1, h2).to(device)\n",
    "    criterion = nn.BCEWithLogitsLoss().to(device)\n",
    "    optimizer = optim.Adam(ae.parameters(), lr=5*1e-4)\n",
    "    \n",
    "    mask = torch.triu(torch.ones_like(ae.L.weight))\n",
    "    # Register with hook\n",
    "    ae.L.weight.register_hook(get_zero_grad_hook(mask))\n",
    "    \n",
    "    params.append(sum(p.numel() for p in ae.parameters() if p.requires_grad))\n",
    "    \n",
    "    # Training the AE\n",
    "    n_epochs = 20\n",
    "    history = []\n",
    "    prev_train_loss = 1\n",
    "    train_loss = 0.1 * len(train_dataloader)\n",
    "    epoch = 1\n",
    "\n",
    "    while prev_train_loss - train_loss / len(train_dataloader) > 1e-4 or train_loss / len(train_dataloader) > 1e-2:\n",
    "        if epoch > 1:\n",
    "            prev_train_loss = train_loss / len(train_dataloader)\n",
    "        \n",
    "        train_loss = 0\n",
    "        for batch in train_dataloader:\n",
    "            optimizer.zero_grad()\n",
    "\n",
    "            user_tensor, user_matrix = batch\n",
    "\n",
    "            input_tensor = user_tensor.to_dense().to(device)\n",
    "            target = user_matrix.to_dense().to(device)\n",
    "\n",
    "            output = ae(input_tensor)\n",
    "            target.require_grad = False # we don't use it in training\n",
    "\n",
    "            loss = criterion(output, target)\n",
    "            loss.backward()\n",
    "            optimizer.step()\n",
    "            train_loss += loss.data.item()\n",
    "\n",
    "        history.append(train_loss / len(train_dataloader))\n",
    "        epoch += 1\n",
    "        \n",
    "        if epoch > 50:\n",
    "            break\n",
    "    \n",
    "    histories.append(history)\n",
    "    \n",
    "#         print('epoch: '+str(epoch)+' loss: '+str(train_loss / len(train_dataloader)))\n",
    "    \n",
    "    # Testing the AE\n",
    "    test_loss = 0\n",
    "\n",
    "    for user in testset_valid.userid.unique():\n",
    "        itemidx = testset_valid.loc[testset_valid.userid == user, data_description['items']].values\n",
    "        feedbackidx = testset_valid.loc[testset_valid.userid == user, data_description['feedback']].values\n",
    "        values = np.ones(len(itemidx), dtype=np.float32)\n",
    "\n",
    "        user_tensor_test = torch.sparse_coo_tensor(np.array([itemidx, feedbackidx-1]), torch.tensor(values),\n",
    "                                  size=torch.Size((data_description[\"n_items\"], data_description['n_ratings']))).to_dense().to(device).unsqueeze(0)\n",
    "        target = torch.sparse_coo_tensor(np.array([itemidx]), torch.tensor(values),\n",
    "                                  size=torch.Size((data_description[\"n_items\"], ))).to_dense().to(device).unsqueeze(0)\n",
    "\n",
    "        output = ae(user_tensor_test)\n",
    "        target.require_grad = False\n",
    "\n",
    "        loss = criterion(output, target)\n",
    "        test_loss += loss.data.item()\n",
    "    \n",
    "    test_losses.append(test_loss / testset_valid.userid.nunique())\n",
    "\n",
    "#     print('test loss: '+str(test_loss / testset.userid.nunique()))\n",
    "    \n",
    "    scores = torch.zeros((len(testset_valid.userid.unique()), data_description['n_items']))\n",
    "    for i, user in enumerate(testset_valid.userid.unique()):\n",
    "        itemidx = testset_valid.loc[testset_valid.userid == user, data_description['items']].values\n",
    "        feedbackidx = testset_valid.loc[testset_valid.userid == user, data_description['feedback']].values\n",
    "        values = np.ones(len(itemidx), dtype=np.float32)\n",
    "\n",
    "        user_matrix_test = torch.sparse_coo_tensor(np.array([itemidx, feedbackidx-1]), torch.tensor(values),\n",
    "                                  size=torch.Size((data_description[\"n_items\"], data_description['n_ratings']))).to_dense().unsqueeze(0).to(device)\n",
    "\n",
    "        output = ae(user_matrix_test)\n",
    "        scores[i] = output[0].T\n",
    "\n",
    "\n",
    "    scores = scores.detach().numpy()\n",
    "    \n",
    "    # our\n",
    "    plt.plot(history)\n",
    "    plt.show()\n",
    "    print('Test loss:', test_loss / testset_valid.userid.nunique())\n",
    "    print('Epochs:', epoch)\n",
    "    downvote_seen_items(scores, testset_valid, data_description)\n",
    "    mrr10, hr10, c10 = make_prediction(scores, holdout_valid, data_description)\n",
    "    mrrs.append(mrr10)\n",
    "    hrs.append(hr10)\n",
    "    cs.append(c10)\n",
    "    \n",
    "    print()\n",
    "    print()"
   ]
  },
  {
   "cell_type": "markdown",
   "id": "b4225c29",
   "metadata": {},
   "source": [
    "# Test metrics"
   ]
  },
  {
   "cell_type": "code",
   "execution_count": 11,
   "id": "fd2765cf",
   "metadata": {
    "ExecuteTime": {
     "end_time": "2023-03-30T12:10:03.123756Z",
     "start_time": "2023-03-30T12:10:03.100758Z"
    }
   },
   "outputs": [],
   "source": [
    "data_description = dict(\n",
    "    users = data_index['users'].name,\n",
    "    items = data_index['items'].name,\n",
    "    feedback = 'rating',\n",
    "    n_users = len(data_index['users']),\n",
    "    n_items = len(data_index['items']),\n",
    "    n_ratings = training['rating'].nunique(),\n",
    "    min_rating = training['rating'].min(),\n",
    "    test_users = holdout[data_index['users'].name].drop_duplicates().values,\n",
    "    n_test_users = holdout[data_index['users'].name].nunique()\n",
    ")"
   ]
  },
  {
   "cell_type": "code",
   "execution_count": 12,
   "id": "5d1782a1",
   "metadata": {
    "ExecuteTime": {
     "end_time": "2023-03-30T12:10:03.450606Z",
     "start_time": "2023-03-30T12:10:03.437608Z"
    }
   },
   "outputs": [],
   "source": [
    "train_val = pd.concat((training, testset_valid, holdout_valid))"
   ]
  },
  {
   "cell_type": "markdown",
   "id": "93d4fa8d",
   "metadata": {},
   "source": [
    "## TopPop"
   ]
  },
  {
   "cell_type": "code",
   "execution_count": 18,
   "id": "c1fa0baa",
   "metadata": {
    "ExecuteTime": {
     "end_time": "2023-03-18T12:16:16.767120Z",
     "start_time": "2023-03-18T12:16:15.067996Z"
    }
   },
   "outputs": [
    {
     "data": {
      "text/html": [
       "<div>\n",
       "<style scoped>\n",
       "    .dataframe tbody tr th:only-of-type {\n",
       "        vertical-align: middle;\n",
       "    }\n",
       "\n",
       "    .dataframe tbody tr th {\n",
       "        vertical-align: top;\n",
       "    }\n",
       "\n",
       "    .dataframe thead th {\n",
       "        text-align: right;\n",
       "    }\n",
       "</style>\n",
       "<table border=\"1\" class=\"dataframe\">\n",
       "  <thead>\n",
       "    <tr style=\"text-align: right;\">\n",
       "      <th></th>\n",
       "      <th>HR@5</th>\n",
       "      <th>MRR@5</th>\n",
       "      <th>Coverage@5</th>\n",
       "      <th>HR_pos@5</th>\n",
       "      <th>HR_neg@5</th>\n",
       "      <th>MRR_pos@5</th>\n",
       "      <th>MRR_neg@5</th>\n",
       "      <th>Matthews@5</th>\n",
       "    </tr>\n",
       "  </thead>\n",
       "  <tbody>\n",
       "    <tr>\n",
       "      <th>5</th>\n",
       "      <td>0.010038</td>\n",
       "      <td>0.008879</td>\n",
       "      <td>0.000707</td>\n",
       "      <td>0.008761</td>\n",
       "      <td>0.001278</td>\n",
       "      <td>0.00783</td>\n",
       "      <td>0.001049</td>\n",
       "      <td>-0.009701</td>\n",
       "    </tr>\n",
       "  </tbody>\n",
       "</table>\n",
       "</div>"
      ],
      "text/plain": [
       "       HR@5     MRR@5  Coverage@5  HR_pos@5  HR_neg@5  MRR_pos@5  MRR_neg@5  \\\n",
       "5  0.010038  0.008879    0.000707  0.008761  0.001278    0.00783   0.001049   \n",
       "\n",
       "   Matthews@5  \n",
       "5   -0.009701  "
      ]
     },
     "metadata": {},
     "output_type": "display_data"
    },
    {
     "data": {
      "text/html": [
       "<div>\n",
       "<style scoped>\n",
       "    .dataframe tbody tr th:only-of-type {\n",
       "        vertical-align: middle;\n",
       "    }\n",
       "\n",
       "    .dataframe tbody tr th {\n",
       "        vertical-align: top;\n",
       "    }\n",
       "\n",
       "    .dataframe thead th {\n",
       "        text-align: right;\n",
       "    }\n",
       "</style>\n",
       "<table border=\"1\" class=\"dataframe\">\n",
       "  <thead>\n",
       "    <tr style=\"text-align: right;\">\n",
       "      <th></th>\n",
       "      <th>HR@10</th>\n",
       "      <th>MRR@10</th>\n",
       "      <th>Coverage@10</th>\n",
       "      <th>HR_pos@10</th>\n",
       "      <th>HR_neg@10</th>\n",
       "      <th>MRR_pos@10</th>\n",
       "      <th>MRR_neg@10</th>\n",
       "      <th>Matthews@10</th>\n",
       "    </tr>\n",
       "  </thead>\n",
       "  <tbody>\n",
       "    <tr>\n",
       "      <th>10</th>\n",
       "      <td>0.022449</td>\n",
       "      <td>0.010722</td>\n",
       "      <td>0.001514</td>\n",
       "      <td>0.020989</td>\n",
       "      <td>0.00146</td>\n",
       "      <td>0.009642</td>\n",
       "      <td>0.00108</td>\n",
       "      <td>0.017041</td>\n",
       "    </tr>\n",
       "  </tbody>\n",
       "</table>\n",
       "</div>"
      ],
      "text/plain": [
       "       HR@10    MRR@10  Coverage@10  HR_pos@10  HR_neg@10  MRR_pos@10  \\\n",
       "10  0.022449  0.010722     0.001514   0.020989    0.00146    0.009642   \n",
       "\n",
       "    MRR_neg@10  Matthews@10  \n",
       "10     0.00108     0.017041  "
      ]
     },
     "metadata": {},
     "output_type": "display_data"
    },
    {
     "data": {
      "text/html": [
       "<div>\n",
       "<style scoped>\n",
       "    .dataframe tbody tr th:only-of-type {\n",
       "        vertical-align: middle;\n",
       "    }\n",
       "\n",
       "    .dataframe tbody tr th {\n",
       "        vertical-align: top;\n",
       "    }\n",
       "\n",
       "    .dataframe thead th {\n",
       "        text-align: right;\n",
       "    }\n",
       "</style>\n",
       "<table border=\"1\" class=\"dataframe\">\n",
       "  <thead>\n",
       "    <tr style=\"text-align: right;\">\n",
       "      <th></th>\n",
       "      <th>HR@20</th>\n",
       "      <th>MRR@20</th>\n",
       "      <th>Coverage@20</th>\n",
       "      <th>HR_pos@20</th>\n",
       "      <th>HR_neg@20</th>\n",
       "      <th>MRR_pos@20</th>\n",
       "      <th>MRR_neg@20</th>\n",
       "      <th>Matthews@20</th>\n",
       "    </tr>\n",
       "  </thead>\n",
       "  <tbody>\n",
       "    <tr>\n",
       "      <th>20</th>\n",
       "      <td>0.039423</td>\n",
       "      <td>0.011743</td>\n",
       "      <td>0.002625</td>\n",
       "      <td>0.037416</td>\n",
       "      <td>0.002008</td>\n",
       "      <td>0.010662</td>\n",
       "      <td>0.001081</td>\n",
       "      <td>0.032374</td>\n",
       "    </tr>\n",
       "  </tbody>\n",
       "</table>\n",
       "</div>"
      ],
      "text/plain": [
       "       HR@20    MRR@20  Coverage@20  HR_pos@20  HR_neg@20  MRR_pos@20  \\\n",
       "20  0.039423  0.011743     0.002625   0.037416   0.002008    0.010662   \n",
       "\n",
       "    MRR_neg@20  Matthews@20  \n",
       "20    0.001081     0.032374  "
      ]
     },
     "metadata": {},
     "output_type": "display_data"
    },
    {
     "data": {
      "text/plain": [
       "(0.010722180214788355, 0.022449352071545903, 0.017040743765073012)"
      ]
     },
     "execution_count": 18,
     "metadata": {},
     "output_type": "execute_result"
    }
   ],
   "source": [
    "pop_params = build_popularity_model(train_val, data_description)\n",
    "pop_scores = popularity_model_scoring(pop_params, None, data_description)\n",
    "downvote_seen_items(pop_scores, testset, data_description)\n",
    "\n",
    "make_prediction(pop_scores, holdout, data_description)"
   ]
  },
  {
   "cell_type": "markdown",
   "id": "4540c869",
   "metadata": {},
   "source": [
    "## Normalized PureSVD"
   ]
  },
  {
   "cell_type": "code",
   "execution_count": null,
   "id": "c87640b4",
   "metadata": {},
   "outputs": [],
   "source": [
    "svd_params = build_svd_model({'rank':64, 'f':1.9}, training, data_description)\n",
    "svd_scores = svd_model_scoring(svd_params, testset, data_description)\n",
    "downvote_seen_items(svd_scores, testset, data_description)\n",
    "\n",
    "make_prediction(svd_scores, holdout, data_description, mode=\"Test\")"
   ]
  },
  {
   "cell_type": "markdown",
   "id": "64cca70d",
   "metadata": {},
   "source": [
    "## EASEr"
   ]
  },
  {
   "cell_type": "code",
   "execution_count": 17,
   "id": "88d230d0",
   "metadata": {
    "ExecuteTime": {
     "end_time": "2023-03-18T12:14:49.797957Z",
     "start_time": "2023-03-18T12:14:27.836891Z"
    }
   },
   "outputs": [
    {
     "data": {
      "text/html": [
       "<div>\n",
       "<style scoped>\n",
       "    .dataframe tbody tr th:only-of-type {\n",
       "        vertical-align: middle;\n",
       "    }\n",
       "\n",
       "    .dataframe tbody tr th {\n",
       "        vertical-align: top;\n",
       "    }\n",
       "\n",
       "    .dataframe thead th {\n",
       "        text-align: right;\n",
       "    }\n",
       "</style>\n",
       "<table border=\"1\" class=\"dataframe\">\n",
       "  <thead>\n",
       "    <tr style=\"text-align: right;\">\n",
       "      <th></th>\n",
       "      <th>HR@5</th>\n",
       "      <th>MRR@5</th>\n",
       "      <th>Coverage@5</th>\n",
       "      <th>HR_pos@5</th>\n",
       "      <th>HR_neg@5</th>\n",
       "      <th>MRR_pos@5</th>\n",
       "      <th>MRR_neg@5</th>\n",
       "      <th>Matthews@5</th>\n",
       "    </tr>\n",
       "  </thead>\n",
       "  <tbody>\n",
       "    <tr>\n",
       "      <th>5</th>\n",
       "      <td>0.070086</td>\n",
       "      <td>0.040917</td>\n",
       "      <td>0.507672</td>\n",
       "      <td>0.066618</td>\n",
       "      <td>0.003468</td>\n",
       "      <td>0.038943</td>\n",
       "      <td>0.001974</td>\n",
       "      <td>0.045204</td>\n",
       "    </tr>\n",
       "  </tbody>\n",
       "</table>\n",
       "</div>"
      ],
      "text/plain": [
       "       HR@5     MRR@5  Coverage@5  HR_pos@5  HR_neg@5  MRR_pos@5  MRR_neg@5  \\\n",
       "5  0.070086  0.040917    0.507672  0.066618  0.003468   0.038943   0.001974   \n",
       "\n",
       "   Matthews@5  \n",
       "5    0.045204  "
      ]
     },
     "metadata": {},
     "output_type": "display_data"
    },
    {
     "data": {
      "text/html": [
       "<div>\n",
       "<style scoped>\n",
       "    .dataframe tbody tr th:only-of-type {\n",
       "        vertical-align: middle;\n",
       "    }\n",
       "\n",
       "    .dataframe tbody tr th {\n",
       "        vertical-align: top;\n",
       "    }\n",
       "\n",
       "    .dataframe thead th {\n",
       "        text-align: right;\n",
       "    }\n",
       "</style>\n",
       "<table border=\"1\" class=\"dataframe\">\n",
       "  <thead>\n",
       "    <tr style=\"text-align: right;\">\n",
       "      <th></th>\n",
       "      <th>HR@10</th>\n",
       "      <th>MRR@10</th>\n",
       "      <th>Coverage@10</th>\n",
       "      <th>HR_pos@10</th>\n",
       "      <th>HR_neg@10</th>\n",
       "      <th>MRR_pos@10</th>\n",
       "      <th>MRR_neg@10</th>\n",
       "      <th>Matthews@10</th>\n",
       "    </tr>\n",
       "  </thead>\n",
       "  <tbody>\n",
       "    <tr>\n",
       "      <th>10</th>\n",
       "      <td>0.099653</td>\n",
       "      <td>0.044846</td>\n",
       "      <td>0.680699</td>\n",
       "      <td>0.094543</td>\n",
       "      <td>0.00511</td>\n",
       "      <td>0.042643</td>\n",
       "      <td>0.002203</td>\n",
       "      <td>0.052768</td>\n",
       "    </tr>\n",
       "  </tbody>\n",
       "</table>\n",
       "</div>"
      ],
      "text/plain": [
       "       HR@10    MRR@10  Coverage@10  HR_pos@10  HR_neg@10  MRR_pos@10  \\\n",
       "10  0.099653  0.044846     0.680699   0.094543    0.00511    0.042643   \n",
       "\n",
       "    MRR_neg@10  Matthews@10  \n",
       "10    0.002203     0.052768  "
      ]
     },
     "metadata": {},
     "output_type": "display_data"
    },
    {
     "data": {
      "text/html": [
       "<div>\n",
       "<style scoped>\n",
       "    .dataframe tbody tr th:only-of-type {\n",
       "        vertical-align: middle;\n",
       "    }\n",
       "\n",
       "    .dataframe tbody tr th {\n",
       "        vertical-align: top;\n",
       "    }\n",
       "\n",
       "    .dataframe thead th {\n",
       "        text-align: right;\n",
       "    }\n",
       "</style>\n",
       "<table border=\"1\" class=\"dataframe\">\n",
       "  <thead>\n",
       "    <tr style=\"text-align: right;\">\n",
       "      <th></th>\n",
       "      <th>HR@20</th>\n",
       "      <th>MRR@20</th>\n",
       "      <th>Coverage@20</th>\n",
       "      <th>HR_pos@20</th>\n",
       "      <th>HR_neg@20</th>\n",
       "      <th>MRR_pos@20</th>\n",
       "      <th>MRR_neg@20</th>\n",
       "      <th>Matthews@20</th>\n",
       "    </tr>\n",
       "  </thead>\n",
       "  <tbody>\n",
       "    <tr>\n",
       "      <th>20</th>\n",
       "      <td>0.134879</td>\n",
       "      <td>0.047187</td>\n",
       "      <td>0.830709</td>\n",
       "      <td>0.127396</td>\n",
       "      <td>0.007483</td>\n",
       "      <td>0.044825</td>\n",
       "      <td>0.002362</td>\n",
       "      <td>0.057065</td>\n",
       "    </tr>\n",
       "  </tbody>\n",
       "</table>\n",
       "</div>"
      ],
      "text/plain": [
       "       HR@20    MRR@20  Coverage@20  HR_pos@20  HR_neg@20  MRR_pos@20  \\\n",
       "20  0.134879  0.047187     0.830709   0.127396   0.007483    0.044825   \n",
       "\n",
       "    MRR_neg@20  Matthews@20  \n",
       "20    0.002362     0.057065  "
      ]
     },
     "metadata": {},
     "output_type": "display_data"
    },
    {
     "data": {
      "text/plain": [
       "(0.04484641213058808, 0.09965322139076474, 0.052767573990321705)"
      ]
     },
     "execution_count": 17,
     "metadata": {},
     "output_type": "execute_result"
    }
   ],
   "source": [
    "easer_params = easer(train_val, data_description, lmbda=230)\n",
    "easer_scores = easer_scoring(easer_params, testset, data_description)\n",
    "downvote_seen_items(easer_scores, testset, data_description)\n",
    "\n",
    "make_prediction(easer_scores, holdout, data_description)"
   ]
  },
  {
   "cell_type": "markdown",
   "id": "7822366d",
   "metadata": {},
   "source": [
    "## CoFFee"
   ]
  },
  {
   "cell_type": "code",
   "execution_count": null,
   "id": "60bc6dd0",
   "metadata": {
    "ExecuteTime": {
     "start_time": "2023-03-15T07:54:42.202Z"
    }
   },
   "outputs": [],
   "source": [
    "config['mlrank'] = (256, 256, 2)\n",
    "tf_params = tf_model_build(config, train_val, data_description)\n",
    "seen_data = testset\n",
    "tf_scores = tf_scoring(tf_params, seen_data, data_description)\n",
    "downvote_seen_items(tf_scores, seen_data, data_description)\n",
    "cur_mrr, cur_hr, cur_C = make_prediction(tf_scores, holdout, data_description)"
   ]
  },
  {
   "cell_type": "markdown",
   "id": "2b8ea3f7",
   "metadata": {},
   "source": [
    "## Simple AE\n"
   ]
  },
  {
   "cell_type": "code",
   "execution_count": 153,
   "id": "c9456456",
   "metadata": {
    "ExecuteTime": {
     "end_time": "2023-03-30T12:29:53.067085Z",
     "start_time": "2023-03-30T12:29:53.051085Z"
    }
   },
   "outputs": [],
   "source": [
    "useridx = train_val[data_description['users']].values\n",
    "itemidx = train_val[data_description['items']].values\n",
    "# feedbackidx = training[data_description['feedback']].values\n",
    "values = np.ones(len(itemidx))"
   ]
  },
  {
   "cell_type": "code",
   "execution_count": 154,
   "id": "a9598b56",
   "metadata": {
    "ExecuteTime": {
     "end_time": "2023-03-30T12:29:54.196545Z",
     "start_time": "2023-03-30T12:29:54.187545Z"
    }
   },
   "outputs": [],
   "source": [
    "user_tensor_train = torch.sparse_coo_tensor(np.array([useridx, itemidx]), torch.tensor(values),\n",
    "                                      size=torch.Size((data_description[\"n_users\"], data_description[\"n_items\"])), dtype=torch.float32)"
   ]
  },
  {
   "cell_type": "code",
   "execution_count": 156,
   "id": "9d188a8b",
   "metadata": {
    "ExecuteTime": {
     "end_time": "2023-03-30T12:29:55.038545Z",
     "start_time": "2023-03-30T12:29:55.029546Z"
    }
   },
   "outputs": [],
   "source": [
    "train_dataset = SimpleDataset(user_tensor_train, augment=True)\n",
    "train_dataloader = DataLoader(train_dataset, batch_size=16, shuffle=True)"
   ]
  },
  {
   "cell_type": "code",
   "execution_count": 157,
   "id": "48a41dac",
   "metadata": {
    "ExecuteTime": {
     "end_time": "2023-03-30T12:29:55.573546Z",
     "start_time": "2023-03-30T12:29:55.482547Z"
    }
   },
   "outputs": [],
   "source": [
    "fix_torch_seed(42)\n",
    "set_random_seed(42)\n",
    "\n",
    "bae = baseAE(data_description['n_items'], 256).to(device)\n",
    "criterion = nn.BCEWithLogitsLoss().to(device)\n",
    "optimizer = optim.Adam(bae.parameters())\n",
    "scheduler = optim.lr_scheduler.ExponentialLR(optimizer, gamma=0.9)"
   ]
  },
  {
   "cell_type": "code",
   "execution_count": 158,
   "id": "93038b75",
   "metadata": {
    "ExecuteTime": {
     "end_time": "2023-03-30T12:29:55.858098Z",
     "start_time": "2023-03-30T12:29:55.842073Z"
    }
   },
   "outputs": [
    {
     "data": {
      "text/plain": [
       "5082034"
      ]
     },
     "execution_count": 158,
     "metadata": {},
     "output_type": "execute_result"
    }
   ],
   "source": [
    "sum(p.numel() for p in bae.parameters() if p.requires_grad)"
   ]
  },
  {
   "cell_type": "code",
   "execution_count": 160,
   "id": "5841a4e0",
   "metadata": {
    "ExecuteTime": {
     "end_time": "2023-03-30T13:02:51.301361Z",
     "start_time": "2023-03-30T12:30:45.848873Z"
    }
   },
   "outputs": [
    {
     "name": "stdout",
     "output_type": "stream",
     "text": [
      "Epoch 94\n"
     ]
    },
    {
     "data": {
      "image/png": "[encoded data removed]",
      "text/plain": [
       "<Figure size 640x480 with 1 Axes>"
      ]
     },
     "metadata": {},
     "output_type": "display_data"
    },
    {
     "ename": "KeyboardInterrupt",
     "evalue": "",
     "output_type": "error",
     "traceback": [
      "\u001b[1;31m---------------------------------------------------------------------------\u001b[0m",
      "\u001b[1;31mKeyboardInterrupt\u001b[0m                         Traceback (most recent call last)",
      "\u001b[1;32m~\\AppData\\Local\\Temp\\ipykernel_20128\\3705256220.py\u001b[0m in \u001b[0;36m<module>\u001b[1;34m\u001b[0m\n\u001b[0;32m     15\u001b[0m         \u001b[0mprev_test_loss\u001b[0m \u001b[1;33m=\u001b[0m \u001b[0mtest_loss\u001b[0m \u001b[1;33m/\u001b[0m \u001b[0mtestset\u001b[0m\u001b[1;33m.\u001b[0m\u001b[0muserid\u001b[0m\u001b[1;33m.\u001b[0m\u001b[0mnunique\u001b[0m\u001b[1;33m(\u001b[0m\u001b[1;33m)\u001b[0m\u001b[1;33m\u001b[0m\u001b[1;33m\u001b[0m\u001b[0m\n\u001b[0;32m     16\u001b[0m     \u001b[0mtrain_loss\u001b[0m \u001b[1;33m=\u001b[0m \u001b[1;36m0\u001b[0m\u001b[1;33m\u001b[0m\u001b[1;33m\u001b[0m\u001b[0m\n\u001b[1;32m---> 17\u001b[1;33m     \u001b[1;32mfor\u001b[0m \u001b[0muser_matrix\u001b[0m \u001b[1;32min\u001b[0m \u001b[0mtrain_dataloader\u001b[0m\u001b[1;33m:\u001b[0m\u001b[1;33m\u001b[0m\u001b[1;33m\u001b[0m\u001b[0m\n\u001b[0m\u001b[0;32m     18\u001b[0m         \u001b[0moptimizer\u001b[0m\u001b[1;33m.\u001b[0m\u001b[0mzero_grad\u001b[0m\u001b[1;33m(\u001b[0m\u001b[1;33m)\u001b[0m\u001b[1;33m\u001b[0m\u001b[1;33m\u001b[0m\u001b[0m\n\u001b[0;32m     19\u001b[0m \u001b[1;33m\u001b[0m\u001b[0m\n",
      "\u001b[1;32m~\\anaconda3\\lib\\site-packages\\torch\\utils\\data\\dataloader.py\u001b[0m in \u001b[0;36m__next__\u001b[1;34m(self)\u001b[0m\n\u001b[0;32m    632\u001b[0m                 \u001b[1;31m# TODO(https://github.com/pytorch/pytorch/issues/76750)\u001b[0m\u001b[1;33m\u001b[0m\u001b[1;33m\u001b[0m\u001b[0m\n\u001b[0;32m    633\u001b[0m                 \u001b[0mself\u001b[0m\u001b[1;33m.\u001b[0m\u001b[0m_reset\u001b[0m\u001b[1;33m(\u001b[0m\u001b[1;33m)\u001b[0m  \u001b[1;31m# type: ignore[call-arg]\u001b[0m\u001b[1;33m\u001b[0m\u001b[1;33m\u001b[0m\u001b[0m\n\u001b[1;32m--> 634\u001b[1;33m             \u001b[0mdata\u001b[0m \u001b[1;33m=\u001b[0m \u001b[0mself\u001b[0m\u001b[1;33m.\u001b[0m\u001b[0m_next_data\u001b[0m\u001b[1;33m(\u001b[0m\u001b[1;33m)\u001b[0m\u001b[1;33m\u001b[0m\u001b[1;33m\u001b[0m\u001b[0m\n\u001b[0m\u001b[0;32m    635\u001b[0m             \u001b[0mself\u001b[0m\u001b[1;33m.\u001b[0m\u001b[0m_num_yielded\u001b[0m \u001b[1;33m+=\u001b[0m \u001b[1;36m1\u001b[0m\u001b[1;33m\u001b[0m\u001b[1;33m\u001b[0m\u001b[0m\n\u001b[0;32m    636\u001b[0m             \u001b[1;32mif\u001b[0m \u001b[0mself\u001b[0m\u001b[1;33m.\u001b[0m\u001b[0m_dataset_kind\u001b[0m \u001b[1;33m==\u001b[0m \u001b[0m_DatasetKind\u001b[0m\u001b[1;33m.\u001b[0m\u001b[0mIterable\u001b[0m \u001b[1;32mand\u001b[0m\u001b[0;31m \u001b[0m\u001b[0;31m\\\u001b[0m\u001b[1;33m\u001b[0m\u001b[1;33m\u001b[0m\u001b[0m\n",
      "\u001b[1;32m~\\anaconda3\\lib\\site-packages\\torch\\utils\\data\\dataloader.py\u001b[0m in \u001b[0;36m_next_data\u001b[1;34m(self)\u001b[0m\n\u001b[0;32m    676\u001b[0m     \u001b[1;32mdef\u001b[0m \u001b[0m_next_data\u001b[0m\u001b[1;33m(\u001b[0m\u001b[0mself\u001b[0m\u001b[1;33m)\u001b[0m\u001b[1;33m:\u001b[0m\u001b[1;33m\u001b[0m\u001b[1;33m\u001b[0m\u001b[0m\n\u001b[0;32m    677\u001b[0m         \u001b[0mindex\u001b[0m \u001b[1;33m=\u001b[0m \u001b[0mself\u001b[0m\u001b[1;33m.\u001b[0m\u001b[0m_next_index\u001b[0m\u001b[1;33m(\u001b[0m\u001b[1;33m)\u001b[0m  \u001b[1;31m# may raise StopIteration\u001b[0m\u001b[1;33m\u001b[0m\u001b[1;33m\u001b[0m\u001b[0m\n\u001b[1;32m--> 678\u001b[1;33m         \u001b[0mdata\u001b[0m \u001b[1;33m=\u001b[0m \u001b[0mself\u001b[0m\u001b[1;33m.\u001b[0m\u001b[0m_dataset_fetcher\u001b[0m\u001b[1;33m.\u001b[0m\u001b[0mfetch\u001b[0m\u001b[1;33m(\u001b[0m\u001b[0mindex\u001b[0m\u001b[1;33m)\u001b[0m  \u001b[1;31m# may raise StopIteration\u001b[0m\u001b[1;33m\u001b[0m\u001b[1;33m\u001b[0m\u001b[0m\n\u001b[0m\u001b[0;32m    679\u001b[0m         \u001b[1;32mif\u001b[0m \u001b[0mself\u001b[0m\u001b[1;33m.\u001b[0m\u001b[0m_pin_memory\u001b[0m\u001b[1;33m:\u001b[0m\u001b[1;33m\u001b[0m\u001b[1;33m\u001b[0m\u001b[0m\n\u001b[0;32m    680\u001b[0m             \u001b[0mdata\u001b[0m \u001b[1;33m=\u001b[0m \u001b[0m_utils\u001b[0m\u001b[1;33m.\u001b[0m\u001b[0mpin_memory\u001b[0m\u001b[1;33m.\u001b[0m\u001b[0mpin_memory\u001b[0m\u001b[1;33m(\u001b[0m\u001b[0mdata\u001b[0m\u001b[1;33m,\u001b[0m \u001b[0mself\u001b[0m\u001b[1;33m.\u001b[0m\u001b[0m_pin_memory_device\u001b[0m\u001b[1;33m)\u001b[0m\u001b[1;33m\u001b[0m\u001b[1;33m\u001b[0m\u001b[0m\n",
      "\u001b[1;32m~\\anaconda3\\lib\\site-packages\\torch\\utils\\data\\_utils\\fetch.py\u001b[0m in \u001b[0;36mfetch\u001b[1;34m(self, possibly_batched_index)\u001b[0m\n\u001b[0;32m     49\u001b[0m                 \u001b[0mdata\u001b[0m \u001b[1;33m=\u001b[0m \u001b[0mself\u001b[0m\u001b[1;33m.\u001b[0m\u001b[0mdataset\u001b[0m\u001b[1;33m.\u001b[0m\u001b[0m__getitems__\u001b[0m\u001b[1;33m(\u001b[0m\u001b[0mpossibly_batched_index\u001b[0m\u001b[1;33m)\u001b[0m\u001b[1;33m\u001b[0m\u001b[1;33m\u001b[0m\u001b[0m\n\u001b[0;32m     50\u001b[0m             \u001b[1;32melse\u001b[0m\u001b[1;33m:\u001b[0m\u001b[1;33m\u001b[0m\u001b[1;33m\u001b[0m\u001b[0m\n\u001b[1;32m---> 51\u001b[1;33m                 \u001b[0mdata\u001b[0m \u001b[1;33m=\u001b[0m \u001b[1;33m[\u001b[0m\u001b[0mself\u001b[0m\u001b[1;33m.\u001b[0m\u001b[0mdataset\u001b[0m\u001b[1;33m[\u001b[0m\u001b[0midx\u001b[0m\u001b[1;33m]\u001b[0m \u001b[1;32mfor\u001b[0m \u001b[0midx\u001b[0m \u001b[1;32min\u001b[0m \u001b[0mpossibly_batched_index\u001b[0m\u001b[1;33m]\u001b[0m\u001b[1;33m\u001b[0m\u001b[1;33m\u001b[0m\u001b[0m\n\u001b[0m\u001b[0;32m     52\u001b[0m         \u001b[1;32melse\u001b[0m\u001b[1;33m:\u001b[0m\u001b[1;33m\u001b[0m\u001b[1;33m\u001b[0m\u001b[0m\n\u001b[0;32m     53\u001b[0m             \u001b[0mdata\u001b[0m \u001b[1;33m=\u001b[0m \u001b[0mself\u001b[0m\u001b[1;33m.\u001b[0m\u001b[0mdataset\u001b[0m\u001b[1;33m[\u001b[0m\u001b[0mpossibly_batched_index\u001b[0m\u001b[1;33m]\u001b[0m\u001b[1;33m\u001b[0m\u001b[1;33m\u001b[0m\u001b[0m\n",
      "\u001b[1;32m~\\anaconda3\\lib\\site-packages\\torch\\utils\\data\\_utils\\fetch.py\u001b[0m in \u001b[0;36m<listcomp>\u001b[1;34m(.0)\u001b[0m\n\u001b[0;32m     49\u001b[0m                 \u001b[0mdata\u001b[0m \u001b[1;33m=\u001b[0m \u001b[0mself\u001b[0m\u001b[1;33m.\u001b[0m\u001b[0mdataset\u001b[0m\u001b[1;33m.\u001b[0m\u001b[0m__getitems__\u001b[0m\u001b[1;33m(\u001b[0m\u001b[0mpossibly_batched_index\u001b[0m\u001b[1;33m)\u001b[0m\u001b[1;33m\u001b[0m\u001b[1;33m\u001b[0m\u001b[0m\n\u001b[0;32m     50\u001b[0m             \u001b[1;32melse\u001b[0m\u001b[1;33m:\u001b[0m\u001b[1;33m\u001b[0m\u001b[1;33m\u001b[0m\u001b[0m\n\u001b[1;32m---> 51\u001b[1;33m                 \u001b[0mdata\u001b[0m \u001b[1;33m=\u001b[0m \u001b[1;33m[\u001b[0m\u001b[0mself\u001b[0m\u001b[1;33m.\u001b[0m\u001b[0mdataset\u001b[0m\u001b[1;33m[\u001b[0m\u001b[0midx\u001b[0m\u001b[1;33m]\u001b[0m \u001b[1;32mfor\u001b[0m \u001b[0midx\u001b[0m \u001b[1;32min\u001b[0m \u001b[0mpossibly_batched_index\u001b[0m\u001b[1;33m]\u001b[0m\u001b[1;33m\u001b[0m\u001b[1;33m\u001b[0m\u001b[0m\n\u001b[0m\u001b[0;32m     52\u001b[0m         \u001b[1;32melse\u001b[0m\u001b[1;33m:\u001b[0m\u001b[1;33m\u001b[0m\u001b[1;33m\u001b[0m\u001b[0m\n\u001b[0;32m     53\u001b[0m             \u001b[0mdata\u001b[0m \u001b[1;33m=\u001b[0m \u001b[0mself\u001b[0m\u001b[1;33m.\u001b[0m\u001b[0mdataset\u001b[0m\u001b[1;33m[\u001b[0m\u001b[0mpossibly_batched_index\u001b[0m\u001b[1;33m]\u001b[0m\u001b[1;33m\u001b[0m\u001b[1;33m\u001b[0m\u001b[0m\n",
      "\u001b[1;32m~\\AppData\\Local\\Temp\\ipykernel_20128\\3935526950.py\u001b[0m in \u001b[0;36m__getitem__\u001b[1;34m(self, idx)\u001b[0m\n\u001b[0;32m     11\u001b[0m             \u001b[0mnum_noise\u001b[0m \u001b[1;33m=\u001b[0m \u001b[0mnp\u001b[0m\u001b[1;33m.\u001b[0m\u001b[0mrandom\u001b[0m\u001b[1;33m.\u001b[0m\u001b[0mrandint\u001b[0m\u001b[1;33m(\u001b[0m\u001b[1;36m0\u001b[0m\u001b[1;33m,\u001b[0m\u001b[1;36m10\u001b[0m\u001b[1;33m)\u001b[0m\u001b[1;33m\u001b[0m\u001b[1;33m\u001b[0m\u001b[0m\n\u001b[0;32m     12\u001b[0m             \u001b[0midxs\u001b[0m \u001b[1;33m=\u001b[0m \u001b[0mtorch\u001b[0m\u001b[1;33m.\u001b[0m\u001b[0mrandint\u001b[0m\u001b[1;33m(\u001b[0m\u001b[1;36m0\u001b[0m\u001b[1;33m,\u001b[0m \u001b[0mself\u001b[0m\u001b[1;33m.\u001b[0m\u001b[0mdata\u001b[0m\u001b[1;33m.\u001b[0m\u001b[0mshape\u001b[0m\u001b[1;33m[\u001b[0m\u001b[1;36m1\u001b[0m\u001b[1;33m]\u001b[0m\u001b[1;33m,\u001b[0m \u001b[0msize\u001b[0m\u001b[1;33m=\u001b[0m\u001b[1;33m(\u001b[0m\u001b[0mnum_noise\u001b[0m\u001b[1;33m,\u001b[0m\u001b[1;33m)\u001b[0m\u001b[1;33m)\u001b[0m\u001b[1;33m\u001b[0m\u001b[1;33m\u001b[0m\u001b[0m\n\u001b[1;32m---> 13\u001b[1;33m             \u001b[0mnoised_input\u001b[0m \u001b[1;33m=\u001b[0m \u001b[0mself\u001b[0m\u001b[1;33m.\u001b[0m\u001b[0mdata\u001b[0m\u001b[1;33m[\u001b[0m\u001b[0midx\u001b[0m\u001b[1;33m]\u001b[0m\u001b[1;33m.\u001b[0m\u001b[0mdetach\u001b[0m\u001b[1;33m(\u001b[0m\u001b[1;33m)\u001b[0m\u001b[1;33m.\u001b[0m\u001b[0mclone\u001b[0m\u001b[1;33m(\u001b[0m\u001b[1;33m)\u001b[0m\u001b[1;33m.\u001b[0m\u001b[0mto_dense\u001b[0m\u001b[1;33m(\u001b[0m\u001b[1;33m)\u001b[0m\u001b[1;33m\u001b[0m\u001b[1;33m\u001b[0m\u001b[0m\n\u001b[0m\u001b[0;32m     14\u001b[0m             \u001b[0mnoised_input\u001b[0m\u001b[1;33m[\u001b[0m\u001b[0midxs\u001b[0m\u001b[1;33m]\u001b[0m \u001b[1;33m=\u001b[0m \u001b[0mtorch\u001b[0m\u001b[1;33m.\u001b[0m\u001b[0mdistributions\u001b[0m\u001b[1;33m.\u001b[0m\u001b[0mbernoulli\u001b[0m\u001b[1;33m.\u001b[0m\u001b[0mBernoulli\u001b[0m\u001b[1;33m(\u001b[0m\u001b[1;36m0.5\u001b[0m\u001b[1;33m)\u001b[0m\u001b[1;33m.\u001b[0m\u001b[0msample\u001b[0m\u001b[1;33m(\u001b[0m\u001b[0msample_shape\u001b[0m\u001b[1;33m=\u001b[0m\u001b[1;33m(\u001b[0m\u001b[0mnum_noise\u001b[0m\u001b[1;33m,\u001b[0m\u001b[1;33m)\u001b[0m\u001b[1;33m)\u001b[0m\u001b[1;33m\u001b[0m\u001b[1;33m\u001b[0m\u001b[0m\n\u001b[0;32m     15\u001b[0m \u001b[1;33m\u001b[0m\u001b[0m\n",
      "\u001b[1;31mKeyboardInterrupt\u001b[0m: "
     ]
    }
   ],
   "source": [
    "# Training the simpleAE\n",
    "history = []\n",
    "val_history = []\n",
    "test_losses = []\n",
    "\n",
    "prev_train_loss = 1\n",
    "prev_test_loss = 1\n",
    "train_loss = 0.1 * len(train_dataloader)\n",
    "test_loss = 0.1 * testset.userid.nunique()\n",
    "epoch = 1\n",
    "\n",
    "while prev_test_loss - test_loss / testset.userid.nunique() > 1e-4 or train_loss / len(train_dataloader) > 0.0011:\n",
    "    if epoch > 1:\n",
    "        prev_train_loss = train_loss / len(train_dataloader)\n",
    "        prev_test_loss = test_loss / testset.userid.nunique()\n",
    "    train_loss = 0\n",
    "    for user_matrix in train_dataloader:\n",
    "        optimizer.zero_grad()\n",
    "        \n",
    "        input_tensor, target = user_matrix\n",
    "        input_tensor, target = input_tensor.to_dense().to(device), target.to_dense().to(device)\n",
    "        \n",
    "        output = bae(input_tensor)\n",
    "        target.require_grad = False # we don't use it in training\n",
    "\n",
    "        loss = criterion(output, target)\n",
    "        loss.backward()\n",
    "        optimizer.step()\n",
    "        train_loss += loss.data.item()\n",
    "        \n",
    "    scheduler.step()\n",
    "    history.append(train_loss / len(train_dataloader))\n",
    "        \n",
    "#     print('epoch: '+str(epoch)+' loss: '+str(train_loss / len(train_dataloader)))\n",
    "    with torch.no_grad():\n",
    "        for user in testset.userid.unique():\n",
    "            itemidx = testset.loc[testset.userid == user, data_description['items']].values\n",
    "            values = np.ones(len(itemidx), dtype=np.float32)\n",
    "\n",
    "            user_tensor_test = torch.sparse_coo_tensor(np.array([itemidx]), torch.tensor(values),\n",
    "                                      size=torch.Size((data_description[\"n_items\"], ))).to_dense().to(device).unsqueeze(0)\n",
    "            target = user_tensor_test.clone()\n",
    "\n",
    "            output = bae(user_tensor_test)\n",
    "            target.require_grad = False\n",
    "\n",
    "            loss = criterion(output, target)\n",
    "            test_loss += loss.data.item()\n",
    "\n",
    "        test_losses.append(test_loss / testset.userid.nunique())\n",
    "    \n",
    "    val_history.append(test_loss / testset.userid.nunique())\n",
    "#         print('test loss: '+str(test_loss / testset.userid.nunique()))\n",
    "    \n",
    "    clear_output()\n",
    "    print('Epoch', epoch)\n",
    "    plt.plot(history, label='train')\n",
    "    plt.plot(val_history, label='val')\n",
    "    plt.legend()\n",
    "    plt.show()\n",
    "    epoch += 1"
   ]
  },
  {
   "cell_type": "code",
   "execution_count": 161,
   "id": "764d2c08",
   "metadata": {
    "ExecuteTime": {
     "end_time": "2023-03-30T13:03:01.088064Z",
     "start_time": "2023-03-30T13:02:57.167062Z"
    }
   },
   "outputs": [
    {
     "name": "stderr",
     "output_type": "stream",
     "text": [
      "C:\\Users\\Liza\\AppData\\Local\\Temp\\ipykernel_20128\\2243924272.py:10: UserWarning: The use of `x.T` on tensors of dimension other than 2 to reverse their shape is deprecated and it will throw an error in a future release. Consider `x.mT` to transpose batches of matrices or `x.permute(*torch.arange(x.ndim - 1, -1, -1))` to reverse the dimensions of a tensor. (Triggered internally at C:\\cb\\pytorch_1000000000000\\work\\aten\\src\\ATen\\native\\TensorShape.cpp:3575.)\n",
      "  scores[i] = output[0].T\n"
     ]
    }
   ],
   "source": [
    "scores = torch.zeros((len(testset.userid.unique()), data_description['n_items']))\n",
    "for i, user in enumerate(testset.userid.unique()):\n",
    "    itemidx = testset.loc[testset.userid == user, data_description['items']].values\n",
    "    values = np.ones(len(itemidx), dtype=np.float32)\n",
    "\n",
    "    user_matrix_test = torch.sparse_coo_tensor(np.array([itemidx]), torch.tensor(values),\n",
    "                              size=torch.Size((data_description[\"n_items\"], ))).to_dense().unsqueeze(0).to(device)\n",
    "    \n",
    "    output = bae(user_matrix_test)\n",
    "    scores[i] = output[0].T\n",
    "\n",
    "        \n",
    "scores = scores.detach().numpy()"
   ]
  },
  {
   "cell_type": "code",
   "execution_count": 162,
   "id": "28a4199a",
   "metadata": {
    "ExecuteTime": {
     "end_time": "2023-03-30T13:03:05.939298Z",
     "start_time": "2023-03-30T13:03:04.636296Z"
    }
   },
   "outputs": [
    {
     "data": {
      "text/html": [
       "<div>\n",
       "<style scoped>\n",
       "    .dataframe tbody tr th:only-of-type {\n",
       "        vertical-align: middle;\n",
       "    }\n",
       "\n",
       "    .dataframe tbody tr th {\n",
       "        vertical-align: top;\n",
       "    }\n",
       "\n",
       "    .dataframe thead th {\n",
       "        text-align: right;\n",
       "    }\n",
       "</style>\n",
       "<table border=\"1\" class=\"dataframe\">\n",
       "  <thead>\n",
       "    <tr style=\"text-align: right;\">\n",
       "      <th></th>\n",
       "      <th>HR@5</th>\n",
       "      <th>MRR@5</th>\n",
       "      <th>Coverage@5</th>\n",
       "      <th>HR_pos@5</th>\n",
       "      <th>HR_neg@5</th>\n",
       "      <th>MRR_pos@5</th>\n",
       "      <th>MRR_neg@5</th>\n",
       "      <th>Matthews@5</th>\n",
       "    </tr>\n",
       "  </thead>\n",
       "  <tbody>\n",
       "    <tr>\n",
       "      <th>5</th>\n",
       "      <td>0.053477</td>\n",
       "      <td>0.029951</td>\n",
       "      <td>0.270644</td>\n",
       "      <td>0.050009</td>\n",
       "      <td>0.003468</td>\n",
       "      <td>0.028074</td>\n",
       "      <td>0.001877</td>\n",
       "      <td>0.026883</td>\n",
       "    </tr>\n",
       "  </tbody>\n",
       "</table>\n",
       "</div>"
      ],
      "text/plain": [
       "       HR@5     MRR@5  Coverage@5  HR_pos@5  HR_neg@5  MRR_pos@5  MRR_neg@5  \\\n",
       "5  0.053477  0.029951    0.270644  0.050009  0.003468   0.028074   0.001877   \n",
       "\n",
       "   Matthews@5  \n",
       "5    0.026883  "
      ]
     },
     "metadata": {},
     "output_type": "display_data"
    },
    {
     "data": {
      "text/html": [
       "<div>\n",
       "<style scoped>\n",
       "    .dataframe tbody tr th:only-of-type {\n",
       "        vertical-align: middle;\n",
       "    }\n",
       "\n",
       "    .dataframe tbody tr th {\n",
       "        vertical-align: top;\n",
       "    }\n",
       "\n",
       "    .dataframe thead th {\n",
       "        text-align: right;\n",
       "    }\n",
       "</style>\n",
       "<table border=\"1\" class=\"dataframe\">\n",
       "  <thead>\n",
       "    <tr style=\"text-align: right;\">\n",
       "      <th></th>\n",
       "      <th>HR@10</th>\n",
       "      <th>MRR@10</th>\n",
       "      <th>Coverage@10</th>\n",
       "      <th>HR_pos@10</th>\n",
       "      <th>HR_neg@10</th>\n",
       "      <th>MRR_pos@10</th>\n",
       "      <th>MRR_neg@10</th>\n",
       "      <th>Matthews@10</th>\n",
       "    </tr>\n",
       "  </thead>\n",
       "  <tbody>\n",
       "    <tr>\n",
       "      <th>10</th>\n",
       "      <td>0.079029</td>\n",
       "      <td>0.03336</td>\n",
       "      <td>0.356552</td>\n",
       "      <td>0.074101</td>\n",
       "      <td>0.004928</td>\n",
       "      <td>0.031292</td>\n",
       "      <td>0.002068</td>\n",
       "      <td>0.035579</td>\n",
       "    </tr>\n",
       "  </tbody>\n",
       "</table>\n",
       "</div>"
      ],
      "text/plain": [
       "       HR@10   MRR@10  Coverage@10  HR_pos@10  HR_neg@10  MRR_pos@10  \\\n",
       "10  0.079029  0.03336     0.356552   0.074101   0.004928    0.031292   \n",
       "\n",
       "    MRR_neg@10  Matthews@10  \n",
       "10    0.002068     0.035579  "
      ]
     },
     "metadata": {},
     "output_type": "display_data"
    },
    {
     "data": {
      "text/html": [
       "<div>\n",
       "<style scoped>\n",
       "    .dataframe tbody tr th:only-of-type {\n",
       "        vertical-align: middle;\n",
       "    }\n",
       "\n",
       "    .dataframe tbody tr th {\n",
       "        vertical-align: top;\n",
       "    }\n",
       "\n",
       "    .dataframe thead th {\n",
       "        text-align: right;\n",
       "    }\n",
       "</style>\n",
       "<table border=\"1\" class=\"dataframe\">\n",
       "  <thead>\n",
       "    <tr style=\"text-align: right;\">\n",
       "      <th></th>\n",
       "      <th>HR@20</th>\n",
       "      <th>MRR@20</th>\n",
       "      <th>Coverage@20</th>\n",
       "      <th>HR_pos@20</th>\n",
       "      <th>HR_neg@20</th>\n",
       "      <th>MRR_pos@20</th>\n",
       "      <th>MRR_neg@20</th>\n",
       "      <th>Matthews@20</th>\n",
       "    </tr>\n",
       "  </thead>\n",
       "  <tbody>\n",
       "    <tr>\n",
       "      <th>20</th>\n",
       "      <td>0.112794</td>\n",
       "      <td>0.035684</td>\n",
       "      <td>0.462851</td>\n",
       "      <td>0.106954</td>\n",
       "      <td>0.00584</td>\n",
       "      <td>0.03355</td>\n",
       "      <td>0.002134</td>\n",
       "      <td>0.055958</td>\n",
       "    </tr>\n",
       "  </tbody>\n",
       "</table>\n",
       "</div>"
      ],
      "text/plain": [
       "       HR@20    MRR@20  Coverage@20  HR_pos@20  HR_neg@20  MRR_pos@20  \\\n",
       "20  0.112794  0.035684     0.462851   0.106954    0.00584     0.03355   \n",
       "\n",
       "    MRR_neg@20  Matthews@20  \n",
       "20    0.002134     0.055958  "
      ]
     },
     "metadata": {},
     "output_type": "display_data"
    },
    {
     "data": {
      "text/plain": [
       "(0.03335998632585601, 0.07902901989414127, 0.03557897800930347)"
      ]
     },
     "execution_count": 162,
     "metadata": {},
     "output_type": "execute_result"
    }
   ],
   "source": [
    "# base\n",
    "downvote_seen_items(scores, testset, data_description)\n",
    "make_prediction(scores, holdout, data_description)"
   ]
  }
 ],
 "metadata": {
  "kernelspec": {
   "display_name": "Python 3 (ipykernel)",
   "language": "python",
   "name": "python3"
  },
  "language_info": {
   "codemirror_mode": {
    "name": "ipython",
    "version": 3
   },
   "file_extension": ".py",
   "mimetype": "text/x-python",
   "name": "python",
   "nbconvert_exporter": "python",
   "pygments_lexer": "ipython3",
   "version": "3.9.13"
  },
  "toc": {
   "base_numbering": 1,
   "nav_menu": {},
   "number_sections": true,
   "sideBar": true,
   "skip_h1_title": false,
   "title_cell": "Table of Contents",
   "title_sidebar": "Contents",
   "toc_cell": false,
   "toc_position": {
    "height": "621.778px",
    "left": "28px",
    "top": "110.806px",
    "width": "341.306px"
   },
   "toc_section_display": true,
   "toc_window_display": true
  },
  "varInspector": {
   "cols": {
    "lenName": 16,
    "lenType": 16,
    "lenVar": 40
   },
   "kernels_config": {
    "python": {
     "delete_cmd_postfix": "",
     "delete_cmd_prefix": "del ",
     "library": "var_list.py",
     "varRefreshCmd": "print(var_dic_list())"
    },
    "r": {
     "delete_cmd_postfix": ") ",
     "delete_cmd_prefix": "rm(",
     "library": "var_list.r",
     "varRefreshCmd": "cat(var_dic_list()) "
    }
   },
   "position": {
    "height": "195.847px",
    "left": "1336.67px",
    "right": "20px",
    "top": "120px",
    "width": "350px"
   },
   "types_to_exclude": [
    "module",
    "function",
    "builtin_function_or_method",
    "instance",
    "_Feature"
   ],
   "window_display": false
  }
 },
 "nbformat": 4,
 "nbformat_minor": 5
}
