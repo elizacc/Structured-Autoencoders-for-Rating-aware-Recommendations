{
 "cells": [
  {
   "cell_type": "code",
   "execution_count": 47,
   "id": "6104c075",
   "metadata": {
    "ExecuteTime": {
     "end_time": "2023-06-06T14:27:27.231377Z",
     "start_time": "2023-06-06T14:27:27.226375Z"
    }
   },
   "outputs": [],
   "source": [
    "import pandas as pd\n",
    "from dataprep import full_preproccessing\n",
    "import matplotlib.pyplot as plt"
   ]
  },
  {
   "cell_type": "markdown",
   "id": "a14a628d",
   "metadata": {},
   "source": [
    "## Matrices"
   ]
  },
  {
   "cell_type": "code",
   "execution_count": 48,
   "id": "a654b91f",
   "metadata": {
    "ExecuteTime": {
     "end_time": "2023-06-06T14:27:29.184385Z",
     "start_time": "2023-06-06T14:27:27.906359Z"
    }
   },
   "outputs": [
    {
     "name": "stdout",
     "output_type": "stream",
     "text": [
      "There are 25076 users\n",
      "Filtered 24583 invalid observations.\n"
     ]
    }
   ],
   "source": [
    "data = pd.read_csv('Food_com.csv')\n",
    "data.rename(columns={'user_id': 'userid', 'recipe_id': 'movieid', \"date\": \"timestamp\"}, inplace=True)\n",
    "data['timestamp'] = pd.to_datetime(data['timestamp'])\n",
    "data['rating'] = data['rating'] + 1\n",
    "# %%\n",
    "training, testset_valid, holdout_valid, testset, holdout, data_description, data_index = full_preproccessing(data)"
   ]
  },
  {
   "cell_type": "code",
   "execution_count": 49,
   "id": "6b3b9488",
   "metadata": {
    "ExecuteTime": {
     "end_time": "2023-06-06T14:27:31.405341Z",
     "start_time": "2023-06-06T14:27:29.664405Z"
    }
   },
   "outputs": [],
   "source": [
    "from sa_hooi import sa_hooi, form_attention_matrix, get_scaling_weights"
   ]
  },
  {
   "cell_type": "code",
   "execution_count": 50,
   "id": "c44a086f",
   "metadata": {
    "ExecuteTime": {
     "end_time": "2023-06-06T14:27:32.081076Z",
     "start_time": "2023-06-06T14:27:32.064073Z"
    },
    "code_folding": [
     0,
     49,
     61
    ]
   },
   "outputs": [],
   "source": [
    "def tf_model_build(config, data, data_description, attention_matrix=np.array([])):\n",
    "    userid = data_description[\"users\"]\n",
    "    itemid = data_description[\"items\"]\n",
    "    feedback = data_description[\"feedback\"]\n",
    "\n",
    "    idx = data[[userid, itemid, feedback]].values\n",
    "    idx[:, -1] = idx[:, -1] - data_description['min_rating'] # works only for integer ratings!\n",
    "    val = np.ones(idx.shape[0], dtype='f8')\n",
    "\n",
    "    n_users = data_description[\"n_users\"]\n",
    "    n_items = data_description[\"n_items\"]\n",
    "    n_ratings = data_description[\"n_ratings\"]\n",
    "    shape = (n_users, n_items, n_ratings)\n",
    "    core_shape = config['mlrank']\n",
    "    num_iters = config[\"num_iters\"]\n",
    "\n",
    "    if (attention_matrix.shape[0] == 0):\n",
    "        attention_matrix = form_attention_matrix(\n",
    "            data_description['n_ratings'],\n",
    "            **config['params'],\n",
    "            format = 'csr'\n",
    "        ).A\n",
    "        \n",
    "    print(attention_matrix)\n",
    "\n",
    "    item_popularity = (\n",
    "        pd.Series(np.ones((n_items,)))\n",
    "        .reindex(range(n_items))\n",
    "        .fillna(1)\n",
    "        .values\n",
    "    )\n",
    "    scaling_weights = get_scaling_weights(item_popularity, scaling=config[\"scaling\"])\n",
    "\n",
    "\n",
    "    u0, u1, u2 = sa_hooi(\n",
    "        idx, val, shape, config[\"mlrank\"],\n",
    "        attention_matrix = attention_matrix,\n",
    "        scaling_weights = scaling_weights,\n",
    "        max_iters = config[\"num_iters\"],\n",
    "        parallel_ttm = False,\n",
    "        randomized = config[\"randomized\"],\n",
    "        growth_tol = config[\"growth_tol\"],\n",
    "        seed = config[\"seed\"],\n",
    "        iter_callback = None,\n",
    "    )\n",
    "\n",
    "    return u0, u1, u2, attention_matrix\n",
    "\n",
    "# %%\n",
    "config = {\n",
    "    \"scaling\": 1,\n",
    "    \"mlrank\": (30, 30, 5),\n",
    "    \"n_ratings\": data_description['n_ratings'],\n",
    "    \"num_iters\": 4,\n",
    "    \"params\": None,\n",
    "    \"randomized\": True,\n",
    "    \"growth_tol\": 1e-4,\n",
    "    \"seed\": 42\n",
    "}\n",
    "\n",
    "# %%\n",
    "def tf_scoring(params, data, data_description):\n",
    "    user_factors, item_factors, feedback_factors, attention_matrix = params\n",
    "    userid = data_description[\"users\"]\n",
    "    itemid = data_description[\"items\"]\n",
    "    feedback = data_description[\"feedback\"]\n",
    "\n",
    "    data = data.sort_values(userid)\n",
    "    useridx = data[userid]\n",
    "    itemidx = data[itemid].values\n",
    "    ratings = data[feedback].values\n",
    "    ratings = ratings - data_description['min_rating']\n",
    "\n",
    "    n_users = useridx.nunique()\n",
    "    n_items = data_description['n_items']\n",
    "    n_ratings = data_description['n_ratings']\n",
    "\n",
    "    #inv_attention = np.linalg.inv(attention_matrix.A) # change\n",
    "    inv_attention = solve_triangular(attention_matrix, np.eye(5), lower=True)\n",
    "    #np.testing.assert_almost_equal(inv_attention, inv_attention_)\n",
    "\n",
    "    tensor_outer = tensor_outer_at('cpu')\n",
    "\n",
    "    inv_aT_feedback = (inv_attention.T @ feedback_factors)[-1, :]\n",
    "\n",
    "    scores = tensor_outer(\n",
    "        1.0,\n",
    "        item_factors,\n",
    "        attention_matrix @ feedback_factors,\n",
    "        itemidx,\n",
    "        ratings\n",
    "    )\n",
    "    scores = np.add.reduceat(scores, np.r_[0, np.where(np.diff(useridx))[0]+1]) # sort by users\n",
    "    scores = np.tensordot(\n",
    "        scores,\n",
    "        inv_aT_feedback,\n",
    "        axes=(2, 0)\n",
    "    ).dot(item_factors.T)\n",
    "\n",
    "    return scores"
   ]
  },
  {
   "cell_type": "code",
   "execution_count": 51,
   "id": "6eefcb54",
   "metadata": {
    "ExecuteTime": {
     "end_time": "2023-06-06T14:27:32.623030Z",
     "start_time": "2023-06-06T14:27:32.556034Z"
    }
   },
   "outputs": [
    {
     "name": "stdout",
     "output_type": "stream",
     "text": [
      "\\begin{tabular}{lrrrrrr}\n",
      "\\toprule\n",
      "{} &         0 &         1 &         2 &         3 &         4 &         5 \\\\\n",
      "\\midrule\n",
      "0 &  1.000000 &  0.500000 &  0.333333 &  0.250000 &  0.200000 &  0.166667 \\\\\n",
      "1 &  0.500000 &  1.250000 &  0.666667 &  0.458333 &  0.350000 &  0.283333 \\\\\n",
      "2 &  0.333333 &  0.666667 &  1.361111 &  0.750000 &  0.525000 &  0.405556 \\\\\n",
      "3 &  0.250000 &  0.458333 &  0.750000 &  1.423611 &  0.800000 &  0.566667 \\\\\n",
      "4 &  0.200000 &  0.350000 &  0.525000 &  0.800000 &  1.463611 &  0.833333 \\\\\n",
      "5 &  0.166667 &  0.283333 &  0.405556 &  0.566667 &  0.833333 &  1.491389 \\\\\n",
      "\\bottomrule\n",
      "\\end{tabular}\n",
      "\n"
     ]
    },
    {
     "name": "stderr",
     "output_type": "stream",
     "text": [
      "C:\\Users\\Liza\\AppData\\Local\\Temp\\ipykernel_12484\\2870607955.py:11: FutureWarning: In future versions `DataFrame.to_latex` is expected to utilise the base implementation of `Styler.to_latex` for formatting and rendering. The arguments signature may therefore change. It is recommended instead to use `DataFrame.style.to_latex` which also contains additional functionality.\n",
      "  print(pd.DataFrame(a @ a.T).to_latex())\n"
     ]
    }
   ],
   "source": [
    "config[\"params\"] = {'decay_factor': 1, 'exponential_decay': False, 'reverse': False}\n",
    "\n",
    "config['mlrank'] = (10, 10, 1)\n",
    "# tf_params = tf_model_build(config, training, data_description, attention_matrix=np.array([]))\n",
    "a = np.array([[1.,         0.,         0.,         0.,         0.,         0.,        ],\n",
    " [0.5,        1.    ,     0. ,        0.    ,     0. ,        0.,        ],\n",
    " [0.33333333, 0.5,        1. ,        0.    ,     0.  ,       0. ,       ],\n",
    " [0.25  ,     0.33333333 ,0.5    ,    1.   ,      0.  ,       0.  ,      ],\n",
    " [0.2   ,     0.25    ,   0.33333333, 0.5 ,       1.  ,       0.  ,      ],\n",
    " [0.16666667, 0.2   ,     0.25   ,    0.33333333, 0.5   ,     1.        ]])\n",
    "print(pd.DataFrame(a @ a.T).to_latex())"
   ]
  },
  {
   "cell_type": "code",
   "execution_count": 53,
   "id": "9e3c9f22",
   "metadata": {
    "ExecuteTime": {
     "end_time": "2023-06-06T14:27:40.302916Z",
     "start_time": "2023-06-06T14:27:40.135939Z"
    }
   },
   "outputs": [
    {
     "data": {
      "image/png": "[encoded data removed]",
      "text/plain": [
       "<Figure size 400x400 with 1 Axes>"
      ]
     },
     "metadata": {},
     "output_type": "display_data"
    }
   ],
   "source": [
    "data = pd.DataFrame(a @ a.T)\n",
    "plt.figure(figsize=(4,4))\n",
    "plt.imshow(data, cmap='Blues', norm=None, vmin=-1, vmax=1)\n",
    "for i in range(data.shape[0]):\n",
    "    for j in range(data.shape[1]):\n",
    "        if data.values[i, j] > 0.5:\n",
    "            text = plt.text(j, i, np.round(data.values[i, j], 2),\n",
    "                          ha=\"center\", va=\"center\", color=\"w\")\n",
    "        else:\n",
    "            text = plt.text(j, i, np.round(data.values[i, j], 2),\n",
    "                            ha=\"center\", va=\"center\", color=\"k\")\n",
    "plt.xticks(np.arange(6), labels=np.arange(1,7))\n",
    "plt.yticks(np.arange(6), labels=np.arange(1,7));"
   ]
  },
  {
   "cell_type": "code",
   "execution_count": 257,
   "id": "f0c5f63b",
   "metadata": {
    "ExecuteTime": {
     "end_time": "2023-06-06T12:13:30.209142Z",
     "start_time": "2023-06-06T12:13:30.178141Z"
    }
   },
   "outputs": [
    {
     "name": "stdout",
     "output_type": "stream",
     "text": [
      "Eucledian distance matrix\n",
      "\\begin{tabular}{lrrrrr}\n",
      "\\toprule\n",
      "{} &         0 &         1 &         2 &         3 &         4 \\\\\n",
      "\\midrule\n",
      "0 &  1.000000 &  0.367879 &  0.135335 &  0.049787 &  0.018316 \\\\\n",
      "1 &  0.367879 &  1.000000 &  0.367879 &  0.135335 &  0.049787 \\\\\n",
      "2 &  0.135335 &  0.367879 &  1.000000 &  0.367879 &  0.135335 \\\\\n",
      "3 &  0.049787 &  0.135335 &  0.367879 &  1.000000 &  0.367879 \\\\\n",
      "4 &  0.018316 &  0.049787 &  0.135335 &  0.367879 &  1.000000 \\\\\n",
      "\\bottomrule\n",
      "\\end{tabular}\n",
      "\n"
     ]
    },
    {
     "name": "stderr",
     "output_type": "stream",
     "text": [
      "C:\\Users\\Liza\\AppData\\Local\\Temp\\ipykernel_28904\\3367573187.py:7: FutureWarning: In future versions `DataFrame.to_latex` is expected to utilise the base implementation of `Styler.to_latex` for formatting and rendering. The arguments signature may therefore change. It is recommended instead to use `DataFrame.style.to_latex` which also contains additional functionality.\n",
      "  print(pd.DataFrame(eucl_matrix).to_latex())\n"
     ]
    }
   ],
   "source": [
    "print('Eucledian distance matrix')\n",
    "eucl_matrix = np.zeros((5, 5))\n",
    "\n",
    "for i in range(5):\n",
    "    for j in range(5):\n",
    "        eucl_matrix[i, j] = 1.0 / np.exp(abs(i - j)) if i != j else 1#5 + 1e-2\n",
    "print(pd.DataFrame(eucl_matrix).to_latex())"
   ]
  },
  {
   "cell_type": "code",
   "execution_count": 56,
   "id": "75e36a6f",
   "metadata": {
    "ExecuteTime": {
     "end_time": "2023-06-06T14:35:18.671537Z",
     "start_time": "2023-06-06T14:35:18.522540Z"
    }
   },
   "outputs": [
    {
     "data": {
      "image/png": "[encoded data removed]",
      "text/plain": [
       "<Figure size 400x400 with 1 Axes>"
      ]
     },
     "metadata": {},
     "output_type": "display_data"
    }
   ],
   "source": [
    "a = np.array([[3.69, 3.94, -5.29, -133.35, -535.53],\n",
    "             [3.94, 11.29, -4.89, -264.67, -1065.59],\n",
    "             [-5.29, -4.89, 17.42, 79.24, 327.89],\n",
    "             [-133.35, -264.67, 79.24, 9902.99, 39774.84],\n",
    "             [-535.53, -1065.59, 327.89, 39774.84, 59817.72]])\n",
    "data = pd.DataFrame(a)\n",
    "plt.figure(figsize=(4,4))\n",
    "plt.imshow(data, cmap='Blues', norm=None)\n",
    "for i in range(data.shape[0]):\n",
    "    for j in range(data.shape[1]):\n",
    "        if data.values[i, j] > 0.5:\n",
    "            text = plt.text(j, i, np.round(data.values[i, j], 2),\n",
    "                          ha=\"center\", va=\"center\", color=\"w\")\n",
    "        else:\n",
    "            text = plt.text(j, i, np.round(data.values[i, j], 2),\n",
    "                            ha=\"center\", va=\"center\", color=\"k\")\n",
    "plt.xticks(np.arange(5), labels=np.arange(1,6))\n",
    "plt.yticks(np.arange(5), labels=np.arange(1,6));"
   ]
  },
  {
   "cell_type": "code",
   "execution_count": 27,
   "id": "04f309d3",
   "metadata": {
    "ExecuteTime": {
     "end_time": "2023-06-05T20:43:44.592157Z",
     "start_time": "2023-06-05T20:43:44.560157Z"
    }
   },
   "outputs": [
    {
     "name": "stdout",
     "output_type": "stream",
     "text": [
      "\\begin{tabular}{lrrrrr}\n",
      "\\toprule\n",
      "{} &         0 &         1 &         2 &         3 &         4 \\\\\n",
      "\\midrule\n",
      "0 &  1.000000 &  0.367879 &  0.270671 &  0.149361 &  0.073263 \\\\\n",
      "1 &  0.367879 &  1.000000 &  0.367879 &  0.270671 &  0.149361 \\\\\n",
      "2 &  0.270671 &  0.367879 &  1.000000 &  0.367879 &  0.270671 \\\\\n",
      "3 &  0.149361 &  0.270671 &  0.367879 &  1.000000 &  0.367879 \\\\\n",
      "4 &  0.073263 &  0.149361 &  0.270671 &  0.367879 &  1.000000 \\\\\n",
      "\\bottomrule\n",
      "\\end{tabular}\n",
      "\n"
     ]
    },
    {
     "name": "stderr",
     "output_type": "stream",
     "text": [
      "C:\\Users\\Liza\\AppData\\Local\\Temp\\ipykernel_41628\\1262110274.py:6: FutureWarning: In future versions `DataFrame.to_latex` is expected to utilise the base implementation of `Styler.to_latex` for formatting and rendering. The arguments signature may therefore change. It is recommended instead to use `DataFrame.style.to_latex` which also contains additional functionality.\n",
      "  print(pd.DataFrame(eucl_matrix).to_latex())\n"
     ]
    }
   ],
   "source": [
    "eucl_matrix = np.zeros((5, 5))\n",
    "\n",
    "for i in range(5):\n",
    "    for j in range(5):\n",
    "        eucl_matrix[i, j] = abs(i - j) / np.exp(abs(i - j)) if i != j else 1#5 + 1e-2\n",
    "print(pd.DataFrame(eucl_matrix).to_latex())"
   ]
  },
  {
   "cell_type": "code",
   "execution_count": 27,
   "id": "8e07b682",
   "metadata": {
    "ExecuteTime": {
     "end_time": "2023-06-05T22:30:42.135723Z",
     "start_time": "2023-06-05T22:30:42.073723Z"
    }
   },
   "outputs": [
    {
     "name": "stdout",
     "output_type": "stream",
     "text": [
      "\\begin{tabular}{lrrrrrr}\n",
      "\\toprule\n",
      "{} &         0 &         1 &         2 &         3 &         4 &         5 \\\\\n",
      "\\midrule\n",
      "0 &  1.100000 &  0.011903 &  0.006648 &  0.015998 &  0.122179 &  0.355517 \\\\\n",
      "1 &  0.011903 &  1.100000 &  0.005326 &  0.027517 &  0.131058 &  0.356822 \\\\\n",
      "2 &  0.006648 &  0.005326 &  1.100000 &  0.022432 &  0.127140 &  0.356253 \\\\\n",
      "3 &  0.015998 &  0.027517 &  0.022432 &  1.100000 &  0.109824 &  0.353623 \\\\\n",
      "4 &  0.122179 &  0.131058 &  0.127140 &  0.109824 &  1.100000 &  0.333563 \\\\\n",
      "5 &  0.355517 &  0.356822 &  0.356253 &  0.353623 &  0.333563 &  1.100000 \\\\\n",
      "\\bottomrule\n",
      "\\end{tabular}\n",
      "\n"
     ]
    },
    {
     "name": "stderr",
     "output_type": "stream",
     "text": [
      "C:\\Users\\Liza\\AppData\\Local\\Temp\\ipykernel_12720\\1743756817.py:17: FutureWarning: In future versions `DataFrame.to_latex` is expected to utilise the base implementation of `Styler.to_latex` for formatting and rendering. The arguments signature may therefore change. It is recommended instead to use `DataFrame.style.to_latex` which also contains additional functionality.\n",
      "  print(pd.DataFrame(rat_dist_matrix).to_latex())\n"
     ]
    }
   ],
   "source": [
    "rating_dist = []\n",
    "\n",
    "total_cnt = training.shape[0]\n",
    "\n",
    "for i in range(6):\n",
    "    val = training.query(f'rating == {i + 1}').count()[0] / total_cnt\n",
    "\n",
    "    rating_dist.append(val)\n",
    "\n",
    "rat_dist_matrix = np.zeros((6, 6))\n",
    "\n",
    "for i in range(6):\n",
    "    for j in range(6):\n",
    "        diff = abs(rating_dist[i] - rating_dist[j])\n",
    "        rat_dist_matrix[i, j] = diff / np.exp(diff) if i != j else 1. + 1e-1\n",
    "        \n",
    "print(pd.DataFrame(rat_dist_matrix).to_latex())"
   ]
  },
  {
   "cell_type": "code",
   "execution_count": 29,
   "id": "8a1449e9",
   "metadata": {
    "ExecuteTime": {
     "end_time": "2023-06-05T22:39:15.806643Z",
     "start_time": "2023-06-05T22:39:15.787627Z"
    }
   },
   "outputs": [
    {
     "data": {
      "text/plain": [
       "[0.01684015426667166,\n",
       " 0.004792750964166698,\n",
       " 0.010147152431946681,\n",
       " 0.033099936346276254,\n",
       " 0.1574680795297113,\n",
       " 0.7776519264612274]"
      ]
     },
     "execution_count": 29,
     "metadata": {},
     "output_type": "execute_result"
    }
   ],
   "source": [
    "rating_dist"
   ]
  },
  {
   "cell_type": "code",
   "execution_count": 32,
   "id": "2f93506d",
   "metadata": {
    "ExecuteTime": {
     "end_time": "2023-06-05T22:48:20.808332Z",
     "start_time": "2023-06-05T22:48:20.788330Z"
    }
   },
   "outputs": [
    {
     "name": "stdout",
     "output_type": "stream",
     "text": [
      "\\begin{tabular}{lrrrrrr}\n",
      "\\toprule\n",
      "{} &         0 &         1 &         2 &         3 &         4 &         5 \\\\\n",
      "\\midrule\n",
      "0 &  1.000000 &  0.828160 &  0.579159 &  0.376799 &  0.315151 &  0.295807 \\\\\n",
      "1 &  0.828160 &  1.000000 &  0.658265 &  0.408757 &  0.337201 &  0.315151 \\\\\n",
      "2 &  0.579159 &  0.658265 &  1.000000 &  0.518862 &  0.408757 &  0.376799 \\\\\n",
      "3 &  0.376799 &  0.408757 &  0.518862 &  1.000000 &  0.658265 &  0.579159 \\\\\n",
      "4 &  0.315151 &  0.337201 &  0.408757 &  0.658265 &  1.000000 &  0.828160 \\\\\n",
      "5 &  0.295807 &  0.315151 &  0.376799 &  0.579159 &  0.828160 &  1.000000 \\\\\n",
      "\\bottomrule\n",
      "\\end{tabular}\n",
      "\n"
     ]
    },
    {
     "name": "stderr",
     "output_type": "stream",
     "text": [
      "C:\\Users\\Liza\\AppData\\Local\\Temp\\ipykernel_12720\\1466671247.py:18: FutureWarning: In future versions `DataFrame.to_latex` is expected to utilise the base implementation of `Styler.to_latex` for formatting and rendering. The arguments signature may therefore change. It is recommended instead to use `DataFrame.style.to_latex` which also contains additional functionality.\n",
      "  print(pd.DataFrame(eucl_matrix).to_latex())\n"
     ]
    }
   ],
   "source": [
    "def center_and_rescale_score(x, func=None):\n",
    "\n",
    "    if func is None:\n",
    "        func = np.arctan\n",
    "\n",
    "    return func(x - 3.5)\n",
    "\n",
    "eucl_matrix = np.zeros((6, 6))\n",
    "\n",
    "for i in range(6):\n",
    "    for j in range(6):\n",
    "\n",
    "        k, l = center_and_rescale_score(i + 1), center_and_rescale_score(j + 1)\n",
    "\n",
    "        diff = abs(k - l)\n",
    "\n",
    "        eucl_matrix[i, j] = 1 / (diff + 1)\n",
    "print(pd.DataFrame(eucl_matrix).to_latex())"
   ]
  },
  {
   "cell_type": "markdown",
   "id": "2870e067",
   "metadata": {},
   "source": [
    "## Base tuning"
   ]
  },
  {
   "cell_type": "code",
   "execution_count": 2,
   "id": "938257d3",
   "metadata": {
    "ExecuteTime": {
     "end_time": "2023-06-05T22:02:38.600084Z",
     "start_time": "2023-06-05T22:02:38.578067Z"
    }
   },
   "outputs": [],
   "source": [
    "with open('logs_video1.txt') as f:\n",
    "    lines1 = f.readlines()"
   ]
  },
  {
   "cell_type": "code",
   "execution_count": 3,
   "id": "1b6acd93",
   "metadata": {
    "ExecuteTime": {
     "end_time": "2023-06-04T16:21:38.112558Z",
     "start_time": "2023-06-04T16:21:38.091532Z"
    }
   },
   "outputs": [],
   "source": [
    "with open('logs_video2.txt') as f:\n",
    "    lines2 = f.readlines()"
   ]
  },
  {
   "cell_type": "code",
   "execution_count": 4,
   "id": "5bf61fbc",
   "metadata": {
    "ExecuteTime": {
     "end_time": "2023-06-04T16:21:38.580975Z",
     "start_time": "2023-06-04T16:21:38.566966Z"
    }
   },
   "outputs": [],
   "source": [
    "with open('logs_video3.txt') as f:\n",
    "    lines3 = f.readlines()"
   ]
  },
  {
   "cell_type": "code",
   "execution_count": 52,
   "id": "f4f1e5af",
   "metadata": {
    "ExecuteTime": {
     "end_time": "2023-05-31T16:40:09.411444Z",
     "start_time": "2023-05-31T16:40:09.393477Z"
    }
   },
   "outputs": [],
   "source": [
    "with open('logs_video4.txt') as f:\n",
    "    lines4 = f.readlines()"
   ]
  },
  {
   "cell_type": "code",
   "execution_count": 19,
   "id": "ce92b6eb",
   "metadata": {
    "ExecuteTime": {
     "end_time": "2023-06-06T13:21:31.852872Z",
     "start_time": "2023-06-06T13:21:31.738121Z"
    }
   },
   "outputs": [],
   "source": [
    "with open('clothing_recvae2.txt') as f:\n",
    "    lines = f.readlines()"
   ]
  },
  {
   "cell_type": "code",
   "execution_count": 5,
   "id": "68639591",
   "metadata": {
    "ExecuteTime": {
     "end_time": "2023-06-04T16:21:40.043066Z",
     "start_time": "2023-06-04T16:21:40.035066Z"
    }
   },
   "outputs": [],
   "source": [
    "lines = lines1 + lines2 + lines3"
   ]
  },
  {
   "cell_type": "code",
   "execution_count": 6,
   "id": "466092b6",
   "metadata": {
    "ExecuteTime": {
     "end_time": "2023-06-04T16:21:40.707013Z",
     "start_time": "2023-06-04T16:21:40.671207Z"
    },
    "code_folding": []
   },
   "outputs": [],
   "source": [
    "# video\n",
    "alpha = 5\n",
    "models = []\n",
    "keys = []\n",
    "alphas = []\n",
    "topks = []\n",
    "mcs = []\n",
    "hrs = []\n",
    "prev_model = ''\n",
    "for line in lines:\n",
    "    if 'Batch' in line:\n",
    "        batch = line.split(':')[-1].strip()\n",
    "    if 'Model' in line:\n",
    "        model = line.split(':')[-1].strip()\n",
    "    if 'Hidden' in line:\n",
    "        for i in range(alpha-1):\n",
    "            for n in [5,10,20]:\n",
    "                keys.append(line.split(':')[-1].strip())\n",
    "                models.append(model)\n",
    "                alphas.append(i+2)\n",
    "                topks.append(n)\n",
    "    if 'HR' in line:\n",
    "        mcs.append(float(line.split(':')[-1].strip()))\n",
    "        hrs.append(float(line.split(':')[1].strip().split(', ')[0]))"
   ]
  },
  {
   "cell_type": "code",
   "execution_count": 24,
   "id": "2fc439d0",
   "metadata": {
    "ExecuteTime": {
     "end_time": "2023-06-06T13:22:02.171867Z",
     "start_time": "2023-06-06T13:22:02.095779Z"
    }
   },
   "outputs": [],
   "source": [
    "alpha = 6\n",
    "batches = []\n",
    "keys = []\n",
    "alphas = []\n",
    "topks = []\n",
    "mcs = []\n",
    "hrs = []\n",
    "for line in lines:\n",
    "    if 'Batch' in line:\n",
    "        batch = line.split(':')[-1].strip()\n",
    "    if 'Hidden' in line:\n",
    "        for i in range(alpha-1):\n",
    "            for n in [5,10,20]:\n",
    "                keys.append(line.split(':')[-1].strip())\n",
    "                alphas.append(i+2)\n",
    "                topks.append(n)\n",
    "                batches.append(batch)\n",
    "    if 'HR' in line:\n",
    "        mcs.append(float(line.split(':')[-1].strip()))\n",
    "        hrs.append(float(line.split(':')[1].strip().split(', ')[0]))"
   ]
  },
  {
   "cell_type": "code",
   "execution_count": 7,
   "id": "86850710",
   "metadata": {
    "ExecuteTime": {
     "end_time": "2023-06-04T16:21:43.289097Z",
     "start_time": "2023-06-04T16:21:43.271098Z"
    }
   },
   "outputs": [],
   "source": [
    "batches = np.array([[2**i] * (len([i for i in models if i == 'triangular matrix']) // 6) for i in range(4,10)] * 5).flatten()"
   ]
  },
  {
   "cell_type": "code",
   "execution_count": 8,
   "id": "1247ce06",
   "metadata": {
    "ExecuteTime": {
     "end_time": "2023-06-04T16:21:44.804325Z",
     "start_time": "2023-06-04T16:21:44.650177Z"
    },
    "code_folding": []
   },
   "outputs": [],
   "source": [
    "# video\n",
    "res = pd.DataFrame([models, batches, keys, alphas, topks, mcs, hrs]).T\n",
    "res.columns = ['model', 'batch_size', 'hidden_size', 'alpha', 'top_k', 'mcc', 'hr']"
   ]
  },
  {
   "cell_type": "code",
   "execution_count": 25,
   "id": "2bf8cf8e",
   "metadata": {
    "ExecuteTime": {
     "end_time": "2023-06-06T13:22:03.977261Z",
     "start_time": "2023-06-06T13:22:03.751723Z"
    }
   },
   "outputs": [],
   "source": [
    "res = pd.DataFrame([batches, keys, alphas, topks, mcs, hrs]).T\n",
    "res.columns = ['batch_size', 'hidden_size', 'alpha', 'top_k', 'mcc', 'hr']"
   ]
  },
  {
   "cell_type": "code",
   "execution_count": 26,
   "id": "6b5b9354",
   "metadata": {
    "ExecuteTime": {
     "end_time": "2023-06-06T13:22:04.468490Z",
     "start_time": "2023-06-06T13:22:04.416726Z"
    }
   },
   "outputs": [
    {
     "data": {
      "text/html": [
       "<div>\n",
       "<style scoped>\n",
       "    .dataframe tbody tr th:only-of-type {\n",
       "        vertical-align: middle;\n",
       "    }\n",
       "\n",
       "    .dataframe tbody tr th {\n",
       "        vertical-align: top;\n",
       "    }\n",
       "\n",
       "    .dataframe thead th {\n",
       "        text-align: right;\n",
       "    }\n",
       "</style>\n",
       "<table border=\"1\" class=\"dataframe\">\n",
       "  <thead>\n",
       "    <tr style=\"text-align: right;\">\n",
       "      <th></th>\n",
       "      <th>batch_size</th>\n",
       "      <th>hidden_size</th>\n",
       "      <th>alpha</th>\n",
       "      <th>top_k</th>\n",
       "      <th>mcc</th>\n",
       "      <th>hr</th>\n",
       "    </tr>\n",
       "  </thead>\n",
       "  <tbody>\n",
       "    <tr>\n",
       "      <th>0</th>\n",
       "      <td>500</td>\n",
       "      <td>(16, 16, 0.001)</td>\n",
       "      <td>2</td>\n",
       "      <td>5</td>\n",
       "      <td>0.009766</td>\n",
       "      <td>0.002177</td>\n",
       "    </tr>\n",
       "    <tr>\n",
       "      <th>1</th>\n",
       "      <td>500</td>\n",
       "      <td>(16, 16, 0.001)</td>\n",
       "      <td>2</td>\n",
       "      <td>10</td>\n",
       "      <td>0.009766</td>\n",
       "      <td>0.002177</td>\n",
       "    </tr>\n",
       "    <tr>\n",
       "      <th>2</th>\n",
       "      <td>500</td>\n",
       "      <td>(16, 16, 0.001)</td>\n",
       "      <td>2</td>\n",
       "      <td>20</td>\n",
       "      <td>0.011113</td>\n",
       "      <td>0.002818</td>\n",
       "    </tr>\n",
       "    <tr>\n",
       "      <th>3</th>\n",
       "      <td>500</td>\n",
       "      <td>(16, 16, 0.001)</td>\n",
       "      <td>3</td>\n",
       "      <td>5</td>\n",
       "      <td>0.015053</td>\n",
       "      <td>0.002049</td>\n",
       "    </tr>\n",
       "    <tr>\n",
       "      <th>4</th>\n",
       "      <td>500</td>\n",
       "      <td>(16, 16, 0.001)</td>\n",
       "      <td>3</td>\n",
       "      <td>10</td>\n",
       "      <td>0.015053</td>\n",
       "      <td>0.002049</td>\n",
       "    </tr>\n",
       "  </tbody>\n",
       "</table>\n",
       "</div>"
      ],
      "text/plain": [
       "  batch_size      hidden_size alpha top_k       mcc        hr\n",
       "0        500  (16, 16, 0.001)     2     5  0.009766  0.002177\n",
       "1        500  (16, 16, 0.001)     2    10  0.009766  0.002177\n",
       "2        500  (16, 16, 0.001)     2    20  0.011113  0.002818\n",
       "3        500  (16, 16, 0.001)     3     5  0.015053  0.002049\n",
       "4        500  (16, 16, 0.001)     3    10  0.015053  0.002049"
      ]
     },
     "execution_count": 26,
     "metadata": {},
     "output_type": "execute_result"
    }
   ],
   "source": [
    "res.head()"
   ]
  },
  {
   "cell_type": "code",
   "execution_count": 77,
   "id": "181820f0",
   "metadata": {
    "ExecuteTime": {
     "end_time": "2023-06-04T09:32:27.773895Z",
     "start_time": "2023-06-04T09:32:27.750877Z"
    }
   },
   "outputs": [],
   "source": [
    "res = res.dropna(subset='model')"
   ]
  },
  {
   "cell_type": "code",
   "execution_count": 27,
   "id": "6c898716",
   "metadata": {
    "ExecuteTime": {
     "end_time": "2023-06-06T13:22:06.486197Z",
     "start_time": "2023-06-06T13:22:06.438432Z"
    }
   },
   "outputs": [
    {
     "data": {
      "text/html": [
       "<div>\n",
       "<style scoped>\n",
       "    .dataframe tbody tr th:only-of-type {\n",
       "        vertical-align: middle;\n",
       "    }\n",
       "\n",
       "    .dataframe tbody tr th {\n",
       "        vertical-align: top;\n",
       "    }\n",
       "\n",
       "    .dataframe thead th {\n",
       "        text-align: right;\n",
       "    }\n",
       "</style>\n",
       "<table border=\"1\" class=\"dataframe\">\n",
       "  <thead>\n",
       "    <tr style=\"text-align: right;\">\n",
       "      <th></th>\n",
       "      <th>batch_size</th>\n",
       "      <th>hidden_size</th>\n",
       "      <th>alpha</th>\n",
       "      <th>top_k</th>\n",
       "      <th>mcc</th>\n",
       "      <th>hr</th>\n",
       "    </tr>\n",
       "  </thead>\n",
       "  <tbody>\n",
       "    <tr>\n",
       "      <th>0</th>\n",
       "      <td>500</td>\n",
       "      <td>(16, 16, 0.001)</td>\n",
       "      <td>2</td>\n",
       "      <td>5</td>\n",
       "      <td>0.009766</td>\n",
       "      <td>0.002177</td>\n",
       "    </tr>\n",
       "    <tr>\n",
       "      <th>1</th>\n",
       "      <td>500</td>\n",
       "      <td>(16, 16, 0.001)</td>\n",
       "      <td>2</td>\n",
       "      <td>10</td>\n",
       "      <td>0.009766</td>\n",
       "      <td>0.002177</td>\n",
       "    </tr>\n",
       "    <tr>\n",
       "      <th>2</th>\n",
       "      <td>500</td>\n",
       "      <td>(16, 16, 0.001)</td>\n",
       "      <td>2</td>\n",
       "      <td>20</td>\n",
       "      <td>0.011113</td>\n",
       "      <td>0.002818</td>\n",
       "    </tr>\n",
       "    <tr>\n",
       "      <th>3</th>\n",
       "      <td>500</td>\n",
       "      <td>(16, 16, 0.001)</td>\n",
       "      <td>3</td>\n",
       "      <td>5</td>\n",
       "      <td>0.015053</td>\n",
       "      <td>0.002049</td>\n",
       "    </tr>\n",
       "    <tr>\n",
       "      <th>4</th>\n",
       "      <td>500</td>\n",
       "      <td>(16, 16, 0.001)</td>\n",
       "      <td>3</td>\n",
       "      <td>10</td>\n",
       "      <td>0.015053</td>\n",
       "      <td>0.002049</td>\n",
       "    </tr>\n",
       "    <tr>\n",
       "      <th>...</th>\n",
       "      <td>...</td>\n",
       "      <td>...</td>\n",
       "      <td>...</td>\n",
       "      <td>...</td>\n",
       "      <td>...</td>\n",
       "      <td>...</td>\n",
       "    </tr>\n",
       "    <tr>\n",
       "      <th>2140</th>\n",
       "      <td>500</td>\n",
       "      <td>(16, 64, 0.003)</td>\n",
       "      <td>5</td>\n",
       "      <td>10</td>\n",
       "      <td>None</td>\n",
       "      <td>None</td>\n",
       "    </tr>\n",
       "    <tr>\n",
       "      <th>2141</th>\n",
       "      <td>500</td>\n",
       "      <td>(16, 64, 0.003)</td>\n",
       "      <td>5</td>\n",
       "      <td>20</td>\n",
       "      <td>None</td>\n",
       "      <td>None</td>\n",
       "    </tr>\n",
       "    <tr>\n",
       "      <th>2142</th>\n",
       "      <td>500</td>\n",
       "      <td>(16, 64, 0.003)</td>\n",
       "      <td>6</td>\n",
       "      <td>5</td>\n",
       "      <td>None</td>\n",
       "      <td>None</td>\n",
       "    </tr>\n",
       "    <tr>\n",
       "      <th>2143</th>\n",
       "      <td>500</td>\n",
       "      <td>(16, 64, 0.003)</td>\n",
       "      <td>6</td>\n",
       "      <td>10</td>\n",
       "      <td>None</td>\n",
       "      <td>None</td>\n",
       "    </tr>\n",
       "    <tr>\n",
       "      <th>2144</th>\n",
       "      <td>500</td>\n",
       "      <td>(16, 64, 0.003)</td>\n",
       "      <td>6</td>\n",
       "      <td>20</td>\n",
       "      <td>None</td>\n",
       "      <td>None</td>\n",
       "    </tr>\n",
       "  </tbody>\n",
       "</table>\n",
       "<p>2145 rows × 6 columns</p>\n",
       "</div>"
      ],
      "text/plain": [
       "     batch_size      hidden_size alpha top_k       mcc        hr\n",
       "0           500  (16, 16, 0.001)     2     5  0.009766  0.002177\n",
       "1           500  (16, 16, 0.001)     2    10  0.009766  0.002177\n",
       "2           500  (16, 16, 0.001)     2    20  0.011113  0.002818\n",
       "3           500  (16, 16, 0.001)     3     5  0.015053  0.002049\n",
       "4           500  (16, 16, 0.001)     3    10  0.015053  0.002049\n",
       "...         ...              ...   ...   ...       ...       ...\n",
       "2140        500  (16, 64, 0.003)     5    10      None      None\n",
       "2141        500  (16, 64, 0.003)     5    20      None      None\n",
       "2142        500  (16, 64, 0.003)     6     5      None      None\n",
       "2143        500  (16, 64, 0.003)     6    10      None      None\n",
       "2144        500  (16, 64, 0.003)     6    20      None      None\n",
       "\n",
       "[2145 rows x 6 columns]"
      ]
     },
     "execution_count": 27,
     "metadata": {},
     "output_type": "execute_result"
    }
   ],
   "source": [
    "res"
   ]
  },
  {
   "cell_type": "code",
   "execution_count": 28,
   "id": "786d2d72",
   "metadata": {
    "ExecuteTime": {
     "end_time": "2023-06-06T13:22:09.297552Z",
     "start_time": "2023-06-06T13:22:09.113919Z"
    }
   },
   "outputs": [
    {
     "name": "stdout",
     "output_type": "stream",
     "text": [
      "<class 'pandas.core.frame.DataFrame'>\n",
      "RangeIndex: 2145 entries, 0 to 2144\n",
      "Data columns (total 6 columns):\n",
      " #   Column       Non-Null Count  Dtype \n",
      "---  ------       --------------  ----- \n",
      " 0   batch_size   2145 non-null   object\n",
      " 1   hidden_size  2145 non-null   object\n",
      " 2   alpha        2145 non-null   object\n",
      " 3   top_k        2145 non-null   object\n",
      " 4   mcc          1667 non-null   object\n",
      " 5   hr           2130 non-null   object\n",
      "dtypes: object(6)\n",
      "memory usage: 100.7+ KB\n"
     ]
    }
   ],
   "source": [
    "res.info()"
   ]
  },
  {
   "cell_type": "code",
   "execution_count": 95,
   "id": "8b3f7d1a",
   "metadata": {
    "ExecuteTime": {
     "end_time": "2023-06-02T18:30:36.975128Z",
     "start_time": "2023-06-02T18:30:36.956129Z"
    }
   },
   "outputs": [
    {
     "data": {
      "text/html": [
       "<div>\n",
       "<style scoped>\n",
       "    .dataframe tbody tr th:only-of-type {\n",
       "        vertical-align: middle;\n",
       "    }\n",
       "\n",
       "    .dataframe tbody tr th {\n",
       "        vertical-align: top;\n",
       "    }\n",
       "\n",
       "    .dataframe thead th {\n",
       "        text-align: right;\n",
       "    }\n",
       "</style>\n",
       "<table border=\"1\" class=\"dataframe\">\n",
       "  <thead>\n",
       "    <tr style=\"text-align: right;\">\n",
       "      <th></th>\n",
       "      <th>model</th>\n",
       "      <th>batch_size</th>\n",
       "      <th>hidden_size</th>\n",
       "      <th>alpha</th>\n",
       "      <th>top_k</th>\n",
       "      <th>mcc</th>\n",
       "      <th>hr</th>\n",
       "    </tr>\n",
       "  </thead>\n",
       "  <tbody>\n",
       "    <tr>\n",
       "      <th>0</th>\n",
       "      <td>triangular matrix</td>\n",
       "      <td>16</td>\n",
       "      <td>(16, 3)</td>\n",
       "      <td>2</td>\n",
       "      <td>5</td>\n",
       "      <td>0.008778</td>\n",
       "      <td>0.001752</td>\n",
       "    </tr>\n",
       "    <tr>\n",
       "      <th>1</th>\n",
       "      <td>triangular matrix</td>\n",
       "      <td>16</td>\n",
       "      <td>(16, 3)</td>\n",
       "      <td>2</td>\n",
       "      <td>10</td>\n",
       "      <td>0.016288</td>\n",
       "      <td>0.006008</td>\n",
       "    </tr>\n",
       "    <tr>\n",
       "      <th>2</th>\n",
       "      <td>triangular matrix</td>\n",
       "      <td>16</td>\n",
       "      <td>(16, 3)</td>\n",
       "      <td>2</td>\n",
       "      <td>20</td>\n",
       "      <td>0.020803</td>\n",
       "      <td>0.009762</td>\n",
       "    </tr>\n",
       "    <tr>\n",
       "      <th>3</th>\n",
       "      <td>triangular matrix</td>\n",
       "      <td>16</td>\n",
       "      <td>(16, 3)</td>\n",
       "      <td>3</td>\n",
       "      <td>5</td>\n",
       "      <td>0.01286</td>\n",
       "      <td>0.001752</td>\n",
       "    </tr>\n",
       "    <tr>\n",
       "      <th>4</th>\n",
       "      <td>triangular matrix</td>\n",
       "      <td>16</td>\n",
       "      <td>(16, 3)</td>\n",
       "      <td>3</td>\n",
       "      <td>10</td>\n",
       "      <td>0.023863</td>\n",
       "      <td>0.006008</td>\n",
       "    </tr>\n",
       "    <tr>\n",
       "      <th>...</th>\n",
       "      <td>...</td>\n",
       "      <td>...</td>\n",
       "      <td>...</td>\n",
       "      <td>...</td>\n",
       "      <td>...</td>\n",
       "      <td>...</td>\n",
       "      <td>...</td>\n",
       "    </tr>\n",
       "    <tr>\n",
       "      <th>1483</th>\n",
       "      <td>triangular matrix</td>\n",
       "      <td>512</td>\n",
       "      <td>(1024, 3)</td>\n",
       "      <td>4</td>\n",
       "      <td>10</td>\n",
       "      <td>0.029659</td>\n",
       "      <td>0.003755</td>\n",
       "    </tr>\n",
       "    <tr>\n",
       "      <th>1484</th>\n",
       "      <td>triangular matrix</td>\n",
       "      <td>512</td>\n",
       "      <td>(1024, 3)</td>\n",
       "      <td>4</td>\n",
       "      <td>20</td>\n",
       "      <td>0.033368</td>\n",
       "      <td>0.009262</td>\n",
       "    </tr>\n",
       "    <tr>\n",
       "      <th>1485</th>\n",
       "      <td>triangular matrix</td>\n",
       "      <td>512</td>\n",
       "      <td>(1024, 3)</td>\n",
       "      <td>5</td>\n",
       "      <td>5</td>\n",
       "      <td>0.004815</td>\n",
       "      <td>0.001502</td>\n",
       "    </tr>\n",
       "    <tr>\n",
       "      <th>1486</th>\n",
       "      <td>triangular matrix</td>\n",
       "      <td>512</td>\n",
       "      <td>(1024, 3)</td>\n",
       "      <td>5</td>\n",
       "      <td>10</td>\n",
       "      <td>0.0246</td>\n",
       "      <td>0.00776</td>\n",
       "    </tr>\n",
       "    <tr>\n",
       "      <th>1487</th>\n",
       "      <td>triangular matrix</td>\n",
       "      <td>512</td>\n",
       "      <td>(1024, 3)</td>\n",
       "      <td>5</td>\n",
       "      <td>20</td>\n",
       "      <td>0.028049</td>\n",
       "      <td>0.01577</td>\n",
       "    </tr>\n",
       "  </tbody>\n",
       "</table>\n",
       "<p>1488 rows × 7 columns</p>\n",
       "</div>"
      ],
      "text/plain": [
       "                  model batch_size hidden_size alpha top_k       mcc        hr\n",
       "0     triangular matrix         16     (16, 3)     2     5  0.008778  0.001752\n",
       "1     triangular matrix         16     (16, 3)     2    10  0.016288  0.006008\n",
       "2     triangular matrix         16     (16, 3)     2    20  0.020803  0.009762\n",
       "3     triangular matrix         16     (16, 3)     3     5   0.01286  0.001752\n",
       "4     triangular matrix         16     (16, 3)     3    10  0.023863  0.006008\n",
       "...                 ...        ...         ...   ...   ...       ...       ...\n",
       "1483  triangular matrix        512   (1024, 3)     4    10  0.029659  0.003755\n",
       "1484  triangular matrix        512   (1024, 3)     4    20  0.033368  0.009262\n",
       "1485  triangular matrix        512   (1024, 3)     5     5  0.004815  0.001502\n",
       "1486  triangular matrix        512   (1024, 3)     5    10    0.0246   0.00776\n",
       "1487  triangular matrix        512   (1024, 3)     5    20  0.028049   0.01577\n",
       "\n",
       "[1488 rows x 7 columns]"
      ]
     },
     "execution_count": 95,
     "metadata": {},
     "output_type": "execute_result"
    }
   ],
   "source": [
    "res[res['model']=='triangular matrix']"
   ]
  },
  {
   "cell_type": "code",
   "execution_count": 10,
   "id": "3234b1fa",
   "metadata": {
    "ExecuteTime": {
     "end_time": "2023-06-04T16:21:52.714360Z",
     "start_time": "2023-06-04T16:21:52.697345Z"
    }
   },
   "outputs": [],
   "source": [
    "# video\n",
    "best = res.groupby(['model', 'alpha'])['mcc'].max()"
   ]
  },
  {
   "cell_type": "code",
   "execution_count": 29,
   "id": "a2b19b78",
   "metadata": {
    "ExecuteTime": {
     "end_time": "2023-06-06T13:22:16.362572Z",
     "start_time": "2023-06-06T13:22:16.311122Z"
    }
   },
   "outputs": [],
   "source": [
    "best = res.groupby(['alpha'])['mcc'].max()"
   ]
  },
  {
   "cell_type": "code",
   "execution_count": 30,
   "id": "7e0341e6",
   "metadata": {
    "ExecuteTime": {
     "end_time": "2023-06-06T13:22:16.765903Z",
     "start_time": "2023-06-06T13:22:16.733087Z"
    }
   },
   "outputs": [
    {
     "data": {
      "text/plain": [
       "alpha\n",
       "2    0.017929\n",
       "3    0.031638\n",
       "4    0.038509\n",
       "5    0.031784\n",
       "6         NaN\n",
       "Name: mcc, dtype: float64"
      ]
     },
     "execution_count": 30,
     "metadata": {},
     "output_type": "execute_result"
    }
   ],
   "source": [
    "best"
   ]
  },
  {
   "cell_type": "code",
   "execution_count": 17,
   "id": "79808620",
   "metadata": {
    "ExecuteTime": {
     "end_time": "2023-06-04T16:22:05.194597Z",
     "start_time": "2023-06-04T16:22:05.187597Z"
    }
   },
   "outputs": [],
   "source": [
    "df1 = res[res['model']=='triangular matrix']"
   ]
  },
  {
   "cell_type": "code",
   "execution_count": 18,
   "id": "8324d945",
   "metadata": {
    "ExecuteTime": {
     "end_time": "2023-06-04T16:22:05.613821Z",
     "start_time": "2023-06-04T16:22:05.602798Z"
    }
   },
   "outputs": [],
   "source": [
    "best = df1.groupby('alpha')['mcc'].max()"
   ]
  },
  {
   "cell_type": "code",
   "execution_count": 31,
   "id": "bbce7b52",
   "metadata": {
    "ExecuteTime": {
     "end_time": "2023-06-06T13:22:20.683454Z",
     "start_time": "2023-06-06T13:22:20.631855Z"
    }
   },
   "outputs": [
    {
     "data": {
      "text/html": [
       "<div>\n",
       "<style scoped>\n",
       "    .dataframe tbody tr th:only-of-type {\n",
       "        vertical-align: middle;\n",
       "    }\n",
       "\n",
       "    .dataframe tbody tr th {\n",
       "        vertical-align: top;\n",
       "    }\n",
       "\n",
       "    .dataframe thead th {\n",
       "        text-align: right;\n",
       "    }\n",
       "</style>\n",
       "<table border=\"1\" class=\"dataframe\">\n",
       "  <thead>\n",
       "    <tr style=\"text-align: right;\">\n",
       "      <th></th>\n",
       "      <th>batch_size</th>\n",
       "      <th>hidden_size</th>\n",
       "      <th>alpha</th>\n",
       "      <th>top_k</th>\n",
       "      <th>mcc</th>\n",
       "      <th>hr</th>\n",
       "    </tr>\n",
       "  </thead>\n",
       "  <tbody>\n",
       "    <tr>\n",
       "      <th>1531</th>\n",
       "      <td>500</td>\n",
       "      <td>(128, 32, 0.003)</td>\n",
       "      <td>2</td>\n",
       "      <td>10</td>\n",
       "      <td>0.017929</td>\n",
       "      <td>0.0073</td>\n",
       "    </tr>\n",
       "  </tbody>\n",
       "</table>\n",
       "</div>"
      ],
      "text/plain": [
       "     batch_size       hidden_size alpha top_k       mcc      hr\n",
       "1531        500  (128, 32, 0.003)     2    10  0.017929  0.0073"
      ]
     },
     "execution_count": 31,
     "metadata": {},
     "output_type": "execute_result"
    }
   ],
   "source": [
    "res[res['mcc']==best.loc[2]]"
   ]
  },
  {
   "cell_type": "code",
   "execution_count": 15,
   "id": "886730bb",
   "metadata": {
    "ExecuteTime": {
     "end_time": "2023-06-05T15:49:07.887924Z",
     "start_time": "2023-06-05T15:49:07.849417Z"
    }
   },
   "outputs": [
    {
     "data": {
      "text/html": [
       "<div>\n",
       "<style scoped>\n",
       "    .dataframe tbody tr th:only-of-type {\n",
       "        vertical-align: middle;\n",
       "    }\n",
       "\n",
       "    .dataframe tbody tr th {\n",
       "        vertical-align: top;\n",
       "    }\n",
       "\n",
       "    .dataframe thead th {\n",
       "        text-align: right;\n",
       "    }\n",
       "</style>\n",
       "<table border=\"1\" class=\"dataframe\">\n",
       "  <thead>\n",
       "    <tr style=\"text-align: right;\">\n",
       "      <th></th>\n",
       "      <th>batch_size</th>\n",
       "      <th>hidden_size</th>\n",
       "      <th>alpha</th>\n",
       "      <th>top_k</th>\n",
       "      <th>mcc</th>\n",
       "      <th>hr</th>\n",
       "    </tr>\n",
       "  </thead>\n",
       "  <tbody>\n",
       "    <tr>\n",
       "      <th>645</th>\n",
       "      <td>64</td>\n",
       "      <td>(16, 4)</td>\n",
       "      <td>2</td>\n",
       "      <td>5</td>\n",
       "      <td>0.013697</td>\n",
       "      <td>0.004255</td>\n",
       "    </tr>\n",
       "    <tr>\n",
       "      <th>646</th>\n",
       "      <td>64</td>\n",
       "      <td>(16, 4)</td>\n",
       "      <td>2</td>\n",
       "      <td>10</td>\n",
       "      <td>0.020532</td>\n",
       "      <td>0.009512</td>\n",
       "    </tr>\n",
       "    <tr>\n",
       "      <th>647</th>\n",
       "      <td>64</td>\n",
       "      <td>(16, 4)</td>\n",
       "      <td>2</td>\n",
       "      <td>20</td>\n",
       "      <td>0.027364</td>\n",
       "      <td>0.016771</td>\n",
       "    </tr>\n",
       "    <tr>\n",
       "      <th>648</th>\n",
       "      <td>64</td>\n",
       "      <td>(16, 4)</td>\n",
       "      <td>3</td>\n",
       "      <td>5</td>\n",
       "      <td>0.020066</td>\n",
       "      <td>0.004255</td>\n",
       "    </tr>\n",
       "    <tr>\n",
       "      <th>649</th>\n",
       "      <td>64</td>\n",
       "      <td>(16, 4)</td>\n",
       "      <td>3</td>\n",
       "      <td>10</td>\n",
       "      <td>0.03008</td>\n",
       "      <td>0.009512</td>\n",
       "    </tr>\n",
       "    <tr>\n",
       "      <th>650</th>\n",
       "      <td>64</td>\n",
       "      <td>(16, 4)</td>\n",
       "      <td>3</td>\n",
       "      <td>20</td>\n",
       "      <td>0.040089</td>\n",
       "      <td>0.016771</td>\n",
       "    </tr>\n",
       "    <tr>\n",
       "      <th>651</th>\n",
       "      <td>64</td>\n",
       "      <td>(16, 4)</td>\n",
       "      <td>4</td>\n",
       "      <td>5</td>\n",
       "      <td>0.021765</td>\n",
       "      <td>0.004255</td>\n",
       "    </tr>\n",
       "    <tr>\n",
       "      <th>652</th>\n",
       "      <td>64</td>\n",
       "      <td>(16, 4)</td>\n",
       "      <td>4</td>\n",
       "      <td>10</td>\n",
       "      <td>0.034176</td>\n",
       "      <td>0.009512</td>\n",
       "    </tr>\n",
       "    <tr>\n",
       "      <th>653</th>\n",
       "      <td>64</td>\n",
       "      <td>(16, 4)</td>\n",
       "      <td>4</td>\n",
       "      <td>20</td>\n",
       "      <td>0.053144</td>\n",
       "      <td>0.016771</td>\n",
       "    </tr>\n",
       "    <tr>\n",
       "      <th>654</th>\n",
       "      <td>64</td>\n",
       "      <td>(16, 4)</td>\n",
       "      <td>5</td>\n",
       "      <td>5</td>\n",
       "      <td>0.013362</td>\n",
       "      <td>0.004255</td>\n",
       "    </tr>\n",
       "    <tr>\n",
       "      <th>655</th>\n",
       "      <td>64</td>\n",
       "      <td>(16, 4)</td>\n",
       "      <td>5</td>\n",
       "      <td>10</td>\n",
       "      <td>0.036794</td>\n",
       "      <td>0.009512</td>\n",
       "    </tr>\n",
       "    <tr>\n",
       "      <th>656</th>\n",
       "      <td>64</td>\n",
       "      <td>(16, 4)</td>\n",
       "      <td>5</td>\n",
       "      <td>20</td>\n",
       "      <td>0.041478</td>\n",
       "      <td>0.016771</td>\n",
       "    </tr>\n",
       "    <tr>\n",
       "      <th>657</th>\n",
       "      <td>64</td>\n",
       "      <td>(16, 4)</td>\n",
       "      <td>6</td>\n",
       "      <td>5</td>\n",
       "      <td>NaN</td>\n",
       "      <td>0.000751</td>\n",
       "    </tr>\n",
       "    <tr>\n",
       "      <th>658</th>\n",
       "      <td>64</td>\n",
       "      <td>(16, 4)</td>\n",
       "      <td>6</td>\n",
       "      <td>10</td>\n",
       "      <td>NaN</td>\n",
       "      <td>0.000751</td>\n",
       "    </tr>\n",
       "    <tr>\n",
       "      <th>659</th>\n",
       "      <td>64</td>\n",
       "      <td>(16, 4)</td>\n",
       "      <td>6</td>\n",
       "      <td>20</td>\n",
       "      <td>NaN</td>\n",
       "      <td>0.001252</td>\n",
       "    </tr>\n",
       "  </tbody>\n",
       "</table>\n",
       "</div>"
      ],
      "text/plain": [
       "    batch_size hidden_size alpha top_k       mcc        hr\n",
       "645         64     (16, 4)     2     5  0.013697  0.004255\n",
       "646         64     (16, 4)     2    10  0.020532  0.009512\n",
       "647         64     (16, 4)     2    20  0.027364  0.016771\n",
       "648         64     (16, 4)     3     5  0.020066  0.004255\n",
       "649         64     (16, 4)     3    10   0.03008  0.009512\n",
       "650         64     (16, 4)     3    20  0.040089  0.016771\n",
       "651         64     (16, 4)     4     5  0.021765  0.004255\n",
       "652         64     (16, 4)     4    10  0.034176  0.009512\n",
       "653         64     (16, 4)     4    20  0.053144  0.016771\n",
       "654         64     (16, 4)     5     5  0.013362  0.004255\n",
       "655         64     (16, 4)     5    10  0.036794  0.009512\n",
       "656         64     (16, 4)     5    20  0.041478  0.016771\n",
       "657         64     (16, 4)     6     5       NaN  0.000751\n",
       "658         64     (16, 4)     6    10       NaN  0.000751\n",
       "659         64     (16, 4)     6    20       NaN  0.001252"
      ]
     },
     "execution_count": 15,
     "metadata": {},
     "output_type": "execute_result"
    }
   ],
   "source": [
    "res[(res['batch_size']=='64')&(res['hidden_size']=='(16, 4)')]"
   ]
  },
  {
   "cell_type": "code",
   "execution_count": 91,
   "id": "2c553d0c",
   "metadata": {
    "ExecuteTime": {
     "end_time": "2023-06-04T09:35:29.568061Z",
     "start_time": "2023-06-04T09:35:29.550059Z"
    }
   },
   "outputs": [
    {
     "data": {
      "text/html": [
       "<div>\n",
       "<style scoped>\n",
       "    .dataframe tbody tr th:only-of-type {\n",
       "        vertical-align: middle;\n",
       "    }\n",
       "\n",
       "    .dataframe tbody tr th {\n",
       "        vertical-align: top;\n",
       "    }\n",
       "\n",
       "    .dataframe thead th {\n",
       "        text-align: right;\n",
       "    }\n",
       "</style>\n",
       "<table border=\"1\" class=\"dataframe\">\n",
       "  <thead>\n",
       "    <tr style=\"text-align: right;\">\n",
       "      <th></th>\n",
       "      <th>model</th>\n",
       "      <th>batch_size</th>\n",
       "      <th>hidden_size</th>\n",
       "      <th>alpha</th>\n",
       "      <th>top_k</th>\n",
       "      <th>mcc</th>\n",
       "      <th>hr</th>\n",
       "    </tr>\n",
       "  </thead>\n",
       "  <tbody>\n",
       "    <tr>\n",
       "      <th>4944</th>\n",
       "      <td>encoder and decoder layers different</td>\n",
       "      <td>32</td>\n",
       "      <td>(512, 3)</td>\n",
       "      <td>2</td>\n",
       "      <td>5</td>\n",
       "      <td>0.021462</td>\n",
       "      <td>0.018023</td>\n",
       "    </tr>\n",
       "    <tr>\n",
       "      <th>4945</th>\n",
       "      <td>encoder and decoder layers different</td>\n",
       "      <td>32</td>\n",
       "      <td>(512, 3)</td>\n",
       "      <td>2</td>\n",
       "      <td>10</td>\n",
       "      <td>0.018737</td>\n",
       "      <td>0.001502</td>\n",
       "    </tr>\n",
       "    <tr>\n",
       "      <th>4946</th>\n",
       "      <td>encoder and decoder layers different</td>\n",
       "      <td>32</td>\n",
       "      <td>(512, 3)</td>\n",
       "      <td>2</td>\n",
       "      <td>20</td>\n",
       "      <td>0.032502</td>\n",
       "      <td>0.004506</td>\n",
       "    </tr>\n",
       "    <tr>\n",
       "      <th>4947</th>\n",
       "      <td>encoder and decoder layers different</td>\n",
       "      <td>32</td>\n",
       "      <td>(512, 3)</td>\n",
       "      <td>3</td>\n",
       "      <td>5</td>\n",
       "      <td>0.045639</td>\n",
       "      <td>0.017772</td>\n",
       "    </tr>\n",
       "    <tr>\n",
       "      <th>4948</th>\n",
       "      <td>encoder and decoder layers different</td>\n",
       "      <td>32</td>\n",
       "      <td>(512, 3)</td>\n",
       "      <td>3</td>\n",
       "      <td>10</td>\n",
       "      <td>0.004815</td>\n",
       "      <td>0.001502</td>\n",
       "    </tr>\n",
       "    <tr>\n",
       "      <th>4949</th>\n",
       "      <td>encoder and decoder layers different</td>\n",
       "      <td>32</td>\n",
       "      <td>(512, 3)</td>\n",
       "      <td>3</td>\n",
       "      <td>20</td>\n",
       "      <td>0.031299</td>\n",
       "      <td>0.004506</td>\n",
       "    </tr>\n",
       "    <tr>\n",
       "      <th>4950</th>\n",
       "      <td>encoder and decoder layers different</td>\n",
       "      <td>32</td>\n",
       "      <td>(512, 3)</td>\n",
       "      <td>4</td>\n",
       "      <td>5</td>\n",
       "      <td>0.046424</td>\n",
       "      <td>0.017772</td>\n",
       "    </tr>\n",
       "    <tr>\n",
       "      <th>4951</th>\n",
       "      <td>encoder and decoder layers different</td>\n",
       "      <td>32</td>\n",
       "      <td>(512, 3)</td>\n",
       "      <td>4</td>\n",
       "      <td>10</td>\n",
       "      <td>0.015231</td>\n",
       "      <td>0.005257</td>\n",
       "    </tr>\n",
       "    <tr>\n",
       "      <th>4952</th>\n",
       "      <td>encoder and decoder layers different</td>\n",
       "      <td>32</td>\n",
       "      <td>(512, 3)</td>\n",
       "      <td>4</td>\n",
       "      <td>20</td>\n",
       "      <td>0.021855</td>\n",
       "      <td>0.010763</td>\n",
       "    </tr>\n",
       "    <tr>\n",
       "      <th>4953</th>\n",
       "      <td>encoder and decoder layers different</td>\n",
       "      <td>32</td>\n",
       "      <td>(512, 3)</td>\n",
       "      <td>5</td>\n",
       "      <td>5</td>\n",
       "      <td>0.003943</td>\n",
       "      <td>0.020526</td>\n",
       "    </tr>\n",
       "    <tr>\n",
       "      <th>4954</th>\n",
       "      <td>encoder and decoder layers different</td>\n",
       "      <td>32</td>\n",
       "      <td>(512, 3)</td>\n",
       "      <td>5</td>\n",
       "      <td>10</td>\n",
       "      <td>0.022314</td>\n",
       "      <td>0.005257</td>\n",
       "    </tr>\n",
       "    <tr>\n",
       "      <th>4955</th>\n",
       "      <td>encoder and decoder layers different</td>\n",
       "      <td>32</td>\n",
       "      <td>(512, 3)</td>\n",
       "      <td>5</td>\n",
       "      <td>20</td>\n",
       "      <td>0.032018</td>\n",
       "      <td>0.010763</td>\n",
       "    </tr>\n",
       "  </tbody>\n",
       "</table>\n",
       "</div>"
      ],
      "text/plain": [
       "                                     model batch_size hidden_size alpha top_k  \\\n",
       "4944  encoder and decoder layers different         32    (512, 3)     2     5   \n",
       "4945  encoder and decoder layers different         32    (512, 3)     2    10   \n",
       "4946  encoder and decoder layers different         32    (512, 3)     2    20   \n",
       "4947  encoder and decoder layers different         32    (512, 3)     3     5   \n",
       "4948  encoder and decoder layers different         32    (512, 3)     3    10   \n",
       "4949  encoder and decoder layers different         32    (512, 3)     3    20   \n",
       "4950  encoder and decoder layers different         32    (512, 3)     4     5   \n",
       "4951  encoder and decoder layers different         32    (512, 3)     4    10   \n",
       "4952  encoder and decoder layers different         32    (512, 3)     4    20   \n",
       "4953  encoder and decoder layers different         32    (512, 3)     5     5   \n",
       "4954  encoder and decoder layers different         32    (512, 3)     5    10   \n",
       "4955  encoder and decoder layers different         32    (512, 3)     5    20   \n",
       "\n",
       "           mcc        hr  \n",
       "4944  0.021462  0.018023  \n",
       "4945  0.018737  0.001502  \n",
       "4946  0.032502  0.004506  \n",
       "4947  0.045639  0.017772  \n",
       "4948  0.004815  0.001502  \n",
       "4949  0.031299  0.004506  \n",
       "4950  0.046424  0.017772  \n",
       "4951  0.015231  0.005257  \n",
       "4952  0.021855  0.010763  \n",
       "4953  0.003943  0.020526  \n",
       "4954  0.022314  0.005257  \n",
       "4955  0.032018  0.010763  "
      ]
     },
     "execution_count": 91,
     "metadata": {},
     "output_type": "execute_result"
    }
   ],
   "source": [
    "res[(res['model']=='encoder and decoder layers different')&(res['batch_size']==32)&(res['hidden_size']=='(512, 3)')]"
   ]
  },
  {
   "cell_type": "code",
   "execution_count": 32,
   "id": "b36dd76c",
   "metadata": {
    "ExecuteTime": {
     "end_time": "2023-06-06T13:22:23.267178Z",
     "start_time": "2023-06-06T13:22:23.224438Z"
    }
   },
   "outputs": [
    {
     "data": {
      "text/html": [
       "<div>\n",
       "<style scoped>\n",
       "    .dataframe tbody tr th:only-of-type {\n",
       "        vertical-align: middle;\n",
       "    }\n",
       "\n",
       "    .dataframe tbody tr th {\n",
       "        vertical-align: top;\n",
       "    }\n",
       "\n",
       "    .dataframe thead th {\n",
       "        text-align: right;\n",
       "    }\n",
       "</style>\n",
       "<table border=\"1\" class=\"dataframe\">\n",
       "  <thead>\n",
       "    <tr style=\"text-align: right;\">\n",
       "      <th></th>\n",
       "      <th>batch_size</th>\n",
       "      <th>hidden_size</th>\n",
       "      <th>alpha</th>\n",
       "      <th>top_k</th>\n",
       "      <th>mcc</th>\n",
       "      <th>hr</th>\n",
       "    </tr>\n",
       "  </thead>\n",
       "  <tbody>\n",
       "    <tr>\n",
       "      <th>455</th>\n",
       "      <td>500</td>\n",
       "      <td>(128, 16, 0.001)</td>\n",
       "      <td>3</td>\n",
       "      <td>20</td>\n",
       "      <td>0.031638</td>\n",
       "      <td>0.011399</td>\n",
       "    </tr>\n",
       "  </tbody>\n",
       "</table>\n",
       "</div>"
      ],
      "text/plain": [
       "    batch_size       hidden_size alpha top_k       mcc        hr\n",
       "455        500  (128, 16, 0.001)     3    20  0.031638  0.011399"
      ]
     },
     "execution_count": 32,
     "metadata": {},
     "output_type": "execute_result"
    }
   ],
   "source": [
    "res[res['mcc']==best.loc[3]]"
   ]
  },
  {
   "cell_type": "code",
   "execution_count": 33,
   "id": "d92049b2",
   "metadata": {
    "ExecuteTime": {
     "end_time": "2023-06-06T13:22:23.699980Z",
     "start_time": "2023-06-06T13:22:23.668040Z"
    }
   },
   "outputs": [
    {
     "data": {
      "text/html": [
       "<div>\n",
       "<style scoped>\n",
       "    .dataframe tbody tr th:only-of-type {\n",
       "        vertical-align: middle;\n",
       "    }\n",
       "\n",
       "    .dataframe tbody tr th {\n",
       "        vertical-align: top;\n",
       "    }\n",
       "\n",
       "    .dataframe thead th {\n",
       "        text-align: right;\n",
       "    }\n",
       "</style>\n",
       "<table border=\"1\" class=\"dataframe\">\n",
       "  <thead>\n",
       "    <tr style=\"text-align: right;\">\n",
       "      <th></th>\n",
       "      <th>batch_size</th>\n",
       "      <th>hidden_size</th>\n",
       "      <th>alpha</th>\n",
       "      <th>top_k</th>\n",
       "      <th>mcc</th>\n",
       "      <th>hr</th>\n",
       "    </tr>\n",
       "  </thead>\n",
       "  <tbody>\n",
       "    <tr>\n",
       "      <th>457</th>\n",
       "      <td>500</td>\n",
       "      <td>(128, 16, 0.001)</td>\n",
       "      <td>4</td>\n",
       "      <td>10</td>\n",
       "      <td>0.038509</td>\n",
       "      <td>0.006276</td>\n",
       "    </tr>\n",
       "  </tbody>\n",
       "</table>\n",
       "</div>"
      ],
      "text/plain": [
       "    batch_size       hidden_size alpha top_k       mcc        hr\n",
       "457        500  (128, 16, 0.001)     4    10  0.038509  0.006276"
      ]
     },
     "execution_count": 33,
     "metadata": {},
     "output_type": "execute_result"
    }
   ],
   "source": [
    "res[res['mcc']==best.loc[4]]"
   ]
  },
  {
   "cell_type": "code",
   "execution_count": 34,
   "id": "bb735665",
   "metadata": {
    "ExecuteTime": {
     "end_time": "2023-06-06T13:22:25.116146Z",
     "start_time": "2023-06-06T13:22:25.084437Z"
    }
   },
   "outputs": [
    {
     "data": {
      "text/html": [
       "<div>\n",
       "<style scoped>\n",
       "    .dataframe tbody tr th:only-of-type {\n",
       "        vertical-align: middle;\n",
       "    }\n",
       "\n",
       "    .dataframe tbody tr th {\n",
       "        vertical-align: top;\n",
       "    }\n",
       "\n",
       "    .dataframe thead th {\n",
       "        text-align: right;\n",
       "    }\n",
       "</style>\n",
       "<table border=\"1\" class=\"dataframe\">\n",
       "  <thead>\n",
       "    <tr style=\"text-align: right;\">\n",
       "      <th></th>\n",
       "      <th>batch_size</th>\n",
       "      <th>hidden_size</th>\n",
       "      <th>alpha</th>\n",
       "      <th>top_k</th>\n",
       "      <th>mcc</th>\n",
       "      <th>hr</th>\n",
       "    </tr>\n",
       "  </thead>\n",
       "  <tbody>\n",
       "    <tr>\n",
       "      <th>1434</th>\n",
       "      <td>500</td>\n",
       "      <td>(64, 32, 0.006)</td>\n",
       "      <td>5</td>\n",
       "      <td>5</td>\n",
       "      <td>0.031784</td>\n",
       "      <td>0.004483</td>\n",
       "    </tr>\n",
       "  </tbody>\n",
       "</table>\n",
       "</div>"
      ],
      "text/plain": [
       "     batch_size      hidden_size alpha top_k       mcc        hr\n",
       "1434        500  (64, 32, 0.006)     5     5  0.031784  0.004483"
      ]
     },
     "execution_count": 34,
     "metadata": {},
     "output_type": "execute_result"
    }
   ],
   "source": [
    "res[res['mcc']==best.loc[5]]"
   ]
  },
  {
   "cell_type": "code",
   "execution_count": 157,
   "id": "2df63a62",
   "metadata": {
    "ExecuteTime": {
     "end_time": "2023-06-06T08:44:09.733681Z",
     "start_time": "2023-06-06T08:44:09.720666Z"
    }
   },
   "outputs": [
    {
     "data": {
      "text/html": [
       "<div>\n",
       "<style scoped>\n",
       "    .dataframe tbody tr th:only-of-type {\n",
       "        vertical-align: middle;\n",
       "    }\n",
       "\n",
       "    .dataframe tbody tr th {\n",
       "        vertical-align: top;\n",
       "    }\n",
       "\n",
       "    .dataframe thead th {\n",
       "        text-align: right;\n",
       "    }\n",
       "</style>\n",
       "<table border=\"1\" class=\"dataframe\">\n",
       "  <thead>\n",
       "    <tr style=\"text-align: right;\">\n",
       "      <th></th>\n",
       "      <th>batch_size</th>\n",
       "      <th>hidden_size</th>\n",
       "      <th>alpha</th>\n",
       "      <th>top_k</th>\n",
       "      <th>mcc</th>\n",
       "      <th>hr</th>\n",
       "    </tr>\n",
       "  </thead>\n",
       "  <tbody>\n",
       "    <tr>\n",
       "      <th>2774</th>\n",
       "      <td>500</td>\n",
       "      <td>(256, 64, 0.004)</td>\n",
       "      <td>6</td>\n",
       "      <td>20</td>\n",
       "      <td>0.02825</td>\n",
       "      <td>0.01425</td>\n",
       "    </tr>\n",
       "  </tbody>\n",
       "</table>\n",
       "</div>"
      ],
      "text/plain": [
       "     batch_size       hidden_size alpha top_k      mcc       hr\n",
       "2774        500  (256, 64, 0.004)     6    20  0.02825  0.01425"
      ]
     },
     "execution_count": 157,
     "metadata": {},
     "output_type": "execute_result"
    }
   ],
   "source": [
    "res[res['mcc']==best.loc[6]]"
   ]
  },
  {
   "cell_type": "markdown",
   "id": "81ba8842",
   "metadata": {},
   "source": [
    "## AE tuning"
   ]
  },
  {
   "cell_type": "code",
   "execution_count": null,
   "id": "2a6845f6",
   "metadata": {},
   "outputs": [],
   "source": []
  },
  {
   "cell_type": "markdown",
   "id": "099d0e64",
   "metadata": {},
   "source": [
    "## AE results"
   ]
  },
  {
   "cell_type": "code",
   "execution_count": 40,
   "id": "104ebf22",
   "metadata": {
    "ExecuteTime": {
     "end_time": "2023-06-06T14:02:01.967635Z",
     "start_time": "2023-06-06T14:02:01.954364Z"
    }
   },
   "outputs": [],
   "source": [
    "with open('ml_recvae_res2.txt') as f:\n",
    "    lines = f.readlines()"
   ]
  },
  {
   "cell_type": "code",
   "execution_count": 41,
   "id": "f33fde37",
   "metadata": {
    "ExecuteTime": {
     "end_time": "2023-06-06T14:02:02.345169Z",
     "start_time": "2023-06-06T14:02:02.330169Z"
    }
   },
   "outputs": [
    {
     "data": {
      "text/plain": [
       "['failed to get console mode for stdout: The handle is invalid.\\n',\n",
       " 'Looking in indexes: https://artifactory.tcsbank.ru/artifactory/api/pypi/python-all/simple\\n',\n",
       " 'Collecting torch==1.13.1\\n',\n",
       " '  Downloading https://artifactory.tcsbank.ru/artifactory/api/pypi/python-all/packages/packages/torch/1.13.1/torch-1.13.1-cp38-cp38-manylinux1_x86_64.whl (887.4 MB)\\n',\n",
       " '     в”Ѓв”Ѓв”Ѓв”Ѓв”Ѓв”Ѓв”Ѓв”Ѓв”Ѓв”Ѓв”Ѓв”Ѓв”Ѓв”Ѓв”Ѓв”Ѓв”Ѓв”Ѓв”Ѓв”Ѓв”Ѓв”Ѓв”Ѓв”Ѓв”Ѓв”Ѓв”Ѓв”Ѓв”Ѓв”Ѓв”Ѓв”Ѓв”Ѓв”Ѓв”Ѓв”Ѓв”Ѓ 887.4/887.4 MB 170.0 MB/s eta 0:00:00\\n',\n",
       " 'Collecting scipy==1.10.1\\n',\n",
       " '  Downloading https://artifactory.tcsbank.ru/artifactory/api/pypi/python-all/packages/packages/scipy/1.10.1/scipy-1.10.1-cp38-cp38-manylinux_2_17_x86_64.manylinux2014_x86_64.whl (34.5 MB)\\n',\n",
       " '     в”Ѓв”Ѓв”Ѓв”Ѓв”Ѓв”Ѓв”Ѓв”Ѓв”Ѓв”Ѓв”Ѓв”Ѓв”Ѓв”Ѓв”Ѓв”Ѓв”Ѓв”Ѓв”Ѓв”Ѓв”Ѓв”Ѓв”Ѓв”Ѓв”Ѓв”Ѓв”Ѓв”Ѓв”Ѓв”Ѓв”Ѓв”Ѓв”Ѓв”Ѓв”Ѓв”Ѓв”Ѓв”Ѓв”Ѓ 34.5/34.5 MB 282.7 MB/s eta 0:00:00\\n',\n",
       " 'Collecting numpy==1.22.2\\n',\n",
       " '  Downloading https://artifactory.tcsbank.ru/artifactory/api/pypi/python-all/packages/packages/numpy/1.22.2/numpy-1.22.2-cp38-cp38-manylinux_2_17_x86_64.manylinux2014_x86_64.whl (16.8 MB)\\n',\n",
       " '     в”Ѓв”Ѓв”Ѓв”Ѓв”Ѓв”Ѓв”Ѓв”Ѓв”Ѓв”Ѓв”Ѓв”Ѓв”Ѓв”Ѓв”Ѓв”Ѓв”Ѓв”Ѓв”Ѓв”Ѓв”Ѓв”Ѓв”Ѓв”Ѓв”Ѓв”Ѓв”Ѓв”Ѓв”Ѓв”Ѓв”Ѓв”Ѓв”Ѓв”Ѓв”Ѓв”Ѓв”Ѓв”Ѓв”Ѓ 16.8/16.8 MB 303.7 MB/s eta 0:00:00\\n',\n",
       " 'Collecting scikit-learn==1.2.1\\n',\n",
       " '  Downloading https://artifactory.tcsbank.ru/artifactory/api/pypi/python-all/packages/packages/scikit-learn/1.2.1/scikit_learn-1.2.1-cp38-cp38-manylinux_2_17_x86_64.manylinux2014_x86_64.whl (9.8 MB)\\n',\n",
       " '     в”Ѓв”Ѓв”Ѓв”Ѓв”Ѓв”Ѓв”Ѓв”Ѓв”Ѓв”Ѓв”Ѓв”Ѓв”Ѓв”Ѓв”Ѓв”Ѓв”Ѓв”Ѓв”Ѓв”Ѓв”Ѓв”Ѓв”Ѓв”Ѓв”Ѓв”Ѓв”Ѓв”Ѓв”Ѓв”Ѓв”Ѓв”Ѓв”Ѓв”Ѓв”Ѓв”Ѓв”Ѓв”Ѓв”Ѓв”Ѓ 9.8/9.8 MB 97.3 MB/s eta 0:00:00\\n',\n",
       " 'Collecting tqdm==4.64.1\\n',\n",
       " '  Downloading https://artifactory.tcsbank.ru/artifactory/api/pypi/python-all/packages/packages/tqdm/4.64.1/tqdm-4.64.1-py2.py3-none-any.whl (78 kB)\\n',\n",
       " '     в”Ѓв”Ѓв”Ѓв”Ѓв”Ѓв”Ѓв”Ѓв”Ѓв”Ѓв”Ѓв”Ѓв”Ѓв”Ѓв”Ѓв”Ѓв”Ѓв”Ѓв”Ѓв”Ѓв”Ѓв”Ѓв”Ѓв”Ѓв”Ѓв”Ѓв”Ѓв”Ѓв”Ѓв”Ѓв”Ѓв”Ѓв”Ѓв”Ѓв”Ѓв”Ѓв”Ѓв”Ѓв”Ѓв”Ѓ 78.5/78.5 kB 215.9 MB/s eta 0:00:00\\n',\n",
       " 'Collecting pandas==1.5.3\\n',\n",
       " '  Downloading https://artifactory.tcsbank.ru/artifactory/api/pypi/python-all/packages/packages/pandas/1.5.3/pandas-1.5.3-cp38-cp38-manylinux_2_17_x86_64.manylinux2014_x86_64.whl (12.2 MB)\\n',\n",
       " '     в”Ѓв”Ѓв”Ѓв”Ѓв”Ѓв”Ѓв”Ѓв”Ѓв”Ѓв”Ѓв”Ѓв”Ѓв”Ѓв”Ѓв”Ѓв”Ѓв”Ѓв”Ѓв”Ѓв”Ѓв”Ѓв”Ѓв”Ѓв”Ѓв”Ѓв”Ѓв”Ѓв”Ѓв”Ѓв”Ѓв”Ѓв”Ѓв”Ѓв”Ѓв”Ѓв”Ѓв”Ѓв”Ѓв”Ѓ 12.2/12.2 MB 133.8 MB/s eta 0:00:00\\n',\n",
       " 'Collecting numba>=0.21.0\\n',\n",
       " '  Downloading https://artifactory.tcsbank.ru/artifactory/api/pypi/python-all/packages/packages/numba/0.57.0/numba-0.57.0-cp38-cp38-manylinux2014_x86_64.manylinux_2_17_x86_64.whl (3.6 MB)\\n',\n",
       " '     в”Ѓв”Ѓв”Ѓв”Ѓв”Ѓв”Ѓв”Ѓв”Ѓв”Ѓв”Ѓв”Ѓв”Ѓв”Ѓв”Ѓв”Ѓв”Ѓв”Ѓв”Ѓв”Ѓв”Ѓв”Ѓв”Ѓв”Ѓв”Ѓв”Ѓв”Ѓв”Ѓв”Ѓв”Ѓв”Ѓв”Ѓв”Ѓв”Ѓв”Ѓв”Ѓв”Ѓв”Ѓв”Ѓв”Ѓв”Ѓ 3.6/3.6 MB 84.9 MB/s eta 0:00:00\\n',\n",
       " 'Requirement already satisfied: requests>=2.7.0 in /usr/local/lib/python3.8/dist-packages (from -r /home/requirements.txt (line 8)) (2.28.1)\\n',\n",
       " 'Collecting ipython==8.0.0\\n',\n",
       " '  Downloading https://artifactory.tcsbank.ru/artifactory/api/pypi/python-all/packages/packages/ipython/8.0.0/ipython-8.0.0-py3-none-any.whl (747 kB)\\n',\n",
       " '     в”Ѓв”Ѓв”Ѓв”Ѓв”Ѓв”Ѓв”Ѓв”Ѓв”Ѓв”Ѓв”Ѓв”Ѓв”Ѓв”Ѓв”Ѓв”Ѓв”Ѓв”Ѓв”Ѓв”Ѓв”Ѓв”Ѓв”Ѓв”Ѓв”Ѓв”Ѓв”Ѓв”Ѓв”Ѓв”Ѓв”Ѓв”Ѓв”Ѓв”Ѓв”Ѓв”Ѓв”Ѓв”Ѓ 747.4/747.4 kB 60.9 MB/s eta 0:00:00\\n',\n",
       " 'Collecting nvidia-cudnn-cu11==8.5.0.96\\n',\n",
       " '  Downloading https://artifactory.tcsbank.ru/artifactory/api/pypi/python-all/packages/packages/nvidia-cudnn-cu11/8.5.0.96/nvidia_cudnn_cu11-8.5.0.96-2-py3-none-manylinux1_x86_64.whl (557.1 MB)\\n',\n",
       " '     в”Ѓв”Ѓв”Ѓв”Ѓв”Ѓв”Ѓв”Ѓв”Ѓв”Ѓв”Ѓв”Ѓв”Ѓв”Ѓв”Ѓв”Ѓв”Ѓв”Ѓв”Ѓв”Ѓв”Ѓв”Ѓв”Ѓв”Ѓв”Ѓв”Ѓв”Ѓв”Ѓв”Ѓв”Ѓв”Ѓв”Ѓв”Ѓв”Ѓв”Ѓв”Ѓв”Ѓв”Ѓ 557.1/557.1 MB 195.9 MB/s eta 0:00:00\\n',\n",
       " 'Requirement already satisfied: typing-extensions in /usr/local/lib/python3.8/dist-packages (from torch==1.13.1->-r /home/requirements.txt (line 1)) (4.4.0)\\n',\n",
       " 'Collecting nvidia-cuda-nvrtc-cu11==11.7.99\\n',\n",
       " '  Downloading https://artifactory.tcsbank.ru/artifactory/api/pypi/python-all/packages/packages/nvidia-cuda-nvrtc-cu11/11.7.99/nvidia_cuda_nvrtc_cu11-11.7.99-2-py3-none-manylinux1_x86_64.whl (21.0 MB)\\n',\n",
       " '     в”Ѓв”Ѓв”Ѓв”Ѓв”Ѓв”Ѓв”Ѓв”Ѓв”Ѓв”Ѓв”Ѓв”Ѓв”Ѓв”Ѓв”Ѓв”Ѓв”Ѓв”Ѓв”Ѓв”Ѓв”Ѓв”Ѓв”Ѓв”Ѓв”Ѓв”Ѓв”Ѓв”Ѓв”Ѓв”Ѓв”Ѓв”Ѓв”Ѓв”Ѓв”Ѓв”Ѓв”Ѓв”Ѓв”Ѓ 21.0/21.0 MB 160.2 MB/s eta 0:00:00\\n',\n",
       " 'Collecting nvidia-cuda-runtime-cu11==11.7.99\\n',\n",
       " '  Downloading https://artifactory.tcsbank.ru/artifactory/api/pypi/python-all/packages/packages/nvidia-cuda-runtime-cu11/11.7.99/nvidia_cuda_runtime_cu11-11.7.99-py3-none-manylinux1_x86_64.whl (849 kB)\\n',\n",
       " '     в”Ѓв”Ѓв”Ѓв”Ѓв”Ѓв”Ѓв”Ѓв”Ѓв”Ѓв”Ѓв”Ѓв”Ѓв”Ѓв”Ѓв”Ѓв”Ѓв”Ѓв”Ѓв”Ѓв”Ѓв”Ѓв”Ѓв”Ѓв”Ѓв”Ѓв”Ѓв”Ѓв”Ѓв”Ѓв”Ѓв”Ѓв”Ѓв”Ѓв”Ѓв”Ѓв”Ѓв”Ѓ 849.3/849.3 kB 251.1 MB/s eta 0:00:00\\n',\n",
       " 'Collecting nvidia-cublas-cu11==11.10.3.66\\n',\n",
       " '  Downloading https://artifactory.tcsbank.ru/artifactory/api/pypi/python-all/packages/packages/nvidia-cublas-cu11/11.10.3.66/nvidia_cublas_cu11-11.10.3.66-py3-none-manylinux1_x86_64.whl (317.1 MB)\\n',\n",
       " '     в”Ѓв”Ѓв”Ѓв”Ѓв”Ѓв”Ѓв”Ѓв”Ѓв”Ѓв”Ѓв”Ѓв”Ѓв”Ѓв”Ѓв”Ѓв”Ѓв”Ѓв”Ѓв”Ѓв”Ѓв”Ѓв”Ѓв”Ѓв”Ѓв”Ѓв”Ѓв”Ѓв”Ѓв”Ѓв”Ѓв”Ѓв”Ѓв”Ѓв”Ѓв”Ѓв”Ѓв”Ѓ 317.1/317.1 MB 292.9 MB/s eta 0:00:00\\n',\n",
       " 'Collecting threadpoolctl>=2.0.0\\n',\n",
       " '  Downloading https://artifactory.tcsbank.ru/artifactory/api/pypi/python-all/packages/packages/threadpoolctl/3.1.0/threadpoolctl-3.1.0-py3-none-any.whl (14 kB)\\n',\n",
       " 'Collecting joblib>=1.1.1\\n',\n",
       " '  Downloading https://artifactory.tcsbank.ru/artifactory/api/pypi/python-all/packages/packages/joblib/1.2.0/joblib-1.2.0-py3-none-any.whl (297 kB)\\n',\n",
       " '     в”Ѓв”Ѓв”Ѓв”Ѓв”Ѓв”Ѓв”Ѓв”Ѓв”Ѓв”Ѓв”Ѓв”Ѓв”Ѓв”Ѓв”Ѓв”Ѓв”Ѓв”Ѓв”Ѓв”Ѓв”Ѓв”Ѓв”Ѓв”Ѓв”Ѓв”Ѓв”Ѓв”Ѓв”Ѓв”Ѓв”Ѓв”Ѓв”Ѓв”Ѓв”Ѓв”Ѓв”Ѓв”Ѓ 298.0/298.0 kB 37.8 MB/s eta 0:00:00\\n',\n",
       " 'Collecting python-dateutil>=2.8.1\\n',\n",
       " '  Downloading https://artifactory.tcsbank.ru/artifactory/api/pypi/python-all/packages/packages/python-dateutil/2.8.2/python_dateutil-2.8.2-py2.py3-none-any.whl (247 kB)\\n',\n",
       " '     в”Ѓв”Ѓв”Ѓв”Ѓв”Ѓв”Ѓв”Ѓв”Ѓв”Ѓв”Ѓв”Ѓв”Ѓв”Ѓв”Ѓв”Ѓв”Ѓв”Ѓв”Ѓв”Ѓв”Ѓв”Ѓв”Ѓв”Ѓв”Ѓв”Ѓв”Ѓв”Ѓв”Ѓв”Ѓв”Ѓв”Ѓв”Ѓв”Ѓв”Ѓв”Ѓв”Ѓв”Ѓ 247.7/247.7 kB 273.1 MB/s eta 0:00:00\\n',\n",
       " 'Collecting pytz>=2020.1\\n',\n",
       " '  Downloading https://artifactory.tcsbank.ru/artifactory/api/pypi/python-all/packages/packages/pytz/2023.3/pytz-2023.3-py2.py3-none-any.whl (502 kB)\\n',\n",
       " '     в”Ѓв”Ѓв”Ѓв”Ѓв”Ѓв”Ѓв”Ѓв”Ѓв”Ѓв”Ѓв”Ѓв”Ѓв”Ѓв”Ѓв”Ѓв”Ѓв”Ѓв”Ѓв”Ѓв”Ѓв”Ѓв”Ѓв”Ѓв”Ѓв”Ѓв”Ѓв”Ѓв”Ѓв”Ѓв”Ѓв”Ѓв”Ѓв”Ѓв”Ѓв”Ѓв”Ѓв”Ѓ 502.3/502.3 kB 285.2 MB/s eta 0:00:00\\n',\n",
       " 'Collecting jedi>=0.16\\n',\n",
       " '  Downloading https://artifactory.tcsbank.ru/artifactory/api/pypi/python-all/packages/packages/jedi/0.18.2/jedi-0.18.2-py2.py3-none-any.whl (1.6 MB)\\n',\n",
       " '     в”Ѓв”Ѓв”Ѓв”Ѓв”Ѓв”Ѓв”Ѓв”Ѓв”Ѓв”Ѓв”Ѓв”Ѓв”Ѓв”Ѓв”Ѓв”Ѓв”Ѓв”Ѓв”Ѓв”Ѓв”Ѓв”Ѓв”Ѓв”Ѓв”Ѓв”Ѓв”Ѓв”Ѓв”Ѓв”Ѓв”Ѓв”Ѓв”Ѓв”Ѓв”Ѓв”Ѓв”Ѓв”Ѓв”Ѓв”Ѓ 1.6/1.6 MB 310.8 MB/s eta 0:00:00\\n',\n",
       " 'Collecting prompt-toolkit!=3.0.0,!=3.0.1,<3.1.0,>=2.0.0\\n',\n",
       " '  Downloading https://artifactory.tcsbank.ru/artifactory/api/pypi/python-all/packages/packages/prompt-toolkit/3.0.38/prompt_toolkit-3.0.38-py3-none-any.whl (385 kB)\\n',\n",
       " '     в”Ѓв”Ѓв”Ѓв”Ѓв”Ѓв”Ѓв”Ѓв”Ѓв”Ѓв”Ѓв”Ѓв”Ѓв”Ѓв”Ѓв”Ѓв”Ѓв”Ѓв”Ѓв”Ѓв”Ѓв”Ѓв”Ѓв”Ѓв”Ѓв”Ѓв”Ѓв”Ѓв”Ѓв”Ѓв”Ѓв”Ѓв”Ѓв”Ѓв”Ѓв”Ѓв”Ѓв”Ѓ 385.8/385.8 kB 144.7 MB/s eta 0:00:00\\n',\n",
       " 'Requirement already satisfied: pygments in /usr/local/lib/python3.8/dist-packages (from ipython==8.0.0->-r /home/requirements.txt (line 9)) (2.13.0)\\n',\n",
       " 'Requirement already satisfied: pexpect>4.3 in /usr/local/lib/python3.8/dist-packages (from ipython==8.0.0->-r /home/requirements.txt (line 9)) (4.8.0)\\n',\n",
       " 'Collecting black\\n',\n",
       " '  Downloading https://artifactory.tcsbank.ru/artifactory/api/pypi/python-all/packages/packages/black/23.3.0/black-23.3.0-cp38-cp38-manylinux_2_17_x86_64.manylinux2014_x86_64.whl (1.6 MB)\\n',\n",
       " '     в”Ѓв”Ѓв”Ѓв”Ѓв”Ѓв”Ѓв”Ѓв”Ѓв”Ѓв”Ѓв”Ѓв”Ѓв”Ѓв”Ѓв”Ѓв”Ѓв”Ѓв”Ѓв”Ѓв”Ѓв”Ѓв”Ѓв”Ѓв”Ѓв”Ѓв”Ѓв”Ѓв”Ѓв”Ѓв”Ѓв”Ѓв”Ѓв”Ѓв”Ѓв”Ѓв”Ѓв”Ѓв”Ѓв”Ѓв”Ѓ 1.6/1.6 MB 118.2 MB/s eta 0:00:00\\n',\n",
       " 'Collecting decorator\\n',\n",
       " '  Downloading https://artifactory.tcsbank.ru/artifactory/api/pypi/python-all/packages/packages/decorator/5.1.1/decorator-5.1.1-py3-none-any.whl (9.1 kB)\\n',\n",
       " 'Collecting backcall\\n',\n",
       " '  Downloading https://artifactory.tcsbank.ru/artifactory/api/pypi/python-all/packages/packages/backcall/0.2.0/backcall-0.2.0-py2.py3-none-any.whl (11 kB)\\n',\n",
       " 'Collecting traitlets>=5\\n',\n",
       " '  Downloading https://artifactory.tcsbank.ru/artifactory/api/pypi/python-all/packages/packages/traitlets/5.9.0/traitlets-5.9.0-py3-none-any.whl (117 kB)\\n',\n",
       " '     в”Ѓв”Ѓв”Ѓв”Ѓв”Ѓв”Ѓв”Ѓв”Ѓв”Ѓв”Ѓв”Ѓв”Ѓв”Ѓв”Ѓв”Ѓв”Ѓв”Ѓв”Ѓв”Ѓв”Ѓв”Ѓв”Ѓв”Ѓв”Ѓв”Ѓв”Ѓв”Ѓв”Ѓв”Ѓв”Ѓв”Ѓв”Ѓв”Ѓв”Ѓв”Ѓв”Ѓв”Ѓ 117.4/117.4 kB 272.0 MB/s eta 0:00:00\\n',\n",
       " 'Collecting stack-data\\n',\n",
       " '  Downloading https://artifactory.tcsbank.ru/artifactory/api/pypi/python-all/packages/packages/stack-data/0.6.2/stack_data-0.6.2-py3-none-any.whl (24 kB)\\n',\n",
       " 'Collecting pickleshare\\n',\n",
       " '  Downloading https://artifactory.tcsbank.ru/artifactory/api/pypi/python-all/packages/packages/pickleshare/0.7.5/pickleshare-0.7.5-py2.py3-none-any.whl (6.9 kB)\\n',\n",
       " 'Requirement already satisfied: setuptools>=18.5 in /usr/local/lib/python3.8/dist-packages (from ipython==8.0.0->-r /home/requirements.txt (line 9)) (65.5.0)\\n',\n",
       " 'Collecting matplotlib-inline\\n',\n",
       " '  Downloading https://artifactory.tcsbank.ru/artifactory/api/pypi/python-all/packages/packages/matplotlib-inline/0.1.6/matplotlib_inline-0.1.6-py3-none-any.whl (9.4 kB)\\n',\n",
       " 'Requirement already satisfied: wheel in /usr/local/lib/python3.8/dist-packages (from nvidia-cublas-cu11==11.10.3.66->torch==1.13.1->-r /home/requirements.txt (line 1)) (0.38.0)\\n',\n",
       " 'Requirement already satisfied: importlib-metadata in /usr/local/lib/python3.8/dist-packages (from numba>=0.21.0->-r /home/requirements.txt (line 7)) (4.13.0)\\n',\n",
       " 'Collecting llvmlite<0.41,>=0.40.0dev0\\n',\n",
       " '  Downloading https://artifactory.tcsbank.ru/artifactory/api/pypi/python-all/packages/packages/llvmlite/0.40.0/llvmlite-0.40.0-cp38-cp38-manylinux_2_17_x86_64.manylinux2014_x86_64.whl (42.1 MB)\\n',\n",
       " '     в”Ѓв”Ѓв”Ѓв”Ѓв”Ѓв”Ѓв”Ѓв”Ѓв”Ѓв”Ѓв”Ѓв”Ѓв”Ѓв”Ѓв”Ѓв”Ѓв”Ѓв”Ѓв”Ѓв”Ѓв”Ѓв”Ѓв”Ѓв”Ѓв”Ѓв”Ѓв”Ѓв”Ѓв”Ѓв”Ѓв”Ѓв”Ѓв”Ѓв”Ѓв”Ѓв”Ѓв”Ѓв”Ѓв”Ѓ 42.1/42.1 MB 294.3 MB/s eta 0:00:00\\n',\n",
       " 'Requirement already satisfied: idna<4,>=2.5 in /usr/lib/python3/dist-packages (from requests>=2.7.0->-r /home/requirements.txt (line 8)) (2.8)\\n',\n",
       " 'Requirement already satisfied: urllib3<1.27,>=1.21.1 in /usr/local/lib/python3.8/dist-packages (from requests>=2.7.0->-r /home/requirements.txt (line 8)) (1.26.12)\\n',\n",
       " 'Requirement already satisfied: certifi>=2017.4.17 in /usr/lib/python3/dist-packages (from requests>=2.7.0->-r /home/requirements.txt (line 8)) (2019.11.28)\\n',\n",
       " 'Requirement already satisfied: charset-normalizer<3,>=2 in /usr/local/lib/python3.8/dist-packages (from requests>=2.7.0->-r /home/requirements.txt (line 8)) (2.1.1)\\n',\n",
       " 'Collecting parso<0.9.0,>=0.8.0\\n',\n",
       " '  Downloading https://artifactory.tcsbank.ru/artifactory/api/pypi/python-all/packages/packages/parso/0.8.3/parso-0.8.3-py2.py3-none-any.whl (100 kB)\\n',\n",
       " '     в”Ѓв”Ѓв”Ѓв”Ѓв”Ѓв”Ѓв”Ѓв”Ѓв”Ѓв”Ѓв”Ѓв”Ѓв”Ѓв”Ѓв”Ѓв”Ѓв”Ѓв”Ѓв”Ѓв”Ѓв”Ѓв”Ѓв”Ѓв”Ѓв”Ѓв”Ѓв”Ѓв”Ѓв”Ѓв”Ѓв”Ѓв”Ѓв”Ѓв”Ѓв”Ѓв”Ѓв”Ѓ 100.8/100.8 kB 262.4 MB/s eta 0:00:00\\n',\n",
       " 'Requirement already satisfied: ptyprocess>=0.5 in /usr/local/lib/python3.8/dist-packages (from pexpect>4.3->ipython==8.0.0->-r /home/requirements.txt (line 9)) (0.7.0)\\n',\n",
       " 'Collecting wcwidth\\n',\n",
       " '  Downloading https://artifactory.tcsbank.ru/artifactory/api/pypi/python-all/packages/packages/wcwidth/0.2.6/wcwidth-0.2.6-py2.py3-none-any.whl (29 kB)\\n',\n",
       " 'Requirement already satisfied: six>=1.5 in /usr/lib/python3/dist-packages (from python-dateutil>=2.8.1->pandas==1.5.3->-r /home/requirements.txt (line 6)) (1.14.0)\\n',\n",
       " 'Collecting tomli>=1.1.0\\n',\n",
       " '  Downloading https://artifactory.tcsbank.ru/artifactory/api/pypi/python-all/packages/packages/tomli/2.0.1/tomli-2.0.1-py3-none-any.whl (12 kB)\\n',\n",
       " 'Requirement already satisfied: platformdirs>=2 in /usr/local/lib/python3.8/dist-packages (from black->ipython==8.0.0->-r /home/requirements.txt (line 9)) (2.5.2)\\n',\n",
       " 'Collecting pathspec>=0.9.0\\n',\n",
       " '  Downloading https://artifactory.tcsbank.ru/artifactory/api/pypi/python-all/packages/packages/pathspec/0.11.1/pathspec-0.11.1-py3-none-any.whl (29 kB)\\n',\n",
       " 'Collecting click>=8.0.0\\n',\n",
       " '  Downloading https://artifactory.tcsbank.ru/artifactory/api/pypi/python-all/packages/packages/click/8.1.3/click-8.1.3-py3-none-any.whl (96 kB)\\n',\n",
       " '     в”Ѓв”Ѓв”Ѓв”Ѓв”Ѓв”Ѓв”Ѓв”Ѓв”Ѓв”Ѓв”Ѓв”Ѓв”Ѓв”Ѓв”Ѓв”Ѓв”Ѓв”Ѓв”Ѓв”Ѓв”Ѓв”Ѓв”Ѓв”Ѓв”Ѓв”Ѓв”Ѓв”Ѓв”Ѓв”Ѓв”Ѓв”Ѓв”Ѓв”Ѓв”Ѓв”Ѓв”Ѓв”Ѓв”Ѓ 96.6/96.6 kB 256.1 MB/s eta 0:00:00\\n',\n",
       " 'Collecting packaging>=22.0\\n',\n",
       " '  Downloading https://artifactory.tcsbank.ru/artifactory/api/pypi/python-all/packages/packages/packaging/23.1/packaging-23.1-py3-none-any.whl (48 kB)\\n',\n",
       " '     в”Ѓв”Ѓв”Ѓв”Ѓв”Ѓв”Ѓв”Ѓв”Ѓв”Ѓв”Ѓв”Ѓв”Ѓв”Ѓв”Ѓв”Ѓв”Ѓв”Ѓв”Ѓв”Ѓв”Ѓв”Ѓв”Ѓв”Ѓв”Ѓв”Ѓв”Ѓв”Ѓв”Ѓв”Ѓв”Ѓв”Ѓв”Ѓв”Ѓв”Ѓв”Ѓв”Ѓв”Ѓв”Ѓв”Ѓ 48.9/48.9 kB 209.3 MB/s eta 0:00:00\\n',\n",
       " 'Collecting mypy-extensions>=0.4.3\\n',\n",
       " '  Downloading https://artifactory.tcsbank.ru/artifactory/api/pypi/python-all/packages/packages/mypy-extensions/1.0.0/mypy_extensions-1.0.0-py3-none-any.whl (4.7 kB)\\n',\n",
       " 'Requirement already satisfied: zipp>=0.5 in /usr/local/lib/python3.8/dist-packages (from importlib-metadata->numba>=0.21.0->-r /home/requirements.txt (line 7)) (3.10.0)\\n',\n",
       " 'Collecting pure-eval\\n',\n",
       " '  Downloading https://artifactory.tcsbank.ru/artifactory/api/pypi/python-all/packages/packages/pure-eval/0.2.2/pure_eval-0.2.2-py3-none-any.whl (11 kB)\\n',\n",
       " 'Collecting executing>=1.2.0\\n',\n",
       " '  Downloading https://artifactory.tcsbank.ru/artifactory/api/pypi/python-all/packages/packages/executing/1.2.0/executing-1.2.0-py2.py3-none-any.whl (24 kB)\\n',\n",
       " 'Collecting asttokens>=2.1.0\\n',\n",
       " '  Downloading https://artifactory.tcsbank.ru/artifactory/api/pypi/python-all/packages/packages/asttokens/2.2.1/asttokens-2.2.1-py2.py3-none-any.whl (26 kB)\\n',\n",
       " 'Installing collected packages: wcwidth, pytz, pure-eval, pickleshare, executing, backcall, traitlets, tqdm, tomli, threadpoolctl, python-dateutil, prompt-toolkit, pathspec, parso, packaging, nvidia-cuda-nvrtc-cu11, numpy, mypy-extensions, llvmlite, joblib, decorator, click, asttokens, stack-data, scipy, pandas, nvidia-cuda-runtime-cu11, nvidia-cublas-cu11, numba, matplotlib-inline, jedi, black, scikit-learn, nvidia-cudnn-cu11, ipython, torch\\n',\n",
       " '  Attempting uninstall: packaging\\n',\n",
       " '    Found existing installation: packaging 21.3\\n',\n",
       " '    Uninstalling packaging-21.3:\\n',\n",
       " '      Successfully uninstalled packaging-21.3\\n',\n",
       " 'Successfully installed asttokens-2.2.1 backcall-0.2.0 black-23.3.0 click-8.1.3 decorator-5.1.1 executing-1.2.0 ipython-8.0.0 jedi-0.18.2 joblib-1.2.0 llvmlite-0.40.0 matplotlib-inline-0.1.6 mypy-extensions-1.0.0 numba-0.57.0 numpy-1.22.2 nvidia-cublas-cu11-11.10.3.66 nvidia-cuda-nvrtc-cu11-11.7.99 nvidia-cuda-runtime-cu11-11.7.99 nvidia-cudnn-cu11-8.5.0.96 packaging-23.1 pandas-1.5.3 parso-0.8.3 pathspec-0.11.1 pickleshare-0.7.5 prompt-toolkit-3.0.38 pure-eval-0.2.2 python-dateutil-2.8.2 pytz-2023.3 scikit-learn-1.2.1 scipy-1.10.1 stack-data-0.6.2 threadpoolctl-3.1.0 tomli-2.0.1 torch-1.13.1 tqdm-4.64.1 traitlets-5.9.0 wcwidth-0.2.6\\n',\n",
       " 'Looking in indexes: https://artifactory.tcsbank.ru/artifactory/api/pypi/python-all/simple\\n',\n",
       " 'Collecting polara\\n',\n",
       " '  Cloning https://github.com/evfro/polara.git (to revision develop) to /tmp/pip-install-jatofw55/polara_9a64a61ade7e49789de31dd0902d9301\\n',\n",
       " '  Resolved https://github.com/evfro/polara.git to commit 8e48cfd88e616ca53f8bbda1702a3e2c8abaf38e\\n',\n",
       " '  Preparing metadata (setup.py): started\\n',\n",
       " \"  Preparing metadata (setup.py): finished with status 'done'\\n\",\n",
       " 'Building wheels for collected packages: polara\\n',\n",
       " '  Building wheel for polara (setup.py): started\\n',\n",
       " \"  Building wheel for polara (setup.py): finished with status 'done'\\n\",\n",
       " '  Created wheel for polara: filename=polara-0.7.2.dev0-py3-none-any.whl size=89447 sha256=36ab73241613537fd65109006d4f974f9b0dd8827e37f3e86e5a898dd5c34968\\n',\n",
       " '  Stored in directory: /tmp/pip-ephem-wheel-cache-ey0e14bq/wheels/5e/e1/4c/eaa6d1a342974af58b0efac692b6846b8c034f8904e428626b\\n',\n",
       " 'Successfully built polara\\n',\n",
       " 'Installing collected packages: polara\\n',\n",
       " 'Successfully installed polara-0.7.2.dev0\\n',\n",
       " 'There are 6040 users\\n',\n",
       " 'Filtered 93 invalid observations.\\n',\n",
       " 'device: cuda:0\\n',\n",
       " 'Alpha: 2\\n',\n",
       " 'Hidden sizes: (1024, 256, 0.003)\\n',\n",
       " 'Current epoch 51\\n',\n",
       " 'Results for alpha=2\\n',\n",
       " 'HR@5:0.0011507479861910242, MRR@5: 0.00047947832757959337, Coverage@5: 0.0014692918013517484, NCDG@5: 0.0006507075682229329, HR_pos@5: 0.0011507479861910242, HR_neg@5: 0.0, MRR_pos@5: 0.00047947832757959337, MRR_neg@5: 0.0, NCDG_pos@5: 0.0006507075682229329, NDCG_neg@5: 0.0, Matthews@5: 0.008606799670775557\\n',\n",
       " 'HR@10:0.0011507479861910242, MRR@10: 0.00016781741465285766, Coverage@10: 0.0029385836027034967, NCDG@10: 0.00038646263745325144, HR_pos@10: 0.0011507479861910242, HR_neg@10: 0.0, MRR_pos@10: 0.00016781741465285766, MRR_neg@10: 0.0, NCDG_pos@10: 0.00038646263745325144, NDCG_neg@10: 0.0, Matthews@10: 0.008606799670775557\\n',\n",
       " 'HR@20:0.0034522439585730723, MRR@20: 0.0005217481275109523, Coverage@20: 0.0058771672054069935, NCDG@20: 0.001128589304921208, HR_pos@20: 0.0034522439585730723, HR_neg@20: 0.0, MRR_pos@20: 0.0005217481275109523, MRR_neg@20: 0.0, NCDG_pos@20: 0.001128589304921208, NDCG_neg@20: 0.0, Matthews@20: 0.014924618497247261\\n',\n",
       " 'Results for alpha=3\\n',\n",
       " 'HR@5:0.0011507479861910242, MRR@5: 0.00047947832757959337, Coverage@5: 0.0014692918013517484, NCDG@5: 0.0006507075682229329, HR_pos@5: 0.0011507479861910242, HR_neg@5: 0.0, MRR_pos@5: 0.00047947832757959337, MRR_neg@5: 0.0, NCDG_pos@5: 0.0006507075682229329, NDCG_neg@5: 0.0, Matthews@5: 0.01587660615961333\\n',\n",
       " 'HR@10:0.0011507479861910242, MRR@10: 0.00016781741465285766, Coverage@10: 0.0029385836027034967, NCDG@10: 0.00038646263745325144, HR_pos@10: 0.0011507479861910242, HR_neg@10: 0.0, MRR_pos@10: 0.00016781741465285766, MRR_neg@10: 0.0, NCDG_pos@10: 0.00038646263745325144, NDCG_neg@10: 0.0, Matthews@10: 0.01587660615961333\\n',\n",
       " 'HR@20:0.0034522439585730727, MRR@20: 0.0005217481275109523, Coverage@20: 0.0058771672054069935, NCDG@20: 0.001128589304921208, HR_pos@20: 0.0028768699654775605, HR_neg@20: 0.0005753739930955121, MRR_pos@20: 0.0004914652857690833, MRR_neg@20: 3.0282841741869056e-05, NCDG_pos@20: 0.0009954602985001728, NDCG_neg@20: 0.00013312900642103518, Matthews@20: 0.0019706893499355136\\n',\n",
       " 'Results for alpha=4\\n',\n",
       " 'HR@5:0.0011507479861910242, MRR@5: 0.00047947832757959337, Coverage@5: 0.0014692918013517484, NCDG@5: 0.0006507075682229329, HR_pos@5: 0.0011507479861910242, HR_neg@5: 0.0, MRR_pos@5: 0.00047947832757959337, MRR_neg@5: 0.0, NCDG_pos@5: 0.0006507075682229329, NDCG_neg@5: 0.0, Matthews@5: 0.029572789829824957\\n',\n",
       " 'HR@10:0.0011507479861910242, MRR@10: 0.00016781741465285766, Coverage@10: 0.0029385836027034967, NCDG@10: 0.00038646263745325144, HR_pos@10: 0.0011507479861910242, HR_neg@10: 0.0, MRR_pos@10: 0.00016781741465285766, MRR_neg@10: 0.0, NCDG_pos@10: 0.00038646263745325144, NDCG_neg@10: 0.0, Matthews@10: 0.029572789829824957\\n',\n",
       " 'HR@20:0.0034522439585730723, MRR@20: 0.0005217481275109523, Coverage@20: 0.0058771672054069935, NCDG@20: 0.001128589304921208, HR_pos@20: 0.0023014959723820483, HR_neg@20: 0.0011507479861910242, MRR_pos@20: 0.0002037782892213272, MRR_neg@20: 0.0003179698382896251, NCDG_pos@20: 0.0006324397268249957, NDCG_neg@20: 0.0004961495780962122, Matthews@20: 0.011669205381380153\\n',\n",
       " 'Results for alpha=5\\n',\n",
       " 'HR@5:0.008630609896432682, MRR@5: 0.0050728807057920985, Coverage@5: 0.011460476050543638, NCDG@5: 0.0059422294567503895, HR_pos@5: 0.0028768699654775605, HR_neg@5: 0.005753739930955121, MRR_pos@5: 0.0013617184503260454, MRR_neg@5: 0.003711162255466053, NCDG_pos@5: 0.0017363536023049478, NDCG_neg@5: 0.004205875854445443, Matthews@5: 0.0234650008726223\\n',\n",
       " 'HR@10:0.01726121979286536, MRR@10: 0.006271348201727947, Coverage@10: 0.01851307669703203, NCDG@10: 0.008779107514078196, HR_pos@10: 0.005178365937859608, HR_neg@10: 0.012082853855005753, MRR_pos@10: 0.0016829689298043728, MRR_neg@10: 0.004588379271923577, NCDG_pos@10: 0.002494088974755846, NDCG_neg@10: 0.0062850185393223505, Matthews@10: 0.02279766563855181\\n',\n",
       " 'HR@20:0.02761795166858458, MRR@20: 0.0070329810242951915, Coverage@20: 0.030855127828386716, NCDG@20: 0.01145009897666504, HR_pos@20: 0.009781357882623706, HR_neg@20: 0.017836593785960874, MRR_pos@20: 0.00206909028830778, MRR_neg@20: 0.004963890735987412, NCDG_pos@20: 0.00374043584476871, NDCG_neg@20: 0.007709663131896331, Matthews@20: 0.05075401133823563\\n',\n",
       " 'Test loss: nan\\n',\n",
       " 'Train loss: nan\\n',\n",
       " '\\n',\n",
       " '\\n',\n",
       " 'Alpha: 3\\n',\n",
       " 'Hidden sizes: (512, 256, 0.009)\\n',\n",
       " 'Current epoch 62\\n',\n",
       " 'Results for alpha=2\\n',\n",
       " 'HR@5:0.0189873417721519, MRR@5: 0.008822401227464518, Coverage@5: 0.03996473699676756, NCDG@5: 0.01133740408345106, HR_pos@5: 0.018411967779056387, HR_neg@5: 0.0005753739930955121, MRR_pos@5: 0.008534714230916762, MRR_neg@5: 0.00028768699654775604, NCDG_pos@5: 0.010974383511775883, NDCG_neg@5: 0.00036302057167517695, Matthews@5: 0.017582694652939136\\n',\n",
       " 'HR@10:0.04027617951668585, MRR@10: 0.011576890057902718, Coverage@10: 0.06229797237731413, NCDG@10: 0.01813515997791696, HR_pos@10: 0.039700805523590336, HR_neg@10: 0.0005753739930955121, MRR_pos@10: 0.01128920306135496, MRR_neg@10: 0.00028768699654775604, NCDG_pos@10: 0.017772139406241783, NDCG_neg@10: 0.00036302057167517695, Matthews@10: 0.039662755000835076\\n',\n",
       " 'HR@20:0.06962025316455696, MRR@20: 0.013619848476067325, Coverage@20: 0.09903026741110785, NCDG@20: 0.02556063271186734, HR_pos@20: 0.06846950517836593, HR_neg@20: 0.0011507479861910242, MRR_pos@20: 0.013303392779864793, MRR_neg@20: 0.00031645569620253165, NCDG_pos@20: 0.025066616600090345, NDCG_neg@20: 0.0004940161117769911, Matthews@20: 0.050387082070349476\\n',\n",
       " 'Results for alpha=3\\n',\n",
       " 'HR@5:0.017836593785960874, MRR@5: 0.00913885692366705, Coverage@5: 0.04642962092271525, NCDG@5: 0.01130537309486359, HR_pos@5: 0.01668584579976985, HR_neg@5: 0.0011507479861910242, MRR_pos@5: 0.0083716915995397, MRR_neg@5: 0.0007671653241273494, NCDG_pos@5: 0.01044231210522032, NDCG_neg@5: 0.0008630609896432681, Matthews@5: 0.04038096951938974\\n',\n",
       " 'HR@10:0.03624856156501726, MRR@10: 0.011577803349955248, Coverage@10: 0.07581545694975023, NCDG@10: 0.017240539393562737, HR_pos@10: 0.03394706559263521, HR_neg@10: 0.0023014959723820483, MRR_pos@10: 0.010695563227208797, MRR_neg@10: 0.000882240122746452, NCDG_pos@10: 0.0160448376371555, NDCG_neg@10: 0.0011957017564072359, Matthews@10: 0.0586307898555307\\n',\n",
       " 'HR@20:0.06674338319907941, MRR@20: 0.0136213350398546, Coverage@20: 0.11342932706435498, NCDG@20: 0.02486255185737706, HR_pos@20: 0.061565017261219795, HR_neg@20: 0.005178365937859608, MRR_pos@20: 0.012528730387123366, MRR_neg@20: 0.001092604652731235, NCDG_pos@20: 0.02292493164228031, NDCG_neg@20: 0.001937620215096747, Matthews@20: 0.07102648897543598\\n',\n",
       " 'Results for alpha=4\\n',\n",
       " 'HR@5:0.007479861910241656, MRR@5: 0.005005753739930955, Coverage@5: 0.023802527181898327, NCDG@5: 0.005608864167653239, HR_pos@5: 0.006904487917146145, HR_neg@5: 0.0005753739930955121, MRR_pos@5: 0.004430379746835443, MRR_neg@5: 0.0005753739930955121, NCDG_pos@5: 0.005033490174557727, NDCG_neg@5: 0.0005753739930955121, Matthews@5: 0.062153503009977\\n',\n",
       " 'HR@10:0.018987341772151896, MRR@10: 0.006455148227300127, Coverage@10: 0.03555686159271231, NCDG@10: 0.009242807896938111, HR_pos@10: 0.01668584579976985, HR_neg@10: 0.0023014959723820483, MRR_pos@10: 0.005668803770069592, MRR_neg@10: 0.0007863444572305333, NCDG_pos@10: 0.00812984078546297, NDCG_neg@10: 0.0011129671114751426, Matthews@10: 0.0871651610350984\\n',\n",
       " 'HR@20:0.04200230149597239, MRR@20: 0.00795971939371883, Coverage@20: 0.054363796650014694, NCDG@20: 0.014942623817297544, HR_pos@20: 0.03279631760644419, HR_neg@20: 0.009205983889528193, MRR_pos@20: 0.00674667762892369, MRR_neg@20: 0.0012130417647951417, NCDG_pos@20: 0.012150805457776028, NDCG_neg@20: 0.002791818359521517, Matthews@20: 0.08977433128718199\\n',\n",
       " 'Results for alpha=5\\n',\n",
       " 'HR@5:0.008630609896432682, MRR@5: 0.00514000767165324, Coverage@5: 0.024977960622979724, NCDG@5: 0.005974260445337859, HR_pos@5: 0.004027617951668585, HR_neg@5: 0.004602991944764097, MRR_pos@5: 0.0022919064058304567, MRR_neg@5: 0.002848101265822785, NCDG_pos@5: 0.0027067791556631047, NDCG_neg@5: 0.0032674812896747534, Matthews@5: 0.05312476197561688\\n',\n",
       " 'HR@10:0.01611047180667434, MRR@10: 0.006119285074981277, Coverage@10: 0.03614457831325301, NCDG@10: 0.008374911758266686, HR_pos@10: 0.009205983889528193, HR_neg@10: 0.006904487917146145, MRR_pos@10: 0.002995597932306793, MRR_neg@10: 0.003123687142674484, NCDG_pos@10: 0.004394603637693813, NDCG_neg@10: 0.003980308120572872, Matthews@10: 0.1048178751123638\\n',\n",
       " 'HR@20:0.04200230149597238, MRR@20: 0.007862807770133366, Coverage@20: 0.053482221569203646, NCDG@20: 0.014850456883374951, HR_pos@20: 0.0189873417721519, HR_neg@20: 0.023014959723820484, MRR_pos@20: 0.003592149400202498, MRR_neg@20: 0.004270658369930869, NCDG_pos@20: 0.006763441535344365, NDCG_neg@20: 0.00808701534803059, Matthews@20: 0.11192543883760459\\n',\n",
       " 'Test loss: 0.09682665765285492\\n',\n",
       " 'Train loss: 0.10808425831298034\\n',\n",
       " '\\n',\n",
       " '\\n',\n",
       " 'Alpha: 4\\n',\n",
       " 'Hidden sizes: (512, 1024, 0.01)\\n',\n",
       " 'Current epoch 50\\n',\n",
       " 'Results for alpha=2\\n',\n",
       " 'HR@5:0.0011507479861910242, MRR@5: 0.00047947832757959337, Coverage@5: 0.0014692918013517484, NCDG@5: 0.0006507075682229329, HR_pos@5: 0.0011507479861910242, HR_neg@5: 0.0, MRR_pos@5: 0.00047947832757959337, MRR_neg@5: 0.0, NCDG_pos@5: 0.0006507075682229329, NDCG_neg@5: 0.0, Matthews@5: 0.008606799670775557\\n',\n",
       " 'HR@10:0.0011507479861910242, MRR@10: 0.00016781741465285766, Coverage@10: 0.0029385836027034967, NCDG@10: 0.00038646263745325144, HR_pos@10: 0.0011507479861910242, HR_neg@10: 0.0, MRR_pos@10: 0.00016781741465285766, MRR_neg@10: 0.0, NCDG_pos@10: 0.00038646263745325144, NDCG_neg@10: 0.0, Matthews@10: 0.008606799670775557\\n',\n",
       " 'HR@20:0.0034522439585730723, MRR@20: 0.0005217481275109523, Coverage@20: 0.0058771672054069935, NCDG@20: 0.001128589304921208, HR_pos@20: 0.0034522439585730723, HR_neg@20: 0.0, MRR_pos@20: 0.0005217481275109523, MRR_neg@20: 0.0, NCDG_pos@20: 0.001128589304921208, NDCG_neg@20: 0.0, Matthews@20: 0.014924618497247261\\n',\n",
       " 'Results for alpha=3\\n',\n",
       " 'HR@5:0.0011507479861910242, MRR@5: 0.00047947832757959337, Coverage@5: 0.0014692918013517484, NCDG@5: 0.0006507075682229329, HR_pos@5: 0.0011507479861910242, HR_neg@5: 0.0, MRR_pos@5: 0.00047947832757959337, MRR_neg@5: 0.0, NCDG_pos@5: 0.0006507075682229329, NDCG_neg@5: 0.0, Matthews@5: 0.01587660615961333\\n',\n",
       " 'HR@10:0.0011507479861910242, MRR@10: 0.00016781741465285766, Coverage@10: 0.0029385836027034967, NCDG@10: 0.00038646263745325144, HR_pos@10: 0.0011507479861910242, HR_neg@10: 0.0, MRR_pos@10: 0.00016781741465285766, MRR_neg@10: 0.0, NCDG_pos@10: 0.00038646263745325144, NDCG_neg@10: 0.0, Matthews@10: 0.01587660615961333\\n',\n",
       " 'HR@20:0.0034522439585730727, MRR@20: 0.0005217481275109523, Coverage@20: 0.0058771672054069935, NCDG@20: 0.001128589304921208, HR_pos@20: 0.0028768699654775605, HR_neg@20: 0.0005753739930955121, MRR_pos@20: 0.0004914652857690833, MRR_neg@20: 3.0282841741869056e-05, NCDG_pos@20: 0.0009954602985001728, NDCG_neg@20: 0.00013312900642103518, Matthews@20: 0.0019706893499355136\\n',\n",
       " 'Results for alpha=4\\n',\n",
       " 'HR@5:0.0011507479861910242, MRR@5: 0.00047947832757959337, Coverage@5: 0.0014692918013517484, NCDG@5: 0.0006507075682229329, HR_pos@5: 0.0011507479861910242, HR_neg@5: 0.0, MRR_pos@5: 0.00047947832757959337, MRR_neg@5: 0.0, NCDG_pos@5: 0.0006507075682229329, NDCG_neg@5: 0.0, Matthews@5: 0.029572789829824957\\n',\n",
       " 'HR@10:0.0011507479861910242, MRR@10: 0.00016781741465285766, Coverage@10: 0.0029385836027034967, NCDG@10: 0.00038646263745325144, HR_pos@10: 0.0011507479861910242, HR_neg@10: 0.0, MRR_pos@10: 0.00016781741465285766, MRR_neg@10: 0.0, NCDG_pos@10: 0.00038646263745325144, NDCG_neg@10: 0.0, Matthews@10: 0.029572789829824957\\n',\n",
       " 'HR@20:0.0034522439585730723, MRR@20: 0.0005217481275109523, Coverage@20: 0.0058771672054069935, NCDG@20: 0.001128589304921208, HR_pos@20: 0.0023014959723820483, HR_neg@20: 0.0011507479861910242, MRR_pos@20: 0.0002037782892213272, MRR_neg@20: 0.0003179698382896251, NCDG_pos@20: 0.0006324397268249957, NDCG_neg@20: 0.0004961495780962122, Matthews@20: 0.011669205381380153\\n',\n",
       " 'Results for alpha=5\\n',\n",
       " 'HR@5:0.0011507479861910242, MRR@5: 0.00047947832757959337, Coverage@5: 0.0014692918013517484, NCDG@5: 0.0006507075682229329, HR_pos@5: 0.0005753739930955121, HR_neg@5: 0.0005753739930955121, MRR_pos@5: 0.00028768699654775604, MRR_neg@5: 0.00019179133103183735, NCDG_pos@5: 0.00036302057167517695, NDCG_neg@5: 0.00028768699654775604, Matthews@5: 0.022023048097273384\\n',\n",
       " 'HR@10:0.0011507479861910242, MRR@10: 0.00016781741465285766, Coverage@10: 0.0029385836027034967, NCDG@10: 0.00038646263745325144, HR_pos@10: 0.0005753739930955121, HR_neg@10: 0.0005753739930955121, MRR_pos@10: 7.192174913693901e-05, MRR_neg@10: 9.589566551591868e-05, NCDG_pos@10: 0.00018151028583758848, NDCG_neg@10: 0.00020495235161566294, Matthews@10: 0.022023048097273384\\n',\n",
       " 'HR@20:0.0034522439585730727, MRR@20: 0.0005217481275109523, Coverage@20: 0.0058771672054069935, NCDG@20: 0.001128589304921208, HR_pos@20: 0.0005753739930955121, HR_neg@20: 0.0028768699654775605, MRR_pos@20: 7.192174913693901e-05, MRR_neg@20: 0.0004498263783740133, NCDG_pos@20: 0.00018151028583758848, NDCG_neg@20: 0.0009470790190836195, Matthews@20: -0.008585137570655361\\n',\n",
       " 'Test loss: nan\\n',\n",
       " 'Train loss: nan\\n',\n",
       " '\\n',\n",
       " '\\n',\n",
       " 'Alpha: 5\\n',\n",
       " 'Hidden sizes: (128, 1024, 0.001)\\n',\n",
       " 'Current epoch 57\\n',\n",
       " 'Results for alpha=2\\n',\n",
       " 'HR@5:0.016685845799769852, MRR@5: 0.009474491752972764, Coverage@5: 0.06582427270055834, NCDG@5: 0.011251838885305227, HR_pos@5: 0.01611047180667434, HR_neg@5: 0.0005753739930955121, MRR_pos@5: 0.008899117759877253, MRR_neg@5: 0.0005753739930955121, NCDG_pos@5: 0.010676464892209714, NDCG_neg@5: 0.0005753739930955121, Matthews@5: 0.014178092824499458\\n',\n",
       " 'HR@10:0.03624856156501726, MRR@10: 0.011864120408424206, Coverage@10: 0.0916838084043491, NCDG@10: 0.017356957165916835, HR_pos@10: 0.03567318757192175, HR_neg@10: 0.0005753739930955121, MRR_pos@10: 0.011288746415328694, MRR_neg@10: 0.0005753739930955121, NCDG_pos@10: 0.016781583172821322, NDCG_neg@10: 0.0005753739930955121, Matthews@10: 0.03625662154038549\\n',\n",
       " 'HR@20:0.06386651323360185, MRR@20: 0.013755494288882014, Coverage@20: 0.13164854540111667, NCDG@20: 0.024309952661458266, HR_pos@20: 0.061565017261219795, HR_neg@20: 0.0023014959723820483, MRR_pos@20: 0.013075126836362663, MRR_neg@20: 0.0006803674525193513, NCDG_pos@20: 0.023317013250007877, NDCG_neg@20: 0.000992939411450394, Matthews@20: 0.026725877347682198\\n',\n",
       " 'Results for alpha=3\\n',\n",
       " 'HR@5:0.014384349827387802, MRR@5: 0.0075182201764480245, Coverage@5: 0.02762268586541287, NCDG@5: 0.009184184135502272, HR_pos@5: 0.01380897583429229, HR_neg@5: 0.0005753739930955121, MRR_pos@5: 0.006942846183352512, MRR_neg@5: 0.0005753739930955121, NCDG_pos@5: 0.008608810142406761, NDCG_neg@5: 0.0005753739930955121, Matthews@5: 0.043916749311696944\\n',\n",
       " 'HR@10:0.02416570771001151, MRR@10: 0.008743629787933587, Coverage@10: 0.044078754040552455, NCDG@10: 0.012265253592546233, HR_pos@10: 0.023014959723820484, HR_neg@10: 0.0011507479861910242, MRR_pos@10: 0.008086059510110143, MRR_neg@10: 0.0006575702778234423, NCDG_pos@10: 0.011498088268418881, NDCG_neg@10: 0.0007671653241273494, Matthews@10: 0.05408308451052586\\n',\n",
       " 'HR@20:0.047756041426927506, MRR@20: 0.01024976940774609, Coverage@20: 0.07287687334704672, NCDG@20: 0.01806648831805846, HR_pos@20: 0.045454545454545456, HR_neg@20: 0.0023014959723820483, MRR_pos@20: 0.00952450807191141, MRR_neg@20: 0.0007252613358346791, NCDG_pos@20: 0.017023359280964333, NDCG_neg@20: 0.0010431290370941288, Matthews@20: 0.07662960378467543\\n',\n",
       " 'Results for alpha=4\\n',\n",
       " 'HR@5:0.004602991944764097, MRR@5: 0.0031837360951285, Coverage@5: 0.16220981486923303, NCDG@5: 0.003537809156718905, HR_pos@5: 0.004027617951668585, HR_neg@5: 0.0005753739930955121, MRR_pos@5: 0.002896049098580744, MRR_neg@5: 0.00028768699654775604, NCDG_pos@5: 0.003174788585043728, NDCG_neg@5: 0.00036302057167517695, Matthews@5: 0.042085868738150935\\n',\n",
       " 'HR@10:0.016685845799769852, MRR@10: 0.004821725391345644, Coverage@10: 0.19717895974140465, NCDG@10: 0.007472221203494076, HR_pos@10: 0.013233601841196778, HR_neg@10: 0.0034522439585730723, MRR_pos@10: 0.004164155113522203, MRR_neg@10: 0.0006575702778234423, NCDG_pos@10: 0.0061928424572312716, NDCG_neg@10: 0.0012793787462628057, Matthews@10: 0.05908048015842893\\n',\n",
       " 'HR@20:0.03682393555811277, MRR@20: 0.006186438501971462, Coverage@20: 0.23185424625330592, NCDG@20: 0.012521700552406692, HR_pos@20: 0.028768699654775604, HR_neg@20: 0.00805523590333717, MRR_pos@20: 0.005202553125105648, MRR_neg@20: 0.0009838853768658143, NCDG_pos@20: 0.010070594351115441, NDCG_neg@20: 0.0024511062012912512, Matthews@20: 0.08400105543233752\\n',\n",
       " 'Results for alpha=5\\n',\n",
       " 'HR@5:0.017261219792865365, MRR@5: 0.007671653241273494, Coverage@5: 0.0526006464883926, NCDG@5: 0.010027108474874287, HR_pos@5: 0.007479861910241657, HR_neg@5: 0.009781357882623706, MRR_pos@5: 0.0037591100882240123, MRR_neg@5: 0.003912543153049482, NCDG_pos@5: 0.004679676670779024, NDCG_neg@5: 0.005347431804095264, Matthews@5: 0.06492668518113877\\n',\n",
       " 'HR@10:0.03394706559263522, MRR@10: 0.009866979012548634, Coverage@10: 0.07552159858947988, NCDG@10: 0.015390905252353072, HR_pos@10: 0.014384349827387802, HR_neg@10: 0.019562715765247412, MRR_pos@10: 0.004696147734122418, MRR_neg@10: 0.005170831278426214, NCDG_pos@10: 0.006927115329041285, NDCG_neg@10: 0.008463789923311787, Matthews@10: 0.08754236066067947\\n',\n",
       " 'HR@20:0.06904487917146145, MRR@20: 0.012187490279502023, Coverage@20: 0.11225389362327358, NCDG@20: 0.02412265929777766, HR_pos@20: 0.02531645569620253, HR_neg@20: 0.04372842347525892, MRR_pos@20: 0.005409083853712567, MRR_neg@20: 0.006778406425789453, NCDG_pos@20: 0.009635229219264031, NDCG_neg@20: 0.014487430078513625, Matthews@20: 0.09013113447922738\\n',\n",
       " 'Test loss: 0.09312016516923904\\n',\n",
       " 'Train loss: 0.10482656521101792\\n',\n",
       " '\\n',\n",
       " '\\n',\n",
       " '[[init-process] Main process terminated]\\n']"
      ]
     },
     "execution_count": 41,
     "metadata": {},
     "output_type": "execute_result"
    }
   ],
   "source": [
    "lines"
   ]
  },
  {
   "cell_type": "code",
   "execution_count": 19,
   "id": "18428e4f",
   "metadata": {
    "ExecuteTime": {
     "end_time": "2023-06-01T18:16:38.108076Z",
     "start_time": "2023-06-01T18:16:38.092066Z"
    },
    "code_folding": [
     0
    ]
   },
   "outputs": [],
   "source": [
    "# coffee\n",
    "d = {}\n",
    "for line in lines:\n",
    "    if 'r=' in line:\n",
    "        k, v = line.split(':')\n",
    "        d[k] = float(v.strip())"
   ]
  },
  {
   "cell_type": "code",
   "execution_count": 42,
   "id": "304098a0",
   "metadata": {
    "ExecuteTime": {
     "end_time": "2023-06-06T14:02:56.038443Z",
     "start_time": "2023-06-06T14:02:56.022446Z"
    }
   },
   "outputs": [],
   "source": [
    "lines2 = ['HR@5:0.0011507479861910242, MRR@5: 0.00047947832757959337, Coverage@5: 0.0014692918013517484, NCDG@5: 0.0006507075682229329, HR_pos@5: 0.0011507479861910242, HR_neg@5: 0.0, MRR_pos@5: 0.00047947832757959337, MRR_neg@5: 0.0, NCDG_pos@5: 0.0006507075682229329, NDCG_neg@5: 0.0, Matthews@5: 0.008606799670775557\\n',\n",
    " 'HR@10:0.0011507479861910242, MRR@10: 0.00016781741465285766, Coverage@10: 0.0029385836027034967, NCDG@10: 0.00038646263745325144, HR_pos@10: 0.0011507479861910242, HR_neg@10: 0.0, MRR_pos@10: 0.00016781741465285766, MRR_neg@10: 0.0, NCDG_pos@10: 0.00038646263745325144, NDCG_neg@10: 0.0, Matthews@10: 0.008606799670775557\\n',\n",
    " 'HR@20:0.0034522439585730723, MRR@20: 0.0005217481275109523, Coverage@20: 0.0058771672054069935, NCDG@20: 0.001128589304921208, HR_pos@20: 0.0034522439585730723, HR_neg@20: 0.0, MRR_pos@20: 0.0005217481275109523, MRR_neg@20: 0.0, NCDG_pos@20: 0.001128589304921208, NDCG_neg@20: 0.0, Matthews@20: 0.014924618497247261\\n']\n",
    "lines3 = ['HR@5:0.017836593785960874, MRR@5: 0.00913885692366705, Coverage@5: 0.04642962092271525, NCDG@5: 0.01130537309486359, HR_pos@5: 0.01668584579976985, HR_neg@5: 0.0011507479861910242, MRR_pos@5: 0.0083716915995397, MRR_neg@5: 0.0007671653241273494, NCDG_pos@5: 0.01044231210522032, NDCG_neg@5: 0.0008630609896432681, Matthews@5: 0.04038096951938974\\n',\n",
    " 'HR@10:0.03624856156501726, MRR@10: 0.011577803349955248, Coverage@10: 0.07581545694975023, NCDG@10: 0.017240539393562737, HR_pos@10: 0.03394706559263521, HR_neg@10: 0.0023014959723820483, MRR_pos@10: 0.010695563227208797, MRR_neg@10: 0.000882240122746452, NCDG_pos@10: 0.0160448376371555, NDCG_neg@10: 0.0011957017564072359, Matthews@10: 0.0586307898555307\\n',\n",
    " 'HR@20:0.06674338319907941, MRR@20: 0.0136213350398546, Coverage@20: 0.11342932706435498, NCDG@20: 0.02486255185737706, HR_pos@20: 0.061565017261219795, HR_neg@20: 0.005178365937859608, MRR_pos@20: 0.012528730387123366, MRR_neg@20: 0.001092604652731235, NCDG_pos@20: 0.02292493164228031, NDCG_neg@20: 0.001937620215096747, Matthews@20: 0.07102648897543598\\n']\n",
    "lines4 = ['HR@5:0.0011507479861910242, MRR@5: 0.00047947832757959337, Coverage@5: 0.0014692918013517484, NCDG@5: 0.0006507075682229329, HR_pos@5: 0.0011507479861910242, HR_neg@5: 0.0, MRR_pos@5: 0.00047947832757959337, MRR_neg@5: 0.0, NCDG_pos@5: 0.0006507075682229329, NDCG_neg@5: 0.0, Matthews@5: 0.029572789829824957\\n',\n",
    " 'HR@10:0.0011507479861910242, MRR@10: 0.00016781741465285766, Coverage@10: 0.0029385836027034967, NCDG@10: 0.00038646263745325144, HR_pos@10: 0.0011507479861910242, HR_neg@10: 0.0, MRR_pos@10: 0.00016781741465285766, MRR_neg@10: 0.0, NCDG_pos@10: 0.00038646263745325144, NDCG_neg@10: 0.0, Matthews@10: 0.029572789829824957\\n',\n",
    " 'HR@20:0.0034522439585730723, MRR@20: 0.0005217481275109523, Coverage@20: 0.0058771672054069935, NCDG@20: 0.001128589304921208, HR_pos@20: 0.0023014959723820483, HR_neg@20: 0.0011507479861910242, MRR_pos@20: 0.0002037782892213272, MRR_neg@20: 0.0003179698382896251, NCDG_pos@20: 0.0006324397268249957, NDCG_neg@20: 0.0004961495780962122, Matthews@20: 0.011669205381380153\\n']\n",
    "lines5 = ['HR@5:0.017261219792865365, MRR@5: 0.007671653241273494, Coverage@5: 0.0526006464883926, NCDG@5: 0.010027108474874287, HR_pos@5: 0.007479861910241657, HR_neg@5: 0.009781357882623706, MRR_pos@5: 0.0037591100882240123, MRR_neg@5: 0.003912543153049482, NCDG_pos@5: 0.004679676670779024, NDCG_neg@5: 0.005347431804095264, Matthews@5: 0.06492668518113877\\n',\n",
    " 'HR@10:0.03394706559263522, MRR@10: 0.009866979012548634, Coverage@10: 0.07552159858947988, NCDG@10: 0.015390905252353072, HR_pos@10: 0.014384349827387802, HR_neg@10: 0.019562715765247412, MRR_pos@10: 0.004696147734122418, MRR_neg@10: 0.005170831278426214, NCDG_pos@10: 0.006927115329041285, NDCG_neg@10: 0.008463789923311787, Matthews@10: 0.08754236066067947\\n',\n",
    " 'HR@20:0.06904487917146145, MRR@20: 0.012187490279502023, Coverage@20: 0.11225389362327358, NCDG@20: 0.02412265929777766, HR_pos@20: 0.02531645569620253, HR_neg@20: 0.04372842347525892, MRR_pos@20: 0.005409083853712567, MRR_neg@20: 0.006778406425789453, NCDG_pos@20: 0.009635229219264031, NDCG_neg@20: 0.014487430078513625, Matthews@20: 0.09013113447922738\\n']\n",
    "lines6 = ['HR@5:0.008234217749313814, MRR@5: 0.004339737724916133, Coverage@5: 0.20650652985074627, NCDG@5: 0.005298353891968317, HR_pos@5: 0.006587374199451052, HR_neg@5: 0.001646843549862763, MRR_pos@5: 0.003287587679170479, MRR_neg@5: 0.0010521500457456542, NCDG_pos@5: 0.004099106100319078, NDCG_neg@5: 0.0011992477916492397, Matthews@5: 0.010620231842970692\\n',\n",
    " 'HR@10:0.013723696248856358, MRR@10: 0.005048069242945729, Coverage@10: 0.3435556592039801, NCDG@10: 0.007049155649237863, HR_pos@10: 0.011161939615736504, HR_neg@10: 0.0025617566331198535, MRR_pos@10: 0.0038777792300207672, MRR_neg@10: 0.0011702900129249626, NCDG_pos@10: 0.005558032245656518, NDCG_neg@10: 0.0014911234035813446, Matthews@10: 0.017378569567164097\\n',\n",
    " 'HR@20:0.02433668801463861, MRR@20: 0.005761631141171362, Coverage@20: 0.5198616293532339, NCDG@20: 0.009703105789163984, HR_pos@20: 0.02031107044830741, HR_neg@20: 0.0040256175663311985, MRR_pos@20: 0.004501648150848381, MRR_neg@20: 0.001259982990322981, NCDG_pos@20: 0.007856831730594883, NDCG_neg@20: 0.0018462740585691024, Matthews@20: 0.03101459035630606\\n']"
   ]
  },
  {
   "cell_type": "code",
   "execution_count": 43,
   "id": "ef66aa3e",
   "metadata": {
    "ExecuteTime": {
     "end_time": "2023-06-06T14:02:58.859927Z",
     "start_time": "2023-06-06T14:02:58.850922Z"
    }
   },
   "outputs": [],
   "source": [
    "alpha = 5\n",
    "alphas = []\n",
    "topks = []\n",
    "metrics = []\n",
    "for line in lines2:\n",
    "    if 'HR@' in line:\n",
    "        for i in line.split(', '):\n",
    "            metrics.append(float(i.split(':')[-1].strip()))"
   ]
  },
  {
   "cell_type": "code",
   "execution_count": 44,
   "id": "fdfa8aad",
   "metadata": {
    "ExecuteTime": {
     "end_time": "2023-06-06T14:02:59.396923Z",
     "start_time": "2023-06-06T14:02:59.365921Z"
    }
   },
   "outputs": [
    {
     "data": {
      "text/html": [
       "<div>\n",
       "<style scoped>\n",
       "    .dataframe tbody tr th:only-of-type {\n",
       "        vertical-align: middle;\n",
       "    }\n",
       "\n",
       "    .dataframe tbody tr th {\n",
       "        vertical-align: top;\n",
       "    }\n",
       "\n",
       "    .dataframe thead th {\n",
       "        text-align: right;\n",
       "    }\n",
       "</style>\n",
       "<table border=\"1\" class=\"dataframe\">\n",
       "  <thead>\n",
       "    <tr style=\"text-align: right;\">\n",
       "      <th></th>\n",
       "      <th>0</th>\n",
       "      <th>1</th>\n",
       "      <th>2</th>\n",
       "      <th>3</th>\n",
       "      <th>4</th>\n",
       "      <th>5</th>\n",
       "      <th>6</th>\n",
       "      <th>7</th>\n",
       "      <th>8</th>\n",
       "      <th>9</th>\n",
       "      <th>10</th>\n",
       "    </tr>\n",
       "  </thead>\n",
       "  <tbody>\n",
       "    <tr>\n",
       "      <th>0</th>\n",
       "      <td>0.001151</td>\n",
       "      <td>0.000479</td>\n",
       "      <td>0.001469</td>\n",
       "      <td>0.000651</td>\n",
       "      <td>0.001151</td>\n",
       "      <td>0.0</td>\n",
       "      <td>0.000479</td>\n",
       "      <td>0.0</td>\n",
       "      <td>0.000651</td>\n",
       "      <td>0.0</td>\n",
       "      <td>0.008607</td>\n",
       "    </tr>\n",
       "  </tbody>\n",
       "</table>\n",
       "</div>"
      ],
      "text/plain": [
       "         0         1         2         3         4    5         6    7   \\\n",
       "0  0.001151  0.000479  0.001469  0.000651  0.001151  0.0  0.000479  0.0   \n",
       "\n",
       "         8    9         10  \n",
       "0  0.000651  0.0  0.008607  "
      ]
     },
     "metadata": {},
     "output_type": "display_data"
    },
    {
     "data": {
      "text/html": [
       "<div>\n",
       "<style scoped>\n",
       "    .dataframe tbody tr th:only-of-type {\n",
       "        vertical-align: middle;\n",
       "    }\n",
       "\n",
       "    .dataframe tbody tr th {\n",
       "        vertical-align: top;\n",
       "    }\n",
       "\n",
       "    .dataframe thead th {\n",
       "        text-align: right;\n",
       "    }\n",
       "</style>\n",
       "<table border=\"1\" class=\"dataframe\">\n",
       "  <thead>\n",
       "    <tr style=\"text-align: right;\">\n",
       "      <th></th>\n",
       "      <th>0</th>\n",
       "      <th>1</th>\n",
       "      <th>2</th>\n",
       "      <th>3</th>\n",
       "      <th>4</th>\n",
       "      <th>5</th>\n",
       "      <th>6</th>\n",
       "      <th>7</th>\n",
       "      <th>8</th>\n",
       "      <th>9</th>\n",
       "      <th>10</th>\n",
       "    </tr>\n",
       "  </thead>\n",
       "  <tbody>\n",
       "    <tr>\n",
       "      <th>0</th>\n",
       "      <td>0.001151</td>\n",
       "      <td>0.000168</td>\n",
       "      <td>0.002939</td>\n",
       "      <td>0.000386</td>\n",
       "      <td>0.001151</td>\n",
       "      <td>0.0</td>\n",
       "      <td>0.000168</td>\n",
       "      <td>0.0</td>\n",
       "      <td>0.000386</td>\n",
       "      <td>0.0</td>\n",
       "      <td>0.008607</td>\n",
       "    </tr>\n",
       "  </tbody>\n",
       "</table>\n",
       "</div>"
      ],
      "text/plain": [
       "         0         1         2         3         4    5         6    7   \\\n",
       "0  0.001151  0.000168  0.002939  0.000386  0.001151  0.0  0.000168  0.0   \n",
       "\n",
       "         8    9         10  \n",
       "0  0.000386  0.0  0.008607  "
      ]
     },
     "metadata": {},
     "output_type": "display_data"
    },
    {
     "data": {
      "text/html": [
       "<div>\n",
       "<style scoped>\n",
       "    .dataframe tbody tr th:only-of-type {\n",
       "        vertical-align: middle;\n",
       "    }\n",
       "\n",
       "    .dataframe tbody tr th {\n",
       "        vertical-align: top;\n",
       "    }\n",
       "\n",
       "    .dataframe thead th {\n",
       "        text-align: right;\n",
       "    }\n",
       "</style>\n",
       "<table border=\"1\" class=\"dataframe\">\n",
       "  <thead>\n",
       "    <tr style=\"text-align: right;\">\n",
       "      <th></th>\n",
       "      <th>0</th>\n",
       "      <th>1</th>\n",
       "      <th>2</th>\n",
       "      <th>3</th>\n",
       "      <th>4</th>\n",
       "      <th>5</th>\n",
       "      <th>6</th>\n",
       "      <th>7</th>\n",
       "      <th>8</th>\n",
       "      <th>9</th>\n",
       "      <th>10</th>\n",
       "    </tr>\n",
       "  </thead>\n",
       "  <tbody>\n",
       "    <tr>\n",
       "      <th>0</th>\n",
       "      <td>0.003452</td>\n",
       "      <td>0.000522</td>\n",
       "      <td>0.005877</td>\n",
       "      <td>0.001129</td>\n",
       "      <td>0.003452</td>\n",
       "      <td>0.0</td>\n",
       "      <td>0.000522</td>\n",
       "      <td>0.0</td>\n",
       "      <td>0.001129</td>\n",
       "      <td>0.0</td>\n",
       "      <td>0.014925</td>\n",
       "    </tr>\n",
       "  </tbody>\n",
       "</table>\n",
       "</div>"
      ],
      "text/plain": [
       "         0         1         2         3         4    5         6    7   \\\n",
       "0  0.003452  0.000522  0.005877  0.001129  0.003452  0.0  0.000522  0.0   \n",
       "\n",
       "         8    9         10  \n",
       "0  0.001129  0.0  0.014925  "
      ]
     },
     "metadata": {},
     "output_type": "display_data"
    }
   ],
   "source": [
    "for i in range(3):\n",
    "    display(pd.DataFrame(metrics[11*i:11*(i+1)]).T)"
   ]
  },
  {
   "cell_type": "code",
   "execution_count": 81,
   "id": "8e21de15",
   "metadata": {
    "ExecuteTime": {
     "end_time": "2023-05-23T18:27:26.764686Z",
     "start_time": "2023-05-23T18:27:26.752686Z"
    }
   },
   "outputs": [
    {
     "data": {
      "text/plain": [
       "132"
      ]
     },
     "execution_count": 81,
     "metadata": {},
     "output_type": "execute_result"
    }
   ],
   "source": [
    "11*3*4"
   ]
  },
  {
   "cell_type": "markdown",
   "id": "4a386d52",
   "metadata": {},
   "source": [
    "## dict"
   ]
  },
  {
   "cell_type": "code",
   "execution_count": 127,
   "id": "04fe0c4c",
   "metadata": {
    "ExecuteTime": {
     "end_time": "2023-05-29T16:38:14.190342Z",
     "start_time": "2023-05-29T16:38:14.155115Z"
    },
    "code_folding": [
     0
    ]
   },
   "outputs": [],
   "source": [
    "d = {'r=16_2, alpha=2': 0.05531103432672559,\n",
    " 'r=16_2, alpha=3': 0.07365974504539831,\n",
    " 'r=16_2, alpha=4': 0.149377867671188,\n",
    " 'r=16_2, alpha=5': 0.2383536087975349,\n",
    " 'r=32_2, alpha=2': 0.05923706005849889,\n",
    " 'r=32_2, alpha=3': 0.07472952705088284,\n",
    " 'r=32_2, alpha=4': 0.15453795127479317,\n",
    " 'r=32_2, alpha=5': 0.22130201655159662,\n",
    " 'r=64_2, alpha=2': 0.05747916632248626,\n",
    " 'r=64_2, alpha=3': 0.07821901652467918,\n",
    " 'r=64_2, alpha=4': 0.1417710069101706,\n",
    " 'r=64_2, alpha=5': 0.18265776635878014,\n",
    " 'r=128_2, alpha=2': 0.06428255989173427,\n",
    " 'r=128_2, alpha=3': 0.0921665249686498,\n",
    " 'r=128_2, alpha=4': 0.14548104368411133,\n",
    " 'r=128_2, alpha=5': 0.14519831508760941,\n",
    " 'r=256_2, alpha=2': 0.04648171239236602,\n",
    " 'r=256_2, alpha=3': 0.06436521303976957,\n",
    " 'r=256_2, alpha=4': 0.11616547800080264,\n",
    " 'r=256_2, alpha=5': 0.10279871155849937,\n",
    " 'r=512_2, alpha=2': 0.01836295380723834,\n",
    " 'r=512_2, alpha=3': -5.255336877465284e-06,\n",
    " 'r=512_2, alpha=4': 0.024733820641945525,\n",
    " 'r=512_2, alpha=5': 0.028398646574531276,\n",
    " 'r=1024_2, alpha=2': -0.012605742462697647,\n",
    " 'r=1024_2, alpha=3': 0.0011548263678972032,\n",
    " 'r=1024_2, alpha=4': 0.008776905395472202,\n",
    " 'r=1024_2, alpha=5': -0.004061604266722465,\n",
    " 'r=2048_2, alpha=2': -0.008593398433128252,\n",
    " 'r=2048_2, alpha=3': -0.001366927970622446,\n",
    " 'r=2048_2, alpha=4': -0.027240563322450166,\n",
    " 'r=2048_2, alpha=5': -0.028043964322806262,\n",
    " 'r=16_3, alpha=2': 0.05230722171275475,\n",
    " 'r=16_3, alpha=3': 0.059236661436579026,\n",
    " 'r=16_3, alpha=4': 0.13705354078026863,\n",
    " 'r=16_3, alpha=5': 0.20680013894842025,\n",
    " 'r=32_3, alpha=2': 0.056041274291019426,\n",
    " 'r=32_3, alpha=3': 0.07520242034916262,\n",
    " 'r=32_3, alpha=4': 0.15791901975652467,\n",
    " 'r=32_3, alpha=5': 0.2392319270741349,\n",
    " 'r=64_3, alpha=2': 0.059928752161400034,\n",
    " 'r=64_3, alpha=3': 0.07623041769189473,\n",
    " 'r=64_3, alpha=4': 0.13637825903424544,\n",
    " 'r=64_3, alpha=5': 0.19125081430382865,\n",
    " 'r=128_3, alpha=2': 0.05747916632248626,\n",
    " 'r=128_3, alpha=3': 0.07821901652467918,\n",
    " 'r=128_3, alpha=4': 0.13086308422145937,\n",
    " 'r=128_3, alpha=5': 0.16319532546876533,\n",
    " 'r=256_3, alpha=2': 0.051921669262761865,\n",
    " 'r=256_3, alpha=3': 0.0663952086002175,\n",
    " 'r=256_3, alpha=4': 0.10554181919367596,\n",
    " 'r=256_3, alpha=5': 0.13862609732445122,\n",
    " 'r=512_3, alpha=2': 0.02158300430799532,\n",
    " 'r=512_3, alpha=3': 0.04129713740698912,\n",
    " 'r=512_3, alpha=4': 0.0692205693926399,\n",
    " 'r=512_3, alpha=5': 0.08724229056479206,\n",
    " 'r=1024_3, alpha=2': -0.0019113233866926468,\n",
    " 'r=1024_3, alpha=3': 0.0016772129834947385,\n",
    " 'r=1024_3, alpha=4': 0.03980498224388007,\n",
    " 'r=1024_3, alpha=5': 0.06144435927282375,\n",
    " 'r=2048_3, alpha=2': -0.019126859140523752,\n",
    " 'r=2048_3, alpha=3': 0.00667494894545064,\n",
    " 'r=2048_3, alpha=4': -0.028005508813704384,\n",
    " 'r=2048_3, alpha=5': -0.03664498184133764,\n",
    " 'r=16_4, alpha=2': 0.05307131610784122,\n",
    " 'r=16_4, alpha=3': 0.060990852217879435,\n",
    " 'r=16_4, alpha=4': 0.13434827072904545,\n",
    " 'r=16_4, alpha=5': 0.214929221552216,\n",
    " 'r=32_4, alpha=2': 0.05457285406582348,\n",
    " 'r=32_4, alpha=3': 0.05671151567264219,\n",
    " 'r=32_4, alpha=4': 0.13493890265515737,\n",
    " 'r=32_4, alpha=5': 0.23749638986025642,\n",
    " 'r=64_4, alpha=2': 0.05035481397541435,\n",
    " 'r=64_4, alpha=3': 0.07125116535671248,\n",
    " 'r=64_4, alpha=4': 0.12275109308233201,\n",
    " 'r=64_4, alpha=5': 0.20031826195757757,\n",
    " 'r=128_4, alpha=2': 0.056041274291019426,\n",
    " 'r=128_4, alpha=3': 0.07520242034916262,\n",
    " 'r=128_4, alpha=4': 0.11327806333028335,\n",
    " 'r=128_4, alpha=5': 0.15958138310588654,\n",
    " 'r=256_4, alpha=2': 0.04171101887483536,\n",
    " 'r=256_4, alpha=3': 0.06271205106119178,\n",
    " 'r=256_4, alpha=4': 0.08543329235115478,\n",
    " 'r=256_4, alpha=5': 0.09895754479298603,\n",
    " 'r=512_4, alpha=2': 0.01700777908163277,\n",
    " 'r=512_4, alpha=3': 0.033540635418489305,\n",
    " 'r=512_4, alpha=4': 0.0736567865476854,\n",
    " 'r=512_4, alpha=5': 0.07278996180301688}"
   ]
  },
  {
   "cell_type": "code",
   "execution_count": 21,
   "id": "f7e3d1f5",
   "metadata": {
    "ExecuteTime": {
     "end_time": "2023-06-01T18:16:48.289878Z",
     "start_time": "2023-06-01T18:16:48.272890Z"
    }
   },
   "outputs": [
    {
     "data": {
      "text/plain": [
       "[('r=64_3, alpha=5', 0.047852482451268774),\n",
       " ('r=32_3, alpha=5', 0.036257160288923396),\n",
       " ('r=16_4, alpha=5', 0.0332627247623536),\n",
       " ('r=64_4, alpha=5', 0.02936603961024565),\n",
       " ('r=32_4, alpha=5', 0.023851467978590644),\n",
       " ('r=128_2, alpha=5', 0.023012419697850495),\n",
       " ('r=64_3, alpha=4', 0.021940346772279542),\n",
       " ('r=2048_3, alpha=5', 0.021729209345465725),\n",
       " ('r=2048_2, alpha=5', 0.018648519307208143),\n",
       " ('r=512_4, alpha=5', 0.0176069067330726),\n",
       " ('r=1024_2, alpha=3', 0.01741757067151458),\n",
       " ('r=128_3, alpha=5', 0.01716405649617599),\n",
       " ('r=512_2, alpha=5', 0.016823569374364404),\n",
       " ('r=64_2, alpha=5', 0.016301516884723578),\n",
       " ('r=256_4, alpha=5', 0.016011935236294565),\n",
       " ('r=1024_4, alpha=5', 0.015805560467936186),\n",
       " ('r=16_3, alpha=5', 0.015412079232463202),\n",
       " ('r=16_4, alpha=4', 0.012780461258837639),\n",
       " ('r=16_2, alpha=5', 0.012213020174910374),\n",
       " ('r=16_2, alpha=4', 0.011465969840861645),\n",
       " ('r=64_4, alpha=4', 0.011417138592368191),\n",
       " ('r=32_4, alpha=4', 0.0108264705999908),\n",
       " ('r=256_3, alpha=5', 0.01073011037179527),\n",
       " ('r=1024_2, alpha=2', 0.010701863747206952),\n",
       " ('r=512_3, alpha=5', 0.009676451273027315),\n",
       " ('r=2048_3, alpha=4', 0.009656492228845705),\n",
       " ('r=128_4, alpha=5', 0.009646665129605634),\n",
       " ('r=32_4, alpha=2', 0.00940756361005594),\n",
       " ('r=1024_3, alpha=5', 0.009130861980252548),\n",
       " ('r=256_2, alpha=5', 0.008430292364559104),\n",
       " ('r=512_4, alpha=4', 0.007769617374734373),\n",
       " ('r=256_4, alpha=2', 0.007398778450235117),\n",
       " ('r=32_2, alpha=5', 0.007188774099348047),\n",
       " ('r=256_4, alpha=3', 0.006730927325768351),\n",
       " ('r=256_2, alpha=2', 0.005719187966657708),\n",
       " ('r=2048_2, alpha=2', 0.005491582447480892),\n",
       " ('r=2048_2, alpha=3', 0.005268503184843588),\n",
       " ('r=2048_2, alpha=4', 0.005200175804000561),\n",
       " ('r=128_2, alpha=4', 0.005088711959174719),\n",
       " ('r=256_4, alpha=4', 0.004902300774623655),\n",
       " ('r=32_3, alpha=4', 0.002913198511123924),\n",
       " ('r=512_4, alpha=2', 0.0028633523232257253),\n",
       " ('r=512_4, alpha=3', 0.0026889051151429222),\n",
       " ('r=512_2, alpha=2', 0.002619452359615573),\n",
       " ('r=1024_2, alpha=4', 0.00205979430730255),\n",
       " ('r=128_3, alpha=4', 0.0012669502447438816),\n",
       " ('r=16_3, alpha=4', 0.0005887991303488074),\n",
       " ('r=128_2, alpha=2', 0.000563863602346504),\n",
       " ('r=512_2, alpha=3', 0.0003946601130219237),\n",
       " ('r=1024_2, alpha=5', -0.0008114117541188899),\n",
       " ('r=256_3, alpha=4', -0.0012925187102263904),\n",
       " ('r=64_4, alpha=2', -0.0013823799974858224),\n",
       " ('r=64_2, alpha=4', -0.001867960389545592),\n",
       " ('r=512_3, alpha=4', -0.002194778207419432),\n",
       " ('r=128_2, alpha=3', -0.0030202817651325854),\n",
       " ('r=256_2, alpha=3', -0.0030202817651325854),\n",
       " ('r=32_3, alpha=2', -0.003834727849367754),\n",
       " ('r=32_2, alpha=4', -0.004583105807605663),\n",
       " ('r=1024_4, alpha=4', -0.004804538990760506),\n",
       " ('r=128_4, alpha=2', -0.004826876661302952),\n",
       " ('r=256_2, alpha=4', -0.00485564118241862),\n",
       " ('r=2048_3, alpha=3', -0.005519835184310497),\n",
       " ('r=16_2, alpha=2', -0.005630798235604354),\n",
       " ('r=256_3, alpha=2', -0.00628293349812815),\n",
       " ('r=64_2, alpha=2', -0.006533256623451253),\n",
       " ('r=512_2, alpha=4', -0.006543874602642941),\n",
       " ('r=1024_3, alpha=4', -0.006661568016924667),\n",
       " ('r=16_2, alpha=3', -0.006785850670426698),\n",
       " ('r=64_3, alpha=3', -0.007510270186177022),\n",
       " ('r=64_3, alpha=2', -0.007558055119446893),\n",
       " ('r=512_3, alpha=2', -0.007820378055476413),\n",
       " ('r=16_4, alpha=3', -0.008259765577626428),\n",
       " ('r=2048_3, alpha=2', -0.008262031792110812),\n",
       " ('r=1024_3, alpha=2', -0.008622888696690768),\n",
       " ('r=1024_3, alpha=3', -0.009119281637619586),\n",
       " ('r=128_3, alpha=3', -0.009135315907585512),\n",
       " ('r=1024_4, alpha=3', -0.009552384826257873),\n",
       " ('r=32_4, alpha=3', -0.011003306024368067),\n",
       " ('r=1024_4, alpha=2', -0.011484822259853422),\n",
       " ('r=512_3, alpha=3', -0.0115554880188604),\n",
       " ('r=128_3, alpha=2', -0.01159042508672321),\n",
       " ('r=64_4, alpha=3', -0.012253317663526414),\n",
       " ('r=32_3, alpha=3', -0.012462735978538322),\n",
       " ('r=256_3, alpha=3', -0.012688950154617575),\n",
       " ('r=128_4, alpha=4', -0.012917272852174382),\n",
       " ('r=64_2, alpha=3', -0.01309835510284846),\n",
       " ('r=16_4, alpha=2', -0.01327521077524078),\n",
       " ('r=128_4, alpha=3', -0.013774262310867542),\n",
       " ('r=16_3, alpha=3', -0.016657717307490064),\n",
       " ('r=32_2, alpha=2', -0.01864647656930863),\n",
       " ('r=32_2, alpha=3', -0.019266730112471382),\n",
       " ('r=16_3, alpha=2', -0.019550057157751065)]"
      ]
     },
     "execution_count": 21,
     "metadata": {},
     "output_type": "execute_result"
    }
   ],
   "source": [
    "sorted(d.items(), key=lambda x: x[1], reverse=True)"
   ]
  },
  {
   "cell_type": "markdown",
   "id": "d101c016",
   "metadata": {},
   "source": [
    "## LaTTe"
   ]
  },
  {
   "cell_type": "code",
   "execution_count": 14,
   "id": "6efd50ac",
   "metadata": {
    "ExecuteTime": {
     "end_time": "2023-06-05T22:15:17.991255Z",
     "start_time": "2023-06-05T22:15:17.983254Z"
    }
   },
   "outputs": [],
   "source": [
    "with open('clothing_latte1.txt') as f:\n",
    "    lines = f.readlines()"
   ]
  },
  {
   "cell_type": "code",
   "execution_count": 15,
   "id": "c05112a5",
   "metadata": {
    "ExecuteTime": {
     "end_time": "2023-06-05T22:15:18.527381Z",
     "start_time": "2023-06-05T22:15:18.519378Z"
    }
   },
   "outputs": [
    {
     "data": {
      "text/plain": [
       "1270"
      ]
     },
     "execution_count": 15,
     "metadata": {},
     "output_type": "execute_result"
    }
   ],
   "source": [
    "len(lines)"
   ]
  },
  {
   "cell_type": "code",
   "execution_count": 16,
   "id": "7cdb3368",
   "metadata": {
    "ExecuteTime": {
     "end_time": "2023-06-05T22:15:28.850047Z",
     "start_time": "2023-06-05T22:15:28.837034Z"
    }
   },
   "outputs": [],
   "source": [
    "keys = []\n",
    "values = []\n",
    "for line in lines:\n",
    "    if 'r=' in line:\n",
    "        if not \"{'r=\" in line:\n",
    "            k, v = line.split(':')\n",
    "            keys.append(k)\n",
    "            values.append(v.strip())"
   ]
  },
  {
   "cell_type": "code",
   "execution_count": 17,
   "id": "88aca8f3",
   "metadata": {
    "ExecuteTime": {
     "end_time": "2023-06-05T22:15:29.893746Z",
     "start_time": "2023-06-05T22:15:29.854744Z"
    }
   },
   "outputs": [],
   "source": [
    "a = pd.DataFrame([keys, values]).T\n",
    "a[1] = a[1].astype(float)"
   ]
  },
  {
   "cell_type": "code",
   "execution_count": 20,
   "id": "737aba4d",
   "metadata": {
    "ExecuteTime": {
     "end_time": "2023-06-05T22:18:31.143925Z",
     "start_time": "2023-06-05T22:18:31.119945Z"
    }
   },
   "outputs": [
    {
     "data": {
      "text/html": [
       "<div>\n",
       "<style scoped>\n",
       "    .dataframe tbody tr th:only-of-type {\n",
       "        vertical-align: middle;\n",
       "    }\n",
       "\n",
       "    .dataframe tbody tr th {\n",
       "        vertical-align: top;\n",
       "    }\n",
       "\n",
       "    .dataframe thead th {\n",
       "        text-align: right;\n",
       "    }\n",
       "</style>\n",
       "<table border=\"1\" class=\"dataframe\">\n",
       "  <thead>\n",
       "    <tr style=\"text-align: right;\">\n",
       "      <th></th>\n",
       "      <th>0</th>\n",
       "      <th>1</th>\n",
       "    </tr>\n",
       "  </thead>\n",
       "  <tbody>\n",
       "    <tr>\n",
       "      <th>121</th>\n",
       "      <td>r=2048_2, alpha=3</td>\n",
       "      <td>0.021016</td>\n",
       "    </tr>\n",
       "    <tr>\n",
       "      <th>423</th>\n",
       "      <td>r=128_3, alpha=5</td>\n",
       "      <td>0.020995</td>\n",
       "    </tr>\n",
       "    <tr>\n",
       "      <th>138</th>\n",
       "      <td>r=128_3, alpha=4</td>\n",
       "      <td>0.020969</td>\n",
       "    </tr>\n",
       "    <tr>\n",
       "      <th>96</th>\n",
       "      <td>r=32_2, alpha=2</td>\n",
       "      <td>0.020865</td>\n",
       "    </tr>\n",
       "    <tr>\n",
       "      <th>559</th>\n",
       "      <td>r=1024_4, alpha=5</td>\n",
       "      <td>0.020860</td>\n",
       "    </tr>\n",
       "    <tr>\n",
       "      <th>12</th>\n",
       "      <td>r=128_2, alpha=2</td>\n",
       "      <td>0.020587</td>\n",
       "    </tr>\n",
       "    <tr>\n",
       "      <th>599</th>\n",
       "      <td>r=16_3, alpha=5</td>\n",
       "      <td>0.020093</td>\n",
       "    </tr>\n",
       "    <tr>\n",
       "      <th>79</th>\n",
       "      <td>r=128_4, alpha=5</td>\n",
       "      <td>0.020013</td>\n",
       "    </tr>\n",
       "    <tr>\n",
       "      <th>183</th>\n",
       "      <td>r=1024_4, alpha=5</td>\n",
       "      <td>0.019894</td>\n",
       "    </tr>\n",
       "    <tr>\n",
       "      <th>352</th>\n",
       "      <td>r=32_4, alpha=2</td>\n",
       "      <td>0.019844</td>\n",
       "    </tr>\n",
       "    <tr>\n",
       "      <th>256</th>\n",
       "      <td>r=32_4, alpha=2</td>\n",
       "      <td>0.019844</td>\n",
       "    </tr>\n",
       "    <tr>\n",
       "      <th>383</th>\n",
       "      <td>r=32_2, alpha=5</td>\n",
       "      <td>0.019710</td>\n",
       "    </tr>\n",
       "    <tr>\n",
       "      <th>568</th>\n",
       "      <td>r=32_2, alpha=2</td>\n",
       "      <td>0.019567</td>\n",
       "    </tr>\n",
       "    <tr>\n",
       "      <th>412</th>\n",
       "      <td>r=32_3, alpha=2</td>\n",
       "      <td>0.019567</td>\n",
       "    </tr>\n",
       "    <tr>\n",
       "      <th>444</th>\n",
       "      <td>r=32_4, alpha=2</td>\n",
       "      <td>0.019567</td>\n",
       "    </tr>\n",
       "    <tr>\n",
       "      <th>328</th>\n",
       "      <td>r=128_3, alpha=2</td>\n",
       "      <td>0.019420</td>\n",
       "    </tr>\n",
       "    <tr>\n",
       "      <th>446</th>\n",
       "      <td>r=32_4, alpha=4</td>\n",
       "      <td>0.019324</td>\n",
       "    </tr>\n",
       "    <tr>\n",
       "      <th>136</th>\n",
       "      <td>r=128_3, alpha=2</td>\n",
       "      <td>0.019286</td>\n",
       "    </tr>\n",
       "    <tr>\n",
       "      <th>120</th>\n",
       "      <td>r=2048_2, alpha=2</td>\n",
       "      <td>0.019286</td>\n",
       "    </tr>\n",
       "    <tr>\n",
       "      <th>170</th>\n",
       "      <td>r=128_4, alpha=4</td>\n",
       "      <td>0.019183</td>\n",
       "    </tr>\n",
       "    <tr>\n",
       "      <th>232</th>\n",
       "      <td>r=128_3, alpha=2</td>\n",
       "      <td>0.019154</td>\n",
       "    </tr>\n",
       "    <tr>\n",
       "      <th>497</th>\n",
       "      <td>r=1024_2, alpha=3</td>\n",
       "      <td>0.019026</td>\n",
       "    </tr>\n",
       "    <tr>\n",
       "      <th>67</th>\n",
       "      <td>r=16_4, alpha=5</td>\n",
       "      <td>0.019000</td>\n",
       "    </tr>\n",
       "    <tr>\n",
       "      <th>106</th>\n",
       "      <td>r=128_2, alpha=4</td>\n",
       "      <td>0.018978</td>\n",
       "    </tr>\n",
       "    <tr>\n",
       "      <th>104</th>\n",
       "      <td>r=128_2, alpha=2</td>\n",
       "      <td>0.018714</td>\n",
       "    </tr>\n",
       "    <tr>\n",
       "      <th>443</th>\n",
       "      <td>r=16_4, alpha=5</td>\n",
       "      <td>0.018649</td>\n",
       "    </tr>\n",
       "    <tr>\n",
       "      <th>134</th>\n",
       "      <td>r=64_3, alpha=4</td>\n",
       "      <td>0.018628</td>\n",
       "    </tr>\n",
       "    <tr>\n",
       "      <th>151</th>\n",
       "      <td>r=1024_3, alpha=5</td>\n",
       "      <td>0.018525</td>\n",
       "    </tr>\n",
       "    <tr>\n",
       "      <th>119</th>\n",
       "      <td>r=1024_2, alpha=5</td>\n",
       "      <td>0.018485</td>\n",
       "    </tr>\n",
       "    <tr>\n",
       "      <th>83</th>\n",
       "      <td>r=256_4, alpha=5</td>\n",
       "      <td>0.018039</td>\n",
       "    </tr>\n",
       "    <tr>\n",
       "      <th>7</th>\n",
       "      <td>r=32_2, alpha=5</td>\n",
       "      <td>0.018020</td>\n",
       "    </tr>\n",
       "    <tr>\n",
       "      <th>411</th>\n",
       "      <td>r=16_3, alpha=5</td>\n",
       "      <td>0.017664</td>\n",
       "    </tr>\n",
       "    <tr>\n",
       "      <th>492</th>\n",
       "      <td>r=512_2, alpha=2</td>\n",
       "      <td>0.017640</td>\n",
       "    </tr>\n",
       "    <tr>\n",
       "      <th>500</th>\n",
       "      <td>r=2048_2, alpha=2</td>\n",
       "      <td>0.017371</td>\n",
       "    </tr>\n",
       "    <tr>\n",
       "      <th>501</th>\n",
       "      <td>r=2048_2, alpha=3</td>\n",
       "      <td>0.017343</td>\n",
       "    </tr>\n",
       "    <tr>\n",
       "      <th>451</th>\n",
       "      <td>r=64_4, alpha=5</td>\n",
       "      <td>0.017242</td>\n",
       "    </tr>\n",
       "    <tr>\n",
       "      <th>11</th>\n",
       "      <td>r=64_2, alpha=5</td>\n",
       "      <td>0.017242</td>\n",
       "    </tr>\n",
       "    <tr>\n",
       "      <th>295</th>\n",
       "      <td>r=64_2, alpha=5</td>\n",
       "      <td>0.017214</td>\n",
       "    </tr>\n",
       "    <tr>\n",
       "      <th>199</th>\n",
       "      <td>r=64_2, alpha=5</td>\n",
       "      <td>0.017214</td>\n",
       "    </tr>\n",
       "    <tr>\n",
       "      <th>87</th>\n",
       "      <td>r=512_4, alpha=5</td>\n",
       "      <td>0.016904</td>\n",
       "    </tr>\n",
       "    <tr>\n",
       "      <th>463</th>\n",
       "      <td>r=512_4, alpha=5</td>\n",
       "      <td>0.016862</td>\n",
       "    </tr>\n",
       "    <tr>\n",
       "      <th>566</th>\n",
       "      <td>r=16_2, alpha=4</td>\n",
       "      <td>0.016804</td>\n",
       "    </tr>\n",
       "    <tr>\n",
       "      <th>2</th>\n",
       "      <td>r=16_2, alpha=4</td>\n",
       "      <td>0.016804</td>\n",
       "    </tr>\n",
       "    <tr>\n",
       "      <th>226</th>\n",
       "      <td>r=32_3, alpha=4</td>\n",
       "      <td>0.016624</td>\n",
       "    </tr>\n",
       "    <tr>\n",
       "      <th>322</th>\n",
       "      <td>r=32_3, alpha=4</td>\n",
       "      <td>0.016624</td>\n",
       "    </tr>\n",
       "    <tr>\n",
       "      <th>574</th>\n",
       "      <td>r=64_2, alpha=4</td>\n",
       "      <td>0.016551</td>\n",
       "    </tr>\n",
       "    <tr>\n",
       "      <th>36</th>\n",
       "      <td>r=32_3, alpha=2</td>\n",
       "      <td>0.016479</td>\n",
       "    </tr>\n",
       "    <tr>\n",
       "      <th>113</th>\n",
       "      <td>r=512_2, alpha=3</td>\n",
       "      <td>0.016461</td>\n",
       "    </tr>\n",
       "    <tr>\n",
       "      <th>576</th>\n",
       "      <td>r=128_2, alpha=2</td>\n",
       "      <td>0.016285</td>\n",
       "    </tr>\n",
       "    <tr>\n",
       "      <th>177</th>\n",
       "      <td>r=512_4, alpha=3</td>\n",
       "      <td>0.016189</td>\n",
       "    </tr>\n",
       "  </tbody>\n",
       "</table>\n",
       "</div>"
      ],
      "text/plain": [
       "                     0         1\n",
       "121  r=2048_2, alpha=3  0.021016\n",
       "423   r=128_3, alpha=5  0.020995\n",
       "138   r=128_3, alpha=4  0.020969\n",
       "96     r=32_2, alpha=2  0.020865\n",
       "559  r=1024_4, alpha=5  0.020860\n",
       "12    r=128_2, alpha=2  0.020587\n",
       "599    r=16_3, alpha=5  0.020093\n",
       "79    r=128_4, alpha=5  0.020013\n",
       "183  r=1024_4, alpha=5  0.019894\n",
       "352    r=32_4, alpha=2  0.019844\n",
       "256    r=32_4, alpha=2  0.019844\n",
       "383    r=32_2, alpha=5  0.019710\n",
       "568    r=32_2, alpha=2  0.019567\n",
       "412    r=32_3, alpha=2  0.019567\n",
       "444    r=32_4, alpha=2  0.019567\n",
       "328   r=128_3, alpha=2  0.019420\n",
       "446    r=32_4, alpha=4  0.019324\n",
       "136   r=128_3, alpha=2  0.019286\n",
       "120  r=2048_2, alpha=2  0.019286\n",
       "170   r=128_4, alpha=4  0.019183\n",
       "232   r=128_3, alpha=2  0.019154\n",
       "497  r=1024_2, alpha=3  0.019026\n",
       "67     r=16_4, alpha=5  0.019000\n",
       "106   r=128_2, alpha=4  0.018978\n",
       "104   r=128_2, alpha=2  0.018714\n",
       "443    r=16_4, alpha=5  0.018649\n",
       "134    r=64_3, alpha=4  0.018628\n",
       "151  r=1024_3, alpha=5  0.018525\n",
       "119  r=1024_2, alpha=5  0.018485\n",
       "83    r=256_4, alpha=5  0.018039\n",
       "7      r=32_2, alpha=5  0.018020\n",
       "411    r=16_3, alpha=5  0.017664\n",
       "492   r=512_2, alpha=2  0.017640\n",
       "500  r=2048_2, alpha=2  0.017371\n",
       "501  r=2048_2, alpha=3  0.017343\n",
       "451    r=64_4, alpha=5  0.017242\n",
       "11     r=64_2, alpha=5  0.017242\n",
       "295    r=64_2, alpha=5  0.017214\n",
       "199    r=64_2, alpha=5  0.017214\n",
       "87    r=512_4, alpha=5  0.016904\n",
       "463   r=512_4, alpha=5  0.016862\n",
       "566    r=16_2, alpha=4  0.016804\n",
       "2      r=16_2, alpha=4  0.016804\n",
       "226    r=32_3, alpha=4  0.016624\n",
       "322    r=32_3, alpha=4  0.016624\n",
       "574    r=64_2, alpha=4  0.016551\n",
       "36     r=32_3, alpha=2  0.016479\n",
       "113   r=512_2, alpha=3  0.016461\n",
       "576   r=128_2, alpha=2  0.016285\n",
       "177   r=512_4, alpha=3  0.016189"
      ]
     },
     "execution_count": 20,
     "metadata": {},
     "output_type": "execute_result"
    }
   ],
   "source": [
    "a.sort_values(1, ascending=False)[50:100]"
   ]
  },
  {
   "cell_type": "code",
   "execution_count": 106,
   "id": "9e995994",
   "metadata": {
    "ExecuteTime": {
     "end_time": "2023-06-04T10:22:09.347898Z",
     "start_time": "2023-06-04T10:22:09.316899Z"
    }
   },
   "outputs": [
    {
     "data": {
      "text/plain": [
       "[('r=2048_4, alpha=5', '0.08006050405465834'),\n",
       " ('r=1024_4, alpha=5', '0.06906227548698973'),\n",
       " ('r=512_4, alpha=4', '0.06774132007080674'),\n",
       " ('r=512_4, alpha=5', '0.06683603037755474'),\n",
       " ('r=1024_4, alpha=4', '0.06432299044197125'),\n",
       " ('r=2048_4, alpha=4', '0.06368332310920476'),\n",
       " ('r=16_2, alpha=4', '0.06158939998716154'),\n",
       " ('r=32_2, alpha=4', '0.05913887810007023'),\n",
       " ('r=512_3, alpha=5', '0.05849910811204143'),\n",
       " ('r=256_4, alpha=5', '0.0584251664330958'),\n",
       " ('r=512_2, alpha=5', '0.05759361216725765'),\n",
       " ('r=16_2, alpha=5', '0.05757598731659251'),\n",
       " ('r=128_4, alpha=5', '0.056602912569915106'),\n",
       " ('r=1024_4, alpha=3', '0.05587165927780897'),\n",
       " ('r=1024_3, alpha=5', '0.05465193656785819'),\n",
       " ('r=32_2, alpha=5', '0.05423558888356247'),\n",
       " ('r=128_4, alpha=4', '0.053889955426021346'),\n",
       " ('r=64_2, alpha=5', '0.0532994272543202'),\n",
       " ('r=32_3, alpha=4', '0.0532253243599625'),\n",
       " ('r=32_4, alpha=4', '0.0532253243599625'),\n",
       " ('r=64_3, alpha=4', '0.05260313634819217'),\n",
       " ('r=64_3, alpha=5', '0.052570103268912975'),\n",
       " ('r=16_3, alpha=5', '0.05227897625216676'),\n",
       " ('r=128_3, alpha=4', '0.051106494708345065'),\n",
       " ('r=1024_2, alpha=5', '0.05084738659964351'),\n",
       " ('r=2048_4, alpha=3', '0.04953321418252907'),\n",
       " ('r=1024_4, alpha=2', '0.049103158069704646'),\n",
       " ('r=128_2, alpha=4', '0.049075187034565246'),\n",
       " ('r=128_2, alpha=5', '0.04902155915012927'),\n",
       " ('r=16_3, alpha=4', '0.04900788906891029'),\n",
       " ('r=1024_3, alpha=4', '0.04896983605907567'),\n",
       " ('r=64_4, alpha=4', '0.047776617305340524'),\n",
       " ('r=128_3, alpha=5', '0.04741451673657568'),\n",
       " ('r=16_4, alpha=4', '0.0470608593311633'),\n",
       " ('r=256_4, alpha=4', '0.047023210721006556'),\n",
       " ('r=64_4, alpha=5', '0.04680180794123239'),\n",
       " ('r=1024_3, alpha=3', '0.046482487884663234'),\n",
       " ('r=512_4, alpha=3', '0.04640138328787072'),\n",
       " ('r=1024_2, alpha=3', '0.04600582000594648'),\n",
       " ('r=64_2, alpha=4', '0.0459439434000059'),\n",
       " ('r=2048_2, alpha=5', '0.044370699861050376'),\n",
       " ('r=256_2, alpha=5', '0.04418634619821034'),\n",
       " ('r=32_3, alpha=5', '0.042377916679083825'),\n",
       " ('r=2048_3, alpha=5', '0.0409184099454734'),\n",
       " ('r=2048_3, alpha=3', '0.04060142771480043'),\n",
       " ('r=16_2, alpha=3', '0.040076743955543906'),\n",
       " ('r=1024_2, alpha=4', '0.03965597470683389'),\n",
       " ('r=1024_3, alpha=2', '0.03950032999531834'),\n",
       " ('r=128_2, alpha=3', '0.03929282065478021'),\n",
       " ('r=1024_2, alpha=2', '0.039208635558598375'),\n",
       " ('r=16_4, alpha=5', '0.0388275214760734'),\n",
       " ('r=512_3, alpha=4', '0.0385269519374542'),\n",
       " ('r=512_2, alpha=4', '0.038305861309163934'),\n",
       " ('r=2048_2, alpha=3', '0.03828771498295395'),\n",
       " ('r=256_3, alpha=5', '0.03819283742471612'),\n",
       " ('r=128_4, alpha=3', '0.0373783026701484'),\n",
       " ('r=32_4, alpha=5', '0.03691786646032869'),\n",
       " ('r=2048_4, alpha=2', '0.03675108198182928'),\n",
       " ('r=2048_3, alpha=4', '0.03667690488288051'),\n",
       " ('r=32_2, alpha=3', '0.035421420880785155'),\n",
       " ('r=512_3, alpha=2', '0.035264363789816594'),\n",
       " ('r=256_4, alpha=3', '0.03524618191679341'),\n",
       " ('r=16_3, alpha=3', '0.034659888662080654'),\n",
       " ('r=64_3, alpha=2', '0.03462142935312797'),\n",
       " ('r=256_4, alpha=2', '0.03433492781207439'),\n",
       " ('r=64_3, alpha=3', '0.03422641835848786'),\n",
       " ('r=32_3, alpha=2', '0.03416002278837388'),\n",
       " ('r=64_4, alpha=2', '0.03397597206659515'),\n",
       " ('r=32_2, alpha=2', '0.03382478058888707'),\n",
       " ('r=64_2, alpha=2', '0.03332144565500058'),\n",
       " ('r=256_2, alpha=4', '0.032053967942324284'),\n",
       " ('r=64_2, alpha=3', '0.03197500088287847'),\n",
       " ('r=512_4, alpha=2', '0.03127543304358368'),\n",
       " ('r=32_3, alpha=3', '0.031250715106698086'),\n",
       " ('r=32_4, alpha=3', '0.031250715106698086'),\n",
       " ('r=16_2, alpha=2', '0.030674511876551857'),\n",
       " ('r=128_3, alpha=3', '0.03066927885836588'),\n",
       " ('r=2048_2, alpha=4', '0.030347956183205002'),\n",
       " ('r=16_4, alpha=2', '0.02937577329776604'),\n",
       " ('r=512_3, alpha=3', '0.02908740602465656'),\n",
       " ('r=256_3, alpha=4', '0.02805225320836148'),\n",
       " ('r=16_4, alpha=3', '0.027539845234628768'),\n",
       " ('r=32_4, alpha=2', '0.027513683186778833'),\n",
       " ('r=16_3, alpha=2', '0.027234708204132284'),\n",
       " ('r=128_2, alpha=2', '0.026295803422460188'),\n",
       " ('r=256_2, alpha=2', '0.026219664136334853'),\n",
       " ('r=128_3, alpha=2', '0.02594091823458778'),\n",
       " ('r=512_2, alpha=3', '0.025470179397342262'),\n",
       " ('r=256_2, alpha=3', '0.024202951809637607'),\n",
       " ('r=256_3, alpha=2', '0.02254190100968023'),\n",
       " ('r=512_2, alpha=2', '0.02215139787850423'),\n",
       " ('r=128_4, alpha=2', '0.022045409668243504'),\n",
       " ('r=2048_3, alpha=2', '0.021264641435117596'),\n",
       " ('r=64_4, alpha=3', '0.02030609651732103'),\n",
       " ('r=256_3, alpha=3', '0.01923728802833238'),\n",
       " ('r=2048_2, alpha=2', '0.016040493356136026')]"
      ]
     },
     "execution_count": 106,
     "metadata": {},
     "output_type": "execute_result"
    }
   ],
   "source": [
    "sorted(res.items(), key=lambda x: x[1], reverse=True)"
   ]
  },
  {
   "cell_type": "code",
   "execution_count": null,
   "id": "bfc17a77",
   "metadata": {},
   "outputs": [],
   "source": []
  }
 ],
 "metadata": {
  "kernelspec": {
   "display_name": "Python 3 (ipykernel)",
   "language": "python",
   "name": "python3"
  },
  "language_info": {
   "codemirror_mode": {
    "name": "ipython",
    "version": 3
   },
   "file_extension": ".py",
   "mimetype": "text/x-python",
   "name": "python",
   "nbconvert_exporter": "python",
   "pygments_lexer": "ipython3",
   "version": "3.9.13"
  },
  "toc": {
   "base_numbering": 1,
   "nav_menu": {},
   "number_sections": true,
   "sideBar": true,
   "skip_h1_title": false,
   "title_cell": "Table of Contents",
   "title_sidebar": "Contents",
   "toc_cell": false,
   "toc_position": {
    "height": "calc(100% - 180px)",
    "left": "10px",
    "top": "150px",
    "width": "341.306px"
   },
   "toc_section_display": true,
   "toc_window_display": true
  },
  "varInspector": {
   "cols": {
    "lenName": 16,
    "lenType": 16,
    "lenVar": 40
   },
   "kernels_config": {
    "python": {
     "delete_cmd_postfix": "",
     "delete_cmd_prefix": "del ",
     "library": "var_list.py",
     "varRefreshCmd": "print(var_dic_list())"
    },
    "r": {
     "delete_cmd_postfix": ") ",
     "delete_cmd_prefix": "rm(",
     "library": "var_list.r",
     "varRefreshCmd": "cat(var_dic_list()) "
    }
   },
   "types_to_exclude": [
    "module",
    "function",
    "builtin_function_or_method",
    "instance",
    "_Feature"
   ],
   "window_display": false
  }
 },
 "nbformat": 4,
 "nbformat_minor": 5
}
