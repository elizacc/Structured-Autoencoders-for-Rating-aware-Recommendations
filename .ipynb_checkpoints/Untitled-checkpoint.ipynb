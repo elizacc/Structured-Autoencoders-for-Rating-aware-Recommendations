{
 "cells": [
  {
   "cell_type": "code",
   "execution_count": 1,
   "id": "1a5c7438",
   "metadata": {
    "ExecuteTime": {
     "end_time": "2023-05-28T13:06:15.308092Z",
     "start_time": "2023-05-28T13:06:09.525638Z"
    }
   },
   "outputs": [
    {
     "name": "stdout",
     "output_type": "stream",
     "text": [
      "There are 24303 users\n",
      "Filtered 17693 invalid observations.\n"
     ]
    }
   ],
   "source": [
    "# %%\n",
    "import numpy as np\n",
    "import pandas as pd\n",
    "import matplotlib.pyplot as plt\n",
    "from tqdm.notebook import tqdm\n",
    "\n",
    "from polara.lib.tensor import hooi\n",
    "from polara.lib.sparse import tensor_outer_at\n",
    "\n",
    "from dataprep import full_preproccessing\n",
    "from utils import *\n",
    "# from RecVAE.utils import *\n",
    "# from RecVAE.model import VAE as RecVAE\n",
    "\n",
    "# %%\n",
    "def set_random_seed(seed):\n",
    "    np.random.seed(seed)\n",
    "set_random_seed(42)\n",
    "\n",
    "# %%\n",
    "data = pd.read_csv('Amazon_Video_Games.csv')\n",
    "data.rename(columns={'reviewerID': 'userid', 'asin': 'movieid', \"overall\": \"rating\", \"unixReviewTime\": \"timestamp\"},\n",
    "            inplace=True)\n",
    "\n",
    "training, testset_valid, holdout_valid, testset, holdout, data_description, data_index = full_preproccessing(data)"
   ]
  },
  {
   "cell_type": "code",
   "execution_count": 2,
   "id": "cfaff213",
   "metadata": {
    "ExecuteTime": {
     "end_time": "2023-05-28T13:06:16.835795Z",
     "start_time": "2023-05-28T13:06:16.809794Z"
    },
    "code_folding": [
     0,
     24,
     54
    ]
   },
   "outputs": [],
   "source": [
    "def tf_model_build(config, data, data_description):\n",
    "    userid = data_description[\"users\"]\n",
    "    itemid = data_description[\"items\"]\n",
    "    feedback = data_description[\"feedback\"]\n",
    "\n",
    "    idx = data[[userid, itemid, feedback]].values\n",
    "    idx[:, -1] = idx[:, -1] - data_description['min_rating'] # works only for integer ratings!\n",
    "    val = np.ones(idx.shape[0], dtype='f8')\n",
    "\n",
    "    n_users = data_description[\"n_users\"]\n",
    "    n_items = data_description[\"n_items\"]\n",
    "    n_ratings = data_description[\"n_ratings\"]\n",
    "    shape = (n_users, n_items, n_ratings)\n",
    "    core_shape = config['mlrank']\n",
    "    num_iters = config[\"num_iters\"]\n",
    "\n",
    "    u0, u1, u2, g = hooi(\n",
    "        idx, val, shape, core_shape,\n",
    "        num_iters=num_iters,\n",
    "        parallel_ttm=False, growth_tol=0.01,\n",
    "    )\n",
    "    return u0, u1, u2\n",
    "\n",
    "\n",
    "def tf_scoring(params, data, data_description):\n",
    "    user_factors, item_factors, feedback_factors = params\n",
    "    userid = data_description[\"users\"]\n",
    "    itemid = data_description[\"items\"]\n",
    "    feedback = data_description[\"feedback\"]\n",
    "\n",
    "    data = data.sort_values(userid)\n",
    "    useridx = data[userid].values\n",
    "    itemidx = data[itemid].values\n",
    "    ratings = data[feedback].values\n",
    "    ratings = ratings - data_description['min_rating'] # works only for integer ratings!\n",
    "\n",
    "    tensor_outer = tensor_outer_at('cpu')\n",
    "    # use the fact that test data is sorted by users for reduction:\n",
    "    scores = tensor_outer(\n",
    "        1.0,\n",
    "        item_factors,\n",
    "        feedback_factors,\n",
    "        itemidx,\n",
    "        ratings\n",
    "    )\n",
    "    scores = np.add.reduceat(scores, np.r_[0, np.where(np.diff(useridx))[0]+1])\n",
    "    scores = np.tensordot(\n",
    "        scores,\n",
    "        feedback_factors[-1, :],\n",
    "        axes=(2, 0)\n",
    "    ).dot(item_factors.T)\n",
    "    return scores\n",
    "\n",
    "# %%\n",
    "config = {\n",
    "    \"scaling\": 1,\n",
    "    \"n_ratings\": data_description['n_ratings'],\n",
    "    \"num_iters\": 4,\n",
    "    \"params\": None,\n",
    "    \"randomized\": True,\n",
    "    \"growth_tol\": 1e-4,\n",
    "    \"seed\": 42\n",
    "}"
   ]
  },
  {
   "cell_type": "code",
   "execution_count": 3,
   "id": "566ab395",
   "metadata": {
    "ExecuteTime": {
     "end_time": "2023-05-28T13:06:17.273809Z",
     "start_time": "2023-05-28T13:06:17.251809Z"
    }
   },
   "outputs": [],
   "source": [
    "train_val = pd.concat((training, testset_valid, holdout_valid))"
   ]
  },
  {
   "cell_type": "code",
   "execution_count": 4,
   "id": "8ff8b3ee",
   "metadata": {
    "ExecuteTime": {
     "end_time": "2023-05-28T13:06:17.548811Z",
     "start_time": "2023-05-28T13:06:17.527795Z"
    }
   },
   "outputs": [],
   "source": [
    "data_description = dict(\n",
    "    users = data_index['users'].name,\n",
    "    items = data_index['items'].name,\n",
    "    feedback = 'rating',\n",
    "    n_users = len(data_index['users']),\n",
    "    n_items = len(data_index['items']),\n",
    "    n_ratings = training['rating'].nunique(),\n",
    "    min_rating = training['rating'].min(),\n",
    "    test_users = holdout[data_index['users'].name].drop_duplicates().values,\n",
    "    n_test_users = holdout[data_index['users'].name].nunique()\n",
    ")"
   ]
  },
  {
   "cell_type": "code",
   "execution_count": null,
   "id": "182a0964",
   "metadata": {
    "ExecuteTime": {
     "start_time": "2023-05-28T13:04:52.209Z"
    }
   },
   "outputs": [],
   "source": [
    "config['mlrank'] = (1024, 1024, 2)\n",
    "tf_params = tf_model_build(config, train_val, data_description)\n",
    "seen_data = testset\n",
    "tf_scores = tf_scoring(tf_params, seen_data, data_description)\n",
    "downvote_seen_items(tf_scores, seen_data, data_description)\n",
    "\n",
    "make_prediction(tf_scores, holdout, data_description, dcg=True, alpha=2)\n",
    "make_prediction(tf_scores, holdout, data_description, dcg=True, alpha=3)\n",
    "make_prediction(tf_scores, holdout, data_description, dcg=True, alpha=4)\n",
    "make_prediction(tf_scores, holdout, data_description, dcg=True, alpha=5)"
   ]
  },
  {
   "cell_type": "code",
   "execution_count": null,
   "id": "8e23f7d2",
   "metadata": {
    "ExecuteTime": {
     "start_time": "2023-05-28T13:06:19.469Z"
    }
   },
   "outputs": [],
   "source": [
    "config['mlrank'] = (128, 128, 2)\n",
    "tf_params = tf_model_build(config, train_val, data_description)\n",
    "seen_data = testset\n",
    "tf_scores = tf_scoring(tf_params, seen_data, data_description)\n",
    "downvote_seen_items(tf_scores, seen_data, data_description)\n",
    "\n",
    "make_prediction(tf_scores, holdout, data_description, dcg=True, alpha=2)\n",
    "make_prediction(tf_scores, holdout, data_description, dcg=True, alpha=3)\n",
    "make_prediction(tf_scores, holdout, data_description, dcg=True, alpha=4)\n",
    "make_prediction(tf_scores, holdout, data_description, dcg=True, alpha=5)"
   ]
  },
  {
   "cell_type": "code",
   "execution_count": null,
   "id": "fed0cd24",
   "metadata": {},
   "outputs": [],
   "source": []
  }
 ],
 "metadata": {
  "kernelspec": {
   "display_name": "Python 3 (ipykernel)",
   "language": "python",
   "name": "python3"
  },
  "language_info": {
   "codemirror_mode": {
    "name": "ipython",
    "version": 3
   },
   "file_extension": ".py",
   "mimetype": "text/x-python",
   "name": "python",
   "nbconvert_exporter": "python",
   "pygments_lexer": "ipython3",
   "version": "3.9.13"
  },
  "toc": {
   "base_numbering": 1,
   "nav_menu": {},
   "number_sections": true,
   "sideBar": true,
   "skip_h1_title": false,
   "title_cell": "Table of Contents",
   "title_sidebar": "Contents",
   "toc_cell": false,
   "toc_position": {},
   "toc_section_display": true,
   "toc_window_display": false
  },
  "varInspector": {
   "cols": {
    "lenName": 16,
    "lenType": 16,
    "lenVar": 40
   },
   "kernels_config": {
    "python": {
     "delete_cmd_postfix": "",
     "delete_cmd_prefix": "del ",
     "library": "var_list.py",
     "varRefreshCmd": "print(var_dic_list())"
    },
    "r": {
     "delete_cmd_postfix": ") ",
     "delete_cmd_prefix": "rm(",
     "library": "var_list.r",
     "varRefreshCmd": "cat(var_dic_list()) "
    }
   },
   "types_to_exclude": [
    "module",
    "function",
    "builtin_function_or_method",
    "instance",
    "_Feature"
   ],
   "window_display": false
  }
 },
 "nbformat": 4,
 "nbformat_minor": 5
}
