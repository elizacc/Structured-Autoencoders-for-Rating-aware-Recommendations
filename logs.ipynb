{
 "cells": [
  {
   "cell_type": "code",
   "execution_count": 95,
   "id": "6104c075",
   "metadata": {
    "ExecuteTime": {
     "end_time": "2023-05-29T15:18:52.572775Z",
     "start_time": "2023-05-29T15:18:52.537960Z"
    }
   },
   "outputs": [],
   "source": [
    "import pandas as pd"
   ]
  },
  {
   "cell_type": "markdown",
   "id": "2870e067",
   "metadata": {},
   "source": [
    "## Base tuning"
   ]
  },
  {
   "cell_type": "code",
   "execution_count": 244,
   "id": "938257d3",
   "metadata": {
    "ExecuteTime": {
     "end_time": "2023-05-29T17:54:41.705061Z",
     "start_time": "2023-05-29T17:54:41.682930Z"
    }
   },
   "outputs": [],
   "source": [
    "with open('logs_video1.txt') as f:\n",
    "    lines1 = f.readlines()"
   ]
  },
  {
   "cell_type": "code",
   "execution_count": 245,
   "id": "b88aa942",
   "metadata": {
    "ExecuteTime": {
     "end_time": "2023-05-29T17:54:41.896061Z",
     "start_time": "2023-05-29T17:54:41.886062Z"
    }
   },
   "outputs": [],
   "source": [
    "with open('logs_video2.txt') as f:\n",
    "    lines2 = f.readlines()"
   ]
  },
  {
   "cell_type": "code",
   "execution_count": 246,
   "id": "f75ccb6c",
   "metadata": {
    "ExecuteTime": {
     "end_time": "2023-05-29T17:54:42.210060Z",
     "start_time": "2023-05-29T17:54:42.183061Z"
    }
   },
   "outputs": [],
   "source": [
    "with open('logs_video3.txt') as f:\n",
    "    lines3 = f.readlines()"
   ]
  },
  {
   "cell_type": "code",
   "execution_count": 247,
   "id": "ddd18789",
   "metadata": {
    "ExecuteTime": {
     "end_time": "2023-05-29T17:54:42.496212Z",
     "start_time": "2023-05-29T17:54:42.491212Z"
    }
   },
   "outputs": [],
   "source": [
    "lines = lines1 + lines2 + lines3"
   ]
  },
  {
   "cell_type": "code",
   "execution_count": 248,
   "id": "466092b6",
   "metadata": {
    "ExecuteTime": {
     "end_time": "2023-05-29T17:54:42.854217Z",
     "start_time": "2023-05-29T17:54:42.809212Z"
    }
   },
   "outputs": [],
   "source": [
    "alpha = 5\n",
    "models = []\n",
    "keys = []\n",
    "alphas = []\n",
    "topks = []\n",
    "mcs = []\n",
    "hrs = []\n",
    "for line in lines:\n",
    "    if 'Model' in line:\n",
    "        model = line.split(':')[-1].strip()\n",
    "    if 'Hidden' in line:\n",
    "        for i in range(alpha-1):\n",
    "            for n in [5,10,20]:\n",
    "                keys.append(line.split(':')[-1].strip())\n",
    "                models.append(model)\n",
    "                alphas.append(i+2)\n",
    "                topks.append(n)\n",
    "    if 'HR' in line:\n",
    "        mcs.append(float(line.split(':')[-1].strip()))\n",
    "        hrs.append(float(line.split(':')[1].strip().split(', ')[0]))"
   ]
  },
  {
   "cell_type": "code",
   "execution_count": 249,
   "id": "86850710",
   "metadata": {
    "ExecuteTime": {
     "end_time": "2023-05-29T17:54:44.023586Z",
     "start_time": "2023-05-29T17:54:44.005578Z"
    }
   },
   "outputs": [],
   "source": [
    "batches = np.array([[2**i] * (len(keys) // 6) for i in range(4,10)]).flatten()"
   ]
  },
  {
   "cell_type": "code",
   "execution_count": 252,
   "id": "1247ce06",
   "metadata": {
    "ExecuteTime": {
     "end_time": "2023-05-29T17:54:52.864266Z",
     "start_time": "2023-05-29T17:54:52.742255Z"
    }
   },
   "outputs": [],
   "source": [
    "res = pd.DataFrame([models, batches, keys, alphas, topks, mcs, hrs]).T\n",
    "res.columns = ['model', 'batch_size', 'hidden_size', 'alpha', 'top_k', 'mcc', 'hr']"
   ]
  },
  {
   "cell_type": "code",
   "execution_count": 253,
   "id": "6b5b9354",
   "metadata": {
    "ExecuteTime": {
     "end_time": "2023-05-29T17:54:53.317885Z",
     "start_time": "2023-05-29T17:54:53.306889Z"
    }
   },
   "outputs": [
    {
     "data": {
      "text/html": [
       "<div>\n",
       "<style scoped>\n",
       "    .dataframe tbody tr th:only-of-type {\n",
       "        vertical-align: middle;\n",
       "    }\n",
       "\n",
       "    .dataframe tbody tr th {\n",
       "        vertical-align: top;\n",
       "    }\n",
       "\n",
       "    .dataframe thead th {\n",
       "        text-align: right;\n",
       "    }\n",
       "</style>\n",
       "<table border=\"1\" class=\"dataframe\">\n",
       "  <thead>\n",
       "    <tr style=\"text-align: right;\">\n",
       "      <th></th>\n",
       "      <th>model</th>\n",
       "      <th>batch_size</th>\n",
       "      <th>hidden_size</th>\n",
       "      <th>alpha</th>\n",
       "      <th>top_k</th>\n",
       "      <th>mcc</th>\n",
       "      <th>hr</th>\n",
       "    </tr>\n",
       "  </thead>\n",
       "  <tbody>\n",
       "    <tr>\n",
       "      <th>0</th>\n",
       "      <td>triangular matrix</td>\n",
       "      <td>16</td>\n",
       "      <td>(16, 3)</td>\n",
       "      <td>2</td>\n",
       "      <td>5</td>\n",
       "      <td>0.008778</td>\n",
       "      <td>0.001752</td>\n",
       "    </tr>\n",
       "    <tr>\n",
       "      <th>1</th>\n",
       "      <td>triangular matrix</td>\n",
       "      <td>16</td>\n",
       "      <td>(16, 3)</td>\n",
       "      <td>2</td>\n",
       "      <td>10</td>\n",
       "      <td>0.016288</td>\n",
       "      <td>0.006008</td>\n",
       "    </tr>\n",
       "    <tr>\n",
       "      <th>2</th>\n",
       "      <td>triangular matrix</td>\n",
       "      <td>16</td>\n",
       "      <td>(16, 3)</td>\n",
       "      <td>2</td>\n",
       "      <td>20</td>\n",
       "      <td>0.020803</td>\n",
       "      <td>0.009762</td>\n",
       "    </tr>\n",
       "    <tr>\n",
       "      <th>3</th>\n",
       "      <td>triangular matrix</td>\n",
       "      <td>16</td>\n",
       "      <td>(16, 3)</td>\n",
       "      <td>3</td>\n",
       "      <td>5</td>\n",
       "      <td>0.01286</td>\n",
       "      <td>0.001752</td>\n",
       "    </tr>\n",
       "    <tr>\n",
       "      <th>4</th>\n",
       "      <td>triangular matrix</td>\n",
       "      <td>16</td>\n",
       "      <td>(16, 3)</td>\n",
       "      <td>3</td>\n",
       "      <td>10</td>\n",
       "      <td>0.023863</td>\n",
       "      <td>0.006008</td>\n",
       "    </tr>\n",
       "  </tbody>\n",
       "</table>\n",
       "</div>"
      ],
      "text/plain": [
       "               model batch_size hidden_size alpha top_k       mcc        hr\n",
       "0  triangular matrix         16     (16, 3)     2     5  0.008778  0.001752\n",
       "1  triangular matrix         16     (16, 3)     2    10  0.016288  0.006008\n",
       "2  triangular matrix         16     (16, 3)     2    20  0.020803  0.009762\n",
       "3  triangular matrix         16     (16, 3)     3     5   0.01286  0.001752\n",
       "4  triangular matrix         16     (16, 3)     3    10  0.023863  0.006008"
      ]
     },
     "execution_count": 253,
     "metadata": {},
     "output_type": "execute_result"
    }
   ],
   "source": [
    "res.head()"
   ]
  },
  {
   "cell_type": "code",
   "execution_count": 254,
   "id": "3234b1fa",
   "metadata": {
    "ExecuteTime": {
     "end_time": "2023-05-29T17:54:54.566270Z",
     "start_time": "2023-05-29T17:54:54.556129Z"
    }
   },
   "outputs": [],
   "source": [
    "best = res.groupby('alpha')['mcc'].max()"
   ]
  },
  {
   "cell_type": "code",
   "execution_count": 255,
   "id": "7e0341e6",
   "metadata": {
    "ExecuteTime": {
     "end_time": "2023-05-29T17:54:54.897458Z",
     "start_time": "2023-05-29T17:54:54.884475Z"
    }
   },
   "outputs": [
    {
     "data": {
      "text/plain": [
       "alpha\n",
       "2    0.046070\n",
       "3    0.058639\n",
       "4    0.050983\n",
       "5    0.046907\n",
       "Name: mcc, dtype: float64"
      ]
     },
     "execution_count": 255,
     "metadata": {},
     "output_type": "execute_result"
    }
   ],
   "source": [
    "best"
   ]
  },
  {
   "cell_type": "code",
   "execution_count": 258,
   "id": "39f52aa0",
   "metadata": {
    "ExecuteTime": {
     "end_time": "2023-05-29T17:55:38.567517Z",
     "start_time": "2023-05-29T17:55:38.544518Z"
    }
   },
   "outputs": [
    {
     "data": {
      "text/html": [
       "<div>\n",
       "<style scoped>\n",
       "    .dataframe tbody tr th:only-of-type {\n",
       "        vertical-align: middle;\n",
       "    }\n",
       "\n",
       "    .dataframe tbody tr th {\n",
       "        vertical-align: top;\n",
       "    }\n",
       "\n",
       "    .dataframe thead th {\n",
       "        text-align: right;\n",
       "    }\n",
       "</style>\n",
       "<table border=\"1\" class=\"dataframe\">\n",
       "  <thead>\n",
       "    <tr style=\"text-align: right;\">\n",
       "      <th></th>\n",
       "      <th>model</th>\n",
       "      <th>batch_size</th>\n",
       "      <th>hidden_size</th>\n",
       "      <th>alpha</th>\n",
       "      <th>top_k</th>\n",
       "      <th>mcc</th>\n",
       "      <th>hr</th>\n",
       "    </tr>\n",
       "  </thead>\n",
       "  <tbody>\n",
       "    <tr>\n",
       "      <th>973</th>\n",
       "      <td>triangular matrix</td>\n",
       "      <td>32</td>\n",
       "      <td>(1024, 3)</td>\n",
       "      <td>2</td>\n",
       "      <td>10</td>\n",
       "      <td>0.034085</td>\n",
       "      <td>0.025782</td>\n",
       "    </tr>\n",
       "    <tr>\n",
       "      <th>1549</th>\n",
       "      <td>square root matrix</td>\n",
       "      <td>32</td>\n",
       "      <td>(32, 5)</td>\n",
       "      <td>2</td>\n",
       "      <td>10</td>\n",
       "      <td>0.030141</td>\n",
       "      <td>0.020275</td>\n",
       "    </tr>\n",
       "    <tr>\n",
       "      <th>469</th>\n",
       "      <td>triangular matrix</td>\n",
       "      <td>16</td>\n",
       "      <td>(1024, 3)</td>\n",
       "      <td>2</td>\n",
       "      <td>10</td>\n",
       "      <td>0.029951</td>\n",
       "      <td>0.020025</td>\n",
       "    </tr>\n",
       "    <tr>\n",
       "      <th>1765</th>\n",
       "      <td>square root matrix</td>\n",
       "      <td>32</td>\n",
       "      <td>(16, 5)</td>\n",
       "      <td>2</td>\n",
       "      <td>10</td>\n",
       "      <td>0.028049</td>\n",
       "      <td>0.01577</td>\n",
       "    </tr>\n",
       "    <tr>\n",
       "      <th>2473</th>\n",
       "      <td>square root matrix</td>\n",
       "      <td>64</td>\n",
       "      <td>(512, 5)</td>\n",
       "      <td>2</td>\n",
       "      <td>10</td>\n",
       "      <td>0.007389</td>\n",
       "      <td>0.012265</td>\n",
       "    </tr>\n",
       "    <tr>\n",
       "      <th>...</th>\n",
       "      <td>...</td>\n",
       "      <td>...</td>\n",
       "      <td>...</td>\n",
       "      <td>...</td>\n",
       "      <td>...</td>\n",
       "      <td>...</td>\n",
       "      <td>...</td>\n",
       "    </tr>\n",
       "    <tr>\n",
       "      <th>1273</th>\n",
       "      <td>triangular matrix</td>\n",
       "      <td>32</td>\n",
       "      <td>(16, 4)</td>\n",
       "      <td>2</td>\n",
       "      <td>10</td>\n",
       "      <td>NaN</td>\n",
       "      <td>0.0</td>\n",
       "    </tr>\n",
       "    <tr>\n",
       "      <th>5569</th>\n",
       "      <td>encoder and decoder layers different</td>\n",
       "      <td>512</td>\n",
       "      <td>(32, 4)</td>\n",
       "      <td>2</td>\n",
       "      <td>10</td>\n",
       "      <td>None</td>\n",
       "      <td>None</td>\n",
       "    </tr>\n",
       "    <tr>\n",
       "      <th>5581</th>\n",
       "      <td>encoder and decoder layers different</td>\n",
       "      <td>512</td>\n",
       "      <td>(32, 5)</td>\n",
       "      <td>2</td>\n",
       "      <td>10</td>\n",
       "      <td>None</td>\n",
       "      <td>None</td>\n",
       "    </tr>\n",
       "    <tr>\n",
       "      <th>5593</th>\n",
       "      <td>encoder and decoder layers different</td>\n",
       "      <td>512</td>\n",
       "      <td>(64, 3)</td>\n",
       "      <td>2</td>\n",
       "      <td>10</td>\n",
       "      <td>None</td>\n",
       "      <td>None</td>\n",
       "    </tr>\n",
       "    <tr>\n",
       "      <th>5605</th>\n",
       "      <td>encoder and decoder layers different</td>\n",
       "      <td>512</td>\n",
       "      <td>(64, 4)</td>\n",
       "      <td>2</td>\n",
       "      <td>10</td>\n",
       "      <td>None</td>\n",
       "      <td>None</td>\n",
       "    </tr>\n",
       "  </tbody>\n",
       "</table>\n",
       "<p>468 rows × 7 columns</p>\n",
       "</div>"
      ],
      "text/plain": [
       "                                     model batch_size hidden_size alpha top_k  \\\n",
       "973                      triangular matrix         32   (1024, 3)     2    10   \n",
       "1549                    square root matrix         32     (32, 5)     2    10   \n",
       "469                      triangular matrix         16   (1024, 3)     2    10   \n",
       "1765                    square root matrix         32     (16, 5)     2    10   \n",
       "2473                    square root matrix         64    (512, 5)     2    10   \n",
       "...                                    ...        ...         ...   ...   ...   \n",
       "1273                     triangular matrix         32     (16, 4)     2    10   \n",
       "5569  encoder and decoder layers different        512     (32, 4)     2    10   \n",
       "5581  encoder and decoder layers different        512     (32, 5)     2    10   \n",
       "5593  encoder and decoder layers different        512     (64, 3)     2    10   \n",
       "5605  encoder and decoder layers different        512     (64, 4)     2    10   \n",
       "\n",
       "           mcc        hr  \n",
       "973   0.034085  0.025782  \n",
       "1549  0.030141  0.020275  \n",
       "469   0.029951  0.020025  \n",
       "1765  0.028049   0.01577  \n",
       "2473  0.007389  0.012265  \n",
       "...        ...       ...  \n",
       "1273       NaN       0.0  \n",
       "5569      None      None  \n",
       "5581      None      None  \n",
       "5593      None      None  \n",
       "5605      None      None  \n",
       "\n",
       "[468 rows x 7 columns]"
      ]
     },
     "execution_count": 258,
     "metadata": {},
     "output_type": "execute_result"
    }
   ],
   "source": [
    "res[(res['alpha']==2)&(res['top_k']==10)].sort_values('hr', ascending=False)"
   ]
  },
  {
   "cell_type": "code",
   "execution_count": 206,
   "id": "bbce7b52",
   "metadata": {
    "ExecuteTime": {
     "end_time": "2023-05-29T17:27:29.012692Z",
     "start_time": "2023-05-29T17:27:28.992704Z"
    }
   },
   "outputs": [
    {
     "data": {
      "text/html": [
       "<div>\n",
       "<style scoped>\n",
       "    .dataframe tbody tr th:only-of-type {\n",
       "        vertical-align: middle;\n",
       "    }\n",
       "\n",
       "    .dataframe tbody tr th {\n",
       "        vertical-align: top;\n",
       "    }\n",
       "\n",
       "    .dataframe thead th {\n",
       "        text-align: right;\n",
       "    }\n",
       "</style>\n",
       "<table border=\"1\" class=\"dataframe\">\n",
       "  <thead>\n",
       "    <tr style=\"text-align: right;\">\n",
       "      <th></th>\n",
       "      <th>batch_size</th>\n",
       "      <th>hidden_size</th>\n",
       "      <th>alpha</th>\n",
       "      <th>top_k</th>\n",
       "      <th>mcc</th>\n",
       "    </tr>\n",
       "  </thead>\n",
       "  <tbody>\n",
       "    <tr>\n",
       "      <th>1549</th>\n",
       "      <td>512</td>\n",
       "      <td>(512, 3)</td>\n",
       "      <td>2</td>\n",
       "      <td>10</td>\n",
       "      <td>0.024323</td>\n",
       "    </tr>\n",
       "  </tbody>\n",
       "</table>\n",
       "</div>"
      ],
      "text/plain": [
       "     batch_size hidden_size alpha top_k       mcc\n",
       "1549        512    (512, 3)     2    10  0.024323"
      ]
     },
     "execution_count": 206,
     "metadata": {},
     "output_type": "execute_result"
    }
   ],
   "source": [
    "res[res['mcc']==best.loc[2]]"
   ]
  },
  {
   "cell_type": "code",
   "execution_count": 207,
   "id": "b36dd76c",
   "metadata": {
    "ExecuteTime": {
     "end_time": "2023-05-29T17:27:29.325694Z",
     "start_time": "2023-05-29T17:27:29.313701Z"
    }
   },
   "outputs": [
    {
     "data": {
      "text/html": [
       "<div>\n",
       "<style scoped>\n",
       "    .dataframe tbody tr th:only-of-type {\n",
       "        vertical-align: middle;\n",
       "    }\n",
       "\n",
       "    .dataframe tbody tr th {\n",
       "        vertical-align: top;\n",
       "    }\n",
       "\n",
       "    .dataframe thead th {\n",
       "        text-align: right;\n",
       "    }\n",
       "</style>\n",
       "<table border=\"1\" class=\"dataframe\">\n",
       "  <thead>\n",
       "    <tr style=\"text-align: right;\">\n",
       "      <th></th>\n",
       "      <th>batch_size</th>\n",
       "      <th>hidden_size</th>\n",
       "      <th>alpha</th>\n",
       "      <th>top_k</th>\n",
       "      <th>mcc</th>\n",
       "    </tr>\n",
       "  </thead>\n",
       "  <tbody>\n",
       "    <tr>\n",
       "      <th>137</th>\n",
       "      <td>16</td>\n",
       "      <td>(128, 5)</td>\n",
       "      <td>3</td>\n",
       "      <td>20</td>\n",
       "      <td>0.024615</td>\n",
       "    </tr>\n",
       "  </tbody>\n",
       "</table>\n",
       "</div>"
      ],
      "text/plain": [
       "    batch_size hidden_size alpha top_k       mcc\n",
       "137         16    (128, 5)     3    20  0.024615"
      ]
     },
     "execution_count": 207,
     "metadata": {},
     "output_type": "execute_result"
    }
   ],
   "source": [
    "res[res['mcc']==best.loc[3]]"
   ]
  },
  {
   "cell_type": "code",
   "execution_count": 208,
   "id": "d92049b2",
   "metadata": {
    "ExecuteTime": {
     "end_time": "2023-05-29T17:27:29.686694Z",
     "start_time": "2023-05-29T17:27:29.675693Z"
    }
   },
   "outputs": [
    {
     "data": {
      "text/html": [
       "<div>\n",
       "<style scoped>\n",
       "    .dataframe tbody tr th:only-of-type {\n",
       "        vertical-align: middle;\n",
       "    }\n",
       "\n",
       "    .dataframe tbody tr th {\n",
       "        vertical-align: top;\n",
       "    }\n",
       "\n",
       "    .dataframe thead th {\n",
       "        text-align: right;\n",
       "    }\n",
       "</style>\n",
       "<table border=\"1\" class=\"dataframe\">\n",
       "  <thead>\n",
       "    <tr style=\"text-align: right;\">\n",
       "      <th></th>\n",
       "      <th>batch_size</th>\n",
       "      <th>hidden_size</th>\n",
       "      <th>alpha</th>\n",
       "      <th>top_k</th>\n",
       "      <th>mcc</th>\n",
       "    </tr>\n",
       "  </thead>\n",
       "  <tbody>\n",
       "    <tr>\n",
       "      <th>739</th>\n",
       "      <td>64</td>\n",
       "      <td>(1024, 4)</td>\n",
       "      <td>4</td>\n",
       "      <td>10</td>\n",
       "      <td>0.03477</td>\n",
       "    </tr>\n",
       "  </tbody>\n",
       "</table>\n",
       "</div>"
      ],
      "text/plain": [
       "    batch_size hidden_size alpha top_k      mcc\n",
       "739         64   (1024, 4)     4    10  0.03477"
      ]
     },
     "execution_count": 208,
     "metadata": {},
     "output_type": "execute_result"
    }
   ],
   "source": [
    "res[res['mcc']==best.loc[4]]"
   ]
  },
  {
   "cell_type": "code",
   "execution_count": 209,
   "id": "bb735665",
   "metadata": {
    "ExecuteTime": {
     "end_time": "2023-05-29T17:27:30.058613Z",
     "start_time": "2023-05-29T17:27:30.044615Z"
    }
   },
   "outputs": [
    {
     "data": {
      "text/html": [
       "<div>\n",
       "<style scoped>\n",
       "    .dataframe tbody tr th:only-of-type {\n",
       "        vertical-align: middle;\n",
       "    }\n",
       "\n",
       "    .dataframe tbody tr th {\n",
       "        vertical-align: top;\n",
       "    }\n",
       "\n",
       "    .dataframe thead th {\n",
       "        text-align: right;\n",
       "    }\n",
       "</style>\n",
       "<table border=\"1\" class=\"dataframe\">\n",
       "  <thead>\n",
       "    <tr style=\"text-align: right;\">\n",
       "      <th></th>\n",
       "      <th>batch_size</th>\n",
       "      <th>hidden_size</th>\n",
       "      <th>alpha</th>\n",
       "      <th>top_k</th>\n",
       "      <th>mcc</th>\n",
       "    </tr>\n",
       "  </thead>\n",
       "  <tbody>\n",
       "    <tr>\n",
       "      <th>442</th>\n",
       "      <td>32</td>\n",
       "      <td>(512, 3)</td>\n",
       "      <td>5</td>\n",
       "      <td>10</td>\n",
       "      <td>0.035572</td>\n",
       "    </tr>\n",
       "  </tbody>\n",
       "</table>\n",
       "</div>"
      ],
      "text/plain": [
       "    batch_size hidden_size alpha top_k       mcc\n",
       "442         32    (512, 3)     5    10  0.035572"
      ]
     },
     "execution_count": 209,
     "metadata": {},
     "output_type": "execute_result"
    }
   ],
   "source": [
    "res[res['mcc']==best.loc[5]]"
   ]
  },
  {
   "cell_type": "code",
   "execution_count": 210,
   "id": "2df63a62",
   "metadata": {
    "ExecuteTime": {
     "end_time": "2023-05-29T17:27:30.760583Z",
     "start_time": "2023-05-29T17:27:30.719841Z"
    }
   },
   "outputs": [
    {
     "ename": "KeyError",
     "evalue": "6",
     "output_type": "error",
     "traceback": [
      "\u001b[1;31m---------------------------------------------------------------------------\u001b[0m",
      "\u001b[1;31mKeyError\u001b[0m                                  Traceback (most recent call last)",
      "\u001b[1;32m~\\anaconda3\\lib\\site-packages\\pandas\\core\\indexes\\base.py\u001b[0m in \u001b[0;36mget_loc\u001b[1;34m(self, key, method, tolerance)\u001b[0m\n\u001b[0;32m   3628\u001b[0m             \u001b[1;32mtry\u001b[0m\u001b[1;33m:\u001b[0m\u001b[1;33m\u001b[0m\u001b[1;33m\u001b[0m\u001b[0m\n\u001b[1;32m-> 3629\u001b[1;33m                 \u001b[1;32mreturn\u001b[0m \u001b[0mself\u001b[0m\u001b[1;33m.\u001b[0m\u001b[0m_engine\u001b[0m\u001b[1;33m.\u001b[0m\u001b[0mget_loc\u001b[0m\u001b[1;33m(\u001b[0m\u001b[0mcasted_key\u001b[0m\u001b[1;33m)\u001b[0m\u001b[1;33m\u001b[0m\u001b[1;33m\u001b[0m\u001b[0m\n\u001b[0m\u001b[0;32m   3630\u001b[0m             \u001b[1;32mexcept\u001b[0m \u001b[0mKeyError\u001b[0m \u001b[1;32mas\u001b[0m \u001b[0merr\u001b[0m\u001b[1;33m:\u001b[0m\u001b[1;33m\u001b[0m\u001b[1;33m\u001b[0m\u001b[0m\n",
      "\u001b[1;32m~\\anaconda3\\lib\\site-packages\\pandas\\_libs\\index.pyx\u001b[0m in \u001b[0;36mpandas._libs.index.IndexEngine.get_loc\u001b[1;34m()\u001b[0m\n",
      "\u001b[1;32m~\\anaconda3\\lib\\site-packages\\pandas\\_libs\\index.pyx\u001b[0m in \u001b[0;36mpandas._libs.index.IndexEngine.get_loc\u001b[1;34m()\u001b[0m\n",
      "\u001b[1;32mpandas\\_libs\\hashtable_class_helper.pxi\u001b[0m in \u001b[0;36mpandas._libs.hashtable.Int64HashTable.get_item\u001b[1;34m()\u001b[0m\n",
      "\u001b[1;32mpandas\\_libs\\hashtable_class_helper.pxi\u001b[0m in \u001b[0;36mpandas._libs.hashtable.Int64HashTable.get_item\u001b[1;34m()\u001b[0m\n",
      "\u001b[1;31mKeyError\u001b[0m: 6",
      "\nThe above exception was the direct cause of the following exception:\n",
      "\u001b[1;31mKeyError\u001b[0m                                  Traceback (most recent call last)",
      "\u001b[1;32m~\\AppData\\Local\\Temp\\ipykernel_22908\\482464092.py\u001b[0m in \u001b[0;36m<module>\u001b[1;34m\u001b[0m\n\u001b[1;32m----> 1\u001b[1;33m \u001b[0mres\u001b[0m\u001b[1;33m[\u001b[0m\u001b[0mres\u001b[0m\u001b[1;33m[\u001b[0m\u001b[1;34m'mcc'\u001b[0m\u001b[1;33m]\u001b[0m\u001b[1;33m==\u001b[0m\u001b[0mbest\u001b[0m\u001b[1;33m.\u001b[0m\u001b[0mloc\u001b[0m\u001b[1;33m[\u001b[0m\u001b[1;36m6\u001b[0m\u001b[1;33m]\u001b[0m\u001b[1;33m]\u001b[0m\u001b[1;33m\u001b[0m\u001b[1;33m\u001b[0m\u001b[0m\n\u001b[0m",
      "\u001b[1;32m~\\anaconda3\\lib\\site-packages\\pandas\\core\\indexing.py\u001b[0m in \u001b[0;36m__getitem__\u001b[1;34m(self, key)\u001b[0m\n\u001b[0;32m    965\u001b[0m \u001b[1;33m\u001b[0m\u001b[0m\n\u001b[0;32m    966\u001b[0m             \u001b[0mmaybe_callable\u001b[0m \u001b[1;33m=\u001b[0m \u001b[0mcom\u001b[0m\u001b[1;33m.\u001b[0m\u001b[0mapply_if_callable\u001b[0m\u001b[1;33m(\u001b[0m\u001b[0mkey\u001b[0m\u001b[1;33m,\u001b[0m \u001b[0mself\u001b[0m\u001b[1;33m.\u001b[0m\u001b[0mobj\u001b[0m\u001b[1;33m)\u001b[0m\u001b[1;33m\u001b[0m\u001b[1;33m\u001b[0m\u001b[0m\n\u001b[1;32m--> 967\u001b[1;33m             \u001b[1;32mreturn\u001b[0m \u001b[0mself\u001b[0m\u001b[1;33m.\u001b[0m\u001b[0m_getitem_axis\u001b[0m\u001b[1;33m(\u001b[0m\u001b[0mmaybe_callable\u001b[0m\u001b[1;33m,\u001b[0m \u001b[0maxis\u001b[0m\u001b[1;33m=\u001b[0m\u001b[0maxis\u001b[0m\u001b[1;33m)\u001b[0m\u001b[1;33m\u001b[0m\u001b[1;33m\u001b[0m\u001b[0m\n\u001b[0m\u001b[0;32m    968\u001b[0m \u001b[1;33m\u001b[0m\u001b[0m\n\u001b[0;32m    969\u001b[0m     \u001b[1;32mdef\u001b[0m \u001b[0m_is_scalar_access\u001b[0m\u001b[1;33m(\u001b[0m\u001b[0mself\u001b[0m\u001b[1;33m,\u001b[0m \u001b[0mkey\u001b[0m\u001b[1;33m:\u001b[0m \u001b[0mtuple\u001b[0m\u001b[1;33m)\u001b[0m\u001b[1;33m:\u001b[0m\u001b[1;33m\u001b[0m\u001b[1;33m\u001b[0m\u001b[0m\n",
      "\u001b[1;32m~\\anaconda3\\lib\\site-packages\\pandas\\core\\indexing.py\u001b[0m in \u001b[0;36m_getitem_axis\u001b[1;34m(self, key, axis)\u001b[0m\n\u001b[0;32m   1203\u001b[0m         \u001b[1;31m# fall thru to straight lookup\u001b[0m\u001b[1;33m\u001b[0m\u001b[1;33m\u001b[0m\u001b[0m\n\u001b[0;32m   1204\u001b[0m         \u001b[0mself\u001b[0m\u001b[1;33m.\u001b[0m\u001b[0m_validate_key\u001b[0m\u001b[1;33m(\u001b[0m\u001b[0mkey\u001b[0m\u001b[1;33m,\u001b[0m \u001b[0maxis\u001b[0m\u001b[1;33m)\u001b[0m\u001b[1;33m\u001b[0m\u001b[1;33m\u001b[0m\u001b[0m\n\u001b[1;32m-> 1205\u001b[1;33m         \u001b[1;32mreturn\u001b[0m \u001b[0mself\u001b[0m\u001b[1;33m.\u001b[0m\u001b[0m_get_label\u001b[0m\u001b[1;33m(\u001b[0m\u001b[0mkey\u001b[0m\u001b[1;33m,\u001b[0m \u001b[0maxis\u001b[0m\u001b[1;33m=\u001b[0m\u001b[0maxis\u001b[0m\u001b[1;33m)\u001b[0m\u001b[1;33m\u001b[0m\u001b[1;33m\u001b[0m\u001b[0m\n\u001b[0m\u001b[0;32m   1206\u001b[0m \u001b[1;33m\u001b[0m\u001b[0m\n\u001b[0;32m   1207\u001b[0m     \u001b[1;32mdef\u001b[0m \u001b[0m_get_slice_axis\u001b[0m\u001b[1;33m(\u001b[0m\u001b[0mself\u001b[0m\u001b[1;33m,\u001b[0m \u001b[0mslice_obj\u001b[0m\u001b[1;33m:\u001b[0m \u001b[0mslice\u001b[0m\u001b[1;33m,\u001b[0m \u001b[0maxis\u001b[0m\u001b[1;33m:\u001b[0m \u001b[0mint\u001b[0m\u001b[1;33m)\u001b[0m\u001b[1;33m:\u001b[0m\u001b[1;33m\u001b[0m\u001b[1;33m\u001b[0m\u001b[0m\n",
      "\u001b[1;32m~\\anaconda3\\lib\\site-packages\\pandas\\core\\indexing.py\u001b[0m in \u001b[0;36m_get_label\u001b[1;34m(self, label, axis)\u001b[0m\n\u001b[0;32m   1151\u001b[0m     \u001b[1;32mdef\u001b[0m \u001b[0m_get_label\u001b[0m\u001b[1;33m(\u001b[0m\u001b[0mself\u001b[0m\u001b[1;33m,\u001b[0m \u001b[0mlabel\u001b[0m\u001b[1;33m,\u001b[0m \u001b[0maxis\u001b[0m\u001b[1;33m:\u001b[0m \u001b[0mint\u001b[0m\u001b[1;33m)\u001b[0m\u001b[1;33m:\u001b[0m\u001b[1;33m\u001b[0m\u001b[1;33m\u001b[0m\u001b[0m\n\u001b[0;32m   1152\u001b[0m         \u001b[1;31m# GH#5667 this will fail if the label is not present in the axis.\u001b[0m\u001b[1;33m\u001b[0m\u001b[1;33m\u001b[0m\u001b[0m\n\u001b[1;32m-> 1153\u001b[1;33m         \u001b[1;32mreturn\u001b[0m \u001b[0mself\u001b[0m\u001b[1;33m.\u001b[0m\u001b[0mobj\u001b[0m\u001b[1;33m.\u001b[0m\u001b[0mxs\u001b[0m\u001b[1;33m(\u001b[0m\u001b[0mlabel\u001b[0m\u001b[1;33m,\u001b[0m \u001b[0maxis\u001b[0m\u001b[1;33m=\u001b[0m\u001b[0maxis\u001b[0m\u001b[1;33m)\u001b[0m\u001b[1;33m\u001b[0m\u001b[1;33m\u001b[0m\u001b[0m\n\u001b[0m\u001b[0;32m   1154\u001b[0m \u001b[1;33m\u001b[0m\u001b[0m\n\u001b[0;32m   1155\u001b[0m     \u001b[1;32mdef\u001b[0m \u001b[0m_handle_lowerdim_multi_index_axis0\u001b[0m\u001b[1;33m(\u001b[0m\u001b[0mself\u001b[0m\u001b[1;33m,\u001b[0m \u001b[0mtup\u001b[0m\u001b[1;33m:\u001b[0m \u001b[0mtuple\u001b[0m\u001b[1;33m)\u001b[0m\u001b[1;33m:\u001b[0m\u001b[1;33m\u001b[0m\u001b[1;33m\u001b[0m\u001b[0m\n",
      "\u001b[1;32m~\\anaconda3\\lib\\site-packages\\pandas\\core\\generic.py\u001b[0m in \u001b[0;36mxs\u001b[1;34m(self, key, axis, level, drop_level)\u001b[0m\n\u001b[0;32m   3862\u001b[0m                     \u001b[0mnew_index\u001b[0m \u001b[1;33m=\u001b[0m \u001b[0mindex\u001b[0m\u001b[1;33m[\u001b[0m\u001b[0mloc\u001b[0m\u001b[1;33m]\u001b[0m\u001b[1;33m\u001b[0m\u001b[1;33m\u001b[0m\u001b[0m\n\u001b[0;32m   3863\u001b[0m         \u001b[1;32melse\u001b[0m\u001b[1;33m:\u001b[0m\u001b[1;33m\u001b[0m\u001b[1;33m\u001b[0m\u001b[0m\n\u001b[1;32m-> 3864\u001b[1;33m             \u001b[0mloc\u001b[0m \u001b[1;33m=\u001b[0m \u001b[0mindex\u001b[0m\u001b[1;33m.\u001b[0m\u001b[0mget_loc\u001b[0m\u001b[1;33m(\u001b[0m\u001b[0mkey\u001b[0m\u001b[1;33m)\u001b[0m\u001b[1;33m\u001b[0m\u001b[1;33m\u001b[0m\u001b[0m\n\u001b[0m\u001b[0;32m   3865\u001b[0m \u001b[1;33m\u001b[0m\u001b[0m\n\u001b[0;32m   3866\u001b[0m             \u001b[1;32mif\u001b[0m \u001b[0misinstance\u001b[0m\u001b[1;33m(\u001b[0m\u001b[0mloc\u001b[0m\u001b[1;33m,\u001b[0m \u001b[0mnp\u001b[0m\u001b[1;33m.\u001b[0m\u001b[0mndarray\u001b[0m\u001b[1;33m)\u001b[0m\u001b[1;33m:\u001b[0m\u001b[1;33m\u001b[0m\u001b[1;33m\u001b[0m\u001b[0m\n",
      "\u001b[1;32m~\\anaconda3\\lib\\site-packages\\pandas\\core\\indexes\\base.py\u001b[0m in \u001b[0;36mget_loc\u001b[1;34m(self, key, method, tolerance)\u001b[0m\n\u001b[0;32m   3629\u001b[0m                 \u001b[1;32mreturn\u001b[0m \u001b[0mself\u001b[0m\u001b[1;33m.\u001b[0m\u001b[0m_engine\u001b[0m\u001b[1;33m.\u001b[0m\u001b[0mget_loc\u001b[0m\u001b[1;33m(\u001b[0m\u001b[0mcasted_key\u001b[0m\u001b[1;33m)\u001b[0m\u001b[1;33m\u001b[0m\u001b[1;33m\u001b[0m\u001b[0m\n\u001b[0;32m   3630\u001b[0m             \u001b[1;32mexcept\u001b[0m \u001b[0mKeyError\u001b[0m \u001b[1;32mas\u001b[0m \u001b[0merr\u001b[0m\u001b[1;33m:\u001b[0m\u001b[1;33m\u001b[0m\u001b[1;33m\u001b[0m\u001b[0m\n\u001b[1;32m-> 3631\u001b[1;33m                 \u001b[1;32mraise\u001b[0m \u001b[0mKeyError\u001b[0m\u001b[1;33m(\u001b[0m\u001b[0mkey\u001b[0m\u001b[1;33m)\u001b[0m \u001b[1;32mfrom\u001b[0m \u001b[0merr\u001b[0m\u001b[1;33m\u001b[0m\u001b[1;33m\u001b[0m\u001b[0m\n\u001b[0m\u001b[0;32m   3632\u001b[0m             \u001b[1;32mexcept\u001b[0m \u001b[0mTypeError\u001b[0m\u001b[1;33m:\u001b[0m\u001b[1;33m\u001b[0m\u001b[1;33m\u001b[0m\u001b[0m\n\u001b[0;32m   3633\u001b[0m                 \u001b[1;31m# If we have a listlike key, _check_indexing_error will raise\u001b[0m\u001b[1;33m\u001b[0m\u001b[1;33m\u001b[0m\u001b[0m\n",
      "\u001b[1;31mKeyError\u001b[0m: 6"
     ]
    }
   ],
   "source": [
    "res[res['mcc']==best.loc[6]]"
   ]
  },
  {
   "cell_type": "markdown",
   "id": "81ba8842",
   "metadata": {},
   "source": [
    "## AE tuning"
   ]
  },
  {
   "cell_type": "code",
   "execution_count": null,
   "id": "2a6845f6",
   "metadata": {},
   "outputs": [],
   "source": []
  },
  {
   "cell_type": "markdown",
   "id": "099d0e64",
   "metadata": {},
   "source": [
    "## AE results"
   ]
  },
  {
   "cell_type": "code",
   "execution_count": 194,
   "id": "104ebf22",
   "metadata": {
    "ExecuteTime": {
     "end_time": "2023-05-29T17:10:17.090573Z",
     "start_time": "2023-05-29T17:10:17.080577Z"
    }
   },
   "outputs": [],
   "source": [
    "with open('food_easer_res.txt') as f:\n",
    "    lines = f.readlines()"
   ]
  },
  {
   "cell_type": "code",
   "execution_count": 195,
   "id": "f33fde37",
   "metadata": {
    "ExecuteTime": {
     "end_time": "2023-05-29T17:10:17.418662Z",
     "start_time": "2023-05-29T17:10:17.407651Z"
    }
   },
   "outputs": [
    {
     "data": {
      "text/plain": [
       "['failed to get console mode for stdout: The handle is invalid.\\n',\n",
       " 'Looking in indexes: https://artifactory.tcsbank.ru/artifactory/api/pypi/python-all/simple\\n',\n",
       " 'Collecting torch==1.13.1\\n',\n",
       " '  Downloading https://artifactory.tcsbank.ru/artifactory/api/pypi/python-all/packages/packages/torch/1.13.1/torch-1.13.1-cp38-cp38-manylinux1_x86_64.whl (887.4 MB)\\n',\n",
       " '     в”Ѓв”Ѓв”Ѓв”Ѓв”Ѓв”Ѓв”Ѓв”Ѓв”Ѓв”Ѓв”Ѓв”Ѓв”Ѓв”Ѓв”Ѓв”Ѓв”Ѓв”Ѓв”Ѓв”Ѓв”Ѓв”Ѓв”Ѓв”Ѓв”Ѓв”Ѓв”Ѓв”Ѓв”Ѓв”Ѓв”Ѓв”Ѓв”Ѓв”Ѓв”Ѓв”Ѓв”Ѓ 887.4/887.4 MB 289.3 MB/s eta 0:00:00\\n',\n",
       " 'Collecting scipy==1.10.1\\n',\n",
       " '  Downloading https://artifactory.tcsbank.ru/artifactory/api/pypi/python-all/packages/packages/scipy/1.10.1/scipy-1.10.1-cp38-cp38-manylinux_2_17_x86_64.manylinux2014_x86_64.whl (34.5 MB)\\n',\n",
       " '     в”Ѓв”Ѓв”Ѓв”Ѓв”Ѓв”Ѓв”Ѓв”Ѓв”Ѓв”Ѓв”Ѓв”Ѓв”Ѓв”Ѓв”Ѓв”Ѓв”Ѓв”Ѓв”Ѓв”Ѓв”Ѓв”Ѓв”Ѓв”Ѓв”Ѓв”Ѓв”Ѓв”Ѓв”Ѓв”Ѓв”Ѓв”Ѓв”Ѓв”Ѓв”Ѓв”Ѓв”Ѓв”Ѓв”Ѓ 34.5/34.5 MB 290.6 MB/s eta 0:00:00\\n',\n",
       " 'Collecting numpy==1.22.2\\n',\n",
       " '  Downloading https://artifactory.tcsbank.ru/artifactory/api/pypi/python-all/packages/packages/numpy/1.22.2/numpy-1.22.2-cp38-cp38-manylinux_2_17_x86_64.manylinux2014_x86_64.whl (16.8 MB)\\n',\n",
       " '     в”Ѓв”Ѓв”Ѓв”Ѓв”Ѓв”Ѓв”Ѓв”Ѓв”Ѓв”Ѓв”Ѓв”Ѓв”Ѓв”Ѓв”Ѓв”Ѓв”Ѓв”Ѓв”Ѓв”Ѓв”Ѓв”Ѓв”Ѓв”Ѓв”Ѓв”Ѓв”Ѓв”Ѓв”Ѓв”Ѓв”Ѓв”Ѓв”Ѓв”Ѓв”Ѓв”Ѓв”Ѓв”Ѓв”Ѓ 16.8/16.8 MB 278.8 MB/s eta 0:00:00\\n',\n",
       " 'Collecting scikit-learn==1.2.1\\n',\n",
       " '  Downloading https://artifactory.tcsbank.ru/artifactory/api/pypi/python-all/packages/packages/scikit-learn/1.2.1/scikit_learn-1.2.1-cp38-cp38-manylinux_2_17_x86_64.manylinux2014_x86_64.whl (9.8 MB)\\n',\n",
       " '     в”Ѓв”Ѓв”Ѓв”Ѓв”Ѓв”Ѓв”Ѓв”Ѓв”Ѓв”Ѓв”Ѓв”Ѓв”Ѓв”Ѓв”Ѓв”Ѓв”Ѓв”Ѓв”Ѓв”Ѓв”Ѓв”Ѓв”Ѓв”Ѓв”Ѓв”Ѓв”Ѓв”Ѓв”Ѓв”Ѓв”Ѓв”Ѓв”Ѓв”Ѓв”Ѓв”Ѓв”Ѓв”Ѓв”Ѓв”Ѓ 9.8/9.8 MB 273.4 MB/s eta 0:00:00\\n',\n",
       " 'Collecting tqdm==4.64.1\\n',\n",
       " '  Downloading https://artifactory.tcsbank.ru/artifactory/api/pypi/python-all/packages/packages/tqdm/4.64.1/tqdm-4.64.1-py2.py3-none-any.whl (78 kB)\\n',\n",
       " '     в”Ѓв”Ѓв”Ѓв”Ѓв”Ѓв”Ѓв”Ѓв”Ѓв”Ѓв”Ѓв”Ѓв”Ѓв”Ѓв”Ѓв”Ѓв”Ѓв”Ѓв”Ѓв”Ѓв”Ѓв”Ѓв”Ѓв”Ѓв”Ѓв”Ѓв”Ѓв”Ѓв”Ѓв”Ѓв”Ѓв”Ѓв”Ѓв”Ѓв”Ѓв”Ѓв”Ѓв”Ѓв”Ѓв”Ѓ 78.5/78.5 kB 226.3 MB/s eta 0:00:00\\n',\n",
       " 'Collecting pandas==1.5.3\\n',\n",
       " '  Downloading https://artifactory.tcsbank.ru/artifactory/api/pypi/python-all/packages/packages/pandas/1.5.3/pandas-1.5.3-cp38-cp38-manylinux_2_17_x86_64.manylinux2014_x86_64.whl (12.2 MB)\\n',\n",
       " '     в”Ѓв”Ѓв”Ѓв”Ѓв”Ѓв”Ѓв”Ѓв”Ѓв”Ѓв”Ѓв”Ѓв”Ѓв”Ѓв”Ѓв”Ѓв”Ѓв”Ѓв”Ѓв”Ѓв”Ѓв”Ѓв”Ѓв”Ѓв”Ѓв”Ѓв”Ѓв”Ѓв”Ѓв”Ѓв”Ѓв”Ѓв”Ѓв”Ѓв”Ѓв”Ѓв”Ѓв”Ѓв”Ѓв”Ѓ 12.2/12.2 MB 273.8 MB/s eta 0:00:00\\n',\n",
       " 'Collecting numba>=0.21.0\\n',\n",
       " '  Downloading https://artifactory.tcsbank.ru/artifactory/api/pypi/python-all/packages/packages/numba/0.57.0/numba-0.57.0-cp38-cp38-manylinux2014_x86_64.manylinux_2_17_x86_64.whl (3.6 MB)\\n',\n",
       " '     в”Ѓв”Ѓв”Ѓв”Ѓв”Ѓв”Ѓв”Ѓв”Ѓв”Ѓв”Ѓв”Ѓв”Ѓв”Ѓв”Ѓв”Ѓв”Ѓв”Ѓв”Ѓв”Ѓв”Ѓв”Ѓв”Ѓв”Ѓв”Ѓв”Ѓв”Ѓв”Ѓв”Ѓв”Ѓв”Ѓв”Ѓв”Ѓв”Ѓв”Ѓв”Ѓв”Ѓв”Ѓв”Ѓв”Ѓв”Ѓ 3.6/3.6 MB 165.4 MB/s eta 0:00:00\\n',\n",
       " 'Requirement already satisfied: requests>=2.7.0 in /usr/local/lib/python3.8/dist-packages (from -r /home/requirements.txt (line 8)) (2.28.2)\\n',\n",
       " 'Collecting ipython==8.0.0\\n',\n",
       " '  Downloading https://artifactory.tcsbank.ru/artifactory/api/pypi/python-all/packages/packages/ipython/8.0.0/ipython-8.0.0-py3-none-any.whl (747 kB)\\n',\n",
       " '     в”Ѓв”Ѓв”Ѓв”Ѓв”Ѓв”Ѓв”Ѓв”Ѓв”Ѓв”Ѓв”Ѓв”Ѓв”Ѓв”Ѓв”Ѓв”Ѓв”Ѓв”Ѓв”Ѓв”Ѓв”Ѓв”Ѓв”Ѓв”Ѓв”Ѓв”Ѓв”Ѓв”Ѓв”Ѓв”Ѓв”Ѓв”Ѓв”Ѓв”Ѓв”Ѓв”Ѓв”Ѓ 747.4/747.4 kB 210.0 MB/s eta 0:00:00\\n',\n",
       " 'Requirement already satisfied: typing-extensions in /usr/local/lib/python3.8/dist-packages (from torch==1.13.1->-r /home/requirements.txt (line 1)) (4.4.0)\\n',\n",
       " 'Collecting nvidia-cuda-runtime-cu11==11.7.99\\n',\n",
       " '  Downloading https://artifactory.tcsbank.ru/artifactory/api/pypi/python-all/packages/packages/nvidia-cuda-runtime-cu11/11.7.99/nvidia_cuda_runtime_cu11-11.7.99-py3-none-manylinux1_x86_64.whl (849 kB)\\n',\n",
       " '     в”Ѓв”Ѓв”Ѓв”Ѓв”Ѓв”Ѓв”Ѓв”Ѓв”Ѓв”Ѓв”Ѓв”Ѓв”Ѓв”Ѓв”Ѓв”Ѓв”Ѓв”Ѓв”Ѓв”Ѓв”Ѓв”Ѓв”Ѓв”Ѓв”Ѓв”Ѓв”Ѓв”Ѓв”Ѓв”Ѓв”Ѓв”Ѓв”Ѓв”Ѓв”Ѓв”Ѓв”Ѓ 849.3/849.3 kB 282.6 MB/s eta 0:00:00\\n',\n",
       " 'Collecting nvidia-cudnn-cu11==8.5.0.96\\n',\n",
       " '  Downloading https://artifactory.tcsbank.ru/artifactory/api/pypi/python-all/packages/packages/nvidia-cudnn-cu11/8.5.0.96/nvidia_cudnn_cu11-8.5.0.96-2-py3-none-manylinux1_x86_64.whl (557.1 MB)\\n',\n",
       " '     в”Ѓв”Ѓв”Ѓв”Ѓв”Ѓв”Ѓв”Ѓв”Ѓв”Ѓв”Ѓв”Ѓв”Ѓв”Ѓв”Ѓв”Ѓв”Ѓв”Ѓв”Ѓв”Ѓв”Ѓв”Ѓв”Ѓв”Ѓв”Ѓв”Ѓв”Ѓв”Ѓв”Ѓв”Ѓв”Ѓв”Ѓв”Ѓв”Ѓв”Ѓв”Ѓв”Ѓв”Ѓ 557.1/557.1 MB 300.6 MB/s eta 0:00:00\\n',\n",
       " 'Collecting nvidia-cuda-nvrtc-cu11==11.7.99\\n',\n",
       " '  Downloading https://artifactory.tcsbank.ru/artifactory/api/pypi/python-all/packages/packages/nvidia-cuda-nvrtc-cu11/11.7.99/nvidia_cuda_nvrtc_cu11-11.7.99-2-py3-none-manylinux1_x86_64.whl (21.0 MB)\\n',\n",
       " '     в”Ѓв”Ѓв”Ѓв”Ѓв”Ѓв”Ѓв”Ѓв”Ѓв”Ѓв”Ѓв”Ѓв”Ѓв”Ѓв”Ѓв”Ѓв”Ѓв”Ѓв”Ѓв”Ѓв”Ѓв”Ѓв”Ѓв”Ѓв”Ѓв”Ѓв”Ѓв”Ѓв”Ѓв”Ѓв”Ѓв”Ѓв”Ѓв”Ѓв”Ѓв”Ѓв”Ѓв”Ѓв”Ѓв”Ѓ 21.0/21.0 MB 285.4 MB/s eta 0:00:00\\n',\n",
       " 'Collecting nvidia-cublas-cu11==11.10.3.66\\n',\n",
       " '  Downloading https://artifactory.tcsbank.ru/artifactory/api/pypi/python-all/packages/packages/nvidia-cublas-cu11/11.10.3.66/nvidia_cublas_cu11-11.10.3.66-py3-none-manylinux1_x86_64.whl (317.1 MB)\\n',\n",
       " '     в”Ѓв”Ѓв”Ѓв”Ѓв”Ѓв”Ѓв”Ѓв”Ѓв”Ѓв”Ѓв”Ѓв”Ѓв”Ѓв”Ѓв”Ѓв”Ѓв”Ѓв”Ѓв”Ѓв”Ѓв”Ѓв”Ѓв”Ѓв”Ѓв”Ѓв”Ѓв”Ѓв”Ѓв”Ѓв”Ѓв”Ѓв”Ѓв”Ѓв”Ѓв”Ѓв”Ѓв”Ѓ 317.1/317.1 MB 268.9 MB/s eta 0:00:00\\n',\n",
       " 'Collecting threadpoolctl>=2.0.0\\n',\n",
       " '  Downloading https://artifactory.tcsbank.ru/artifactory/api/pypi/python-all/packages/packages/threadpoolctl/3.1.0/threadpoolctl-3.1.0-py3-none-any.whl (14 kB)\\n',\n",
       " 'Collecting joblib>=1.1.1\\n',\n",
       " '  Downloading https://artifactory.tcsbank.ru/artifactory/api/pypi/python-all/packages/packages/joblib/1.2.0/joblib-1.2.0-py3-none-any.whl (297 kB)\\n',\n",
       " '     в”Ѓв”Ѓв”Ѓв”Ѓв”Ѓв”Ѓв”Ѓв”Ѓв”Ѓв”Ѓв”Ѓв”Ѓв”Ѓв”Ѓв”Ѓв”Ѓв”Ѓв”Ѓв”Ѓв”Ѓв”Ѓв”Ѓв”Ѓв”Ѓв”Ѓв”Ѓв”Ѓв”Ѓв”Ѓв”Ѓв”Ѓв”Ѓв”Ѓв”Ѓв”Ѓв”Ѓв”Ѓ 298.0/298.0 kB 254.3 MB/s eta 0:00:00\\n',\n",
       " 'Collecting pytz>=2020.1\\n',\n",
       " '  Downloading https://artifactory.tcsbank.ru/artifactory/api/pypi/python-all/packages/packages/pytz/2023.3/pytz-2023.3-py2.py3-none-any.whl (502 kB)\\n',\n",
       " '     в”Ѓв”Ѓв”Ѓв”Ѓв”Ѓв”Ѓв”Ѓв”Ѓв”Ѓв”Ѓв”Ѓв”Ѓв”Ѓв”Ѓв”Ѓв”Ѓв”Ѓв”Ѓв”Ѓв”Ѓв”Ѓв”Ѓв”Ѓв”Ѓв”Ѓв”Ѓв”Ѓв”Ѓв”Ѓв”Ѓв”Ѓв”Ѓв”Ѓв”Ѓв”Ѓв”Ѓв”Ѓ 502.3/502.3 kB 264.9 MB/s eta 0:00:00\\n',\n",
       " 'Collecting python-dateutil>=2.8.1\\n',\n",
       " '  Downloading https://artifactory.tcsbank.ru/artifactory/api/pypi/python-all/packages/packages/python-dateutil/2.8.2/python_dateutil-2.8.2-py2.py3-none-any.whl (247 kB)\\n',\n",
       " '     в”Ѓв”Ѓв”Ѓв”Ѓв”Ѓв”Ѓв”Ѓв”Ѓв”Ѓв”Ѓв”Ѓв”Ѓв”Ѓв”Ѓв”Ѓв”Ѓв”Ѓв”Ѓв”Ѓв”Ѓв”Ѓв”Ѓв”Ѓв”Ѓв”Ѓв”Ѓв”Ѓв”Ѓв”Ѓв”Ѓв”Ѓв”Ѓв”Ѓв”Ѓв”Ѓв”Ѓв”Ѓв”Ѓ 247.7/247.7 kB 69.8 MB/s eta 0:00:00\\n',\n",
       " 'Collecting decorator\\n',\n",
       " '  Downloading https://artifactory.tcsbank.ru/artifactory/api/pypi/python-all/packages/packages/decorator/5.1.1/decorator-5.1.1-py3-none-any.whl (9.1 kB)\\n',\n",
       " 'Requirement already satisfied: setuptools>=18.5 in /usr/local/lib/python3.8/dist-packages (from ipython==8.0.0->-r /home/requirements.txt (line 9)) (66.0.0)\\n',\n",
       " 'Collecting traitlets>=5\\n',\n",
       " '  Downloading https://artifactory.tcsbank.ru/artifactory/api/pypi/python-all/packages/packages/traitlets/5.9.0/traitlets-5.9.0-py3-none-any.whl (117 kB)\\n',\n",
       " '     в”Ѓв”Ѓв”Ѓв”Ѓв”Ѓв”Ѓв”Ѓв”Ѓв”Ѓв”Ѓв”Ѓв”Ѓв”Ѓв”Ѓв”Ѓв”Ѓв”Ѓв”Ѓв”Ѓв”Ѓв”Ѓв”Ѓв”Ѓв”Ѓв”Ѓв”Ѓв”Ѓв”Ѓв”Ѓв”Ѓв”Ѓв”Ѓв”Ѓв”Ѓв”Ѓв”Ѓв”Ѓ 117.4/117.4 kB 270.3 MB/s eta 0:00:00\\n',\n",
       " 'Collecting backcall\\n',\n",
       " '  Downloading https://artifactory.tcsbank.ru/artifactory/api/pypi/python-all/packages/packages/backcall/0.2.0/backcall-0.2.0-py2.py3-none-any.whl (11 kB)\\n',\n",
       " 'Requirement already satisfied: pygments in /usr/local/lib/python3.8/dist-packages (from ipython==8.0.0->-r /home/requirements.txt (line 9)) (2.14.0)\\n',\n",
       " 'Requirement already satisfied: pexpect>4.3 in /usr/local/lib/python3.8/dist-packages (from ipython==8.0.0->-r /home/requirements.txt (line 9)) (4.8.0)\\n',\n",
       " 'Collecting matplotlib-inline\\n',\n",
       " '  Downloading https://artifactory.tcsbank.ru/artifactory/api/pypi/python-all/packages/packages/matplotlib-inline/0.1.6/matplotlib_inline-0.1.6-py3-none-any.whl (9.4 kB)\\n',\n",
       " 'Collecting pickleshare\\n',\n",
       " '  Downloading https://artifactory.tcsbank.ru/artifactory/api/pypi/python-all/packages/packages/pickleshare/0.7.5/pickleshare-0.7.5-py2.py3-none-any.whl (6.9 kB)\\n',\n",
       " 'Collecting stack-data\\n',\n",
       " '  Downloading https://artifactory.tcsbank.ru/artifactory/api/pypi/python-all/packages/packages/stack-data/0.6.2/stack_data-0.6.2-py3-none-any.whl (24 kB)\\n',\n",
       " 'Collecting jedi>=0.16\\n',\n",
       " '  Downloading https://artifactory.tcsbank.ru/artifactory/api/pypi/python-all/packages/packages/jedi/0.18.2/jedi-0.18.2-py2.py3-none-any.whl (1.6 MB)\\n',\n",
       " '     в”Ѓв”Ѓв”Ѓв”Ѓв”Ѓв”Ѓв”Ѓв”Ѓв”Ѓв”Ѓв”Ѓв”Ѓв”Ѓв”Ѓв”Ѓв”Ѓв”Ѓв”Ѓв”Ѓв”Ѓв”Ѓв”Ѓв”Ѓв”Ѓв”Ѓв”Ѓв”Ѓв”Ѓв”Ѓв”Ѓв”Ѓв”Ѓв”Ѓв”Ѓв”Ѓв”Ѓв”Ѓв”Ѓв”Ѓв”Ѓ 1.6/1.6 MB 280.4 MB/s eta 0:00:00\\n',\n",
       " 'Collecting black\\n',\n",
       " '  Downloading https://artifactory.tcsbank.ru/artifactory/api/pypi/python-all/packages/packages/black/23.3.0/black-23.3.0-cp38-cp38-manylinux_2_17_x86_64.manylinux2014_x86_64.whl (1.6 MB)\\n',\n",
       " '     в”Ѓв”Ѓв”Ѓв”Ѓв”Ѓв”Ѓв”Ѓв”Ѓв”Ѓв”Ѓв”Ѓв”Ѓв”Ѓв”Ѓв”Ѓв”Ѓв”Ѓв”Ѓв”Ѓв”Ѓв”Ѓв”Ѓв”Ѓв”Ѓв”Ѓв”Ѓв”Ѓв”Ѓв”Ѓв”Ѓв”Ѓв”Ѓв”Ѓв”Ѓв”Ѓв”Ѓв”Ѓв”Ѓв”Ѓв”Ѓ 1.6/1.6 MB 119.8 MB/s eta 0:00:00\\n',\n",
       " 'Collecting prompt-toolkit!=3.0.0,!=3.0.1,<3.1.0,>=2.0.0\\n',\n",
       " '  Downloading https://artifactory.tcsbank.ru/artifactory/api/pypi/python-all/packages/packages/prompt-toolkit/3.0.38/prompt_toolkit-3.0.38-py3-none-any.whl (385 kB)\\n',\n",
       " '     в”Ѓв”Ѓв”Ѓв”Ѓв”Ѓв”Ѓв”Ѓв”Ѓв”Ѓв”Ѓв”Ѓв”Ѓв”Ѓв”Ѓв”Ѓв”Ѓв”Ѓв”Ѓв”Ѓв”Ѓв”Ѓв”Ѓв”Ѓв”Ѓв”Ѓв”Ѓв”Ѓв”Ѓв”Ѓв”Ѓв”Ѓв”Ѓв”Ѓв”Ѓв”Ѓв”Ѓв”Ѓ 385.8/385.8 kB 283.7 MB/s eta 0:00:00\\n',\n",
       " 'Requirement already satisfied: wheel in /usr/local/lib/python3.8/dist-packages (from nvidia-cublas-cu11==11.10.3.66->torch==1.13.1->-r /home/requirements.txt (line 1)) (0.38.4)\\n',\n",
       " 'Requirement already satisfied: importlib-metadata in /usr/local/lib/python3.8/dist-packages (from numba>=0.21.0->-r /home/requirements.txt (line 7)) (4.13.0)\\n',\n",
       " 'Collecting llvmlite<0.41,>=0.40.0dev0\\n',\n",
       " '  Downloading https://artifactory.tcsbank.ru/artifactory/api/pypi/python-all/packages/packages/llvmlite/0.40.0/llvmlite-0.40.0-cp38-cp38-manylinux_2_17_x86_64.manylinux2014_x86_64.whl (42.1 MB)\\n',\n",
       " '     в”Ѓв”Ѓв”Ѓв”Ѓв”Ѓв”Ѓв”Ѓв”Ѓв”Ѓв”Ѓв”Ѓв”Ѓв”Ѓв”Ѓв”Ѓв”Ѓв”Ѓв”Ѓв”Ѓв”Ѓв”Ѓв”Ѓв”Ѓв”Ѓв”Ѓв”Ѓв”Ѓв”Ѓв”Ѓв”Ѓв”Ѓв”Ѓв”Ѓв”Ѓв”Ѓв”Ѓв”Ѓв”Ѓв”Ѓ 42.1/42.1 MB 289.3 MB/s eta 0:00:00\\n',\n",
       " 'Requirement already satisfied: certifi>=2017.4.17 in /usr/lib/python3/dist-packages (from requests>=2.7.0->-r /home/requirements.txt (line 8)) (2019.11.28)\\n',\n",
       " 'Requirement already satisfied: charset-normalizer<4,>=2 in /usr/local/lib/python3.8/dist-packages (from requests>=2.7.0->-r /home/requirements.txt (line 8)) (3.0.1)\\n',\n",
       " 'Requirement already satisfied: idna<4,>=2.5 in /usr/lib/python3/dist-packages (from requests>=2.7.0->-r /home/requirements.txt (line 8)) (2.8)\\n',\n",
       " 'Requirement already satisfied: urllib3<1.27,>=1.21.1 in /usr/local/lib/python3.8/dist-packages (from requests>=2.7.0->-r /home/requirements.txt (line 8)) (1.26.14)\\n',\n",
       " 'Collecting parso<0.9.0,>=0.8.0\\n',\n",
       " '  Downloading https://artifactory.tcsbank.ru/artifactory/api/pypi/python-all/packages/packages/parso/0.8.3/parso-0.8.3-py2.py3-none-any.whl (100 kB)\\n',\n",
       " '     в”Ѓв”Ѓв”Ѓв”Ѓв”Ѓв”Ѓв”Ѓв”Ѓв”Ѓв”Ѓв”Ѓв”Ѓв”Ѓв”Ѓв”Ѓв”Ѓв”Ѓв”Ѓв”Ѓв”Ѓв”Ѓв”Ѓв”Ѓв”Ѓв”Ѓв”Ѓв”Ѓв”Ѓв”Ѓв”Ѓв”Ѓв”Ѓв”Ѓв”Ѓв”Ѓв”Ѓв”Ѓ 100.8/100.8 kB 262.5 MB/s eta 0:00:00\\n',\n",
       " 'Requirement already satisfied: ptyprocess>=0.5 in /usr/local/lib/python3.8/dist-packages (from pexpect>4.3->ipython==8.0.0->-r /home/requirements.txt (line 9)) (0.7.0)\\n',\n",
       " 'Collecting wcwidth\\n',\n",
       " '  Downloading https://artifactory.tcsbank.ru/artifactory/api/pypi/python-all/packages/packages/wcwidth/0.2.6/wcwidth-0.2.6-py2.py3-none-any.whl (29 kB)\\n',\n",
       " 'Requirement already satisfied: six>=1.5 in /usr/lib/python3/dist-packages (from python-dateutil>=2.8.1->pandas==1.5.3->-r /home/requirements.txt (line 6)) (1.14.0)\\n',\n",
       " 'Collecting mypy-extensions>=0.4.3\\n',\n",
       " '  Downloading https://artifactory.tcsbank.ru/artifactory/api/pypi/python-all/packages/packages/mypy-extensions/1.0.0/mypy_extensions-1.0.0-py3-none-any.whl (4.7 kB)\\n',\n",
       " 'Requirement already satisfied: platformdirs>=2 in /usr/local/lib/python3.8/dist-packages (from black->ipython==8.0.0->-r /home/requirements.txt (line 9)) (2.6.2)\\n',\n",
       " 'Requirement already satisfied: tomli>=1.1.0 in /usr/local/lib/python3.8/dist-packages (from black->ipython==8.0.0->-r /home/requirements.txt (line 9)) (2.0.1)\\n',\n",
       " 'Collecting click>=8.0.0\\n',\n",
       " '  Downloading https://artifactory.tcsbank.ru/artifactory/api/pypi/python-all/packages/packages/click/8.1.3/click-8.1.3-py3-none-any.whl (96 kB)\\n',\n",
       " '     в”Ѓв”Ѓв”Ѓв”Ѓв”Ѓв”Ѓв”Ѓв”Ѓв”Ѓв”Ѓв”Ѓв”Ѓв”Ѓв”Ѓв”Ѓв”Ѓв”Ѓв”Ѓв”Ѓв”Ѓв”Ѓв”Ѓв”Ѓв”Ѓв”Ѓв”Ѓв”Ѓв”Ѓв”Ѓв”Ѓв”Ѓв”Ѓв”Ѓв”Ѓв”Ѓв”Ѓв”Ѓв”Ѓв”Ѓ 96.6/96.6 kB 239.8 MB/s eta 0:00:00\\n',\n",
       " 'Requirement already satisfied: packaging>=22.0 in /usr/local/lib/python3.8/dist-packages (from black->ipython==8.0.0->-r /home/requirements.txt (line 9)) (23.0)\\n',\n",
       " 'Collecting pathspec>=0.9.0\\n',\n",
       " '  Downloading https://artifactory.tcsbank.ru/artifactory/api/pypi/python-all/packages/packages/pathspec/0.11.1/pathspec-0.11.1-py3-none-any.whl (29 kB)\\n',\n",
       " 'Requirement already satisfied: zipp>=0.5 in /usr/local/lib/python3.8/dist-packages (from importlib-metadata->numba>=0.21.0->-r /home/requirements.txt (line 7)) (3.11.0)\\n',\n",
       " 'Collecting executing>=1.2.0\\n',\n",
       " '  Downloading https://artifactory.tcsbank.ru/artifactory/api/pypi/python-all/packages/packages/executing/1.2.0/executing-1.2.0-py2.py3-none-any.whl (24 kB)\\n',\n",
       " 'Collecting pure-eval\\n',\n",
       " '  Downloading https://artifactory.tcsbank.ru/artifactory/api/pypi/python-all/packages/packages/pure-eval/0.2.2/pure_eval-0.2.2-py3-none-any.whl (11 kB)\\n',\n",
       " 'Collecting asttokens>=2.1.0\\n',\n",
       " '  Downloading https://artifactory.tcsbank.ru/artifactory/api/pypi/python-all/packages/packages/asttokens/2.2.1/asttokens-2.2.1-py2.py3-none-any.whl (26 kB)\\n',\n",
       " 'Installing collected packages: wcwidth, pytz, pure-eval, pickleshare, executing, backcall, traitlets, tqdm, threadpoolctl, python-dateutil, prompt-toolkit, pathspec, parso, nvidia-cuda-runtime-cu11, nvidia-cuda-nvrtc-cu11, nvidia-cublas-cu11, numpy, mypy-extensions, llvmlite, joblib, decorator, click, asttokens, stack-data, scipy, pandas, nvidia-cudnn-cu11, numba, matplotlib-inline, jedi, black, torch, scikit-learn, ipython\\n',\n",
       " 'Successfully installed asttokens-2.2.1 backcall-0.2.0 black-23.3.0 click-8.1.3 decorator-5.1.1 executing-1.2.0 ipython-8.0.0 jedi-0.18.2 joblib-1.2.0 llvmlite-0.40.0 matplotlib-inline-0.1.6 mypy-extensions-1.0.0 numba-0.57.0 numpy-1.22.2 nvidia-cublas-cu11-11.10.3.66 nvidia-cuda-nvrtc-cu11-11.7.99 nvidia-cuda-runtime-cu11-11.7.99 nvidia-cudnn-cu11-8.5.0.96 pandas-1.5.3 parso-0.8.3 pathspec-0.11.1 pickleshare-0.7.5 prompt-toolkit-3.0.38 pure-eval-0.2.2 python-dateutil-2.8.2 pytz-2023.3 scikit-learn-1.2.1 scipy-1.10.1 stack-data-0.6.2 threadpoolctl-3.1.0 torch-1.13.1 tqdm-4.64.1 traitlets-5.9.0 wcwidth-0.2.6\\n',\n",
       " 'Looking in indexes: https://artifactory.tcsbank.ru/artifactory/api/pypi/python-all/simple\\n',\n",
       " 'Collecting polara\\n',\n",
       " '  Cloning https://github.com/evfro/polara.git (to revision develop) to /tmp/pip-install-6jhgbhnv/polara_d4be078169664e2baeaccbcc69621dc1\\n',\n",
       " '  Resolved https://github.com/evfro/polara.git to commit 8e48cfd88e616ca53f8bbda1702a3e2c8abaf38e\\n',\n",
       " '  Preparing metadata (setup.py): started\\n',\n",
       " \"  Preparing metadata (setup.py): finished with status 'done'\\n\",\n",
       " 'Building wheels for collected packages: polara\\n',\n",
       " '  Building wheel for polara (setup.py): started\\n',\n",
       " \"  Building wheel for polara (setup.py): finished with status 'done'\\n\",\n",
       " '  Created wheel for polara: filename=polara-0.7.2.dev0-py3-none-any.whl size=89447 sha256=901cf106bb338311396597d7427a9942efec3cd7cf756d541c1b553b5b839935\\n',\n",
       " '  Stored in directory: /tmp/pip-ephem-wheel-cache-e72zisd3/wheels/5e/e1/4c/eaa6d1a342974af58b0efac692b6846b8c034f8904e428626b\\n',\n",
       " 'Successfully built polara\\n',\n",
       " 'Installing collected packages: polara\\n',\n",
       " 'Successfully installed polara-0.7.2.dev0\\n',\n",
       " 'There are 25076 users\\n',\n",
       " 'Filtered 24583 invalid observations.\\n',\n",
       " \"{'lambda=10, alpha=2': -0.04220415043741388, 'lambda=10, alpha=3': -0.0445275386188103, 'lambda=10, alpha=4': -0.04163455040305903, 'lambda=10, alpha=5': -0.02454573962445331, 'lambda=10, alpha=6': -0.0006696911715293504, 'lambda=20, alpha=2': -0.05028350217742456, 'lambda=20, alpha=3': -0.05221513373865097, 'lambda=20, alpha=4': -0.04868528001816376, 'lambda=20, alpha=5': -0.036822080467228145, 'lambda=20, alpha=6': -0.005399251346179825, 'lambda=30, alpha=2': -0.052421651275705465, 'lambda=30, alpha=3': -0.05446104757555889, 'lambda=30, alpha=4': -0.05100096650642374, 'lambda=30, alpha=5': -0.03918132708486275, 'lambda=30, alpha=6': -0.00802365943152216, 'lambda=40, alpha=2': -0.05028350217742456, 'lambda=40, alpha=3': -0.05221513373865097, 'lambda=40, alpha=4': -0.04868528001816376, 'lambda=40, alpha=5': -0.04296025088861556, 'lambda=40, alpha=6': -0.0101288115208303, 'lambda=50, alpha=2': -0.04628789961181947, 'lambda=50, alpha=3': -0.04801752394099167, 'lambda=50, alpha=4': -0.05115387316035176, 'lambda=50, alpha=5': -0.044237136241740804, 'lambda=50, alpha=6': -0.009561920201928966, 'lambda=60, alpha=2': -0.05306946617944087, 'lambda=60, alpha=3': -0.05437643011383208, 'lambda=60, alpha=4': -0.05681231807936099, 'lambda=60, alpha=5': -0.0489546027738419, 'lambda=60, alpha=6': -0.012821060745980955, 'lambda=70, alpha=2': -0.04824164194549724, 'lambda=70, alpha=3': -0.05007014590694022, 'lambda=70, alpha=4': -0.053394741855351945, 'lambda=70, alpha=5': -0.04661622212412785, 'lambda=70, alpha=6': -0.012160524666766568, 'lambda=80, alpha=2': -0.04824164194549724, 'lambda=80, alpha=3': -0.05007014590694022, 'lambda=80, alpha=4': -0.053394741855351945, 'lambda=80, alpha=5': -0.04661622212412785, 'lambda=80, alpha=6': -0.012160524666766568, 'lambda=90, alpha=2': -0.04725422746183619, 'lambda=90, alpha=3': -0.049032783074308736, 'lambda=90, alpha=4': -0.052262293914925574, 'lambda=90, alpha=5': -0.04541433646045958, 'lambda=90, alpha=6': -0.010849325736984428, 'lambda=100, alpha=2': -0.04725422746183619, 'lambda=100, alpha=3': -0.049032783074308736, 'lambda=100, alpha=4': -0.052262293914925574, 'lambda=100, alpha=5': -0.04541433646045958, 'lambda=100, alpha=6': -0.010849325736984428, 'lambda=110, alpha=2': -0.04824164194549724, 'lambda=110, alpha=3': -0.05007014590694022, 'lambda=110, alpha=4': -0.053394741855351945, 'lambda=110, alpha=5': -0.04661622212412785, 'lambda=110, alpha=6': -0.012160524666766568, 'lambda=120, alpha=2': -0.04925107097362632, 'lambda=120, alpha=3': -0.0511305845685166, 'lambda=120, alpha=4': -0.05455227259457288, 'lambda=120, alpha=5': -0.04784386888709083, 'lambda=120, alpha=6': -0.013496518469805468, 'lambda=130, alpha=2': -0.04925107097362632, 'lambda=130, alpha=3': -0.0511305845685166, 'lambda=130, alpha=4': -0.05455227259457288, 'lambda=130, alpha=5': -0.04784386888709083, 'lambda=130, alpha=6': -0.013496518469805468, 'lambda=140, alpha=2': -0.04124596123927331, 'lambda=140, alpha=3': -0.04351363156189829, 'lambda=140, alpha=4': -0.047566332869154855, 'lambda=140, alpha=5': -0.04176210275379693, 'lambda=140, alpha=6': -0.008810418716800683, 'lambda=150, alpha=2': -0.0403087314362525, 'lambda=150, alpha=3': -0.04252189128460569, 'lambda=150, alpha=4': -0.0464718093155399, 'lambda=150, alpha=5': -0.0405893083060033, 'lambda=150, alpha=6': -0.007516689515019575, 'lambda=160, alpha=2': -0.038493620267547754, 'lambda=160, alpha=3': -0.04060117844968633, 'lambda=160, alpha=4': -0.044351921968042, 'lambda=160, alpha=5': -0.038315545442554194, 'lambda=160, alpha=6': -0.004999238149826655, 'lambda=170, alpha=2': -0.036752273494964995, 'lambda=170, alpha=3': -0.0387584805638692, 'lambda=170, alpha=4': -0.04231799682092641, 'lambda=170, alpha=5': -0.036131109021498055, 'lambda=170, alpha=6': -0.002569060637627743, 'lambda=180, alpha=2': -0.029886424450317157, 'lambda=180, alpha=3': -0.03231750209646637, 'lambda=180, alpha=4': -0.036580823753118726, 'lambda=180, alpha=5': -0.03134162272312942, 'lambda=180, alpha=6': 0.0007500269374943284, 'lambda=190, alpha=2': -0.029886424450317157, 'lambda=190, alpha=3': -0.03231750209646637, 'lambda=190, alpha=4': -0.036580823753118726, 'lambda=190, alpha=5': -0.03134162272312942, 'lambda=190, alpha=6': 0.0007500269374943284, 'lambda=200, alpha=2': -0.03590742251292891, 'lambda=200, alpha=3': -0.03786444225065269, 'lambda=200, alpha=4': -0.04133112784112035, 'lambda=200, alpha=5': -0.03507017983565735, 'lambda=200, alpha=6': -0.001384615712128145, 'lambda=210, alpha=2': -0.03590742251292891, 'lambda=210, alpha=3': -0.03786444225065269, 'lambda=210, alpha=4': -0.04133112784112035, 'lambda=210, alpha=5': -0.03507017983565735, 'lambda=210, alpha=6': -0.001384615712128145, 'lambda=220, alpha=2': -0.03590742251292891, 'lambda=220, alpha=3': -0.03786444225065269, 'lambda=220, alpha=4': -0.04133112784112035, 'lambda=220, alpha=5': -0.03507017983565735, 'lambda=220, alpha=6': -0.001384615712128145, 'lambda=230, alpha=2': -0.03590742251292891, 'lambda=230, alpha=3': -0.03786444225065269, 'lambda=230, alpha=4': -0.04133112784112035, 'lambda=230, alpha=5': -0.03507017983565735, 'lambda=230, alpha=6': -0.001384615712128145, 'lambda=240, alpha=2': -0.03590742251292891, 'lambda=240, alpha=3': -0.03786444225065269, 'lambda=240, alpha=4': -0.03469912594704395, 'lambda=240, alpha=5': -0.02929654220054, 'lambda=240, alpha=6': 0.003064066019934611, 'lambda=250, alpha=2': -0.03507888849758968, 'lambda=250, alpha=3': -0.0369876614277801, 'lambda=250, alpha=4': -0.03378510450047251, 'lambda=250, alpha=5': -0.028302257593019468, 'lambda=250, alpha=6': 0.0041929917659341825, 'lambda=260, alpha=2': -0.03507888849758968, 'lambda=260, alpha=3': -0.0369876614277801, 'lambda=260, alpha=4': -0.03378510450047251, 'lambda=260, alpha=5': -0.028302257593019468, 'lambda=260, alpha=6': 0.0041929917659341825, 'lambda=270, alpha=2': -0.03507888849758968, 'lambda=270, alpha=3': -0.0369876614277801, 'lambda=270, alpha=4': -0.03378510450047251, 'lambda=270, alpha=5': -0.028302257593019468, 'lambda=270, alpha=6': 0.0041929917659341825, 'lambda=280, alpha=2': -0.03507888849758968, 'lambda=280, alpha=3': -0.0369876614277801, 'lambda=280, alpha=4': -0.03378510450047251, 'lambda=280, alpha=5': -0.028302257593019468, 'lambda=280, alpha=6': 0.0041929917659341825, 'lambda=290, alpha=2': -0.04174371788511176, 'lambda=290, alpha=3': -0.04324256642675456, 'lambda=290, alpha=4': -0.03941370915750555, 'lambda=290, alpha=5': -0.03300691051787124, 'lambda=290, alpha=6': 0.0009267573939170287, 'lambda=300, alpha=2': -0.04174371788511176, 'lambda=300, alpha=3': -0.04324256642675456, 'lambda=300, alpha=4': -0.03941370915750555, 'lambda=300, alpha=5': -0.03300691051787124, 'lambda=300, alpha=6': 0.0009267573939170287, 'lambda=310, alpha=2': -0.03922147054314448, 'lambda=310, alpha=3': -0.04059173136025286, 'lambda=310, alpha=4': -0.03666800689792882, 'lambda=310, alpha=5': -0.030047777152175468, 'lambda=310, alpha=6': 0.004260162709963705, 'lambda=320, alpha=2': -0.03922147054314448, 'lambda=320, alpha=3': -0.04059173136025286, 'lambda=320, alpha=4': -0.03666800689792882, 'lambda=320, alpha=5': -0.030047777152175468, 'lambda=320, alpha=6': 0.004260162709963705, 'lambda=330, alpha=2': -0.03922147054314448, 'lambda=330, alpha=3': -0.04059173136025286, 'lambda=330, alpha=4': -0.03666800689792882, 'lambda=330, alpha=5': -0.030047777152175468, 'lambda=330, alpha=6': 0.004260162709963705, 'lambda=340, alpha=2': -0.03841104245836807, 'lambda=340, alpha=3': -0.0397399091770919, 'lambda=340, alpha=4': -0.03578503930766618, 'lambda=340, alpha=5': -0.029095010234937404, 'lambda=340, alpha=6': 0.005338118793795648, 'lambda=350, alpha=2': -0.04481224920157611, 'lambda=350, alpha=3': -0.045751422181806146, 'lambda=350, alpha=4': -0.0411982934802815, 'lambda=350, alpha=5': -0.0336261658254276, 'lambda=350, alpha=6': 0.002187160058648028, 'lambda=360, alpha=2': -0.04481224920157611, 'lambda=360, alpha=3': -0.045751422181806146, 'lambda=360, alpha=4': -0.0411982934802815, 'lambda=360, alpha=5': -0.0336261658254276, 'lambda=360, alpha=6': 0.002187160058648028, 'lambda=370, alpha=2': -0.04397754310769683, 'lambda=370, alpha=3': -0.04487921623716801, 'lambda=370, alpha=4': -0.04029951750232409, 'lambda=370, alpha=5': -0.03266476223732485, 'lambda=370, alpha=6': 0.0032649434197253775, 'lambda=380, alpha=2': -0.04481224920157611, 'lambda=380, alpha=3': -0.045751422181806146, 'lambda=380, alpha=4': -0.0411982934802815, 'lambda=380, alpha=5': -0.0336261658254276, 'lambda=380, alpha=6': 0.002187160058648028, 'lambda=390, alpha=2': -0.04481224920157611, 'lambda=390, alpha=3': -0.045751422181806146, 'lambda=390, alpha=4': -0.0411982934802815, 'lambda=390, alpha=5': -0.0336261658254276, 'lambda=390, alpha=6': 0.002187160058648028, 'lambda=400, alpha=2': -0.043157269330390303, 'lambda=400, alpha=3': -0.044022031519580465, 'lambda=400, alpha=4': -0.03941589105093538, 'lambda=400, alpha=5': -0.03171898556189808, 'lambda=400, alpha=6': 0.00432741666964823, 'lambda=410, alpha=2': -0.043157269330390303, 'lambda=410, alpha=3': -0.044022031519580465, 'lambda=410, alpha=4': -0.03941589105093538, 'lambda=410, alpha=5': -0.03171898556189808, 'lambda=410, alpha=6': 0.00432741666964823, 'lambda=420, alpha=2': -0.043157269330390303, 'lambda=420, alpha=3': -0.044022031519580465, 'lambda=420, alpha=4': -0.03941589105093538, 'lambda=420, alpha=5': -0.03171898556189808, 'lambda=420, alpha=6': 0.00432741666964823, 'lambda=430, alpha=2': -0.04397754310769683, 'lambda=430, alpha=3': -0.04487921623716801, 'lambda=430, alpha=4': -0.04029951750232409, 'lambda=430, alpha=5': -0.03266476223732485, 'lambda=430, alpha=6': 0.0032649434197253775, 'lambda=440, alpha=2': -0.043157269330390303, 'lambda=440, alpha=3': -0.044022031519580465, 'lambda=440, alpha=4': -0.03941589105093538, 'lambda=440, alpha=5': -0.03171898556189808, 'lambda=440, alpha=6': 0.00432741666964823, 'lambda=450, alpha=2': -0.04397754310769683, 'lambda=450, alpha=3': -0.04487921623716801, 'lambda=450, alpha=4': -0.04029951750232409, 'lambda=450, alpha=5': -0.03266476223732485, 'lambda=450, alpha=6': 0.00744759043757698, 'lambda=460, alpha=2': -0.04397754310769683, 'lambda=460, alpha=3': -0.04487921623716801, 'lambda=460, alpha=4': -0.040299... [trimmed by ml-core]\\n\",\n",
       " '[[init-process] Main process terminated]\\n']"
      ]
     },
     "execution_count": 195,
     "metadata": {},
     "output_type": "execute_result"
    }
   ],
   "source": [
    "lines"
   ]
  },
  {
   "cell_type": "code",
   "execution_count": 116,
   "id": "304098a0",
   "metadata": {
    "ExecuteTime": {
     "end_time": "2023-05-29T16:32:04.102846Z",
     "start_time": "2023-05-29T16:32:04.089848Z"
    }
   },
   "outputs": [],
   "source": [
    "lines2 = ['HR@5:0.026467203682393557, MRR@5: 0.012514384349827386, Coverage@5: 0.15633264766382604, NCDG@5: 0.015919932393721466, HR_pos@5: 0.025891829689298044, HR_neg@5: 0.0005753739930955121, MRR_pos@5: 0.01232259301879555, MRR_neg@5: 0.00019179133103183735, NCDG_pos@5: 0.01563224539717371, NDCG_neg@5: 0.00028768699654775604, Matthews@5: 0.026765332823572463\\n',\n",
    " 'HR@10:0.061565017261219795, MRR@10: 0.01709522896231757, Coverage@10: 0.23920070526006465, NCDG@10: 0.027168668032282132, HR_pos@10: 0.06098964326812428, HR_neg@10: 0.0005753739930955121, MRR_pos@10: 0.016903437631285736, MRR_neg@10: 0.00019179133103183735, NCDG_pos@10: 0.026880981035734382, NDCG_neg@10: 0.00028768699654775604, Matthews@10: 0.054900945858515716\\n',\n",
    " 'HR@20:0.10644418872266974, MRR@20: 0.02013918382197373, Coverage@20: 0.34205113135468707, NCDG@20: 0.03842549945746825, HR_pos@20: 0.10529344073647871, HR_neg@20: 0.0011507479861910242, MRR_pos@20: 0.019911431616373425, MRR_neg@20: 0.00022775220560030686, NCDG_pos@20: 0.03799704690158895, NDCG_neg@20: 0.0004284525558793015, Matthews@20: 0.07185783431178848\\n']\n",
    "lines3 = ['HR@5:0.0477560414269275, MRR@5: 0.02287111622554661, Coverage@5: 0.2618277990008816, NCDG@5: 0.029010753064382923, HR_pos@5: 0.04200230149597238, HR_neg@5: 0.005753739930955121, MRR_pos@5: 0.01975450709627925, MRR_neg@5: 0.0031166091292673566, NCDG_pos@5: 0.025239815675796563, NDCG_neg@5: 0.003770937388586361, Matthews@5: 0.03444772518107551\\n',\n",
    " 'HR@10:0.07997698504027617, MRR@10: 0.0270076442544797, Coverage@10: 0.3811342932706436, NCDG@10: 0.039266367882097405, HR_pos@10: 0.07192174913693901, HR_neg@10: 0.00805523590333717, MRR_pos@10: 0.023619330739583902, MRR_neg@10: 0.003388313514895793, NCDG_pos@10: 0.03478600026054245, NDCG_neg@10: 0.004480367621554957, Matthews@10: 0.06053506378511221\\n',\n",
    " 'HR@20:0.13176064441887225, MRR@20: 0.03036277182343352, Coverage@20: 0.5362915074933882, NCDG@20: 0.052061540646479706, HR_pos@20: 0.11334867663981588, HR_neg@20: 0.018411967779056387, MRR_pos@20: 0.026295278868273878, MRR_neg@20: 0.004067492955159644, NCDG_pos@20: 0.04501220064245336, NDCG_neg@20: 0.0070493400040263395, Matthews@20: 0.04037721499969662\\n']\n",
    "lines4 = ['HR@5:0.02589182968929804, MRR@5: 0.012332182585347141, Coverage@5: 0.14516602997355274, NCDG@5: 0.015647228820667873, HR_pos@5: 0.01668584579976985, HR_neg@5: 0.009205983889528193, MRR_pos@5: 0.007671653241273496, MRR_neg@5: 0.004660529344073649, NCDG_pos@5: 0.009885321796750352, NDCG_neg@5: 0.005761907023917523, Matthews@5: 0.025008567018682162\\n',\n",
    " 'HR@10:0.061565017261219795, MRR@10: 0.01696417155277915, Coverage@10: 0.21569203643843668, NCDG@10: 0.027055400395345798, HR_pos@10: 0.043153049482163405, HR_neg@10: 0.018411967779056387, MRR_pos@10: 0.011187599320510711, MRR_neg@10: 0.005776572232268434, NCDG_pos@10: 0.018429025027251973, NDCG_neg@10: 0.008626375368093825, Matthews@10: 0.06850258554942971\\n',\n",
    " 'HR@20:0.0995397008055236, MRR@20: 0.01947012253810841, Coverage@20: 0.31413458712900383, NCDG@20: 0.036495444543476134, HR_pos@20: 0.06501726121979287, HR_neg@20: 0.03452243958573072, MRR_pos@20: 0.012646674475753662, MRR_neg@20: 0.006823448062354744, NCDG_pos@20: 0.023884082647780025, NDCG_neg@20: 0.012611361895696109, Matthews@20: 0.05686428967211058\\n']\n",
    "lines5 = ['HR@5:0.023590333716915997, MRR@5: 0.012600690448791715, Coverage@5: 0.11871877754922128, NCDG@5: 0.015319358773925523, HR_pos@5: 0.007479861910241657, HR_neg@5: 0.01611047180667434, MRR_pos@5: 0.004593402378212505, MRR_neg@5: 0.008007288070579209, NCDG_pos@5: 0.0053096094285548364, NDCG_neg@5: 0.010009749345370682, Matthews@5: 0.033064641873732065\\n',\n",
    " 'HR@10:0.04602991944764097, MRR@10: 0.015517288618554443, Coverage@10: 0.1839553335292389, NCDG@10: 0.02249457272530249, HR_pos@10: 0.019562715765247412, HR_neg@10: 0.026467203682393557, MRR_pos@10: 0.006101704202970025, MRR_neg@10: 0.009415584415584414, NCDG_pos@10: 0.009109782289816015, NDCG_neg@10: 0.013384790435486476, Matthews@10: 0.10324751689514314\\n',\n",
    " 'HR@20:0.08342922899884925, MRR@20: 0.01800561518445674, Coverage@20: 0.27887158389656186, NCDG@20: 0.03180986267090908, HR_pos@20: 0.029344073647871116, HR_neg@20: 0.05408515535097814, MRR_pos@20: 0.006789341419396426, MRR_neg@20: 0.011216273765060313, NCDG_pos@20: 0.01159246460682124, NDCG_neg@20: 0.020217398064087833, Matthews@20: 0.08910238652782497\\n']"
   ]
  },
  {
   "cell_type": "code",
   "execution_count": 125,
   "id": "ef66aa3e",
   "metadata": {
    "ExecuteTime": {
     "end_time": "2023-05-29T16:33:30.789577Z",
     "start_time": "2023-05-29T16:33:30.771577Z"
    }
   },
   "outputs": [],
   "source": [
    "alpha = 5\n",
    "alphas = []\n",
    "topks = []\n",
    "metrics = []\n",
    "for line in lines5:\n",
    "    if 'HR@' in line:\n",
    "        for i in line.split(', '):\n",
    "            metrics.append(float(i.split(':')[-1].strip()))"
   ]
  },
  {
   "cell_type": "code",
   "execution_count": 126,
   "id": "4a764511",
   "metadata": {
    "ExecuteTime": {
     "end_time": "2023-05-29T16:33:30.963579Z",
     "start_time": "2023-05-29T16:33:30.926577Z"
    }
   },
   "outputs": [
    {
     "data": {
      "text/html": [
       "<div>\n",
       "<style scoped>\n",
       "    .dataframe tbody tr th:only-of-type {\n",
       "        vertical-align: middle;\n",
       "    }\n",
       "\n",
       "    .dataframe tbody tr th {\n",
       "        vertical-align: top;\n",
       "    }\n",
       "\n",
       "    .dataframe thead th {\n",
       "        text-align: right;\n",
       "    }\n",
       "</style>\n",
       "<table border=\"1\" class=\"dataframe\">\n",
       "  <thead>\n",
       "    <tr style=\"text-align: right;\">\n",
       "      <th></th>\n",
       "      <th>0</th>\n",
       "      <th>1</th>\n",
       "      <th>2</th>\n",
       "      <th>3</th>\n",
       "      <th>4</th>\n",
       "      <th>5</th>\n",
       "      <th>6</th>\n",
       "      <th>7</th>\n",
       "      <th>8</th>\n",
       "      <th>9</th>\n",
       "      <th>10</th>\n",
       "    </tr>\n",
       "  </thead>\n",
       "  <tbody>\n",
       "    <tr>\n",
       "      <th>0</th>\n",
       "      <td>0.02359</td>\n",
       "      <td>0.012601</td>\n",
       "      <td>0.118719</td>\n",
       "      <td>0.015319</td>\n",
       "      <td>0.00748</td>\n",
       "      <td>0.01611</td>\n",
       "      <td>0.004593</td>\n",
       "      <td>0.008007</td>\n",
       "      <td>0.00531</td>\n",
       "      <td>0.01001</td>\n",
       "      <td>0.033065</td>\n",
       "    </tr>\n",
       "  </tbody>\n",
       "</table>\n",
       "</div>"
      ],
      "text/plain": [
       "        0         1         2         3        4        5         6   \\\n",
       "0  0.02359  0.012601  0.118719  0.015319  0.00748  0.01611  0.004593   \n",
       "\n",
       "         7        8        9         10  \n",
       "0  0.008007  0.00531  0.01001  0.033065  "
      ]
     },
     "metadata": {},
     "output_type": "display_data"
    },
    {
     "data": {
      "text/html": [
       "<div>\n",
       "<style scoped>\n",
       "    .dataframe tbody tr th:only-of-type {\n",
       "        vertical-align: middle;\n",
       "    }\n",
       "\n",
       "    .dataframe tbody tr th {\n",
       "        vertical-align: top;\n",
       "    }\n",
       "\n",
       "    .dataframe thead th {\n",
       "        text-align: right;\n",
       "    }\n",
       "</style>\n",
       "<table border=\"1\" class=\"dataframe\">\n",
       "  <thead>\n",
       "    <tr style=\"text-align: right;\">\n",
       "      <th></th>\n",
       "      <th>0</th>\n",
       "      <th>1</th>\n",
       "      <th>2</th>\n",
       "      <th>3</th>\n",
       "      <th>4</th>\n",
       "      <th>5</th>\n",
       "      <th>6</th>\n",
       "      <th>7</th>\n",
       "      <th>8</th>\n",
       "      <th>9</th>\n",
       "      <th>10</th>\n",
       "    </tr>\n",
       "  </thead>\n",
       "  <tbody>\n",
       "    <tr>\n",
       "      <th>0</th>\n",
       "      <td>0.04603</td>\n",
       "      <td>0.015517</td>\n",
       "      <td>0.183955</td>\n",
       "      <td>0.022495</td>\n",
       "      <td>0.019563</td>\n",
       "      <td>0.026467</td>\n",
       "      <td>0.006102</td>\n",
       "      <td>0.009416</td>\n",
       "      <td>0.00911</td>\n",
       "      <td>0.013385</td>\n",
       "      <td>0.103248</td>\n",
       "    </tr>\n",
       "  </tbody>\n",
       "</table>\n",
       "</div>"
      ],
      "text/plain": [
       "        0         1         2         3         4         5         6   \\\n",
       "0  0.04603  0.015517  0.183955  0.022495  0.019563  0.026467  0.006102   \n",
       "\n",
       "         7        8         9         10  \n",
       "0  0.009416  0.00911  0.013385  0.103248  "
      ]
     },
     "metadata": {},
     "output_type": "display_data"
    },
    {
     "data": {
      "text/html": [
       "<div>\n",
       "<style scoped>\n",
       "    .dataframe tbody tr th:only-of-type {\n",
       "        vertical-align: middle;\n",
       "    }\n",
       "\n",
       "    .dataframe tbody tr th {\n",
       "        vertical-align: top;\n",
       "    }\n",
       "\n",
       "    .dataframe thead th {\n",
       "        text-align: right;\n",
       "    }\n",
       "</style>\n",
       "<table border=\"1\" class=\"dataframe\">\n",
       "  <thead>\n",
       "    <tr style=\"text-align: right;\">\n",
       "      <th></th>\n",
       "      <th>0</th>\n",
       "      <th>1</th>\n",
       "      <th>2</th>\n",
       "      <th>3</th>\n",
       "      <th>4</th>\n",
       "      <th>5</th>\n",
       "      <th>6</th>\n",
       "      <th>7</th>\n",
       "      <th>8</th>\n",
       "      <th>9</th>\n",
       "      <th>10</th>\n",
       "    </tr>\n",
       "  </thead>\n",
       "  <tbody>\n",
       "    <tr>\n",
       "      <th>0</th>\n",
       "      <td>0.083429</td>\n",
       "      <td>0.018006</td>\n",
       "      <td>0.278872</td>\n",
       "      <td>0.03181</td>\n",
       "      <td>0.029344</td>\n",
       "      <td>0.054085</td>\n",
       "      <td>0.006789</td>\n",
       "      <td>0.011216</td>\n",
       "      <td>0.011592</td>\n",
       "      <td>0.020217</td>\n",
       "      <td>0.089102</td>\n",
       "    </tr>\n",
       "  </tbody>\n",
       "</table>\n",
       "</div>"
      ],
      "text/plain": [
       "         0         1         2        3         4         5         6   \\\n",
       "0  0.083429  0.018006  0.278872  0.03181  0.029344  0.054085  0.006789   \n",
       "\n",
       "         7         8         9         10  \n",
       "0  0.011216  0.011592  0.020217  0.089102  "
      ]
     },
     "metadata": {},
     "output_type": "display_data"
    }
   ],
   "source": [
    "for i in range(3):\n",
    "    display(pd.DataFrame(metrics[11*i:11*(i+1)]).T)"
   ]
  },
  {
   "cell_type": "code",
   "execution_count": 81,
   "id": "8e21de15",
   "metadata": {
    "ExecuteTime": {
     "end_time": "2023-05-23T18:27:26.764686Z",
     "start_time": "2023-05-23T18:27:26.752686Z"
    }
   },
   "outputs": [
    {
     "data": {
      "text/plain": [
       "132"
      ]
     },
     "execution_count": 81,
     "metadata": {},
     "output_type": "execute_result"
    }
   ],
   "source": [
    "11*3*4"
   ]
  },
  {
   "cell_type": "markdown",
   "id": "4a386d52",
   "metadata": {},
   "source": [
    "## dict"
   ]
  },
  {
   "cell_type": "code",
   "execution_count": 127,
   "id": "04fe0c4c",
   "metadata": {
    "ExecuteTime": {
     "end_time": "2023-05-29T16:38:14.190342Z",
     "start_time": "2023-05-29T16:38:14.155115Z"
    },
    "code_folding": [
     0
    ]
   },
   "outputs": [],
   "source": [
    "d = {'r=16_2, alpha=2': 0.05531103432672559,\n",
    " 'r=16_2, alpha=3': 0.07365974504539831,\n",
    " 'r=16_2, alpha=4': 0.149377867671188,\n",
    " 'r=16_2, alpha=5': 0.2383536087975349,\n",
    " 'r=32_2, alpha=2': 0.05923706005849889,\n",
    " 'r=32_2, alpha=3': 0.07472952705088284,\n",
    " 'r=32_2, alpha=4': 0.15453795127479317,\n",
    " 'r=32_2, alpha=5': 0.22130201655159662,\n",
    " 'r=64_2, alpha=2': 0.05747916632248626,\n",
    " 'r=64_2, alpha=3': 0.07821901652467918,\n",
    " 'r=64_2, alpha=4': 0.1417710069101706,\n",
    " 'r=64_2, alpha=5': 0.18265776635878014,\n",
    " 'r=128_2, alpha=2': 0.06428255989173427,\n",
    " 'r=128_2, alpha=3': 0.0921665249686498,\n",
    " 'r=128_2, alpha=4': 0.14548104368411133,\n",
    " 'r=128_2, alpha=5': 0.14519831508760941,\n",
    " 'r=256_2, alpha=2': 0.04648171239236602,\n",
    " 'r=256_2, alpha=3': 0.06436521303976957,\n",
    " 'r=256_2, alpha=4': 0.11616547800080264,\n",
    " 'r=256_2, alpha=5': 0.10279871155849937,\n",
    " 'r=512_2, alpha=2': 0.01836295380723834,\n",
    " 'r=512_2, alpha=3': -5.255336877465284e-06,\n",
    " 'r=512_2, alpha=4': 0.024733820641945525,\n",
    " 'r=512_2, alpha=5': 0.028398646574531276,\n",
    " 'r=1024_2, alpha=2': -0.012605742462697647,\n",
    " 'r=1024_2, alpha=3': 0.0011548263678972032,\n",
    " 'r=1024_2, alpha=4': 0.008776905395472202,\n",
    " 'r=1024_2, alpha=5': -0.004061604266722465,\n",
    " 'r=2048_2, alpha=2': -0.008593398433128252,\n",
    " 'r=2048_2, alpha=3': -0.001366927970622446,\n",
    " 'r=2048_2, alpha=4': -0.027240563322450166,\n",
    " 'r=2048_2, alpha=5': -0.028043964322806262,\n",
    " 'r=16_3, alpha=2': 0.05230722171275475,\n",
    " 'r=16_3, alpha=3': 0.059236661436579026,\n",
    " 'r=16_3, alpha=4': 0.13705354078026863,\n",
    " 'r=16_3, alpha=5': 0.20680013894842025,\n",
    " 'r=32_3, alpha=2': 0.056041274291019426,\n",
    " 'r=32_3, alpha=3': 0.07520242034916262,\n",
    " 'r=32_3, alpha=4': 0.15791901975652467,\n",
    " 'r=32_3, alpha=5': 0.2392319270741349,\n",
    " 'r=64_3, alpha=2': 0.059928752161400034,\n",
    " 'r=64_3, alpha=3': 0.07623041769189473,\n",
    " 'r=64_3, alpha=4': 0.13637825903424544,\n",
    " 'r=64_3, alpha=5': 0.19125081430382865,\n",
    " 'r=128_3, alpha=2': 0.05747916632248626,\n",
    " 'r=128_3, alpha=3': 0.07821901652467918,\n",
    " 'r=128_3, alpha=4': 0.13086308422145937,\n",
    " 'r=128_3, alpha=5': 0.16319532546876533,\n",
    " 'r=256_3, alpha=2': 0.051921669262761865,\n",
    " 'r=256_3, alpha=3': 0.0663952086002175,\n",
    " 'r=256_3, alpha=4': 0.10554181919367596,\n",
    " 'r=256_3, alpha=5': 0.13862609732445122,\n",
    " 'r=512_3, alpha=2': 0.02158300430799532,\n",
    " 'r=512_3, alpha=3': 0.04129713740698912,\n",
    " 'r=512_3, alpha=4': 0.0692205693926399,\n",
    " 'r=512_3, alpha=5': 0.08724229056479206,\n",
    " 'r=1024_3, alpha=2': -0.0019113233866926468,\n",
    " 'r=1024_3, alpha=3': 0.0016772129834947385,\n",
    " 'r=1024_3, alpha=4': 0.03980498224388007,\n",
    " 'r=1024_3, alpha=5': 0.06144435927282375,\n",
    " 'r=2048_3, alpha=2': -0.019126859140523752,\n",
    " 'r=2048_3, alpha=3': 0.00667494894545064,\n",
    " 'r=2048_3, alpha=4': -0.028005508813704384,\n",
    " 'r=2048_3, alpha=5': -0.03664498184133764,\n",
    " 'r=16_4, alpha=2': 0.05307131610784122,\n",
    " 'r=16_4, alpha=3': 0.060990852217879435,\n",
    " 'r=16_4, alpha=4': 0.13434827072904545,\n",
    " 'r=16_4, alpha=5': 0.214929221552216,\n",
    " 'r=32_4, alpha=2': 0.05457285406582348,\n",
    " 'r=32_4, alpha=3': 0.05671151567264219,\n",
    " 'r=32_4, alpha=4': 0.13493890265515737,\n",
    " 'r=32_4, alpha=5': 0.23749638986025642,\n",
    " 'r=64_4, alpha=2': 0.05035481397541435,\n",
    " 'r=64_4, alpha=3': 0.07125116535671248,\n",
    " 'r=64_4, alpha=4': 0.12275109308233201,\n",
    " 'r=64_4, alpha=5': 0.20031826195757757,\n",
    " 'r=128_4, alpha=2': 0.056041274291019426,\n",
    " 'r=128_4, alpha=3': 0.07520242034916262,\n",
    " 'r=128_4, alpha=4': 0.11327806333028335,\n",
    " 'r=128_4, alpha=5': 0.15958138310588654,\n",
    " 'r=256_4, alpha=2': 0.04171101887483536,\n",
    " 'r=256_4, alpha=3': 0.06271205106119178,\n",
    " 'r=256_4, alpha=4': 0.08543329235115478,\n",
    " 'r=256_4, alpha=5': 0.09895754479298603,\n",
    " 'r=512_4, alpha=2': 0.01700777908163277,\n",
    " 'r=512_4, alpha=3': 0.033540635418489305,\n",
    " 'r=512_4, alpha=4': 0.0736567865476854,\n",
    " 'r=512_4, alpha=5': 0.07278996180301688}"
   ]
  },
  {
   "cell_type": "code",
   "execution_count": 128,
   "id": "f7e3d1f5",
   "metadata": {
    "ExecuteTime": {
     "end_time": "2023-05-29T16:38:14.488175Z",
     "start_time": "2023-05-29T16:38:14.476199Z"
    }
   },
   "outputs": [
    {
     "data": {
      "text/plain": [
       "[('r=32_3, alpha=5', 0.2392319270741349),\n",
       " ('r=16_2, alpha=5', 0.2383536087975349),\n",
       " ('r=32_4, alpha=5', 0.23749638986025642),\n",
       " ('r=32_2, alpha=5', 0.22130201655159662),\n",
       " ('r=16_4, alpha=5', 0.214929221552216),\n",
       " ('r=16_3, alpha=5', 0.20680013894842025),\n",
       " ('r=64_4, alpha=5', 0.20031826195757757),\n",
       " ('r=64_3, alpha=5', 0.19125081430382865),\n",
       " ('r=64_2, alpha=5', 0.18265776635878014),\n",
       " ('r=128_3, alpha=5', 0.16319532546876533),\n",
       " ('r=128_4, alpha=5', 0.15958138310588654),\n",
       " ('r=32_3, alpha=4', 0.15791901975652467),\n",
       " ('r=32_2, alpha=4', 0.15453795127479317),\n",
       " ('r=16_2, alpha=4', 0.149377867671188),\n",
       " ('r=128_2, alpha=4', 0.14548104368411133),\n",
       " ('r=128_2, alpha=5', 0.14519831508760941),\n",
       " ('r=64_2, alpha=4', 0.1417710069101706),\n",
       " ('r=256_3, alpha=5', 0.13862609732445122),\n",
       " ('r=16_3, alpha=4', 0.13705354078026863),\n",
       " ('r=64_3, alpha=4', 0.13637825903424544),\n",
       " ('r=32_4, alpha=4', 0.13493890265515737),\n",
       " ('r=16_4, alpha=4', 0.13434827072904545),\n",
       " ('r=128_3, alpha=4', 0.13086308422145937),\n",
       " ('r=64_4, alpha=4', 0.12275109308233201),\n",
       " ('r=256_2, alpha=4', 0.11616547800080264),\n",
       " ('r=128_4, alpha=4', 0.11327806333028335),\n",
       " ('r=256_3, alpha=4', 0.10554181919367596),\n",
       " ('r=256_2, alpha=5', 0.10279871155849937),\n",
       " ('r=256_4, alpha=5', 0.09895754479298603),\n",
       " ('r=128_2, alpha=3', 0.0921665249686498),\n",
       " ('r=512_3, alpha=5', 0.08724229056479206),\n",
       " ('r=256_4, alpha=4', 0.08543329235115478),\n",
       " ('r=64_2, alpha=3', 0.07821901652467918),\n",
       " ('r=128_3, alpha=3', 0.07821901652467918),\n",
       " ('r=64_3, alpha=3', 0.07623041769189473),\n",
       " ('r=32_3, alpha=3', 0.07520242034916262),\n",
       " ('r=128_4, alpha=3', 0.07520242034916262),\n",
       " ('r=32_2, alpha=3', 0.07472952705088284),\n",
       " ('r=16_2, alpha=3', 0.07365974504539831),\n",
       " ('r=512_4, alpha=4', 0.0736567865476854),\n",
       " ('r=512_4, alpha=5', 0.07278996180301688),\n",
       " ('r=64_4, alpha=3', 0.07125116535671248),\n",
       " ('r=512_3, alpha=4', 0.0692205693926399),\n",
       " ('r=256_3, alpha=3', 0.0663952086002175),\n",
       " ('r=256_2, alpha=3', 0.06436521303976957),\n",
       " ('r=128_2, alpha=2', 0.06428255989173427),\n",
       " ('r=256_4, alpha=3', 0.06271205106119178),\n",
       " ('r=1024_3, alpha=5', 0.06144435927282375),\n",
       " ('r=16_4, alpha=3', 0.060990852217879435),\n",
       " ('r=64_3, alpha=2', 0.059928752161400034),\n",
       " ('r=32_2, alpha=2', 0.05923706005849889),\n",
       " ('r=16_3, alpha=3', 0.059236661436579026),\n",
       " ('r=64_2, alpha=2', 0.05747916632248626),\n",
       " ('r=128_3, alpha=2', 0.05747916632248626),\n",
       " ('r=32_4, alpha=3', 0.05671151567264219),\n",
       " ('r=32_3, alpha=2', 0.056041274291019426),\n",
       " ('r=128_4, alpha=2', 0.056041274291019426),\n",
       " ('r=16_2, alpha=2', 0.05531103432672559),\n",
       " ('r=32_4, alpha=2', 0.05457285406582348),\n",
       " ('r=16_4, alpha=2', 0.05307131610784122),\n",
       " ('r=16_3, alpha=2', 0.05230722171275475),\n",
       " ('r=256_3, alpha=2', 0.051921669262761865),\n",
       " ('r=64_4, alpha=2', 0.05035481397541435),\n",
       " ('r=256_2, alpha=2', 0.04648171239236602),\n",
       " ('r=256_4, alpha=2', 0.04171101887483536),\n",
       " ('r=512_3, alpha=3', 0.04129713740698912),\n",
       " ('r=1024_3, alpha=4', 0.03980498224388007),\n",
       " ('r=512_4, alpha=3', 0.033540635418489305),\n",
       " ('r=512_2, alpha=5', 0.028398646574531276),\n",
       " ('r=512_2, alpha=4', 0.024733820641945525),\n",
       " ('r=512_3, alpha=2', 0.02158300430799532),\n",
       " ('r=512_2, alpha=2', 0.01836295380723834),\n",
       " ('r=512_4, alpha=2', 0.01700777908163277),\n",
       " ('r=1024_2, alpha=4', 0.008776905395472202),\n",
       " ('r=2048_3, alpha=3', 0.00667494894545064),\n",
       " ('r=1024_3, alpha=3', 0.0016772129834947385),\n",
       " ('r=1024_2, alpha=3', 0.0011548263678972032),\n",
       " ('r=512_2, alpha=3', -5.255336877465284e-06),\n",
       " ('r=2048_2, alpha=3', -0.001366927970622446),\n",
       " ('r=1024_3, alpha=2', -0.0019113233866926468),\n",
       " ('r=1024_2, alpha=5', -0.004061604266722465),\n",
       " ('r=2048_2, alpha=2', -0.008593398433128252),\n",
       " ('r=1024_2, alpha=2', -0.012605742462697647),\n",
       " ('r=2048_3, alpha=2', -0.019126859140523752),\n",
       " ('r=2048_2, alpha=4', -0.027240563322450166),\n",
       " ('r=2048_3, alpha=4', -0.028005508813704384),\n",
       " ('r=2048_2, alpha=5', -0.028043964322806262),\n",
       " ('r=2048_3, alpha=5', -0.03664498184133764)]"
      ]
     },
     "execution_count": 128,
     "metadata": {},
     "output_type": "execute_result"
    }
   ],
   "source": [
    "sorted(d.items(), key=lambda x: x[1], reverse=True)"
   ]
  },
  {
   "cell_type": "code",
   "execution_count": null,
   "id": "2000cb6b",
   "metadata": {},
   "outputs": [],
   "source": []
  }
 ],
 "metadata": {
  "kernelspec": {
   "display_name": "Python 3 (ipykernel)",
   "language": "python",
   "name": "python3"
  },
  "language_info": {
   "codemirror_mode": {
    "name": "ipython",
    "version": 3
   },
   "file_extension": ".py",
   "mimetype": "text/x-python",
   "name": "python",
   "nbconvert_exporter": "python",
   "pygments_lexer": "ipython3",
   "version": "3.9.13"
  },
  "toc": {
   "base_numbering": 1,
   "nav_menu": {},
   "number_sections": true,
   "sideBar": true,
   "skip_h1_title": false,
   "title_cell": "Table of Contents",
   "title_sidebar": "Contents",
   "toc_cell": false,
   "toc_position": {},
   "toc_section_display": true,
   "toc_window_display": false
  },
  "varInspector": {
   "cols": {
    "lenName": 16,
    "lenType": 16,
    "lenVar": 40
   },
   "kernels_config": {
    "python": {
     "delete_cmd_postfix": "",
     "delete_cmd_prefix": "del ",
     "library": "var_list.py",
     "varRefreshCmd": "print(var_dic_list())"
    },
    "r": {
     "delete_cmd_postfix": ") ",
     "delete_cmd_prefix": "rm(",
     "library": "var_list.r",
     "varRefreshCmd": "cat(var_dic_list()) "
    }
   },
   "types_to_exclude": [
    "module",
    "function",
    "builtin_function_or_method",
    "instance",
    "_Feature"
   ],
   "window_display": false
  }
 },
 "nbformat": 4,
 "nbformat_minor": 5
}
