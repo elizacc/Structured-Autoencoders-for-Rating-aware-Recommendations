{
 "cells": [
  {
   "cell_type": "code",
   "execution_count": 1,
   "id": "6104c075",
   "metadata": {
    "ExecuteTime": {
     "end_time": "2023-06-02T08:39:36.719960Z",
     "start_time": "2023-06-02T08:39:33.570207Z"
    }
   },
   "outputs": [],
   "source": [
    "import pandas as pd"
   ]
  },
  {
   "cell_type": "markdown",
   "id": "2870e067",
   "metadata": {},
   "source": [
    "## Base tuning"
   ]
  },
  {
   "cell_type": "code",
   "execution_count": 2,
   "id": "938257d3",
   "metadata": {
    "ExecuteTime": {
     "end_time": "2023-06-01T17:31:10.114132Z",
     "start_time": "2023-06-01T17:31:10.075293Z"
    }
   },
   "outputs": [],
   "source": [
    "with open('ml_recvae.txt') as f:\n",
    "    lines1 = f.readlines()"
   ]
  },
  {
   "cell_type": "code",
   "execution_count": 50,
   "id": "1b6acd93",
   "metadata": {
    "ExecuteTime": {
     "end_time": "2023-05-31T16:40:08.719616Z",
     "start_time": "2023-05-31T16:40:08.697612Z"
    }
   },
   "outputs": [],
   "source": [
    "with open('logs_video2.txt') as f:\n",
    "    lines2 = f.readlines()"
   ]
  },
  {
   "cell_type": "code",
   "execution_count": 51,
   "id": "5bf61fbc",
   "metadata": {
    "ExecuteTime": {
     "end_time": "2023-05-31T16:40:09.063451Z",
     "start_time": "2023-05-31T16:40:09.039443Z"
    }
   },
   "outputs": [],
   "source": [
    "with open('logs_video3.txt') as f:\n",
    "    lines3 = f.readlines()"
   ]
  },
  {
   "cell_type": "code",
   "execution_count": 52,
   "id": "f4f1e5af",
   "metadata": {
    "ExecuteTime": {
     "end_time": "2023-05-31T16:40:09.411444Z",
     "start_time": "2023-05-31T16:40:09.393477Z"
    }
   },
   "outputs": [],
   "source": [
    "with open('logs_video4.txt') as f:\n",
    "    lines4 = f.readlines()"
   ]
  },
  {
   "cell_type": "code",
   "execution_count": 3,
   "id": "68639591",
   "metadata": {
    "ExecuteTime": {
     "end_time": "2023-06-01T17:31:12.508467Z",
     "start_time": "2023-06-01T17:31:12.496469Z"
    }
   },
   "outputs": [],
   "source": [
    "lines = lines1# + lines2 + lines3"
   ]
  },
  {
   "cell_type": "code",
   "execution_count": 4,
   "id": "466092b6",
   "metadata": {
    "ExecuteTime": {
     "end_time": "2023-06-01T17:31:16.002392Z",
     "start_time": "2023-06-01T17:31:15.758638Z"
    },
    "code_folding": [
     0
    ]
   },
   "outputs": [
    {
     "ename": "NameError",
     "evalue": "name 'model' is not defined",
     "output_type": "error",
     "traceback": [
      "\u001b[1;31m---------------------------------------------------------------------------\u001b[0m",
      "\u001b[1;31mNameError\u001b[0m                                 Traceback (most recent call last)",
      "\u001b[1;32m~\\AppData\\Local\\Temp\\ipykernel_22824\\3270716064.py\u001b[0m in \u001b[0;36m<module>\u001b[1;34m\u001b[0m\n\u001b[0;32m     13\u001b[0m             \u001b[1;32mfor\u001b[0m \u001b[0mn\u001b[0m \u001b[1;32min\u001b[0m \u001b[1;33m[\u001b[0m\u001b[1;36m5\u001b[0m\u001b[1;33m,\u001b[0m\u001b[1;36m10\u001b[0m\u001b[1;33m,\u001b[0m\u001b[1;36m20\u001b[0m\u001b[1;33m]\u001b[0m\u001b[1;33m:\u001b[0m\u001b[1;33m\u001b[0m\u001b[1;33m\u001b[0m\u001b[0m\n\u001b[0;32m     14\u001b[0m                 \u001b[0mkeys\u001b[0m\u001b[1;33m.\u001b[0m\u001b[0mappend\u001b[0m\u001b[1;33m(\u001b[0m\u001b[0mline\u001b[0m\u001b[1;33m.\u001b[0m\u001b[0msplit\u001b[0m\u001b[1;33m(\u001b[0m\u001b[1;34m':'\u001b[0m\u001b[1;33m)\u001b[0m\u001b[1;33m[\u001b[0m\u001b[1;33m-\u001b[0m\u001b[1;36m1\u001b[0m\u001b[1;33m]\u001b[0m\u001b[1;33m.\u001b[0m\u001b[0mstrip\u001b[0m\u001b[1;33m(\u001b[0m\u001b[1;33m)\u001b[0m\u001b[1;33m)\u001b[0m\u001b[1;33m\u001b[0m\u001b[1;33m\u001b[0m\u001b[0m\n\u001b[1;32m---> 15\u001b[1;33m                 \u001b[0mmodels\u001b[0m\u001b[1;33m.\u001b[0m\u001b[0mappend\u001b[0m\u001b[1;33m(\u001b[0m\u001b[0mmodel\u001b[0m\u001b[1;33m)\u001b[0m\u001b[1;33m\u001b[0m\u001b[1;33m\u001b[0m\u001b[0m\n\u001b[0m\u001b[0;32m     16\u001b[0m                 \u001b[0malphas\u001b[0m\u001b[1;33m.\u001b[0m\u001b[0mappend\u001b[0m\u001b[1;33m(\u001b[0m\u001b[0mi\u001b[0m\u001b[1;33m+\u001b[0m\u001b[1;36m2\u001b[0m\u001b[1;33m)\u001b[0m\u001b[1;33m\u001b[0m\u001b[1;33m\u001b[0m\u001b[0m\n\u001b[0;32m     17\u001b[0m                 \u001b[0mtopks\u001b[0m\u001b[1;33m.\u001b[0m\u001b[0mappend\u001b[0m\u001b[1;33m(\u001b[0m\u001b[0mn\u001b[0m\u001b[1;33m)\u001b[0m\u001b[1;33m\u001b[0m\u001b[1;33m\u001b[0m\u001b[0m\n",
      "\u001b[1;31mNameError\u001b[0m: name 'model' is not defined"
     ]
    }
   ],
   "source": [
    "# video\n",
    "alpha = 5\n",
    "models = []\n",
    "keys = []\n",
    "alphas = []\n",
    "topks = []\n",
    "mcs = []\n",
    "hrs = []\n",
    "for line in lines:\n",
    "    if 'Model' in line:\n",
    "        model = line.split(':')[-1].strip()\n",
    "    if 'Hidden' in line:\n",
    "        for i in range(alpha-1):\n",
    "            for n in [5,10,20]:\n",
    "                keys.append(line.split(':')[-1].strip())\n",
    "                models.append(model)\n",
    "                alphas.append(i+2)\n",
    "                topks.append(n)\n",
    "    if 'HR' in line:\n",
    "        mcs.append(float(line.split(':')[-1].strip()))\n",
    "        hrs.append(float(line.split(':')[1].strip().split(', ')[0]))"
   ]
  },
  {
   "cell_type": "code",
   "execution_count": 5,
   "id": "2fc439d0",
   "metadata": {
    "ExecuteTime": {
     "end_time": "2023-06-01T17:31:41.087537Z",
     "start_time": "2023-06-01T17:31:41.059536Z"
    }
   },
   "outputs": [],
   "source": [
    "# video\n",
    "alpha = 5\n",
    "models = []\n",
    "keys = []\n",
    "alphas = []\n",
    "topks = []\n",
    "mcs = []\n",
    "hrs = []\n",
    "for line in lines:\n",
    "    if 'Hidden' in line:\n",
    "        for i in range(alpha-1):\n",
    "            for n in [5,10,20]:\n",
    "                keys.append(line.split(':')[-1].strip())\n",
    "                alphas.append(i+2)\n",
    "                topks.append(n)\n",
    "    if 'HR' in line:\n",
    "        mcs.append(float(line.split(':')[-1].strip()))"
   ]
  },
  {
   "cell_type": "code",
   "execution_count": 6,
   "id": "86850710",
   "metadata": {
    "ExecuteTime": {
     "end_time": "2023-06-01T17:31:43.375586Z",
     "start_time": "2023-06-01T17:31:43.363575Z"
    }
   },
   "outputs": [],
   "source": [
    "batches = np.array([[2**i] * (len(keys) // 6) for i in range(4,10)]).flatten()"
   ]
  },
  {
   "cell_type": "code",
   "execution_count": 61,
   "id": "1247ce06",
   "metadata": {
    "ExecuteTime": {
     "end_time": "2023-05-31T16:40:17.292310Z",
     "start_time": "2023-05-31T16:40:17.163311Z"
    },
    "code_folding": [
     0
    ]
   },
   "outputs": [],
   "source": [
    "# video\n",
    "res = pd.DataFrame([models, batches, keys, alphas, topks, mcs, hrs]).T\n",
    "res.columns = ['model', 'batch_size', 'hidden_size', 'alpha', 'top_k', 'mcc', 'hr']"
   ]
  },
  {
   "cell_type": "code",
   "execution_count": 9,
   "id": "2bf8cf8e",
   "metadata": {
    "ExecuteTime": {
     "end_time": "2023-06-01T17:32:10.903986Z",
     "start_time": "2023-06-01T17:32:10.772927Z"
    }
   },
   "outputs": [],
   "source": [
    "# video\n",
    "res = pd.DataFrame([batches, keys, alphas, topks, mcs]).T\n",
    "res.columns = ['batch_size', 'hidden_size', 'alpha', 'top_k', 'mcc']"
   ]
  },
  {
   "cell_type": "code",
   "execution_count": 10,
   "id": "6b5b9354",
   "metadata": {
    "ExecuteTime": {
     "end_time": "2023-06-01T17:32:11.173548Z",
     "start_time": "2023-06-01T17:32:11.155562Z"
    }
   },
   "outputs": [
    {
     "data": {
      "text/html": [
       "<div>\n",
       "<style scoped>\n",
       "    .dataframe tbody tr th:only-of-type {\n",
       "        vertical-align: middle;\n",
       "    }\n",
       "\n",
       "    .dataframe tbody tr th {\n",
       "        vertical-align: top;\n",
       "    }\n",
       "\n",
       "    .dataframe thead th {\n",
       "        text-align: right;\n",
       "    }\n",
       "</style>\n",
       "<table border=\"1\" class=\"dataframe\">\n",
       "  <thead>\n",
       "    <tr style=\"text-align: right;\">\n",
       "      <th></th>\n",
       "      <th>batch_size</th>\n",
       "      <th>hidden_size</th>\n",
       "      <th>alpha</th>\n",
       "      <th>top_k</th>\n",
       "      <th>mcc</th>\n",
       "    </tr>\n",
       "  </thead>\n",
       "  <tbody>\n",
       "    <tr>\n",
       "      <th>0</th>\n",
       "      <td>16</td>\n",
       "      <td>(16, 16, 0.001)</td>\n",
       "      <td>2</td>\n",
       "      <td>5</td>\n",
       "      <td>0.030611</td>\n",
       "    </tr>\n",
       "    <tr>\n",
       "      <th>1</th>\n",
       "      <td>16</td>\n",
       "      <td>(16, 16, 0.001)</td>\n",
       "      <td>2</td>\n",
       "      <td>10</td>\n",
       "      <td>0.045382</td>\n",
       "    </tr>\n",
       "    <tr>\n",
       "      <th>2</th>\n",
       "      <td>16</td>\n",
       "      <td>(16, 16, 0.001)</td>\n",
       "      <td>2</td>\n",
       "      <td>20</td>\n",
       "      <td>0.051679</td>\n",
       "    </tr>\n",
       "    <tr>\n",
       "      <th>3</th>\n",
       "      <td>16</td>\n",
       "      <td>(16, 16, 0.001)</td>\n",
       "      <td>3</td>\n",
       "      <td>5</td>\n",
       "      <td>0.051169</td>\n",
       "    </tr>\n",
       "    <tr>\n",
       "      <th>4</th>\n",
       "      <td>16</td>\n",
       "      <td>(16, 16, 0.001)</td>\n",
       "      <td>3</td>\n",
       "      <td>10</td>\n",
       "      <td>0.062083</td>\n",
       "    </tr>\n",
       "  </tbody>\n",
       "</table>\n",
       "</div>"
      ],
      "text/plain": [
       "  batch_size      hidden_size alpha top_k       mcc\n",
       "0         16  (16, 16, 0.001)     2     5  0.030611\n",
       "1         16  (16, 16, 0.001)     2    10  0.045382\n",
       "2         16  (16, 16, 0.001)     2    20  0.051679\n",
       "3         16  (16, 16, 0.001)     3     5  0.051169\n",
       "4         16  (16, 16, 0.001)     3    10  0.062083"
      ]
     },
     "execution_count": 10,
     "metadata": {},
     "output_type": "execute_result"
    }
   ],
   "source": [
    "res.head()"
   ]
  },
  {
   "cell_type": "code",
   "execution_count": 64,
   "id": "3234b1fa",
   "metadata": {
    "ExecuteTime": {
     "end_time": "2023-05-31T16:40:38.581917Z",
     "start_time": "2023-05-31T16:40:38.551393Z"
    }
   },
   "outputs": [],
   "source": [
    "# video\n",
    "best = res.groupby(['model', 'alpha'])['mcc'].max()"
   ]
  },
  {
   "cell_type": "code",
   "execution_count": 11,
   "id": "a2b19b78",
   "metadata": {
    "ExecuteTime": {
     "end_time": "2023-06-01T17:32:29.612409Z",
     "start_time": "2023-06-01T17:32:29.591405Z"
    }
   },
   "outputs": [],
   "source": [
    "best = res.groupby(['alpha'])['mcc'].max()"
   ]
  },
  {
   "cell_type": "code",
   "execution_count": 12,
   "id": "7e0341e6",
   "metadata": {
    "ExecuteTime": {
     "end_time": "2023-06-01T17:32:29.924406Z",
     "start_time": "2023-06-01T17:32:29.904409Z"
    }
   },
   "outputs": [
    {
     "data": {
      "text/plain": [
       "alpha\n",
       "2    0.194275\n",
       "3    0.185793\n",
       "4    0.191251\n",
       "5    0.186861\n",
       "Name: mcc, dtype: float64"
      ]
     },
     "execution_count": 12,
     "metadata": {},
     "output_type": "execute_result"
    }
   ],
   "source": [
    "best"
   ]
  },
  {
   "cell_type": "code",
   "execution_count": 81,
   "id": "79808620",
   "metadata": {
    "ExecuteTime": {
     "end_time": "2023-05-31T16:48:05.862590Z",
     "start_time": "2023-05-31T16:48:05.847575Z"
    }
   },
   "outputs": [],
   "source": [
    "#df1 = res[res['model']=='triangular layers are different']"
   ]
  },
  {
   "cell_type": "code",
   "execution_count": 82,
   "id": "8324d945",
   "metadata": {
    "ExecuteTime": {
     "end_time": "2023-05-31T16:48:06.176572Z",
     "start_time": "2023-05-31T16:48:06.160571Z"
    }
   },
   "outputs": [],
   "source": [
    "#best = df1.groupby('alpha')['mcc'].max()"
   ]
  },
  {
   "cell_type": "code",
   "execution_count": 13,
   "id": "bbce7b52",
   "metadata": {
    "ExecuteTime": {
     "end_time": "2023-06-01T17:33:16.162672Z",
     "start_time": "2023-06-01T17:33:16.137666Z"
    }
   },
   "outputs": [
    {
     "data": {
      "text/html": [
       "<div>\n",
       "<style scoped>\n",
       "    .dataframe tbody tr th:only-of-type {\n",
       "        vertical-align: middle;\n",
       "    }\n",
       "\n",
       "    .dataframe tbody tr th {\n",
       "        vertical-align: top;\n",
       "    }\n",
       "\n",
       "    .dataframe thead th {\n",
       "        text-align: right;\n",
       "    }\n",
       "</style>\n",
       "<table border=\"1\" class=\"dataframe\">\n",
       "  <thead>\n",
       "    <tr style=\"text-align: right;\">\n",
       "      <th></th>\n",
       "      <th>batch_size</th>\n",
       "      <th>hidden_size</th>\n",
       "      <th>alpha</th>\n",
       "      <th>top_k</th>\n",
       "      <th>mcc</th>\n",
       "    </tr>\n",
       "  </thead>\n",
       "  <tbody>\n",
       "    <tr>\n",
       "      <th>4106</th>\n",
       "      <td>256</td>\n",
       "      <td>(1024, 256, 0.003)</td>\n",
       "      <td>2</td>\n",
       "      <td>20</td>\n",
       "      <td>0.194275</td>\n",
       "    </tr>\n",
       "  </tbody>\n",
       "</table>\n",
       "</div>"
      ],
      "text/plain": [
       "     batch_size         hidden_size alpha top_k       mcc\n",
       "4106        256  (1024, 256, 0.003)     2    20  0.194275"
      ]
     },
     "execution_count": 13,
     "metadata": {},
     "output_type": "execute_result"
    }
   ],
   "source": [
    "res[res['mcc']==best.loc[2]]"
   ]
  },
  {
   "cell_type": "code",
   "execution_count": 14,
   "id": "b36dd76c",
   "metadata": {
    "ExecuteTime": {
     "end_time": "2023-06-01T17:33:16.789341Z",
     "start_time": "2023-06-01T17:33:16.772350Z"
    }
   },
   "outputs": [
    {
     "data": {
      "text/html": [
       "<div>\n",
       "<style scoped>\n",
       "    .dataframe tbody tr th:only-of-type {\n",
       "        vertical-align: middle;\n",
       "    }\n",
       "\n",
       "    .dataframe tbody tr th {\n",
       "        vertical-align: top;\n",
       "    }\n",
       "\n",
       "    .dataframe thead th {\n",
       "        text-align: right;\n",
       "    }\n",
       "</style>\n",
       "<table border=\"1\" class=\"dataframe\">\n",
       "  <thead>\n",
       "    <tr style=\"text-align: right;\">\n",
       "      <th></th>\n",
       "      <th>batch_size</th>\n",
       "      <th>hidden_size</th>\n",
       "      <th>alpha</th>\n",
       "      <th>top_k</th>\n",
       "      <th>mcc</th>\n",
       "    </tr>\n",
       "  </thead>\n",
       "  <tbody>\n",
       "    <tr>\n",
       "      <th>4061</th>\n",
       "      <td>256</td>\n",
       "      <td>(512, 256, 0.009000000000000001)</td>\n",
       "      <td>3</td>\n",
       "      <td>20</td>\n",
       "      <td>0.185793</td>\n",
       "    </tr>\n",
       "  </tbody>\n",
       "</table>\n",
       "</div>"
      ],
      "text/plain": [
       "     batch_size                       hidden_size alpha top_k       mcc\n",
       "4061        256  (512, 256, 0.009000000000000001)     3    20  0.185793"
      ]
     },
     "execution_count": 14,
     "metadata": {},
     "output_type": "execute_result"
    }
   ],
   "source": [
    "res[res['mcc']==best.loc[3]]"
   ]
  },
  {
   "cell_type": "code",
   "execution_count": 15,
   "id": "d92049b2",
   "metadata": {
    "ExecuteTime": {
     "end_time": "2023-06-01T17:33:17.381194Z",
     "start_time": "2023-06-01T17:33:17.368168Z"
    }
   },
   "outputs": [
    {
     "data": {
      "text/html": [
       "<div>\n",
       "<style scoped>\n",
       "    .dataframe tbody tr th:only-of-type {\n",
       "        vertical-align: middle;\n",
       "    }\n",
       "\n",
       "    .dataframe tbody tr th {\n",
       "        vertical-align: top;\n",
       "    }\n",
       "\n",
       "    .dataframe thead th {\n",
       "        text-align: right;\n",
       "    }\n",
       "</style>\n",
       "<table border=\"1\" class=\"dataframe\">\n",
       "  <thead>\n",
       "    <tr style=\"text-align: right;\">\n",
       "      <th></th>\n",
       "      <th>batch_size</th>\n",
       "      <th>hidden_size</th>\n",
       "      <th>alpha</th>\n",
       "      <th>top_k</th>\n",
       "      <th>mcc</th>\n",
       "    </tr>\n",
       "  </thead>\n",
       "  <tbody>\n",
       "    <tr>\n",
       "      <th>5756</th>\n",
       "      <td>512</td>\n",
       "      <td>(512, 1024, 0.01)</td>\n",
       "      <td>4</td>\n",
       "      <td>20</td>\n",
       "      <td>0.191251</td>\n",
       "    </tr>\n",
       "  </tbody>\n",
       "</table>\n",
       "</div>"
      ],
      "text/plain": [
       "     batch_size        hidden_size alpha top_k       mcc\n",
       "5756        512  (512, 1024, 0.01)     4    20  0.191251"
      ]
     },
     "execution_count": 15,
     "metadata": {},
     "output_type": "execute_result"
    }
   ],
   "source": [
    "res[res['mcc']==best.loc[4]]"
   ]
  },
  {
   "cell_type": "code",
   "execution_count": 16,
   "id": "bb735665",
   "metadata": {
    "ExecuteTime": {
     "end_time": "2023-06-01T17:33:17.863757Z",
     "start_time": "2023-06-01T17:33:17.845756Z"
    }
   },
   "outputs": [
    {
     "data": {
      "text/html": [
       "<div>\n",
       "<style scoped>\n",
       "    .dataframe tbody tr th:only-of-type {\n",
       "        vertical-align: middle;\n",
       "    }\n",
       "\n",
       "    .dataframe tbody tr th {\n",
       "        vertical-align: top;\n",
       "    }\n",
       "\n",
       "    .dataframe thead th {\n",
       "        text-align: right;\n",
       "    }\n",
       "</style>\n",
       "<table border=\"1\" class=\"dataframe\">\n",
       "  <thead>\n",
       "    <tr style=\"text-align: right;\">\n",
       "      <th></th>\n",
       "      <th>batch_size</th>\n",
       "      <th>hidden_size</th>\n",
       "      <th>alpha</th>\n",
       "      <th>top_k</th>\n",
       "      <th>mcc</th>\n",
       "    </tr>\n",
       "  </thead>\n",
       "  <tbody>\n",
       "    <tr>\n",
       "      <th>5411</th>\n",
       "      <td>512</td>\n",
       "      <td>(128, 1024, 0.001)</td>\n",
       "      <td>5</td>\n",
       "      <td>20</td>\n",
       "      <td>0.186861</td>\n",
       "    </tr>\n",
       "  </tbody>\n",
       "</table>\n",
       "</div>"
      ],
      "text/plain": [
       "     batch_size         hidden_size alpha top_k       mcc\n",
       "5411        512  (128, 1024, 0.001)     5    20  0.186861"
      ]
     },
     "execution_count": 16,
     "metadata": {},
     "output_type": "execute_result"
    }
   ],
   "source": [
    "res[res['mcc']==best.loc[5]]"
   ]
  },
  {
   "cell_type": "code",
   "execution_count": 80,
   "id": "2df63a62",
   "metadata": {
    "ExecuteTime": {
     "end_time": "2023-05-31T16:45:33.639220Z",
     "start_time": "2023-05-31T16:45:33.594919Z"
    }
   },
   "outputs": [
    {
     "ename": "KeyError",
     "evalue": "6",
     "output_type": "error",
     "traceback": [
      "\u001b[1;31m---------------------------------------------------------------------------\u001b[0m",
      "\u001b[1;31mKeyError\u001b[0m                                  Traceback (most recent call last)",
      "\u001b[1;32m~\\anaconda3\\lib\\site-packages\\pandas\\core\\indexes\\base.py\u001b[0m in \u001b[0;36mget_loc\u001b[1;34m(self, key, method, tolerance)\u001b[0m\n\u001b[0;32m   3628\u001b[0m             \u001b[1;32mtry\u001b[0m\u001b[1;33m:\u001b[0m\u001b[1;33m\u001b[0m\u001b[1;33m\u001b[0m\u001b[0m\n\u001b[1;32m-> 3629\u001b[1;33m                 \u001b[1;32mreturn\u001b[0m \u001b[0mself\u001b[0m\u001b[1;33m.\u001b[0m\u001b[0m_engine\u001b[0m\u001b[1;33m.\u001b[0m\u001b[0mget_loc\u001b[0m\u001b[1;33m(\u001b[0m\u001b[0mcasted_key\u001b[0m\u001b[1;33m)\u001b[0m\u001b[1;33m\u001b[0m\u001b[1;33m\u001b[0m\u001b[0m\n\u001b[0m\u001b[0;32m   3630\u001b[0m             \u001b[1;32mexcept\u001b[0m \u001b[0mKeyError\u001b[0m \u001b[1;32mas\u001b[0m \u001b[0merr\u001b[0m\u001b[1;33m:\u001b[0m\u001b[1;33m\u001b[0m\u001b[1;33m\u001b[0m\u001b[0m\n",
      "\u001b[1;32m~\\anaconda3\\lib\\site-packages\\pandas\\_libs\\index.pyx\u001b[0m in \u001b[0;36mpandas._libs.index.IndexEngine.get_loc\u001b[1;34m()\u001b[0m\n",
      "\u001b[1;32m~\\anaconda3\\lib\\site-packages\\pandas\\_libs\\index.pyx\u001b[0m in \u001b[0;36mpandas._libs.index.IndexEngine.get_loc\u001b[1;34m()\u001b[0m\n",
      "\u001b[1;32mpandas\\_libs\\hashtable_class_helper.pxi\u001b[0m in \u001b[0;36mpandas._libs.hashtable.Int64HashTable.get_item\u001b[1;34m()\u001b[0m\n",
      "\u001b[1;32mpandas\\_libs\\hashtable_class_helper.pxi\u001b[0m in \u001b[0;36mpandas._libs.hashtable.Int64HashTable.get_item\u001b[1;34m()\u001b[0m\n",
      "\u001b[1;31mKeyError\u001b[0m: 6",
      "\nThe above exception was the direct cause of the following exception:\n",
      "\u001b[1;31mKeyError\u001b[0m                                  Traceback (most recent call last)",
      "\u001b[1;32m~\\AppData\\Local\\Temp\\ipykernel_36724\\482464092.py\u001b[0m in \u001b[0;36m<module>\u001b[1;34m\u001b[0m\n\u001b[1;32m----> 1\u001b[1;33m \u001b[0mres\u001b[0m\u001b[1;33m[\u001b[0m\u001b[0mres\u001b[0m\u001b[1;33m[\u001b[0m\u001b[1;34m'mcc'\u001b[0m\u001b[1;33m]\u001b[0m\u001b[1;33m==\u001b[0m\u001b[0mbest\u001b[0m\u001b[1;33m.\u001b[0m\u001b[0mloc\u001b[0m\u001b[1;33m[\u001b[0m\u001b[1;36m6\u001b[0m\u001b[1;33m]\u001b[0m\u001b[1;33m]\u001b[0m\u001b[1;33m\u001b[0m\u001b[1;33m\u001b[0m\u001b[0m\n\u001b[0m",
      "\u001b[1;32m~\\anaconda3\\lib\\site-packages\\pandas\\core\\indexing.py\u001b[0m in \u001b[0;36m__getitem__\u001b[1;34m(self, key)\u001b[0m\n\u001b[0;32m    965\u001b[0m \u001b[1;33m\u001b[0m\u001b[0m\n\u001b[0;32m    966\u001b[0m             \u001b[0mmaybe_callable\u001b[0m \u001b[1;33m=\u001b[0m \u001b[0mcom\u001b[0m\u001b[1;33m.\u001b[0m\u001b[0mapply_if_callable\u001b[0m\u001b[1;33m(\u001b[0m\u001b[0mkey\u001b[0m\u001b[1;33m,\u001b[0m \u001b[0mself\u001b[0m\u001b[1;33m.\u001b[0m\u001b[0mobj\u001b[0m\u001b[1;33m)\u001b[0m\u001b[1;33m\u001b[0m\u001b[1;33m\u001b[0m\u001b[0m\n\u001b[1;32m--> 967\u001b[1;33m             \u001b[1;32mreturn\u001b[0m \u001b[0mself\u001b[0m\u001b[1;33m.\u001b[0m\u001b[0m_getitem_axis\u001b[0m\u001b[1;33m(\u001b[0m\u001b[0mmaybe_callable\u001b[0m\u001b[1;33m,\u001b[0m \u001b[0maxis\u001b[0m\u001b[1;33m=\u001b[0m\u001b[0maxis\u001b[0m\u001b[1;33m)\u001b[0m\u001b[1;33m\u001b[0m\u001b[1;33m\u001b[0m\u001b[0m\n\u001b[0m\u001b[0;32m    968\u001b[0m \u001b[1;33m\u001b[0m\u001b[0m\n\u001b[0;32m    969\u001b[0m     \u001b[1;32mdef\u001b[0m \u001b[0m_is_scalar_access\u001b[0m\u001b[1;33m(\u001b[0m\u001b[0mself\u001b[0m\u001b[1;33m,\u001b[0m \u001b[0mkey\u001b[0m\u001b[1;33m:\u001b[0m \u001b[0mtuple\u001b[0m\u001b[1;33m)\u001b[0m\u001b[1;33m:\u001b[0m\u001b[1;33m\u001b[0m\u001b[1;33m\u001b[0m\u001b[0m\n",
      "\u001b[1;32m~\\anaconda3\\lib\\site-packages\\pandas\\core\\indexing.py\u001b[0m in \u001b[0;36m_getitem_axis\u001b[1;34m(self, key, axis)\u001b[0m\n\u001b[0;32m   1203\u001b[0m         \u001b[1;31m# fall thru to straight lookup\u001b[0m\u001b[1;33m\u001b[0m\u001b[1;33m\u001b[0m\u001b[0m\n\u001b[0;32m   1204\u001b[0m         \u001b[0mself\u001b[0m\u001b[1;33m.\u001b[0m\u001b[0m_validate_key\u001b[0m\u001b[1;33m(\u001b[0m\u001b[0mkey\u001b[0m\u001b[1;33m,\u001b[0m \u001b[0maxis\u001b[0m\u001b[1;33m)\u001b[0m\u001b[1;33m\u001b[0m\u001b[1;33m\u001b[0m\u001b[0m\n\u001b[1;32m-> 1205\u001b[1;33m         \u001b[1;32mreturn\u001b[0m \u001b[0mself\u001b[0m\u001b[1;33m.\u001b[0m\u001b[0m_get_label\u001b[0m\u001b[1;33m(\u001b[0m\u001b[0mkey\u001b[0m\u001b[1;33m,\u001b[0m \u001b[0maxis\u001b[0m\u001b[1;33m=\u001b[0m\u001b[0maxis\u001b[0m\u001b[1;33m)\u001b[0m\u001b[1;33m\u001b[0m\u001b[1;33m\u001b[0m\u001b[0m\n\u001b[0m\u001b[0;32m   1206\u001b[0m \u001b[1;33m\u001b[0m\u001b[0m\n\u001b[0;32m   1207\u001b[0m     \u001b[1;32mdef\u001b[0m \u001b[0m_get_slice_axis\u001b[0m\u001b[1;33m(\u001b[0m\u001b[0mself\u001b[0m\u001b[1;33m,\u001b[0m \u001b[0mslice_obj\u001b[0m\u001b[1;33m:\u001b[0m \u001b[0mslice\u001b[0m\u001b[1;33m,\u001b[0m \u001b[0maxis\u001b[0m\u001b[1;33m:\u001b[0m \u001b[0mint\u001b[0m\u001b[1;33m)\u001b[0m\u001b[1;33m:\u001b[0m\u001b[1;33m\u001b[0m\u001b[1;33m\u001b[0m\u001b[0m\n",
      "\u001b[1;32m~\\anaconda3\\lib\\site-packages\\pandas\\core\\indexing.py\u001b[0m in \u001b[0;36m_get_label\u001b[1;34m(self, label, axis)\u001b[0m\n\u001b[0;32m   1151\u001b[0m     \u001b[1;32mdef\u001b[0m \u001b[0m_get_label\u001b[0m\u001b[1;33m(\u001b[0m\u001b[0mself\u001b[0m\u001b[1;33m,\u001b[0m \u001b[0mlabel\u001b[0m\u001b[1;33m,\u001b[0m \u001b[0maxis\u001b[0m\u001b[1;33m:\u001b[0m \u001b[0mint\u001b[0m\u001b[1;33m)\u001b[0m\u001b[1;33m:\u001b[0m\u001b[1;33m\u001b[0m\u001b[1;33m\u001b[0m\u001b[0m\n\u001b[0;32m   1152\u001b[0m         \u001b[1;31m# GH#5667 this will fail if the label is not present in the axis.\u001b[0m\u001b[1;33m\u001b[0m\u001b[1;33m\u001b[0m\u001b[0m\n\u001b[1;32m-> 1153\u001b[1;33m         \u001b[1;32mreturn\u001b[0m \u001b[0mself\u001b[0m\u001b[1;33m.\u001b[0m\u001b[0mobj\u001b[0m\u001b[1;33m.\u001b[0m\u001b[0mxs\u001b[0m\u001b[1;33m(\u001b[0m\u001b[0mlabel\u001b[0m\u001b[1;33m,\u001b[0m \u001b[0maxis\u001b[0m\u001b[1;33m=\u001b[0m\u001b[0maxis\u001b[0m\u001b[1;33m)\u001b[0m\u001b[1;33m\u001b[0m\u001b[1;33m\u001b[0m\u001b[0m\n\u001b[0m\u001b[0;32m   1154\u001b[0m \u001b[1;33m\u001b[0m\u001b[0m\n\u001b[0;32m   1155\u001b[0m     \u001b[1;32mdef\u001b[0m \u001b[0m_handle_lowerdim_multi_index_axis0\u001b[0m\u001b[1;33m(\u001b[0m\u001b[0mself\u001b[0m\u001b[1;33m,\u001b[0m \u001b[0mtup\u001b[0m\u001b[1;33m:\u001b[0m \u001b[0mtuple\u001b[0m\u001b[1;33m)\u001b[0m\u001b[1;33m:\u001b[0m\u001b[1;33m\u001b[0m\u001b[1;33m\u001b[0m\u001b[0m\n",
      "\u001b[1;32m~\\anaconda3\\lib\\site-packages\\pandas\\core\\generic.py\u001b[0m in \u001b[0;36mxs\u001b[1;34m(self, key, axis, level, drop_level)\u001b[0m\n\u001b[0;32m   3862\u001b[0m                     \u001b[0mnew_index\u001b[0m \u001b[1;33m=\u001b[0m \u001b[0mindex\u001b[0m\u001b[1;33m[\u001b[0m\u001b[0mloc\u001b[0m\u001b[1;33m]\u001b[0m\u001b[1;33m\u001b[0m\u001b[1;33m\u001b[0m\u001b[0m\n\u001b[0;32m   3863\u001b[0m         \u001b[1;32melse\u001b[0m\u001b[1;33m:\u001b[0m\u001b[1;33m\u001b[0m\u001b[1;33m\u001b[0m\u001b[0m\n\u001b[1;32m-> 3864\u001b[1;33m             \u001b[0mloc\u001b[0m \u001b[1;33m=\u001b[0m \u001b[0mindex\u001b[0m\u001b[1;33m.\u001b[0m\u001b[0mget_loc\u001b[0m\u001b[1;33m(\u001b[0m\u001b[0mkey\u001b[0m\u001b[1;33m)\u001b[0m\u001b[1;33m\u001b[0m\u001b[1;33m\u001b[0m\u001b[0m\n\u001b[0m\u001b[0;32m   3865\u001b[0m \u001b[1;33m\u001b[0m\u001b[0m\n\u001b[0;32m   3866\u001b[0m             \u001b[1;32mif\u001b[0m \u001b[0misinstance\u001b[0m\u001b[1;33m(\u001b[0m\u001b[0mloc\u001b[0m\u001b[1;33m,\u001b[0m \u001b[0mnp\u001b[0m\u001b[1;33m.\u001b[0m\u001b[0mndarray\u001b[0m\u001b[1;33m)\u001b[0m\u001b[1;33m:\u001b[0m\u001b[1;33m\u001b[0m\u001b[1;33m\u001b[0m\u001b[0m\n",
      "\u001b[1;32m~\\anaconda3\\lib\\site-packages\\pandas\\core\\indexes\\base.py\u001b[0m in \u001b[0;36mget_loc\u001b[1;34m(self, key, method, tolerance)\u001b[0m\n\u001b[0;32m   3629\u001b[0m                 \u001b[1;32mreturn\u001b[0m \u001b[0mself\u001b[0m\u001b[1;33m.\u001b[0m\u001b[0m_engine\u001b[0m\u001b[1;33m.\u001b[0m\u001b[0mget_loc\u001b[0m\u001b[1;33m(\u001b[0m\u001b[0mcasted_key\u001b[0m\u001b[1;33m)\u001b[0m\u001b[1;33m\u001b[0m\u001b[1;33m\u001b[0m\u001b[0m\n\u001b[0;32m   3630\u001b[0m             \u001b[1;32mexcept\u001b[0m \u001b[0mKeyError\u001b[0m \u001b[1;32mas\u001b[0m \u001b[0merr\u001b[0m\u001b[1;33m:\u001b[0m\u001b[1;33m\u001b[0m\u001b[1;33m\u001b[0m\u001b[0m\n\u001b[1;32m-> 3631\u001b[1;33m                 \u001b[1;32mraise\u001b[0m \u001b[0mKeyError\u001b[0m\u001b[1;33m(\u001b[0m\u001b[0mkey\u001b[0m\u001b[1;33m)\u001b[0m \u001b[1;32mfrom\u001b[0m \u001b[0merr\u001b[0m\u001b[1;33m\u001b[0m\u001b[1;33m\u001b[0m\u001b[0m\n\u001b[0m\u001b[0;32m   3632\u001b[0m             \u001b[1;32mexcept\u001b[0m \u001b[0mTypeError\u001b[0m\u001b[1;33m:\u001b[0m\u001b[1;33m\u001b[0m\u001b[1;33m\u001b[0m\u001b[0m\n\u001b[0;32m   3633\u001b[0m                 \u001b[1;31m# If we have a listlike key, _check_indexing_error will raise\u001b[0m\u001b[1;33m\u001b[0m\u001b[1;33m\u001b[0m\u001b[0m\n",
      "\u001b[1;31mKeyError\u001b[0m: 6"
     ]
    }
   ],
   "source": [
    "res[res['mcc']==best.loc[6]]"
   ]
  },
  {
   "cell_type": "markdown",
   "id": "81ba8842",
   "metadata": {},
   "source": [
    "## AE tuning"
   ]
  },
  {
   "cell_type": "code",
   "execution_count": null,
   "id": "2a6845f6",
   "metadata": {},
   "outputs": [],
   "source": []
  },
  {
   "cell_type": "markdown",
   "id": "099d0e64",
   "metadata": {},
   "source": [
    "## AE results"
   ]
  },
  {
   "cell_type": "code",
   "execution_count": 42,
   "id": "104ebf22",
   "metadata": {
    "ExecuteTime": {
     "end_time": "2023-06-02T08:55:09.182360Z",
     "start_time": "2023-06-02T08:55:09.164343Z"
    }
   },
   "outputs": [],
   "source": [
    "with open('food_base_res.txt') as f:\n",
    "    lines = f.readlines()"
   ]
  },
  {
   "cell_type": "code",
   "execution_count": 43,
   "id": "f33fde37",
   "metadata": {
    "ExecuteTime": {
     "end_time": "2023-06-02T08:55:09.418402Z",
     "start_time": "2023-06-02T08:55:09.408402Z"
    }
   },
   "outputs": [
    {
     "data": {
      "text/plain": [
       "['failed to get console mode for stdout: The handle is invalid.\\n',\n",
       " 'Looking in indexes: https://artifactory.tcsbank.ru/artifactory/api/pypi/python-all/simple\\n',\n",
       " 'Collecting torch==1.13.1\\n',\n",
       " '  Downloading https://artifactory.tcsbank.ru/artifactory/api/pypi/python-all/packages/packages/torch/1.13.1/torch-1.13.1-cp38-cp38-manylinux1_x86_64.whl (887.4 MB)\\n',\n",
       " '     в”Ѓв”Ѓв”Ѓв”Ѓв”Ѓв”Ѓв”Ѓв”Ѓв”Ѓв”Ѓв”Ѓв”Ѓв”Ѓв”Ѓв”Ѓв”Ѓв”Ѓв”Ѓв”Ѓв”Ѓв”Ѓв”Ѓв”Ѓв”Ѓв”Ѓв”Ѓв”Ѓв”Ѓв”Ѓв”Ѓв”Ѓв”Ѓв”Ѓв”Ѓв”Ѓв”Ѓв”Ѓв”Ѓ 887.4/887.4 MB 63.8 MB/s eta 0:00:00\\n',\n",
       " 'Collecting scipy==1.10.1\\n',\n",
       " '  Downloading https://artifactory.tcsbank.ru/artifactory/api/pypi/python-all/packages/packages/scipy/1.10.1/scipy-1.10.1-cp38-cp38-manylinux_2_17_x86_64.manylinux2014_x86_64.whl (34.5 MB)\\n',\n",
       " '     в”Ѓв”Ѓв”Ѓв”Ѓв”Ѓв”Ѓв”Ѓв”Ѓв”Ѓв”Ѓв”Ѓв”Ѓв”Ѓв”Ѓв”Ѓв”Ѓв”Ѓв”Ѓв”Ѓв”Ѓв”Ѓв”Ѓв”Ѓв”Ѓв”Ѓв”Ѓв”Ѓв”Ѓв”Ѓв”Ѓв”Ѓв”Ѓв”Ѓв”Ѓв”Ѓв”Ѓв”Ѓв”Ѓв”Ѓ 34.5/34.5 MB 201.2 MB/s eta 0:00:00\\n',\n",
       " 'Collecting numpy==1.22.2\\n',\n",
       " '  Downloading https://artifactory.tcsbank.ru/artifactory/api/pypi/python-all/packages/packages/numpy/1.22.2/numpy-1.22.2-cp38-cp38-manylinux_2_17_x86_64.manylinux2014_x86_64.whl (16.8 MB)\\n',\n",
       " '     в”Ѓв”Ѓв”Ѓв”Ѓв”Ѓв”Ѓв”Ѓв”Ѓв”Ѓв”Ѓв”Ѓв”Ѓв”Ѓв”Ѓв”Ѓв”Ѓв”Ѓв”Ѓв”Ѓв”Ѓв”Ѓв”Ѓв”Ѓв”Ѓв”Ѓв”Ѓв”Ѓв”Ѓв”Ѓв”Ѓв”Ѓв”Ѓв”Ѓв”Ѓв”Ѓв”Ѓв”Ѓв”Ѓв”Ѓ 16.8/16.8 MB 137.8 MB/s eta 0:00:00\\n',\n",
       " 'Collecting scikit-learn==1.2.1\\n',\n",
       " '  Downloading https://artifactory.tcsbank.ru/artifactory/api/pypi/python-all/packages/packages/scikit-learn/1.2.1/scikit_learn-1.2.1-cp38-cp38-manylinux_2_17_x86_64.manylinux2014_x86_64.whl (9.8 MB)\\n',\n",
       " '     в”Ѓв”Ѓв”Ѓв”Ѓв”Ѓв”Ѓв”Ѓв”Ѓв”Ѓв”Ѓв”Ѓв”Ѓв”Ѓв”Ѓв”Ѓв”Ѓв”Ѓв”Ѓв”Ѓв”Ѓв”Ѓв”Ѓв”Ѓв”Ѓв”Ѓв”Ѓв”Ѓв”Ѓв”Ѓв”Ѓв”Ѓв”Ѓв”Ѓв”Ѓв”Ѓв”Ѓв”Ѓв”Ѓв”Ѓв”Ѓ 9.8/9.8 MB 183.4 MB/s eta 0:00:00\\n',\n",
       " 'Collecting tqdm==4.64.1\\n',\n",
       " '  Downloading https://artifactory.tcsbank.ru/artifactory/api/pypi/python-all/packages/packages/tqdm/4.64.1/tqdm-4.64.1-py2.py3-none-any.whl (78 kB)\\n',\n",
       " '     в”Ѓв”Ѓв”Ѓв”Ѓв”Ѓв”Ѓв”Ѓв”Ѓв”Ѓв”Ѓв”Ѓв”Ѓв”Ѓв”Ѓв”Ѓв”Ѓв”Ѓв”Ѓв”Ѓв”Ѓв”Ѓв”Ѓв”Ѓв”Ѓв”Ѓв”Ѓв”Ѓв”Ѓв”Ѓв”Ѓв”Ѓв”Ѓв”Ѓв”Ѓв”Ѓв”Ѓв”Ѓв”Ѓв”Ѓ 78.5/78.5 kB 223.3 MB/s eta 0:00:00\\n',\n",
       " 'Collecting pandas==1.5.3\\n',\n",
       " '  Downloading https://artifactory.tcsbank.ru/artifactory/api/pypi/python-all/packages/packages/pandas/1.5.3/pandas-1.5.3-cp38-cp38-manylinux_2_17_x86_64.manylinux2014_x86_64.whl (12.2 MB)\\n',\n",
       " '     в”Ѓв”Ѓв”Ѓв”Ѓв”Ѓв”Ѓв”Ѓв”Ѓв”Ѓв”Ѓв”Ѓв”Ѓв”Ѓв”Ѓв”Ѓв”Ѓв”Ѓв”Ѓв”Ѓв”Ѓв”Ѓв”Ѓв”Ѓв”Ѓв”Ѓв”Ѓв”Ѓв”Ѓв”Ѓв”Ѓв”Ѓв”Ѓв”Ѓв”Ѓв”Ѓв”Ѓв”Ѓв”Ѓв”Ѓ 12.2/12.2 MB 200.3 MB/s eta 0:00:00\\n',\n",
       " 'Collecting numba>=0.21.0\\n',\n",
       " '  Downloading https://artifactory.tcsbank.ru/artifactory/api/pypi/python-all/packages/packages/numba/0.57.0/numba-0.57.0-cp38-cp38-manylinux2014_x86_64.manylinux_2_17_x86_64.whl (3.6 MB)\\n',\n",
       " '     в”Ѓв”Ѓв”Ѓв”Ѓв”Ѓв”Ѓв”Ѓв”Ѓв”Ѓв”Ѓв”Ѓв”Ѓв”Ѓв”Ѓв”Ѓв”Ѓв”Ѓв”Ѓв”Ѓв”Ѓв”Ѓв”Ѓв”Ѓв”Ѓв”Ѓв”Ѓв”Ѓв”Ѓв”Ѓв”Ѓв”Ѓв”Ѓв”Ѓв”Ѓв”Ѓв”Ѓв”Ѓв”Ѓв”Ѓв”Ѓ 3.6/3.6 MB 141.6 MB/s eta 0:00:00\\n',\n",
       " 'Requirement already satisfied: requests>=2.7.0 in /usr/local/lib/python3.8/dist-packages (from -r /home/requirements.txt (line 8)) (2.28.2)\\n',\n",
       " 'Collecting ipython==8.0.0\\n',\n",
       " '  Downloading https://artifactory.tcsbank.ru/artifactory/api/pypi/python-all/packages/packages/ipython/8.0.0/ipython-8.0.0-py3-none-any.whl (747 kB)\\n',\n",
       " '     в”Ѓв”Ѓв”Ѓв”Ѓв”Ѓв”Ѓв”Ѓв”Ѓв”Ѓв”Ѓв”Ѓв”Ѓв”Ѓв”Ѓв”Ѓв”Ѓв”Ѓв”Ѓв”Ѓв”Ѓв”Ѓв”Ѓв”Ѓв”Ѓв”Ѓв”Ѓв”Ѓв”Ѓв”Ѓв”Ѓв”Ѓв”Ѓв”Ѓв”Ѓв”Ѓв”Ѓв”Ѓ 747.4/747.4 kB 112.4 MB/s eta 0:00:00\\n',\n",
       " 'Collecting nvidia-cublas-cu11==11.10.3.66\\n',\n",
       " '  Downloading https://artifactory.tcsbank.ru/artifactory/api/pypi/python-all/packages/packages/nvidia-cublas-cu11/11.10.3.66/nvidia_cublas_cu11-11.10.3.66-py3-none-manylinux1_x86_64.whl (317.1 MB)\\n',\n",
       " '     в”Ѓв”Ѓв”Ѓв”Ѓв”Ѓв”Ѓв”Ѓв”Ѓв”Ѓв”Ѓв”Ѓв”Ѓв”Ѓв”Ѓв”Ѓв”Ѓв”Ѓв”Ѓв”Ѓв”Ѓв”Ѓв”Ѓв”Ѓв”Ѓв”Ѓв”Ѓв”Ѓв”Ѓв”Ѓв”Ѓв”Ѓв”Ѓв”Ѓв”Ѓв”Ѓв”Ѓв”Ѓ 317.1/317.1 MB 128.3 MB/s eta 0:00:00\\n',\n",
       " 'Collecting nvidia-cudnn-cu11==8.5.0.96\\n',\n",
       " '  Downloading https://artifactory.tcsbank.ru/artifactory/api/pypi/python-all/packages/packages/nvidia-cudnn-cu11/8.5.0.96/nvidia_cudnn_cu11-8.5.0.96-2-py3-none-manylinux1_x86_64.whl (557.1 MB)\\n',\n",
       " '     в”Ѓв”Ѓв”Ѓв”Ѓв”Ѓв”Ѓв”Ѓв”Ѓв”Ѓв”Ѓв”Ѓв”Ѓв”Ѓв”Ѓв”Ѓв”Ѓв”Ѓв”Ѓв”Ѓв”Ѓв”Ѓв”Ѓв”Ѓв”Ѓв”Ѓв”Ѓв”Ѓв”Ѓв”Ѓв”Ѓв”Ѓв”Ѓв”Ѓв”Ѓв”Ѓв”Ѓв”Ѓ 557.1/557.1 MB 179.4 MB/s eta 0:00:00\\n',\n",
       " 'Requirement already satisfied: typing-extensions in /usr/local/lib/python3.8/dist-packages (from torch==1.13.1->-r /home/requirements.txt (line 1)) (4.4.0)\\n',\n",
       " 'Collecting nvidia-cuda-runtime-cu11==11.7.99\\n',\n",
       " '  Downloading https://artifactory.tcsbank.ru/artifactory/api/pypi/python-all/packages/packages/nvidia-cuda-runtime-cu11/11.7.99/nvidia_cuda_runtime_cu11-11.7.99-py3-none-manylinux1_x86_64.whl (849 kB)\\n',\n",
       " '     в”Ѓв”Ѓв”Ѓв”Ѓв”Ѓв”Ѓв”Ѓв”Ѓв”Ѓв”Ѓв”Ѓв”Ѓв”Ѓв”Ѓв”Ѓв”Ѓв”Ѓв”Ѓв”Ѓв”Ѓв”Ѓв”Ѓв”Ѓв”Ѓв”Ѓв”Ѓв”Ѓв”Ѓв”Ѓв”Ѓв”Ѓв”Ѓв”Ѓв”Ѓв”Ѓв”Ѓв”Ѓв”Ѓ 849.3/849.3 kB 26.7 MB/s eta 0:00:00\\n',\n",
       " 'Collecting nvidia-cuda-nvrtc-cu11==11.7.99\\n',\n",
       " '  Downloading https://artifactory.tcsbank.ru/artifactory/api/pypi/python-all/packages/packages/nvidia-cuda-nvrtc-cu11/11.7.99/nvidia_cuda_nvrtc_cu11-11.7.99-2-py3-none-manylinux1_x86_64.whl (21.0 MB)\\n',\n",
       " '     в”Ѓв”Ѓв”Ѓв”Ѓв”Ѓв”Ѓв”Ѓв”Ѓв”Ѓв”Ѓв”Ѓв”Ѓв”Ѓв”Ѓв”Ѓв”Ѓв”Ѓв”Ѓв”Ѓв”Ѓв”Ѓв”Ѓв”Ѓв”Ѓв”Ѓв”Ѓв”Ѓв”Ѓв”Ѓв”Ѓв”Ѓв”Ѓв”Ѓв”Ѓв”Ѓв”Ѓв”Ѓв”Ѓв”Ѓ 21.0/21.0 MB 167.0 MB/s eta 0:00:00\\n',\n",
       " 'Collecting joblib>=1.1.1\\n',\n",
       " '  Downloading https://artifactory.tcsbank.ru/artifactory/api/pypi/python-all/packages/packages/joblib/1.2.0/joblib-1.2.0-py3-none-any.whl (297 kB)\\n',\n",
       " '     в”Ѓв”Ѓв”Ѓв”Ѓв”Ѓв”Ѓв”Ѓв”Ѓв”Ѓв”Ѓв”Ѓв”Ѓв”Ѓв”Ѓв”Ѓв”Ѓв”Ѓв”Ѓв”Ѓв”Ѓв”Ѓв”Ѓв”Ѓв”Ѓв”Ѓв”Ѓв”Ѓв”Ѓв”Ѓв”Ѓв”Ѓв”Ѓв”Ѓв”Ѓв”Ѓв”Ѓв”Ѓ 298.0/298.0 kB 260.5 MB/s eta 0:00:00\\n',\n",
       " 'Collecting threadpoolctl>=2.0.0\\n',\n",
       " '  Downloading https://artifactory.tcsbank.ru/artifactory/api/pypi/python-all/packages/packages/threadpoolctl/3.1.0/threadpoolctl-3.1.0-py3-none-any.whl (14 kB)\\n',\n",
       " 'Collecting pytz>=2020.1\\n',\n",
       " '  Downloading https://artifactory.tcsbank.ru/artifactory/api/pypi/python-all/packages/packages/pytz/2023.3/pytz-2023.3-py2.py3-none-any.whl (502 kB)\\n',\n",
       " '     в”Ѓв”Ѓв”Ѓв”Ѓв”Ѓв”Ѓв”Ѓв”Ѓв”Ѓв”Ѓв”Ѓв”Ѓв”Ѓв”Ѓв”Ѓв”Ѓв”Ѓв”Ѓв”Ѓв”Ѓв”Ѓв”Ѓв”Ѓв”Ѓв”Ѓв”Ѓв”Ѓв”Ѓв”Ѓв”Ѓв”Ѓв”Ѓв”Ѓв”Ѓв”Ѓв”Ѓв”Ѓ 502.3/502.3 kB 279.4 MB/s eta 0:00:00\\n',\n",
       " 'Collecting python-dateutil>=2.8.1\\n',\n",
       " '  Downloading https://artifactory.tcsbank.ru/artifactory/api/pypi/python-all/packages/packages/python-dateutil/2.8.2/python_dateutil-2.8.2-py2.py3-none-any.whl (247 kB)\\n',\n",
       " '     в”Ѓв”Ѓв”Ѓв”Ѓв”Ѓв”Ѓв”Ѓв”Ѓв”Ѓв”Ѓв”Ѓв”Ѓв”Ѓв”Ѓв”Ѓв”Ѓв”Ѓв”Ѓв”Ѓв”Ѓв”Ѓв”Ѓв”Ѓв”Ѓв”Ѓв”Ѓв”Ѓв”Ѓв”Ѓв”Ѓв”Ѓв”Ѓв”Ѓв”Ѓв”Ѓв”Ѓв”Ѓ 247.7/247.7 kB 275.9 MB/s eta 0:00:00\\n',\n",
       " 'Collecting stack-data\\n',\n",
       " '  Downloading https://artifactory.tcsbank.ru/artifactory/api/pypi/python-all/packages/packages/stack-data/0.6.2/stack_data-0.6.2-py3-none-any.whl (24 kB)\\n',\n",
       " 'Collecting pickleshare\\n',\n",
       " '  Downloading https://artifactory.tcsbank.ru/artifactory/api/pypi/python-all/packages/packages/pickleshare/0.7.5/pickleshare-0.7.5-py2.py3-none-any.whl (6.9 kB)\\n',\n",
       " 'Collecting backcall\\n',\n",
       " '  Downloading https://artifactory.tcsbank.ru/artifactory/api/pypi/python-all/packages/packages/backcall/0.2.0/backcall-0.2.0-py2.py3-none-any.whl (11 kB)\\n',\n",
       " 'Collecting traitlets>=5\\n',\n",
       " '  Downloading https://artifactory.tcsbank.ru/artifactory/api/pypi/python-all/packages/packages/traitlets/5.9.0/traitlets-5.9.0-py3-none-any.whl (117 kB)\\n',\n",
       " '     в”Ѓв”Ѓв”Ѓв”Ѓв”Ѓв”Ѓв”Ѓв”Ѓв”Ѓв”Ѓв”Ѓв”Ѓв”Ѓв”Ѓв”Ѓв”Ѓв”Ѓв”Ѓв”Ѓв”Ѓв”Ѓв”Ѓв”Ѓв”Ѓв”Ѓв”Ѓв”Ѓв”Ѓв”Ѓв”Ѓв”Ѓв”Ѓв”Ѓв”Ѓв”Ѓв”Ѓв”Ѓв”Ѓ 117.4/117.4 kB 15.9 MB/s eta 0:00:00\\n',\n",
       " 'Collecting decorator\\n',\n",
       " '  Downloading https://artifactory.tcsbank.ru/artifactory/api/pypi/python-all/packages/packages/decorator/5.1.1/decorator-5.1.1-py3-none-any.whl (9.1 kB)\\n',\n",
       " 'Collecting prompt-toolkit!=3.0.0,!=3.0.1,<3.1.0,>=2.0.0\\n',\n",
       " '  Downloading https://artifactory.tcsbank.ru/artifactory/api/pypi/python-all/packages/packages/prompt-toolkit/3.0.38/prompt_toolkit-3.0.38-py3-none-any.whl (385 kB)\\n',\n",
       " '     в”Ѓв”Ѓв”Ѓв”Ѓв”Ѓв”Ѓв”Ѓв”Ѓв”Ѓв”Ѓв”Ѓв”Ѓв”Ѓв”Ѓв”Ѓв”Ѓв”Ѓв”Ѓв”Ѓв”Ѓв”Ѓв”Ѓв”Ѓв”Ѓв”Ѓв”Ѓв”Ѓв”Ѓв”Ѓв”Ѓв”Ѓв”Ѓв”Ѓв”Ѓв”Ѓв”Ѓв”Ѓв”Ѓ 385.8/385.8 kB 47.7 MB/s eta 0:00:00\\n',\n",
       " 'Requirement already satisfied: setuptools>=18.5 in /usr/local/lib/python3.8/dist-packages (from ipython==8.0.0->-r /home/requirements.txt (line 9)) (66.0.0)\\n',\n",
       " 'Requirement already satisfied: pexpect>4.3 in /usr/local/lib/python3.8/dist-packages (from ipython==8.0.0->-r /home/requirements.txt (line 9)) (4.8.0)\\n',\n",
       " 'Collecting matplotlib-inline\\n',\n",
       " '  Downloading https://artifactory.tcsbank.ru/artifactory/api/pypi/python-all/packages/packages/matplotlib-inline/0.1.6/matplotlib_inline-0.1.6-py3-none-any.whl (9.4 kB)\\n',\n",
       " 'Collecting black\\n',\n",
       " '  Downloading https://artifactory.tcsbank.ru/artifactory/api/pypi/python-all/packages/packages/black/23.3.0/black-23.3.0-cp38-cp38-manylinux_2_17_x86_64.manylinux2014_x86_64.whl (1.6 MB)\\n',\n",
       " '     в”Ѓв”Ѓв”Ѓв”Ѓв”Ѓв”Ѓв”Ѓв”Ѓв”Ѓв”Ѓв”Ѓв”Ѓв”Ѓв”Ѓв”Ѓв”Ѓв”Ѓв”Ѓв”Ѓв”Ѓв”Ѓв”Ѓв”Ѓв”Ѓв”Ѓв”Ѓв”Ѓв”Ѓв”Ѓв”Ѓв”Ѓв”Ѓв”Ѓв”Ѓв”Ѓв”Ѓв”Ѓв”Ѓв”Ѓв”Ѓ 1.6/1.6 MB 82.1 MB/s eta 0:00:00\\n',\n",
       " 'Requirement already satisfied: pygments in /usr/local/lib/python3.8/dist-packages (from ipython==8.0.0->-r /home/requirements.txt (line 9)) (2.14.0)\\n',\n",
       " 'Collecting jedi>=0.16\\n',\n",
       " '  Downloading https://artifactory.tcsbank.ru/artifactory/api/pypi/python-all/packages/packages/jedi/0.18.2/jedi-0.18.2-py2.py3-none-any.whl (1.6 MB)\\n',\n",
       " '     в”Ѓв”Ѓв”Ѓв”Ѓв”Ѓв”Ѓв”Ѓв”Ѓв”Ѓв”Ѓв”Ѓв”Ѓв”Ѓв”Ѓв”Ѓв”Ѓв”Ѓв”Ѓв”Ѓв”Ѓв”Ѓв”Ѓв”Ѓв”Ѓв”Ѓв”Ѓв”Ѓв”Ѓв”Ѓв”Ѓв”Ѓв”Ѓв”Ѓв”Ѓв”Ѓв”Ѓв”Ѓв”Ѓв”Ѓв”Ѓ 1.6/1.6 MB 147.2 MB/s eta 0:00:00\\n',\n",
       " 'Requirement already satisfied: wheel in /usr/local/lib/python3.8/dist-packages (from nvidia-cublas-cu11==11.10.3.66->torch==1.13.1->-r /home/requirements.txt (line 1)) (0.38.4)\\n',\n",
       " 'Collecting llvmlite<0.41,>=0.40.0dev0\\n',\n",
       " '  Downloading https://artifactory.tcsbank.ru/artifactory/api/pypi/python-all/packages/packages/llvmlite/0.40.0/llvmlite-0.40.0-cp38-cp38-manylinux_2_17_x86_64.manylinux2014_x86_64.whl (42.1 MB)\\n',\n",
       " '     в”Ѓв”Ѓв”Ѓв”Ѓв”Ѓв”Ѓв”Ѓв”Ѓв”Ѓв”Ѓв”Ѓв”Ѓв”Ѓв”Ѓв”Ѓв”Ѓв”Ѓв”Ѓв”Ѓв”Ѓв”Ѓв”Ѓв”Ѓв”Ѓв”Ѓв”Ѓв”Ѓв”Ѓв”Ѓв”Ѓв”Ѓв”Ѓв”Ѓв”Ѓв”Ѓв”Ѓв”Ѓв”Ѓв”Ѓ 42.1/42.1 MB 190.4 MB/s eta 0:00:00\\n',\n",
       " 'Requirement already satisfied: importlib-metadata in /usr/local/lib/python3.8/dist-packages (from numba>=0.21.0->-r /home/requirements.txt (line 7)) (4.13.0)\\n',\n",
       " 'Requirement already satisfied: charset-normalizer<4,>=2 in /usr/local/lib/python3.8/dist-packages (from requests>=2.7.0->-r /home/requirements.txt (line 8)) (3.0.1)\\n',\n",
       " 'Requirement already satisfied: urllib3<1.27,>=1.21.1 in /usr/local/lib/python3.8/dist-packages (from requests>=2.7.0->-r /home/requirements.txt (line 8)) (1.26.14)\\n',\n",
       " 'Requirement already satisfied: certifi>=2017.4.17 in /usr/lib/python3/dist-packages (from requests>=2.7.0->-r /home/requirements.txt (line 8)) (2019.11.28)\\n',\n",
       " 'Requirement already satisfied: idna<4,>=2.5 in /usr/lib/python3/dist-packages (from requests>=2.7.0->-r /home/requirements.txt (line 8)) (2.8)\\n',\n",
       " 'Collecting parso<0.9.0,>=0.8.0\\n',\n",
       " '  Downloading https://artifactory.tcsbank.ru/artifactory/api/pypi/python-all/packages/packages/parso/0.8.3/parso-0.8.3-py2.py3-none-any.whl (100 kB)\\n',\n",
       " '     в”Ѓв”Ѓв”Ѓв”Ѓв”Ѓв”Ѓв”Ѓв”Ѓв”Ѓв”Ѓв”Ѓв”Ѓв”Ѓв”Ѓв”Ѓв”Ѓв”Ѓв”Ѓв”Ѓв”Ѓв”Ѓв”Ѓв”Ѓв”Ѓв”Ѓв”Ѓв”Ѓв”Ѓв”Ѓв”Ѓв”Ѓв”Ѓв”Ѓв”Ѓв”Ѓв”Ѓв”Ѓ 100.8/100.8 kB 271.4 MB/s eta 0:00:00\\n',\n",
       " 'Requirement already satisfied: ptyprocess>=0.5 in /usr/local/lib/python3.8/dist-packages (from pexpect>4.3->ipython==8.0.0->-r /home/requirements.txt (line 9)) (0.7.0)\\n',\n",
       " 'Collecting wcwidth\\n',\n",
       " '  Downloading https://artifactory.tcsbank.ru/artifactory/api/pypi/python-all/packages/packages/wcwidth/0.2.6/wcwidth-0.2.6-py2.py3-none-any.whl (29 kB)\\n',\n",
       " 'Requirement already satisfied: six>=1.5 in /usr/lib/python3/dist-packages (from python-dateutil>=2.8.1->pandas==1.5.3->-r /home/requirements.txt (line 6)) (1.14.0)\\n',\n",
       " 'Collecting click>=8.0.0\\n',\n",
       " '  Downloading https://artifactory.tcsbank.ru/artifactory/api/pypi/python-all/packages/packages/click/8.1.3/click-8.1.3-py3-none-any.whl (96 kB)\\n',\n",
       " '     в”Ѓв”Ѓв”Ѓв”Ѓв”Ѓв”Ѓв”Ѓв”Ѓв”Ѓв”Ѓв”Ѓв”Ѓв”Ѓв”Ѓв”Ѓв”Ѓв”Ѓв”Ѓв”Ѓв”Ѓв”Ѓв”Ѓв”Ѓв”Ѓв”Ѓв”Ѓв”Ѓв”Ѓв”Ѓв”Ѓв”Ѓв”Ѓв”Ѓв”Ѓв”Ѓв”Ѓв”Ѓв”Ѓв”Ѓ 96.6/96.6 kB 258.6 MB/s eta 0:00:00\\n',\n",
       " 'Requirement already satisfied: tomli>=1.1.0 in /usr/local/lib/python3.8/dist-packages (from black->ipython==8.0.0->-r /home/requirements.txt (line 9)) (2.0.1)\\n',\n",
       " 'Requirement already satisfied: packaging>=22.0 in /usr/local/lib/python3.8/dist-packages (from black->ipython==8.0.0->-r /home/requirements.txt (line 9)) (23.0)\\n',\n",
       " 'Requirement already satisfied: platformdirs>=2 in /usr/local/lib/python3.8/dist-packages (from black->ipython==8.0.0->-r /home/requirements.txt (line 9)) (2.6.2)\\n',\n",
       " 'Collecting mypy-extensions>=0.4.3\\n',\n",
       " '  Downloading https://artifactory.tcsbank.ru/artifactory/api/pypi/python-all/packages/packages/mypy-extensions/1.0.0/mypy_extensions-1.0.0-py3-none-any.whl (4.7 kB)\\n',\n",
       " 'Collecting pathspec>=0.9.0\\n',\n",
       " '  Downloading https://artifactory.tcsbank.ru/artifactory/api/pypi/python-all/packages/packages/pathspec/0.11.1/pathspec-0.11.1-py3-none-any.whl (29 kB)\\n',\n",
       " 'Requirement already satisfied: zipp>=0.5 in /usr/local/lib/python3.8/dist-packages (from importlib-metadata->numba>=0.21.0->-r /home/requirements.txt (line 7)) (3.11.0)\\n',\n",
       " 'Collecting executing>=1.2.0\\n',\n",
       " '  Downloading https://artifactory.tcsbank.ru/artifactory/api/pypi/python-all/packages/packages/executing/1.2.0/executing-1.2.0-py2.py3-none-any.whl (24 kB)\\n',\n",
       " 'Collecting pure-eval\\n',\n",
       " '  Downloading https://artifactory.tcsbank.ru/artifactory/api/pypi/python-all/packages/packages/pure-eval/0.2.2/pure_eval-0.2.2-py3-none-any.whl (11 kB)\\n',\n",
       " 'Collecting asttokens>=2.1.0\\n',\n",
       " '  Downloading https://artifactory.tcsbank.ru/artifactory/api/pypi/python-all/packages/packages/asttokens/2.2.1/asttokens-2.2.1-py2.py3-none-any.whl (26 kB)\\n',\n",
       " 'Installing collected packages: wcwidth, pytz, pure-eval, pickleshare, executing, backcall, traitlets, tqdm, threadpoolctl, python-dateutil, prompt-toolkit, pathspec, parso, nvidia-cuda-runtime-cu11, nvidia-cuda-nvrtc-cu11, nvidia-cublas-cu11, numpy, mypy-extensions, llvmlite, joblib, decorator, click, asttokens, stack-data, scipy, pandas, nvidia-cudnn-cu11, numba, matplotlib-inline, jedi, black, torch, scikit-learn, ipython\\n',\n",
       " 'Successfully installed asttokens-2.2.1 backcall-0.2.0 black-23.3.0 click-8.1.3 decorator-5.1.1 executing-1.2.0 ipython-8.0.0 jedi-0.18.2 joblib-1.2.0 llvmlite-0.40.0 matplotlib-inline-0.1.6 mypy-extensions-1.0.0 numba-0.57.0 numpy-1.22.2 nvidia-cublas-cu11-11.10.3.66 nvidia-cuda-nvrtc-cu11-11.7.99 nvidia-cuda-runtime-cu11-11.7.99 nvidia-cudnn-cu11-8.5.0.96 pandas-1.5.3 parso-0.8.3 pathspec-0.11.1 pickleshare-0.7.5 prompt-toolkit-3.0.38 pure-eval-0.2.2 python-dateutil-2.8.2 pytz-2023.3 scikit-learn-1.2.1 scipy-1.10.1 stack-data-0.6.2 threadpoolctl-3.1.0 torch-1.13.1 tqdm-4.64.1 traitlets-5.9.0 wcwidth-0.2.6\\n',\n",
       " 'Looking in indexes: https://artifactory.tcsbank.ru/artifactory/api/pypi/python-all/simple\\n',\n",
       " 'Collecting polara\\n',\n",
       " '  Cloning https://github.com/evfro/polara.git (to revision develop) to /tmp/pip-install-vk1nrqcm/polara_37d3420c2e6f49e2aae72eb9a9c1b994\\n',\n",
       " '  Resolved https://github.com/evfro/polara.git to commit 8e48cfd88e616ca53f8bbda1702a3e2c8abaf38e\\n',\n",
       " '  Preparing metadata (setup.py): started\\n',\n",
       " \"  Preparing metadata (setup.py): finished with status 'done'\\n\",\n",
       " 'Building wheels for collected packages: polara\\n',\n",
       " '  Building wheel for polara (setup.py): started\\n',\n",
       " \"  Building wheel for polara (setup.py): finished with status 'done'\\n\",\n",
       " '  Created wheel for polara: filename=polara-0.7.2.dev0-py3-none-any.whl size=89447 sha256=cc21f44dfacdad0cd825a31ca5be985ba07503672a390092a9848917b953049f\\n',\n",
       " '  Stored in directory: /tmp/pip-ephem-wheel-cache-y8x9rjt8/wheels/5e/e1/4c/eaa6d1a342974af58b0efac692b6846b8c034f8904e428626b\\n',\n",
       " 'Successfully built polara\\n',\n",
       " 'Installing collected packages: polara\\n',\n",
       " 'Successfully installed polara-0.7.2.dev0\\n',\n",
       " 'device: cuda:0\\n',\n",
       " 'There are 25076 users\\n',\n",
       " 'Filtered 24583 invalid observations.\\n',\n",
       " 'Alpha: 2\\n',\n",
       " 'Hidden sizes: 16\\n',\n",
       " 'Current epoch 50\\n',\n",
       " 'Results for alpha=2\\n',\n",
       " 'HR@5:0.0, MRR@5: 0.0, Coverage@5: 0.0006607587064676617, NCDG@5: 0.0, HR_pos@5: 0.0, HR_neg@5: 0.0, MRR_pos@5: 0.0, MRR_neg@5: 0.0, NCDG_pos@5: 0.0, NDCG_neg@5: 0.0, Matthews@5: nan\\n',\n",
       " 'HR@10:0.0, MRR@10: 0.0, Coverage@10: 0.0013992537313432835, NCDG@10: 0.0, HR_pos@10: 0.0, HR_neg@10: 0.0, MRR_pos@10: 0.0, MRR_neg@10: 0.0, NCDG_pos@10: 0.0, NDCG_neg@10: 0.0, Matthews@10: nan\\n',\n",
       " 'HR@20:0.0005489478499542544, MRR@20: 3.4137264478671516e-05, Coverage@20: 0.0024875621890547263, NCDG@20: 0.00013394085637471193, HR_pos@20: 0.0005489478499542544, HR_neg@20: 0.0, MRR_pos@20: 3.4137264478671516e-05, MRR_neg@20: 0.0, NCDG_pos@20: 0.00013394085637471193, NDCG_neg@20: 0.0, Matthews@20: 0.0066832556098863965\\n',\n",
       " 'Results for alpha=3\\n',\n",
       " 'HR@5:0.0, MRR@5: 0.0, Coverage@5: 0.0006607587064676617, NCDG@5: 0.0, HR_pos@5: 0.0, HR_neg@5: 0.0, MRR_pos@5: 0.0, MRR_neg@5: 0.0, NCDG_pos@5: 0.0, NDCG_neg@5: 0.0, Matthews@5: nan\\n',\n",
       " 'HR@10:0.0, MRR@10: 0.0, Coverage@10: 0.0013992537313432835, NCDG@10: 0.0, HR_pos@10: 0.0, HR_neg@10: 0.0, MRR_pos@10: 0.0, MRR_neg@10: 0.0, NCDG_pos@10: 0.0, NDCG_neg@10: 0.0, Matthews@10: nan\\n',\n",
       " 'HR@20:0.0005489478499542544, MRR@20: 3.4137264478671516e-05, Coverage@20: 0.0024875621890547263, NCDG@20: 0.00013394085637471193, HR_pos@20: 0.0005489478499542544, HR_neg@20: 0.0, MRR_pos@20: 3.4137264478671516e-05, MRR_neg@20: 0.0, NCDG_pos@20: 0.00013394085637471193, NDCG_neg@20: 0.0, Matthews@20: 0.007054244439628783\\n',\n",
       " 'Results for alpha=4\\n',\n",
       " 'HR@5:0.0, MRR@5: 0.0, Coverage@5: 0.0006607587064676617, NCDG@5: 0.0, HR_pos@5: 0.0, HR_neg@5: 0.0, MRR_pos@5: 0.0, MRR_neg@5: 0.0, NCDG_pos@5: 0.0, NDCG_neg@5: 0.0, Matthews@5: nan\\n',\n",
       " 'HR@10:0.0, MRR@10: 0.0, Coverage@10: 0.0013992537313432835, NCDG@10: 0.0, HR_pos@10: 0.0, HR_neg@10: 0.0, MRR_pos@10: 0.0, MRR_neg@10: 0.0, NCDG_pos@10: 0.0, NDCG_neg@10: 0.0, Matthews@10: nan\\n',\n",
       " 'HR@20:0.0005489478499542544, MRR@20: 3.4137264478671516e-05, Coverage@20: 0.0024875621890547263, NCDG@20: 0.00013394085637471193, HR_pos@20: 0.0005489478499542544, HR_neg@20: 0.0, MRR_pos@20: 3.4137264478671516e-05, MRR_neg@20: 0.0, NCDG_pos@20: 0.00013394085637471193, NDCG_neg@20: 0.0, Matthews@20: 0.007776237295896303\\n',\n",
       " 'Results for alpha=5\\n',\n",
       " 'HR@5:0.0, MRR@5: 0.0, Coverage@5: 0.0006607587064676617, NCDG@5: 0.0, HR_pos@5: 0.0, HR_neg@5: 0.0, MRR_pos@5: 0.0, MRR_neg@5: 0.0, NCDG_pos@5: 0.0, NDCG_neg@5: 0.0, Matthews@5: nan\\n',\n",
       " 'HR@10:0.0, MRR@10: 0.0, Coverage@10: 0.0013992537313432835, NCDG@10: 0.0, HR_pos@10: 0.0, HR_neg@10: 0.0, MRR_pos@10: 0.0, MRR_neg@10: 0.0, NCDG_pos@10: 0.0, NDCG_neg@10: 0.0, Matthews@10: nan\\n',\n",
       " 'HR@20:0.0005489478499542544, MRR@20: 3.4137264478671516e-05, Coverage@20: 0.0024875621890547263, NCDG@20: 0.00013394085637471193, HR_pos@20: 0.0005489478499542544, HR_neg@20: 0.0, MRR_pos@20: 3.4137264478671516e-05, MRR_neg@20: 0.0, NCDG_pos@20: 0.00013394085637471193, NDCG_neg@20: 0.0, Matthews@20: 0.009151096883365411\\n',\n",
       " 'Results for alpha=6\\n',\n",
       " 'HR@5:0.0, MRR@5: 0.0, Coverage@5: 0.0006607587064676617, NCDG@5: 0.0, HR_pos@5: 0.0, HR_neg@5: 0.0, MRR_pos@5: 0.0, MRR_neg@5: 0.0, NCDG_pos@5: 0.0, NDCG_neg@5: 0.0, Matthews@5: nan\\n',\n",
       " 'HR@10:0.0, MRR@10: 0.0, Coverage@10: 0.0013992537313432835, NCDG@10: 0.0, HR_pos@10: 0.0, HR_neg@10: 0.0, MRR_pos@10: 0.0, MRR_neg@10: 0.0, NCDG_pos@10: 0.0, NDCG_neg@10: 0.0, Matthews@10: nan\\n',\n",
       " 'HR@20:0.0005489478499542544, MRR@20: 3.4137264478671516e-05, Coverage@20: 0.0024875621890547263, NCDG@20: 0.00013394085637471193, HR_pos@20: 0.0005489478499542544, HR_neg@20: 0.0, MRR_pos@20: 3.4137264478671516e-05, MRR_neg@20: 0.0, NCDG_pos@20: 0.00013394085637471193, NDCG_neg@20: 0.0, Matthews@20: 0.013548977748761477\\n',\n",
       " 'Test loss: 0.4765460789203644\\n',\n",
       " 'Train loss: 0.5968227423727512\\n',\n",
       " '\\n',\n",
       " '\\n',\n",
       " 'Alpha: 3\\n',\n",
       " 'Hidden sizes: 16\\n',\n",
       " 'Current epoch 50\\n',\n",
       " 'Results for alpha=2\\n',\n",
       " 'HR@5:0.0, MRR@5: 0.0, Coverage@5: 0.0005441542288557214, NCDG@5: 0.0, HR_pos@5: 0.0, HR_neg@5: 0.0, MRR_pos@5: 0.0, MRR_neg@5: 0.0, NCDG_pos@5: 0.0, NDCG_neg@5: 0.0, Matthews@5: nan\\n',\n",
       " 'HR@10:0.0, MRR@10: 0.0, Coverage@10: 0.0010105721393034825, NCDG@10: 0.0, HR_pos@10: 0.0, HR_neg@10: 0.0, MRR_pos@10: 0.0, MRR_neg@10: 0.0, NCDG_pos@10: 0.0, NDCG_neg@10: 0.0, Matthews@10: nan\\n',\n",
       " 'HR@20:0.0005489478499542544, MRR@20: 3.707805653199787e-05, Coverage@20: 0.002293221393034826, NCDG@20: 0.00013753272965911782, HR_pos@20: 0.00036596523330283625, HR_neg@20: 0.00018298261665141812, MRR_pos@20: 2.4879215421903335e-05, MRR_neg@20: 1.219884111009454e-05, NCDG_pos@20: 9.178707549626329e-05, NDCG_neg@20: 4.574565416285453e-05, Matthews@20: -0.022938797843503042\\n',\n",
       " 'Results for alpha=3\\n',\n",
       " 'HR@5:0.0, MRR@5: 0.0, Coverage@5: 0.0005441542288557214, NCDG@5: 0.0, HR_pos@5: 0.0, HR_neg@5: 0.0, MRR_pos@5: 0.0, MRR_neg@5: 0.0, NCDG_pos@5: 0.0, NDCG_neg@5: 0.0, Matthews@5: nan\\n',\n",
       " 'HR@10:0.0, MRR@10: 0.0, Coverage@10: 0.0010105721393034825, NCDG@10: 0.0, HR_pos@10: 0.0, HR_neg@10: 0.0, MRR_pos@10: 0.0, MRR_neg@10: 0.0, NCDG_pos@10: 0.0, NDCG_neg@10: 0.0, Matthews@10: nan\\n',\n",
       " 'HR@20:0.0005489478499542544, MRR@20: 3.707805653199787e-05, Coverage@20: 0.002293221393034826, NCDG@20: 0.00013753272965911782, HR_pos@20: 0.00036596523330283625, HR_neg@20: 0.00018298261665141812, MRR_pos@20: 2.4879215421903335e-05, MRR_neg@20: 1.219884111009454e-05, NCDG_pos@20: 9.178707549626329e-05, NDCG_neg@20: 4.574565416285453e-05, Matthews@20: -0.021250781891187176\\n',\n",
       " 'Results for alpha=4\\n',\n",
       " 'HR@5:0.0, MRR@5: 0.0, Coverage@5: 0.0005441542288557214, NCDG@5: 0.0, HR_pos@5: 0.0, HR_neg@5: 0.0, MRR_pos@5: 0.0, MRR_neg@5: 0.0, NCDG_pos@5: 0.0, NDCG_neg@5: 0.0, Matthews@5: nan\\n',\n",
       " 'HR@10:0.0, MRR@10: 0.0, Coverage@10: 0.0010105721393034825, NCDG@10: 0.0, HR_pos@10: 0.0, HR_neg@10: 0.0, MRR_pos@10: 0.0, MRR_neg@10: 0.0, NCDG_pos@10: 0.0, NDCG_neg@10: 0.0, Matthews@10: nan\\n',\n",
       " 'HR@20:0.0005489478499542544, MRR@20: 3.707805653199787e-05, Coverage@20: 0.002293221393034826, NCDG@20: 0.00013753272965911782, HR_pos@20: 0.00036596523330283625, HR_neg@20: 0.00018298261665141812, MRR_pos@20: 2.4879215421903335e-05, MRR_neg@20: 1.219884111009454e-05, NCDG_pos@20: 9.178707549626329e-05, NDCG_neg@20: 4.574565416285453e-05, Matthews@20: -0.018359763209683803\\n',\n",
       " 'Results for alpha=5\\n',\n",
       " 'HR@5:0.0, MRR@5: 0.0, Coverage@5: 0.0005441542288557214, NCDG@5: 0.0, HR_pos@5: 0.0, HR_neg@5: 0.0, MRR_pos@5: 0.0, MRR_neg@5: 0.0, NCDG_pos@5: 0.0, NDCG_neg@5: 0.0, Matthews@5: nan\\n',\n",
       " 'HR@10:0.0, MRR@10: 0.0, Coverage@10: 0.0010105721393034825, NCDG@10: 0.0, HR_pos@10: 0.0, HR_neg@10: 0.0, MRR_pos@10: 0.0, MRR_neg@10: 0.0, NCDG_pos@10: 0.0, NDCG_neg@10: 0.0, Matthews@10: nan\\n',\n",
       " 'HR@20:0.0005489478499542544, MRR@20: 3.707805653199787e-05, Coverage@20: 0.002293221393034826, NCDG@20: 0.00013753272965911782, HR_pos@20: 0.00036596523330283625, HR_neg@20: 0.00018298261665141812, MRR_pos@20: 2.4879215421903335e-05, MRR_neg@20: 1.219884111009454e-05, NCDG_pos@20: 9.178707549626329e-05, NDCG_neg@20: 4.574565416285453e-05, Matthews@20: -0.013905954507871084\\n',\n",
       " 'Results for alpha=6\\n',\n",
       " 'HR@5:0.0, MRR@5: 0.0, Coverage@5: 0.0005441542288557214, NCDG@5: 0.0, HR_pos@5: 0.0, HR_neg@5: 0.0, MRR_pos@5: 0.0, MRR_neg@5: 0.0, NCDG_pos@5: 0.0, NDCG_neg@5: 0.0, Matthews@5: nan\\n',\n",
       " 'HR@10:0.0, MRR@10: 0.0, Coverage@10: 0.0010105721393034825, NCDG@10: 0.0, HR_pos@10: 0.0, HR_neg@10: 0.0, MRR_pos@10: 0.0, MRR_neg@10: 0.0, NCDG_pos@10: 0.0, NDCG_neg@10: 0.0, Matthews@10: nan\\n',\n",
       " 'HR@20:0.0005489478499542544, MRR@20: 3.707805653199787e-05, Coverage@20: 0.002293221393034826, NCDG@20: 0.00013753272965911782, HR_pos@20: 0.00036596523330283625, HR_neg@20: 0.00018298261665141812, MRR_pos@20: 2.4879215421903335e-05, MRR_neg@20: 1.219884111009454e-05, NCDG_pos@20: 9.178707549626329e-05, NDCG_neg@20: 4.574565416285453e-05, Matthews@20: -0.0044800369571020415\\n',\n",
       " 'Test loss: 0.47941526770591736\\n',\n",
       " 'Train loss: 0.598864877389537\\n',\n",
       " '\\n',\n",
       " '\\n',\n",
       " 'Alpha: 4\\n',\n",
       " 'Hidden sizes: 1024\\n',\n",
       " 'Current epoch 83\\n',\n",
       " 'Results for alpha=2\\n',\n",
       " 'HR@5:0.009515096065873741, MRR@5: 0.004720951509606587, Coverage@5: 0.041394589552238806, NCDG@5: 0.005895873925864424, HR_pos@5: 0.008966148215919487, HR_neg@5: 0.0005489478499542544, MRR_pos@5: 0.004577615126562976, MRR_neg@5: 0.00014333638304361084, NCDG_pos@5: 0.0056547889550852964, NDCG_neg@5: 0.00024108497077912803, Matthews@5: 0.006508912385147542\\n',\n",
       " 'HR@10:0.01939615736505032, MRR@10: 0.006013157321483032, Coverage@10: 0.06529850746268656, NCDG@10: 0.009063498019229446, HR_pos@10: 0.018664226898444648, HR_neg@10: 0.0007319304666056725, MRR_pos@10: 0.005843680564632075, MRR_neg@10: 0.00016947675685095626, NCDG_pos@10: 0.008761418842899845, NDCG_neg@10: 0.00030207917632960073, Matthews@10: 0.01998234522503494\\n',\n",
       " 'HR@20:0.03751143641354071, MRR@20: 0.007248557289310578, Coverage@20: 0.09868625621890548, NCDG@20: 0.013616393048146536, HR_pos@20: 0.03476669716376944, HR_neg@20: 0.0027447392497712718, MRR_pos@20: 0.006937267660438471, MRR_neg@20: 0.00031128962887210556, NCDG_pos@20: 0.012802563541339716, NDCG_neg@20: 0.0008138295068068228, Matthews@20: 0.0015234440700352262\\n',\n",
       " 'Results for alpha=3\\n',\n",
       " 'HR@5:0.009515096065873741, MRR@5: 0.004720951509606587, Coverage@5: 0.041394589552238806, NCDG@5: 0.005895873925864424, HR_pos@5: 0.008966148215919487, HR_neg@5: 0.0005489478499542544, MRR_pos@5: 0.004577615126562976, MRR_neg@5: 0.00014333638304361084, NCDG_pos@5: 0.0056547889550852964, NDCG_neg@5: 0.00024108497077912803, Matthews@5: 0.009013741915095696\\n',\n",
       " 'HR@10:0.01939615736505032, MRR@10: 0.006013157321483032, Coverage@10: 0.06529850746268656, NCDG@10: 0.009063498019229446, HR_pos@10: 0.018664226898444648, HR_neg@10: 0.0007319304666056725, MRR_pos@10: 0.005843680564632075, MRR_neg@10: 0.00016947675685095626, NCDG_pos@10: 0.008761418842899845, NDCG_neg@10: 0.00030207917632960073, Matthews@10: 0.023103401779318935\\n',\n",
       " 'HR@20:0.03751143641354071, MRR@20: 0.007248557289310578, Coverage@20: 0.09868625621890548, NCDG@20: 0.013616393048146536, HR_pos@20: 0.03476669716376944, HR_neg@20: 0.0027447392497712718, MRR_pos@20: 0.006937267660438471, MRR_neg@20: 0.00031128962887210556, NCDG_pos@20: 0.012802563541339716, NDCG_neg@20: 0.0008138295068068228, Matthews@20: 0.007083817699095564\\n',\n",
       " 'Results for alpha=4\\n',\n",
       " 'HR@5:0.009515096065873741, MRR@5: 0.004720951509606587, Coverage@5: 0.041394589552238806, NCDG@5: 0.005895873925864424, HR_pos@5: 0.008966148215919487, HR_neg@5: 0.0005489478499542544, MRR_pos@5: 0.004577615126562976, MRR_neg@5: 0.00014333638304361084, NCDG_pos@5: 0.0056547889550852964, NDCG_neg@5: 0.00024108497077912803, Matthews@5: 0.01360321998044664\\n',\n",
       " 'HR@10:0.01939615736505032, MRR@10: 0.006013157321483032, Coverage@10: 0.06529850746268656, NCDG@10: 0.009063498019229446, HR_pos@10: 0.018298261665141813, HR_neg@10: 0.0010978956999085087, MRR_pos@10: 0.00579285206000668, MRR_neg@10: 0.00022030526147635021, NCDG_pos@10: 0.008641155863435617, NDCG_neg@10: 0.0004223421557938283, Matthews@10: 0.02003175136621283\\n',\n",
       " 'HR@20:0.03751143641354071, MRR@20: 0.007248557289310578, Coverage@20: 0.09868625621890548, NCDG@20: 0.013616393048146536, HR_pos@20: 0.0344007319304666, HR_neg@20: 0.003110704483074108, MRR_pos@20: 0.006886439155813078, MRR_neg@20: 0.00036211813349749955, NCDG_pos@20: 0.012682300561875484, NDCG_neg@20: 0.0009340924862710503, Matthews@20: 0.010732634000832988\\n',\n",
       " 'Results for alpha=5\\n',\n",
       " 'HR@5:0.01646843549862763, MRR@5: 0.008197621225983531, Coverage@5: 0.014886504975124379, NCDG@5: 0.010229028414931599, HR_pos@5: 0.015004574565416285, HR_neg@5: 0.001463860933211345, MRR_pos@5: 0.007343702348276915, MRR_neg@5: 0.0008539188777066177, NCDG_pos@5: 0.009224036124040796, NDCG_neg@5: 0.001004992290890804, Matthews@5: 0.016578203519648057\\n',\n",
       " 'HR@10:0.029643183897529735, MRR@10: 0.00992063492063492, Coverage@10: 0.02312655472636816, NCDG@10: 0.01445439202826188, HR_pos@10: 0.02708142726440988, HR_neg@10: 0.0025617566331198535, MRR_pos@10: 0.008918078972973758, MRR_neg@10: 0.001002555947661163, NCDG_pos@10: 0.013092344402271907, NDCG_neg@10: 0.001362047625989976, Matthews@10: 0.02366622047514401\\n',\n",
       " 'HR@20:0.0505032021957914, MRR@20: 0.011361968623432655, Coverage@20: 0.037041355721393034, NCDG@20: 0.019718898537216183, HR_pos@20: 0.044281793229643186, HR_neg@20: 0.006221408966148216, MRR_pos@20: 0.01008969680302026, MRR_neg@20: 0.0012722718204123942, NCDG_pos@20: 0.017412411411072328, NDCG_neg@20: 0.0023064871261438526, Matthews@20: 0.006199793325021454\\n',\n",
       " 'Results for alpha=6\\n',\n",
       " 'HR@5:0.01738334858188472, MRR@5: 0.007773711497407748, Coverage@5: 0.0028762437810945273, NCDG@5: 0.010115420912976385, HR_pos@5: 0.013906678865507777, HR_neg@5: 0.0034766697163769443, MRR_pos@5: 0.006114669106434888, MRR_neg@5: 0.0016590423909728575, NCDG_pos@5: 0.008003097056556564, NDCG_neg@5: 0.00211232385641982, Matthews@5: 0.015502510844038335\\n',\n",
       " 'HR@10:0.02909423604757548, MRR@10: 0.009367911238908493, Coverage@10: 0.0050139925373134326, NCDG@10: 0.0139332207031046, HR_pos@10: 0.0232387923147301, HR_neg@10: 0.00585544373284538, MRR_pos@10: 0.007394893913649632, MRR_neg@10: 0.001973017325258862, NCDG_pos@10: 0.011055260153189975, NDCG_neg@10: 0.002877960549914623, Matthews@10: 0.019673813619494766\\n',\n",
       " 'HR@20:0.04757548032936871, MRR@20: 0.010649316100059503, Coverage@20: 0.008317786069651742, NCDG@20: 0.018603889935728948, HR_pos@20: 0.0364135407136322, HR_neg@20: 0.011161939615736504, MRR_pos@20: 0.008311167454045436, MRR_neg@20: 0.002338148646014066, NCDG_pos@20: 0.014387910250739594, NDCG_neg@20: 0.004215979684989354, Matthews@20: 0.008195001172174596\\n',\n",
       " 'Test loss: 0.0017671348759904504\\n',\n",
       " 'Train loss: 0.002415645588597838\\n',\n",
       " '\\n',\n",
       " '\\n',\n",
       " 'Alpha: 5\\n',\n",
       " 'Hidden sizes: 1024\\n',\n",
       " 'Current epoch 118\\n',\n",
       " 'Results for alpha=2\\n',\n",
       " 'HR@5:0.012259835315645014, MRR@5: 0.006065873741994511, Coverage@5: 0.051733519900497515, NCDG@5: 0.0076069028346129955, HR_pos@5: 0.01171088746569076, HR_neg@5: 0.0005489478499542544, MRR_pos@5: 0.005663311985361391, MRR_neg@5: 0.0004025617566331199, NCDG_pos@5: 0.007170150262383436, NDCG_neg@5: 0.0004367525722295593, Matthews@5: 0.012854961578241555\\n',\n",
       " 'HR@10:0.017749313815187556, MRR@10: 0.006797513760002324, Coverage@10: 0.08061256218905473, NCDG@10: 0.009381360460931614, HR_pos@10: 0.0172003659652333, HR_neg@10: 0.0005489478499542544, MRR_pos@10: 0.006394952003369205, MRR_neg@10: 0.0004025617566331199, NCDG_pos@10: 0.008944607888702057, NDCG_neg@10: 0.0004367525722295593, Matthews@10: 0.02256937050294619\\n',\n",
       " 'HR@20:0.03257090576395242, MRR@20: 0.007768144349265698, Coverage@20: 0.11905317164179105, NCDG@20: 0.013057191941544649, HR_pos@20: 0.03183897529734675, HR_neg@20: 0.0007319304666056725, MRR_pos@20: 0.007353383751522484, MRR_neg@20: 0.0004147605977432145, NCDG_pos@20: 0.012574693715152237, NDCG_neg@20: 0.00048249822639241386, Matthews@20: 0.03668996074807151\\n',\n",
       " 'Results for alpha=3\\n',\n",
       " 'HR@5:0.012259835315645014, MRR@5: 0.006065873741994511, Coverage@5: 0.051733519900497515, NCDG@5: 0.0076069028346129955, HR_pos@5: 0.01171088746569076, HR_neg@5: 0.0005489478499542544, MRR_pos@5: 0.005663311985361391, MRR_neg@5: 0.0004025617566331199, NCDG_pos@5: 0.007170150262383436, NDCG_neg@5: 0.0004367525722295593, Matthews@5: 0.015459554148756513\\n',\n",
       " 'HR@10:0.017749313815187556, MRR@10: 0.006797513760002324, Coverage@10: 0.08061256218905473, NCDG@10: 0.009381360460931614, HR_pos@10: 0.0172003659652333, HR_neg@10: 0.0005489478499542544, MRR_pos@10: 0.006394952003369205, MRR_neg@10: 0.0004025617566331199, NCDG_pos@10: 0.008944607888702057, NDCG_neg@10: 0.0004367525722295593, Matthews@10: 0.025398199209467825\\n',\n",
       " 'HR@20:0.03257090576395242, MRR@20: 0.007768144349265698, Coverage@20: 0.11905317164179105, NCDG@20: 0.013057191941544649, HR_pos@20: 0.03183897529734675, HR_neg@20: 0.0007319304666056725, MRR_pos@20: 0.007353383751522484, MRR_neg@20: 0.0004147605977432145, NCDG_pos@20: 0.012574693715152237, NDCG_neg@20: 0.00048249822639241386, Matthews@20: 0.04028967455728459\\n',\n",
       " 'Results for alpha=4\\n',\n",
       " 'HR@5:0.012259835315645014, MRR@5: 0.006065873741994511, Coverage@5: 0.051733519900497515, NCDG@5: 0.0076069028346129955, HR_pos@5: 0.01152790484903934, HR_neg@5: 0.0007319304666056725, MRR_pos@5: 0.005571820677035681, MRR_neg@5: 0.000494053064958829, NCDG_pos@5: 0.0070547010851516965, NDCG_neg@5: 0.0005522017494612991, Matthews@5: 0.01471362380066522\\n',\n",
       " 'HR@10:0.01774931381518756, MRR@10: 0.006797513760002324, Coverage@10: 0.08061256218905473, NCDG@10: 0.009381360460931614, HR_pos@10: 0.017017383348581886, HR_neg@10: 0.0007319304666056725, MRR_pos@10: 0.006303460695043497, MRR_neg@10: 0.000494053064958829, NCDG_pos@10: 0.008829158711470317, NDCG_neg@10: 0.0005522017494612991, Matthews@10: 0.026057317099402993\\n',\n",
       " 'HR@20:0.032570905763952426, MRR@20: 0.007768144349265698, Coverage@20: 0.11905317164179105, NCDG@20: 0.013057191941544649, HR_pos@20: 0.03147301006404392, HR_neg@20: 0.0010978956999085087, MRR_pos@20: 0.0072466438918091566, MRR_neg@20: 0.0005215004574565418, NCDG_pos@20: 0.012409795653304335, NDCG_neg@20: 0.0006473962882403146, Matthews@20: 0.04018969913250044\\n',\n",
       " 'Results for alpha=5\\n',\n",
       " 'HR@5:0.015187557182067704, MRR@5: 0.008093931076547729, Coverage@5: 0.022971082089552237, NCDG@5: 0.009827733343721829, HR_pos@5: 0.013906678865507777, HR_neg@5: 0.0012808783165599268, MRR_pos@5: 0.007416895394937482, MRR_neg@5: 0.000677035681610247, NCDG_pos@5: 0.009001057669283401, NDCG_neg@5: 0.0008266756744384262, Matthews@5: 0.017578358112502183\\n',\n",
       " 'HR@10:0.0272644098810613, MRR@10: 0.009682176621792358, Coverage@10: 0.03754664179104478, NCDG@10: 0.013710698171152927, HR_pos@10: 0.02506861848124428, HR_neg@10: 0.0021957913998170175, MRR_pos@10: 0.008888816276739424, MRR_neg@10: 0.0007933603450529341, NCDG_pos@10: 0.012593691070080282, NDCG_neg@10: 0.001117007101072646, Matthews@10: 0.02557591167249023\\n',\n",
       " 'HR@20:0.04958828911253431, MRR@20: 0.011263793092344612, Coverage@20: 0.05760261194029851, NCDG@20: 0.019395472604328015, HR_pos@20: 0.0444647758462946, HR_neg@20: 0.005123513266239707, MRR_pos@20: 0.010257399644698214, MRR_neg@20: 0.001006393447646397, NCDG_pos@20: 0.017526239844893727, NDCG_neg@20: 0.0018692327594342878, Matthews@20: 0.019534546575380157\\n',\n",
       " 'Results for alpha=6\\n',\n",
       " 'HR@5:0.016834400731930467, MRR@5: 0.00788655077767612, Coverage@5: 0.01632462686567164, NCDG@5: 0.010090183633896797, HR_pos@5: 0.013906678865507777, HR_neg@5: 0.00292772186642269, MRR_pos@5: 0.006474534919182678, MRR_neg@5: 0.0014120158584934432, NCDG_pos@5: 0.00830794259196551, NDCG_neg@5: 0.0017822410419312856, Matthews@5: 0.023129536566037272\\n',\n",
       " 'HR@10:0.02836230558096981, MRR@10: 0.00945591716405989, Coverage@10: 0.025264303482587066, NCDG@10: 0.01384755957456071, HR_pos@10: 0.022872827081427266, HR_neg@10: 0.0054894784995425435, MRR_pos@10: 0.007709740193729215, MRR_neg@10: 0.0017461769703306757, NCDG_pos@10: 0.011244762881094448, NDCG_neg@10: 0.0026027966934662632, Matthews@10: 0.022457298057091703\\n',\n",
       " 'HR@20:0.051052150045745655, MRR@20: 0.010985950258551869, Coverage@20: 0.038129664179104475, NCDG@20: 0.01952893639630501, HR_pos@20: 0.038609332113449225, HR_neg@20: 0.012442817932296431, MRR_pos@20: 0.008768167701989462, MRR_neg@20: 0.002217782556562408, NCDG_pos@20: 0.015180784609300545, NDCG_neg@20: 0.004348151787004466, Matthews@20: 0.0036269561555183167\\n',\n",
       " 'Test loss: 0.001578848110511899\\n',\n",
       " 'Train loss: 0.002115914022566326\\n',\n",
       " '\\n',\n",
       " '\\n',\n",
       " 'Alpha: 6\\n',\n",
       " 'Hidden sizes: 64\\n',\n",
       " 'Current epoch 52\\n',\n",
       " 'Results for alpha=2\\n',\n",
       " 'HR@5:0.01665141811527905, MRR@5: 0.007422994815492529, Coverage@5: 0.000777363184079602, NCDG@5: 0.009670649356146855, HR_pos@5: 0.01573650503202196, HR_neg@5: 0.0009149130832570906, MRR_pos@5: 0.007206465385788351, MRR_neg@5: 0.0002165294297041781, NCDG_pos@5: 0.00928798970751428, NDCG_neg@5: 0.0003826596486325742, Matthews@5: 0.009997239624976324\\n',\n",
       " 'HR@10:0.029826166514181154, MRR@10: 0.00915515764097649, Coverage@10: 0.0010883084577114428, NCDG@10: 0.013905674470105805, HR_pos@10: 0.027996340347666973, HR_neg@10: 0.0018298261665141812, MRR_pos@10: 0.008812646131950798, MRR_neg@10: 0.0003425115090256902, NCDG_pos@10: 0.013223038842292187, NDCG_neg@10: 0.000682635627813617, Matthews@10: 0.009212309820592181\\n',\n",
       " 'HR@20:0.044098810612991764, MRR@20: 0.010118601065097061, Coverage@20: 0.0018268034825870646, NCDG@20: 0.017480163355316623, HR_pos@20: 0.04080512351326624, HR_neg@20: 0.003293687099725526, MRR_pos@20: 0.00967473416651836, MRR_neg@20: 0.00044386689857870093, NCDG_pos@20: 0.016427507044837822, NDCG_neg@20: 0.0010526563104788027, Matthews@20: 0.00042111283342869825\\n',\n",
       " 'Results for alpha=3\\n',\n",
       " 'HR@5:0.00018298261665141812, MRR@5: 3.659652333028362e-05, Coverage@5: 0.0006996268656716418, NCDG@5: 7.078733892672308e-05, HR_pos@5: 0.00018298261665141812, HR_neg@5: 0.0, MRR_pos@5: 3.659652333028362e-05, MRR_neg@5: 0.0, NCDG_pos@5: 7.078733892672308e-05, NDCG_neg@5: 0.0, Matthews@5: 0.0040720244754379725\\n',\n",
       " 'HR@10:0.0007319304666056725, MRR@10: 0.00011153226157800722, Coverage@10: 0.0013992537313432835, NCDG@10: 0.00024985510594579776, HR_pos@10: 0.0007319304666056725, HR_neg@10: 0.0, MRR_pos@10: 0.00011153226157800722, MRR_neg@10: 0.0, NCDG_pos@10: 0.00024985510594579776, NDCG_neg@10: 0.0, Matthews@10: 0.008146285610125571\\n',\n",
       " 'HR@20:0.0012808783165599268, MRR@20: 0.00014900013070186902, Coverage@20: 0.002798507462686567, NCDG@20: 0.000387799557534835, HR_pos@20: 0.0012808783165599268, HR_neg@20: 0.0, MRR_pos@20: 0.00014900013070186902, MRR_neg@20: 0.0, NCDG_pos@20: 0.000387799557534835, NDCG_neg@20: 0.0, Matthews@20: 0.010779484177867308\\n',\n",
       " 'Results for alpha=4\\n',\n",
       " 'HR@5:0.00018298261665141812, MRR@5: 3.659652333028362e-05, Coverage@5: 0.0006996268656716418, NCDG@5: 7.078733892672308e-05, HR_pos@5: 0.00018298261665141812, HR_neg@5: 0.0, MRR_pos@5: 3.659652333028362e-05, MRR_neg@5: 0.0, NCDG_pos@5: 7.078733892672308e-05, NDCG_neg@5: 0.0, Matthews@5: 0.004488790949434355\\n',\n",
       " 'HR@10:0.0007319304666056725, MRR@10: 0.00011153226157800722, Coverage@10: 0.0013992537313432835, NCDG@10: 0.00024985510594579776, HR_pos@10: 0.0007319304666056725, HR_neg@10: 0.0, MRR_pos@10: 0.00011153226157800722, MRR_neg@10: 0.0, NCDG_pos@10: 0.00024985510594579776, NDCG_neg@10: 0.0, Matthews@10: 0.008980047477319245\\n',\n",
       " 'HR@20:0.0012808783165599268, MRR@20: 0.00014900013070186902, Coverage@20: 0.002798507462686567, NCDG@20: 0.000387799557534835, HR_pos@20: 0.0012808783165599268, HR_neg@20: 0.0, MRR_pos@20: 0.00014900013070186902, MRR_neg@20: 0.0, NCDG_pos@20: 0.000387799557534835, NDCG_neg@20: 0.0, Matthews@20: 0.011882750535770627\\n',\n",
       " 'Results for alpha=5\\n',\n",
       " 'HR@5:0.016651418115279048, MRR@5: 0.007422994815492529, Coverage@5: 0.000777363184079602, NCDG@5: 0.009670649356146855, HR_pos@5: 0.01463860933211345, HR_neg@5: 0.0020128087831655993, MRR_pos@5: 0.0065965233302836225, MRR_neg@5: 0.0008264714852089051, NCDG_pos@5: 0.008551719073610194, NDCG_neg@5: 0.0011189302825366603, Matthews@5: 0.004385064012489875\\n',\n",
       " 'HR@10:0.029826166514181154, MRR@10: 0.00915515764097649, Coverage@10: 0.0010883084577114428, NCDG@10: 0.013905674470105805, HR_pos@10: 0.026532479414455627, HR_neg@10: 0.003293687099725526, MRR_pos@10: 0.008161532987699501, MRR_neg@10: 0.0009936246532769861, NCDG_pos@10: 0.012376149781470698, NDCG_neg@10: 0.001529524688635108, Matthews@10: 0.011316263988379422\\n',\n",
       " 'HR@20:0.044098810612991764, MRR@20: 0.010118601065097061, Coverage@20: 0.0018268034825870646, NCDG@20: 0.017480163355316623, HR_pos@20: 0.03787740164684355, HR_neg@20: 0.006221408966148216, MRR_pos@20: 0.008927397409009922, MRR_neg@20: 0.001191203656087139, NCDG_pos@20: 0.015217241763065461, NDCG_neg@20: 0.002262921592251163, Matthews@20: -0.00556750616608001\\n',\n",
       " 'Results for alpha=6\\n',\n",
       " 'HR@5:0.00018298261665141812, MRR@5: 3.659652333028362e-05, Coverage@5: 0.0006996268656716418, NCDG@5: 7.078733892672308e-05, HR_pos@5: 0.00018298261665141812, HR_neg@5: 0.0, MRR_pos@5: 3.659652333028362e-05, MRR_neg@5: 0.0, NCDG_pos@5: 7.078733892672308e-05, NDCG_neg@5: 0.0, Matthews@5: 0.007821074174887031\\n',\n",
       " 'HR@10:0.0007319304666056725, MRR@10: 0.00011153226157800722, Coverage@10: 0.0013992537313432835, NCDG@10: 0.00024985510594579776, HR_pos@10: 0.0007319304666056725, HR_neg@10: 0.0, MRR_pos@10: 0.00011153226157800722, MRR_neg@10: 0.0, NCDG_pos@10: 0.00024985510594579776, NDCG_neg@10: 0.0, Matthews@10: 0.015646444266461397\\n',\n",
       " 'HR@20:0.0012808783165599268, MRR@20: 0.00014900013070186902, Coverage@20: 0.002798507462686567, NCDG@20: 0.000387799557534835, HR_pos@20: 0.0012808783165599268, HR_neg@20: 0.0, MRR_pos@20: 0.00014900013070186902, MRR_neg@20: 0.0, NCDG_pos@20: 0.000387799557534835, NDCG_neg@20: 0.0, Matthews@20: 0.020703987864182403\\n',\n",
       " 'Test loss: 0.06912892311811447\\n',\n",
       " 'Train loss: 0.04462051598562135\\n',\n",
       " '\\n',\n",
       " '\\n',\n",
       " '[[init-process] Main process terminated]\\n']"
      ]
     },
     "execution_count": 43,
     "metadata": {},
     "output_type": "execute_result"
    }
   ],
   "source": [
    "lines"
   ]
  },
  {
   "cell_type": "code",
   "execution_count": 19,
   "id": "18428e4f",
   "metadata": {
    "ExecuteTime": {
     "end_time": "2023-06-01T18:16:38.108076Z",
     "start_time": "2023-06-01T18:16:38.092066Z"
    },
    "code_folding": [
     0
    ]
   },
   "outputs": [],
   "source": [
    "# coffee\n",
    "d = {}\n",
    "for line in lines:\n",
    "    if 'r=' in line:\n",
    "        k, v = line.split(':')\n",
    "        d[k] = float(v.strip())"
   ]
  },
  {
   "cell_type": "code",
   "execution_count": 47,
   "id": "304098a0",
   "metadata": {
    "ExecuteTime": {
     "end_time": "2023-06-02T08:59:19.701832Z",
     "start_time": "2023-06-02T08:59:19.686870Z"
    }
   },
   "outputs": [],
   "source": [
    "lines2 = ['HR@5:0.001825150574922431, MRR@5: 0.0009004076169617327, Coverage@5: 0.10569351907934585, NCDG@5: 0.0011229861820445098, HR_pos@5: 0.001825150574922431, HR_neg@5: 0.0, MRR_pos@5: 0.0009004076169617327, MRR_neg@5: 0.0, NCDG_pos@5: 0.0011229861820445098, NDCG_neg@5: 0.0, Matthews@5: 0.00997940584250679, HR@10:0.003285271034860376, MRR@10: 0.0009938379440113333, Coverage@10: 0.15859075307894205, NCDG@10: 0.0015052396648685975, HR_pos@10: 0.003285271034860376, HR_neg@10: 0.0, MRR_pos@10: 0.0009938379440113333, MRR_neg@10: 0.0, NCDG_pos@10: 0.0015052396648685975, NDCG_neg@10: 0.0, Matthews@10: 0.013398581146759557, HR@20:0.006935572184705238, MRR@20: 0.0012332413471197242, Coverage@20: 0.2128003230365435, NCDG@20: 0.002404522489371897, HR_pos@20: 0.006570542069720752, HR_neg@20: 0.0003650301149844862, MRR_pos@20: 0.001212899111609753, MRR_neg@20: 2.0342235509971367e-05, NCDG_pos@20: 0.0023185230953715517, NDCG_neg@20: 8.599939400034507e-05, Matthews@20: -0.00036997401039126653']\n",
    "lines3 = ['HR@5:0.001825150574922431, MRR@5: 0.0009004076169617327, Coverage@5: 0.10569351907934585, NCDG@5: 0.0011229861820445098, HR_pos@5: 0.001825150574922431, HR_neg@5: 0.0, MRR_pos@5: 0.0009004076169617327, MRR_neg@5: 0.0, NCDG_pos@5: 0.0011229861820445098, NDCG_neg@5: 0.0, Matthews@5: 0.014139153362392572, HR@10:0.003285271034860376, MRR@10: 0.0009938379440113333, Coverage@10: 0.15859075307894205, NCDG@10: 0.0015052396648685975, HR_pos@10: 0.003285271034860376, HR_neg@10: 0.0, MRR_pos@10: 0.0009938379440113333, MRR_neg@10: 0.0, NCDG_pos@10: 0.0015052396648685975, NDCG_neg@10: 0.0, Matthews@10: 0.018983554398155137, HR@20:0.006935572184705238, MRR@20: 0.0012332413471197242, Coverage@20: 0.2128003230365435, NCDG@20: 0.002404522489371897, HR_pos@20: 0.006205511954736266, HR_neg@20: 0.0007300602299689724, MRR_pos@20: 0.001186700777998426, MRR_neg@20: 4.6540569121298135e-05, NCDG_pos@20: 0.0022253817997316735, NDCG_neg@20: 0.0001791406896402226, Matthews@20: -0.0018799134887276224']\n",
    "lines4 = ['HR@5:0.001642635517430188, MRR@5: 0.0007209344770943602, Coverage@5: 0.05703613971330507, NCDG@5: 0.0009509616035813665, HR_pos@5: 0.001642635517430188, HR_neg@5: 0.0, MRR_pos@5: 0.0007209344770943602, MRR_neg@5: 0.0, NCDG_pos@5: 0.0009509616035813665, NDCG_neg@5: 0.0, Matthews@5: 0.020687791297410513, HR@10:0.0021901806899069175, MRR@10: 0.000719123811841461, Coverage@10: 0.07934585099939431, NCDG@10: 0.0010641078798864527, HR_pos@10: 0.0021901806899069175, HR_neg@10: 0.0, MRR_pos@10: 0.000719123811841461, MRR_neg@10: 0.0, NCDG_pos@10: 0.0010641078798864527, NDCG_neg@10: 0.0, Matthews@10: 0.02389475714048353, HR@20:0.0032852710348603756, MRR@20: 0.0007978689839334789, Coverage@20: 0.10862103775489602, NCDG@20: 0.0013385568615474476, HR_pos@20: 0.0029202409198758896, HR_neg@20: 0.0003650301149844862, MRR_pos@20: 0.000775226138455118, MRR_neg@20: 2.2642845478360985e-05, NCDG_pos@20: 0.0012496106600563771, NDCG_neg@20: 8.894620149107038e-05, Matthews@20: 0.013520085641665389']\n",
    "lines5 = ['HR@5:0.00018298261665141812, MRR@5: 4.574565416285453e-05, Coverage@5: 0.0804570895522388, NCDG@5: 7.880632352669589e-05, HR_pos@5: 0.00018298261665141812, HR_neg@5: 0.0, MRR_pos@5: 4.574565416285453e-05, MRR_neg@5: 0.0, NCDG_pos@5: 7.880632352669589e-05, NDCG_neg@5: 0.0, Matthews@5: 0.005282421215351163\\n',\n",
    " 'HR@10:0.0005489478499542544, MRR@10: 9.01842896353418e-05, Coverage@10: 0.12391169154228855, NCDG@10: 0.00019269436737870342, HR_pos@10: 0.0005489478499542544, HR_neg@10: 0.0, MRR_pos@10: 9.01842896353418e-05, MRR_neg@10: 0.0, NCDG_pos@10: 0.00019269436737870342, NDCG_neg@10: 0.0, Matthews@10: 0.009151096883365411\\n',\n",
    " 'HR@20:0.0007319304666056725, MRR@20: 0.00010543284102295995, Coverage@20: 0.18306902985074627, NCDG@20: 0.00024214325199486443, HR_pos@20: 0.0007319304666056725, HR_neg@20: 0.0, MRR_pos@20: 0.00010543284102295995, MRR_neg@20: 0.0, NCDG_pos@20: 0.00024214325199486443, NDCG_neg@20: 0.0, Matthews@20: 0.010567743930028519\\n']\n",
    "lines6 = ['HR@5:0.00018298261665141812, MRR@5: 3.659652333028362e-05, Coverage@5: 0.0006996268656716418, NCDG@5: 7.078733892672308e-05, HR_pos@5: 0.00018298261665141812, HR_neg@5: 0.0, MRR_pos@5: 3.659652333028362e-05, MRR_neg@5: 0.0, NCDG_pos@5: 7.078733892672308e-05, NDCG_neg@5: 0.0, Matthews@5: 0.007821074174887031\\n',\n",
    " 'HR@10:0.0007319304666056725, MRR@10: 0.00011153226157800722, Coverage@10: 0.0013992537313432835, NCDG@10: 0.00024985510594579776, HR_pos@10: 0.0007319304666056725, HR_neg@10: 0.0, MRR_pos@10: 0.00011153226157800722, MRR_neg@10: 0.0, NCDG_pos@10: 0.00024985510594579776, NDCG_neg@10: 0.0, Matthews@10: 0.015646444266461397\\n',\n",
    " 'HR@20:0.0012808783165599268, MRR@20: 0.00014900013070186902, Coverage@20: 0.002798507462686567, NCDG@20: 0.000387799557534835, HR_pos@20: 0.0012808783165599268, HR_neg@20: 0.0, MRR_pos@20: 0.00014900013070186902, MRR_neg@20: 0.0, NCDG_pos@20: 0.000387799557534835, NDCG_neg@20: 0.0, Matthews@20: 0.020703987864182403\\n']"
   ]
  },
  {
   "cell_type": "code",
   "execution_count": 52,
   "id": "ef66aa3e",
   "metadata": {
    "ExecuteTime": {
     "end_time": "2023-06-02T09:00:11.054099Z",
     "start_time": "2023-06-02T09:00:11.040096Z"
    }
   },
   "outputs": [],
   "source": [
    "alpha = 5\n",
    "alphas = []\n",
    "topks = []\n",
    "metrics = []\n",
    "for line in lines4:\n",
    "    if 'HR@' in line:\n",
    "        for i in line.split(', '):\n",
    "            metrics.append(float(i.split(':')[-1].strip()))"
   ]
  },
  {
   "cell_type": "code",
   "execution_count": 53,
   "id": "fdfa8aad",
   "metadata": {
    "ExecuteTime": {
     "end_time": "2023-06-02T09:00:11.371104Z",
     "start_time": "2023-06-02T09:00:11.339101Z"
    }
   },
   "outputs": [
    {
     "data": {
      "text/html": [
       "<div>\n",
       "<style scoped>\n",
       "    .dataframe tbody tr th:only-of-type {\n",
       "        vertical-align: middle;\n",
       "    }\n",
       "\n",
       "    .dataframe tbody tr th {\n",
       "        vertical-align: top;\n",
       "    }\n",
       "\n",
       "    .dataframe thead th {\n",
       "        text-align: right;\n",
       "    }\n",
       "</style>\n",
       "<table border=\"1\" class=\"dataframe\">\n",
       "  <thead>\n",
       "    <tr style=\"text-align: right;\">\n",
       "      <th></th>\n",
       "      <th>0</th>\n",
       "      <th>1</th>\n",
       "      <th>2</th>\n",
       "      <th>3</th>\n",
       "      <th>4</th>\n",
       "      <th>5</th>\n",
       "      <th>6</th>\n",
       "      <th>7</th>\n",
       "      <th>8</th>\n",
       "      <th>9</th>\n",
       "      <th>10</th>\n",
       "    </tr>\n",
       "  </thead>\n",
       "  <tbody>\n",
       "    <tr>\n",
       "      <th>0</th>\n",
       "      <td>0.001643</td>\n",
       "      <td>0.000721</td>\n",
       "      <td>0.057036</td>\n",
       "      <td>0.000951</td>\n",
       "      <td>0.001643</td>\n",
       "      <td>0.0</td>\n",
       "      <td>0.000721</td>\n",
       "      <td>0.0</td>\n",
       "      <td>0.000951</td>\n",
       "      <td>0.0</td>\n",
       "      <td>0.020688</td>\n",
       "    </tr>\n",
       "  </tbody>\n",
       "</table>\n",
       "</div>"
      ],
      "text/plain": [
       "         0         1         2         3         4    5         6    7   \\\n",
       "0  0.001643  0.000721  0.057036  0.000951  0.001643  0.0  0.000721  0.0   \n",
       "\n",
       "         8    9         10  \n",
       "0  0.000951  0.0  0.020688  "
      ]
     },
     "metadata": {},
     "output_type": "display_data"
    },
    {
     "data": {
      "text/html": [
       "<div>\n",
       "<style scoped>\n",
       "    .dataframe tbody tr th:only-of-type {\n",
       "        vertical-align: middle;\n",
       "    }\n",
       "\n",
       "    .dataframe tbody tr th {\n",
       "        vertical-align: top;\n",
       "    }\n",
       "\n",
       "    .dataframe thead th {\n",
       "        text-align: right;\n",
       "    }\n",
       "</style>\n",
       "<table border=\"1\" class=\"dataframe\">\n",
       "  <thead>\n",
       "    <tr style=\"text-align: right;\">\n",
       "      <th></th>\n",
       "      <th>0</th>\n",
       "      <th>1</th>\n",
       "      <th>2</th>\n",
       "      <th>3</th>\n",
       "      <th>4</th>\n",
       "      <th>5</th>\n",
       "      <th>6</th>\n",
       "      <th>7</th>\n",
       "      <th>8</th>\n",
       "      <th>9</th>\n",
       "      <th>10</th>\n",
       "    </tr>\n",
       "  </thead>\n",
       "  <tbody>\n",
       "    <tr>\n",
       "      <th>0</th>\n",
       "      <td>0.00219</td>\n",
       "      <td>0.000719</td>\n",
       "      <td>0.079346</td>\n",
       "      <td>0.001064</td>\n",
       "      <td>0.00219</td>\n",
       "      <td>0.0</td>\n",
       "      <td>0.000719</td>\n",
       "      <td>0.0</td>\n",
       "      <td>0.001064</td>\n",
       "      <td>0.0</td>\n",
       "      <td>0.023895</td>\n",
       "    </tr>\n",
       "  </tbody>\n",
       "</table>\n",
       "</div>"
      ],
      "text/plain": [
       "        0         1         2         3        4    5         6    7   \\\n",
       "0  0.00219  0.000719  0.079346  0.001064  0.00219  0.0  0.000719  0.0   \n",
       "\n",
       "         8    9         10  \n",
       "0  0.001064  0.0  0.023895  "
      ]
     },
     "metadata": {},
     "output_type": "display_data"
    },
    {
     "data": {
      "text/html": [
       "<div>\n",
       "<style scoped>\n",
       "    .dataframe tbody tr th:only-of-type {\n",
       "        vertical-align: middle;\n",
       "    }\n",
       "\n",
       "    .dataframe tbody tr th {\n",
       "        vertical-align: top;\n",
       "    }\n",
       "\n",
       "    .dataframe thead th {\n",
       "        text-align: right;\n",
       "    }\n",
       "</style>\n",
       "<table border=\"1\" class=\"dataframe\">\n",
       "  <thead>\n",
       "    <tr style=\"text-align: right;\">\n",
       "      <th></th>\n",
       "      <th>0</th>\n",
       "      <th>1</th>\n",
       "      <th>2</th>\n",
       "      <th>3</th>\n",
       "      <th>4</th>\n",
       "      <th>5</th>\n",
       "      <th>6</th>\n",
       "      <th>7</th>\n",
       "      <th>8</th>\n",
       "      <th>9</th>\n",
       "      <th>10</th>\n",
       "    </tr>\n",
       "  </thead>\n",
       "  <tbody>\n",
       "    <tr>\n",
       "      <th>0</th>\n",
       "      <td>0.003285</td>\n",
       "      <td>0.000798</td>\n",
       "      <td>0.108621</td>\n",
       "      <td>0.001339</td>\n",
       "      <td>0.00292</td>\n",
       "      <td>0.000365</td>\n",
       "      <td>0.000775</td>\n",
       "      <td>0.000023</td>\n",
       "      <td>0.00125</td>\n",
       "      <td>0.000089</td>\n",
       "      <td>0.01352</td>\n",
       "    </tr>\n",
       "  </tbody>\n",
       "</table>\n",
       "</div>"
      ],
      "text/plain": [
       "         0         1         2         3        4         5         6   \\\n",
       "0  0.003285  0.000798  0.108621  0.001339  0.00292  0.000365  0.000775   \n",
       "\n",
       "         7        8         9        10  \n",
       "0  0.000023  0.00125  0.000089  0.01352  "
      ]
     },
     "metadata": {},
     "output_type": "display_data"
    }
   ],
   "source": [
    "for i in range(3):\n",
    "    display(pd.DataFrame(metrics[11*i:11*(i+1)]).T)"
   ]
  },
  {
   "cell_type": "code",
   "execution_count": 81,
   "id": "8e21de15",
   "metadata": {
    "ExecuteTime": {
     "end_time": "2023-05-23T18:27:26.764686Z",
     "start_time": "2023-05-23T18:27:26.752686Z"
    }
   },
   "outputs": [
    {
     "data": {
      "text/plain": [
       "132"
      ]
     },
     "execution_count": 81,
     "metadata": {},
     "output_type": "execute_result"
    }
   ],
   "source": [
    "11*3*4"
   ]
  },
  {
   "cell_type": "markdown",
   "id": "4a386d52",
   "metadata": {},
   "source": [
    "## dict"
   ]
  },
  {
   "cell_type": "code",
   "execution_count": 127,
   "id": "04fe0c4c",
   "metadata": {
    "ExecuteTime": {
     "end_time": "2023-05-29T16:38:14.190342Z",
     "start_time": "2023-05-29T16:38:14.155115Z"
    },
    "code_folding": [
     0
    ]
   },
   "outputs": [],
   "source": [
    "d = {'r=16_2, alpha=2': 0.05531103432672559,\n",
    " 'r=16_2, alpha=3': 0.07365974504539831,\n",
    " 'r=16_2, alpha=4': 0.149377867671188,\n",
    " 'r=16_2, alpha=5': 0.2383536087975349,\n",
    " 'r=32_2, alpha=2': 0.05923706005849889,\n",
    " 'r=32_2, alpha=3': 0.07472952705088284,\n",
    " 'r=32_2, alpha=4': 0.15453795127479317,\n",
    " 'r=32_2, alpha=5': 0.22130201655159662,\n",
    " 'r=64_2, alpha=2': 0.05747916632248626,\n",
    " 'r=64_2, alpha=3': 0.07821901652467918,\n",
    " 'r=64_2, alpha=4': 0.1417710069101706,\n",
    " 'r=64_2, alpha=5': 0.18265776635878014,\n",
    " 'r=128_2, alpha=2': 0.06428255989173427,\n",
    " 'r=128_2, alpha=3': 0.0921665249686498,\n",
    " 'r=128_2, alpha=4': 0.14548104368411133,\n",
    " 'r=128_2, alpha=5': 0.14519831508760941,\n",
    " 'r=256_2, alpha=2': 0.04648171239236602,\n",
    " 'r=256_2, alpha=3': 0.06436521303976957,\n",
    " 'r=256_2, alpha=4': 0.11616547800080264,\n",
    " 'r=256_2, alpha=5': 0.10279871155849937,\n",
    " 'r=512_2, alpha=2': 0.01836295380723834,\n",
    " 'r=512_2, alpha=3': -5.255336877465284e-06,\n",
    " 'r=512_2, alpha=4': 0.024733820641945525,\n",
    " 'r=512_2, alpha=5': 0.028398646574531276,\n",
    " 'r=1024_2, alpha=2': -0.012605742462697647,\n",
    " 'r=1024_2, alpha=3': 0.0011548263678972032,\n",
    " 'r=1024_2, alpha=4': 0.008776905395472202,\n",
    " 'r=1024_2, alpha=5': -0.004061604266722465,\n",
    " 'r=2048_2, alpha=2': -0.008593398433128252,\n",
    " 'r=2048_2, alpha=3': -0.001366927970622446,\n",
    " 'r=2048_2, alpha=4': -0.027240563322450166,\n",
    " 'r=2048_2, alpha=5': -0.028043964322806262,\n",
    " 'r=16_3, alpha=2': 0.05230722171275475,\n",
    " 'r=16_3, alpha=3': 0.059236661436579026,\n",
    " 'r=16_3, alpha=4': 0.13705354078026863,\n",
    " 'r=16_3, alpha=5': 0.20680013894842025,\n",
    " 'r=32_3, alpha=2': 0.056041274291019426,\n",
    " 'r=32_3, alpha=3': 0.07520242034916262,\n",
    " 'r=32_3, alpha=4': 0.15791901975652467,\n",
    " 'r=32_3, alpha=5': 0.2392319270741349,\n",
    " 'r=64_3, alpha=2': 0.059928752161400034,\n",
    " 'r=64_3, alpha=3': 0.07623041769189473,\n",
    " 'r=64_3, alpha=4': 0.13637825903424544,\n",
    " 'r=64_3, alpha=5': 0.19125081430382865,\n",
    " 'r=128_3, alpha=2': 0.05747916632248626,\n",
    " 'r=128_3, alpha=3': 0.07821901652467918,\n",
    " 'r=128_3, alpha=4': 0.13086308422145937,\n",
    " 'r=128_3, alpha=5': 0.16319532546876533,\n",
    " 'r=256_3, alpha=2': 0.051921669262761865,\n",
    " 'r=256_3, alpha=3': 0.0663952086002175,\n",
    " 'r=256_3, alpha=4': 0.10554181919367596,\n",
    " 'r=256_3, alpha=5': 0.13862609732445122,\n",
    " 'r=512_3, alpha=2': 0.02158300430799532,\n",
    " 'r=512_3, alpha=3': 0.04129713740698912,\n",
    " 'r=512_3, alpha=4': 0.0692205693926399,\n",
    " 'r=512_3, alpha=5': 0.08724229056479206,\n",
    " 'r=1024_3, alpha=2': -0.0019113233866926468,\n",
    " 'r=1024_3, alpha=3': 0.0016772129834947385,\n",
    " 'r=1024_3, alpha=4': 0.03980498224388007,\n",
    " 'r=1024_3, alpha=5': 0.06144435927282375,\n",
    " 'r=2048_3, alpha=2': -0.019126859140523752,\n",
    " 'r=2048_3, alpha=3': 0.00667494894545064,\n",
    " 'r=2048_3, alpha=4': -0.028005508813704384,\n",
    " 'r=2048_3, alpha=5': -0.03664498184133764,\n",
    " 'r=16_4, alpha=2': 0.05307131610784122,\n",
    " 'r=16_4, alpha=3': 0.060990852217879435,\n",
    " 'r=16_4, alpha=4': 0.13434827072904545,\n",
    " 'r=16_4, alpha=5': 0.214929221552216,\n",
    " 'r=32_4, alpha=2': 0.05457285406582348,\n",
    " 'r=32_4, alpha=3': 0.05671151567264219,\n",
    " 'r=32_4, alpha=4': 0.13493890265515737,\n",
    " 'r=32_4, alpha=5': 0.23749638986025642,\n",
    " 'r=64_4, alpha=2': 0.05035481397541435,\n",
    " 'r=64_4, alpha=3': 0.07125116535671248,\n",
    " 'r=64_4, alpha=4': 0.12275109308233201,\n",
    " 'r=64_4, alpha=5': 0.20031826195757757,\n",
    " 'r=128_4, alpha=2': 0.056041274291019426,\n",
    " 'r=128_4, alpha=3': 0.07520242034916262,\n",
    " 'r=128_4, alpha=4': 0.11327806333028335,\n",
    " 'r=128_4, alpha=5': 0.15958138310588654,\n",
    " 'r=256_4, alpha=2': 0.04171101887483536,\n",
    " 'r=256_4, alpha=3': 0.06271205106119178,\n",
    " 'r=256_4, alpha=4': 0.08543329235115478,\n",
    " 'r=256_4, alpha=5': 0.09895754479298603,\n",
    " 'r=512_4, alpha=2': 0.01700777908163277,\n",
    " 'r=512_4, alpha=3': 0.033540635418489305,\n",
    " 'r=512_4, alpha=4': 0.0736567865476854,\n",
    " 'r=512_4, alpha=5': 0.07278996180301688}"
   ]
  },
  {
   "cell_type": "code",
   "execution_count": 21,
   "id": "f7e3d1f5",
   "metadata": {
    "ExecuteTime": {
     "end_time": "2023-06-01T18:16:48.289878Z",
     "start_time": "2023-06-01T18:16:48.272890Z"
    }
   },
   "outputs": [
    {
     "data": {
      "text/plain": [
       "[('r=64_3, alpha=5', 0.047852482451268774),\n",
       " ('r=32_3, alpha=5', 0.036257160288923396),\n",
       " ('r=16_4, alpha=5', 0.0332627247623536),\n",
       " ('r=64_4, alpha=5', 0.02936603961024565),\n",
       " ('r=32_4, alpha=5', 0.023851467978590644),\n",
       " ('r=128_2, alpha=5', 0.023012419697850495),\n",
       " ('r=64_3, alpha=4', 0.021940346772279542),\n",
       " ('r=2048_3, alpha=5', 0.021729209345465725),\n",
       " ('r=2048_2, alpha=5', 0.018648519307208143),\n",
       " ('r=512_4, alpha=5', 0.0176069067330726),\n",
       " ('r=1024_2, alpha=3', 0.01741757067151458),\n",
       " ('r=128_3, alpha=5', 0.01716405649617599),\n",
       " ('r=512_2, alpha=5', 0.016823569374364404),\n",
       " ('r=64_2, alpha=5', 0.016301516884723578),\n",
       " ('r=256_4, alpha=5', 0.016011935236294565),\n",
       " ('r=1024_4, alpha=5', 0.015805560467936186),\n",
       " ('r=16_3, alpha=5', 0.015412079232463202),\n",
       " ('r=16_4, alpha=4', 0.012780461258837639),\n",
       " ('r=16_2, alpha=5', 0.012213020174910374),\n",
       " ('r=16_2, alpha=4', 0.011465969840861645),\n",
       " ('r=64_4, alpha=4', 0.011417138592368191),\n",
       " ('r=32_4, alpha=4', 0.0108264705999908),\n",
       " ('r=256_3, alpha=5', 0.01073011037179527),\n",
       " ('r=1024_2, alpha=2', 0.010701863747206952),\n",
       " ('r=512_3, alpha=5', 0.009676451273027315),\n",
       " ('r=2048_3, alpha=4', 0.009656492228845705),\n",
       " ('r=128_4, alpha=5', 0.009646665129605634),\n",
       " ('r=32_4, alpha=2', 0.00940756361005594),\n",
       " ('r=1024_3, alpha=5', 0.009130861980252548),\n",
       " ('r=256_2, alpha=5', 0.008430292364559104),\n",
       " ('r=512_4, alpha=4', 0.007769617374734373),\n",
       " ('r=256_4, alpha=2', 0.007398778450235117),\n",
       " ('r=32_2, alpha=5', 0.007188774099348047),\n",
       " ('r=256_4, alpha=3', 0.006730927325768351),\n",
       " ('r=256_2, alpha=2', 0.005719187966657708),\n",
       " ('r=2048_2, alpha=2', 0.005491582447480892),\n",
       " ('r=2048_2, alpha=3', 0.005268503184843588),\n",
       " ('r=2048_2, alpha=4', 0.005200175804000561),\n",
       " ('r=128_2, alpha=4', 0.005088711959174719),\n",
       " ('r=256_4, alpha=4', 0.004902300774623655),\n",
       " ('r=32_3, alpha=4', 0.002913198511123924),\n",
       " ('r=512_4, alpha=2', 0.0028633523232257253),\n",
       " ('r=512_4, alpha=3', 0.0026889051151429222),\n",
       " ('r=512_2, alpha=2', 0.002619452359615573),\n",
       " ('r=1024_2, alpha=4', 0.00205979430730255),\n",
       " ('r=128_3, alpha=4', 0.0012669502447438816),\n",
       " ('r=16_3, alpha=4', 0.0005887991303488074),\n",
       " ('r=128_2, alpha=2', 0.000563863602346504),\n",
       " ('r=512_2, alpha=3', 0.0003946601130219237),\n",
       " ('r=1024_2, alpha=5', -0.0008114117541188899),\n",
       " ('r=256_3, alpha=4', -0.0012925187102263904),\n",
       " ('r=64_4, alpha=2', -0.0013823799974858224),\n",
       " ('r=64_2, alpha=4', -0.001867960389545592),\n",
       " ('r=512_3, alpha=4', -0.002194778207419432),\n",
       " ('r=128_2, alpha=3', -0.0030202817651325854),\n",
       " ('r=256_2, alpha=3', -0.0030202817651325854),\n",
       " ('r=32_3, alpha=2', -0.003834727849367754),\n",
       " ('r=32_2, alpha=4', -0.004583105807605663),\n",
       " ('r=1024_4, alpha=4', -0.004804538990760506),\n",
       " ('r=128_4, alpha=2', -0.004826876661302952),\n",
       " ('r=256_2, alpha=4', -0.00485564118241862),\n",
       " ('r=2048_3, alpha=3', -0.005519835184310497),\n",
       " ('r=16_2, alpha=2', -0.005630798235604354),\n",
       " ('r=256_3, alpha=2', -0.00628293349812815),\n",
       " ('r=64_2, alpha=2', -0.006533256623451253),\n",
       " ('r=512_2, alpha=4', -0.006543874602642941),\n",
       " ('r=1024_3, alpha=4', -0.006661568016924667),\n",
       " ('r=16_2, alpha=3', -0.006785850670426698),\n",
       " ('r=64_3, alpha=3', -0.007510270186177022),\n",
       " ('r=64_3, alpha=2', -0.007558055119446893),\n",
       " ('r=512_3, alpha=2', -0.007820378055476413),\n",
       " ('r=16_4, alpha=3', -0.008259765577626428),\n",
       " ('r=2048_3, alpha=2', -0.008262031792110812),\n",
       " ('r=1024_3, alpha=2', -0.008622888696690768),\n",
       " ('r=1024_3, alpha=3', -0.009119281637619586),\n",
       " ('r=128_3, alpha=3', -0.009135315907585512),\n",
       " ('r=1024_4, alpha=3', -0.009552384826257873),\n",
       " ('r=32_4, alpha=3', -0.011003306024368067),\n",
       " ('r=1024_4, alpha=2', -0.011484822259853422),\n",
       " ('r=512_3, alpha=3', -0.0115554880188604),\n",
       " ('r=128_3, alpha=2', -0.01159042508672321),\n",
       " ('r=64_4, alpha=3', -0.012253317663526414),\n",
       " ('r=32_3, alpha=3', -0.012462735978538322),\n",
       " ('r=256_3, alpha=3', -0.012688950154617575),\n",
       " ('r=128_4, alpha=4', -0.012917272852174382),\n",
       " ('r=64_2, alpha=3', -0.01309835510284846),\n",
       " ('r=16_4, alpha=2', -0.01327521077524078),\n",
       " ('r=128_4, alpha=3', -0.013774262310867542),\n",
       " ('r=16_3, alpha=3', -0.016657717307490064),\n",
       " ('r=32_2, alpha=2', -0.01864647656930863),\n",
       " ('r=32_2, alpha=3', -0.019266730112471382),\n",
       " ('r=16_3, alpha=2', -0.019550057157751065)]"
      ]
     },
     "execution_count": 21,
     "metadata": {},
     "output_type": "execute_result"
    }
   ],
   "source": [
    "sorted(d.items(), key=lambda x: x[1], reverse=True)"
   ]
  },
  {
   "cell_type": "code",
   "execution_count": null,
   "id": "2000cb6b",
   "metadata": {},
   "outputs": [],
   "source": []
  }
 ],
 "metadata": {
  "kernelspec": {
   "display_name": "Python 3 (ipykernel)",
   "language": "python",
   "name": "python3"
  },
  "language_info": {
   "codemirror_mode": {
    "name": "ipython",
    "version": 3
   },
   "file_extension": ".py",
   "mimetype": "text/x-python",
   "name": "python",
   "nbconvert_exporter": "python",
   "pygments_lexer": "ipython3",
   "version": "3.9.13"
  },
  "toc": {
   "base_numbering": 1,
   "nav_menu": {},
   "number_sections": true,
   "sideBar": true,
   "skip_h1_title": false,
   "title_cell": "Table of Contents",
   "title_sidebar": "Contents",
   "toc_cell": false,
   "toc_position": {},
   "toc_section_display": true,
   "toc_window_display": false
  },
  "varInspector": {
   "cols": {
    "lenName": 16,
    "lenType": 16,
    "lenVar": 40
   },
   "kernels_config": {
    "python": {
     "delete_cmd_postfix": "",
     "delete_cmd_prefix": "del ",
     "library": "var_list.py",
     "varRefreshCmd": "print(var_dic_list())"
    },
    "r": {
     "delete_cmd_postfix": ") ",
     "delete_cmd_prefix": "rm(",
     "library": "var_list.r",
     "varRefreshCmd": "cat(var_dic_list()) "
    }
   },
   "types_to_exclude": [
    "module",
    "function",
    "builtin_function_or_method",
    "instance",
    "_Feature"
   ],
   "window_display": false
  }
 },
 "nbformat": 4,
 "nbformat_minor": 5
}
