{
 "cells": [
  {
   "cell_type": "code",
   "execution_count": 57,
   "id": "0e0e2992",
   "metadata": {
    "ExecuteTime": {
     "end_time": "2023-06-05T15:50:24.795532Z",
     "start_time": "2023-06-05T15:50:24.729838Z"
    },
    "code_folding": [
     16,
     22
    ]
   },
   "outputs": [],
   "source": [
    "import numpy as np\n",
    "import pandas as pd\n",
    "import matplotlib.pyplot as plt\n",
    "import torch\n",
    "import torch.nn as nn\n",
    "import torch.optim as optim\n",
    "import torch.nn.functional as F\n",
    "from torch.utils.data import Dataset, DataLoader\n",
    "from torch.nn.utils.parametrizations import orthogonal\n",
    "from torch.nn import functional as F\n",
    "# from IPython.display import clear_output\n",
    "\n",
    "from dataprep import transform_indices, full_preproccessing\n",
    "from utils import *\n",
    "\n",
    "\n",
    "def set_random_seed(seed):\n",
    "    torch.cuda.manual_seed(seed)\n",
    "    np.random.seed(seed)\n",
    "# %%\n",
    "# answer = binary matrix (no ratings)\n",
    "# answer = binary matrix (no ratings)\n",
    "class MVDataset(Dataset):\n",
    "    def __init__(self, data, data_description, augment=False):\n",
    "        useridx = data[data_description['users']].values\n",
    "        itemidx = data[data_description['items']].values\n",
    "        feedbackidx = data[data_description['feedback']].values\n",
    "        values = np.ones(len(itemidx), dtype=np.float32)\n",
    "        self.n_items = data_description['n_items']\n",
    "        self.n_ratings = data_description['n_ratings']\n",
    "        \n",
    "        self.tensor = torch.sparse_coo_tensor(np.array([useridx, itemidx, feedbackidx-1]), torch.tensor(values),\n",
    "                                            size=torch.Size((data_description[\"n_users\"], data_description[\"n_items\"], data_description['n_ratings'])))\n",
    "        self.matrix = torch.sparse_coo_tensor(np.array([useridx, itemidx]), torch.tensor(values),\n",
    "                                      size=torch.Size((data_description[\"n_users\"], data_description[\"n_items\"])), dtype=torch.float32)\n",
    "        \n",
    "        self.augment = augment\n",
    "\n",
    "    def __len__(self):\n",
    "        return self.tensor.shape[0]\n",
    "\n",
    "    def __getitem__(self, idx):\n",
    "        if self.augment:\n",
    "            num_noise = np.random.randint(0, int(0.1 * self.tensor.shape[1]))\n",
    "            idxs = torch.randint(0, self.tensor.shape[1], size=(num_noise,))\n",
    "            noised_input = self.tensor[idx].detach().clone().to_dense()\n",
    "            noised_input[idxs] = 0\n",
    "\n",
    "            itemidx = np.arange(self.tensor.shape[1])\n",
    "            ratingidx = np.arange(self.tensor.shape[2])\n",
    "            itemidx, ratingidx = np.meshgrid(itemidx, ratingidx)\n",
    "            noised_input = torch.sparse_coo_tensor(np.array([itemidx.flatten(), ratingidx.T.flatten(),]),\n",
    "                                                   noised_input.flatten(),\n",
    "                                                   size=torch.Size((self.n_items, self.n_ratings,)),\n",
    "                                                   dtype=torch.float32)\n",
    "            return noised_input, self.matrix[idx]\n",
    "        else:\n",
    "            return self.tensor[idx], self.matrix[idx]"
   ]
  },
  {
   "cell_type": "code",
   "execution_count": 58,
   "id": "3ada1f6b",
   "metadata": {
    "ExecuteTime": {
     "end_time": "2023-06-05T15:50:25.373679Z",
     "start_time": "2023-06-05T15:50:25.360919Z"
    }
   },
   "outputs": [],
   "source": [
    "import os    \n",
    "os.environ['KMP_DUPLICATE_LIB_OK'] = 'True'"
   ]
  },
  {
   "cell_type": "code",
   "execution_count": 59,
   "id": "d49079f9",
   "metadata": {
    "ExecuteTime": {
     "end_time": "2023-06-05T15:50:29.999216Z",
     "start_time": "2023-06-05T15:50:25.967009Z"
    },
    "scrolled": true
   },
   "outputs": [
    {
     "name": "stdout",
     "output_type": "stream",
     "text": [
      "There are 24303 users\n",
      "Filtered 17693 invalid observations.\n",
      "device: cuda:0\n"
     ]
    }
   ],
   "source": [
    "set_random_seed(42)\n",
    "data = pd.read_csv('Amazon_Video_Games.csv')\n",
    "data.rename(columns={'reviewerID': 'userid', 'asin': 'movieid', \"overall\": \"rating\", \"unixReviewTime\": \"timestamp\"},\n",
    "            inplace=True)\n",
    "\n",
    "# %%\n",
    "training, testset_valid, holdout_valid, testset, holdout, data_description, data_index = full_preproccessing(data)\n",
    "# %%\n",
    "device = torch.device('cuda:0' if torch.cuda.is_available() else 'cpu')\n",
    "print('device:', device)"
   ]
  },
  {
   "cell_type": "code",
   "execution_count": 60,
   "id": "7a142dfd",
   "metadata": {
    "ExecuteTime": {
     "end_time": "2023-06-05T15:50:30.572883Z",
     "start_time": "2023-06-05T15:50:30.489648Z"
    },
    "code_folding": [
     0
    ]
   },
   "outputs": [],
   "source": [
    "def training_testing_pipeline_augment(training, testset_valid, holdout_valid, data_description, model_init, h, device, MVDataset, tensor_model=False, batch_size=16, early_stop=50, n_epochs=1000):\n",
    "    train_dataset = MVDataset(training, data_description, augment=True)\n",
    "    train_dataloader = DataLoader(train_dataset, batch_size=batch_size, shuffle=True)\n",
    "\n",
    "    user_tensor_val, target_val = prepare_tensor(testset_valid, data_description, tensor_model)\n",
    "    val_num_batches = int(np.ceil(target_val.shape[0] / batch_size))\n",
    "\n",
    "    print('Hidden sizes:', h)\n",
    "\n",
    "    model, criterion, optimizer, scheduler = model_init(h, data_description, device)\n",
    "\n",
    "    # Training the AE\n",
    "    history = []\n",
    "    val_history = []\n",
    "\n",
    "    hrs2 = []\n",
    "    mrrs2 = []\n",
    "    cs2 = []\n",
    "    ndcgs2 = []\n",
    "\n",
    "    hrs3 = []\n",
    "    mrrs3 = []\n",
    "    cs3 = []\n",
    "    ndcgs3 = []\n",
    "\n",
    "    hrs4 = []\n",
    "    mrrs4 = []\n",
    "    cs4 = []\n",
    "    ndcgs4 = []\n",
    "\n",
    "    hrs5 = []\n",
    "    mrrs5 = []\n",
    "    cs5 = []\n",
    "    ndcgs5 = []\n",
    "\n",
    "    hrs6 = []\n",
    "    mrrs6 = []\n",
    "    cs6 = []\n",
    "    ndcgs6 = []\n",
    "\n",
    "    prev_matt2 = [0]\n",
    "    prev_matt3 = [0]\n",
    "    prev_matt4 = [0]\n",
    "    prev_matt5 = [0]\n",
    "    prev_matt6 = [0]\n",
    "\n",
    "    for epoch in range(1, n_epochs+1):\n",
    "        train_loss = 0\n",
    "\n",
    "        for batch in train_dataloader:\n",
    "            optimizer.zero_grad()\n",
    "\n",
    "            input_tensor, target = batch\n",
    "            input_tensor, target = input_tensor.to_dense().to(device), target.to_dense().to(device)\n",
    "\n",
    "            output = model(input_tensor)\n",
    "            target.require_grad = False # we don't use it in training\n",
    "\n",
    "            loss = criterion(output, target)\n",
    "            loss.backward()\n",
    "            optimizer.step()\n",
    "            train_loss += loss.data.item()\n",
    "\n",
    "        scheduler.step()\n",
    "        history.append(train_loss / len(train_dataloader))\n",
    "\n",
    "        test_loss = 0\n",
    "        scores = torch.zeros((testset_valid.userid.nunique(), data_description['n_items']))\n",
    "\n",
    "        with torch.no_grad():\n",
    "            model.eval()\n",
    "            for batch in range(val_num_batches):\n",
    "                input_tensor = user_tensor_val[batch * batch_size: (batch+1) * batch_size].to(device)\n",
    "                target = target_val[batch * batch_size: (batch+1) * batch_size].to(device)\n",
    "\n",
    "                output = model(input_tensor)\n",
    "                target.require_grad = False\n",
    "\n",
    "                test_loss += criterion(output, target)\n",
    "                scores[batch * batch_size: (batch+1) * batch_size] = output\n",
    "            model.train()\n",
    "\n",
    "        scores = scores.detach().cpu().numpy()\n",
    "        val_loss = test_loss / val_num_batches\n",
    "        val_history.append(val_loss.item())\n",
    "\n",
    "        downvote_seen_items(scores, testset_valid, data_description)\n",
    "\n",
    "        prev_matt2, hrs2, mrrs2, cs2, ndcgs2 = predict_and_check(model, scores, holdout_valid, data_description, hrs2,\n",
    "                                                                 mrrs2, cs2, ndcgs2, 2, prev_matt2, epoch, h)\n",
    "        prev_matt3, hrs3, mrrs3, cs3, ndcgs3 = predict_and_check(model, scores, holdout_valid, data_description, hrs3,\n",
    "                                                                 mrrs3, cs3, ndcgs3, 3, prev_matt3, epoch, h)\n",
    "        prev_matt4, hrs4, mrrs4, cs4, ndcgs4 = predict_and_check(model, scores, holdout_valid, data_description, hrs4,\n",
    "                                                                 mrrs4, cs4, ndcgs4, 4, prev_matt4, epoch, h)\n",
    "        prev_matt5, hrs5, mrrs5, cs5, ndcgs5 = predict_and_check(model, scores, holdout_valid, data_description, hrs5,\n",
    "                                                                 mrrs5, cs5, ndcgs5, 5, prev_matt5, epoch, h)\n",
    "        prev_matt6, hrs6, mrrs6, cs6, ndcgs6 = predict_and_check(model, scores, holdout_valid, data_description, hrs6,\n",
    "                                                                 mrrs6, cs6, ndcgs6, 6, prev_matt6, epoch, h)\n",
    "\n",
    "        # stop = epoch if epoch < early_stop else epoch-early_stop\n",
    "        if len(prev_matt2) >= early_stop and len(prev_matt3) >= early_stop and len(prev_matt4) >= early_stop and len(prev_matt5) >= early_stop and len(prev_matt6) >= early_stop:\n",
    "            print(f'Current epoch {epoch}')\n",
    "            break\n",
    "\n",
    "    # Testing the AE\n",
    "    check_test(model, criterion, user_tensor_val, target_val, testset_valid, holdout_valid, data_description,\n",
    "               val_num_batches, 2, h, device, batch_size=batch_size, dcg=True)\n",
    "    check_test(model, criterion, user_tensor_val, target_val, testset_valid, holdout_valid, data_description,\n",
    "               val_num_batches, 3, h, device, batch_size=batch_size, dcg=True)\n",
    "    check_test(model, criterion, user_tensor_val, target_val, testset_valid, holdout_valid, data_description,\n",
    "               val_num_batches, 4, h, device, batch_size=batch_size, dcg=True)\n",
    "    check_test(model, criterion, user_tensor_val, target_val, testset_valid, holdout_valid, data_description,\n",
    "               val_num_batches, 5, h, device, batch_size=batch_size, dcg=True)\n",
    "    check_test(model, criterion, user_tensor_val, target_val, testset_valid, holdout_valid, data_description,\n",
    "               val_num_batches, 6, h, device, batch_size=batch_size, dcg=True)\n",
    "\n",
    "    print('Test loss:', val_history[-min(early_stop, epoch)])\n",
    "    print('Train loss:', history[-min(early_stop, epoch)])\n",
    "\n",
    "    print()\n",
    "    print()"
   ]
  },
  {
   "cell_type": "markdown",
   "id": "8ce6702c",
   "metadata": {},
   "source": [
    "## 1"
   ]
  },
  {
   "cell_type": "code",
   "execution_count": 4,
   "id": "d4654217",
   "metadata": {
    "ExecuteTime": {
     "end_time": "2023-06-04T17:29:12.341221Z",
     "start_time": "2023-06-04T17:29:12.314155Z"
    },
    "code_folding": [
     0,
     5,
     11,
     52
    ]
   },
   "outputs": [],
   "source": [
    "def triu_init(m):\n",
    "        if isinstance(m, nn.Linear):\n",
    "            with torch.no_grad():\n",
    "                m.weight.copy_(torch.tril(m.weight))\n",
    "\n",
    "def get_zero_grad_hook(mask):\n",
    "    def hook(grad):\n",
    "        return grad * mask\n",
    "\n",
    "    return hook\n",
    "\n",
    "class triangularAE(nn.Module):\n",
    "    def __init__(self, n_items, n_ratings, hid1, hid2):\n",
    "        super(triangularAE, self).__init__()\n",
    "        self.V = nn.Linear(n_items, hid1, bias=False)\n",
    "        torch.nn.init.xavier_uniform_(self.V.weight)\n",
    "        self.W = nn.Linear(n_ratings, hid2, bias=False)\n",
    "        torch.nn.init.xavier_uniform_(self.W.weight)\n",
    "        self.L = nn.Linear(n_ratings, n_ratings, bias=False)\n",
    "        torch.nn.init.xavier_uniform_(self.L.weight)\n",
    "        triu_init(self.L)\n",
    "        #         self.norm = nn.LayerNorm(n_ratings)\n",
    "        self.vec = nn.Linear(n_ratings, 1)\n",
    "        torch.nn.init.xavier_uniform_(self.vec.weight)\n",
    "\n",
    "        self.relu = nn.ReLU()\n",
    "\n",
    "    def forward(self, x):\n",
    "        # encode\n",
    "        x = self.L(x)\n",
    "        x = self.relu(x)\n",
    "        x = self.W(x)\n",
    "        x = self.relu(x)\n",
    "        xT = torch.transpose(x, -1, -2)\n",
    "        yT = self.V(xT)\n",
    "        y = torch.transpose(yT, -1, -2)\n",
    "        y = self.relu(y)\n",
    "        # decode\n",
    "        output = F.linear(y, self.W.weight.T)\n",
    "        output = self.relu(output)\n",
    "        outputT = torch.transpose(output, -1, -2)\n",
    "        outputT = torch.linalg.solve(self.L.weight, outputT)\n",
    "        outputT = self.relu(outputT)\n",
    "        outputT = F.linear(outputT, self.V.weight.T)\n",
    "        output = torch.transpose(outputT, -1, -2)\n",
    "\n",
    "        #         output = self.relu(output)\n",
    "        # vec\n",
    "        output = self.vec(output).squeeze(-1)\n",
    "        return output\n",
    "\n",
    "# %%\n",
    "def triangular_model(h, data_description, device):\n",
    "    h1, h2 = h\n",
    "    ae = triangularAE(data_description['n_items'], data_description['n_ratings'], h1, h2).to(device)\n",
    "    criterion = nn.BCEWithLogitsLoss().to(device)\n",
    "    optimizer = optim.Adam(ae.parameters())\n",
    "    scheduler = optim.lr_scheduler.ExponentialLR(optimizer, gamma=0.95)\n",
    "\n",
    "    mask = torch.tril(torch.ones_like(ae.L.weight))\n",
    "    ae.L.weight.register_hook(get_zero_grad_hook(mask))\n",
    "\n",
    "    return ae, criterion, optimizer, scheduler"
   ]
  },
  {
   "cell_type": "code",
   "execution_count": 6,
   "id": "f99021bb",
   "metadata": {
    "ExecuteTime": {
     "end_time": "2023-06-04T17:29:26.929580Z",
     "start_time": "2023-06-04T17:29:15.678575Z"
    }
   },
   "outputs": [
    {
     "name": "stdout",
     "output_type": "stream",
     "text": [
      "Alpha: 4\n",
      "Hidden sizes: (256, 4)\n"
     ]
    },
    {
     "ename": "OutOfMemoryError",
     "evalue": "CUDA out of memory. Tried to allocate 4.84 GiB (GPU 0; 4.00 GiB total capacity; 442.99 MiB already allocated; 1.92 GiB free; 532.00 MiB reserved in total by PyTorch) If reserved memory is >> allocated memory try setting max_split_size_mb to avoid fragmentation.  See documentation for Memory Management and PYTORCH_CUDA_ALLOC_CONF",
     "output_type": "error",
     "traceback": [
      "\u001b[1;31m---------------------------------------------------------------------------\u001b[0m",
      "\u001b[1;31mOutOfMemoryError\u001b[0m                          Traceback (most recent call last)",
      "\u001b[1;32m~\\AppData\\Local\\Temp\\ipykernel_30144\\1729901011.py\u001b[0m in \u001b[0;36m<module>\u001b[1;34m\u001b[0m\n\u001b[0;32m      1\u001b[0m \u001b[0mprint\u001b[0m\u001b[1;33m(\u001b[0m\u001b[1;34m'Alpha: 4'\u001b[0m\u001b[1;33m)\u001b[0m\u001b[1;33m\u001b[0m\u001b[1;33m\u001b[0m\u001b[0m\n\u001b[0;32m      2\u001b[0m \u001b[0mh\u001b[0m \u001b[1;33m=\u001b[0m \u001b[1;33m(\u001b[0m\u001b[1;36m256\u001b[0m\u001b[1;33m,\u001b[0m \u001b[1;36m4\u001b[0m\u001b[1;33m)\u001b[0m\u001b[1;33m\u001b[0m\u001b[1;33m\u001b[0m\u001b[0m\n\u001b[1;32m----> 3\u001b[1;33m training_testing_pipeline_augment(training, testset_valid, holdout_valid, data_description,\n\u001b[0m\u001b[0;32m      4\u001b[0m                                   triangular_model, h, device, MVDataset, batch_size=512, tensor_model=True)\n",
      "\u001b[1;32m~\\AppData\\Local\\Temp\\ipykernel_30144\\1193801542.py\u001b[0m in \u001b[0;36mtraining_testing_pipeline_augment\u001b[1;34m(training, testset_valid, holdout_valid, data_description, model_init, h, device, MVDataset, tensor_model, batch_size, early_stop, n_epochs)\u001b[0m\n\u001b[0;32m     58\u001b[0m \u001b[1;33m\u001b[0m\u001b[0m\n\u001b[0;32m     59\u001b[0m             \u001b[0mloss\u001b[0m \u001b[1;33m=\u001b[0m \u001b[0mcriterion\u001b[0m\u001b[1;33m(\u001b[0m\u001b[0moutput\u001b[0m\u001b[1;33m,\u001b[0m \u001b[0mtarget\u001b[0m\u001b[1;33m)\u001b[0m\u001b[1;33m\u001b[0m\u001b[1;33m\u001b[0m\u001b[0m\n\u001b[1;32m---> 60\u001b[1;33m             \u001b[0mloss\u001b[0m\u001b[1;33m.\u001b[0m\u001b[0mbackward\u001b[0m\u001b[1;33m(\u001b[0m\u001b[1;33m)\u001b[0m\u001b[1;33m\u001b[0m\u001b[1;33m\u001b[0m\u001b[0m\n\u001b[0m\u001b[0;32m     61\u001b[0m             \u001b[0moptimizer\u001b[0m\u001b[1;33m.\u001b[0m\u001b[0mstep\u001b[0m\u001b[1;33m(\u001b[0m\u001b[1;33m)\u001b[0m\u001b[1;33m\u001b[0m\u001b[1;33m\u001b[0m\u001b[0m\n\u001b[0;32m     62\u001b[0m             \u001b[0mtrain_loss\u001b[0m \u001b[1;33m+=\u001b[0m \u001b[0mloss\u001b[0m\u001b[1;33m.\u001b[0m\u001b[0mdata\u001b[0m\u001b[1;33m.\u001b[0m\u001b[0mitem\u001b[0m\u001b[1;33m(\u001b[0m\u001b[1;33m)\u001b[0m\u001b[1;33m\u001b[0m\u001b[1;33m\u001b[0m\u001b[0m\n",
      "\u001b[1;32m~\\anaconda3\\lib\\site-packages\\torch\\_tensor.py\u001b[0m in \u001b[0;36mbackward\u001b[1;34m(self, gradient, retain_graph, create_graph, inputs)\u001b[0m\n\u001b[0;32m    485\u001b[0m                 \u001b[0minputs\u001b[0m\u001b[1;33m=\u001b[0m\u001b[0minputs\u001b[0m\u001b[1;33m,\u001b[0m\u001b[1;33m\u001b[0m\u001b[1;33m\u001b[0m\u001b[0m\n\u001b[0;32m    486\u001b[0m             )\n\u001b[1;32m--> 487\u001b[1;33m         torch.autograd.backward(\n\u001b[0m\u001b[0;32m    488\u001b[0m             \u001b[0mself\u001b[0m\u001b[1;33m,\u001b[0m \u001b[0mgradient\u001b[0m\u001b[1;33m,\u001b[0m \u001b[0mretain_graph\u001b[0m\u001b[1;33m,\u001b[0m \u001b[0mcreate_graph\u001b[0m\u001b[1;33m,\u001b[0m \u001b[0minputs\u001b[0m\u001b[1;33m=\u001b[0m\u001b[0minputs\u001b[0m\u001b[1;33m\u001b[0m\u001b[1;33m\u001b[0m\u001b[0m\n\u001b[0;32m    489\u001b[0m         )\n",
      "\u001b[1;32m~\\anaconda3\\lib\\site-packages\\torch\\autograd\\__init__.py\u001b[0m in \u001b[0;36mbackward\u001b[1;34m(tensors, grad_tensors, retain_graph, create_graph, grad_variables, inputs)\u001b[0m\n\u001b[0;32m    198\u001b[0m     \u001b[1;31m# some Python versions print out the first line of a multi-line function\u001b[0m\u001b[1;33m\u001b[0m\u001b[1;33m\u001b[0m\u001b[0m\n\u001b[0;32m    199\u001b[0m     \u001b[1;31m# calls in the traceback and some print out the last line\u001b[0m\u001b[1;33m\u001b[0m\u001b[1;33m\u001b[0m\u001b[0m\n\u001b[1;32m--> 200\u001b[1;33m     Variable._execution_engine.run_backward(  # Calls into the C++ engine to run the backward pass\n\u001b[0m\u001b[0;32m    201\u001b[0m         \u001b[0mtensors\u001b[0m\u001b[1;33m,\u001b[0m \u001b[0mgrad_tensors_\u001b[0m\u001b[1;33m,\u001b[0m \u001b[0mretain_graph\u001b[0m\u001b[1;33m,\u001b[0m \u001b[0mcreate_graph\u001b[0m\u001b[1;33m,\u001b[0m \u001b[0minputs\u001b[0m\u001b[1;33m,\u001b[0m\u001b[1;33m\u001b[0m\u001b[1;33m\u001b[0m\u001b[0m\n\u001b[0;32m    202\u001b[0m         allow_unreachable=True, accumulate_grad=True)  # Calls into the C++ engine to run the backward pass\n",
      "\u001b[1;31mOutOfMemoryError\u001b[0m: CUDA out of memory. Tried to allocate 4.84 GiB (GPU 0; 4.00 GiB total capacity; 442.99 MiB already allocated; 1.92 GiB free; 532.00 MiB reserved in total by PyTorch) If reserved memory is >> allocated memory try setting max_split_size_mb to avoid fragmentation.  See documentation for Memory Management and PYTORCH_CUDA_ALLOC_CONF"
     ]
    }
   ],
   "source": [
    "print('Alpha: 4')\n",
    "h = (256, 4)\n",
    "training_testing_pipeline_augment(training, testset_valid, holdout_valid, data_description,\n",
    "                                  triangular_model, h, device, MVDataset, batch_size=512, tensor_model=True)"
   ]
  },
  {
   "cell_type": "code",
   "execution_count": 9,
   "id": "6d0fe53f",
   "metadata": {
    "ExecuteTime": {
     "end_time": "2023-06-02T18:13:03.596741Z",
     "start_time": "2023-06-02T18:13:03.570750Z"
    }
   },
   "outputs": [],
   "source": [
    "h = (256, 4)\n",
    "h1, h2 = h\n",
    "ae = triangularAE(data_description['n_items'], data_description['n_ratings'], h1, h2).to(device)"
   ]
  },
  {
   "cell_type": "code",
   "execution_count": 10,
   "id": "42a7d61c",
   "metadata": {
    "ExecuteTime": {
     "end_time": "2023-06-02T18:13:07.053388Z",
     "start_time": "2023-06-02T18:13:04.065318Z"
    }
   },
   "outputs": [
    {
     "data": {
      "text/plain": [
       "<All keys matched successfully>"
      ]
     },
     "execution_count": 10,
     "metadata": {},
     "output_type": "execute_result"
    }
   ],
   "source": [
    "alpha = 4\n",
    "ae.load_state_dict(torch.load(f'best_ae_{h}_{alpha}.pt'))"
   ]
  },
  {
   "cell_type": "code",
   "execution_count": 11,
   "id": "30796fe8",
   "metadata": {
    "ExecuteTime": {
     "end_time": "2023-06-02T18:13:11.826685Z",
     "start_time": "2023-06-02T18:13:09.037346Z"
    }
   },
   "outputs": [],
   "source": [
    "data = pd.DataFrame((ae.L.weight @ ae.L.weight.T).cpu().detach().numpy())\n",
    "data.columns = np.arange(1,6)\n",
    "data.index = np.arange(1,6)"
   ]
  },
  {
   "cell_type": "code",
   "execution_count": 12,
   "id": "4e6d2e50",
   "metadata": {
    "ExecuteTime": {
     "end_time": "2023-06-02T18:09:33.765580Z",
     "start_time": "2023-06-02T18:09:33.700452Z"
    }
   },
   "outputs": [],
   "source": [
    "data.to_clipboard()"
   ]
  },
  {
   "cell_type": "code",
   "execution_count": 13,
   "id": "c93d3d7c",
   "metadata": {
    "ExecuteTime": {
     "end_time": "2023-06-02T18:13:19.435461Z",
     "start_time": "2023-06-02T18:13:19.301462Z"
    }
   },
   "outputs": [
    {
     "data": {
      "image/png": "[encoded data removed]",
      "text/plain": [
       "<Figure size 400x400 with 1 Axes>"
      ]
     },
     "metadata": {},
     "output_type": "display_data"
    }
   ],
   "source": [
    "plt.figure(figsize=(4,4))\n",
    "plt.imshow(data, cmap='Blues', norm=None, vmin=-1, vmax=1)\n",
    "for i in range(data.shape[0]):\n",
    "    for j in range(data.shape[1]):\n",
    "        if data.values[i, j] > 0.8:\n",
    "            text = plt.text(j, i, np.round(data.values[i, j], 2),\n",
    "                          ha=\"center\", va=\"center\", color=\"w\")\n",
    "        else:\n",
    "            text = plt.text(j, i, np.round(data.values[i, j], 2),\n",
    "                            ha=\"center\", va=\"center\", color=\"k\")\n",
    "plt.xticks(np.arange(5), labels=np.arange(1,6))\n",
    "plt.yticks(np.arange(5), labels=np.arange(1,6));"
   ]
  },
  {
   "cell_type": "markdown",
   "id": "8ff928e6",
   "metadata": {},
   "source": [
    "## 2"
   ]
  },
  {
   "cell_type": "code",
   "execution_count": 4,
   "id": "e558e6c4",
   "metadata": {
    "ExecuteTime": {
     "end_time": "2023-06-05T14:39:29.663249Z",
     "start_time": "2023-06-05T14:39:29.640613Z"
    },
    "code_folding": [
     0,
     39
    ]
   },
   "outputs": [],
   "source": [
    "class squarerootAE(nn.Module):\n",
    "    def __init__(self, n_items, n_ratings, hid1, hid2):\n",
    "        super(squarerootAE, self).__init__()\n",
    "        self.V = nn.Linear(n_items, hid1, bias=False)\n",
    "        torch.nn.init.xavier_uniform_(self.V.weight)\n",
    "        self.W = nn.Linear(n_ratings, hid2, bias=False)\n",
    "        torch.nn.init.xavier_uniform_(self.W.weight)\n",
    "        self.L = nn.Linear(n_ratings, n_ratings, bias=False)\n",
    "        torch.nn.init.xavier_uniform_(self.L.weight)\n",
    "        #         self.norm = nn.LayerNorm(n_ratings)\n",
    "        self.vec = nn.Linear(n_ratings, 1)\n",
    "        torch.nn.init.xavier_uniform_(self.vec.weight)\n",
    "\n",
    "        self.relu = nn.ReLU()\n",
    "\n",
    "    def forward(self, x):\n",
    "        # encode\n",
    "        x = self.L(x)\n",
    "        x = self.relu(x)\n",
    "        x = self.W(x)\n",
    "        x = self.relu(x)\n",
    "        xT = torch.transpose(x, -1, -2)\n",
    "        yT = self.V(xT)\n",
    "        y = torch.transpose(yT, -1, -2)\n",
    "        y = self.relu(y)\n",
    "        # decode\n",
    "        output = F.linear(y, self.W.weight.T)\n",
    "        output = self.relu(output)\n",
    "        outputT = torch.transpose(output, -1, -2)\n",
    "        outputT = torch.linalg.solve(self.L.weight, outputT)\n",
    "        outputT = self.relu(outputT)\n",
    "        outputT = F.linear(outputT, self.V.weight.T)\n",
    "        output = torch.transpose(outputT, -1, -2)\n",
    "\n",
    "        #         output = self.relu(output)\n",
    "        # vec\n",
    "        output = self.vec(output).squeeze(-1)\n",
    "        return output\n",
    "\n",
    "def square_root_model(h, data_description, device):\n",
    "    h1, h2 = h\n",
    "    ae = squarerootAE(data_description['n_items'], data_description['n_ratings'], h1, h2).to(device)\n",
    "    criterion = nn.BCEWithLogitsLoss().to(device)\n",
    "    optimizer = optim.Adam(ae.parameters())\n",
    "    scheduler = optim.lr_scheduler.ExponentialLR(optimizer, gamma=0.9)\n",
    "\n",
    "    return ae, criterion, optimizer, scheduler"
   ]
  },
  {
   "cell_type": "code",
   "execution_count": 7,
   "id": "e7be972e",
   "metadata": {
    "ExecuteTime": {
     "end_time": "2023-06-04T18:38:34.286468Z",
     "start_time": "2023-06-04T17:31:05.437814Z"
    }
   },
   "outputs": [
    {
     "name": "stdout",
     "output_type": "stream",
     "text": [
      "Alpha: 4\n",
      "Hidden sizes: (128, 3)\n"
     ]
    },
    {
     "name": "stderr",
     "output_type": "stream",
     "text": [
      "D:\\GitHub\\Thesis_2023\\utils.py:68: RuntimeWarning: invalid value encountered in double_scalars\n",
      "  C = (TP/N - S*P) / np.sqrt(P*S*(1-P)*(1-S))\n"
     ]
    },
    {
     "name": "stdout",
     "output_type": "stream",
     "text": [
      "Current epoch 61\n",
      "Results for alpha=2\n",
      "HR@5:0.001501877346683354, MRR@5: 0.00040050062578222777, Coverage@5: 0.09832424793054714, NCDG@5: 0.0006640403733221197, HR_pos@5: 0.001501877346683354, HR_neg@5: 0.0, MRR_pos@5: 0.00040050062578222777, MRR_neg@5: 0.0, NCDG_pos@5: 0.0006640403733221197, NDCG_neg@5: 0.0, Matthews@5: 0.008125854034515026\n",
      "HR@10:0.003254067584480601, MRR@10: 0.0005655879373025806, Coverage@10: 0.14395315970119119, NCDG@10: 0.001162685877986242, HR_pos@10: 0.003254067584480601, HR_neg@10: 0.0, MRR_pos@10: 0.0005655879373025806, MRR_neg@10: 0.0, NCDG_pos@10: 0.001162685877986242, NDCG_neg@10: 0.0, Matthews@10: 0.011971441787376887\n",
      "HR@20:0.00525657071339174, MRR@20: 0.0007665437120987208, Coverage@20: 0.2013930950938825, NCDG@20: 0.0017067634361503609, HR_pos@20: 0.0050062578222778474, HR_neg@20: 0.00025031289111389235, MRR_pos@20: 0.0007518194243861388, MRR_neg@20: 1.4724287712581903e-05, NCDG_pos@20: 0.0016467352843185382, NDCG_neg@20: 6.002815183182264e-05, Matthews@20: -0.002016087745506887\n",
      "Results for alpha=3\n",
      "HR@5:0.001501877346683354, MRR@5: 0.00040050062578222777, Coverage@5: 0.09832424793054714, NCDG@5: 0.0006640403733221197, HR_pos@5: 0.001501877346683354, HR_neg@5: 0.0, MRR_pos@5: 0.00040050062578222777, MRR_neg@5: 0.0, NCDG_pos@5: 0.0006640403733221197, NDCG_neg@5: 0.0, Matthews@5: 0.011904657683355246\n",
      "HR@10:0.003254067584480601, MRR@10: 0.0005655879373025806, Coverage@10: 0.14395315970119119, NCDG@10: 0.001162685877986242, HR_pos@10: 0.003254067584480601, HR_neg@10: 0.0, MRR_pos@10: 0.0005655879373025806, MRR_neg@10: 0.0, NCDG_pos@10: 0.001162685877986242, NDCG_neg@10: 0.0, Matthews@10: 0.0175385769729055\n",
      "HR@20:0.00525657071339174, MRR@20: 0.0007665437120987208, Coverage@20: 0.2013930950938825, NCDG@20: 0.0017067634361503609, HR_pos@20: 0.0050062578222778474, HR_neg@20: 0.00025031289111389235, MRR_pos@20: 0.0007518194243861388, MRR_neg@20: 1.4724287712581903e-05, NCDG_pos@20: 0.0016467352843185382, NDCG_neg@20: 6.002815183182264e-05, Matthews@20: 0.009973769530296736\n",
      "Results for alpha=4\n",
      "HR@5:0.0015018773466833543, MRR@5: 0.00040050062578222777, Coverage@5: 0.09832424793054714, NCDG@5: 0.0006640403733221197, HR_pos@5: 0.0012515644555694619, HR_neg@5: 0.00025031289111389235, MRR_pos@5: 0.0003504380475594493, MRR_neg@5: 5.006257822277848e-05, NCDG_pos@5: 0.0005672061287077164, NDCG_neg@5: 9.683424461440341e-05, Matthews@5: 0.002234720690553468\n",
      "HR@10:0.0032540675844806004, MRR@10: 0.0005655879373025806, Coverage@10: 0.14395315970119119, NCDG@10: 0.001162685877986242, HR_pos@10: 0.003003754693366708, HR_neg@10: 0.00025031289111389235, MRR_pos@10: 0.0005405566481911913, MRR_neg@10: 2.503128911138924e-05, NCDG_pos@10: 0.0010903292255912765, NDCG_neg@10: 7.235665239496568e-05, Matthews@10: 0.01638337231084412\n",
      "HR@20:0.005256570713391739, MRR@20: 0.0007665437120987208, Coverage@20: 0.2013930950938825, NCDG@20: 0.0017067634361503609, HR_pos@20: 0.004755944931163955, HR_neg@20: 0.0005006257822277847, MRR_pos@20: 0.0007393037798304442, MRR_neg@20: 2.723993226827652e-05, NCDG_pos@20: 0.0015897464861465852, NDCG_neg@20: 0.00011701695000377583, Matthews@20: 0.01744483323859831\n",
      "Results for alpha=5\n",
      "HR@5:0.0012515644555694616, MRR@5: 0.0006633291614518147, Coverage@5: 0.09913183928931961, NCDG@5: 0.0008020981658429227, HR_pos@5: 0.0010012515644555694, HR_neg@5: 0.00025031289111389235, MRR_pos@5: 0.0006132665832290364, MRR_neg@5: 5.006257822277848e-05, NCDG_pos@5: 0.0007052639212285193, NDCG_neg@5: 9.683424461440341e-05, Matthews@5: 0.014054017762621081\n",
      "HR@10:0.002753441802252816, MRR@10: 0.0008183840912251425, Coverage@10: 0.14768826973551383, NCDG@10: 0.001243715947671184, HR_pos@10: 0.0022528160200250315, HR_neg@10: 0.0005006257822277847, MRR_pos@10: 0.0007620636907245169, MRR_neg@10: 5.632040050062578e-05, NCDG_pos@10: 0.001092394369923095, NDCG_neg@10: 0.00015132157774808928, Matthews@10: 0.02281636725378111\n",
      "HR@20:0.005506883604505632, MRR@20: 0.0010766776532032635, Coverage@20: 0.20533010296789825, NCDG@20: 0.0019845605325175654, HR_pos@20: 0.0037546933667083854, HR_neg@20: 0.0017521902377972466, MRR_pos@20: 0.0009489386143253013, MRR_neg@20: 0.0001277390388779625, NCDG_pos@20: 0.0015354888673553863, NDCG_neg@20: 0.00044907166516217956, Matthews@20: 0.011545146058959265\n",
      "Results for alpha=6\n",
      "HR@5:0.000750938673341677, MRR@5: 0.00015018773466833545, Coverage@5: 0.04552796285079749, NCDG@5: 0.00029050273384321026, HR_pos@5: 0.0, HR_neg@5: 0.000750938673341677, MRR_pos@5: 0.0, MRR_neg@5: 0.00015018773466833545, NCDG_pos@5: 0.0, NDCG_neg@5: 0.00029050273384321026, Matthews@5: nan\n",
      "HR@10:0.000750938673341677, MRR@10: 0.00010012515644555696, Coverage@10: 0.07621643448415102, NCDG@10: 0.00024154754940433477, HR_pos@10: 0.0, HR_neg@10: 0.000750938673341677, MRR_pos@10: 0.0, MRR_neg@10: 0.00010012515644555696, NCDG_pos@10: 0.0, NDCG_neg@10: 0.00024154754940433477, Matthews@10: nan\n",
      "HR@20:0.001501877346683354, MRR@20: 0.00022733094730986833, Coverage@20: 0.11528366646476883, NCDG@20: 0.00048558452684012584, HR_pos@20: 0.0, HR_neg@20: 0.001501877346683354, MRR_pos@20: 0.0, MRR_neg@20: 0.00022733094730986833, NCDG_pos@20: 0.0, NDCG_neg@20: 0.00048558452684012584, Matthews@20: nan\n",
      "Test loss: 0.11960713565349579\n",
      "Train loss: 0.10506647685994801\n",
      "\n",
      "\n"
     ]
    }
   ],
   "source": [
    "print('Alpha: 4')\n",
    "h = (128, 3)\n",
    "training_testing_pipeline_augment(training, testset_valid, holdout_valid, data_description,\n",
    "                                  square_root_model, h, device, MVDataset, batch_size=32, tensor_model=True)"
   ]
  },
  {
   "cell_type": "code",
   "execution_count": 5,
   "id": "b205cd20",
   "metadata": {
    "ExecuteTime": {
     "end_time": "2023-06-05T14:39:34.041918Z",
     "start_time": "2023-06-05T14:39:33.994870Z"
    }
   },
   "outputs": [
    {
     "ename": "NameError",
     "evalue": "name 'h' is not defined",
     "output_type": "error",
     "traceback": [
      "\u001b[1;31m---------------------------------------------------------------------------\u001b[0m",
      "\u001b[1;31mNameError\u001b[0m                                 Traceback (most recent call last)",
      "\u001b[1;32m~\\AppData\\Local\\Temp\\ipykernel_19276\\2397508107.py\u001b[0m in \u001b[0;36m<module>\u001b[1;34m\u001b[0m\n\u001b[1;32m----> 1\u001b[1;33m \u001b[0mh1\u001b[0m\u001b[1;33m,\u001b[0m \u001b[0mh2\u001b[0m \u001b[1;33m=\u001b[0m \u001b[0mh\u001b[0m\u001b[1;33m\u001b[0m\u001b[1;33m\u001b[0m\u001b[0m\n\u001b[0m\u001b[0;32m      2\u001b[0m \u001b[0mae\u001b[0m \u001b[1;33m=\u001b[0m \u001b[0msquarerootAE\u001b[0m\u001b[1;33m(\u001b[0m\u001b[0mdata_description\u001b[0m\u001b[1;33m[\u001b[0m\u001b[1;34m'n_items'\u001b[0m\u001b[1;33m]\u001b[0m\u001b[1;33m,\u001b[0m \u001b[0mdata_description\u001b[0m\u001b[1;33m[\u001b[0m\u001b[1;34m'n_ratings'\u001b[0m\u001b[1;33m]\u001b[0m\u001b[1;33m,\u001b[0m \u001b[0mh1\u001b[0m\u001b[1;33m,\u001b[0m \u001b[0mh2\u001b[0m\u001b[1;33m)\u001b[0m\u001b[1;33m.\u001b[0m\u001b[0mto\u001b[0m\u001b[1;33m(\u001b[0m\u001b[0mdevice\u001b[0m\u001b[1;33m)\u001b[0m\u001b[1;33m\u001b[0m\u001b[1;33m\u001b[0m\u001b[0m\n",
      "\u001b[1;31mNameError\u001b[0m: name 'h' is not defined"
     ]
    }
   ],
   "source": [
    "h1, h2 = h\n",
    "ae = squarerootAE(data_description['n_items'], data_description['n_ratings'], h1, h2).to(device)"
   ]
  },
  {
   "cell_type": "code",
   "execution_count": 9,
   "id": "4b17782d",
   "metadata": {
    "ExecuteTime": {
     "end_time": "2023-06-04T18:49:47.145821Z",
     "start_time": "2023-06-04T18:49:47.090250Z"
    }
   },
   "outputs": [
    {
     "data": {
      "text/plain": [
       "<All keys matched successfully>"
      ]
     },
     "execution_count": 9,
     "metadata": {},
     "output_type": "execute_result"
    }
   ],
   "source": [
    "h = (128, 3)\n",
    "alpha = 4\n",
    "ae.load_state_dict(torch.load(f'best_ae_{h}_{alpha}.pt'))"
   ]
  },
  {
   "cell_type": "code",
   "execution_count": 10,
   "id": "d0543450",
   "metadata": {
    "ExecuteTime": {
     "end_time": "2023-06-04T18:49:47.643956Z",
     "start_time": "2023-06-04T18:49:47.583336Z"
    }
   },
   "outputs": [],
   "source": [
    "data = pd.DataFrame((ae.L.weight @ ae.L.weight.T).cpu().detach().numpy())\n",
    "data.columns = np.arange(1,6)\n",
    "data.index = np.arange(1,6)"
   ]
  },
  {
   "cell_type": "code",
   "execution_count": 11,
   "id": "be865d90",
   "metadata": {
    "ExecuteTime": {
     "end_time": "2023-06-04T18:49:48.562410Z",
     "start_time": "2023-06-04T18:49:48.479838Z"
    }
   },
   "outputs": [],
   "source": [
    "data.to_clipboard()"
   ]
  },
  {
   "cell_type": "code",
   "execution_count": 12,
   "id": "3b3cf865",
   "metadata": {
    "ExecuteTime": {
     "end_time": "2023-06-04T18:49:49.419833Z",
     "start_time": "2023-06-04T18:49:48.903129Z"
    }
   },
   "outputs": [
    {
     "data": {
      "image/png": "[encoded data removed]",
      "text/plain": [
       "<Figure size 400x400 with 1 Axes>"
      ]
     },
     "metadata": {},
     "output_type": "display_data"
    }
   ],
   "source": [
    "plt.figure(figsize=(4,4))\n",
    "plt.imshow(data, cmap='Blues', norm=None, vmin=-1, vmax=1)\n",
    "for i in range(data.shape[0]):\n",
    "    for j in range(data.shape[1]):\n",
    "        if data.values[i, j] > 0.5:\n",
    "            text = plt.text(j, i, np.round(data.values[i, j], 2),\n",
    "                          ha=\"center\", va=\"center\", color=\"w\")\n",
    "        else:\n",
    "            text = plt.text(j, i, np.round(data.values[i, j], 2),\n",
    "                            ha=\"center\", va=\"center\", color=\"k\")\n",
    "plt.xticks(np.arange(5), labels=np.arange(1,6))\n",
    "plt.yticks(np.arange(5), labels=np.arange(1,6));"
   ]
  },
  {
   "cell_type": "markdown",
   "id": "a27ef6ba",
   "metadata": {},
   "source": [
    "## 3"
   ]
  },
  {
   "cell_type": "code",
   "execution_count": 6,
   "id": "976a5726",
   "metadata": {
    "ExecuteTime": {
     "end_time": "2023-06-05T14:39:46.655146Z",
     "start_time": "2023-06-05T14:39:46.605728Z"
    },
    "code_folding": [
     0,
     5,
     57
    ]
   },
   "outputs": [],
   "source": [
    "def triu_init(m):\n",
    "    if isinstance(m, nn.Linear):\n",
    "        with torch.no_grad():\n",
    "            m.weight.copy_(torch.tril(m.weight))\n",
    "\n",
    "def get_zero_grad_hook(mask):\n",
    "    def hook(grad):\n",
    "        return grad * mask\n",
    "\n",
    "    return hook\n",
    "\n",
    "# %%\n",
    "class twotriangularAE(nn.Module):\n",
    "    def __init__(self, n_items, n_ratings, hid1, hid2):\n",
    "        super(twotriangularAE, self).__init__()\n",
    "        self.V = nn.Linear(n_items, hid1, bias=False)\n",
    "        torch.nn.init.xavier_uniform_(self.V.weight)\n",
    "        self.W = nn.Linear(n_ratings, hid2, bias=False)\n",
    "        torch.nn.init.xavier_uniform_(self.W.weight)\n",
    "        self.L = nn.Linear(n_ratings, n_ratings, bias=False)\n",
    "        torch.nn.init.xavier_uniform_(self.L.weight)\n",
    "        triu_init(self.L)\n",
    "        self.LTinv = nn.Linear(n_ratings, n_ratings, bias=False)\n",
    "        torch.nn.init.xavier_uniform_(self.LTinv.weight)\n",
    "        triu_init(self.LTinv)\n",
    "\n",
    "        #         self.norm = nn.LayerNorm(n_ratings)\n",
    "        self.vec = nn.Linear(n_ratings, 1)\n",
    "        torch.nn.init.xavier_uniform_(self.vec.weight)\n",
    "\n",
    "        self.relu = nn.ReLU()\n",
    "\n",
    "    def forward(self, x):\n",
    "        # encode\n",
    "        x = self.L(x)\n",
    "        x = self.relu(x)\n",
    "        x = self.W(x)\n",
    "        x = self.relu(x)\n",
    "        xT = torch.transpose(x, -1, -2)\n",
    "        yT = self.V(xT)\n",
    "        y = torch.transpose(yT, -1, -2)\n",
    "        y = self.relu(y)\n",
    "        # decode\n",
    "        output = F.linear(y, self.W.weight.T)\n",
    "        output = self.relu(output)\n",
    "        output = self.LTinv(output)\n",
    "        output = self.relu(output)\n",
    "        outputT = torch.transpose(output, -1, -2)\n",
    "        outputT = F.linear(outputT, self.V.weight.T)\n",
    "        output = torch.transpose(outputT, -1, -2)\n",
    "\n",
    "        #         output = self.relu(output)\n",
    "        # vec\n",
    "        output = self.vec(output).squeeze(-1)\n",
    "        return output\n",
    "\n",
    "# %%\n",
    "def twotriangular_model(h, data_description, device):\n",
    "    h1, h2 = h\n",
    "    ae = twotriangularAE(data_description['n_items'], data_description['n_ratings'], h1, h2).to(device)\n",
    "    criterion = nn.BCEWithLogitsLoss().to(device)\n",
    "    optimizer = optim.Adam(ae.parameters())\n",
    "    scheduler = optim.lr_scheduler.ExponentialLR(optimizer, gamma=0.95)\n",
    "\n",
    "    mask = torch.tril(torch.ones_like(ae.L.weight))\n",
    "    ae.L.weight.register_hook(get_zero_grad_hook(mask))\n",
    "\n",
    "    mask = torch.tril(torch.ones_like(ae.LTinv.weight))\n",
    "    ae.LTinv.weight.register_hook(get_zero_grad_hook(mask))\n",
    "\n",
    "    return ae, criterion, optimizer, scheduler"
   ]
  },
  {
   "cell_type": "code",
   "execution_count": 27,
   "id": "62ac69fd",
   "metadata": {
    "ExecuteTime": {
     "end_time": "2023-06-04T22:13:52.225419Z",
     "start_time": "2023-06-04T20:44:55.728898Z"
    }
   },
   "outputs": [
    {
     "name": "stdout",
     "output_type": "stream",
     "text": [
      "Alpha: 4\n",
      "Hidden sizes: (128, 3)\n"
     ]
    },
    {
     "name": "stderr",
     "output_type": "stream",
     "text": [
      "D:\\GitHub\\Thesis_2023\\utils.py:68: RuntimeWarning: invalid value encountered in double_scalars\n",
      "  C = (TP/N - S*P) / np.sqrt(P*S*(1-P)*(1-S))\n"
     ]
    },
    {
     "name": "stdout",
     "output_type": "stream",
     "text": [
      "Current epoch 89\n",
      "Results for alpha=2\n",
      "HR@5:0.001501877346683354, MRR@5: 0.000621610346266166, Coverage@5: 0.05188774480113063, NCDG@5: 0.0008348715709922237, HR_pos@5: 0.001501877346683354, HR_neg@5: 0.0, MRR_pos@5: 0.000621610346266166, MRR_neg@5: 0.0, NCDG_pos@5: 0.0008348715709922237, NDCG_neg@5: 0.0, Matthews@5: 0.008125854034515026\n",
      "HR@10:0.002002503128911139, MRR@10: 0.0005322128851540615, Coverage@10: 0.07672117908338381, NCDG@10: 0.0008561374710083299, HR_pos@10: 0.002002503128911139, HR_neg@10: 0.0, MRR_pos@10: 0.0005322128851540615, MRR_neg@10: 0.0, NCDG_pos@10: 0.0008561374710083299, NDCG_neg@10: 0.0, Matthews@10: 0.0093852811138817\n",
      "HR@20:0.003003754693366708, MRR@20: 0.000657638817064105, Coverage@20: 0.11094286291136685, NCDG@20: 0.0011425095343695255, HR_pos@20: 0.003003754693366708, HR_neg@20: 0.0, MRR_pos@20: 0.000657638817064105, MRR_neg@20: 0.0, NCDG_pos@20: 0.0011425095343695255, NDCG_neg@20: 0.0, Matthews@20: 0.011500345280089521\n",
      "Results for alpha=3\n",
      "HR@5:0.001501877346683354, MRR@5: 0.000621610346266166, Coverage@5: 0.05188774480113063, NCDG@5: 0.0008348715709922237, HR_pos@5: 0.001501877346683354, HR_neg@5: 0.0, MRR_pos@5: 0.000621610346266166, MRR_neg@5: 0.0, NCDG_pos@5: 0.0008348715709922237, NDCG_neg@5: 0.0, Matthews@5: 0.011904657683355246\n",
      "HR@10:0.002002503128911139, MRR@10: 0.0005322128851540615, Coverage@10: 0.07672117908338381, NCDG@10: 0.0008561374710083299, HR_pos@10: 0.002002503128911139, HR_neg@10: 0.0, MRR_pos@10: 0.0005322128851540615, MRR_neg@10: 0.0, NCDG_pos@10: 0.0008561374710083299, NDCG_neg@10: 0.0, Matthews@10: 0.013749761987878086\n",
      "HR@20:0.003003754693366708, MRR@20: 0.000657638817064105, Coverage@20: 0.11094286291136685, NCDG@20: 0.0011425095343695255, HR_pos@20: 0.003003754693366708, HR_neg@20: 0.0, MRR_pos@20: 0.000657638817064105, MRR_neg@20: 0.0, NCDG_pos@20: 0.0011425095343695255, NDCG_neg@20: 0.0, Matthews@20: 0.01684840426844155\n",
      "Results for alpha=4\n",
      "HR@5:0.003504380475594493, MRR@5: 0.0018606591572799334, Coverage@5: 0.06299212598425197, NCDG@5: 0.002264237935453377, HR_pos@5: 0.002753441802252816, HR_neg@5: 0.000750938673341677, MRR_pos@5: 0.001510221109720484, MRR_neg@5: 0.0003504380475594493, NCDG_pos@5: 0.0018202565551106778, NDCG_neg@5: 0.0004439813803426992, Matthews@5: -0.003792378335120787\n",
      "HR@10:0.00525657071339174, MRR@10: 0.001944394779188271, Coverage@10: 0.10720775287704422, NCDG@10: 0.002696493675688715, HR_pos@10: 0.004505632040050063, HR_neg@10: 0.000750938673341677, MRR_pos@10: 0.0016189880207402108, MRR_neg@10: 0.0003254067584480601, NCDG_pos@10: 0.002276989887565453, NDCG_neg@10: 0.0004195037881232615, Matthews@10: 0.00860738601716791\n",
      "HR@20:0.007509386733416771, MRR@20: 0.0020439449588695747, Coverage@20: 0.17807389460932768, NCDG@20: 0.0031982186322441434, HR_pos@20: 0.006007509386733416, HR_neg@20: 0.001501877346683354, MRR_pos@20: 0.0016775906574493817, MRR_neg@20: 0.00036635430142019257, NCDG_pos@20: 0.002602340859594141, NDCG_neg@20: 0.0005958777726500029, Matthews@20: -0.0023902378284321193\n",
      "Results for alpha=5\n",
      "HR@5:0.001501877346683354, MRR@5: 0.00047559449311639546, Coverage@5: 0.046739349888956186, NCDG@5: 0.0007251359794139635, HR_pos@5: 0.0010012515644555694, HR_neg@5: 0.0005006257822277847, MRR_pos@5: 0.00030037546933667084, MRR_neg@5: 0.00017521902377972464, NCDG_pos@5: 0.00047037188409331296, NDCG_neg@5: 0.0002547640953206506, Matthews@5: 0.004814564446620437\n",
      "HR@10:0.0017521902377972466, MRR@10: 0.0003674235651707492, Coverage@10: 0.06904906117504543, NCDG@10: 0.000680653499993262, HR_pos@10: 0.0010012515644555694, HR_neg@10: 0.000750938673341677, MRR_pos@10: 0.00027534418022528165, MRR_neg@10: 9.207938494546756e-05, NCDG_pos@10: 0.00044589429187387523, NDCG_neg@10: 0.0002347592081193867, Matthews@10: -0.0029648322123126576\n",
      "HR@20:0.0030037546933667086, MRR@20: 0.0005079870981326748, Coverage@20: 0.09741570765192813, NCDG@20: 0.001027492583777894, HR_pos@20: 0.0017521902377972466, HR_neg@20: 0.0012515644555694619, MRR_pos@20: 0.0004150656156452876, MRR_neg@20: 9.292148248738723e-05, NCDG_pos@20: 0.0007052991235326787, NDCG_neg@20: 0.0003221934602452151, Matthews@20: -0.0025470296998830956\n",
      "Results for alpha=6\n",
      "HR@5:0.0012515644555694619, MRR@5: 0.0005256570713391738, Coverage@5: 0.01706036745406824, NCDG@5: 0.0006987454756633498, HR_pos@5: 0.0, HR_neg@5: 0.0012515644555694619, MRR_pos@5: 0.0, MRR_neg@5: 0.0005256570713391738, NCDG_pos@5: 0.0, NDCG_neg@5: 0.0006987454756633498, Matthews@5: nan\n",
      "HR@10:0.0012515644555694619, MRR@10: 0.00038619703200429105, Coverage@10: 0.028467595396729255, NCDG@10: 0.0005752980708895246, HR_pos@10: 0.0, HR_neg@10: 0.0012515644555694619, MRR_pos@10: 0.0, MRR_neg@10: 0.00038619703200429105, NCDG_pos@10: 0.0, NDCG_neg@10: 0.0005752980708895246, Matthews@10: nan\n",
      "HR@20:0.002002503128911139, MRR@20: 0.0004968986762017524, Coverage@20: 0.04583080961033717, NCDG@20: 0.0008016419824188977, HR_pos@20: 0.0, HR_neg@20: 0.002002503128911139, MRR_pos@20: 0.0, MRR_neg@20: 0.0004968986762017524, NCDG_pos@20: 0.0, NDCG_neg@20: 0.0008016419824188977, Matthews@20: nan\n",
      "Test loss: 0.0072980644181370735\n",
      "Train loss: 0.009146841237258202\n",
      "\n",
      "\n"
     ]
    }
   ],
   "source": [
    "print('Alpha: 4')\n",
    "h = (128, 3)\n",
    "training_testing_pipeline_augment(training, testset_valid, holdout_valid, data_description,\n",
    "                                  twotriangular_model, h, device, MVDataset, batch_size=32, tensor_model=True)"
   ]
  },
  {
   "cell_type": "code",
   "execution_count": 7,
   "id": "df8b7c97",
   "metadata": {
    "ExecuteTime": {
     "end_time": "2023-06-05T14:39:50.409250Z",
     "start_time": "2023-06-05T14:39:49.131690Z"
    }
   },
   "outputs": [],
   "source": [
    "h = (128, 3)\n",
    "h1, h2 = h\n",
    "ae = twotriangularAE(data_description['n_items'], data_description['n_ratings'], h1, h2).to(device)"
   ]
  },
  {
   "cell_type": "code",
   "execution_count": 8,
   "id": "93e1aa1c",
   "metadata": {
    "ExecuteTime": {
     "end_time": "2023-06-05T14:40:00.488858Z",
     "start_time": "2023-06-05T14:39:52.841967Z"
    }
   },
   "outputs": [
    {
     "data": {
      "text/plain": [
       "<All keys matched successfully>"
      ]
     },
     "execution_count": 8,
     "metadata": {},
     "output_type": "execute_result"
    }
   ],
   "source": [
    "alpha = 4\n",
    "ae.load_state_dict(torch.load(f'best_ae_{h}_{alpha}.pt'))"
   ]
  },
  {
   "cell_type": "code",
   "execution_count": 13,
   "id": "437d7cb2",
   "metadata": {
    "ExecuteTime": {
     "end_time": "2023-06-05T15:26:42.311716Z",
     "start_time": "2023-06-05T15:26:41.737251Z"
    }
   },
   "outputs": [
    {
     "data": {
      "text/plain": [
       "tensor([[ 7.0242e-01, -2.8116e-01, -2.9087e-01,  4.1497e-01, -7.1503e-01],\n",
       "        [ 1.0079e+00, -3.6235e-01, -4.5215e-01,  6.2842e-01, -1.1122e+00],\n",
       "        [-9.6840e-03,  3.8984e-01,  6.5077e-01, -1.2188e+00,  7.9992e-01],\n",
       "        [-1.6709e-03,  7.6750e-01, -1.0140e+00,  2.7862e+00, -6.5094e+00],\n",
       "        [ 7.9698e-01,  5.8125e-02, -6.5083e-01,  6.3506e-02, -1.9597e-01]],\n",
       "       device='cuda:0', grad_fn=<MmBackward0>)"
      ]
     },
     "execution_count": 13,
     "metadata": {},
     "output_type": "execute_result"
    }
   ],
   "source": [
    "ae.L.weight @ torch.linalg.inv(ae.LTinv.weight).T"
   ]
  },
  {
   "cell_type": "code",
   "execution_count": 10,
   "id": "3e1bf6bd",
   "metadata": {
    "ExecuteTime": {
     "end_time": "2023-06-05T14:40:25.125038Z",
     "start_time": "2023-06-05T14:40:24.434237Z"
    }
   },
   "outputs": [
    {
     "data": {
      "text/plain": [
       "Parameter containing:\n",
       "tensor([[1.4061, 0.0000, 0.0000, 0.0000, 0.0000],\n",
       "        [0.5804, 1.4501, 0.0000, 0.0000, 0.0000],\n",
       "        [1.3272, 1.4914, 1.7634, 0.0000, 0.0000],\n",
       "        [0.2503, 0.4911, 1.4733, 0.9417, 0.0000],\n",
       "        [0.8791, 1.3885, 1.6883, 1.7707, 0.6584]], device='cuda:0',\n",
       "       requires_grad=True)"
      ]
     },
     "execution_count": 10,
     "metadata": {},
     "output_type": "execute_result"
    }
   ],
   "source": [
    "ae.LTinv.weight"
   ]
  },
  {
   "cell_type": "code",
   "execution_count": 33,
   "id": "140284b2",
   "metadata": {
    "ExecuteTime": {
     "end_time": "2023-06-05T15:29:40.529303Z",
     "start_time": "2023-06-05T15:29:39.855965Z"
    }
   },
   "outputs": [],
   "source": [
    "data = pd.DataFrame((ae.L.weight @ torch.linalg.inv(ae.LTinv.weight).T).cpu().detach().numpy())\n",
    "data.columns = np.arange(1,6)\n",
    "data.index = np.arange(1,6)"
   ]
  },
  {
   "cell_type": "code",
   "execution_count": 34,
   "id": "6710feba",
   "metadata": {
    "ExecuteTime": {
     "end_time": "2023-06-05T15:29:41.669888Z",
     "start_time": "2023-06-05T15:29:41.090284Z"
    }
   },
   "outputs": [
    {
     "data": {
      "image/png": "[encoded data removed]",
      "text/plain": [
       "<Figure size 400x400 with 1 Axes>"
      ]
     },
     "metadata": {},
     "output_type": "display_data"
    }
   ],
   "source": [
    "plt.figure(figsize=(4,4))\n",
    "plt.imshow(data, cmap='Blues', norm=None, vmin=-1, vmax=1)\n",
    "for i in range(data.shape[0]):\n",
    "    for j in range(data.shape[1]):\n",
    "        if data.values[i, j] > 0.5:\n",
    "            text = plt.text(j, i, np.round(data.values[i, j], 2),\n",
    "                          ha=\"center\", va=\"center\", color=\"w\")\n",
    "        else:\n",
    "            text = plt.text(j, i, np.round(data.values[i, j], 2),\n",
    "                            ha=\"center\", va=\"center\", color=\"k\")\n",
    "plt.xticks(np.arange(5), labels=np.arange(1,6))\n",
    "plt.yticks(np.arange(5), labels=np.arange(1,6));"
   ]
  },
  {
   "cell_type": "code",
   "execution_count": 35,
   "id": "6c03dee7",
   "metadata": {
    "ExecuteTime": {
     "end_time": "2023-06-05T15:29:43.824657Z",
     "start_time": "2023-06-05T15:29:43.806211Z"
    }
   },
   "outputs": [],
   "source": [
    "data = pd.DataFrame((torch.linalg.inv(ae.LTinv.weight) @ ae.L.weight.T).cpu().detach().numpy())\n",
    "data.columns = np.arange(1,6)\n",
    "data.index = np.arange(1,6)"
   ]
  },
  {
   "cell_type": "code",
   "execution_count": 36,
   "id": "c3ac2966",
   "metadata": {
    "ExecuteTime": {
     "end_time": "2023-06-05T15:29:44.702525Z",
     "start_time": "2023-06-05T15:29:44.135151Z"
    }
   },
   "outputs": [
    {
     "data": {
      "image/png": "[encoded data removed]",
      "text/plain": [
       "<Figure size 400x400 with 1 Axes>"
      ]
     },
     "metadata": {},
     "output_type": "display_data"
    }
   ],
   "source": [
    "plt.figure(figsize=(4,4))\n",
    "plt.imshow(data, cmap='Blues', norm=None, vmin=-1, vmax=1)\n",
    "for i in range(data.shape[0]):\n",
    "    for j in range(data.shape[1]):\n",
    "        if data.values[i, j] > 0.5:\n",
    "            text = plt.text(j, i, np.round(data.values[i, j], 2),\n",
    "                          ha=\"center\", va=\"center\", color=\"w\")\n",
    "        else:\n",
    "            text = plt.text(j, i, np.round(data.values[i, j], 2),\n",
    "                            ha=\"center\", va=\"center\", color=\"k\")\n",
    "plt.xticks(np.arange(5), labels=np.arange(1,6))\n",
    "plt.yticks(np.arange(5), labels=np.arange(1,6));"
   ]
  },
  {
   "cell_type": "code",
   "execution_count": 37,
   "id": "f68e7cec",
   "metadata": {
    "ExecuteTime": {
     "end_time": "2023-06-05T15:29:45.201490Z",
     "start_time": "2023-06-05T15:29:45.168375Z"
    }
   },
   "outputs": [],
   "source": [
    "data = pd.DataFrame((torch.linalg.inv(ae.LTinv.weight) @ torch.linalg.inv(ae.LTinv.weight).T).cpu().detach().numpy())\n",
    "data.columns = np.arange(1,6)\n",
    "data.index = np.arange(1,6)"
   ]
  },
  {
   "cell_type": "code",
   "execution_count": 38,
   "id": "5fdce420",
   "metadata": {
    "ExecuteTime": {
     "end_time": "2023-06-05T15:29:47.491896Z",
     "start_time": "2023-06-05T15:29:46.963147Z"
    }
   },
   "outputs": [
    {
     "data": {
      "image/png": "[encoded data removed]",
      "text/plain": [
       "<Figure size 400x400 with 1 Axes>"
      ]
     },
     "metadata": {},
     "output_type": "display_data"
    }
   ],
   "source": [
    "plt.figure(figsize=(4,4))\n",
    "plt.imshow(data, cmap='Blues', norm=None, vmin=-1, vmax=1)\n",
    "for i in range(data.shape[0]):\n",
    "    for j in range(data.shape[1]):\n",
    "        if data.values[i, j] > 0.5:\n",
    "            text = plt.text(j, i, np.round(data.values[i, j], 2),\n",
    "                          ha=\"center\", va=\"center\", color=\"w\")\n",
    "        else:\n",
    "            text = plt.text(j, i, np.round(data.values[i, j], 2),\n",
    "                            ha=\"center\", va=\"center\", color=\"k\")\n",
    "plt.xticks(np.arange(5), labels=np.arange(1,6))\n",
    "plt.yticks(np.arange(5), labels=np.arange(1,6));"
   ]
  },
  {
   "cell_type": "code",
   "execution_count": 39,
   "id": "dcd4c61a",
   "metadata": {
    "ExecuteTime": {
     "end_time": "2023-06-05T15:29:48.008087Z",
     "start_time": "2023-06-05T15:29:47.982735Z"
    }
   },
   "outputs": [],
   "source": [
    "data = pd.DataFrame((ae.L.weight @ ae.L.weight.T).cpu().detach().numpy())\n",
    "data.columns = np.arange(1,6)\n",
    "data.index = np.arange(1,6)"
   ]
  },
  {
   "cell_type": "code",
   "execution_count": 46,
   "id": "bc190675",
   "metadata": {
    "ExecuteTime": {
     "end_time": "2023-06-02T21:05:32.288055Z",
     "start_time": "2023-06-02T21:05:32.220055Z"
    }
   },
   "outputs": [],
   "source": [
    "data.to_clipboard()"
   ]
  },
  {
   "cell_type": "code",
   "execution_count": 40,
   "id": "46146b3a",
   "metadata": {
    "ExecuteTime": {
     "end_time": "2023-06-05T15:29:49.656815Z",
     "start_time": "2023-06-05T15:29:49.146649Z"
    }
   },
   "outputs": [
    {
     "data": {
      "image/png": "[encoded data removed]",
      "text/plain": [
       "<Figure size 400x400 with 1 Axes>"
      ]
     },
     "metadata": {},
     "output_type": "display_data"
    }
   ],
   "source": [
    "plt.figure(figsize=(4,4))\n",
    "plt.imshow(data, cmap='Blues', norm=None, vmin=-1, vmax=1)\n",
    "for i in range(data.shape[0]):\n",
    "    for j in range(data.shape[1]):\n",
    "        if data.values[i, j] > 0.5:\n",
    "            text = plt.text(j, i, np.round(data.values[i, j], 2),\n",
    "                          ha=\"center\", va=\"center\", color=\"w\")\n",
    "        else:\n",
    "            text = plt.text(j, i, np.round(data.values[i, j], 2),\n",
    "                            ha=\"center\", va=\"center\", color=\"k\")\n",
    "plt.xticks(np.arange(5), labels=np.arange(1,6))\n",
    "plt.yticks(np.arange(5), labels=np.arange(1,6));"
   ]
  },
  {
   "cell_type": "markdown",
   "id": "f299ad73",
   "metadata": {},
   "source": [
    "## 4"
   ]
  },
  {
   "cell_type": "code",
   "execution_count": 41,
   "id": "5795d1e2",
   "metadata": {
    "ExecuteTime": {
     "end_time": "2023-06-05T15:31:20.578219Z",
     "start_time": "2023-06-05T15:31:20.497011Z"
    },
    "code_folding": [
     0,
     5,
     12,
     61
    ]
   },
   "outputs": [],
   "source": [
    "def triu_init(m):\n",
    "    if isinstance(m, nn.Linear):\n",
    "        with torch.no_grad():\n",
    "            m.weight.copy_(torch.tril(m.weight))\n",
    "\n",
    "def get_zero_grad_hook(mask):\n",
    "    def hook(grad):\n",
    "        return grad * mask\n",
    "\n",
    "    return hook\n",
    "\n",
    "# %%\n",
    "class vartriangularAE(nn.Module):\n",
    "    def __init__(self, n_items, n_ratings, hid1, hid2):\n",
    "        super(vartriangularAE, self).__init__()\n",
    "        self.V = nn.Linear(n_items, hid1, bias=False)\n",
    "        torch.nn.init.xavier_uniform_(self.V.weight)\n",
    "        self.VT = nn.Linear(hid1, n_items, bias=False)\n",
    "        torch.nn.init.xavier_uniform_(self.VT.weight)\n",
    "        self.W = nn.Linear(n_ratings, hid2, bias=False)\n",
    "        torch.nn.init.xavier_uniform_(self.W.weight)\n",
    "        self.WT = nn.Linear(hid2, n_ratings, bias=False)\n",
    "        torch.nn.init.xavier_uniform_(self.WT.weight)\n",
    "        self.L = nn.Linear(n_ratings, n_ratings, bias=False)\n",
    "        torch.nn.init.xavier_uniform_(self.L.weight)\n",
    "        triu_init(self.L)\n",
    "        self.LTinv = nn.Linear(n_ratings, n_ratings, bias=False)\n",
    "        torch.nn.init.xavier_uniform_(self.LTinv.weight)\n",
    "        triu_init(self.LTinv)\n",
    "\n",
    "        #         self.norm = nn.LayerNorm(n_ratings)\n",
    "        self.vec = nn.Linear(n_ratings, 1)\n",
    "        torch.nn.init.xavier_uniform_(self.vec.weight)\n",
    "\n",
    "        self.relu = nn.ReLU()\n",
    "\n",
    "    def forward(self, x):\n",
    "        # encode\n",
    "        x = self.L(x)\n",
    "        x = self.relu(x)\n",
    "        x = self.W(x)\n",
    "        x = self.relu(x)\n",
    "        xT = torch.transpose(x, -1, -2)\n",
    "        yT = self.V(xT)\n",
    "        y = torch.transpose(yT, -1, -2)\n",
    "        y = self.relu(y)\n",
    "        # decode\n",
    "        output = self.WT(y)\n",
    "        output = self.relu(output)\n",
    "        output = self.LTinv(output)\n",
    "        output = self.relu(output)\n",
    "        outputT = torch.transpose(output, -1, -2)\n",
    "        outputT = self.VT(outputT)\n",
    "        output = torch.transpose(outputT, -1, -2)\n",
    "\n",
    "        #         output = self.relu(output)\n",
    "        # vec\n",
    "        output = self.vec(output).squeeze(-1)\n",
    "        return output\n",
    "\n",
    "# %%\n",
    "def vartriangular_model(h, data_description, device):\n",
    "    h1, h2 = h\n",
    "    ae = vartriangularAE(data_description['n_items'], data_description['n_ratings'], h1, h2).to(device)\n",
    "    criterion = nn.BCEWithLogitsLoss().to(device)\n",
    "    optimizer = optim.Adam(ae.parameters())\n",
    "    scheduler = optim.lr_scheduler.ExponentialLR(optimizer, gamma=0.95)\n",
    "\n",
    "    mask = torch.tril(torch.ones_like(ae.L.weight))\n",
    "    ae.L.weight.register_hook(get_zero_grad_hook(mask))\n",
    "\n",
    "    mask = torch.tril(torch.ones_like(ae.LTinv.weight))\n",
    "    ae.LTinv.weight.register_hook(get_zero_grad_hook(mask))\n",
    "\n",
    "    return ae, criterion, optimizer, scheduler"
   ]
  },
  {
   "cell_type": "code",
   "execution_count": 14,
   "id": "8d08ddb1",
   "metadata": {
    "ExecuteTime": {
     "end_time": "2023-06-04T19:54:09.629745Z",
     "start_time": "2023-06-04T18:51:00.015915Z"
    }
   },
   "outputs": [
    {
     "name": "stdout",
     "output_type": "stream",
     "text": [
      "Alpha: 4\n",
      "Hidden sizes: (128, 5)\n"
     ]
    },
    {
     "name": "stderr",
     "output_type": "stream",
     "text": [
      "D:\\GitHub\\Thesis_2023\\utils.py:68: RuntimeWarning: invalid value encountered in double_scalars\n",
      "  C = (TP/N - S*P) / np.sqrt(P*S*(1-P)*(1-S))\n"
     ]
    },
    {
     "name": "stdout",
     "output_type": "stream",
     "text": [
      "Current epoch 52\n",
      "Results for alpha=2\n",
      "HR@5:0.005757196495619525, MRR@5: 0.002832707551105549, Coverage@5: 0.007974964667878054, NCDG@5: 0.003557613748752139, HR_pos@5: 0.005757196495619525, HR_neg@5: 0.0, MRR_pos@5: 0.002832707551105549, MRR_neg@5: 0.0, NCDG_pos@5: 0.003557613748752139, NDCG_neg@5: 0.0, Matthews@5: 0.015943538243613265\n",
      "HR@10:0.008260325406758449, MRR@10: 0.0031576176569918747, Coverage@10: 0.012012921461740359, NCDG@10: 0.004357639712611818, HR_pos@10: 0.008260325406758449, HR_neg@10: 0.0, MRR_pos@10: 0.0031576176569918747, MRR_neg@10: 0.0, NCDG_pos@10: 0.004357639712611818, NDCG_neg@10: 0.0, Matthews@10: 0.01912164028819104\n",
      "HR@20:0.014518147684605758, MRR@20: 0.003603323675501746, Coverage@20: 0.01665657177468201, NCDG@20: 0.005953814499865258, HR_pos@20: 0.014518147684605758, HR_neg@20: 0.0, MRR_pos@20: 0.003603323675501746, MRR_neg@20: 0.0, NCDG_pos@20: 0.005953814499865258, NDCG_neg@20: 0.0, Matthews@20: 0.02543060540238734\n",
      "Results for alpha=3\n",
      "HR@5:0.005757196495619525, MRR@5: 0.002832707551105549, Coverage@5: 0.007974964667878054, NCDG@5: 0.003557613748752139, HR_pos@5: 0.005757196495619525, HR_neg@5: 0.0, MRR_pos@5: 0.002832707551105549, MRR_neg@5: 0.0, NCDG_pos@5: 0.003557613748752139, NDCG_neg@5: 0.0, Matthews@5: 0.02335783589583356\n",
      "HR@10:0.008260325406758449, MRR@10: 0.0031576176569918747, Coverage@10: 0.012012921461740359, NCDG@10: 0.004357639712611818, HR_pos@10: 0.008260325406758449, HR_neg@10: 0.0, MRR_pos@10: 0.0031576176569918747, MRR_neg@10: 0.0, NCDG_pos@10: 0.004357639712611818, NDCG_neg@10: 0.0, Matthews@10: 0.028013865497493417\n",
      "HR@20:0.014518147684605758, MRR@20: 0.003603323675501746, Coverage@20: 0.01665657177468201, NCDG@20: 0.005953814499865258, HR_pos@20: 0.014518147684605758, HR_neg@20: 0.0, MRR_pos@20: 0.003603323675501746, MRR_neg@20: 0.0, NCDG_pos@20: 0.005953814499865258, NDCG_neg@20: 0.0, Matthews@20: 0.03725671796588873\n",
      "Results for alpha=4\n",
      "HR@5:0.005757196495619525, MRR@5: 0.002832707551105549, Coverage@5: 0.007974964667878054, NCDG@5: 0.003557613748752139, HR_pos@5: 0.005506883604505632, HR_neg@5: 0.00025031289111389235, MRR_pos@5: 0.002770129328327076, MRR_neg@5: 6.257822277847309e-05, NCDG_pos@5: 0.0034498098543658076, NDCG_neg@5: 0.00010780389438633117, Matthews@5: 0.028316720827918727\n",
      "HR@10:0.008260325406758447, MRR@10: 0.0031576176569918747, Coverage@10: 0.012012921461740359, NCDG@10: 0.004357639712611818, HR_pos@10: 0.008010012515644555, HR_neg@10: 0.00025031289111389235, MRR_pos@10: 0.0030950394342134017, MRR_neg@10: 6.257822277847309e-05, NCDG_pos@10: 0.004249835818225486, NDCG_neg@10: 0.00010780389438633117, Matthews@10: 0.037031016680301475\n",
      "HR@20:0.014518147684605758, MRR@20: 0.003603323675501746, Coverage@20: 0.01665657177468201, NCDG@20: 0.005953814499865258, HR_pos@20: 0.01376720901126408, HR_neg@20: 0.000750938673341677, MRR_pos@20: 0.0034952340179752925, MRR_neg@20: 0.00010808965752645352, NCDG_pos@20: 0.005706364575115406, NDCG_neg@20: 0.00024744992474985054, Matthews@20: 0.04261118261603232\n",
      "Results for alpha=5\n",
      "HR@5:0.005757196495619525, MRR@5: 0.002832707551105549, Coverage@5: 0.007974964667878054, NCDG@5: 0.003557613748752139, HR_pos@5: 0.00425531914893617, HR_neg@5: 0.001501877346683354, MRR_pos@5: 0.0021234876929495205, MRR_neg@5: 0.0007092198581560283, NCDG_pos@5: 0.002650676921896143, NDCG_neg@5: 0.0009069368268559954, Matthews@5: 0.020731425996061054\n",
      "HR@10:0.008260325406758449, MRR@10: 0.0031576176569918747, Coverage@10: 0.012012921461740359, NCDG@10: 0.004357639712611818, HR_pos@10: 0.006508135168961202, HR_neg@10: 0.0017521902377972466, MRR_pos@10: 0.0024126388143910047, MRR_neg@10: 0.0007449788426008701, NCDG_pos@10: 0.003367265255384525, NDCG_neg@10: 0.0009903744572272927, Matthews@10: 0.03396885271629615\n",
      "HR@20:0.014518147684605756, MRR@20: 0.003603323675501746, Coverage@20: 0.01665657177468201, NCDG@20: 0.005953814499865258, HR_pos@20: 0.011264080100125156, HR_neg@20: 0.003254067584480601, MRR_pos@20: 0.0027504691180164, MRR_neg@20: 0.000852854557485346, NCDG_pos@20: 0.004579556541160356, NDCG_neg@20: 0.0013742579587049009, Matthews@20: 0.042191554219300834\n",
      "Results for alpha=6\n",
      "HR@5:0.000750938673341677, MRR@5: 0.000425531914893617, Coverage@5: 0.0030284675953967293, NCDG@5: 0.000505076986434543, HR_pos@5: 0.0, HR_neg@5: 0.000750938673341677, MRR_pos@5: 0.0, MRR_neg@5: 0.000425531914893617, NCDG_pos@5: 0.0, NDCG_neg@5: 0.000505076986434543, Matthews@5: nan\n",
      "HR@10:0.007008760951188986, MRR@10: 0.001246001946878042, Coverage@10: 0.004744599232788209, NCDG@10: 0.0025170941440508126, HR_pos@10: 0.0, HR_neg@10: 0.007008760951188986, MRR_pos@10: 0.0, MRR_neg@10: 0.001246001946878042, NCDG_pos@10: 0.0, NDCG_neg@10: 0.0025170941440508126, Matthews@10: nan\n",
      "HR@20:0.01276595744680851, MRR@20: 0.0016298671827932472, Coverage@20: 0.0072683222289521504, NCDG@20: 0.003953213699171477, HR_pos@20: 0.0, HR_neg@20: 0.01276595744680851, MRR_pos@20: 0.0, MRR_neg@20: 0.0016298671827932472, NCDG_pos@20: 0.0, NDCG_neg@20: 0.003953213699171477, Matthews@20: nan\n",
      "Test loss: 0.14684557914733887\n",
      "Train loss: 0.021013330880955385\n",
      "\n",
      "\n"
     ]
    }
   ],
   "source": [
    "print('Alpha: 4')\n",
    "h = (128, 5)\n",
    "training_testing_pipeline_augment(training, testset_valid, holdout_valid, data_description,\n",
    "                                  vartriangular_model, h, device, MVDataset, batch_size=16, tensor_model=True)"
   ]
  },
  {
   "cell_type": "code",
   "execution_count": 46,
   "id": "2b607fe4",
   "metadata": {
    "ExecuteTime": {
     "end_time": "2023-06-05T15:32:09.059313Z",
     "start_time": "2023-06-05T15:32:08.252407Z"
    }
   },
   "outputs": [],
   "source": [
    "h = (128, 5)\n",
    "h1, h2 = h\n",
    "ae = vartriangularAE(data_description['n_items'], data_description['n_ratings'], h1, h2).to(device)"
   ]
  },
  {
   "cell_type": "code",
   "execution_count": 47,
   "id": "3e3f7235",
   "metadata": {
    "ExecuteTime": {
     "end_time": "2023-06-05T15:32:09.618866Z",
     "start_time": "2023-06-05T15:32:09.543393Z"
    }
   },
   "outputs": [
    {
     "data": {
      "text/plain": [
       "<All keys matched successfully>"
      ]
     },
     "execution_count": 47,
     "metadata": {},
     "output_type": "execute_result"
    }
   ],
   "source": [
    "alpha = 4\n",
    "ae.load_state_dict(torch.load(f'best_ae_{h}_{alpha}.pt'))"
   ]
  },
  {
   "cell_type": "code",
   "execution_count": 48,
   "id": "02e336a2",
   "metadata": {
    "ExecuteTime": {
     "end_time": "2023-06-05T15:32:29.460940Z",
     "start_time": "2023-06-05T15:32:28.768606Z"
    }
   },
   "outputs": [],
   "source": [
    "data = pd.DataFrame((ae.L.weight @ torch.linalg.inv(ae.LTinv.weight).T).cpu().detach().numpy())\n",
    "data.columns = np.arange(1,6)\n",
    "data.index = np.arange(1,6)"
   ]
  },
  {
   "cell_type": "code",
   "execution_count": 49,
   "id": "da1d51d5",
   "metadata": {
    "ExecuteTime": {
     "end_time": "2023-06-05T15:32:30.841288Z",
     "start_time": "2023-06-05T15:32:30.276659Z"
    }
   },
   "outputs": [
    {
     "data": {
      "image/png": "[encoded data removed]",
      "text/plain": [
       "<Figure size 400x400 with 1 Axes>"
      ]
     },
     "metadata": {},
     "output_type": "display_data"
    }
   ],
   "source": [
    "plt.figure(figsize=(4,4))\n",
    "plt.imshow(data, cmap='Blues', norm=None, vmin=-1, vmax=1)\n",
    "for i in range(data.shape[0]):\n",
    "    for j in range(data.shape[1]):\n",
    "        if data.values[i, j] > 0.5:\n",
    "            text = plt.text(j, i, np.round(data.values[i, j], 2),\n",
    "                          ha=\"center\", va=\"center\", color=\"w\")\n",
    "        else:\n",
    "            text = plt.text(j, i, np.round(data.values[i, j], 2),\n",
    "                            ha=\"center\", va=\"center\", color=\"k\")\n",
    "plt.xticks(np.arange(5), labels=np.arange(1,6))\n",
    "plt.yticks(np.arange(5), labels=np.arange(1,6));"
   ]
  },
  {
   "cell_type": "code",
   "execution_count": 50,
   "id": "585c59a9",
   "metadata": {
    "ExecuteTime": {
     "end_time": "2023-06-05T15:32:36.786956Z",
     "start_time": "2023-06-05T15:32:36.766500Z"
    }
   },
   "outputs": [],
   "source": [
    "data = pd.DataFrame((torch.linalg.inv(ae.LTinv.weight) @ ae.L.weight.T).cpu().detach().numpy())\n",
    "data.columns = np.arange(1,6)\n",
    "data.index = np.arange(1,6)"
   ]
  },
  {
   "cell_type": "code",
   "execution_count": 51,
   "id": "7c34d7dd",
   "metadata": {
    "ExecuteTime": {
     "end_time": "2023-06-05T15:32:40.743617Z",
     "start_time": "2023-06-05T15:32:37.843943Z"
    }
   },
   "outputs": [
    {
     "data": {
      "image/png": "[encoded data removed]",
      "text/plain": [
       "<Figure size 400x400 with 1 Axes>"
      ]
     },
     "metadata": {},
     "output_type": "display_data"
    }
   ],
   "source": [
    "plt.figure(figsize=(4,4))\n",
    "plt.imshow(data, cmap='Blues', norm=None, vmin=-1, vmax=1)\n",
    "for i in range(data.shape[0]):\n",
    "    for j in range(data.shape[1]):\n",
    "        if data.values[i, j] > 0.5:\n",
    "            text = plt.text(j, i, np.round(data.values[i, j], 2),\n",
    "                          ha=\"center\", va=\"center\", color=\"w\")\n",
    "        else:\n",
    "            text = plt.text(j, i, np.round(data.values[i, j], 2),\n",
    "                            ha=\"center\", va=\"center\", color=\"k\")\n",
    "plt.xticks(np.arange(5), labels=np.arange(1,6))\n",
    "plt.yticks(np.arange(5), labels=np.arange(1,6));"
   ]
  },
  {
   "cell_type": "code",
   "execution_count": 52,
   "id": "f2aeb797",
   "metadata": {
    "ExecuteTime": {
     "end_time": "2023-06-05T15:32:45.047770Z",
     "start_time": "2023-06-05T15:32:45.023809Z"
    }
   },
   "outputs": [],
   "source": [
    "data = pd.DataFrame((torch.linalg.inv(ae.LTinv.weight) @ torch.linalg.inv(ae.LTinv.weight).T).cpu().detach().numpy())\n",
    "data.columns = np.arange(1,6)\n",
    "data.index = np.arange(1,6)"
   ]
  },
  {
   "cell_type": "code",
   "execution_count": 53,
   "id": "9477a2fa",
   "metadata": {
    "ExecuteTime": {
     "end_time": "2023-06-05T15:32:48.091929Z",
     "start_time": "2023-06-05T15:32:47.446453Z"
    }
   },
   "outputs": [
    {
     "data": {
      "image/png": "[encoded data removed]",
      "text/plain": [
       "<Figure size 400x400 with 1 Axes>"
      ]
     },
     "metadata": {},
     "output_type": "display_data"
    }
   ],
   "source": [
    "plt.figure(figsize=(4,4))\n",
    "plt.imshow(data, cmap='Blues', norm=None, vmin=-1, vmax=1)\n",
    "for i in range(data.shape[0]):\n",
    "    for j in range(data.shape[1]):\n",
    "        if data.values[i, j] > 0.5:\n",
    "            text = plt.text(j, i, np.round(data.values[i, j], 2),\n",
    "                          ha=\"center\", va=\"center\", color=\"w\")\n",
    "        else:\n",
    "            text = plt.text(j, i, np.round(data.values[i, j], 2),\n",
    "                            ha=\"center\", va=\"center\", color=\"k\")\n",
    "plt.xticks(np.arange(5), labels=np.arange(1,6))\n",
    "plt.yticks(np.arange(5), labels=np.arange(1,6));"
   ]
  },
  {
   "cell_type": "code",
   "execution_count": 54,
   "id": "c0113096",
   "metadata": {
    "ExecuteTime": {
     "end_time": "2023-06-05T15:32:56.543754Z",
     "start_time": "2023-06-05T15:32:56.056722Z"
    }
   },
   "outputs": [],
   "source": [
    "data = pd.DataFrame((ae.L.weight @ ae.L.weight.T).cpu().detach().numpy())\n",
    "data.columns = np.arange(1,6)\n",
    "data.index = np.arange(1,6)"
   ]
  },
  {
   "cell_type": "code",
   "execution_count": 23,
   "id": "8348dbb2",
   "metadata": {
    "ExecuteTime": {
     "end_time": "2023-06-04T20:43:48.674288Z",
     "start_time": "2023-06-04T20:43:48.662284Z"
    }
   },
   "outputs": [],
   "source": [
    "data.to_clipboard()"
   ]
  },
  {
   "cell_type": "code",
   "execution_count": 55,
   "id": "067e4036",
   "metadata": {
    "ExecuteTime": {
     "end_time": "2023-06-05T15:32:58.263833Z",
     "start_time": "2023-06-05T15:32:57.570078Z"
    }
   },
   "outputs": [
    {
     "data": {
      "image/png": "[encoded data removed]",
      "text/plain": [
       "<Figure size 400x400 with 1 Axes>"
      ]
     },
     "metadata": {},
     "output_type": "display_data"
    }
   ],
   "source": [
    "plt.figure(figsize=(4,4))\n",
    "plt.imshow(data, cmap='Blues', norm=None)\n",
    "for i in range(data.shape[0]):\n",
    "    for j in range(data.shape[1]):\n",
    "        if data.values[i, j] > 0.5:\n",
    "            text = plt.text(j, i, np.round(data.values[i, j], 2),\n",
    "                          ha=\"center\", va=\"center\", color=\"w\")\n",
    "        else:\n",
    "            text = plt.text(j, i, np.round(data.values[i, j], 2),\n",
    "                            ha=\"center\", va=\"center\", color=\"k\")\n",
    "plt.xticks(np.arange(5), labels=np.arange(1,6))\n",
    "plt.yticks(np.arange(5), labels=np.arange(1,6));"
   ]
  },
  {
   "cell_type": "code",
   "execution_count": 15,
   "id": "ca844aba",
   "metadata": {
    "ExecuteTime": {
     "end_time": "2023-06-04T10:41:28.235760Z",
     "start_time": "2023-06-04T10:41:28.224748Z"
    }
   },
   "outputs": [],
   "source": [
    "def center_and_rescale_score(x, func=None):\n",
    "\n",
    "    if func is None:\n",
    "        func = np.arctan\n",
    "\n",
    "    return func(x - 3)\n",
    "\n",
    "eucl_matrix = np.zeros((5, 5))\n",
    "\n",
    "for i in range(5):\n",
    "    for j in range(5):\n",
    "\n",
    "        k, l = center_and_rescale_score(i + 1), center_and_rescale_score(j + 1)\n",
    "\n",
    "        diff = abs(k - l)\n",
    "\n",
    "        eucl_matrix[i, j] = 1 / (diff + 1)\n",
    "\n",
    "similarity = eucl_matrix"
   ]
  },
  {
   "cell_type": "code",
   "execution_count": 19,
   "id": "1ae3d5bf",
   "metadata": {
    "ExecuteTime": {
     "end_time": "2023-06-04T10:42:12.580399Z",
     "start_time": "2023-06-04T10:42:12.459398Z"
    }
   },
   "outputs": [
    {
     "data": {
      "image/png": "[encoded data removed]",
      "text/plain": [
       "<Figure size 400x400 with 1 Axes>"
      ]
     },
     "metadata": {},
     "output_type": "display_data"
    }
   ],
   "source": [
    "plt.figure(figsize=(4,4))\n",
    "plt.imshow(similarity, cmap='Blues', norm=None, vmin=-1, vmax=1)\n",
    "for i in range(similarity.shape[0]):\n",
    "    for j in range(similarity.shape[1]):\n",
    "        text = plt.text(j, i, np.round(similarity[i, j], 2),\n",
    "                          ha=\"center\", va=\"center\", color=\"w\")\n",
    "plt.xticks(np.arange(5), labels=np.arange(1,6))\n",
    "plt.yticks(np.arange(5), labels=np.arange(1,6));"
   ]
  },
  {
   "cell_type": "markdown",
   "id": "392d9d01",
   "metadata": {},
   "source": [
    "## 5"
   ]
  },
  {
   "cell_type": "code",
   "execution_count": 61,
   "id": "2b97f78b",
   "metadata": {
    "ExecuteTime": {
     "end_time": "2023-06-05T15:50:38.822605Z",
     "start_time": "2023-06-05T15:50:38.754148Z"
    },
    "code_folding": [
     0,
     5,
     12,
     63
    ]
   },
   "outputs": [],
   "source": [
    "def triu_init(m):\n",
    "    if isinstance(m, nn.Linear):\n",
    "        with torch.no_grad():\n",
    "            m.weight.copy_(torch.tril(m.weight))\n",
    "\n",
    "def get_zero_grad_hook(mask):\n",
    "    def hook(grad):\n",
    "        return grad * mask\n",
    "\n",
    "    return hook\n",
    "\n",
    "# %%\n",
    "class varindtriangularAE(nn.Module):\n",
    "    def __init__(self, n_items, n_ratings, hid1, hid2):\n",
    "        super(varindtriangularAE, self).__init__()\n",
    "        self.V = nn.Linear(n_items, hid1, bias=False)\n",
    "        torch.nn.init.xavier_uniform_(self.V.weight)\n",
    "        self.VT = nn.Linear(hid1, n_items, bias=False)\n",
    "        torch.nn.init.xavier_uniform_(self.VT.weight)\n",
    "        self.W = nn.Linear(n_ratings, hid2, bias=False)\n",
    "        torch.nn.init.xavier_uniform_(self.W.weight)\n",
    "        self.WT = nn.Linear(hid2, n_ratings, bias=False)\n",
    "        torch.nn.init.xavier_uniform_(self.WT.weight)\n",
    "        self.L = nn.Linear(n_ratings, n_ratings, bias=False)\n",
    "        torch.nn.init.xavier_uniform_(self.L.weight)\n",
    "        triu_init(self.L)\n",
    "        self.LTinv = nn.Linear(n_ratings, n_ratings, bias=False)\n",
    "        torch.nn.init.xavier_uniform_(self.LTinv.weight)\n",
    "        triu_init(self.LTinv)\n",
    "\n",
    "        #         self.norm = nn.LayerNorm(n_ratings)\n",
    "        self.vec = nn.Linear(n_items, 1)\n",
    "        torch.nn.init.xavier_uniform_(self.vec.weight)\n",
    "\n",
    "        self.relu = nn.ReLU()\n",
    "\n",
    "    def forward(self, input):\n",
    "        # encode\n",
    "        x = self.L(input)\n",
    "        x = self.relu(x)\n",
    "        x = self.W(x)\n",
    "        x = self.relu(x)\n",
    "        xT = torch.transpose(x, -1, -2)\n",
    "        yT = self.V(xT)\n",
    "        y = torch.transpose(yT, -1, -2)\n",
    "        y = self.relu(y)\n",
    "        # decode\n",
    "        output = self.WT(y)\n",
    "        output = self.relu(output)\n",
    "        output = self.LTinv(output)\n",
    "        output = self.relu(output)\n",
    "        outputT = torch.transpose(output, -1, -2)\n",
    "        outputT = self.VT(outputT)\n",
    "        output = torch.transpose(outputT, -1, -2)\n",
    "\n",
    "        #         output = self.relu(output)\n",
    "        # vec\n",
    "        inputT = torch.transpose(input, -1, -2)\n",
    "        rating_layer = self.vec(inputT)\n",
    "        output = torch.matmul(output, rating_layer).squeeze(-1)\n",
    "        return output\n",
    "\n",
    "# %%\n",
    "def varindtriangular_model(h, data_description, device):\n",
    "    h1, h2 = h\n",
    "    ae = varindtriangularAE(data_description['n_items'], data_description['n_ratings'], h1, h2).to(device)\n",
    "    criterion = nn.BCEWithLogitsLoss().to(device)\n",
    "    optimizer = optim.Adam(ae.parameters())\n",
    "    scheduler = optim.lr_scheduler.ExponentialLR(optimizer, gamma=0.95)\n",
    "\n",
    "    mask = torch.tril(torch.ones_like(ae.L.weight))\n",
    "    ae.L.weight.register_hook(get_zero_grad_hook(mask))\n",
    "\n",
    "    mask = torch.tril(torch.ones_like(ae.LTinv.weight))\n",
    "    ae.LTinv.weight.register_hook(get_zero_grad_hook(mask))\n",
    "\n",
    "    return ae, criterion, optimizer, scheduler"
   ]
  },
  {
   "cell_type": "code",
   "execution_count": null,
   "id": "83712a28",
   "metadata": {
    "ExecuteTime": {
     "start_time": "2023-06-05T15:50:55.300Z"
    }
   },
   "outputs": [
    {
     "name": "stdout",
     "output_type": "stream",
     "text": [
      "Alpha: 4\n",
      "Hidden sizes: (16, 4)\n"
     ]
    },
    {
     "name": "stderr",
     "output_type": "stream",
     "text": [
      "D:\\GitHub\\Thesis_2023\\utils.py:68: RuntimeWarning: invalid value encountered in double_scalars\n",
      "  C = (TP/N - S*P) / np.sqrt(P*S*(1-P)*(1-S))\n"
     ]
    }
   ],
   "source": [
    "print('Alpha: 4')\n",
    "h = (16, 4)\n",
    "training_testing_pipeline_augment(training, testset_valid, holdout_valid, data_description,\n",
    "                                  varindtriangular_model, h, device, MVDataset, batch_size=64, tensor_model=True)"
   ]
  },
  {
   "cell_type": "code",
   "execution_count": null,
   "id": "ac3bc726",
   "metadata": {},
   "outputs": [],
   "source": []
  }
 ],
 "metadata": {
  "kernelspec": {
   "display_name": "Python 3 (ipykernel)",
   "language": "python",
   "name": "python3"
  },
  "language_info": {
   "codemirror_mode": {
    "name": "ipython",
    "version": 3
   },
   "file_extension": ".py",
   "mimetype": "text/x-python",
   "name": "python",
   "nbconvert_exporter": "python",
   "pygments_lexer": "ipython3",
   "version": "3.9.13"
  },
  "toc": {
   "base_numbering": 1,
   "nav_menu": {},
   "number_sections": true,
   "sideBar": true,
   "skip_h1_title": false,
   "title_cell": "Table of Contents",
   "title_sidebar": "Contents",
   "toc_cell": false,
   "toc_position": {
    "height": "calc(100% - 180px)",
    "left": "10px",
    "top": "150px",
    "width": "341.306px"
   },
   "toc_section_display": true,
   "toc_window_display": true
  },
  "varInspector": {
   "cols": {
    "lenName": 16,
    "lenType": 16,
    "lenVar": 40
   },
   "kernels_config": {
    "python": {
     "delete_cmd_postfix": "",
     "delete_cmd_prefix": "del ",
     "library": "var_list.py",
     "varRefreshCmd": "print(var_dic_list())"
    },
    "r": {
     "delete_cmd_postfix": ") ",
     "delete_cmd_prefix": "rm(",
     "library": "var_list.r",
     "varRefreshCmd": "cat(var_dic_list()) "
    }
   },
   "types_to_exclude": [
    "module",
    "function",
    "builtin_function_or_method",
    "instance",
    "_Feature"
   ],
   "window_display": false
  }
 },
 "nbformat": 4,
 "nbformat_minor": 5
}
