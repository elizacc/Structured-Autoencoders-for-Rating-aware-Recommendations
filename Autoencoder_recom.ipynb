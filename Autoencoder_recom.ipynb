{
 "cells": [
  {
   "cell_type": "code",
   "execution_count": 239,
   "id": "f16cd3f8",
   "metadata": {
    "ExecuteTime": {
     "end_time": "2023-03-30T18:39:37.184567Z",
     "start_time": "2023-03-30T18:39:37.167567Z"
    }
   },
   "outputs": [],
   "source": [
    "import numpy as np\n",
    "import pandas as pd\n",
    "import matplotlib.pyplot as plt\n",
    "import torch\n",
    "import torch.nn as nn\n",
    "import torch.optim as optim\n",
    "from torch.utils.data import Dataset, DataLoader\n",
    "from torch.nn.utils.parametrizations import orthogonal\n",
    "from torch.nn import functional as F\n",
    "from IPython.display import clear_output\n",
    "from io import BytesIO\n",
    "try:\n",
    "    from pandas.io.common import ZipFile\n",
    "except ImportError:\n",
    "    from zipfile import ZipFile\n",
    "\n",
    "from tqdm.notebook import tqdm\n",
    "\n",
    "from dataprep import transform_indices, full_preproccessing\n",
    "from utils import topn_recommendations, downvote_seen_items, make_prediction"
   ]
  },
  {
   "cell_type": "code",
   "execution_count": 2,
   "id": "c41b93b3",
   "metadata": {
    "ExecuteTime": {
     "end_time": "2023-03-30T11:50:05.277520Z",
     "start_time": "2023-03-30T11:50:05.260516Z"
    }
   },
   "outputs": [],
   "source": [
    "import os    \n",
    "os.environ['KMP_DUPLICATE_LIB_OK'] = 'True'"
   ]
  },
  {
   "cell_type": "code",
   "execution_count": 3,
   "id": "6619edd8",
   "metadata": {
    "ExecuteTime": {
     "end_time": "2023-03-30T11:50:06.009104Z",
     "start_time": "2023-03-30T11:50:06.000085Z"
    },
    "code_folding": [
     0,
     5
    ]
   },
   "outputs": [],
   "source": [
    "# def dcg(tensor: torch.Tensor) -> torch.Tensor:\n",
    "#     gains = (2**tensor) - 1\n",
    "#     return gains / torch.log2(torch.arange(0, tensor.size(-1), dtype=torch.float, device=tensor.device) + 2.0)\n",
    "\n",
    "\n",
    "# def ndcg(output: torch.Tensor, target: torch.Tensor, topk: int) -> torch.Tensor:\n",
    "#     # output, target ~ (users, items)\n",
    "#     # target_sorted_by_output ~ (users, items)\n",
    "#     target_sorted_by_output = prepare_target(output, target)\n",
    "#     ideal_target = prepare_target(target, target)\n",
    "#     # YOUR CODE HERE\n",
    "#     topk = min(topk, output.shape[-1])\n",
    "#     ndcg = dcg(target_sorted_by_output[:, :topk]).sum(dim=1)\n",
    "#     idcg = dcg(ideal_target[:, :topk]).sum(dim=1)\n",
    "#     ndcg[idcg > 0] = ndcg[idcg > 0] / idcg[idcg > 0]\n",
    "    \n",
    "#     return ndcg.mean(dim=0)"
   ]
  },
  {
   "cell_type": "code",
   "execution_count": 4,
   "id": "5e7c2f45",
   "metadata": {
    "ExecuteTime": {
     "end_time": "2023-03-30T11:50:06.306423Z",
     "start_time": "2023-03-30T11:50:06.268422Z"
    },
    "code_folding": [
     0,
     9
    ]
   },
   "outputs": [],
   "source": [
    "def fix_torch_seed(seed, conv_determinism=True):\n",
    "    torch.manual_seed(seed)\n",
    "    torch.cuda.manual_seed_all(seed)\n",
    "    # settings below may affect computational performance\n",
    "    # see https://pytorch.org/docs/stable/notes/randomness.html:\n",
    "    if conv_determinism:\n",
    "        torch.backends.cudnn.benchmark = False\n",
    "        torch.backends.cudnn.deterministic = True\n",
    "\n",
    "def set_random_seed(seed):\n",
    "    torch.cuda.manual_seed(seed)\n",
    "    np.random.seed(seed)\n",
    "    \n",
    "fix_torch_seed(42)\n",
    "set_random_seed(42)"
   ]
  },
  {
   "cell_type": "code",
   "execution_count": 38,
   "id": "6eaacb66",
   "metadata": {
    "ExecuteTime": {
     "end_time": "2023-03-30T12:07:34.573624Z",
     "start_time": "2023-03-30T12:07:34.551627Z"
    },
    "code_folding": []
   },
   "outputs": [],
   "source": [
    "# answer = binary matrix (no ratings)\n",
    "class MVDataset(Dataset):\n",
    "    def __init__(self, data, data_description, augment=False):\n",
    "        useridx = data[data_description['users']].values\n",
    "        itemidx = data[data_description['items']].values\n",
    "        feedbackidx = data[data_description['feedback']].values\n",
    "        values = np.ones(len(itemidx), dtype=np.float32)\n",
    "        \n",
    "        self.tensor = torch.sparse_coo_tensor(np.array([useridx, itemidx, feedbackidx-1]), torch.tensor(values),\n",
    "                                            size=torch.Size((data_description[\"n_users\"], data_description[\"n_items\"], data_description['n_ratings'])))\n",
    "        self.matrix = torch.sparse_coo_tensor(np.array([useridx, itemidx]), torch.tensor(values),\n",
    "                                      size=torch.Size((data_description[\"n_users\"], data_description[\"n_items\"])), dtype=torch.float32)\n",
    "        \n",
    "        self.augment = augment\n",
    "\n",
    "    def __len__(self):\n",
    "        return self.tensor.shape[0]\n",
    "\n",
    "    def __getitem__(self, idx):\n",
    "        if self.augment:\n",
    "            num_noise = np.random.randint(0,10)\n",
    "            idxs = torch.randint(0, self.tensor.shape[0], size=num_noise)\n",
    "            noised_input = self.tensor[idx].detach().clone()\n",
    "            noised_input[idxs] = torch.distributions.bernoulli.Bernoulli(0.5).sample(sample_shape=(num_noise,))\n",
    "            return noised_input, self.matrix[idx]\n",
    "        else:\n",
    "            return self.tensor[idx], self.matrix[idx]"
   ]
  },
  {
   "cell_type": "markdown",
   "id": "2fd76395",
   "metadata": {},
   "source": [
    "## Preprocess data"
   ]
  },
  {
   "cell_type": "code",
   "execution_count": 15,
   "id": "910781c7",
   "metadata": {
    "ExecuteTime": {
     "end_time": "2023-03-30T11:53:15.391300Z",
     "start_time": "2023-03-30T11:53:15.227305Z"
    }
   },
   "outputs": [],
   "source": [
    "data = pd.read_csv('Amazon_Video_Games.csv')\n",
    "data.rename(columns = {'reviewerID' : 'userid', 'asin' : 'movieid', \"overall\" : \"rating\", \"unixReviewTime\" : \"timestamp\"}, inplace = True)"
   ]
  },
  {
   "cell_type": "code",
   "execution_count": 16,
   "id": "5df9d793",
   "metadata": {
    "ExecuteTime": {
     "end_time": "2023-03-30T11:53:17.123911Z",
     "start_time": "2023-03-30T11:53:16.456899Z"
    }
   },
   "outputs": [
    {
     "name": "stdout",
     "output_type": "stream",
     "text": [
      "There are 24303 users\n",
      "Filtered 17693 invalid observations.\n"
     ]
    }
   ],
   "source": [
    "training, testset_valid, holdout_valid, testset, holdout, data_description, data_index = full_preproccessing(data)"
   ]
  },
  {
   "cell_type": "code",
   "execution_count": 17,
   "id": "3ec8553c",
   "metadata": {
    "ExecuteTime": {
     "end_time": "2023-03-30T11:53:19.099240Z",
     "start_time": "2023-03-30T11:53:17.666108Z"
    }
   },
   "outputs": [],
   "source": [
    "device = torch.device('cuda:0' if torch.cuda.is_available() else 'cpu')"
   ]
  },
  {
   "cell_type": "code",
   "execution_count": 18,
   "id": "e62746e1",
   "metadata": {
    "ExecuteTime": {
     "end_time": "2023-03-30T11:53:19.617180Z",
     "start_time": "2023-03-30T11:53:19.610177Z"
    }
   },
   "outputs": [
    {
     "data": {
      "text/plain": [
       "device(type='cuda', index=0)"
      ]
     },
     "execution_count": 18,
     "metadata": {},
     "output_type": "execute_result"
    }
   ],
   "source": [
    "device"
   ]
  },
  {
   "cell_type": "markdown",
   "id": "5989fce5",
   "metadata": {},
   "source": [
    "## Model: triangular matrix"
   ]
  },
  {
   "cell_type": "code",
   "execution_count": 19,
   "id": "6b3e1e1a",
   "metadata": {
    "ExecuteTime": {
     "end_time": "2023-03-30T11:53:21.287284Z",
     "start_time": "2023-03-30T11:53:21.247272Z"
    }
   },
   "outputs": [],
   "source": [
    "train_dataset = MVDataset(training, data_description)\n",
    "train_dataloader = DataLoader(train_dataset, batch_size=16, shuffle=True)"
   ]
  },
  {
   "cell_type": "code",
   "execution_count": 20,
   "id": "c7cb9e0c",
   "metadata": {
    "ExecuteTime": {
     "end_time": "2023-03-30T11:53:21.790152Z",
     "start_time": "2023-03-30T11:53:21.774156Z"
    }
   },
   "outputs": [
    {
     "data": {
      "text/plain": [
       "823"
      ]
     },
     "execution_count": 20,
     "metadata": {},
     "output_type": "execute_result"
    }
   ],
   "source": [
    "len(train_dataloader)"
   ]
  },
  {
   "cell_type": "code",
   "execution_count": 21,
   "id": "4796385a",
   "metadata": {
    "ExecuteTime": {
     "end_time": "2023-03-30T11:53:22.262145Z",
     "start_time": "2023-03-30T11:53:22.255123Z"
    }
   },
   "outputs": [
    {
     "data": {
      "text/plain": [
       "(9906, 5)"
      ]
     },
     "execution_count": 21,
     "metadata": {},
     "output_type": "execute_result"
    }
   ],
   "source": [
    "data_description['n_items'], data_description['n_ratings']"
   ]
  },
  {
   "cell_type": "code",
   "execution_count": 52,
   "id": "c19dfcbf",
   "metadata": {
    "ExecuteTime": {
     "end_time": "2023-03-30T17:23:43.145641Z",
     "start_time": "2023-03-30T17:23:43.134644Z"
    }
   },
   "outputs": [],
   "source": [
    "def triu_init(m):\n",
    "    if isinstance(m, nn.Linear):\n",
    "        with torch.no_grad():\n",
    "            m.weight.copy_(torch.tril(m.weight))\n",
    "            \n",
    "def get_zero_grad_hook(mask):\n",
    "    def hook(grad):\n",
    "        return grad * mask\n",
    "    return hook"
   ]
  },
  {
   "cell_type": "code",
   "execution_count": 53,
   "id": "d667ffe2",
   "metadata": {
    "ExecuteTime": {
     "end_time": "2023-03-30T17:23:43.965655Z",
     "start_time": "2023-03-30T17:23:43.945641Z"
    },
    "code_folding": []
   },
   "outputs": [],
   "source": [
    "class AE(nn.Module):\n",
    "    def __init__(self, n_items, n_ratings, hid1, hid2):\n",
    "        super(AE, self).__init__()\n",
    "        self.V = nn.Linear(n_items, hid1)\n",
    "        torch.nn.init.xavier_uniform_(self.V.weight)\n",
    "        self.W = nn.Linear(n_ratings, hid2)\n",
    "        torch.nn.init.xavier_uniform_(self.W.weight)\n",
    "        self.L = nn.Linear(n_ratings, n_ratings, bias=False)\n",
    "        torch.nn.init.xavier_uniform_(self.L.weight)\n",
    "        triu_init(self.L)\n",
    "        self.norm = nn.LayerNorm(n_ratings)\n",
    "        self.vec = nn.Linear(n_ratings, 1)\n",
    "        torch.nn.init.xavier_uniform_(self.vec.weight)\n",
    "        \n",
    "        self.relu = nn.ReLU()\n",
    "        self.tanh = nn.Tanh()\n",
    "        \n",
    "    def forward(self, x):\n",
    "        # encode\n",
    "        x = self.L(x)\n",
    "        x = self.relu(x)\n",
    "        x = self.W(x)\n",
    "        x = self.relu(x)\n",
    "        xT = torch.transpose(x, -1, -2)\n",
    "        yT = self.V(xT)\n",
    "        y = torch.transpose(yT, -1, -2)\n",
    "        y = self.relu(y)\n",
    "        # decode\n",
    "        output = torch.matmul(y, self.W.weight)\n",
    "        output = self.relu(output)\n",
    "        output = torch.matmul(output, self.L.weight)\n",
    "        output = self.relu(output)\n",
    "        outputT = torch.transpose(output, -1, -2)\n",
    "        outputT = torch.matmul(outputT, self.V.weight)\n",
    "        output = torch.transpose(outputT, -1, -2)\n",
    "#         output = self.relu(output)\n",
    "        # vec\n",
    "        output = self.vec(output).squeeze(-1)\n",
    "        return output"
   ]
  },
  {
   "cell_type": "code",
   "execution_count": 54,
   "id": "2e01e536",
   "metadata": {
    "ExecuteTime": {
     "end_time": "2023-03-30T17:23:44.579641Z",
     "start_time": "2023-03-30T17:23:44.510643Z"
    }
   },
   "outputs": [],
   "source": [
    "fix_torch_seed(42)\n",
    "set_random_seed(42)\n",
    "\n",
    "ae = AE(data_description['n_items'], data_description['n_ratings'], 256, 3).to(device)\n",
    "criterion = nn.BCEWithLogitsLoss().to(device)\n",
    "optimizer = optim.Adam(ae.parameters())\n",
    "scheduler = optim.lr_scheduler.ExponentialLR(optimizer, gamma=0.9)"
   ]
  },
  {
   "cell_type": "code",
   "execution_count": 55,
   "id": "b928046b",
   "metadata": {
    "ExecuteTime": {
     "end_time": "2023-03-30T17:23:45.063660Z",
     "start_time": "2023-03-30T17:23:45.044641Z"
    }
   },
   "outputs": [
    {
     "data": {
      "text/plain": [
       "Parameter containing:\n",
       "tensor([[-0.1739,  0.0000,  0.0000,  0.0000,  0.0000],\n",
       "        [ 0.1754,  0.6074,  0.0000,  0.0000,  0.0000],\n",
       "        [ 0.5197,  0.3342, -0.5307,  0.0000,  0.0000],\n",
       "        [ 0.2015,  0.0073, -0.5652,  0.0950,  0.0000],\n",
       "        [-0.3428,  0.7385,  0.1949,  0.5154, -0.5906]], device='cuda:0',\n",
       "       requires_grad=True)"
      ]
     },
     "execution_count": 55,
     "metadata": {},
     "output_type": "execute_result"
    }
   ],
   "source": [
    "ae.L.weight# @ ae.L.weight"
   ]
  },
  {
   "cell_type": "code",
   "execution_count": 56,
   "id": "d5d52c36",
   "metadata": {
    "ExecuteTime": {
     "end_time": "2023-03-30T17:23:46.966642Z",
     "start_time": "2023-03-30T17:23:46.954643Z"
    }
   },
   "outputs": [
    {
     "data": {
      "text/plain": [
       "<torch.utils.hooks.RemovableHandle at 0x1f0023005e0>"
      ]
     },
     "execution_count": 56,
     "metadata": {},
     "output_type": "execute_result"
    }
   ],
   "source": [
    "mask = torch.triu(torch.ones_like(ae.L.weight)).T\n",
    "# Register with hook\n",
    "ae.L.weight.register_hook(get_zero_grad_hook(mask))"
   ]
  },
  {
   "cell_type": "code",
   "execution_count": 57,
   "id": "fc69a70a",
   "metadata": {
    "ExecuteTime": {
     "end_time": "2023-03-30T17:23:48.773644Z",
     "start_time": "2023-03-30T17:23:48.753642Z"
    }
   },
   "outputs": [
    {
     "data": {
      "text/plain": [
       "2536251"
      ]
     },
     "execution_count": 57,
     "metadata": {},
     "output_type": "execute_result"
    }
   ],
   "source": [
    "sum(p.numel() for p in ae.parameters() if p.requires_grad)"
   ]
  },
  {
   "cell_type": "code",
   "execution_count": 35,
   "id": "b0c68d27",
   "metadata": {
    "ExecuteTime": {
     "end_time": "2023-03-18T10:55:39.505133Z",
     "start_time": "2023-03-18T10:50:07.741762Z"
    },
    "code_folding": [],
    "scrolled": false
   },
   "outputs": [
    {
     "name": "stdout",
     "output_type": "stream",
     "text": [
      "Epoch 20\n"
     ]
    },
    {
     "data": {
      "image/png": "[encoded data removed]",
      "text/plain": [
       "<Figure size 640x480 with 1 Axes>"
      ]
     },
     "metadata": {},
     "output_type": "display_data"
    }
   ],
   "source": [
    "# Training the AE\n",
    "history = []\n",
    "val_history = []\n",
    "\n",
    "prev_train_loss = 1\n",
    "prev_test_loss = 1\n",
    "train_loss = 0.1 * len(train_dataloader)\n",
    "test_loss = 0.1 * testset_valid.userid.nunique()\n",
    "epoch = 1\n",
    "best_valid_loss = float('inf')\n",
    "\n",
    "while prev_test_loss - test_loss / testset_valid.userid.nunique() > 1e-4 or test_loss / testset_valid.userid.nunique() > 0.13:\n",
    "    if epoch > 1:\n",
    "        prev_train_loss = train_loss / len(train_dataloader)\n",
    "        prev_test_loss = test_loss / testset_valid.userid.nunique()\n",
    "    train_loss = 0\n",
    "    for batch in train_dataloader:\n",
    "        optimizer.zero_grad()\n",
    "        \n",
    "        user_tensor, user_matrix = batch\n",
    "        \n",
    "        input_tensor = user_tensor.to_dense().to(device)\n",
    "        target = user_matrix.to_dense().to(device)\n",
    "        \n",
    "        output = ae(input_tensor)\n",
    "        target.require_grad = False # we don't use it in training\n",
    "\n",
    "        loss = criterion(output, target)\n",
    "        loss.backward()\n",
    "        optimizer.step()\n",
    "        train_loss += loss.data.item()\n",
    "    \n",
    "    scheduler.step()\n",
    "    history.append(train_loss / len(train_dataloader))\n",
    "    \n",
    "    test_loss = 0\n",
    "    with torch.no_grad():\n",
    "        for user in testset_valid.userid.unique():\n",
    "            itemidx = testset_valid.loc[testset_valid.userid == user, data_description['items']].values\n",
    "            feedbackidx = testset_valid.loc[testset_valid.userid == user, data_description['feedback']].values\n",
    "            values = np.ones(len(itemidx), dtype=np.float32)\n",
    "\n",
    "            user_tensor_test = torch.sparse_coo_tensor(np.array([itemidx, feedbackidx-1]), torch.tensor(values),\n",
    "                                      size=torch.Size((data_description[\"n_items\"], data_description['n_ratings']))).to_dense().to(device).unsqueeze(0)\n",
    "            target = torch.sparse_coo_tensor(np.array([itemidx]), torch.tensor(values),\n",
    "                                      size=torch.Size((data_description[\"n_items\"], ))).to_dense().to(device).unsqueeze(0)\n",
    "\n",
    "            output = ae(user_tensor_test)\n",
    "            target.require_grad = False\n",
    "\n",
    "            loss = criterion(output, target)\n",
    "            test_loss += loss.data.item()\n",
    "    \n",
    "    valid_loss = test_loss / testset_valid.userid.nunique()\n",
    "    val_history.append(valid_loss)\n",
    "#         print('test loss: '+str(test_loss / testset.userid.nunique()))\n",
    "    \n",
    "    if valid_loss < best_valid_loss:\n",
    "            best_valid_loss = valid_loss\n",
    "            torch.save(ae.state_dict(), 'best-model.pt')\n",
    "    \n",
    "    clear_output()\n",
    "    print('Epoch', epoch)\n",
    "    plt.plot(history, label='train')\n",
    "    plt.plot(val_history, label='val')\n",
    "    plt.legend()\n",
    "    plt.show()\n",
    "    epoch += 1\n",
    "#     print('epoch: '+str(epoch)+' loss: '+str(train_loss / len(train_dataloader)))"
   ]
  },
  {
   "cell_type": "code",
   "execution_count": 58,
   "id": "aafd9d2e",
   "metadata": {
    "ExecuteTime": {
     "end_time": "2023-03-30T17:23:56.397641Z",
     "start_time": "2023-03-30T17:23:56.387641Z"
    }
   },
   "outputs": [
    {
     "data": {
      "text/plain": [
       "Parameter containing:\n",
       "tensor([[-0.1739,  0.0000,  0.0000,  0.0000,  0.0000],\n",
       "        [ 0.1754,  0.6074,  0.0000,  0.0000,  0.0000],\n",
       "        [ 0.5197,  0.3342, -0.5307,  0.0000,  0.0000],\n",
       "        [ 0.2015,  0.0073, -0.5652,  0.0950,  0.0000],\n",
       "        [-0.3428,  0.7385,  0.1949,  0.5154, -0.5906]], device='cuda:0',\n",
       "       requires_grad=True)"
      ]
     },
     "execution_count": 58,
     "metadata": {},
     "output_type": "execute_result"
    }
   ],
   "source": [
    "ae.L.weight"
   ]
  },
  {
   "cell_type": "code",
   "execution_count": 59,
   "id": "80950b37",
   "metadata": {
    "ExecuteTime": {
     "end_time": "2023-03-30T17:23:58.538640Z",
     "start_time": "2023-03-30T17:23:58.525663Z"
    }
   },
   "outputs": [
    {
     "data": {
      "text/plain": [
       "tensor([[ 0.0302, -0.0305, -0.0904, -0.0350,  0.0596],\n",
       "        [-0.0305,  0.3997,  0.2941,  0.0398,  0.3884],\n",
       "        [-0.0904,  0.2941,  0.6634,  0.4070, -0.0348],\n",
       "        [-0.0350,  0.0398,  0.4070,  0.3691, -0.1249],\n",
       "        [ 0.0596,  0.3884, -0.0348, -0.1249,  1.3154]], device='cuda:0',\n",
       "       grad_fn=<MmBackward0>)"
      ]
     },
     "execution_count": 59,
     "metadata": {},
     "output_type": "execute_result"
    }
   ],
   "source": [
    "ae.L.weight @ ae.L.weight.T"
   ]
  },
  {
   "cell_type": "code",
   "execution_count": 38,
   "id": "46fbfe25",
   "metadata": {
    "ExecuteTime": {
     "end_time": "2023-03-18T10:56:22.108415Z",
     "start_time": "2023-03-18T10:56:17.744457Z"
    }
   },
   "outputs": [
    {
     "name": "stdout",
     "output_type": "stream",
     "text": [
      "test loss: 0.12897759667405873\n"
     ]
    }
   ],
   "source": [
    "# Testing the AE\n",
    "test_loss = 0\n",
    "# model = AE(data_description['n_items'], data_description['n_ratings'], 256, 3).to(device)\n",
    "# model.load_state_dict(torch.load('best-model.pt'))\n",
    "\n",
    "scores = torch.zeros((len(testset.userid.unique()), data_description['n_items']))\n",
    "\n",
    "for user in testset.userid.unique():\n",
    "    itemidx = testset.loc[testset.userid == user, data_description['items']].values\n",
    "    feedbackidx = testset.loc[testset.userid == user, data_description['feedback']].values\n",
    "    values = np.ones(len(itemidx), dtype=np.float32)\n",
    "\n",
    "    user_tensor_test = torch.sparse_coo_tensor(np.array([itemidx, feedbackidx-1]), torch.tensor(values),\n",
    "                              size=torch.Size((data_description[\"n_items\"], data_description['n_ratings']))).to_dense().to(device).unsqueeze(0)\n",
    "    target = torch.sparse_coo_tensor(np.array([itemidx]), torch.tensor(values),\n",
    "                              size=torch.Size((data_description[\"n_items\"], ))).to_dense().to(device).unsqueeze(0)\n",
    "    \n",
    "    output = ae(user_tensor_test)\n",
    "    target.require_grad = False\n",
    "    scores[i] = output[0].T\n",
    "\n",
    "    loss = criterion(output, target)\n",
    "    test_loss += loss.data.item()\n",
    "\n",
    "scores = scores.detach().numpy()    \n",
    "print('test loss: '+str(test_loss / testset.userid.nunique()))"
   ]
  },
  {
   "cell_type": "code",
   "execution_count": 40,
   "id": "3e7f534c",
   "metadata": {
    "ExecuteTime": {
     "end_time": "2023-03-18T10:56:31.470434Z",
     "start_time": "2023-03-18T10:56:31.296456Z"
    }
   },
   "outputs": [
    {
     "name": "stdout",
     "output_type": "stream",
     "text": [
      "HR@5 = 0.0092, MRR@5 = 0.0058, Coverage@5 = 0.0203\n",
      "HR_pos@5 = 0.0081, HR_neg@5 = 0.0012\n",
      "MRR_pos@5 = 0.0054, MRR_neg@5 = 0.0004\n",
      "Matthews@5 = 0.0137\n",
      "-------------------------------------\n",
      "HR@10 = 0.0190, MRR@10 = 0.0070, Coverage@10 = 0.0317\n",
      "HR_pos@10 = 0.0178, HR_neg@10 = 0.0012\n",
      "MRR_pos@10 = 0.0066, MRR_neg@10 = 0.0004\n",
      "Matthews@10 = 0.0431\n",
      "-------------------------------------\n",
      "HR@20 = 0.0409, MRR@20 = 0.0085, Coverage@20 = 0.0529\n",
      "HR_pos@20 = 0.0380, HR_neg@20 = 0.0029\n",
      "MRR_pos@20 = 0.0080, MRR_neg@20 = 0.0005\n",
      "Matthews@20 = 0.0587\n",
      "-------------------------------------\n"
     ]
    },
    {
     "data": {
      "text/plain": [
       "(0.007043536632144227, 0.0189873417721519, 0.04310505000932261)"
      ]
     },
     "execution_count": 40,
     "metadata": {},
     "output_type": "execute_result"
    }
   ],
   "source": [
    "# our\n",
    "downvote_seen_items(scores, testset, data_description)\n",
    "make_prediction(scores, holdout, data_description)"
   ]
  },
  {
   "cell_type": "markdown",
   "id": "1c6c934d",
   "metadata": {},
   "source": [
    "### Tuning"
   ]
  },
  {
   "cell_type": "code",
   "execution_count": 14,
   "id": "f8648a43",
   "metadata": {
    "ExecuteTime": {
     "end_time": "2023-03-24T12:43:49.334200Z",
     "start_time": "2023-03-24T12:43:49.326198Z"
    }
   },
   "outputs": [],
   "source": [
    "grid1 = 2**np.arange(9, 11) #2**np.arange(4, 11)\n",
    "grid2 = np.arange(3, 5)\n",
    "grid = np.meshgrid(grid2, grid1)"
   ]
  },
  {
   "cell_type": "code",
   "execution_count": null,
   "id": "59e3b208",
   "metadata": {
    "ExecuteTime": {
     "end_time": "2023-03-24T13:15:44.542515Z",
     "start_time": "2023-03-24T12:43:59.769250Z"
    },
    "scrolled": true
   },
   "outputs": [],
   "source": [
    "params = []\n",
    "histories = []\n",
    "test_losses = []\n",
    "mrrs = []\n",
    "hrs = []\n",
    "cs = []\n",
    "early_stop = 10\n",
    "n_epochs = 1000\n",
    "\n",
    "\n",
    "for h1, h2, in tqdm(zip(grid[1].flatten(), grid[0].flatten()), total=14):\n",
    "    print('Hidden sizes:', h1, h2)\n",
    "    \n",
    "    ae = AE(data_description['n_items'], data_description['n_ratings'], h1, h2).to(device)\n",
    "    criterion = nn.BCEWithLogitsLoss().to(device)\n",
    "    optimizer = optim.Adam(ae.parameters())\n",
    "    scheduler = optim.lr_scheduler.ExponentialLR(optimizer, gamma=0.9)\n",
    "    \n",
    "    mask = torch.triu(torch.ones_like(ae.L.weight)).T\n",
    "#     Register with hook\n",
    "    ae.L.weight.register_hook(get_zero_grad_hook(mask))\n",
    "    \n",
    "    params.append(sum(p.numel() for p in ae.parameters() if p.requires_grad))\n",
    "    \n",
    "    # Training the AE\n",
    "    history = []\n",
    "    val_history = []\n",
    "#     prev_train_loss = []\n",
    "    prev_test_loss = [1000]\n",
    "    train_loss = 0.1 * len(train_dataloader)\n",
    "    epoch = 1\n",
    "    \n",
    "    for epoch in range(n_epochs):\n",
    "        train_loss = 0\n",
    "        for batch in train_dataloader:\n",
    "            optimizer.zero_grad()\n",
    "\n",
    "            user_tensor, user_matrix = batch\n",
    "\n",
    "            input_tensor = user_tensor.to_dense().to(device)\n",
    "            target = user_matrix.to_dense().to(device)\n",
    "\n",
    "            output = ae(input_tensor)\n",
    "            target.require_grad = False # we don't use it in training\n",
    "\n",
    "            loss = criterion(output, target)\n",
    "            loss.backward()\n",
    "            optimizer.step()\n",
    "            train_loss += loss.data.item()\n",
    "\n",
    "        scheduler.step()\n",
    "        history.append(train_loss / len(train_dataloader))\n",
    "\n",
    "        test_loss = 0\n",
    "        with torch.no_grad():\n",
    "            for user in testset_valid.userid.unique():\n",
    "                itemidx = testset_valid.loc[testset_valid.userid == user, data_description['items']].values\n",
    "                feedbackidx = testset_valid.loc[testset_valid.userid == user, data_description['feedback']].values\n",
    "                values = np.ones(len(itemidx), dtype=np.float32)\n",
    "\n",
    "                user_tensor_test = torch.sparse_coo_tensor(np.array([itemidx, feedbackidx-1]), torch.tensor(values),\n",
    "                                          size=torch.Size((data_description[\"n_items\"], data_description['n_ratings']))).to_dense().to(device).unsqueeze(0)\n",
    "                target = torch.sparse_coo_tensor(np.array([itemidx]), torch.tensor(values),\n",
    "                                          size=torch.Size((data_description[\"n_items\"], ))).to_dense().to(device).unsqueeze(0)\n",
    "\n",
    "                output = ae(user_tensor_test)\n",
    "                target.require_grad = False\n",
    "\n",
    "                loss = criterion(output, target)\n",
    "                test_loss += loss.data.item()\n",
    "        val_loss = test_loss / testset.userid.nunique()\n",
    "        val_history.append(val_loss)\n",
    "\n",
    "        if prev_test_loss[-1] > val_loss:\n",
    "            prev_test_loss = [val_loss]\n",
    "            torch.save(bae.state_dict(), f'best_ae_{h}.pt')\n",
    "        else:\n",
    "            prev_test_loss.append(val_loss)\n",
    "        \n",
    "        stop = epoch if epoch < early_stop else epoch-early_stop\n",
    "        if len(prev_test_loss) == early_stop:\n",
    "            print(f'Current epoch {epoch}. Best model found at epoch {stop}')\n",
    "            break\n",
    "            \n",
    "        epoch += 1\n",
    "    \n",
    "    # Testing the AE\n",
    "    test_loss = 0\n",
    "    scores = torch.zeros((len(testset_valid.userid.unique()), data_description['n_items']))\n",
    "    model = AE(data_description['n_items'], h).to(device)\n",
    "    model.load_state_dict(torch.load(f'best_ae_{h}.pt'))\n",
    "\n",
    "    for i, user in enumerate(testset_valid.userid.unique()):\n",
    "        itemidx = testset_valid.loc[testset_valid.userid == user, data_description['items']].values\n",
    "        feedbackidx = testset_valid.loc[testset_valid.userid == user, data_description['feedback']].values\n",
    "        values = np.ones(len(itemidx), dtype=np.float32)\n",
    "\n",
    "        user_tensor_test = torch.sparse_coo_tensor(np.array([itemidx, feedbackidx-1]), torch.tensor(values),\n",
    "                                  size=torch.Size((data_description[\"n_items\"], data_description['n_ratings']))).to_dense().to(device).unsqueeze(0)\n",
    "        target = torch.sparse_coo_tensor(np.array([itemidx]), torch.tensor(values),\n",
    "                                  size=torch.Size((data_description[\"n_items\"], ))).to_dense().to(device).unsqueeze(0)\n",
    "\n",
    "        output = ae(user_tensor_test)\n",
    "        scores[i] = output[0].T\n",
    "        target.require_grad = False\n",
    "\n",
    "        loss = criterion(output, target)\n",
    "        test_loss += loss.data.item()\n",
    "    \n",
    "    test_losses.append(test_loss / testset_valid.userid.nunique())        \n",
    "    scores = scores.detach().numpy()\n",
    "    \n",
    "    # our\n",
    "    plt.plot(history, label='train')\n",
    "    plt.plot(val_history, label='val')\n",
    "    plt.legend()\n",
    "    plt.show()\n",
    "    print('Test loss:', val_history[-min(early_stop, epoch)])\n",
    "    print('Train loss:', history[-min(early_stop, epoch)])\n",
    "    print('Epochs:', stop)\n",
    "    downvote_seen_items(scores, testset_valid, data_description)\n",
    "    mrr10, hr10, c10 = make_prediction(scores, holdout_valid, data_description)\n",
    "    mrrs.append(mrr10)\n",
    "    hrs.append(hr10)\n",
    "    cs.append(c10)\n",
    "    \n",
    "    print()\n",
    "    print()"
   ]
  },
  {
   "cell_type": "markdown",
   "id": "a1d4a4c2",
   "metadata": {},
   "source": [
    "## Model: triangular banded matrix"
   ]
  },
  {
   "cell_type": "code",
   "execution_count": 78,
   "id": "7a47036a",
   "metadata": {
    "ExecuteTime": {
     "end_time": "2023-03-30T17:38:06.722907Z",
     "start_time": "2023-03-30T17:38:06.703904Z"
    }
   },
   "outputs": [],
   "source": [
    "train_dataset = MVDataset(training, data_description)\n",
    "train_dataloader = DataLoader(train_dataset, batch_size=16, shuffle=True)"
   ]
  },
  {
   "cell_type": "code",
   "execution_count": 79,
   "id": "6b33cc7a",
   "metadata": {
    "ExecuteTime": {
     "end_time": "2023-03-30T17:38:07.145903Z",
     "start_time": "2023-03-30T17:38:07.136904Z"
    }
   },
   "outputs": [
    {
     "data": {
      "text/plain": [
       "823"
      ]
     },
     "execution_count": 79,
     "metadata": {},
     "output_type": "execute_result"
    }
   ],
   "source": [
    "len(train_dataloader)"
   ]
  },
  {
   "cell_type": "code",
   "execution_count": 80,
   "id": "1ac10477",
   "metadata": {
    "ExecuteTime": {
     "end_time": "2023-03-30T17:38:07.582905Z",
     "start_time": "2023-03-30T17:38:07.568907Z"
    }
   },
   "outputs": [
    {
     "data": {
      "text/plain": [
       "(9906, 5)"
      ]
     },
     "execution_count": 80,
     "metadata": {},
     "output_type": "execute_result"
    }
   ],
   "source": [
    "data_description['n_items'], data_description['n_ratings']"
   ]
  },
  {
   "cell_type": "code",
   "execution_count": 274,
   "id": "9ccf964c",
   "metadata": {
    "ExecuteTime": {
     "end_time": "2023-03-30T18:48:28.147757Z",
     "start_time": "2023-03-30T18:48:28.135758Z"
    }
   },
   "outputs": [],
   "source": [
    "def get_zero_grad_hook(mask):\n",
    "    def hook(grad):\n",
    "        return grad * mask\n",
    "    return hook"
   ]
  },
  {
   "cell_type": "code",
   "execution_count": 276,
   "id": "cc767312",
   "metadata": {
    "ExecuteTime": {
     "end_time": "2023-03-30T18:48:41.720759Z",
     "start_time": "2023-03-30T18:48:41.697755Z"
    },
    "code_folding": [
     0
    ]
   },
   "outputs": [],
   "source": [
    "class bandedLinear(nn.Module):\n",
    "    def __init__(self, num_features, bias: bool = True, device=None, dtype=None):\n",
    "        factory_kwargs = {'device': device, 'dtype': dtype}\n",
    "        self.device = device\n",
    "        super().__init__()\n",
    "        self.num_features = num_features\n",
    "        self.weight = nn.Parameter(torch.empty((num_features,1), **factory_kwargs))\n",
    "        if bias:\n",
    "            self.bias = nn.Parameter(torch.empty(num_features, **factory_kwargs))\n",
    "        else:\n",
    "            self.register_parameter('bias', None)\n",
    "        self.reset_parameters()\n",
    "\n",
    "    def reset_parameters(self):\n",
    "        nn.init.kaiming_uniform_(self.weight, a=np.sqrt(5))\n",
    "        if self.bias is not None:\n",
    "            fan_in, _ = nn.init._calculate_fan_in_and_fan_out(self.weight)\n",
    "            bound = 1 / np.sqrt(fan_in) if fan_in > 0 else 0\n",
    "            nn.init.uniform_(self.bias, -bound, bound)\n",
    "\n",
    "    def forward(self, input):\n",
    "        M = torch.zeros((self.num_features, self.num_features), device=self.weight.device)\n",
    "        for i in range(self.num_features):\n",
    "            d = torch.ones(self.num_features-i, device=self.weight.device) * self.weight[i]\n",
    "            M = M + torch.diag(d, diagonal=-i)\n",
    "        return F.linear(input, M, self.bias)\n",
    "\n",
    "    def extra_repr(self):\n",
    "        return 'num_features={}, bias={}'.format(\n",
    "            self.num_features, self.bias is not None\n",
    "        )"
   ]
  },
  {
   "cell_type": "code",
   "execution_count": 277,
   "id": "b71a80b1",
   "metadata": {
    "ExecuteTime": {
     "end_time": "2023-03-30T18:48:43.114757Z",
     "start_time": "2023-03-30T18:48:43.086759Z"
    },
    "code_folding": []
   },
   "outputs": [],
   "source": [
    "class AE(nn.Module):\n",
    "    def __init__(self, n_items, n_ratings, hid1, hid2):\n",
    "        super(AE, self).__init__()\n",
    "        self.V = nn.Linear(n_items, hid1)\n",
    "        torch.nn.init.xavier_uniform_(self.V.weight)\n",
    "        self.W = nn.Linear(n_ratings, hid2)\n",
    "        torch.nn.init.xavier_uniform_(self.W.weight)\n",
    "        self.L = bandedLinear(n_ratings, bias=False)\n",
    "        torch.nn.init.xavier_uniform_(self.L.weight)\n",
    "        self.norm = nn.LayerNorm(n_ratings)\n",
    "        self.vec = nn.Linear(n_ratings, 1)\n",
    "        torch.nn.init.xavier_uniform_(self.vec.weight)\n",
    "        \n",
    "        self.relu = nn.ReLU()\n",
    "        self.tanh = nn.Tanh()\n",
    "        \n",
    "    def forward(self, x):\n",
    "        # encode\n",
    "        x = self.L(x)\n",
    "#         x = self.norm(x)\n",
    "        x = self.relu(x)\n",
    "        x = self.W(x)\n",
    "        x = self.relu(x)\n",
    "        xT = torch.transpose(x, -1, -2)\n",
    "        yT = self.V(xT)\n",
    "        y = torch.transpose(yT, -1, -2)\n",
    "        y = self.relu(y)\n",
    "        # decode\n",
    "        output = torch.matmul(y, self.W.weight)\n",
    "        output = self.relu(output)\n",
    "        \n",
    "        M = torch.zeros((self.L.weight.shape[0], self.L.weight.shape[0]), device=self.L.weight.device)\n",
    "        for i in range(self.L.weight.shape[0]):\n",
    "            d = torch.ones(self.L.weight.shape[0]-i, device=self.L.weight.device) * self.L.weight[i]\n",
    "            M = M + torch.diag(d, diagonal=-i)\n",
    "            \n",
    "        output = torch.matmul(output, M)\n",
    "#         output = self.norm(output)\n",
    "        output = self.relu(output)\n",
    "        outputT = torch.transpose(output, -1, -2)\n",
    "        outputT = torch.matmul(outputT, self.V.weight)\n",
    "        output = torch.transpose(outputT, -1, -2)\n",
    "#         output = self.relu(output)\n",
    "        # vec\n",
    "        output = self.vec(output).squeeze(-1)\n",
    "        return output"
   ]
  },
  {
   "cell_type": "code",
   "execution_count": 278,
   "id": "866cfb07",
   "metadata": {
    "ExecuteTime": {
     "end_time": "2023-03-30T18:48:43.909757Z",
     "start_time": "2023-03-30T18:48:43.843758Z"
    }
   },
   "outputs": [],
   "source": [
    "fix_torch_seed(42)\n",
    "set_random_seed(42)\n",
    "\n",
    "ae = AE(data_description['n_items'], data_description['n_ratings'], 256, 3).to(device)\n",
    "criterion = nn.BCEWithLogitsLoss().to(device)\n",
    "optimizer = optim.Adam(ae.parameters())\n",
    "scheduler = optim.lr_scheduler.ExponentialLR(optimizer, gamma=0.9)"
   ]
  },
  {
   "cell_type": "code",
   "execution_count": 279,
   "id": "2f0f6a59",
   "metadata": {
    "ExecuteTime": {
     "end_time": "2023-03-30T18:48:44.524757Z",
     "start_time": "2023-03-30T18:48:44.498760Z"
    }
   },
   "outputs": [
    {
     "data": {
      "text/plain": [
       "tensor([[-0.8092,  0.0000,  0.0000,  0.0000,  0.0000],\n",
       "        [ 0.3950, -0.8092,  0.0000,  0.0000,  0.0000],\n",
       "        [-0.4151,  0.3950, -0.8092,  0.0000,  0.0000],\n",
       "        [-0.3274, -0.4151,  0.3950, -0.8092,  0.0000],\n",
       "        [-0.4320, -0.3274, -0.4151,  0.3950, -0.8092]], device='cuda:0',\n",
       "       grad_fn=<AddBackward0>)"
      ]
     },
     "execution_count": 279,
     "metadata": {},
     "output_type": "execute_result"
    }
   ],
   "source": [
    "M = torch.zeros((data_description['n_ratings'], data_description['n_ratings']), device=ae.L.weight.device)\n",
    "for i in range(data_description['n_ratings']):\n",
    "    d = torch.ones(data_description['n_ratings']-i, device=ae.L.weight.device) * ae.L.weight[i]\n",
    "    M = M + torch.diag(d, diagonal=-i)\n",
    "M"
   ]
  },
  {
   "cell_type": "code",
   "execution_count": 280,
   "id": "9481e420",
   "metadata": {
    "ExecuteTime": {
     "end_time": "2023-03-30T18:48:45.833756Z",
     "start_time": "2023-03-30T18:48:45.811757Z"
    }
   },
   "outputs": [
    {
     "data": {
      "text/plain": [
       "tensor([[ 0.6548, -0.3196,  0.3359,  0.2650,  0.3496],\n",
       "        [-0.3196,  0.8108, -0.4835,  0.2066,  0.0943],\n",
       "        [ 0.3359, -0.4835,  0.9831, -0.3476,  0.3859],\n",
       "        [ 0.2650,  0.2066, -0.3476,  1.0903, -0.2062],\n",
       "        [ 0.3496,  0.0943,  0.3859, -0.2062,  1.2769]], device='cuda:0',\n",
       "       grad_fn=<MmBackward0>)"
      ]
     },
     "execution_count": 280,
     "metadata": {},
     "output_type": "execute_result"
    }
   ],
   "source": [
    "M @ M.T"
   ]
  },
  {
   "cell_type": "code",
   "execution_count": 266,
   "id": "d345976c",
   "metadata": {
    "ExecuteTime": {
     "end_time": "2023-03-30T18:45:16.593567Z",
     "start_time": "2023-03-30T18:45:16.580567Z"
    }
   },
   "outputs": [],
   "source": [
    "# mask = torch.triu(torch.ones_like(ae.L.weight))\n",
    "# # Register with hook\n",
    "# ae.L.weight.register_hook(get_zero_grad_hook(mask))"
   ]
  },
  {
   "cell_type": "code",
   "execution_count": 281,
   "id": "9f3fa272",
   "metadata": {
    "ExecuteTime": {
     "end_time": "2023-03-30T18:48:48.718756Z",
     "start_time": "2023-03-30T18:48:48.697759Z"
    }
   },
   "outputs": [
    {
     "data": {
      "text/plain": [
       "2536231"
      ]
     },
     "execution_count": 281,
     "metadata": {},
     "output_type": "execute_result"
    }
   ],
   "source": [
    "sum(p.numel() for p in ae.parameters() if p.requires_grad)"
   ]
  },
  {
   "cell_type": "code",
   "execution_count": 282,
   "id": "9fa1e023",
   "metadata": {
    "ExecuteTime": {
     "end_time": "2023-03-30T18:51:03.639756Z",
     "start_time": "2023-03-30T18:48:50.656757Z"
    },
    "code_folding": [
     11
    ],
    "scrolled": false
   },
   "outputs": [
    {
     "name": "stdout",
     "output_type": "stream",
     "text": [
      "Epoch 3\n"
     ]
    },
    {
     "data": {
      "image/png": "[encoded data removed]",
      "text/plain": [
       "<Figure size 640x480 with 1 Axes>"
      ]
     },
     "metadata": {},
     "output_type": "display_data"
    }
   ],
   "source": [
    "# Training the AE\n",
    "history = []\n",
    "val_history = []\n",
    "\n",
    "prev_train_loss = 1\n",
    "prev_test_loss = 1\n",
    "train_loss = 0.1 * len(train_dataloader)\n",
    "test_loss = 0.1 * testset_valid.userid.nunique()\n",
    "epoch = 1\n",
    "best_valid_loss = float('inf')\n",
    "\n",
    "while prev_test_loss - test_loss / testset_valid.userid.nunique() > 1e-4 or test_loss / testset_valid.userid.nunique() > 0.13:\n",
    "    if epoch > 1:\n",
    "        prev_train_loss = train_loss / len(train_dataloader)\n",
    "        prev_test_loss = test_loss / testset_valid.userid.nunique()\n",
    "    train_loss = 0\n",
    "    for batch in train_dataloader:\n",
    "        optimizer.zero_grad()\n",
    "        \n",
    "        user_tensor, user_matrix = batch\n",
    "        \n",
    "        input_tensor = user_tensor.to_dense().to(device)\n",
    "        target = user_matrix.to_dense().to(device)\n",
    "        \n",
    "        output = ae(input_tensor)\n",
    "        target.require_grad = False # we don't use it in training\n",
    "\n",
    "        loss = criterion(output, target)\n",
    "        loss.backward()\n",
    "        optimizer.step()\n",
    "        train_loss += loss.data.item()\n",
    "    \n",
    "    scheduler.step()\n",
    "    history.append(train_loss / len(train_dataloader))\n",
    "    \n",
    "    test_loss = 0\n",
    "    with torch.no_grad():\n",
    "        for user in testset_valid.userid.unique():\n",
    "            itemidx = testset_valid.loc[testset_valid.userid == user, data_description['items']].values\n",
    "            feedbackidx = testset_valid.loc[testset_valid.userid == user, data_description['feedback']].values\n",
    "            values = np.ones(len(itemidx), dtype=np.float32)\n",
    "\n",
    "            user_tensor_test = torch.sparse_coo_tensor(np.array([itemidx, feedbackidx-1]), torch.tensor(values),\n",
    "                                      size=torch.Size((data_description[\"n_items\"], data_description['n_ratings']))).to_dense().to(device).unsqueeze(0)\n",
    "            target = torch.sparse_coo_tensor(np.array([itemidx]), torch.tensor(values),\n",
    "                                      size=torch.Size((data_description[\"n_items\"], ))).to_dense().to(device).unsqueeze(0)\n",
    "\n",
    "            output = ae(user_tensor_test)\n",
    "            target.require_grad = False\n",
    "\n",
    "            loss = criterion(output, target)\n",
    "            test_loss += loss.data.item()\n",
    "    \n",
    "    valid_loss = test_loss / testset_valid.userid.nunique()\n",
    "    val_history.append(valid_loss)\n",
    "#         print('test loss: '+str(test_loss / testset.userid.nunique()))\n",
    "    \n",
    "    if valid_loss < best_valid_loss:\n",
    "            best_valid_loss = valid_loss\n",
    "            torch.save(ae.state_dict(), 'best-model.pt')\n",
    "    \n",
    "    clear_output()\n",
    "    print('Epoch', epoch)\n",
    "    plt.plot(history, label='train')\n",
    "    plt.plot(val_history, label='val')\n",
    "    plt.legend()\n",
    "    plt.show()\n",
    "    epoch += 1\n",
    "#     print('epoch: '+str(epoch)+' loss: '+str(train_loss / len(train_dataloader)))"
   ]
  },
  {
   "cell_type": "code",
   "execution_count": 283,
   "id": "cb8ee236",
   "metadata": {
    "ExecuteTime": {
     "end_time": "2023-03-30T18:51:09.647382Z",
     "start_time": "2023-03-30T18:51:09.630382Z"
    }
   },
   "outputs": [
    {
     "data": {
      "text/plain": [
       "tensor([[-0.7077,  0.0000,  0.0000,  0.0000,  0.0000],\n",
       "        [ 0.6534, -0.7077,  0.0000,  0.0000,  0.0000],\n",
       "        [-0.4972,  0.6534, -0.7077,  0.0000,  0.0000],\n",
       "        [-0.3763, -0.4972,  0.6534, -0.7077,  0.0000],\n",
       "        [-0.5481, -0.3763, -0.4972,  0.6534, -0.7077]], device='cuda:0',\n",
       "       grad_fn=<AddBackward0>)"
      ]
     },
     "execution_count": 283,
     "metadata": {},
     "output_type": "execute_result"
    }
   ],
   "source": [
    "M = torch.zeros((data_description['n_ratings'], data_description['n_ratings']), device=ae.L.weight.device)\n",
    "for i in range(data_description['n_ratings']):\n",
    "    d = torch.ones(data_description['n_ratings']-i, device=ae.L.weight.device) * ae.L.weight[i]\n",
    "    M = M + torch.diag(d, diagonal=-i)\n",
    "M"
   ]
  },
  {
   "cell_type": "code",
   "execution_count": 284,
   "id": "4a0d6695",
   "metadata": {
    "ExecuteTime": {
     "end_time": "2023-03-30T18:51:11.558994Z",
     "start_time": "2023-03-30T18:51:11.535930Z"
    }
   },
   "outputs": [
    {
     "data": {
      "text/plain": [
       "tensor([[ 0.5008, -0.4624,  0.3519,  0.2663,  0.3879],\n",
       "        [-0.4624,  0.9277, -0.7873,  0.1060, -0.0918],\n",
       "        [ 0.3519, -0.7873,  1.1750, -0.6002,  0.3785],\n",
       "        [ 0.2663,  0.1060, -0.6002,  1.3166, -0.3939],\n",
       "        [ 0.3879, -0.0918,  0.3785, -0.3939,  1.6170]], device='cuda:0',\n",
       "       grad_fn=<MmBackward0>)"
      ]
     },
     "execution_count": 284,
     "metadata": {},
     "output_type": "execute_result"
    }
   ],
   "source": [
    "M @ M.T"
   ]
  },
  {
   "cell_type": "code",
   "execution_count": 285,
   "id": "70f28e67",
   "metadata": {
    "ExecuteTime": {
     "end_time": "2023-03-30T18:51:36.111434Z",
     "start_time": "2023-03-30T18:51:16.386438Z"
    }
   },
   "outputs": [
    {
     "name": "stderr",
     "output_type": "stream",
     "text": [
      "C:\\Users\\Liza\\AppData\\Local\\Temp\\ipykernel_9448\\3144881825.py:20: UserWarning: The use of `x.T` on tensors of dimension other than 2 to reverse their shape is deprecated and it will throw an error in a future release. Consider `x.mT` to transpose batches of matrices or `x.permute(*torch.arange(x.ndim - 1, -1, -1))` to reverse the dimensions of a tensor. (Triggered internally at C:\\cb\\pytorch_1000000000000\\work\\aten\\src\\ATen\\native\\TensorShape.cpp:3575.)\n",
      "  scores[i] = output[0].T\n"
     ]
    },
    {
     "ename": "OutOfMemoryError",
     "evalue": "CUDA out of memory. Tried to allocate 2.00 MiB (GPU 0; 4.00 GiB total capacity; 3.00 GiB already allocated; 0 bytes free; 3.46 GiB reserved in total by PyTorch) If reserved memory is >> allocated memory try setting max_split_size_mb to avoid fragmentation.  See documentation for Memory Management and PYTORCH_CUDA_ALLOC_CONF",
     "output_type": "error",
     "traceback": [
      "\u001b[1;31m---------------------------------------------------------------------------\u001b[0m",
      "\u001b[1;31mOutOfMemoryError\u001b[0m                          Traceback (most recent call last)",
      "\u001b[1;32m~\\AppData\\Local\\Temp\\ipykernel_9448\\3144881825.py\u001b[0m in \u001b[0;36m<module>\u001b[1;34m\u001b[0m\n\u001b[0;32m     16\u001b[0m                               size=torch.Size((data_description[\"n_items\"], ))).to_dense().to(device).unsqueeze(0)\n\u001b[0;32m     17\u001b[0m \u001b[1;33m\u001b[0m\u001b[0m\n\u001b[1;32m---> 18\u001b[1;33m     \u001b[0moutput\u001b[0m \u001b[1;33m=\u001b[0m \u001b[0mae\u001b[0m\u001b[1;33m(\u001b[0m\u001b[0muser_tensor_test\u001b[0m\u001b[1;33m)\u001b[0m\u001b[1;33m\u001b[0m\u001b[1;33m\u001b[0m\u001b[0m\n\u001b[0m\u001b[0;32m     19\u001b[0m     \u001b[0mtarget\u001b[0m\u001b[1;33m.\u001b[0m\u001b[0mrequire_grad\u001b[0m \u001b[1;33m=\u001b[0m \u001b[1;32mFalse\u001b[0m\u001b[1;33m\u001b[0m\u001b[1;33m\u001b[0m\u001b[0m\n\u001b[0;32m     20\u001b[0m     \u001b[0mscores\u001b[0m\u001b[1;33m[\u001b[0m\u001b[0mi\u001b[0m\u001b[1;33m]\u001b[0m \u001b[1;33m=\u001b[0m \u001b[0moutput\u001b[0m\u001b[1;33m[\u001b[0m\u001b[1;36m0\u001b[0m\u001b[1;33m]\u001b[0m\u001b[1;33m.\u001b[0m\u001b[0mT\u001b[0m\u001b[1;33m\u001b[0m\u001b[1;33m\u001b[0m\u001b[0m\n",
      "\u001b[1;32m~\\anaconda3\\lib\\site-packages\\torch\\nn\\modules\\module.py\u001b[0m in \u001b[0;36m_call_impl\u001b[1;34m(self, *args, **kwargs)\u001b[0m\n\u001b[0;32m   1499\u001b[0m                 \u001b[1;32mor\u001b[0m \u001b[0m_global_backward_pre_hooks\u001b[0m \u001b[1;32mor\u001b[0m \u001b[0m_global_backward_hooks\u001b[0m\u001b[1;33m\u001b[0m\u001b[1;33m\u001b[0m\u001b[0m\n\u001b[0;32m   1500\u001b[0m                 or _global_forward_hooks or _global_forward_pre_hooks):\n\u001b[1;32m-> 1501\u001b[1;33m             \u001b[1;32mreturn\u001b[0m \u001b[0mforward_call\u001b[0m\u001b[1;33m(\u001b[0m\u001b[1;33m*\u001b[0m\u001b[0margs\u001b[0m\u001b[1;33m,\u001b[0m \u001b[1;33m**\u001b[0m\u001b[0mkwargs\u001b[0m\u001b[1;33m)\u001b[0m\u001b[1;33m\u001b[0m\u001b[1;33m\u001b[0m\u001b[0m\n\u001b[0m\u001b[0;32m   1502\u001b[0m         \u001b[1;31m# Do not call functions when jit is used\u001b[0m\u001b[1;33m\u001b[0m\u001b[1;33m\u001b[0m\u001b[0m\n\u001b[0;32m   1503\u001b[0m         \u001b[0mfull_backward_hooks\u001b[0m\u001b[1;33m,\u001b[0m \u001b[0mnon_full_backward_hooks\u001b[0m \u001b[1;33m=\u001b[0m \u001b[1;33m[\u001b[0m\u001b[1;33m]\u001b[0m\u001b[1;33m,\u001b[0m \u001b[1;33m[\u001b[0m\u001b[1;33m]\u001b[0m\u001b[1;33m\u001b[0m\u001b[1;33m\u001b[0m\u001b[0m\n",
      "\u001b[1;32m~\\AppData\\Local\\Temp\\ipykernel_9448\\3504770555.py\u001b[0m in \u001b[0;36mforward\u001b[1;34m(self, x)\u001b[0m\n\u001b[0;32m     39\u001b[0m         \u001b[0moutput\u001b[0m \u001b[1;33m=\u001b[0m \u001b[0mself\u001b[0m\u001b[1;33m.\u001b[0m\u001b[0mrelu\u001b[0m\u001b[1;33m(\u001b[0m\u001b[0moutput\u001b[0m\u001b[1;33m)\u001b[0m\u001b[1;33m\u001b[0m\u001b[1;33m\u001b[0m\u001b[0m\n\u001b[0;32m     40\u001b[0m         \u001b[0moutputT\u001b[0m \u001b[1;33m=\u001b[0m \u001b[0mtorch\u001b[0m\u001b[1;33m.\u001b[0m\u001b[0mtranspose\u001b[0m\u001b[1;33m(\u001b[0m\u001b[0moutput\u001b[0m\u001b[1;33m,\u001b[0m \u001b[1;33m-\u001b[0m\u001b[1;36m1\u001b[0m\u001b[1;33m,\u001b[0m \u001b[1;33m-\u001b[0m\u001b[1;36m2\u001b[0m\u001b[1;33m)\u001b[0m\u001b[1;33m\u001b[0m\u001b[1;33m\u001b[0m\u001b[0m\n\u001b[1;32m---> 41\u001b[1;33m         \u001b[0moutputT\u001b[0m \u001b[1;33m=\u001b[0m \u001b[0mtorch\u001b[0m\u001b[1;33m.\u001b[0m\u001b[0mmatmul\u001b[0m\u001b[1;33m(\u001b[0m\u001b[0moutputT\u001b[0m\u001b[1;33m,\u001b[0m \u001b[0mself\u001b[0m\u001b[1;33m.\u001b[0m\u001b[0mV\u001b[0m\u001b[1;33m.\u001b[0m\u001b[0mweight\u001b[0m\u001b[1;33m)\u001b[0m\u001b[1;33m\u001b[0m\u001b[1;33m\u001b[0m\u001b[0m\n\u001b[0m\u001b[0;32m     42\u001b[0m         \u001b[0moutput\u001b[0m \u001b[1;33m=\u001b[0m \u001b[0mtorch\u001b[0m\u001b[1;33m.\u001b[0m\u001b[0mtranspose\u001b[0m\u001b[1;33m(\u001b[0m\u001b[0moutputT\u001b[0m\u001b[1;33m,\u001b[0m \u001b[1;33m-\u001b[0m\u001b[1;36m1\u001b[0m\u001b[1;33m,\u001b[0m \u001b[1;33m-\u001b[0m\u001b[1;36m2\u001b[0m\u001b[1;33m)\u001b[0m\u001b[1;33m\u001b[0m\u001b[1;33m\u001b[0m\u001b[0m\n\u001b[0;32m     43\u001b[0m \u001b[1;31m#         output = self.relu(output)\u001b[0m\u001b[1;33m\u001b[0m\u001b[1;33m\u001b[0m\u001b[0m\n",
      "\u001b[1;31mOutOfMemoryError\u001b[0m: CUDA out of memory. Tried to allocate 2.00 MiB (GPU 0; 4.00 GiB total capacity; 3.00 GiB already allocated; 0 bytes free; 3.46 GiB reserved in total by PyTorch) If reserved memory is >> allocated memory try setting max_split_size_mb to avoid fragmentation.  See documentation for Memory Management and PYTORCH_CUDA_ALLOC_CONF"
     ]
    }
   ],
   "source": [
    "# Testing the AE\n",
    "test_loss = 0\n",
    "# model = AE(data_description['n_items'], data_description['n_ratings'], 256, 3).to(device)\n",
    "# model.load_state_dict(torch.load('best-model.pt'))\n",
    "\n",
    "scores = torch.zeros((len(testset.userid.unique()), data_description['n_items']))\n",
    "\n",
    "for user in testset.userid.unique():\n",
    "    itemidx = testset.loc[testset.userid == user, data_description['items']].values\n",
    "    feedbackidx = testset.loc[testset.userid == user, data_description['feedback']].values\n",
    "    values = np.ones(len(itemidx), dtype=np.float32)\n",
    "\n",
    "    user_tensor_test = torch.sparse_coo_tensor(np.array([itemidx, feedbackidx-1]), torch.tensor(values),\n",
    "                              size=torch.Size((data_description[\"n_items\"], data_description['n_ratings']))).to_dense().to(device).unsqueeze(0)\n",
    "    target = torch.sparse_coo_tensor(np.array([itemidx]), torch.tensor(values),\n",
    "                              size=torch.Size((data_description[\"n_items\"], ))).to_dense().to(device).unsqueeze(0)\n",
    "    \n",
    "    output = ae(user_tensor_test)\n",
    "    target.require_grad = False\n",
    "    scores[i] = output[0].T\n",
    "\n",
    "    loss = criterion(output, target)\n",
    "    test_loss += loss.data.item()\n",
    "\n",
    "scores = scores.detach().numpy()    \n",
    "print('test loss: '+str(test_loss / testset.userid.nunique()))"
   ]
  },
  {
   "cell_type": "code",
   "execution_count": 40,
   "id": "f5c6780c",
   "metadata": {
    "ExecuteTime": {
     "end_time": "2023-03-18T10:56:31.470434Z",
     "start_time": "2023-03-18T10:56:31.296456Z"
    }
   },
   "outputs": [
    {
     "name": "stdout",
     "output_type": "stream",
     "text": [
      "HR@5 = 0.0092, MRR@5 = 0.0058, Coverage@5 = 0.0203\n",
      "HR_pos@5 = 0.0081, HR_neg@5 = 0.0012\n",
      "MRR_pos@5 = 0.0054, MRR_neg@5 = 0.0004\n",
      "Matthews@5 = 0.0137\n",
      "-------------------------------------\n",
      "HR@10 = 0.0190, MRR@10 = 0.0070, Coverage@10 = 0.0317\n",
      "HR_pos@10 = 0.0178, HR_neg@10 = 0.0012\n",
      "MRR_pos@10 = 0.0066, MRR_neg@10 = 0.0004\n",
      "Matthews@10 = 0.0431\n",
      "-------------------------------------\n",
      "HR@20 = 0.0409, MRR@20 = 0.0085, Coverage@20 = 0.0529\n",
      "HR_pos@20 = 0.0380, HR_neg@20 = 0.0029\n",
      "MRR_pos@20 = 0.0080, MRR_neg@20 = 0.0005\n",
      "Matthews@20 = 0.0587\n",
      "-------------------------------------\n"
     ]
    },
    {
     "data": {
      "text/plain": [
       "(0.007043536632144227, 0.0189873417721519, 0.04310505000932261)"
      ]
     },
     "execution_count": 40,
     "metadata": {},
     "output_type": "execute_result"
    }
   ],
   "source": [
    "# our\n",
    "downvote_seen_items(scores, testset, data_description)\n",
    "make_prediction(scores, holdout, data_description)"
   ]
  },
  {
   "cell_type": "markdown",
   "id": "3b05f1a5",
   "metadata": {},
   "source": [
    "### Tuning"
   ]
  },
  {
   "cell_type": "code",
   "execution_count": 14,
   "id": "5d78d2d7",
   "metadata": {
    "ExecuteTime": {
     "end_time": "2023-03-24T12:43:49.334200Z",
     "start_time": "2023-03-24T12:43:49.326198Z"
    }
   },
   "outputs": [],
   "source": [
    "grid1 = 2**np.arange(9, 11) #2**np.arange(4, 11)\n",
    "grid2 = np.arange(3, 5)\n",
    "grid = np.meshgrid(grid2, grid1)"
   ]
  },
  {
   "cell_type": "code",
   "execution_count": null,
   "id": "c13b56e8",
   "metadata": {
    "ExecuteTime": {
     "end_time": "2023-03-24T13:15:44.542515Z",
     "start_time": "2023-03-24T12:43:59.769250Z"
    },
    "scrolled": true
   },
   "outputs": [],
   "source": [
    "params = []\n",
    "histories = []\n",
    "test_losses = []\n",
    "mrrs = []\n",
    "hrs = []\n",
    "cs = []\n",
    "early_stop = 10\n",
    "n_epochs = 1000\n",
    "\n",
    "\n",
    "for h1, h2, in tqdm(zip(grid[1].flatten(), grid[0].flatten()), total=14):\n",
    "    print('Hidden sizes:', h1, h2)\n",
    "    \n",
    "    ae = AE(data_description['n_items'], data_description['n_ratings'], h1, h2).to(device)\n",
    "    criterion = nn.BCEWithLogitsLoss().to(device)\n",
    "    optimizer = optim.Adam(ae.parameters())\n",
    "    scheduler = optim.lr_scheduler.ExponentialLR(optimizer, gamma=0.9)\n",
    "    \n",
    "    mask = torch.triu(torch.ones_like(ae.L.weight)).T\n",
    "#     Register with hook\n",
    "    ae.L.weight.register_hook(get_zero_grad_hook(mask))\n",
    "    \n",
    "    params.append(sum(p.numel() for p in ae.parameters() if p.requires_grad))\n",
    "    \n",
    "    # Training the AE\n",
    "    history = []\n",
    "    val_history = []\n",
    "#     prev_train_loss = []\n",
    "    prev_test_loss = [1000]\n",
    "    train_loss = 0.1 * len(train_dataloader)\n",
    "    epoch = 1\n",
    "    \n",
    "    for epoch in range(n_epochs):\n",
    "        train_loss = 0\n",
    "        for batch in train_dataloader:\n",
    "            optimizer.zero_grad()\n",
    "\n",
    "            user_tensor, user_matrix = batch\n",
    "\n",
    "            input_tensor = user_tensor.to_dense().to(device)\n",
    "            target = user_matrix.to_dense().to(device)\n",
    "\n",
    "            output = ae(input_tensor)\n",
    "            target.require_grad = False # we don't use it in training\n",
    "\n",
    "            loss = criterion(output, target)\n",
    "            loss.backward()\n",
    "            optimizer.step()\n",
    "            train_loss += loss.data.item()\n",
    "\n",
    "        scheduler.step()\n",
    "        history.append(train_loss / len(train_dataloader))\n",
    "\n",
    "        test_loss = 0\n",
    "        with torch.no_grad():\n",
    "            for user in testset_valid.userid.unique():\n",
    "                itemidx = testset_valid.loc[testset_valid.userid == user, data_description['items']].values\n",
    "                feedbackidx = testset_valid.loc[testset_valid.userid == user, data_description['feedback']].values\n",
    "                values = np.ones(len(itemidx), dtype=np.float32)\n",
    "\n",
    "                user_tensor_test = torch.sparse_coo_tensor(np.array([itemidx, feedbackidx-1]), torch.tensor(values),\n",
    "                                          size=torch.Size((data_description[\"n_items\"], data_description['n_ratings']))).to_dense().to(device).unsqueeze(0)\n",
    "                target = torch.sparse_coo_tensor(np.array([itemidx]), torch.tensor(values),\n",
    "                                          size=torch.Size((data_description[\"n_items\"], ))).to_dense().to(device).unsqueeze(0)\n",
    "\n",
    "                output = ae(user_tensor_test)\n",
    "                target.require_grad = False\n",
    "\n",
    "                loss = criterion(output, target)\n",
    "                test_loss += loss.data.item()\n",
    "        val_loss = test_loss / testset.userid.nunique()\n",
    "        val_history.append(val_loss)\n",
    "\n",
    "        if prev_test_loss[-1] > val_loss:\n",
    "            prev_test_loss = [val_loss]\n",
    "            torch.save(bae.state_dict(), f'best_ae_{h}.pt')\n",
    "        else:\n",
    "            prev_test_loss.append(val_loss)\n",
    "        \n",
    "        stop = epoch if epoch < early_stop else epoch-early_stop\n",
    "        if len(prev_test_loss) == early_stop:\n",
    "            print(f'Current epoch {epoch}. Best model found at epoch {stop}')\n",
    "            break\n",
    "            \n",
    "        epoch += 1\n",
    "    \n",
    "    # Testing the AE\n",
    "    test_loss = 0\n",
    "    scores = torch.zeros((len(testset_valid.userid.unique()), data_description['n_items']))\n",
    "    model = AE(data_description['n_items'], h).to(device)\n",
    "    model.load_state_dict(torch.load(f'best_ae_{h}.pt'))\n",
    "\n",
    "    for i, user in enumerate(testset_valid.userid.unique()):\n",
    "        itemidx = testset_valid.loc[testset_valid.userid == user, data_description['items']].values\n",
    "        feedbackidx = testset_valid.loc[testset_valid.userid == user, data_description['feedback']].values\n",
    "        values = np.ones(len(itemidx), dtype=np.float32)\n",
    "\n",
    "        user_tensor_test = torch.sparse_coo_tensor(np.array([itemidx, feedbackidx-1]), torch.tensor(values),\n",
    "                                  size=torch.Size((data_description[\"n_items\"], data_description['n_ratings']))).to_dense().to(device).unsqueeze(0)\n",
    "        target = torch.sparse_coo_tensor(np.array([itemidx]), torch.tensor(values),\n",
    "                                  size=torch.Size((data_description[\"n_items\"], ))).to_dense().to(device).unsqueeze(0)\n",
    "\n",
    "        output = ae(user_tensor_test)\n",
    "        scores[i] = output[0].T\n",
    "        target.require_grad = False\n",
    "\n",
    "        loss = criterion(output, target)\n",
    "        test_loss += loss.data.item()\n",
    "    \n",
    "    test_losses.append(test_loss / testset_valid.userid.nunique())        \n",
    "    scores = scores.detach().numpy()\n",
    "    \n",
    "    # our\n",
    "    plt.plot(history, label='train')\n",
    "    plt.plot(val_history, label='val')\n",
    "    plt.legend()\n",
    "    plt.show()\n",
    "    print('Test loss:', val_history[-min(early_stop, epoch)])\n",
    "    print('Train loss:', history[-min(early_stop, epoch)])\n",
    "    print('Epochs:', stop)\n",
    "    downvote_seen_items(scores, testset_valid, data_description)\n",
    "    mrr10, hr10, c10 = make_prediction(scores, holdout_valid, data_description)\n",
    "    mrrs.append(mrr10)\n",
    "    hrs.append(hr10)\n",
    "    cs.append(c10)\n",
    "    \n",
    "    print()\n",
    "    print()"
   ]
  },
  {
   "cell_type": "markdown",
   "id": "233e278e",
   "metadata": {},
   "source": [
    "## Model: square root matrix"
   ]
  },
  {
   "cell_type": "code",
   "execution_count": 19,
   "id": "671f8455",
   "metadata": {
    "ExecuteTime": {
     "end_time": "2023-03-30T11:53:21.287284Z",
     "start_time": "2023-03-30T11:53:21.247272Z"
    }
   },
   "outputs": [],
   "source": [
    "train_dataset = MVDataset(training, data_description)\n",
    "train_dataloader = DataLoader(train_dataset, batch_size=16, shuffle=True)"
   ]
  },
  {
   "cell_type": "code",
   "execution_count": 20,
   "id": "c324d3a5",
   "metadata": {
    "ExecuteTime": {
     "end_time": "2023-03-30T11:53:21.790152Z",
     "start_time": "2023-03-30T11:53:21.774156Z"
    }
   },
   "outputs": [
    {
     "data": {
      "text/plain": [
       "823"
      ]
     },
     "execution_count": 20,
     "metadata": {},
     "output_type": "execute_result"
    }
   ],
   "source": [
    "len(train_dataloader)"
   ]
  },
  {
   "cell_type": "code",
   "execution_count": 21,
   "id": "c181f8da",
   "metadata": {
    "ExecuteTime": {
     "end_time": "2023-03-30T11:53:22.262145Z",
     "start_time": "2023-03-30T11:53:22.255123Z"
    }
   },
   "outputs": [
    {
     "data": {
      "text/plain": [
       "(9906, 5)"
      ]
     },
     "execution_count": 21,
     "metadata": {},
     "output_type": "execute_result"
    }
   ],
   "source": [
    "data_description['n_items'], data_description['n_ratings']"
   ]
  },
  {
   "cell_type": "code",
   "execution_count": 12,
   "id": "3cf02bd4",
   "metadata": {
    "ExecuteTime": {
     "end_time": "2023-03-24T12:40:55.069036Z",
     "start_time": "2023-03-24T12:40:55.050039Z"
    }
   },
   "outputs": [],
   "source": [
    "def triu_init(m):\n",
    "    if isinstance(m, nn.Linear):\n",
    "        with torch.no_grad():\n",
    "            s, V = torch.linalg.eig(m.weight)\n",
    "            m.weight.copy_(V @ torch.diag(torch.sqrt(s)) @ torch.linalg.inv(V))\n",
    "            \n",
    "# def get_zero_grad_hook(mask):\n",
    "#     def hook(grad):\n",
    "#         return grad * mask\n",
    "#     return hook"
   ]
  },
  {
   "cell_type": "code",
   "execution_count": 13,
   "id": "1185f0f4",
   "metadata": {
    "ExecuteTime": {
     "end_time": "2023-03-24T12:40:57.091786Z",
     "start_time": "2023-03-24T12:40:57.070786Z"
    },
    "code_folding": []
   },
   "outputs": [],
   "source": [
    "class AE(nn.Module):\n",
    "    def __init__(self, n_items, n_ratings, hid1, hid2):\n",
    "        super(AE, self).__init__()\n",
    "        self.V = nn.Linear(n_items, hid1)\n",
    "        torch.nn.init.xavier_uniform_(self.V.weight)\n",
    "        self.W = nn.Linear(n_ratings, hid2)\n",
    "        torch.nn.init.xavier_uniform_(self.W.weight)\n",
    "        self.L = nn.Linear(n_ratings, n_ratings, bias=False)\n",
    "        torch.nn.init.xavier_uniform_(self.L.weight)\n",
    "        triu_init(self.L)\n",
    "        torch.nn.init.eye_(self.L.weight)\n",
    "        self.norm = nn.LayerNorm(n_ratings)\n",
    "        self.vec = nn.Linear(n_ratings, 1)\n",
    "        torch.nn.init.xavier_uniform_(self.vec.weight)\n",
    "        \n",
    "        self.relu = nn.ReLU()\n",
    "        self.tanh = nn.Tanh()\n",
    "        \n",
    "    def forward(self, x):\n",
    "        # encode\n",
    "        x = self.L(x)\n",
    "#         x = self.norm(x)\n",
    "        x = self.relu(x)\n",
    "        x = self.W(x)\n",
    "        x = self.relu(x)\n",
    "        xT = torch.transpose(x, -1, -2)\n",
    "        yT = self.V(xT)\n",
    "        y = torch.transpose(yT, -1, -2)\n",
    "        y = self.relu(y)\n",
    "        # decode\n",
    "        output = torch.matmul(y, self.W.weight)\n",
    "        output = self.relu(output)\n",
    "        output = torch.matmul(output, self.L.weight)\n",
    "#         output = self.norm(output)\n",
    "        output = self.relu(output)\n",
    "        outputT = torch.transpose(output, -1, -2)\n",
    "        outputT = torch.matmul(outputT, self.V.weight)\n",
    "        output = torch.transpose(outputT, -1, -2)\n",
    "#         output = self.relu(output)\n",
    "        # vec\n",
    "        output = self.vec(output).squeeze(-1)\n",
    "        return output"
   ]
  },
  {
   "cell_type": "code",
   "execution_count": 15,
   "id": "5d604285",
   "metadata": {
    "ExecuteTime": {
     "end_time": "2023-03-24T08:21:21.983637Z",
     "start_time": "2023-03-24T08:21:21.723365Z"
    }
   },
   "outputs": [
    {
     "name": "stderr",
     "output_type": "stream",
     "text": [
      "C:\\Users\\Liza\\AppData\\Local\\Temp\\ipykernel_21496\\1739130729.py:5: UserWarning: Casting complex values to real discards the imaginary part (Triggered internally at C:\\cb\\pytorch_1000000000000\\work\\aten\\src\\ATen\\native\\Copy.cpp:276.)\n",
      "  m.weight.copy_(V @ torch.diag(torch.sqrt(s)) @ torch.linalg.inv(V))\n"
     ]
    }
   ],
   "source": [
    "fix_torch_seed(42)\n",
    "set_random_seed(42)\n",
    "\n",
    "ae = AE(data_description['n_items'], data_description['n_ratings'], 256, 3).to(device)\n",
    "criterion = nn.BCEWithLogitsLoss().to(device)\n",
    "optimizer = optim.Adam(ae.parameters())\n",
    "scheduler = optim.lr_scheduler.ExponentialLR(optimizer, gamma=0.9)"
   ]
  },
  {
   "cell_type": "code",
   "execution_count": 18,
   "id": "093b339c",
   "metadata": {
    "ExecuteTime": {
     "end_time": "2023-03-24T08:21:41.468071Z",
     "start_time": "2023-03-24T08:21:41.416066Z"
    }
   },
   "outputs": [
    {
     "data": {
      "text/plain": [
       "tensor([[1., 0., 0., 0., 0.],\n",
       "        [0., 1., 0., 0., 0.],\n",
       "        [0., 0., 1., 0., 0.],\n",
       "        [0., 0., 0., 1., 0.],\n",
       "        [0., 0., 0., 0., 1.]], device='cuda:0', grad_fn=<MmBackward0>)"
      ]
     },
     "execution_count": 18,
     "metadata": {},
     "output_type": "execute_result"
    }
   ],
   "source": [
    "ae.L.weight @ ae.L.weight"
   ]
  },
  {
   "cell_type": "code",
   "execution_count": 24,
   "id": "5d9306b2",
   "metadata": {
    "ExecuteTime": {
     "end_time": "2023-03-19T11:29:00.843567Z",
     "start_time": "2023-03-19T11:29:00.834560Z"
    }
   },
   "outputs": [
    {
     "data": {
      "text/plain": [
       "<torch.utils.hooks.RemovableHandle at 0x21586cbb280>"
      ]
     },
     "execution_count": 24,
     "metadata": {},
     "output_type": "execute_result"
    }
   ],
   "source": [
    "# mask = torch.triu(torch.ones_like(ae.L.weight)).T\n",
    "# # Register with hook\n",
    "# ae.L.weight.register_hook(get_zero_grad_hook(mask))"
   ]
  },
  {
   "cell_type": "code",
   "execution_count": 19,
   "id": "7a76936b",
   "metadata": {
    "ExecuteTime": {
     "end_time": "2023-03-24T08:21:50.223851Z",
     "start_time": "2023-03-24T08:21:50.200849Z"
    }
   },
   "outputs": [
    {
     "data": {
      "text/plain": [
       "2536251"
      ]
     },
     "execution_count": 19,
     "metadata": {},
     "output_type": "execute_result"
    }
   ],
   "source": [
    "sum(p.numel() for p in ae.parameters() if p.requires_grad)"
   ]
  },
  {
   "cell_type": "code",
   "execution_count": 35,
   "id": "921ca50e",
   "metadata": {
    "ExecuteTime": {
     "end_time": "2023-03-18T10:55:39.505133Z",
     "start_time": "2023-03-18T10:50:07.741762Z"
    },
    "code_folding": [
     11
    ],
    "scrolled": false
   },
   "outputs": [
    {
     "name": "stdout",
     "output_type": "stream",
     "text": [
      "Epoch 20\n"
     ]
    },
    {
     "data": {
      "image/png": "[encoded data removed]",
      "text/plain": [
       "<Figure size 640x480 with 1 Axes>"
      ]
     },
     "metadata": {},
     "output_type": "display_data"
    }
   ],
   "source": [
    "# Training the AE\n",
    "history = []\n",
    "val_history = []\n",
    "\n",
    "prev_train_loss = 1\n",
    "prev_test_loss = 1\n",
    "train_loss = 0.1 * len(train_dataloader)\n",
    "test_loss = 0.1 * testset_valid.userid.nunique()\n",
    "epoch = 1\n",
    "best_valid_loss = float('inf')\n",
    "\n",
    "while prev_test_loss - test_loss / testset_valid.userid.nunique() > 1e-4 or test_loss / testset_valid.userid.nunique() > 0.13:\n",
    "    if epoch > 1:\n",
    "        prev_train_loss = train_loss / len(train_dataloader)\n",
    "        prev_test_loss = test_loss / testset_valid.userid.nunique()\n",
    "    train_loss = 0\n",
    "    for batch in train_dataloader:\n",
    "        optimizer.zero_grad()\n",
    "        \n",
    "        user_tensor, user_matrix = batch\n",
    "        \n",
    "        input_tensor = user_tensor.to_dense().to(device)\n",
    "        target = user_matrix.to_dense().to(device)\n",
    "        \n",
    "        output = ae(input_tensor)\n",
    "        target.require_grad = False # we don't use it in training\n",
    "\n",
    "        loss = criterion(output, target)\n",
    "        loss.backward()\n",
    "        optimizer.step()\n",
    "        train_loss += loss.data.item()\n",
    "    \n",
    "    scheduler.step()\n",
    "    history.append(train_loss / len(train_dataloader))\n",
    "    \n",
    "    test_loss = 0\n",
    "    with torch.no_grad():\n",
    "        for user in testset_valid.userid.unique():\n",
    "            itemidx = testset_valid.loc[testset_valid.userid == user, data_description['items']].values\n",
    "            feedbackidx = testset_valid.loc[testset_valid.userid == user, data_description['feedback']].values\n",
    "            values = np.ones(len(itemidx), dtype=np.float32)\n",
    "\n",
    "            user_tensor_test = torch.sparse_coo_tensor(np.array([itemidx, feedbackidx-1]), torch.tensor(values),\n",
    "                                      size=torch.Size((data_description[\"n_items\"], data_description['n_ratings']))).to_dense().to(device).unsqueeze(0)\n",
    "            target = torch.sparse_coo_tensor(np.array([itemidx]), torch.tensor(values),\n",
    "                                      size=torch.Size((data_description[\"n_items\"], ))).to_dense().to(device).unsqueeze(0)\n",
    "\n",
    "            output = ae(user_tensor_test)\n",
    "            target.require_grad = False\n",
    "\n",
    "            loss = criterion(output, target)\n",
    "            test_loss += loss.data.item()\n",
    "    \n",
    "    valid_loss = test_loss / testset_valid.userid.nunique()\n",
    "    val_history.append(valid_loss)\n",
    "#         print('test loss: '+str(test_loss / testset.userid.nunique()))\n",
    "    \n",
    "    if valid_loss < best_valid_loss:\n",
    "            best_valid_loss = valid_loss\n",
    "            torch.save(ae.state_dict(), 'best-model.pt')\n",
    "    \n",
    "    clear_output()\n",
    "    print('Epoch', epoch)\n",
    "    plt.plot(history, label='train')\n",
    "    plt.plot(val_history, label='val')\n",
    "    plt.legend()\n",
    "    plt.show()\n",
    "    epoch += 1\n",
    "#     print('epoch: '+str(epoch)+' loss: '+str(train_loss / len(train_dataloader)))"
   ]
  },
  {
   "cell_type": "code",
   "execution_count": 18,
   "id": "6d16bbfd",
   "metadata": {
    "ExecuteTime": {
     "end_time": "2023-03-19T09:58:06.205868Z",
     "start_time": "2023-03-19T09:58:06.176871Z"
    }
   },
   "outputs": [
    {
     "data": {
      "text/plain": [
       "Parameter containing:\n",
       "tensor([[-0.1739,  0.0000,  0.0000,  0.0000,  0.0000],\n",
       "        [-0.0287,  0.6074,  0.0000,  0.0000,  0.0000],\n",
       "        [ 0.0600, -0.1837, -0.5307,  0.0000,  0.0000],\n",
       "        [ 0.4533,  0.2487, -0.4121,  0.0950,  0.0000],\n",
       "        [-0.6271,  0.1836, -0.7649,  0.3127, -0.5906]], device='cuda:0',\n",
       "       requires_grad=True)"
      ]
     },
     "execution_count": 18,
     "metadata": {},
     "output_type": "execute_result"
    }
   ],
   "source": [
    "ae.L.weight"
   ]
  },
  {
   "cell_type": "code",
   "execution_count": 21,
   "id": "c26ea4c2",
   "metadata": {
    "ExecuteTime": {
     "end_time": "2023-03-19T09:58:22.622900Z",
     "start_time": "2023-03-19T09:58:22.601880Z"
    }
   },
   "outputs": [
    {
     "data": {
      "text/plain": [
       "tensor([[ 0.0302,  0.0050, -0.0104, -0.0788,  0.1091],\n",
       "        [ 0.0050,  0.3697, -0.1133,  0.1380,  0.1295],\n",
       "        [-0.0104, -0.1133,  0.3189,  0.2002,  0.3345],\n",
       "        [-0.0788,  0.1380,  0.2002,  0.4462,  0.1064],\n",
       "        [ 0.1091,  0.1295,  0.3345,  0.1064,  1.4587]], device='cuda:0',\n",
       "       grad_fn=<MmBackward0>)"
      ]
     },
     "execution_count": 21,
     "metadata": {},
     "output_type": "execute_result"
    }
   ],
   "source": [
    "ae.L.weight @ ae.L.weight.T"
   ]
  },
  {
   "cell_type": "code",
   "execution_count": 38,
   "id": "62bb7c36",
   "metadata": {
    "ExecuteTime": {
     "end_time": "2023-03-18T10:56:22.108415Z",
     "start_time": "2023-03-18T10:56:17.744457Z"
    }
   },
   "outputs": [
    {
     "name": "stdout",
     "output_type": "stream",
     "text": [
      "test loss: 0.12897759667405873\n"
     ]
    }
   ],
   "source": [
    "# Testing the AE\n",
    "test_loss = 0\n",
    "# model = AE(data_description['n_items'], data_description['n_ratings'], 256, 3).to(device)\n",
    "# model.load_state_dict(torch.load('best-model.pt'))\n",
    "\n",
    "scores = torch.zeros((len(testset.userid.unique()), data_description['n_items']))\n",
    "\n",
    "for user in testset.userid.unique():\n",
    "    itemidx = testset.loc[testset.userid == user, data_description['items']].values\n",
    "    feedbackidx = testset.loc[testset.userid == user, data_description['feedback']].values\n",
    "    values = np.ones(len(itemidx), dtype=np.float32)\n",
    "\n",
    "    user_tensor_test = torch.sparse_coo_tensor(np.array([itemidx, feedbackidx-1]), torch.tensor(values),\n",
    "                              size=torch.Size((data_description[\"n_items\"], data_description['n_ratings']))).to_dense().to(device).unsqueeze(0)\n",
    "    target = torch.sparse_coo_tensor(np.array([itemidx]), torch.tensor(values),\n",
    "                              size=torch.Size((data_description[\"n_items\"], ))).to_dense().to(device).unsqueeze(0)\n",
    "    \n",
    "    output = ae(user_tensor_test)\n",
    "    target.require_grad = False\n",
    "    scores[i] = output[0].T\n",
    "\n",
    "    loss = criterion(output, target)\n",
    "    test_loss += loss.data.item()\n",
    "\n",
    "scores = scores.detach().numpy()    \n",
    "print('test loss: '+str(test_loss / testset.userid.nunique()))"
   ]
  },
  {
   "cell_type": "code",
   "execution_count": 40,
   "id": "199dfe3f",
   "metadata": {
    "ExecuteTime": {
     "end_time": "2023-03-18T10:56:31.470434Z",
     "start_time": "2023-03-18T10:56:31.296456Z"
    }
   },
   "outputs": [
    {
     "name": "stdout",
     "output_type": "stream",
     "text": [
      "HR@5 = 0.0092, MRR@5 = 0.0058, Coverage@5 = 0.0203\n",
      "HR_pos@5 = 0.0081, HR_neg@5 = 0.0012\n",
      "MRR_pos@5 = 0.0054, MRR_neg@5 = 0.0004\n",
      "Matthews@5 = 0.0137\n",
      "-------------------------------------\n",
      "HR@10 = 0.0190, MRR@10 = 0.0070, Coverage@10 = 0.0317\n",
      "HR_pos@10 = 0.0178, HR_neg@10 = 0.0012\n",
      "MRR_pos@10 = 0.0066, MRR_neg@10 = 0.0004\n",
      "Matthews@10 = 0.0431\n",
      "-------------------------------------\n",
      "HR@20 = 0.0409, MRR@20 = 0.0085, Coverage@20 = 0.0529\n",
      "HR_pos@20 = 0.0380, HR_neg@20 = 0.0029\n",
      "MRR_pos@20 = 0.0080, MRR_neg@20 = 0.0005\n",
      "Matthews@20 = 0.0587\n",
      "-------------------------------------\n"
     ]
    },
    {
     "data": {
      "text/plain": [
       "(0.007043536632144227, 0.0189873417721519, 0.04310505000932261)"
      ]
     },
     "execution_count": 40,
     "metadata": {},
     "output_type": "execute_result"
    }
   ],
   "source": [
    "# our\n",
    "downvote_seen_items(scores, testset, data_description)\n",
    "make_prediction(scores, holdout, data_description)"
   ]
  },
  {
   "cell_type": "markdown",
   "id": "34cf52e8",
   "metadata": {},
   "source": [
    "### Tuning"
   ]
  },
  {
   "cell_type": "code",
   "execution_count": 14,
   "id": "6a759b54",
   "metadata": {
    "ExecuteTime": {
     "end_time": "2023-03-24T12:43:49.334200Z",
     "start_time": "2023-03-24T12:43:49.326198Z"
    }
   },
   "outputs": [],
   "source": [
    "grid1 = 2**np.arange(9, 11) #2**np.arange(4, 11)\n",
    "grid2 = np.arange(3, 5)\n",
    "grid = np.meshgrid(grid2, grid1)"
   ]
  },
  {
   "cell_type": "code",
   "execution_count": null,
   "id": "21a9d4ab",
   "metadata": {
    "ExecuteTime": {
     "end_time": "2023-03-24T13:15:44.542515Z",
     "start_time": "2023-03-24T12:43:59.769250Z"
    },
    "scrolled": true
   },
   "outputs": [],
   "source": [
    "params = []\n",
    "histories = []\n",
    "test_losses = []\n",
    "mrrs = []\n",
    "hrs = []\n",
    "cs = []\n",
    "early_stop = 10\n",
    "n_epochs = 1000\n",
    "\n",
    "\n",
    "for h1, h2, in tqdm(zip(grid[1].flatten(), grid[0].flatten()), total=14):\n",
    "    print('Hidden sizes:', h1, h2)\n",
    "    \n",
    "    ae = AE(data_description['n_items'], data_description['n_ratings'], h1, h2).to(device)\n",
    "    criterion = nn.BCEWithLogitsLoss().to(device)\n",
    "    optimizer = optim.Adam(ae.parameters())\n",
    "    scheduler = optim.lr_scheduler.ExponentialLR(optimizer, gamma=0.9)\n",
    "    \n",
    "    mask = torch.triu(torch.ones_like(ae.L.weight)).T\n",
    "#     Register with hook\n",
    "    ae.L.weight.register_hook(get_zero_grad_hook(mask))\n",
    "    \n",
    "    params.append(sum(p.numel() for p in ae.parameters() if p.requires_grad))\n",
    "    \n",
    "    # Training the AE\n",
    "    history = []\n",
    "    val_history = []\n",
    "#     prev_train_loss = []\n",
    "    prev_test_loss = [1000]\n",
    "    train_loss = 0.1 * len(train_dataloader)\n",
    "    epoch = 1\n",
    "    \n",
    "    for epoch in range(n_epochs):\n",
    "        train_loss = 0\n",
    "        for batch in train_dataloader:\n",
    "            optimizer.zero_grad()\n",
    "\n",
    "            user_tensor, user_matrix = batch\n",
    "\n",
    "            input_tensor = user_tensor.to_dense().to(device)\n",
    "            target = user_matrix.to_dense().to(device)\n",
    "\n",
    "            output = ae(input_tensor)\n",
    "            target.require_grad = False # we don't use it in training\n",
    "\n",
    "            loss = criterion(output, target)\n",
    "            loss.backward()\n",
    "            optimizer.step()\n",
    "            train_loss += loss.data.item()\n",
    "\n",
    "        scheduler.step()\n",
    "        history.append(train_loss / len(train_dataloader))\n",
    "\n",
    "        test_loss = 0\n",
    "        with torch.no_grad():\n",
    "            for user in testset_valid.userid.unique():\n",
    "                itemidx = testset_valid.loc[testset_valid.userid == user, data_description['items']].values\n",
    "                feedbackidx = testset_valid.loc[testset_valid.userid == user, data_description['feedback']].values\n",
    "                values = np.ones(len(itemidx), dtype=np.float32)\n",
    "\n",
    "                user_tensor_test = torch.sparse_coo_tensor(np.array([itemidx, feedbackidx-1]), torch.tensor(values),\n",
    "                                          size=torch.Size((data_description[\"n_items\"], data_description['n_ratings']))).to_dense().to(device).unsqueeze(0)\n",
    "                target = torch.sparse_coo_tensor(np.array([itemidx]), torch.tensor(values),\n",
    "                                          size=torch.Size((data_description[\"n_items\"], ))).to_dense().to(device).unsqueeze(0)\n",
    "\n",
    "                output = ae(user_tensor_test)\n",
    "                target.require_grad = False\n",
    "\n",
    "                loss = criterion(output, target)\n",
    "                test_loss += loss.data.item()\n",
    "        val_loss = test_loss / testset.userid.nunique()\n",
    "        val_history.append(val_loss)\n",
    "\n",
    "        if prev_test_loss[-1] > val_loss:\n",
    "            prev_test_loss = [val_loss]\n",
    "            torch.save(bae.state_dict(), f'best_ae_{h}.pt')\n",
    "        else:\n",
    "            prev_test_loss.append(val_loss)\n",
    "        \n",
    "        stop = epoch if epoch < early_stop else epoch-early_stop\n",
    "        if len(prev_test_loss) == early_stop:\n",
    "            print(f'Current epoch {epoch}. Best model found at epoch {stop}')\n",
    "            break\n",
    "            \n",
    "        epoch += 1\n",
    "    \n",
    "    # Testing the AE\n",
    "    test_loss = 0\n",
    "    scores = torch.zeros((len(testset_valid.userid.unique()), data_description['n_items']))\n",
    "    model = AE(data_description['n_items'], h).to(device)\n",
    "    model.load_state_dict(torch.load(f'best_ae_{h}.pt'))\n",
    "\n",
    "    for i, user in enumerate(testset_valid.userid.unique()):\n",
    "        itemidx = testset_valid.loc[testset_valid.userid == user, data_description['items']].values\n",
    "        feedbackidx = testset_valid.loc[testset_valid.userid == user, data_description['feedback']].values\n",
    "        values = np.ones(len(itemidx), dtype=np.float32)\n",
    "\n",
    "        user_tensor_test = torch.sparse_coo_tensor(np.array([itemidx, feedbackidx-1]), torch.tensor(values),\n",
    "                                  size=torch.Size((data_description[\"n_items\"], data_description['n_ratings']))).to_dense().to(device).unsqueeze(0)\n",
    "        target = torch.sparse_coo_tensor(np.array([itemidx]), torch.tensor(values),\n",
    "                                  size=torch.Size((data_description[\"n_items\"], ))).to_dense().to(device).unsqueeze(0)\n",
    "\n",
    "        output = ae(user_tensor_test)\n",
    "        scores[i] = output[0].T\n",
    "        target.require_grad = False\n",
    "\n",
    "        loss = criterion(output, target)\n",
    "        test_loss += loss.data.item()\n",
    "    \n",
    "    test_losses.append(test_loss / testset_valid.userid.nunique())        \n",
    "    scores = scores.detach().numpy()\n",
    "    \n",
    "    # our\n",
    "    plt.plot(history, label='train')\n",
    "    plt.plot(val_history, label='val')\n",
    "    plt.legend()\n",
    "    plt.show()\n",
    "    print('Test loss:', val_history[-min(early_stop, epoch)])\n",
    "    print('Train loss:', history[-min(early_stop, epoch)])\n",
    "    print('Epochs:', stop)\n",
    "    downvote_seen_items(scores, testset_valid, data_description)\n",
    "    mrr10, hr10, c10 = make_prediction(scores, holdout_valid, data_description)\n",
    "    mrrs.append(mrr10)\n",
    "    hrs.append(hr10)\n",
    "    cs.append(c10)\n",
    "    \n",
    "    print()\n",
    "    print()"
   ]
  },
  {
   "cell_type": "markdown",
   "id": "b7e34674",
   "metadata": {},
   "source": [
    "## Model: output -- tensor"
   ]
  },
  {
   "cell_type": "code",
   "execution_count": null,
   "id": "282778cf",
   "metadata": {
    "ExecuteTime": {
     "end_time": "2022-10-02T16:42:26.402815Z",
     "start_time": "2022-10-02T16:42:26.402815Z"
    },
    "code_folding": [
     0
    ]
   },
   "outputs": [],
   "source": [
    "class TensorDataset(Dataset):\n",
    "    def __init__(self, data, data_description):\n",
    "        useridx = data[data_description['users']].values\n",
    "        itemidx = data[data_description['items']].values\n",
    "        feedbackidx = data[data_description['feedback']].values\n",
    "        values = np.ones(len(itemidx), dtype=np.float32)\n",
    "        \n",
    "        self.tensor = torch.sparse_coo_tensor(np.array([useridx, itemidx, feedbackidx-1]), torch.tensor(values),\n",
    "                                            size=torch.Size((data_description[\"n_users\"], data_description[\"n_items\"], data_description['n_ratings'])))\n",
    "\n",
    "    def __len__(self):\n",
    "        return self.tensor.shape[0]\n",
    "\n",
    "    def __getitem__(self, idx):\n",
    "        return self.tensor[idx], self.tensor[idx]"
   ]
  },
  {
   "cell_type": "code",
   "execution_count": 16,
   "id": "bba737e2",
   "metadata": {
    "ExecuteTime": {
     "end_time": "2022-10-02T10:21:16.233072Z",
     "start_time": "2022-10-02T10:21:16.210839Z"
    }
   },
   "outputs": [],
   "source": [
    "train_dataset = MVDataset(training, data_description)\n",
    "train_dataloader = DataLoader(train_dataset, batch_size=16, shuffle=True)"
   ]
  },
  {
   "cell_type": "code",
   "execution_count": 24,
   "id": "26e4df1c",
   "metadata": {
    "ExecuteTime": {
     "end_time": "2022-10-02T10:29:34.531872Z",
     "start_time": "2022-10-02T10:29:34.507876Z"
    }
   },
   "outputs": [],
   "source": [
    "class AE(nn.Module):\n",
    "    def __init__(self, n_items, n_ratings, hid1, hid2, hid3):\n",
    "        super(AE, self).__init__()\n",
    "        self.V = nn.Linear(n_items, hid1)\n",
    "        self.W = nn.Linear(hid3, hid2)\n",
    "        self.L = nn.Linear(n_ratings, hid3)\n",
    "        triu_init(self.L)\n",
    "#         self.vec = nn.Linear(n_ratings, 1)\n",
    "#         self.tanh = nn.Tanh()\n",
    "        \n",
    "    def forward(self, x):\n",
    "        # encode\n",
    "        x = self.L(x)\n",
    "        x = self.W(x)\n",
    "        xT = torch.transpose(x, -1, -2)\n",
    "        yT = self.V(xT)\n",
    "        y = torch.transpose(yT, -1, -2)\n",
    "        # decode\n",
    "        output = torch.matmul(y, self.W.weight)\n",
    "        output = torch.matmul(output, self.L.weight)\n",
    "        output = torch.transpose(torch.matmul(torch.transpose(output, -1, -2), self.V.weight), -1, -2)\n",
    "        # vec\n",
    "#         output = self.tanh(output)\n",
    "#         output = self.vec(output).squeeze(-1)\n",
    "        return output\n",
    "\n",
    "ae = AE(data_description['n_items'], data_description['n_ratings'], 100, 50, 20).to(device)\n",
    "criterion = nn.BCEWithLogitsLoss().to(device)\n",
    "optimizer = optim.Adam(ae.parameters())"
   ]
  },
  {
   "cell_type": "code",
   "execution_count": 25,
   "id": "947a9562",
   "metadata": {
    "ExecuteTime": {
     "end_time": "2022-10-02T10:29:35.329748Z",
     "start_time": "2022-10-02T10:29:35.323712Z"
    }
   },
   "outputs": [
    {
     "data": {
      "text/plain": [
       "<torch.utils.hooks.RemovableHandle at 0x1fd4a6b6400>"
      ]
     },
     "execution_count": 25,
     "metadata": {},
     "output_type": "execute_result"
    }
   ],
   "source": [
    "mask = torch.triu(torch.ones_like(ae.L.weight))\n",
    "# Register with hook\n",
    "ae.L.weight.register_hook(get_zero_grad_hook(mask))"
   ]
  },
  {
   "cell_type": "code",
   "execution_count": 26,
   "id": "d66627e1",
   "metadata": {
    "ExecuteTime": {
     "end_time": "2022-10-02T10:46:01.359320Z",
     "start_time": "2022-10-02T10:29:36.771460Z"
    },
    "scrolled": true
   },
   "outputs": [
    {
     "name": "stdout",
     "output_type": "stream",
     "text": [
      "epoch: 1 loss: 0.05756956117039316\n",
      "epoch: 2 loss: 0.03614815729862072\n",
      "epoch: 3 loss: 0.03575290020987782\n",
      "epoch: 4 loss: 0.03627321601946479\n",
      "epoch: 5 loss: 0.03485188916437188\n",
      "epoch: 6 loss: 0.034166774960158026\n",
      "epoch: 7 loss: 0.03377212845626172\n",
      "epoch: 8 loss: 0.03298012822978059\n",
      "epoch: 9 loss: 0.03216922597101565\n",
      "epoch: 10 loss: 0.031279375748743725\n",
      "epoch: 11 loss: 0.030928388192607893\n",
      "epoch: 12 loss: 0.030600117746224342\n",
      "epoch: 13 loss: 0.030427866992069764\n",
      "epoch: 14 loss: 0.02986297190663743\n",
      "epoch: 15 loss: 0.029729154745765617\n",
      "epoch: 16 loss: 0.029318355819147626\n",
      "epoch: 17 loss: 0.02909153669179602\n",
      "epoch: 18 loss: 0.02883792771479945\n",
      "epoch: 19 loss: 0.028575731075128143\n",
      "epoch: 20 loss: 0.02832073374382789\n",
      "epoch: 21 loss: 0.02810518795184875\n",
      "epoch: 22 loss: 0.027664527045876793\n",
      "epoch: 23 loss: 0.02710385677798857\n",
      "epoch: 24 loss: 0.02677095800024293\n",
      "epoch: 25 loss: 0.025914379716449686\n",
      "epoch: 26 loss: 0.025117510825060727\n",
      "epoch: 27 loss: 0.024279714157379298\n",
      "epoch: 28 loss: 0.023368988862812298\n",
      "epoch: 29 loss: 0.022429407926534445\n",
      "epoch: 30 loss: 0.021635221282529475\n",
      "epoch: 31 loss: 0.02123053236219209\n",
      "epoch: 32 loss: 0.02049811686343803\n",
      "epoch: 33 loss: 0.019987538854560154\n",
      "epoch: 34 loss: 0.01965139297705688\n",
      "epoch: 35 loss: 0.019393759629643813\n",
      "epoch: 36 loss: 0.019125288470965646\n",
      "epoch: 37 loss: 0.018939571709752304\n",
      "epoch: 38 loss: 0.018771514640109482\n",
      "epoch: 39 loss: 0.018620242322847414\n",
      "epoch: 40 loss: 0.01867792561427038\n",
      "epoch: 41 loss: 0.01839956541786368\n",
      "epoch: 42 loss: 0.018200105457298096\n",
      "epoch: 43 loss: 0.018134815695133994\n",
      "epoch: 44 loss: 0.01801563190882293\n",
      "epoch: 45 loss: 0.017907986951091987\n",
      "epoch: 46 loss: 0.017931199018679532\n",
      "epoch: 47 loss: 0.017788184334067036\n",
      "epoch: 48 loss: 0.017848275357696893\n",
      "epoch: 49 loss: 0.01770472294242864\n",
      "epoch: 50 loss: 0.017489965414726052\n",
      "epoch: 51 loss: 0.017466925300853083\n",
      "epoch: 52 loss: 0.017445072146265138\n",
      "epoch: 53 loss: 0.017486963368784844\n",
      "epoch: 54 loss: 0.01736438022019544\n",
      "epoch: 55 loss: 0.017340221996890025\n",
      "epoch: 56 loss: 0.017296319719306317\n",
      "epoch: 57 loss: 0.01722366956135865\n",
      "epoch: 58 loss: 0.017143813607174804\n",
      "epoch: 59 loss: 0.017100146347273155\n",
      "epoch: 60 loss: 0.017047818129261334\n",
      "epoch: 61 loss: 0.01703116823029652\n",
      "epoch: 62 loss: 0.016978897953106\n",
      "epoch: 63 loss: 0.01691693907136216\n",
      "epoch: 64 loss: 0.01686823380280858\n",
      "epoch: 65 loss: 0.016880597755285016\n",
      "epoch: 66 loss: 0.01679025005116668\n",
      "epoch: 67 loss: 0.016825774288649082\n",
      "epoch: 68 loss: 0.016579750269539794\n",
      "epoch: 69 loss: 0.01630711600128631\n",
      "epoch: 70 loss: 0.0161405399089421\n",
      "epoch: 71 loss: 0.01611990880304843\n",
      "epoch: 72 loss: 0.015990834715444775\n",
      "epoch: 73 loss: 0.016044622034266983\n",
      "epoch: 74 loss: 0.01592706298902073\n",
      "epoch: 75 loss: 0.01586308198796118\n",
      "epoch: 76 loss: 0.01583338086406111\n",
      "epoch: 77 loss: 0.015803071931841668\n",
      "epoch: 78 loss: 0.01579385670948397\n",
      "epoch: 79 loss: 0.01573218980608752\n",
      "epoch: 80 loss: 0.015689605822584378\n",
      "epoch: 81 loss: 0.015940796058931936\n",
      "epoch: 82 loss: 0.015850538937270307\n",
      "epoch: 83 loss: 0.01566361217874657\n",
      "epoch: 84 loss: 0.015606591877377547\n",
      "epoch: 85 loss: 0.015588722830073218\n",
      "epoch: 86 loss: 0.015648861157564857\n",
      "epoch: 87 loss: 0.015669206614267735\n",
      "epoch: 88 loss: 0.015544931301393648\n",
      "epoch: 89 loss: 0.015589138248774888\n",
      "epoch: 90 loss: 0.015523264259588294\n",
      "epoch: 91 loss: 0.01553994244529625\n",
      "epoch: 92 loss: 0.01549999930717972\n",
      "epoch: 93 loss: 0.01543459091300654\n",
      "epoch: 94 loss: 0.015497855266577073\n",
      "epoch: 95 loss: 0.015439881203689155\n",
      "epoch: 96 loss: 0.015369810896475664\n",
      "epoch: 97 loss: 0.015361123088719357\n",
      "epoch: 98 loss: 0.015336239072127958\n",
      "epoch: 99 loss: 0.015313630264377995\n",
      "epoch: 100 loss: 0.015330087424915158\n"
     ]
    }
   ],
   "source": [
    "# Training the AE\n",
    "n_epochs = 100\n",
    "history = []\n",
    "\n",
    "for epoch in range(1, n_epochs + 1):   \n",
    "    train_loss = 0\n",
    "    for batch in train_dataloader:\n",
    "        optimizer.zero_grad()\n",
    "        \n",
    "        user_tensor, true_user_tensor = batch\n",
    "        \n",
    "        input_tensor = user_tensor.to_dense().to(device)\n",
    "        target = true_user_tensor.to_dense().to(device)\n",
    "        \n",
    "        output = ae(input_tensor)\n",
    "        target.require_grad = False # we don't use it in training\n",
    "\n",
    "        loss = criterion(output, target)\n",
    "        loss.backward()\n",
    "        optimizer.step()\n",
    "        train_loss += loss.data.item()\n",
    "        \n",
    "    history.append(train_loss / len(train_dataloader))\n",
    "        \n",
    "    print('epoch: '+str(epoch)+' loss: '+str(train_loss / len(train_dataloader)))"
   ]
  },
  {
   "cell_type": "code",
   "execution_count": 27,
   "id": "507dd8fc",
   "metadata": {
    "ExecuteTime": {
     "end_time": "2022-10-02T10:47:05.431106Z",
     "start_time": "2022-10-02T10:47:05.240873Z"
    }
   },
   "outputs": [
    {
     "data": {
      "text/plain": [
       "[<matplotlib.lines.Line2D at 0x1fd54a21d00>]"
      ]
     },
     "execution_count": 27,
     "metadata": {},
     "output_type": "execute_result"
    },
    {
     "data": {
      "image/png": "[encoded data removed]",
      "text/plain": [
       "<Figure size 432x288 with 1 Axes>"
      ]
     },
     "metadata": {
      "needs_background": "light"
     },
     "output_type": "display_data"
    }
   ],
   "source": [
    "plt.plot(history)"
   ]
  },
  {
   "cell_type": "code",
   "execution_count": 30,
   "id": "64036a77",
   "metadata": {
    "ExecuteTime": {
     "end_time": "2022-10-02T10:48:06.115852Z",
     "start_time": "2022-10-02T10:48:02.674119Z"
    }
   },
   "outputs": [
    {
     "name": "stdout",
     "output_type": "stream",
     "text": [
      "test loss: 0.02183415055544881\n"
     ]
    }
   ],
   "source": [
    "# Testing the AE\n",
    "test_loss = 0\n",
    "\n",
    "for user in testset.userid.unique():\n",
    "    itemidx = testset.loc[testset.userid == user, data_description['items']].values\n",
    "    feedbackidx = testset.loc[testset.userid == user, data_description['feedback']].values\n",
    "    values = np.ones(len(itemidx), dtype=np.float32)\n",
    "\n",
    "    user_tensor_test = torch.sparse_coo_tensor(np.array([itemidx, feedbackidx-1]), torch.tensor(values),\n",
    "                              size=torch.Size((data_description[\"n_items\"], data_description['n_ratings']))).to_dense().to(device).unsqueeze(0)\n",
    "    target = user_tensor_test.clone()\n",
    "    \n",
    "    output = ae(user_tensor_test)\n",
    "    target.require_grad = False\n",
    "\n",
    "    loss = criterion(output, target)\n",
    "    test_loss += loss.data.item()\n",
    "    \n",
    "print('test loss: '+str(test_loss / testset.userid.nunique()))"
   ]
  },
  {
   "cell_type": "code",
   "execution_count": 51,
   "id": "699a217e",
   "metadata": {
    "ExecuteTime": {
     "end_time": "2022-10-02T11:12:59.575425Z",
     "start_time": "2022-10-02T11:12:55.952914Z"
    }
   },
   "outputs": [],
   "source": [
    "scores = torch.zeros((len(testset.userid.unique()), data_description['n_items']))\n",
    "for i, user in enumerate(testset.userid.unique()):\n",
    "    itemidx = testset.loc[testset.userid == user, data_description['items']].values\n",
    "    feedbackidx = testset.loc[testset.userid == user, data_description['feedback']].values\n",
    "    values = np.ones(len(itemidx), dtype=np.float32)\n",
    "\n",
    "    user_matrix_test = torch.sparse_coo_tensor(np.array([itemidx, feedbackidx-1]), torch.tensor(values),\n",
    "                              size=torch.Size((data_description[\"n_items\"], data_description['n_ratings']))).to_dense().unsqueeze(0).to(device)\n",
    "    \n",
    "    output = ae(user_matrix_test)\n",
    "    scores[i] = output[0][:, -1].T\n",
    "\n",
    "        \n",
    "scores = scores.detach().numpy()"
   ]
  },
  {
   "cell_type": "code",
   "execution_count": 52,
   "id": "1fe69f48",
   "metadata": {
    "ExecuteTime": {
     "end_time": "2022-10-02T11:13:00.446786Z",
     "start_time": "2022-10-02T11:13:00.259771Z"
    },
    "scrolled": true
   },
   "outputs": [
    {
     "name": "stdout",
     "output_type": "stream",
     "text": [
      "HR@5 = 0.0207, MRR@5 = 0.0097, Coverage@5 = 0.2287\n",
      "HR_pos@5 = 0.0196, HR_neg@5 = 0.0012\n",
      "MRR_pos@5 = 0.0089, MRR_neg@5 = 0.0007\n",
      "Matthews@5 = 0.0455\n",
      "-------------------------------------\n",
      "HR@10 = 0.0288, MRR@10 = 0.0107, Coverage@10 = 0.2981\n",
      "HR_pos@10 = 0.0265, HR_neg@10 = 0.0023\n",
      "MRR_pos@10 = 0.0098, MRR_neg@10 = 0.0009\n",
      "Matthews@10 = 0.0427\n",
      "-------------------------------------\n",
      "HR@20 = 0.0454, MRR@20 = 0.0119, Coverage@20 = 0.4004\n",
      "HR_pos@20 = 0.0431, HR_neg@20 = 0.0023\n",
      "MRR_pos@20 = 0.0110, MRR_neg@20 = 0.0009\n",
      "Matthews@20 = 0.0711\n",
      "-------------------------------------\n"
     ]
    },
    {
     "data": {
      "text/plain": [
       "(0.010699453252644743, 0.02875215641173088, 0.042746208372664046)"
      ]
     },
     "execution_count": 52,
     "metadata": {},
     "output_type": "execute_result"
    }
   ],
   "source": [
    "# our\n",
    "downvote_seen_items(scores, testset, data_description)\n",
    "make_prediction(scores, holdout, data_description)"
   ]
  }
 ],
 "metadata": {
  "kernelspec": {
   "display_name": "Python 3 (ipykernel)",
   "language": "python",
   "name": "python3"
  },
  "language_info": {
   "codemirror_mode": {
    "name": "ipython",
    "version": 3
   },
   "file_extension": ".py",
   "mimetype": "text/x-python",
   "name": "python",
   "nbconvert_exporter": "python",
   "pygments_lexer": "ipython3",
   "version": "3.9.13"
  },
  "toc": {
   "base_numbering": 1,
   "nav_menu": {},
   "number_sections": true,
   "sideBar": true,
   "skip_h1_title": false,
   "title_cell": "Table of Contents",
   "title_sidebar": "Contents",
   "toc_cell": false,
   "toc_position": {
    "height": "621.778px",
    "left": "651px",
    "top": "110.806px",
    "width": "384px"
   },
   "toc_section_display": true,
   "toc_window_display": true
  },
  "varInspector": {
   "cols": {
    "lenName": 16,
    "lenType": 16,
    "lenVar": 40
   },
   "kernels_config": {
    "python": {
     "delete_cmd_postfix": "",
     "delete_cmd_prefix": "del ",
     "library": "var_list.py",
     "varRefreshCmd": "print(var_dic_list())"
    },
    "r": {
     "delete_cmd_postfix": ") ",
     "delete_cmd_prefix": "rm(",
     "library": "var_list.r",
     "varRefreshCmd": "cat(var_dic_list()) "
    }
   },
   "types_to_exclude": [
    "module",
    "function",
    "builtin_function_or_method",
    "instance",
    "_Feature"
   ],
   "window_display": false
  }
 },
 "nbformat": 4,
 "nbformat_minor": 5
}
