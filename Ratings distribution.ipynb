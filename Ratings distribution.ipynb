{
 "cells": [
  {
   "cell_type": "code",
   "execution_count": 6,
   "id": "fed0cd24",
   "metadata": {
    "ExecuteTime": {
     "end_time": "2023-06-02T11:02:42.071206Z",
     "start_time": "2023-06-02T11:02:42.055824Z"
    }
   },
   "outputs": [],
   "source": [
    "import pandas as pd\n",
    "import matplotlib.pyplot as plt"
   ]
  },
  {
   "cell_type": "markdown",
   "id": "deb83458",
   "metadata": {},
   "source": [
    "## ML 1M"
   ]
  },
  {
   "cell_type": "code",
   "execution_count": 7,
   "id": "01d76a2d",
   "metadata": {
    "ExecuteTime": {
     "end_time": "2023-06-02T11:02:43.753276Z",
     "start_time": "2023-06-02T11:02:42.688219Z"
    }
   },
   "outputs": [],
   "source": [
    "df = pd.read_csv('ml-1m.csv')"
   ]
  },
  {
   "cell_type": "code",
   "execution_count": 8,
   "id": "6f0b155c",
   "metadata": {
    "ExecuteTime": {
     "end_time": "2023-06-02T11:02:43.946569Z",
     "start_time": "2023-06-02T11:02:43.844228Z"
    }
   },
   "outputs": [
    {
     "data": {
      "text/html": [
       "<div>\n",
       "<style scoped>\n",
       "    .dataframe tbody tr th:only-of-type {\n",
       "        vertical-align: middle;\n",
       "    }\n",
       "\n",
       "    .dataframe tbody tr th {\n",
       "        vertical-align: top;\n",
       "    }\n",
       "\n",
       "    .dataframe thead th {\n",
       "        text-align: right;\n",
       "    }\n",
       "</style>\n",
       "<table border=\"1\" class=\"dataframe\">\n",
       "  <thead>\n",
       "    <tr style=\"text-align: right;\">\n",
       "      <th></th>\n",
       "      <th>userId</th>\n",
       "      <th>movieId</th>\n",
       "      <th>rating</th>\n",
       "      <th>timestamp</th>\n",
       "    </tr>\n",
       "  </thead>\n",
       "  <tbody>\n",
       "    <tr>\n",
       "      <th>0</th>\n",
       "      <td>1</td>\n",
       "      <td>1193</td>\n",
       "      <td>5</td>\n",
       "      <td>978300760</td>\n",
       "    </tr>\n",
       "    <tr>\n",
       "      <th>1</th>\n",
       "      <td>1</td>\n",
       "      <td>661</td>\n",
       "      <td>3</td>\n",
       "      <td>978302109</td>\n",
       "    </tr>\n",
       "    <tr>\n",
       "      <th>2</th>\n",
       "      <td>1</td>\n",
       "      <td>914</td>\n",
       "      <td>3</td>\n",
       "      <td>978301968</td>\n",
       "    </tr>\n",
       "    <tr>\n",
       "      <th>3</th>\n",
       "      <td>1</td>\n",
       "      <td>3408</td>\n",
       "      <td>4</td>\n",
       "      <td>978300275</td>\n",
       "    </tr>\n",
       "    <tr>\n",
       "      <th>4</th>\n",
       "      <td>1</td>\n",
       "      <td>2355</td>\n",
       "      <td>5</td>\n",
       "      <td>978824291</td>\n",
       "    </tr>\n",
       "  </tbody>\n",
       "</table>\n",
       "</div>"
      ],
      "text/plain": [
       "   userId  movieId  rating  timestamp\n",
       "0       1     1193       5  978300760\n",
       "1       1      661       3  978302109\n",
       "2       1      914       3  978301968\n",
       "3       1     3408       4  978300275\n",
       "4       1     2355       5  978824291"
      ]
     },
     "execution_count": 8,
     "metadata": {},
     "output_type": "execute_result"
    }
   ],
   "source": [
    "df.head()"
   ]
  },
  {
   "cell_type": "code",
   "execution_count": 9,
   "id": "94b9bc95",
   "metadata": {
    "ExecuteTime": {
     "end_time": "2023-06-02T11:02:44.874131Z",
     "start_time": "2023-06-02T11:02:44.741554Z"
    }
   },
   "outputs": [
    {
     "data": {
      "text/plain": [
       "count    1.000209e+06\n",
       "mean     3.581564e+00\n",
       "std      1.117102e+00\n",
       "min      1.000000e+00\n",
       "25%      3.000000e+00\n",
       "50%      4.000000e+00\n",
       "75%      4.000000e+00\n",
       "max      5.000000e+00\n",
       "Name: rating, dtype: float64"
      ]
     },
     "execution_count": 9,
     "metadata": {},
     "output_type": "execute_result"
    }
   ],
   "source": [
    "df['rating'].describe()"
   ]
  },
  {
   "cell_type": "code",
   "execution_count": 12,
   "id": "9a48f1d4",
   "metadata": {
    "ExecuteTime": {
     "end_time": "2023-06-02T11:03:48.287387Z",
     "start_time": "2023-06-02T11:03:47.480029Z"
    }
   },
   "outputs": [
    {
     "data": {
      "image/png": "[encoded data removed]",
      "text/plain": [
       "<Figure size 600x400 with 1 Axes>"
      ]
     },
     "metadata": {},
     "output_type": "display_data"
    }
   ],
   "source": [
    "plt.figure(figsize=(6,4))\n",
    "plt.axvline(np.quantile(df['rating'], 0.25), c='k', linestyle='--', label='25% quantile')\n",
    "plt.hist(df['rating'], bins=5, color='royalblue')\n",
    "plt.xticks(np.arange(1,6), np.arange(1,6), fontsize=16)\n",
    "plt.yticks(fontsize=16)\n",
    "plt.legend(fontsize=14);"
   ]
  },
  {
   "cell_type": "markdown",
   "id": "7760a738",
   "metadata": {},
   "source": [
    "## Video Games"
   ]
  },
  {
   "cell_type": "code",
   "execution_count": 13,
   "id": "2d84d3cd",
   "metadata": {
    "ExecuteTime": {
     "end_time": "2023-06-02T11:04:06.086288Z",
     "start_time": "2023-06-02T11:04:05.546807Z"
    }
   },
   "outputs": [],
   "source": [
    "df = pd.read_csv('Amazon_Video_Games.csv')"
   ]
  },
  {
   "cell_type": "code",
   "execution_count": 14,
   "id": "873eaa74",
   "metadata": {
    "ExecuteTime": {
     "end_time": "2023-06-02T11:04:06.689012Z",
     "start_time": "2023-06-02T11:04:06.655754Z"
    }
   },
   "outputs": [
    {
     "data": {
      "text/html": [
       "<div>\n",
       "<style scoped>\n",
       "    .dataframe tbody tr th:only-of-type {\n",
       "        vertical-align: middle;\n",
       "    }\n",
       "\n",
       "    .dataframe tbody tr th {\n",
       "        vertical-align: top;\n",
       "    }\n",
       "\n",
       "    .dataframe thead th {\n",
       "        text-align: right;\n",
       "    }\n",
       "</style>\n",
       "<table border=\"1\" class=\"dataframe\">\n",
       "  <thead>\n",
       "    <tr style=\"text-align: right;\">\n",
       "      <th></th>\n",
       "      <th>reviewerID</th>\n",
       "      <th>asin</th>\n",
       "      <th>overall</th>\n",
       "      <th>unixReviewTime</th>\n",
       "    </tr>\n",
       "  </thead>\n",
       "  <tbody>\n",
       "    <tr>\n",
       "      <th>0</th>\n",
       "      <td>A2HD75EMZR8QLN</td>\n",
       "      <td>0700099867</td>\n",
       "      <td>1.0</td>\n",
       "      <td>1341792000</td>\n",
       "    </tr>\n",
       "    <tr>\n",
       "      <th>1</th>\n",
       "      <td>A3UR8NLLY1ZHCX</td>\n",
       "      <td>0700099867</td>\n",
       "      <td>4.0</td>\n",
       "      <td>1372550400</td>\n",
       "    </tr>\n",
       "    <tr>\n",
       "      <th>2</th>\n",
       "      <td>A1INA0F5CWW3J4</td>\n",
       "      <td>0700099867</td>\n",
       "      <td>1.0</td>\n",
       "      <td>1403913600</td>\n",
       "    </tr>\n",
       "    <tr>\n",
       "      <th>3</th>\n",
       "      <td>A1DLMTOTHQ4AST</td>\n",
       "      <td>0700099867</td>\n",
       "      <td>3.0</td>\n",
       "      <td>1315958400</td>\n",
       "    </tr>\n",
       "    <tr>\n",
       "      <th>4</th>\n",
       "      <td>A361M14PU2GUEG</td>\n",
       "      <td>0700099867</td>\n",
       "      <td>4.0</td>\n",
       "      <td>1308009600</td>\n",
       "    </tr>\n",
       "  </tbody>\n",
       "</table>\n",
       "</div>"
      ],
      "text/plain": [
       "       reviewerID        asin  overall  unixReviewTime\n",
       "0  A2HD75EMZR8QLN  0700099867      1.0      1341792000\n",
       "1  A3UR8NLLY1ZHCX  0700099867      4.0      1372550400\n",
       "2  A1INA0F5CWW3J4  0700099867      1.0      1403913600\n",
       "3  A1DLMTOTHQ4AST  0700099867      3.0      1315958400\n",
       "4  A361M14PU2GUEG  0700099867      4.0      1308009600"
      ]
     },
     "execution_count": 14,
     "metadata": {},
     "output_type": "execute_result"
    }
   ],
   "source": [
    "df.head()"
   ]
  },
  {
   "cell_type": "code",
   "execution_count": 15,
   "id": "19b44617",
   "metadata": {
    "ExecuteTime": {
     "end_time": "2023-06-02T11:04:07.123146Z",
     "start_time": "2023-06-02T11:04:07.065019Z"
    }
   },
   "outputs": [
    {
     "data": {
      "text/plain": [
       "count    231780.000000\n",
       "mean          4.086397\n",
       "std           1.202330\n",
       "min           1.000000\n",
       "25%           4.000000\n",
       "50%           5.000000\n",
       "75%           5.000000\n",
       "max           5.000000\n",
       "Name: overall, dtype: float64"
      ]
     },
     "execution_count": 15,
     "metadata": {},
     "output_type": "execute_result"
    }
   ],
   "source": [
    "df['overall'].describe()"
   ]
  },
  {
   "cell_type": "code",
   "execution_count": 16,
   "id": "f90307f9",
   "metadata": {
    "ExecuteTime": {
     "end_time": "2023-06-02T11:04:18.762684Z",
     "start_time": "2023-06-02T11:04:18.191743Z"
    }
   },
   "outputs": [
    {
     "data": {
      "image/png": "[encoded data removed]",
      "text/plain": [
       "<Figure size 600x400 with 1 Axes>"
      ]
     },
     "metadata": {},
     "output_type": "display_data"
    }
   ],
   "source": [
    "plt.figure(figsize=(6,4))\n",
    "plt.axvline(np.quantile(df['overall'], 0.25), c='k', linestyle='--', label='25% quantile')\n",
    "plt.hist(df['overall'], bins=5, color='royalblue')\n",
    "plt.xticks(np.arange(1,6), np.arange(1,6), fontsize=16)\n",
    "plt.yticks(fontsize=16)\n",
    "plt.legend(fontsize=14);"
   ]
  },
  {
   "cell_type": "markdown",
   "id": "6ac9b24b",
   "metadata": {},
   "source": [
    "## Clothing"
   ]
  },
  {
   "cell_type": "code",
   "execution_count": 17,
   "id": "fe9edd01",
   "metadata": {
    "ExecuteTime": {
     "end_time": "2023-06-02T11:04:30.767846Z",
     "start_time": "2023-06-02T11:04:25.477478Z"
    }
   },
   "outputs": [],
   "source": [
    "df = pd.read_csv('Amazon_Clothing_Shoes_and_Jewelry.csv')"
   ]
  },
  {
   "cell_type": "code",
   "execution_count": 18,
   "id": "b313d3e4",
   "metadata": {
    "ExecuteTime": {
     "end_time": "2023-06-02T11:04:30.904876Z",
     "start_time": "2023-06-02T11:04:30.853805Z"
    }
   },
   "outputs": [
    {
     "data": {
      "text/html": [
       "<div>\n",
       "<style scoped>\n",
       "    .dataframe tbody tr th:only-of-type {\n",
       "        vertical-align: middle;\n",
       "    }\n",
       "\n",
       "    .dataframe tbody tr th {\n",
       "        vertical-align: top;\n",
       "    }\n",
       "\n",
       "    .dataframe thead th {\n",
       "        text-align: right;\n",
       "    }\n",
       "</style>\n",
       "<table border=\"1\" class=\"dataframe\">\n",
       "  <thead>\n",
       "    <tr style=\"text-align: right;\">\n",
       "      <th></th>\n",
       "      <th>Unnamed: 0</th>\n",
       "      <th>reviewerID</th>\n",
       "      <th>asin</th>\n",
       "      <th>reviewerName</th>\n",
       "      <th>helpful</th>\n",
       "      <th>reviewText</th>\n",
       "      <th>overall</th>\n",
       "      <th>summary</th>\n",
       "      <th>unixReviewTime</th>\n",
       "      <th>reviewTime</th>\n",
       "    </tr>\n",
       "  </thead>\n",
       "  <tbody>\n",
       "    <tr>\n",
       "      <th>0</th>\n",
       "      <td>0</td>\n",
       "      <td>A1KLRMWW2FWPL4</td>\n",
       "      <td>0000031887</td>\n",
       "      <td>Amazon Customer \"cameramom\"</td>\n",
       "      <td>[0, 0]</td>\n",
       "      <td>This is a great tutu and at a really great pri...</td>\n",
       "      <td>5.0</td>\n",
       "      <td>Great tutu-  not cheaply made</td>\n",
       "      <td>1297468800</td>\n",
       "      <td>02 12, 2011</td>\n",
       "    </tr>\n",
       "    <tr>\n",
       "      <th>1</th>\n",
       "      <td>1</td>\n",
       "      <td>A2G5TCU2WDFZ65</td>\n",
       "      <td>0000031887</td>\n",
       "      <td>Amazon Customer</td>\n",
       "      <td>[0, 0]</td>\n",
       "      <td>I bought this for my 4 yr old daughter for dan...</td>\n",
       "      <td>5.0</td>\n",
       "      <td>Very Cute!!</td>\n",
       "      <td>1358553600</td>\n",
       "      <td>01 19, 2013</td>\n",
       "    </tr>\n",
       "    <tr>\n",
       "      <th>2</th>\n",
       "      <td>2</td>\n",
       "      <td>A1RLQXYNCMWRWN</td>\n",
       "      <td>0000031887</td>\n",
       "      <td>Carola</td>\n",
       "      <td>[0, 0]</td>\n",
       "      <td>What can I say... my daughters have it in oran...</td>\n",
       "      <td>5.0</td>\n",
       "      <td>I have buy more than one</td>\n",
       "      <td>1357257600</td>\n",
       "      <td>01 4, 2013</td>\n",
       "    </tr>\n",
       "    <tr>\n",
       "      <th>3</th>\n",
       "      <td>3</td>\n",
       "      <td>A8U3FAMSJVHS5</td>\n",
       "      <td>0000031887</td>\n",
       "      <td>Caromcg</td>\n",
       "      <td>[0, 0]</td>\n",
       "      <td>We bought several tutus at once, and they are ...</td>\n",
       "      <td>5.0</td>\n",
       "      <td>Adorable, Sturdy</td>\n",
       "      <td>1398556800</td>\n",
       "      <td>04 27, 2014</td>\n",
       "    </tr>\n",
       "    <tr>\n",
       "      <th>4</th>\n",
       "      <td>4</td>\n",
       "      <td>A3GEOILWLK86XM</td>\n",
       "      <td>0000031887</td>\n",
       "      <td>CJ</td>\n",
       "      <td>[0, 0]</td>\n",
       "      <td>Thank you Halo Heaven great product for Little...</td>\n",
       "      <td>5.0</td>\n",
       "      <td>Grammy's Angels Love it</td>\n",
       "      <td>1394841600</td>\n",
       "      <td>03 15, 2014</td>\n",
       "    </tr>\n",
       "  </tbody>\n",
       "</table>\n",
       "</div>"
      ],
      "text/plain": [
       "   Unnamed: 0      reviewerID        asin                 reviewerName  \\\n",
       "0           0  A1KLRMWW2FWPL4  0000031887  Amazon Customer \"cameramom\"   \n",
       "1           1  A2G5TCU2WDFZ65  0000031887              Amazon Customer   \n",
       "2           2  A1RLQXYNCMWRWN  0000031887                       Carola   \n",
       "3           3   A8U3FAMSJVHS5  0000031887                      Caromcg   \n",
       "4           4  A3GEOILWLK86XM  0000031887                           CJ   \n",
       "\n",
       "  helpful                                         reviewText  overall  \\\n",
       "0  [0, 0]  This is a great tutu and at a really great pri...      5.0   \n",
       "1  [0, 0]  I bought this for my 4 yr old daughter for dan...      5.0   \n",
       "2  [0, 0]  What can I say... my daughters have it in oran...      5.0   \n",
       "3  [0, 0]  We bought several tutus at once, and they are ...      5.0   \n",
       "4  [0, 0]  Thank you Halo Heaven great product for Little...      5.0   \n",
       "\n",
       "                         summary  unixReviewTime   reviewTime  \n",
       "0  Great tutu-  not cheaply made      1297468800  02 12, 2011  \n",
       "1                    Very Cute!!      1358553600  01 19, 2013  \n",
       "2       I have buy more than one      1357257600   01 4, 2013  \n",
       "3               Adorable, Sturdy      1398556800  04 27, 2014  \n",
       "4        Grammy's Angels Love it      1394841600  03 15, 2014  "
      ]
     },
     "execution_count": 18,
     "metadata": {},
     "output_type": "execute_result"
    }
   ],
   "source": [
    "df.head()"
   ]
  },
  {
   "cell_type": "code",
   "execution_count": 19,
   "id": "9e521ed0",
   "metadata": {
    "ExecuteTime": {
     "end_time": "2023-06-02T11:04:32.753543Z",
     "start_time": "2023-06-02T11:04:32.711949Z"
    }
   },
   "outputs": [
    {
     "data": {
      "text/plain": [
       "count    278677.000000\n",
       "mean          4.245133\n",
       "std           1.103747\n",
       "min           1.000000\n",
       "25%           4.000000\n",
       "50%           5.000000\n",
       "75%           5.000000\n",
       "max           5.000000\n",
       "Name: overall, dtype: float64"
      ]
     },
     "execution_count": 19,
     "metadata": {},
     "output_type": "execute_result"
    }
   ],
   "source": [
    "df['overall'].describe()"
   ]
  },
  {
   "cell_type": "code",
   "execution_count": 20,
   "id": "b27069ef",
   "metadata": {
    "ExecuteTime": {
     "end_time": "2023-06-02T11:04:36.553474Z",
     "start_time": "2023-06-02T11:04:35.083141Z"
    }
   },
   "outputs": [
    {
     "data": {
      "image/png": "[encoded data removed]",
      "text/plain": [
       "<Figure size 600x400 with 1 Axes>"
      ]
     },
     "metadata": {},
     "output_type": "display_data"
    }
   ],
   "source": [
    "plt.figure(figsize=(6,4))\n",
    "plt.axvline(np.quantile(df['overall'], 0.25), c='k', linestyle='--', label='25% quantile')\n",
    "plt.hist(df['overall'], bins=5, color='royalblue')\n",
    "plt.xticks(np.arange(1,6), np.arange(1,6), fontsize=16)\n",
    "plt.yticks(fontsize=16)\n",
    "plt.legend(fontsize=14);"
   ]
  },
  {
   "cell_type": "markdown",
   "id": "cca0377d",
   "metadata": {},
   "source": [
    "## Food"
   ]
  },
  {
   "cell_type": "code",
   "execution_count": 21,
   "id": "349a4121",
   "metadata": {
    "ExecuteTime": {
     "end_time": "2023-06-02T11:04:46.351599Z",
     "start_time": "2023-06-02T11:04:44.608209Z"
    }
   },
   "outputs": [],
   "source": [
    "df = pd.read_csv('Food_com.csv')\n",
    "df.rename(columns={'user_id': 'userid', 'recipe_id': 'movieid', \"date\": \"timestamp\"}, inplace=True)\n",
    "df['timestamp'] = pd.to_datetime(df['timestamp'])\n",
    "df['rating'] = df['rating'] + 1"
   ]
  },
  {
   "cell_type": "code",
   "execution_count": 22,
   "id": "b279efd5",
   "metadata": {
    "ExecuteTime": {
     "end_time": "2023-06-02T11:04:47.045766Z",
     "start_time": "2023-06-02T11:04:47.002628Z"
    },
    "scrolled": true
   },
   "outputs": [
    {
     "data": {
      "text/html": [
       "<div>\n",
       "<style scoped>\n",
       "    .dataframe tbody tr th:only-of-type {\n",
       "        vertical-align: middle;\n",
       "    }\n",
       "\n",
       "    .dataframe tbody tr th {\n",
       "        vertical-align: top;\n",
       "    }\n",
       "\n",
       "    .dataframe thead th {\n",
       "        text-align: right;\n",
       "    }\n",
       "</style>\n",
       "<table border=\"1\" class=\"dataframe\">\n",
       "  <thead>\n",
       "    <tr style=\"text-align: right;\">\n",
       "      <th></th>\n",
       "      <th>userid</th>\n",
       "      <th>movieid</th>\n",
       "      <th>timestamp</th>\n",
       "      <th>rating</th>\n",
       "      <th>u</th>\n",
       "      <th>i</th>\n",
       "    </tr>\n",
       "  </thead>\n",
       "  <tbody>\n",
       "    <tr>\n",
       "      <th>0</th>\n",
       "      <td>2046</td>\n",
       "      <td>4684</td>\n",
       "      <td>2000-02-25</td>\n",
       "      <td>6.0</td>\n",
       "      <td>22095</td>\n",
       "      <td>44367</td>\n",
       "    </tr>\n",
       "    <tr>\n",
       "      <th>1</th>\n",
       "      <td>2046</td>\n",
       "      <td>517</td>\n",
       "      <td>2000-02-25</td>\n",
       "      <td>6.0</td>\n",
       "      <td>22095</td>\n",
       "      <td>87844</td>\n",
       "    </tr>\n",
       "    <tr>\n",
       "      <th>2</th>\n",
       "      <td>1773</td>\n",
       "      <td>7435</td>\n",
       "      <td>2000-03-13</td>\n",
       "      <td>6.0</td>\n",
       "      <td>24732</td>\n",
       "      <td>138181</td>\n",
       "    </tr>\n",
       "    <tr>\n",
       "      <th>3</th>\n",
       "      <td>1773</td>\n",
       "      <td>278</td>\n",
       "      <td>2000-03-13</td>\n",
       "      <td>5.0</td>\n",
       "      <td>24732</td>\n",
       "      <td>93054</td>\n",
       "    </tr>\n",
       "    <tr>\n",
       "      <th>4</th>\n",
       "      <td>2046</td>\n",
       "      <td>3431</td>\n",
       "      <td>2000-04-07</td>\n",
       "      <td>6.0</td>\n",
       "      <td>22095</td>\n",
       "      <td>101723</td>\n",
       "    </tr>\n",
       "  </tbody>\n",
       "</table>\n",
       "</div>"
      ],
      "text/plain": [
       "   userid  movieid  timestamp  rating      u       i\n",
       "0    2046     4684 2000-02-25     6.0  22095   44367\n",
       "1    2046      517 2000-02-25     6.0  22095   87844\n",
       "2    1773     7435 2000-03-13     6.0  24732  138181\n",
       "3    1773      278 2000-03-13     5.0  24732   93054\n",
       "4    2046     3431 2000-04-07     6.0  22095  101723"
      ]
     },
     "execution_count": 22,
     "metadata": {},
     "output_type": "execute_result"
    }
   ],
   "source": [
    "df.head()"
   ]
  },
  {
   "cell_type": "code",
   "execution_count": 23,
   "id": "54591984",
   "metadata": {
    "ExecuteTime": {
     "end_time": "2023-06-02T11:04:48.089343Z",
     "start_time": "2023-06-02T11:04:48.013957Z"
    }
   },
   "outputs": [
    {
     "data": {
      "text/plain": [
       "count    718379.000000\n",
       "mean          5.564495\n",
       "std           0.972494\n",
       "min           1.000000\n",
       "25%           5.000000\n",
       "50%           6.000000\n",
       "75%           6.000000\n",
       "max           6.000000\n",
       "Name: rating, dtype: float64"
      ]
     },
     "execution_count": 23,
     "metadata": {},
     "output_type": "execute_result"
    }
   ],
   "source": [
    "df['rating'].describe()"
   ]
  },
  {
   "cell_type": "code",
   "execution_count": 24,
   "id": "69bb28e6",
   "metadata": {
    "ExecuteTime": {
     "end_time": "2023-06-02T11:05:00.250664Z",
     "start_time": "2023-06-02T11:04:59.604309Z"
    }
   },
   "outputs": [
    {
     "data": {
      "image/png": "[encoded data removed]",
      "text/plain": [
       "<Figure size 600x400 with 1 Axes>"
      ]
     },
     "metadata": {},
     "output_type": "display_data"
    }
   ],
   "source": [
    "plt.figure(figsize=(6,4))\n",
    "plt.axvline(np.quantile(df['rating'], 0.25), c='k', linestyle='--', label='25% quantile')\n",
    "plt.hist(df['rating'], bins=6, color='royalblue')\n",
    "plt.xticks(np.arange(1,7), np.arange(1,7), fontsize=16)\n",
    "plt.yticks(fontsize=16)\n",
    "plt.legend(fontsize=14);"
   ]
  },
  {
   "cell_type": "code",
   "execution_count": null,
   "id": "21b7e344",
   "metadata": {},
   "outputs": [],
   "source": []
  }
 ],
 "metadata": {
  "kernelspec": {
   "display_name": "Python 3 (ipykernel)",
   "language": "python",
   "name": "python3"
  },
  "language_info": {
   "codemirror_mode": {
    "name": "ipython",
    "version": 3
   },
   "file_extension": ".py",
   "mimetype": "text/x-python",
   "name": "python",
   "nbconvert_exporter": "python",
   "pygments_lexer": "ipython3",
   "version": "3.9.13"
  },
  "toc": {
   "base_numbering": 1,
   "nav_menu": {},
   "number_sections": true,
   "sideBar": true,
   "skip_h1_title": false,
   "title_cell": "Table of Contents",
   "title_sidebar": "Contents",
   "toc_cell": false,
   "toc_position": {},
   "toc_section_display": true,
   "toc_window_display": false
  },
  "varInspector": {
   "cols": {
    "lenName": 16,
    "lenType": 16,
    "lenVar": 40
   },
   "kernels_config": {
    "python": {
     "delete_cmd_postfix": "",
     "delete_cmd_prefix": "del ",
     "library": "var_list.py",
     "varRefreshCmd": "print(var_dic_list())"
    },
    "r": {
     "delete_cmd_postfix": ") ",
     "delete_cmd_prefix": "rm(",
     "library": "var_list.r",
     "varRefreshCmd": "cat(var_dic_list()) "
    }
   },
   "types_to_exclude": [
    "module",
    "function",
    "builtin_function_or_method",
    "instance",
    "_Feature"
   ],
   "window_display": false
  }
 },
 "nbformat": 4,
 "nbformat_minor": 5
}
