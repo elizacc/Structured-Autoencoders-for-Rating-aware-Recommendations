{
 "cells": [
  {
   "cell_type": "code",
   "execution_count": 1,
   "id": "6104c075",
   "metadata": {
    "ExecuteTime": {
     "end_time": "2023-05-29T13:40:09.757212Z",
     "start_time": "2023-05-29T13:40:09.347214Z"
    }
   },
   "outputs": [],
   "source": [
    "import pandas as pd"
   ]
  },
  {
   "cell_type": "markdown",
   "id": "2870e067",
   "metadata": {},
   "source": [
    "## Base tuning"
   ]
  },
  {
   "cell_type": "code",
   "execution_count": 72,
   "id": "938257d3",
   "metadata": {
    "ExecuteTime": {
     "end_time": "2023-05-29T14:39:11.643589Z",
     "start_time": "2023-05-29T14:39:11.624587Z"
    }
   },
   "outputs": [],
   "source": [
    "with open('logs_food_bae.txt') as f:\n",
    "    lines = f.readlines()"
   ]
  },
  {
   "cell_type": "code",
   "execution_count": 84,
   "id": "466092b6",
   "metadata": {
    "ExecuteTime": {
     "end_time": "2023-05-29T14:39:19.268346Z",
     "start_time": "2023-05-29T14:39:19.250335Z"
    }
   },
   "outputs": [],
   "source": [
    "alpha = 6\n",
    "keys = []\n",
    "alphas = []\n",
    "topks = []\n",
    "mcs = []\n",
    "for line in lines:\n",
    "    if 'Hidden' in line:\n",
    "        for i in range(alpha-1):\n",
    "            for n in [5,10,20]:\n",
    "                keys.append(int(line.split(':')[-1].strip()))\n",
    "                alphas.append(i+2)\n",
    "                topks.append(n)\n",
    "    if 'HR' in line:\n",
    "        mcs.append(float(line.split(':')[-1].strip()))"
   ]
  },
  {
   "cell_type": "code",
   "execution_count": 85,
   "id": "86850710",
   "metadata": {
    "ExecuteTime": {
     "end_time": "2023-05-29T14:39:19.439586Z",
     "start_time": "2023-05-29T14:39:19.433699Z"
    }
   },
   "outputs": [],
   "source": [
    "batches = np.array([[2**i] * 84 for i in range(4,10)]).flatten()"
   ]
  },
  {
   "cell_type": "code",
   "execution_count": 86,
   "id": "1247ce06",
   "metadata": {
    "ExecuteTime": {
     "end_time": "2023-05-29T14:39:19.626618Z",
     "start_time": "2023-05-29T14:39:19.598620Z"
    }
   },
   "outputs": [],
   "source": [
    "res = pd.DataFrame([batches, keys, alphas, topks, mcs]).T\n",
    "res.columns = ['batch_size', 'hidden_size', 'alpha', 'top_k', 'mcc']"
   ]
  },
  {
   "cell_type": "code",
   "execution_count": 87,
   "id": "6b5b9354",
   "metadata": {
    "ExecuteTime": {
     "end_time": "2023-05-29T14:39:19.753622Z",
     "start_time": "2023-05-29T14:39:19.736621Z"
    }
   },
   "outputs": [
    {
     "data": {
      "text/html": [
       "<div>\n",
       "<style scoped>\n",
       "    .dataframe tbody tr th:only-of-type {\n",
       "        vertical-align: middle;\n",
       "    }\n",
       "\n",
       "    .dataframe tbody tr th {\n",
       "        vertical-align: top;\n",
       "    }\n",
       "\n",
       "    .dataframe thead th {\n",
       "        text-align: right;\n",
       "    }\n",
       "</style>\n",
       "<table border=\"1\" class=\"dataframe\">\n",
       "  <thead>\n",
       "    <tr style=\"text-align: right;\">\n",
       "      <th></th>\n",
       "      <th>batch_size</th>\n",
       "      <th>hidden_size</th>\n",
       "      <th>alpha</th>\n",
       "      <th>top_k</th>\n",
       "      <th>mcc</th>\n",
       "    </tr>\n",
       "  </thead>\n",
       "  <tbody>\n",
       "    <tr>\n",
       "      <th>0</th>\n",
       "      <td>16.0</td>\n",
       "      <td>16.0</td>\n",
       "      <td>2.0</td>\n",
       "      <td>5.0</td>\n",
       "      <td>-0.015172</td>\n",
       "    </tr>\n",
       "    <tr>\n",
       "      <th>1</th>\n",
       "      <td>16.0</td>\n",
       "      <td>16.0</td>\n",
       "      <td>2.0</td>\n",
       "      <td>10.0</td>\n",
       "      <td>-0.007058</td>\n",
       "    </tr>\n",
       "    <tr>\n",
       "      <th>2</th>\n",
       "      <td>16.0</td>\n",
       "      <td>16.0</td>\n",
       "      <td>2.0</td>\n",
       "      <td>20.0</td>\n",
       "      <td>-0.039148</td>\n",
       "    </tr>\n",
       "    <tr>\n",
       "      <th>3</th>\n",
       "      <td>16.0</td>\n",
       "      <td>16.0</td>\n",
       "      <td>3.0</td>\n",
       "      <td>5.0</td>\n",
       "      <td>-0.010347</td>\n",
       "    </tr>\n",
       "    <tr>\n",
       "      <th>4</th>\n",
       "      <td>16.0</td>\n",
       "      <td>16.0</td>\n",
       "      <td>3.0</td>\n",
       "      <td>10.0</td>\n",
       "      <td>-0.001370</td>\n",
       "    </tr>\n",
       "  </tbody>\n",
       "</table>\n",
       "</div>"
      ],
      "text/plain": [
       "   batch_size  hidden_size  alpha  top_k       mcc\n",
       "0        16.0         16.0    2.0    5.0 -0.015172\n",
       "1        16.0         16.0    2.0   10.0 -0.007058\n",
       "2        16.0         16.0    2.0   20.0 -0.039148\n",
       "3        16.0         16.0    3.0    5.0 -0.010347\n",
       "4        16.0         16.0    3.0   10.0 -0.001370"
      ]
     },
     "execution_count": 87,
     "metadata": {},
     "output_type": "execute_result"
    }
   ],
   "source": [
    "res.head()"
   ]
  },
  {
   "cell_type": "code",
   "execution_count": 88,
   "id": "3234b1fa",
   "metadata": {
    "ExecuteTime": {
     "end_time": "2023-05-29T14:39:19.924623Z",
     "start_time": "2023-05-29T14:39:19.910621Z"
    }
   },
   "outputs": [],
   "source": [
    "best = res.groupby('alpha')['mcc'].max()"
   ]
  },
  {
   "cell_type": "code",
   "execution_count": 89,
   "id": "7e0341e6",
   "metadata": {
    "ExecuteTime": {
     "end_time": "2023-05-29T14:39:20.066638Z",
     "start_time": "2023-05-29T14:39:20.054632Z"
    }
   },
   "outputs": [
    {
     "data": {
      "text/plain": [
       "alpha\n",
       "2.0    0.020534\n",
       "3.0    0.022694\n",
       "4.0    0.016301\n",
       "5.0    0.016787\n",
       "6.0    0.023696\n",
       "Name: mcc, dtype: float64"
      ]
     },
     "execution_count": 89,
     "metadata": {},
     "output_type": "execute_result"
    }
   ],
   "source": [
    "best"
   ]
  },
  {
   "cell_type": "code",
   "execution_count": 90,
   "id": "bbce7b52",
   "metadata": {
    "ExecuteTime": {
     "end_time": "2023-05-29T14:39:20.224633Z",
     "start_time": "2023-05-29T14:39:20.210621Z"
    }
   },
   "outputs": [
    {
     "data": {
      "text/html": [
       "<div>\n",
       "<style scoped>\n",
       "    .dataframe tbody tr th:only-of-type {\n",
       "        vertical-align: middle;\n",
       "    }\n",
       "\n",
       "    .dataframe tbody tr th {\n",
       "        vertical-align: top;\n",
       "    }\n",
       "\n",
       "    .dataframe thead th {\n",
       "        text-align: right;\n",
       "    }\n",
       "</style>\n",
       "<table border=\"1\" class=\"dataframe\">\n",
       "  <thead>\n",
       "    <tr style=\"text-align: right;\">\n",
       "      <th></th>\n",
       "      <th>batch_size</th>\n",
       "      <th>hidden_size</th>\n",
       "      <th>alpha</th>\n",
       "      <th>top_k</th>\n",
       "      <th>mcc</th>\n",
       "    </tr>\n",
       "  </thead>\n",
       "  <tbody>\n",
       "    <tr>\n",
       "      <th>317</th>\n",
       "      <td>128.0</td>\n",
       "      <td>16.0</td>\n",
       "      <td>2.0</td>\n",
       "      <td>20.0</td>\n",
       "      <td>0.020534</td>\n",
       "    </tr>\n",
       "  </tbody>\n",
       "</table>\n",
       "</div>"
      ],
      "text/plain": [
       "     batch_size  hidden_size  alpha  top_k       mcc\n",
       "317       128.0         16.0    2.0   20.0  0.020534"
      ]
     },
     "execution_count": 90,
     "metadata": {},
     "output_type": "execute_result"
    }
   ],
   "source": [
    "res[res['mcc']==best.loc[2]]"
   ]
  },
  {
   "cell_type": "code",
   "execution_count": 91,
   "id": "b36dd76c",
   "metadata": {
    "ExecuteTime": {
     "end_time": "2023-05-29T14:39:20.380626Z",
     "start_time": "2023-05-29T14:39:20.369620Z"
    }
   },
   "outputs": [
    {
     "data": {
      "text/html": [
       "<div>\n",
       "<style scoped>\n",
       "    .dataframe tbody tr th:only-of-type {\n",
       "        vertical-align: middle;\n",
       "    }\n",
       "\n",
       "    .dataframe tbody tr th {\n",
       "        vertical-align: top;\n",
       "    }\n",
       "\n",
       "    .dataframe thead th {\n",
       "        text-align: right;\n",
       "    }\n",
       "</style>\n",
       "<table border=\"1\" class=\"dataframe\">\n",
       "  <thead>\n",
       "    <tr style=\"text-align: right;\">\n",
       "      <th></th>\n",
       "      <th>batch_size</th>\n",
       "      <th>hidden_size</th>\n",
       "      <th>alpha</th>\n",
       "      <th>top_k</th>\n",
       "      <th>mcc</th>\n",
       "    </tr>\n",
       "  </thead>\n",
       "  <tbody>\n",
       "    <tr>\n",
       "      <th>320</th>\n",
       "      <td>128.0</td>\n",
       "      <td>16.0</td>\n",
       "      <td>3.0</td>\n",
       "      <td>20.0</td>\n",
       "      <td>0.022694</td>\n",
       "    </tr>\n",
       "  </tbody>\n",
       "</table>\n",
       "</div>"
      ],
      "text/plain": [
       "     batch_size  hidden_size  alpha  top_k       mcc\n",
       "320       128.0         16.0    3.0   20.0  0.022694"
      ]
     },
     "execution_count": 91,
     "metadata": {},
     "output_type": "execute_result"
    }
   ],
   "source": [
    "res[res['mcc']==best.loc[3]]"
   ]
  },
  {
   "cell_type": "code",
   "execution_count": 92,
   "id": "d92049b2",
   "metadata": {
    "ExecuteTime": {
     "end_time": "2023-05-29T14:39:20.553619Z",
     "start_time": "2023-05-29T14:39:20.530621Z"
    }
   },
   "outputs": [
    {
     "data": {
      "text/html": [
       "<div>\n",
       "<style scoped>\n",
       "    .dataframe tbody tr th:only-of-type {\n",
       "        vertical-align: middle;\n",
       "    }\n",
       "\n",
       "    .dataframe tbody tr th {\n",
       "        vertical-align: top;\n",
       "    }\n",
       "\n",
       "    .dataframe thead th {\n",
       "        text-align: right;\n",
       "    }\n",
       "</style>\n",
       "<table border=\"1\" class=\"dataframe\">\n",
       "  <thead>\n",
       "    <tr style=\"text-align: right;\">\n",
       "      <th></th>\n",
       "      <th>batch_size</th>\n",
       "      <th>hidden_size</th>\n",
       "      <th>alpha</th>\n",
       "      <th>top_k</th>\n",
       "      <th>mcc</th>\n",
       "    </tr>\n",
       "  </thead>\n",
       "  <tbody>\n",
       "    <tr>\n",
       "      <th>97</th>\n",
       "      <td>32.0</td>\n",
       "      <td>1024.0</td>\n",
       "      <td>4.0</td>\n",
       "      <td>10.0</td>\n",
       "      <td>0.016301</td>\n",
       "    </tr>\n",
       "  </tbody>\n",
       "</table>\n",
       "</div>"
      ],
      "text/plain": [
       "    batch_size  hidden_size  alpha  top_k       mcc\n",
       "97        32.0       1024.0    4.0   10.0  0.016301"
      ]
     },
     "execution_count": 92,
     "metadata": {},
     "output_type": "execute_result"
    }
   ],
   "source": [
    "res[res['mcc']==best.loc[4]]"
   ]
  },
  {
   "cell_type": "code",
   "execution_count": 93,
   "id": "bb735665",
   "metadata": {
    "ExecuteTime": {
     "end_time": "2023-05-29T14:39:20.709624Z",
     "start_time": "2023-05-29T14:39:20.693625Z"
    }
   },
   "outputs": [
    {
     "data": {
      "text/html": [
       "<div>\n",
       "<style scoped>\n",
       "    .dataframe tbody tr th:only-of-type {\n",
       "        vertical-align: middle;\n",
       "    }\n",
       "\n",
       "    .dataframe tbody tr th {\n",
       "        vertical-align: top;\n",
       "    }\n",
       "\n",
       "    .dataframe thead th {\n",
       "        text-align: right;\n",
       "    }\n",
       "</style>\n",
       "<table border=\"1\" class=\"dataframe\">\n",
       "  <thead>\n",
       "    <tr style=\"text-align: right;\">\n",
       "      <th></th>\n",
       "      <th>batch_size</th>\n",
       "      <th>hidden_size</th>\n",
       "      <th>alpha</th>\n",
       "      <th>top_k</th>\n",
       "      <th>mcc</th>\n",
       "    </tr>\n",
       "  </thead>\n",
       "  <tbody>\n",
       "    <tr>\n",
       "      <th>100</th>\n",
       "      <td>32.0</td>\n",
       "      <td>1024.0</td>\n",
       "      <td>5.0</td>\n",
       "      <td>10.0</td>\n",
       "      <td>0.016787</td>\n",
       "    </tr>\n",
       "  </tbody>\n",
       "</table>\n",
       "</div>"
      ],
      "text/plain": [
       "     batch_size  hidden_size  alpha  top_k       mcc\n",
       "100        32.0       1024.0    5.0   10.0  0.016787"
      ]
     },
     "execution_count": 93,
     "metadata": {},
     "output_type": "execute_result"
    }
   ],
   "source": [
    "res[res['mcc']==best.loc[5]]"
   ]
  },
  {
   "cell_type": "code",
   "execution_count": 94,
   "id": "2df63a62",
   "metadata": {
    "ExecuteTime": {
     "end_time": "2023-05-29T14:39:21.117389Z",
     "start_time": "2023-05-29T14:39:21.104384Z"
    }
   },
   "outputs": [
    {
     "data": {
      "text/html": [
       "<div>\n",
       "<style scoped>\n",
       "    .dataframe tbody tr th:only-of-type {\n",
       "        vertical-align: middle;\n",
       "    }\n",
       "\n",
       "    .dataframe tbody tr th {\n",
       "        vertical-align: top;\n",
       "    }\n",
       "\n",
       "    .dataframe thead th {\n",
       "        text-align: right;\n",
       "    }\n",
       "</style>\n",
       "<table border=\"1\" class=\"dataframe\">\n",
       "  <thead>\n",
       "    <tr style=\"text-align: right;\">\n",
       "      <th></th>\n",
       "      <th>batch_size</th>\n",
       "      <th>hidden_size</th>\n",
       "      <th>alpha</th>\n",
       "      <th>top_k</th>\n",
       "      <th>mcc</th>\n",
       "    </tr>\n",
       "  </thead>\n",
       "  <tbody>\n",
       "    <tr>\n",
       "      <th>253</th>\n",
       "      <td>128.0</td>\n",
       "      <td>64.0</td>\n",
       "      <td>6.0</td>\n",
       "      <td>10.0</td>\n",
       "      <td>0.023696</td>\n",
       "    </tr>\n",
       "  </tbody>\n",
       "</table>\n",
       "</div>"
      ],
      "text/plain": [
       "     batch_size  hidden_size  alpha  top_k       mcc\n",
       "253       128.0         64.0    6.0   10.0  0.023696"
      ]
     },
     "execution_count": 94,
     "metadata": {},
     "output_type": "execute_result"
    }
   ],
   "source": [
    "res[res['mcc']==best.loc[6]]"
   ]
  },
  {
   "cell_type": "markdown",
   "id": "81ba8842",
   "metadata": {},
   "source": [
    "## AE tuning"
   ]
  },
  {
   "cell_type": "code",
   "execution_count": null,
   "id": "2a6845f6",
   "metadata": {},
   "outputs": [],
   "source": []
  },
  {
   "cell_type": "markdown",
   "id": "099d0e64",
   "metadata": {},
   "source": [
    "## AE results"
   ]
  },
  {
   "cell_type": "code",
   "execution_count": 34,
   "id": "104ebf22",
   "metadata": {
    "ExecuteTime": {
     "end_time": "2023-05-29T13:57:46.389412Z",
     "start_time": "2023-05-29T13:57:46.383413Z"
    }
   },
   "outputs": [],
   "source": [
    "with open('food_coffee.txt') as f:\n",
    "    lines = f.readlines()"
   ]
  },
  {
   "cell_type": "code",
   "execution_count": 35,
   "id": "f33fde37",
   "metadata": {
    "ExecuteTime": {
     "end_time": "2023-05-29T13:57:46.784283Z",
     "start_time": "2023-05-29T13:57:46.773288Z"
    }
   },
   "outputs": [
    {
     "data": {
      "text/plain": [
       "[\"{'r=16_2, alpha=2': -0.04341710862957456,\\n\",\n",
       " \" 'r=16_2, alpha=3': -0.03661395235975824,\\n\",\n",
       " \" 'r=16_2, alpha=4': -0.03984206912578615,\\n\",\n",
       " \" 'r=16_2, alpha=5': -0.04005398651059556,\\n\",\n",
       " \" 'r=16_2, alpha=6': -0.022123437090743388,\\n\",\n",
       " \" 'r=32_2, alpha=2': -0.03054436839752127,\\n\",\n",
       " \" 'r=32_2, alpha=3': -0.030263466078104352,\\n\",\n",
       " \" 'r=32_2, alpha=4': -0.029727935274292107,\\n\",\n",
       " \" 'r=32_2, alpha=5': -0.0373330566994362,\\n\",\n",
       " \" 'r=32_2, alpha=6': -0.012777791347981736,\\n\",\n",
       " \" 'r=64_2, alpha=2': 0.010403034839470129,\\n\",\n",
       " \" 'r=64_2, alpha=3': 0.007579922974666435,\\n\",\n",
       " \" 'r=64_2, alpha=4': -0.002924233990901225,\\n\",\n",
       " \" 'r=64_2, alpha=5': 0.0015403094385494042,\\n\",\n",
       " \" 'r=64_2, alpha=6': 0.017185207325880324,\\n\",\n",
       " \" 'r=128_2, alpha=2': 0.021687607299851287,\\n\",\n",
       " \" 'r=128_2, alpha=3': 0.01605475528756874,\\n\",\n",
       " \" 'r=128_2, alpha=4': 0.020859081594063675,\\n\",\n",
       " \" 'r=128_2, alpha=5': 0.02337804560543963,\\n\",\n",
       " \" 'r=128_2, alpha=6': 0.03535905358938212,\\n\",\n",
       " \" 'r=256_2, alpha=2': -0.00351063081211901,\\n\",\n",
       " \" 'r=256_2, alpha=3': -0.0005733531256890437,\\n\",\n",
       " \" 'r=256_2, alpha=4': -0.012155626272976871,\\n\",\n",
       " \" 'r=256_2, alpha=5': -0.008157368217462055,\\n\",\n",
       " \" 'r=256_2, alpha=6': 0.015112785028879335,\\n\",\n",
       " \" 'r=512_2, alpha=2': -0.016842746860287187,\\n\",\n",
       " \" 'r=512_2, alpha=3': -0.013414051913278342,\\n\",\n",
       " \" 'r=512_2, alpha=4': -0.007378446375490667,\\n\",\n",
       " \" 'r=512_2, alpha=5': -0.012734589461102017,\\n\",\n",
       " \" 'r=512_2, alpha=6': -0.008199835554154041,\\n\",\n",
       " \" 'r=1024_2, alpha=2': -0.01543671082096058,\\n\",\n",
       " \" 'r=1024_2, alpha=3': -0.01246295438819033,\\n\",\n",
       " \" 'r=1024_2, alpha=4': -0.007235289923984301,\\n\",\n",
       " \" 'r=1024_2, alpha=5': 0.0015484914059246324,\\n\",\n",
       " \" 'r=1024_2, alpha=6': 0.001929936077720376,\\n\",\n",
       " \" 'r=2048_2, alpha=2': -0.03752427265413913,\\n\",\n",
       " \" 'r=2048_2, alpha=3': -0.03377896150669283,\\n\",\n",
       " \" 'r=2048_2, alpha=4': -0.0273499348793434,\\n\",\n",
       " \" 'r=2048_2, alpha=5': -0.017018738391577203,\\n\",\n",
       " \" 'r=2048_2, alpha=6': -0.002371422144140231,\\n\",\n",
       " \" 'r=16_3, alpha=2': -0.024541939065368504,\\n\",\n",
       " \" 'r=16_3, alpha=3': -0.01884070644937566,\\n\",\n",
       " \" 'r=16_3, alpha=4': -0.024489704829985755,\\n\",\n",
       " \" 'r=16_3, alpha=5': -0.023652280554750115,\\n\",\n",
       " \" 'r=16_3, alpha=6': 0.004790976316827385,\\n\",\n",
       " \" 'r=32_3, alpha=2': -0.014544245952051315,\\n\",\n",
       " \" 'r=32_3, alpha=3': -0.009423823611372624,\\n\",\n",
       " \" 'r=32_3, alpha=4': -0.03774986288714917,\\n\",\n",
       " \" 'r=32_3, alpha=5': -0.02660413042836034,\\n\",\n",
       " \" 'r=32_3, alpha=6': -0.0024477648837799085,\\n\",\n",
       " \" 'r=64_3, alpha=2': -0.001499336218125318,\\n\",\n",
       " \" 'r=64_3, alpha=3': -0.01602742404113807,\\n\",\n",
       " \" 'r=64_3, alpha=4': -0.0069421531471675,\\n\",\n",
       " \" 'r=64_3, alpha=5': -0.011457465283267342,\\n\",\n",
       " \" 'r=64_3, alpha=6': -0.0031478926656918686,\\n\",\n",
       " \" 'r=128_3, alpha=2': 0.001807112439208758,\\n\",\n",
       " \" 'r=128_3, alpha=3': 0.0047738418230157805,\\n\",\n",
       " \" 'r=128_3, alpha=4': 0.0024917924319577344,\\n\",\n",
       " \" 'r=128_3, alpha=5': -0.00037032912616740527,\\n\",\n",
       " \" 'r=128_3, alpha=6': 0.02444336223354075,\\n\",\n",
       " \" 'r=256_3, alpha=2': 0.00614142069309131,\\n\",\n",
       " \" 'r=256_3, alpha=3': 0.008610683717322267,\\n\",\n",
       " \" 'r=256_3, alpha=4': 0.004690776157377597,\\n\",\n",
       " \" 'r=256_3, alpha=5': 0.013841650625197457,\\n\",\n",
       " \" 'r=256_3, alpha=6': 0.02076298567265739,\\n\",\n",
       " \" 'r=512_3, alpha=2': 0.0007218927933415562,\\n\",\n",
       " \" 'r=512_3, alpha=3': 0.0031343715721764654,\\n\",\n",
       " \" 'r=512_3, alpha=4': 0.007488866780461513,\\n\",\n",
       " \" 'r=512_3, alpha=5': -0.0014001324143554173,\\n\",\n",
       " \" 'r=512_3, alpha=6': 0.010093069496536496,\\n\",\n",
       " \" 'r=1024_3, alpha=2': -0.01543671082096058,\\n\",\n",
       " \" 'r=1024_3, alpha=3': -0.01246295438819033,\\n\",\n",
       " \" 'r=1024_3, alpha=4': -0.007235289923984301,\\n\",\n",
       " \" 'r=1024_3, alpha=5': 0.0015484914059246324,\\n\",\n",
       " \" 'r=1024_3, alpha=6': -0.005075193150195767,\\n\",\n",
       " \" 'r=2048_3, alpha=2': -0.012592571209347704,\\n\",\n",
       " \" 'r=2048_3, alpha=3': -0.01016671507501706,\\n\",\n",
       " \" 'r=2048_3, alpha=4': -0.0059022226071847985,\\n\",\n",
       " \" 'r=2048_3, alpha=5': 0.0012631893233169657,\\n\",\n",
       " \" 'r=2048_3, alpha=6': 0.0015743546517165963,\\n\",\n",
       " \" 'r=16_4, alpha=2': -0.01600333501802767,\\n\",\n",
       " \" 'r=16_4, alpha=3': -0.010598642718184231,\\n\",\n",
       " \" 'r=16_4, alpha=4': -0.01632781482642239,\\n\",\n",
       " \" 'r=16_4, alpha=5': -0.02013970373491291,\\n\",\n",
       " \" 'r=16_4, alpha=6': 0.0023001647782495676,\\n\",\n",
       " \" 'r=32_4, alpha=2': -0.008575048030843677,\\n\",\n",
       " \" 'r=32_4, alpha=3': -0.010347077803122051,\\n\",\n",
       " \" 'r=32_4, alpha=4': -0.030564796425465376,\\n\",\n",
       " \" 'r=32_4, alpha=5': -0.03223603127269693,\\n\",\n",
       " \" 'r=32_4, alpha=6': -0.0003153165786853292,\\n\",\n",
       " \" 'r=64_4, alpha=2': -0.008055780748621535,\\n\",\n",
       " \" 'r=64_4, alpha=3': -0.003550360881097331,\\n\",\n",
       " \" 'r=64_4, alpha=4': -0.0012204419123376673,\\n\",\n",
       " \" 'r=64_4, alpha=5': 0.0034860259205849666,\\n\",\n",
       " \" 'r=64_4, alpha=6': 0.027556648922887683,\\n\",\n",
       " \" 'r=128_4, alpha=2': 0.01728933197544345,\\n\",\n",
       " \" 'r=128_4, alpha=3': 0.01998392032045243,\\n\",\n",
       " \" 'r=128_4, alpha=4': 0.02498889109964366,\\n\",\n",
       " \" 'r=128_4, alpha=5': 0.016892558880398766,\\n\",\n",
       " \" 'r=128_4, alpha=6': 0.03420483814437394,\\n\",\n",
       " \" 'r=256_4, alpha=2': 0.01107036637426613,\\n\",\n",
       " \" 'r=256_4, alpha=3': 0.005376825412726972,\\n\",\n",
       " \" 'r=256_4, alpha=4': 0.010753957381884291,\\n\",\n",
       " \" 'r=256_4, alpha=5': 0.02025352278749304,\\n\",\n",
       " \" 'r=256_4, alpha=6': 0.03565059451387525,\\n\",\n",
       " \" 'r=512_4, alpha=2': -0.007533904568005677,\\n\",\n",
       " \" 'r=512_4, alpha=3': -0.017605642951675885,\\n\",\n",
       " \" 'r=512_4, alpha=4': -0.012319205350500252,\\n\",\n",
       " \" 'r=512_4, alpha=5': -0.013519096818464412,\\n\",\n",
       " \" 'r=512_4, alpha=6': 0.0017609817302304451,\\n\",\n",
       " \"'r=1024_4, alpha=2': -0.0016959644034814443,\\n\",\n",
       " \" 'r=1024_4, alpha=3': 0.000702912818849349,\\n\",\n",
       " \" 'r=1024_4, alpha=4': 0.0050121695133601525,\\n\",\n",
       " \" 'r=1024_4, alpha=5': 0.01253307968310057,\\n\",\n",
       " \" 'r=1024_4, alpha=6': 0.005375118978844262,\\n\",\n",
       " \" 'r=2048_4, alpha=2': -0.027235326947518713,\\n\",\n",
       " \" 'r=2048_4, alpha=3': -0.024099463787555918,\\n\",\n",
       " \" 'r=2048_4, alpha=4': -0.018680736880624573,\\n\",\n",
       " \" 'r=2048_4, alpha=5': -0.00986143218740876,\\n\",\n",
       " \" 'r=2048_4, alpha=6': 0.0015743546517165963}\"]"
      ]
     },
     "execution_count": 35,
     "metadata": {},
     "output_type": "execute_result"
    }
   ],
   "source": [
    "lines"
   ]
  },
  {
   "cell_type": "code",
   "execution_count": 7,
   "id": "304098a0",
   "metadata": {
    "ExecuteTime": {
     "end_time": "2023-05-28T13:22:17.988161Z",
     "start_time": "2023-05-28T13:22:17.971140Z"
    }
   },
   "outputs": [],
   "source": [
    "lines2 = ['HR@5:0.0035184719778838906, MRR@5: 0.001729915389126246, Coverage@5: 0.0004527755139002083, NCDG@5: 0.0021739806835152785, HR_pos@5: 0.003183379408561615, HR_neg@5: 0.0003350925693222753, MRR_pos@5: 0.0015902934852419642, MRR_neg@5: 0.00013962190388428134, NCDG_pos@5: 0.0019844976050916448, NDCG_neg@5: 0.00018948307842363366, Matthews@5: -0.01741634167182831\\n',\n",
    " 'HR@10:0.007455809667420626, MRR@10: 0.0022127079867718218, Coverage@10: 0.0008602734764103958, NCDG@10: 0.0034041058884017846, HR_pos@10: 0.007036943955767781, HR_neg@10: 0.0004188657116528441, MRR_pos@10: 0.00206261444009622, MRR_neg@10: 0.00015009354667560245, NCDG_pos@10: 0.003188195325954885, NDCG_neg@10: 0.00021591056244689988, Matthews@10: -0.007852842306681915\\n',\n",
    " 'HR@20:0.0142414341961967, MRR@20: 0.0026747059854406708, Coverage@20: 0.0016752694014307706, NCDG@20: 0.005108902624126274, HR_pos@20: 0.01357124905755215, HR_neg@20: 0.0006701851386445506, MRR_pos@20: 0.0025056023795439007, MRR_neg@20: 0.00016910360589677, NCDG_pos@20: 0.004827407099841014, NDCG_neg@20: 0.0002814955242852607, Matthews@20: -0.005206774096662212\\n']\n",
    "lines3 = ['HR@5:0.0020943285582642203, MRR@5: 0.0012175030018709333, Coverage@5: 0.0005433306166802499, NCDG@5: 0.001433321524631659, HR_pos@5: 0.0020943285582642203, HR_neg@5: 0.0, MRR_pos@5: 0.0012175030018709333, MRR_neg@5: 0.0, NCDG_pos@5: 0.001433321524631659, NDCG_neg@5: 0.0, Matthews@5: 0.015215827481475513\\n',\n",
    " 'HR@10:0.0028482868392393397, MRR@10: 0.0013241142984797168, Coverage@10: 0.0009961061305804582, NCDG@10: 0.0016832679721466399, HR_pos@10: 0.002764513696908771, HR_neg@10: 8.377314233056883e-05, MRR_pos@10: 0.001312146706718207, MRR_neg@10: 1.196759176150983e-05, NCDG_pos@10: 0.0016553435913697837, NDCG_neg@10: 2.7924380776856273e-05, Matthews@10: 0.012496403706593977\\n',\n",
    " 'HR@20:0.0035184719778838906, MRR@20: 0.001372418107150452, Coverage@20: 0.0019922122611609164, NCDG@20: 0.0018552406035998634, HR_pos@20: 0.003350925693222753, HR_neg@20: 0.00016754628466113765, MRR_pos@20: 0.0013540064275173597, MRR_neg@20: 1.8411679633092047e-05, NCDG_pos@20: 0.0018053132459412784, NDCG_neg@20: 4.992735765858481e-05, Matthews@20: 0.010276916835802546\\n']\n",
    "lines4 = ['HR@5:0.007288263382759487, MRR@5: 0.00402390326994499, Coverage@5: 0.0019016571583808748, NCDG@5: 0.004818976998604814, HR_pos@5: 0.005864119963139817, HR_neg@5: 0.0014241434196196699, MRR_pos@5: 0.0033230013124458968, MRR_neg@5: 0.0007009019574990925, NCDG_pos@5: 0.00393980876789687, NDCG_neg@5: 0.0008791682307079442, Matthews@5: 0.004802166313336945\\n',\n",
    " 'HR@10:0.011393147356957359, MRR@10: 0.004559984894239732, Coverage@10: 0.003078873494521416, NCDG@10: 0.006134949873349728, HR_pos@10: 0.00921504565636257, HR_neg@10: 0.002178101700594789, MRR_pos@10: 0.00374605568121527, MRR_neg@10: 0.000813929213024463, NCDG_pos@10: 0.004999503509322742, NDCG_neg@10: 0.0011354463640269863, Matthews@10: 0.007114245153897624\\n',\n",
    " 'HR@20:0.018262545028064, MRR@20: 0.005015907430159265, Coverage@20: 0.004346644933441999, NCDG@20: 0.007844353015271529, HR_pos@20: 0.014408980480857836, HR_neg@20: 0.0038535645472061657, MRR_pos@20: 0.004084301874315156, MRR_neg@20: 0.0009316055558441087, NCDG_pos@20: 0.006283582334411989, NDCG_neg@20: 0.0015607706808595406, Matthews@20: 0.002493323792555884\\n']\n",
    "lines5 = ['HR@5:0.003769791404875597, MRR@5: 0.0020370835776716647, Coverage@5: 0.0003169428597301458, NCDG@5: 0.0024729078317238208, HR_pos@5: 0.0020105554159336515, HR_neg@5: 0.0017592359889419453, MRR_pos@5: 0.0011253525453073078, MRR_neg@5: 0.0009117310323643574, NCDG_pos@5: 0.0013508004293604327, NDCG_neg@5: 0.001122107402363388, Matthews@5: -0.004670736408564889\\n',\n",
    " 'HR@10:0.005696573678478679, MRR@10: 0.0022917273357082354, Coverage@10: 0.0006338857194602916, NCDG@10: 0.003093466279911036, HR_pos@10: 0.003183379408561615, HR_neg@10: 0.0025131942699170647, MRR_pos@10: 0.001278936639580017, MRR_neg@10: 0.001012790696128218, NCDG_pos@10: 0.0017270316297574178, NDCG_neg@10: 0.0013664346501536175, Matthews@10: -0.0018489783042675502\\n',\n",
    " 'HR@20:0.011895786210940774, MRR@20: 0.0027253199411286324, Coverage@20: 0.0014036040930906456, NCDG@20: 0.004665806840282038, HR_pos@20: 0.006618078244114937, HR_neg@20: 0.005277707966825836, MRR_pos@20: 0.0015230334854180474, MRR_neg@20: 0.0012022864557105855, NCDG_pos@20: 0.002603069860362224, NDCG_neg@20: 0.002062736979919813, Matthews@20: -0.003231276731648335\\n']"
   ]
  },
  {
   "cell_type": "code",
   "execution_count": 14,
   "id": "ef66aa3e",
   "metadata": {
    "ExecuteTime": {
     "end_time": "2023-05-28T13:23:43.723771Z",
     "start_time": "2023-05-28T13:23:43.713766Z"
    }
   },
   "outputs": [],
   "source": [
    "alpha = 5\n",
    "alphas = []\n",
    "topks = []\n",
    "metrics = []\n",
    "for line in lines5:\n",
    "    if 'HR@' in line:\n",
    "        for i in line.split(', '):\n",
    "            metrics.append(float(i.split(':')[-1].strip()))"
   ]
  },
  {
   "cell_type": "code",
   "execution_count": 15,
   "id": "4a764511",
   "metadata": {
    "ExecuteTime": {
     "end_time": "2023-05-28T13:23:44.463695Z",
     "start_time": "2023-05-28T13:23:44.418664Z"
    }
   },
   "outputs": [
    {
     "data": {
      "text/html": [
       "<div>\n",
       "<style scoped>\n",
       "    .dataframe tbody tr th:only-of-type {\n",
       "        vertical-align: middle;\n",
       "    }\n",
       "\n",
       "    .dataframe tbody tr th {\n",
       "        vertical-align: top;\n",
       "    }\n",
       "\n",
       "    .dataframe thead th {\n",
       "        text-align: right;\n",
       "    }\n",
       "</style>\n",
       "<table border=\"1\" class=\"dataframe\">\n",
       "  <thead>\n",
       "    <tr style=\"text-align: right;\">\n",
       "      <th></th>\n",
       "      <th>0</th>\n",
       "      <th>1</th>\n",
       "      <th>2</th>\n",
       "      <th>3</th>\n",
       "      <th>4</th>\n",
       "      <th>5</th>\n",
       "      <th>6</th>\n",
       "      <th>7</th>\n",
       "      <th>8</th>\n",
       "      <th>9</th>\n",
       "      <th>10</th>\n",
       "    </tr>\n",
       "  </thead>\n",
       "  <tbody>\n",
       "    <tr>\n",
       "      <th>0</th>\n",
       "      <td>0.00377</td>\n",
       "      <td>0.002037</td>\n",
       "      <td>0.000317</td>\n",
       "      <td>0.002473</td>\n",
       "      <td>0.002011</td>\n",
       "      <td>0.001759</td>\n",
       "      <td>0.001125</td>\n",
       "      <td>0.000912</td>\n",
       "      <td>0.001351</td>\n",
       "      <td>0.001122</td>\n",
       "      <td>-0.004671</td>\n",
       "    </tr>\n",
       "  </tbody>\n",
       "</table>\n",
       "</div>"
      ],
      "text/plain": [
       "        0         1         2         3         4         5         6   \\\n",
       "0  0.00377  0.002037  0.000317  0.002473  0.002011  0.001759  0.001125   \n",
       "\n",
       "         7         8         9         10  \n",
       "0  0.000912  0.001351  0.001122 -0.004671  "
      ]
     },
     "metadata": {},
     "output_type": "display_data"
    },
    {
     "data": {
      "text/html": [
       "<div>\n",
       "<style scoped>\n",
       "    .dataframe tbody tr th:only-of-type {\n",
       "        vertical-align: middle;\n",
       "    }\n",
       "\n",
       "    .dataframe tbody tr th {\n",
       "        vertical-align: top;\n",
       "    }\n",
       "\n",
       "    .dataframe thead th {\n",
       "        text-align: right;\n",
       "    }\n",
       "</style>\n",
       "<table border=\"1\" class=\"dataframe\">\n",
       "  <thead>\n",
       "    <tr style=\"text-align: right;\">\n",
       "      <th></th>\n",
       "      <th>0</th>\n",
       "      <th>1</th>\n",
       "      <th>2</th>\n",
       "      <th>3</th>\n",
       "      <th>4</th>\n",
       "      <th>5</th>\n",
       "      <th>6</th>\n",
       "      <th>7</th>\n",
       "      <th>8</th>\n",
       "      <th>9</th>\n",
       "      <th>10</th>\n",
       "    </tr>\n",
       "  </thead>\n",
       "  <tbody>\n",
       "    <tr>\n",
       "      <th>0</th>\n",
       "      <td>0.005697</td>\n",
       "      <td>0.002292</td>\n",
       "      <td>0.000634</td>\n",
       "      <td>0.003093</td>\n",
       "      <td>0.003183</td>\n",
       "      <td>0.002513</td>\n",
       "      <td>0.001279</td>\n",
       "      <td>0.001013</td>\n",
       "      <td>0.001727</td>\n",
       "      <td>0.001366</td>\n",
       "      <td>-0.001849</td>\n",
       "    </tr>\n",
       "  </tbody>\n",
       "</table>\n",
       "</div>"
      ],
      "text/plain": [
       "         0         1         2         3         4         5         6   \\\n",
       "0  0.005697  0.002292  0.000634  0.003093  0.003183  0.002513  0.001279   \n",
       "\n",
       "         7         8         9         10  \n",
       "0  0.001013  0.001727  0.001366 -0.001849  "
      ]
     },
     "metadata": {},
     "output_type": "display_data"
    },
    {
     "data": {
      "text/html": [
       "<div>\n",
       "<style scoped>\n",
       "    .dataframe tbody tr th:only-of-type {\n",
       "        vertical-align: middle;\n",
       "    }\n",
       "\n",
       "    .dataframe tbody tr th {\n",
       "        vertical-align: top;\n",
       "    }\n",
       "\n",
       "    .dataframe thead th {\n",
       "        text-align: right;\n",
       "    }\n",
       "</style>\n",
       "<table border=\"1\" class=\"dataframe\">\n",
       "  <thead>\n",
       "    <tr style=\"text-align: right;\">\n",
       "      <th></th>\n",
       "      <th>0</th>\n",
       "      <th>1</th>\n",
       "      <th>2</th>\n",
       "      <th>3</th>\n",
       "      <th>4</th>\n",
       "      <th>5</th>\n",
       "      <th>6</th>\n",
       "      <th>7</th>\n",
       "      <th>8</th>\n",
       "      <th>9</th>\n",
       "      <th>10</th>\n",
       "    </tr>\n",
       "  </thead>\n",
       "  <tbody>\n",
       "    <tr>\n",
       "      <th>0</th>\n",
       "      <td>0.011896</td>\n",
       "      <td>0.002725</td>\n",
       "      <td>0.001404</td>\n",
       "      <td>0.004666</td>\n",
       "      <td>0.006618</td>\n",
       "      <td>0.005278</td>\n",
       "      <td>0.001523</td>\n",
       "      <td>0.001202</td>\n",
       "      <td>0.002603</td>\n",
       "      <td>0.002063</td>\n",
       "      <td>-0.003231</td>\n",
       "    </tr>\n",
       "  </tbody>\n",
       "</table>\n",
       "</div>"
      ],
      "text/plain": [
       "         0         1         2         3         4         5         6   \\\n",
       "0  0.011896  0.002725  0.001404  0.004666  0.006618  0.005278  0.001523   \n",
       "\n",
       "         7         8         9         10  \n",
       "0  0.001202  0.002603  0.002063 -0.003231  "
      ]
     },
     "metadata": {},
     "output_type": "display_data"
    }
   ],
   "source": [
    "for i in range(3):\n",
    "    display(pd.DataFrame(metrics[11*i:11*(i+1)]).T)"
   ]
  },
  {
   "cell_type": "code",
   "execution_count": 81,
   "id": "8e21de15",
   "metadata": {
    "ExecuteTime": {
     "end_time": "2023-05-23T18:27:26.764686Z",
     "start_time": "2023-05-23T18:27:26.752686Z"
    }
   },
   "outputs": [
    {
     "data": {
      "text/plain": [
       "132"
      ]
     },
     "execution_count": 81,
     "metadata": {},
     "output_type": "execute_result"
    }
   ],
   "source": [
    "11*3*4"
   ]
  },
  {
   "cell_type": "markdown",
   "id": "4a386d52",
   "metadata": {},
   "source": [
    "## dict"
   ]
  },
  {
   "cell_type": "code",
   "execution_count": 36,
   "id": "04fe0c4c",
   "metadata": {
    "ExecuteTime": {
     "end_time": "2023-05-29T13:58:22.226393Z",
     "start_time": "2023-05-29T13:58:22.213465Z"
    },
    "code_folding": [
     0
    ]
   },
   "outputs": [],
   "source": [
    "d = {'r=16_2, alpha=2': -0.04341710862957456,\n",
    " 'r=16_2, alpha=3': -0.03661395235975824,\n",
    " 'r=16_2, alpha=4': -0.03984206912578615,\n",
    " 'r=16_2, alpha=5': -0.04005398651059556,\n",
    " 'r=16_2, alpha=6': -0.022123437090743388,\n",
    " 'r=32_2, alpha=2': -0.03054436839752127,\n",
    " 'r=32_2, alpha=3': -0.030263466078104352,\n",
    " 'r=32_2, alpha=4': -0.029727935274292107,\n",
    " 'r=32_2, alpha=5': -0.0373330566994362,\n",
    " 'r=32_2, alpha=6': -0.012777791347981736,\n",
    " 'r=64_2, alpha=2': 0.010403034839470129,\n",
    " 'r=64_2, alpha=3': 0.007579922974666435,\n",
    " 'r=64_2, alpha=4': -0.002924233990901225,\n",
    " 'r=64_2, alpha=5': 0.0015403094385494042,\n",
    " 'r=64_2, alpha=6': 0.017185207325880324,\n",
    " 'r=128_2, alpha=2': 0.021687607299851287,\n",
    " 'r=128_2, alpha=3': 0.01605475528756874,\n",
    " 'r=128_2, alpha=4': 0.020859081594063675,\n",
    " 'r=128_2, alpha=5': 0.02337804560543963,\n",
    " 'r=128_2, alpha=6': 0.03535905358938212,\n",
    " 'r=256_2, alpha=2': -0.00351063081211901,\n",
    " 'r=256_2, alpha=3': -0.0005733531256890437,\n",
    " 'r=256_2, alpha=4': -0.012155626272976871,\n",
    " 'r=256_2, alpha=5': -0.008157368217462055,\n",
    " 'r=256_2, alpha=6': 0.015112785028879335,\n",
    " 'r=512_2, alpha=2': -0.016842746860287187,\n",
    " 'r=512_2, alpha=3': -0.013414051913278342,\n",
    " 'r=512_2, alpha=4': -0.007378446375490667,\n",
    " 'r=512_2, alpha=5': -0.012734589461102017,\n",
    " 'r=512_2, alpha=6': -0.008199835554154041,\n",
    " 'r=1024_2, alpha=2': -0.01543671082096058,\n",
    " 'r=1024_2, alpha=3': -0.01246295438819033,\n",
    " 'r=1024_2, alpha=4': -0.007235289923984301,\n",
    " 'r=1024_2, alpha=5': 0.0015484914059246324,\n",
    " 'r=1024_2, alpha=6': 0.001929936077720376,\n",
    " 'r=2048_2, alpha=2': -0.03752427265413913,\n",
    " 'r=2048_2, alpha=3': -0.03377896150669283,\n",
    " 'r=2048_2, alpha=4': -0.0273499348793434,\n",
    " 'r=2048_2, alpha=5': -0.017018738391577203,\n",
    " 'r=2048_2, alpha=6': -0.002371422144140231,\n",
    " 'r=16_3, alpha=2': -0.024541939065368504,\n",
    " 'r=16_3, alpha=3': -0.01884070644937566,\n",
    " 'r=16_3, alpha=4': -0.024489704829985755,\n",
    " 'r=16_3, alpha=5': -0.023652280554750115,\n",
    " 'r=16_3, alpha=6': 0.004790976316827385,\n",
    " 'r=32_3, alpha=2': -0.014544245952051315,\n",
    " 'r=32_3, alpha=3': -0.009423823611372624,\n",
    " 'r=32_3, alpha=4': -0.03774986288714917,\n",
    " 'r=32_3, alpha=5': -0.02660413042836034,\n",
    " 'r=32_3, alpha=6': -0.0024477648837799085,\n",
    " 'r=64_3, alpha=2': -0.001499336218125318,\n",
    " 'r=64_3, alpha=3': -0.01602742404113807,\n",
    " 'r=64_3, alpha=4': -0.0069421531471675,\n",
    " 'r=64_3, alpha=5': -0.011457465283267342,\n",
    " 'r=64_3, alpha=6': -0.0031478926656918686,\n",
    " 'r=128_3, alpha=2': 0.001807112439208758,\n",
    " 'r=128_3, alpha=3': 0.0047738418230157805,\n",
    " 'r=128_3, alpha=4': 0.0024917924319577344,\n",
    " 'r=128_3, alpha=5': -0.00037032912616740527,\n",
    " 'r=128_3, alpha=6': 0.02444336223354075,\n",
    " 'r=256_3, alpha=2': 0.00614142069309131,\n",
    " 'r=256_3, alpha=3': 0.008610683717322267,\n",
    " 'r=256_3, alpha=4': 0.004690776157377597,\n",
    " 'r=256_3, alpha=5': 0.013841650625197457,\n",
    " 'r=256_3, alpha=6': 0.02076298567265739,\n",
    " 'r=512_3, alpha=2': 0.0007218927933415562,\n",
    " 'r=512_3, alpha=3': 0.0031343715721764654,\n",
    " 'r=512_3, alpha=4': 0.007488866780461513,\n",
    " 'r=512_3, alpha=5': -0.0014001324143554173,\n",
    " 'r=512_3, alpha=6': 0.010093069496536496,\n",
    " 'r=1024_3, alpha=2': -0.01543671082096058,\n",
    " 'r=1024_3, alpha=3': -0.01246295438819033,\n",
    " 'r=1024_3, alpha=4': -0.007235289923984301,\n",
    " 'r=1024_3, alpha=5': 0.0015484914059246324,\n",
    " 'r=1024_3, alpha=6': -0.005075193150195767,\n",
    " 'r=2048_3, alpha=2': -0.012592571209347704,\n",
    " 'r=2048_3, alpha=3': -0.01016671507501706,\n",
    " 'r=2048_3, alpha=4': -0.0059022226071847985,\n",
    " 'r=2048_3, alpha=5': 0.0012631893233169657,\n",
    " 'r=2048_3, alpha=6': 0.0015743546517165963,\n",
    " 'r=16_4, alpha=2': -0.01600333501802767,\n",
    " 'r=16_4, alpha=3': -0.010598642718184231,\n",
    " 'r=16_4, alpha=4': -0.01632781482642239,\n",
    " 'r=16_4, alpha=5': -0.02013970373491291,\n",
    " 'r=16_4, alpha=6': 0.0023001647782495676,\n",
    " 'r=32_4, alpha=2': -0.008575048030843677,\n",
    " 'r=32_4, alpha=3': -0.010347077803122051,\n",
    " 'r=32_4, alpha=4': -0.030564796425465376,\n",
    " 'r=32_4, alpha=5': -0.03223603127269693,\n",
    " 'r=32_4, alpha=6': -0.0003153165786853292,\n",
    " 'r=64_4, alpha=2': -0.008055780748621535,\n",
    " 'r=64_4, alpha=3': -0.003550360881097331,\n",
    " 'r=64_4, alpha=4': -0.0012204419123376673,\n",
    " 'r=64_4, alpha=5': 0.0034860259205849666,\n",
    " 'r=64_4, alpha=6': 0.027556648922887683,\n",
    " 'r=128_4, alpha=2': 0.01728933197544345,\n",
    " 'r=128_4, alpha=3': 0.01998392032045243,\n",
    " 'r=128_4, alpha=4': 0.02498889109964366,\n",
    " 'r=128_4, alpha=5': 0.016892558880398766,\n",
    " 'r=128_4, alpha=6': 0.03420483814437394,\n",
    " 'r=256_4, alpha=2': 0.01107036637426613,\n",
    " 'r=256_4, alpha=3': 0.005376825412726972,\n",
    " 'r=256_4, alpha=4': 0.010753957381884291,\n",
    " 'r=256_4, alpha=5': 0.02025352278749304,\n",
    " 'r=256_4, alpha=6': 0.03565059451387525,\n",
    " 'r=512_4, alpha=2': -0.007533904568005677,\n",
    " 'r=512_4, alpha=3': -0.017605642951675885,\n",
    " 'r=512_4, alpha=4': -0.012319205350500252,\n",
    " 'r=512_4, alpha=5': -0.013519096818464412,\n",
    " 'r=512_4, alpha=6': 0.0017609817302304451,\n",
    " 'r=1024_4, alpha=2': -0.0016959644034814443,\n",
    " 'r=1024_4, alpha=3': 0.000702912818849349,\n",
    " 'r=1024_4, alpha=4': 0.0050121695133601525,\n",
    " 'r=1024_4, alpha=5': 0.01253307968310057,\n",
    " 'r=1024_4, alpha=6': 0.005375118978844262,\n",
    " 'r=2048_4, alpha=2': -0.027235326947518713,\n",
    " 'r=2048_4, alpha=3': -0.024099463787555918,\n",
    " 'r=2048_4, alpha=4': -0.018680736880624573,\n",
    " 'r=2048_4, alpha=5': -0.00986143218740876,\n",
    " 'r=2048_4, alpha=6': 0.0015743546517165963}"
   ]
  },
  {
   "cell_type": "code",
   "execution_count": 37,
   "id": "f7e3d1f5",
   "metadata": {
    "ExecuteTime": {
     "end_time": "2023-05-29T13:58:22.639952Z",
     "start_time": "2023-05-29T13:58:22.616952Z"
    }
   },
   "outputs": [
    {
     "data": {
      "text/plain": [
       "[('r=256_4, alpha=6', 0.03565059451387525),\n",
       " ('r=128_2, alpha=6', 0.03535905358938212),\n",
       " ('r=128_4, alpha=6', 0.03420483814437394),\n",
       " ('r=64_4, alpha=6', 0.027556648922887683),\n",
       " ('r=128_4, alpha=4', 0.02498889109964366),\n",
       " ('r=128_3, alpha=6', 0.02444336223354075),\n",
       " ('r=128_2, alpha=5', 0.02337804560543963),\n",
       " ('r=128_2, alpha=2', 0.021687607299851287),\n",
       " ('r=128_2, alpha=4', 0.020859081594063675),\n",
       " ('r=256_3, alpha=6', 0.02076298567265739),\n",
       " ('r=256_4, alpha=5', 0.02025352278749304),\n",
       " ('r=128_4, alpha=3', 0.01998392032045243),\n",
       " ('r=128_4, alpha=2', 0.01728933197544345),\n",
       " ('r=64_2, alpha=6', 0.017185207325880324),\n",
       " ('r=128_4, alpha=5', 0.016892558880398766),\n",
       " ('r=128_2, alpha=3', 0.01605475528756874),\n",
       " ('r=256_2, alpha=6', 0.015112785028879335),\n",
       " ('r=256_3, alpha=5', 0.013841650625197457),\n",
       " ('r=1024_4, alpha=5', 0.01253307968310057),\n",
       " ('r=256_4, alpha=2', 0.01107036637426613),\n",
       " ('r=256_4, alpha=4', 0.010753957381884291),\n",
       " ('r=64_2, alpha=2', 0.010403034839470129),\n",
       " ('r=512_3, alpha=6', 0.010093069496536496),\n",
       " ('r=256_3, alpha=3', 0.008610683717322267),\n",
       " ('r=64_2, alpha=3', 0.007579922974666435),\n",
       " ('r=512_3, alpha=4', 0.007488866780461513),\n",
       " ('r=256_3, alpha=2', 0.00614142069309131),\n",
       " ('r=256_4, alpha=3', 0.005376825412726972),\n",
       " ('r=1024_4, alpha=6', 0.005375118978844262),\n",
       " ('r=1024_4, alpha=4', 0.0050121695133601525),\n",
       " ('r=16_3, alpha=6', 0.004790976316827385),\n",
       " ('r=128_3, alpha=3', 0.0047738418230157805),\n",
       " ('r=256_3, alpha=4', 0.004690776157377597),\n",
       " ('r=64_4, alpha=5', 0.0034860259205849666),\n",
       " ('r=512_3, alpha=3', 0.0031343715721764654),\n",
       " ('r=128_3, alpha=4', 0.0024917924319577344),\n",
       " ('r=16_4, alpha=6', 0.0023001647782495676),\n",
       " ('r=1024_2, alpha=6', 0.001929936077720376),\n",
       " ('r=128_3, alpha=2', 0.001807112439208758),\n",
       " ('r=512_4, alpha=6', 0.0017609817302304451),\n",
       " ('r=2048_3, alpha=6', 0.0015743546517165963),\n",
       " ('r=2048_4, alpha=6', 0.0015743546517165963),\n",
       " ('r=1024_2, alpha=5', 0.0015484914059246324),\n",
       " ('r=1024_3, alpha=5', 0.0015484914059246324),\n",
       " ('r=64_2, alpha=5', 0.0015403094385494042),\n",
       " ('r=2048_3, alpha=5', 0.0012631893233169657),\n",
       " ('r=512_3, alpha=2', 0.0007218927933415562),\n",
       " ('r=1024_4, alpha=3', 0.000702912818849349),\n",
       " ('r=32_4, alpha=6', -0.0003153165786853292),\n",
       " ('r=128_3, alpha=5', -0.00037032912616740527),\n",
       " ('r=256_2, alpha=3', -0.0005733531256890437),\n",
       " ('r=64_4, alpha=4', -0.0012204419123376673),\n",
       " ('r=512_3, alpha=5', -0.0014001324143554173),\n",
       " ('r=64_3, alpha=2', -0.001499336218125318),\n",
       " ('r=1024_4, alpha=2', -0.0016959644034814443),\n",
       " ('r=2048_2, alpha=6', -0.002371422144140231),\n",
       " ('r=32_3, alpha=6', -0.0024477648837799085),\n",
       " ('r=64_2, alpha=4', -0.002924233990901225),\n",
       " ('r=64_3, alpha=6', -0.0031478926656918686),\n",
       " ('r=256_2, alpha=2', -0.00351063081211901),\n",
       " ('r=64_4, alpha=3', -0.003550360881097331),\n",
       " ('r=1024_3, alpha=6', -0.005075193150195767),\n",
       " ('r=2048_3, alpha=4', -0.0059022226071847985),\n",
       " ('r=64_3, alpha=4', -0.0069421531471675),\n",
       " ('r=1024_2, alpha=4', -0.007235289923984301),\n",
       " ('r=1024_3, alpha=4', -0.007235289923984301),\n",
       " ('r=512_2, alpha=4', -0.007378446375490667),\n",
       " ('r=512_4, alpha=2', -0.007533904568005677),\n",
       " ('r=64_4, alpha=2', -0.008055780748621535),\n",
       " ('r=256_2, alpha=5', -0.008157368217462055),\n",
       " ('r=512_2, alpha=6', -0.008199835554154041),\n",
       " ('r=32_4, alpha=2', -0.008575048030843677),\n",
       " ('r=32_3, alpha=3', -0.009423823611372624),\n",
       " ('r=2048_4, alpha=5', -0.00986143218740876),\n",
       " ('r=2048_3, alpha=3', -0.01016671507501706),\n",
       " ('r=32_4, alpha=3', -0.010347077803122051),\n",
       " ('r=16_4, alpha=3', -0.010598642718184231),\n",
       " ('r=64_3, alpha=5', -0.011457465283267342),\n",
       " ('r=256_2, alpha=4', -0.012155626272976871),\n",
       " ('r=512_4, alpha=4', -0.012319205350500252),\n",
       " ('r=1024_2, alpha=3', -0.01246295438819033),\n",
       " ('r=1024_3, alpha=3', -0.01246295438819033),\n",
       " ('r=2048_3, alpha=2', -0.012592571209347704),\n",
       " ('r=512_2, alpha=5', -0.012734589461102017),\n",
       " ('r=32_2, alpha=6', -0.012777791347981736),\n",
       " ('r=512_2, alpha=3', -0.013414051913278342),\n",
       " ('r=512_4, alpha=5', -0.013519096818464412),\n",
       " ('r=32_3, alpha=2', -0.014544245952051315),\n",
       " ('r=1024_2, alpha=2', -0.01543671082096058),\n",
       " ('r=1024_3, alpha=2', -0.01543671082096058),\n",
       " ('r=16_4, alpha=2', -0.01600333501802767),\n",
       " ('r=64_3, alpha=3', -0.01602742404113807),\n",
       " ('r=16_4, alpha=4', -0.01632781482642239),\n",
       " ('r=512_2, alpha=2', -0.016842746860287187),\n",
       " ('r=2048_2, alpha=5', -0.017018738391577203),\n",
       " ('r=512_4, alpha=3', -0.017605642951675885),\n",
       " ('r=2048_4, alpha=4', -0.018680736880624573),\n",
       " ('r=16_3, alpha=3', -0.01884070644937566),\n",
       " ('r=16_4, alpha=5', -0.02013970373491291),\n",
       " ('r=16_2, alpha=6', -0.022123437090743388),\n",
       " ('r=16_3, alpha=5', -0.023652280554750115),\n",
       " ('r=2048_4, alpha=3', -0.024099463787555918),\n",
       " ('r=16_3, alpha=4', -0.024489704829985755),\n",
       " ('r=16_3, alpha=2', -0.024541939065368504),\n",
       " ('r=32_3, alpha=5', -0.02660413042836034),\n",
       " ('r=2048_4, alpha=2', -0.027235326947518713),\n",
       " ('r=2048_2, alpha=4', -0.0273499348793434),\n",
       " ('r=32_2, alpha=4', -0.029727935274292107),\n",
       " ('r=32_2, alpha=3', -0.030263466078104352),\n",
       " ('r=32_2, alpha=2', -0.03054436839752127),\n",
       " ('r=32_4, alpha=4', -0.030564796425465376),\n",
       " ('r=32_4, alpha=5', -0.03223603127269693),\n",
       " ('r=2048_2, alpha=3', -0.03377896150669283),\n",
       " ('r=16_2, alpha=3', -0.03661395235975824),\n",
       " ('r=32_2, alpha=5', -0.0373330566994362),\n",
       " ('r=2048_2, alpha=2', -0.03752427265413913),\n",
       " ('r=32_3, alpha=4', -0.03774986288714917),\n",
       " ('r=16_2, alpha=4', -0.03984206912578615),\n",
       " ('r=16_2, alpha=5', -0.04005398651059556),\n",
       " ('r=16_2, alpha=2', -0.04341710862957456)]"
      ]
     },
     "execution_count": 37,
     "metadata": {},
     "output_type": "execute_result"
    }
   ],
   "source": [
    "sorted(d.items(), key=lambda x: x[1], reverse=True)"
   ]
  },
  {
   "cell_type": "code",
   "execution_count": null,
   "id": "2000cb6b",
   "metadata": {},
   "outputs": [],
   "source": []
  }
 ],
 "metadata": {
  "kernelspec": {
   "display_name": "Python 3 (ipykernel)",
   "language": "python",
   "name": "python3"
  },
  "language_info": {
   "codemirror_mode": {
    "name": "ipython",
    "version": 3
   },
   "file_extension": ".py",
   "mimetype": "text/x-python",
   "name": "python",
   "nbconvert_exporter": "python",
   "pygments_lexer": "ipython3",
   "version": "3.9.13"
  },
  "toc": {
   "base_numbering": 1,
   "nav_menu": {},
   "number_sections": true,
   "sideBar": true,
   "skip_h1_title": false,
   "title_cell": "Table of Contents",
   "title_sidebar": "Contents",
   "toc_cell": false,
   "toc_position": {},
   "toc_section_display": true,
   "toc_window_display": false
  },
  "varInspector": {
   "cols": {
    "lenName": 16,
    "lenType": 16,
    "lenVar": 40
   },
   "kernels_config": {
    "python": {
     "delete_cmd_postfix": "",
     "delete_cmd_prefix": "del ",
     "library": "var_list.py",
     "varRefreshCmd": "print(var_dic_list())"
    },
    "r": {
     "delete_cmd_postfix": ") ",
     "delete_cmd_prefix": "rm(",
     "library": "var_list.r",
     "varRefreshCmd": "cat(var_dic_list()) "
    }
   },
   "types_to_exclude": [
    "module",
    "function",
    "builtin_function_or_method",
    "instance",
    "_Feature"
   ],
   "window_display": false
  }
 },
 "nbformat": 4,
 "nbformat_minor": 5
}
