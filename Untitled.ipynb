{
 "cells": [
  {
   "cell_type": "code",
   "execution_count": 1,
   "id": "0e0e2992",
   "metadata": {
    "ExecuteTime": {
     "end_time": "2023-06-04T09:56:27.197349Z",
     "start_time": "2023-06-04T09:56:13.933890Z"
    },
    "code_folding": [
     16,
     22
    ]
   },
   "outputs": [],
   "source": [
    "import numpy as np\n",
    "import pandas as pd\n",
    "import matplotlib.pyplot as plt\n",
    "import torch\n",
    "import torch.nn as nn\n",
    "import torch.optim as optim\n",
    "import torch.nn.functional as F\n",
    "from torch.utils.data import Dataset, DataLoader\n",
    "from torch.nn.utils.parametrizations import orthogonal\n",
    "from torch.nn import functional as F\n",
    "# from IPython.display import clear_output\n",
    "\n",
    "from dataprep import transform_indices, full_preproccessing\n",
    "from utils import *\n",
    "\n",
    "\n",
    "def set_random_seed(seed):\n",
    "    torch.cuda.manual_seed(seed)\n",
    "    np.random.seed(seed)\n",
    "# %%\n",
    "# answer = binary matrix (no ratings)\n",
    "# answer = binary matrix (no ratings)\n",
    "class MVDataset(Dataset):\n",
    "    def __init__(self, data, data_description, augment=False):\n",
    "        useridx = data[data_description['users']].values\n",
    "        itemidx = data[data_description['items']].values\n",
    "        feedbackidx = data[data_description['feedback']].values\n",
    "        values = np.ones(len(itemidx), dtype=np.float32)\n",
    "        self.n_items = data_description['n_items']\n",
    "        self.n_ratings = data_description['n_ratings']\n",
    "        \n",
    "        self.tensor = torch.sparse_coo_tensor(np.array([useridx, itemidx, feedbackidx-1]), torch.tensor(values),\n",
    "                                            size=torch.Size((data_description[\"n_users\"], data_description[\"n_items\"], data_description['n_ratings'])))\n",
    "        self.matrix = torch.sparse_coo_tensor(np.array([useridx, itemidx]), torch.tensor(values),\n",
    "                                      size=torch.Size((data_description[\"n_users\"], data_description[\"n_items\"])), dtype=torch.float32)\n",
    "        \n",
    "        self.augment = augment\n",
    "\n",
    "    def __len__(self):\n",
    "        return self.tensor.shape[0]\n",
    "\n",
    "    def __getitem__(self, idx):\n",
    "        if self.augment:\n",
    "            num_noise = np.random.randint(0, int(0.1 * self.tensor.shape[1]))\n",
    "            idxs = torch.randint(0, self.tensor.shape[1], size=(num_noise,))\n",
    "            noised_input = self.tensor[idx].detach().clone().to_dense()\n",
    "            noised_input[idxs] = 0\n",
    "\n",
    "            itemidx = np.arange(self.tensor.shape[1])\n",
    "            ratingidx = np.arange(self.tensor.shape[2])\n",
    "            itemidx, ratingidx = np.meshgrid(itemidx, ratingidx)\n",
    "            noised_input = torch.sparse_coo_tensor(np.array([itemidx.flatten(), ratingidx.T.flatten(),]),\n",
    "                                                   noised_input.flatten(),\n",
    "                                                   size=torch.Size((self.n_items, self.n_ratings,)),\n",
    "                                                   dtype=torch.float32)\n",
    "            return noised_input, self.matrix[idx]\n",
    "        else:\n",
    "            return self.tensor[idx], self.matrix[idx]"
   ]
  },
  {
   "cell_type": "code",
   "execution_count": 2,
   "id": "3ada1f6b",
   "metadata": {
    "ExecuteTime": {
     "end_time": "2023-06-04T09:56:32.968041Z",
     "start_time": "2023-06-04T09:56:32.949021Z"
    }
   },
   "outputs": [],
   "source": [
    "import os    \n",
    "os.environ['KMP_DUPLICATE_LIB_OK'] = 'True'"
   ]
  },
  {
   "cell_type": "code",
   "execution_count": 3,
   "id": "d49079f9",
   "metadata": {
    "ExecuteTime": {
     "end_time": "2023-06-04T09:56:35.884419Z",
     "start_time": "2023-06-04T09:56:33.583734Z"
    },
    "scrolled": true
   },
   "outputs": [
    {
     "name": "stdout",
     "output_type": "stream",
     "text": [
      "There are 6040 users\n",
      "Filtered 93 invalid observations.\n",
      "device: cuda:0\n"
     ]
    }
   ],
   "source": [
    "set_random_seed(42)\n",
    "data = pd.read_csv('ml-1m.csv')\n",
    "data.rename(columns={'userId': 'userid', 'movieId': 'movieid'}, inplace=True)\n",
    "\n",
    "# %%\n",
    "training, testset_valid, holdout_valid, testset, holdout, data_description, data_index = full_preproccessing(data)\n",
    "# %%\n",
    "device = torch.device('cuda:0' if torch.cuda.is_available() else 'cpu')\n",
    "print('device:', device)"
   ]
  },
  {
   "cell_type": "markdown",
   "id": "8ce6702c",
   "metadata": {},
   "source": [
    "## 1"
   ]
  },
  {
   "cell_type": "code",
   "execution_count": 4,
   "id": "d4654217",
   "metadata": {
    "ExecuteTime": {
     "end_time": "2023-06-02T18:12:07.575304Z",
     "start_time": "2023-06-02T18:12:07.554305Z"
    },
    "code_folding": [
     0,
     5,
     11,
     52
    ]
   },
   "outputs": [],
   "source": [
    "def triu_init(m):\n",
    "        if isinstance(m, nn.Linear):\n",
    "            with torch.no_grad():\n",
    "                m.weight.copy_(torch.tril(m.weight))\n",
    "\n",
    "def get_zero_grad_hook(mask):\n",
    "    def hook(grad):\n",
    "        return grad * mask\n",
    "\n",
    "    return hook\n",
    "\n",
    "class triangularAE(nn.Module):\n",
    "    def __init__(self, n_items, n_ratings, hid1, hid2):\n",
    "        super(triangularAE, self).__init__()\n",
    "        self.V = nn.Linear(n_items, hid1, bias=False)\n",
    "        torch.nn.init.xavier_uniform_(self.V.weight)\n",
    "        self.W = nn.Linear(n_ratings, hid2, bias=False)\n",
    "        torch.nn.init.xavier_uniform_(self.W.weight)\n",
    "        self.L = nn.Linear(n_ratings, n_ratings, bias=False)\n",
    "        torch.nn.init.xavier_uniform_(self.L.weight)\n",
    "        triu_init(self.L)\n",
    "        #         self.norm = nn.LayerNorm(n_ratings)\n",
    "        self.vec = nn.Linear(n_ratings, 1)\n",
    "        torch.nn.init.xavier_uniform_(self.vec.weight)\n",
    "\n",
    "        self.relu = nn.ReLU()\n",
    "\n",
    "    def forward(self, x):\n",
    "        # encode\n",
    "        x = self.L(x)\n",
    "        x = self.relu(x)\n",
    "        x = self.W(x)\n",
    "        x = self.relu(x)\n",
    "        xT = torch.transpose(x, -1, -2)\n",
    "        yT = self.V(xT)\n",
    "        y = torch.transpose(yT, -1, -2)\n",
    "        y = self.relu(y)\n",
    "        # decode\n",
    "        output = F.linear(y, self.W.weight.T)\n",
    "        output = self.relu(output)\n",
    "        outputT = torch.transpose(output, -1, -2)\n",
    "        outputT = torch.linalg.solve(self.L.weight, outputT)\n",
    "        outputT = self.relu(outputT)\n",
    "        outputT = F.linear(outputT, self.V.weight.T)\n",
    "        output = torch.transpose(outputT, -1, -2)\n",
    "\n",
    "        #         output = self.relu(output)\n",
    "        # vec\n",
    "        output = self.vec(output).squeeze(-1)\n",
    "        return output\n",
    "\n",
    "# %%\n",
    "def triangular_model(h, data_description, device):\n",
    "    h1, h2 = h\n",
    "    ae = triangularAE(data_description['n_items'], data_description['n_ratings'], h1, h2).to(device)\n",
    "    criterion = nn.BCEWithLogitsLoss().to(device)\n",
    "    optimizer = optim.Adam(ae.parameters())\n",
    "    scheduler = optim.lr_scheduler.ExponentialLR(optimizer, gamma=0.95)\n",
    "\n",
    "    mask = torch.tril(torch.ones_like(ae.L.weight))\n",
    "    ae.L.weight.register_hook(get_zero_grad_hook(mask))\n",
    "\n",
    "    return ae, criterion, optimizer, scheduler"
   ]
  },
  {
   "cell_type": "code",
   "execution_count": 6,
   "id": "7a142dfd",
   "metadata": {
    "ExecuteTime": {
     "end_time": "2023-06-04T09:58:17.013148Z",
     "start_time": "2023-06-04T09:58:16.979147Z"
    },
    "code_folding": [
     0
    ]
   },
   "outputs": [],
   "source": [
    "def training_testing_pipeline_augment(training, testset_valid, holdout_valid, data_description, model_init, h, device, MVDataset, tensor_model=False, batch_size=16, early_stop=50, n_epochs=1000):\n",
    "    train_dataset = MVDataset(training, data_description, augment=True)\n",
    "    train_dataloader = DataLoader(train_dataset, batch_size=batch_size, shuffle=True)\n",
    "\n",
    "    user_tensor_val, target_val = prepare_tensor(testset_valid, data_description, tensor_model)\n",
    "    val_num_batches = int(np.ceil(target_val.shape[0] / batch_size))\n",
    "\n",
    "    print('Hidden sizes:', h)\n",
    "\n",
    "    model, criterion, optimizer, scheduler = model_init(h, data_description, device)\n",
    "\n",
    "    # Training the AE\n",
    "    history = []\n",
    "    val_history = []\n",
    "\n",
    "    hrs2 = []\n",
    "    mrrs2 = []\n",
    "    cs2 = []\n",
    "    ndcgs2 = []\n",
    "\n",
    "    hrs3 = []\n",
    "    mrrs3 = []\n",
    "    cs3 = []\n",
    "    ndcgs3 = []\n",
    "\n",
    "    hrs4 = []\n",
    "    mrrs4 = []\n",
    "    cs4 = []\n",
    "    ndcgs4 = []\n",
    "\n",
    "    hrs5 = []\n",
    "    mrrs5 = []\n",
    "    cs5 = []\n",
    "    ndcgs5 = []\n",
    "\n",
    "    hrs6 = []\n",
    "    mrrs6 = []\n",
    "    cs6 = []\n",
    "    ndcgs6 = []\n",
    "\n",
    "    prev_matt2 = [0]\n",
    "    prev_matt3 = [0]\n",
    "    prev_matt4 = [0]\n",
    "    prev_matt5 = [0]\n",
    "    prev_matt6 = [0]\n",
    "\n",
    "    for epoch in range(1, n_epochs+1):\n",
    "        train_loss = 0\n",
    "\n",
    "        for batch in train_dataloader:\n",
    "            optimizer.zero_grad()\n",
    "\n",
    "            input_tensor, target = batch\n",
    "            input_tensor, target = input_tensor.to_dense().to(device), target.to_dense().to(device)\n",
    "\n",
    "            output = model(input_tensor)\n",
    "            target.require_grad = False # we don't use it in training\n",
    "\n",
    "            loss = criterion(output, target)\n",
    "            loss.backward()\n",
    "            optimizer.step()\n",
    "            train_loss += loss.data.item()\n",
    "\n",
    "        scheduler.step()\n",
    "        history.append(train_loss / len(train_dataloader))\n",
    "\n",
    "        test_loss = 0\n",
    "        scores = torch.zeros((testset_valid.userid.nunique(), data_description['n_items']))\n",
    "\n",
    "        with torch.no_grad():\n",
    "            model.eval()\n",
    "            for batch in range(val_num_batches):\n",
    "                input_tensor = user_tensor_val[batch * batch_size: (batch+1) * batch_size].to(device)\n",
    "                target = target_val[batch * batch_size: (batch+1) * batch_size].to(device)\n",
    "\n",
    "                output = model(input_tensor)\n",
    "                target.require_grad = False\n",
    "\n",
    "                test_loss += criterion(output, target)\n",
    "                scores[batch * batch_size: (batch+1) * batch_size] = output\n",
    "            model.train()\n",
    "\n",
    "        scores = scores.detach().cpu().numpy()\n",
    "        val_loss = test_loss / val_num_batches\n",
    "        val_history.append(val_loss.item())\n",
    "\n",
    "        downvote_seen_items(scores, testset_valid, data_description)\n",
    "\n",
    "        prev_matt2, hrs2, mrrs2, cs2, ndcgs2 = predict_and_check(model, scores, holdout_valid, data_description, hrs2,\n",
    "                                                                 mrrs2, cs2, ndcgs2, 2, prev_matt2, epoch, h)\n",
    "        prev_matt3, hrs3, mrrs3, cs3, ndcgs3 = predict_and_check(model, scores, holdout_valid, data_description, hrs3,\n",
    "                                                                 mrrs3, cs3, ndcgs3, 3, prev_matt3, epoch, h)\n",
    "        prev_matt4, hrs4, mrrs4, cs4, ndcgs4 = predict_and_check(model, scores, holdout_valid, data_description, hrs4,\n",
    "                                                                 mrrs4, cs4, ndcgs4, 4, prev_matt4, epoch, h)\n",
    "        prev_matt5, hrs5, mrrs5, cs5, ndcgs5 = predict_and_check(model, scores, holdout_valid, data_description, hrs5,\n",
    "                                                                 mrrs5, cs5, ndcgs5, 5, prev_matt5, epoch, h)\n",
    "        prev_matt6, hrs6, mrrs6, cs6, ndcgs6 = predict_and_check(model, scores, holdout_valid, data_description, hrs6,\n",
    "                                                                 mrrs6, cs6, ndcgs6, 6, prev_matt6, epoch, h)\n",
    "\n",
    "        # stop = epoch if epoch < early_stop else epoch-early_stop\n",
    "        if len(prev_matt2) >= early_stop and len(prev_matt3) >= early_stop and len(prev_matt4) >= early_stop and len(prev_matt5) >= early_stop and len(prev_matt6) >= early_stop:\n",
    "            print(f'Current epoch {epoch}')\n",
    "            break\n",
    "\n",
    "    # Testing the AE\n",
    "    check_test(model, criterion, user_tensor_val, target_val, testset_valid, holdout_valid, data_description,\n",
    "               val_num_batches, 2, h, device, batch_size=batch_size, dcg=True)\n",
    "    check_test(model, criterion, user_tensor_val, target_val, testset_valid, holdout_valid, data_description,\n",
    "               val_num_batches, 3, h, device, batch_size=batch_size, dcg=True)\n",
    "    check_test(model, criterion, user_tensor_val, target_val, testset_valid, holdout_valid, data_description,\n",
    "               val_num_batches, 4, h, device, batch_size=batch_size, dcg=True)\n",
    "    check_test(model, criterion, user_tensor_val, target_val, testset_valid, holdout_valid, data_description,\n",
    "               val_num_batches, 5, h, device, batch_size=batch_size, dcg=True)\n",
    "    check_test(model, criterion, user_tensor_val, target_val, testset_valid, holdout_valid, data_description,\n",
    "               val_num_batches, 6, h, device, batch_size=batch_size, dcg=True)\n",
    "\n",
    "    print('Test loss:', val_history[-min(early_stop, epoch)])\n",
    "    print('Train loss:', history[-min(early_stop, epoch)])\n",
    "\n",
    "    print()\n",
    "    print()"
   ]
  },
  {
   "cell_type": "code",
   "execution_count": 7,
   "id": "f99021bb",
   "metadata": {
    "ExecuteTime": {
     "end_time": "2023-06-02T18:06:02.374864Z",
     "start_time": "2023-06-02T17:49:01.539676Z"
    }
   },
   "outputs": [
    {
     "name": "stdout",
     "output_type": "stream",
     "text": [
      "Alpha: 4\n",
      "Hidden sizes: (256, 4)\n"
     ]
    },
    {
     "name": "stderr",
     "output_type": "stream",
     "text": [
      "D:\\GitHub\\Thesis_2023\\utils.py:68: RuntimeWarning: invalid value encountered in double_scalars\n",
      "  C = (TP/N - S*P) / np.sqrt(P*S*(1-P)*(1-S))\n"
     ]
    },
    {
     "name": "stdout",
     "output_type": "stream",
     "text": [
      "Current epoch 52\n",
      "Results for alpha=2\n",
      "HR@5:0.002346041055718475, MRR@5: 0.0007331378299120235, Coverage@5: 0.16191595650896268, NCDG@5: 0.0011323616176383538, HR_pos@5: 0.002346041055718475, HR_neg@5: 0.0, MRR_pos@5: 0.0007331378299120235, MRR_neg@5: 0.0, NCDG_pos@5: 0.0011323616176383538, NDCG_neg@5: 0.0, Matthews@5: 0.012168480312010108\n",
      "HR@10:0.0035190615835777126, MRR@10: 0.0009146767211283339, Coverage@10: 0.2283279459300617, NCDG@10: 0.00153678421027258, HR_pos@10: 0.0035190615835777126, HR_neg@10: 0.0, MRR_pos@10: 0.0009146767211283339, MRR_neg@10: 0.0, NCDG_pos@10: 0.00153678421027258, NDCG_neg@10: 0.0, Matthews@10: 0.014912053072265731\n",
      "HR@20:0.0093841642228739, MRR@20: 0.0013248603186456706, Coverage@20: 0.31677931237143697, NCDG@20: 0.003023168404589203, HR_pos@20: 0.0093841642228739, HR_neg@20: 0.0, MRR_pos@20: 0.0013248603186456706, MRR_neg@20: 0.0, NCDG_pos@20: 0.003023168404589203, NDCG_neg@20: 0.0, Matthews@20: 0.024423262173656073\n",
      "Results for alpha=3\n",
      "HR@5:0.005278592375366569, MRR@5: 0.002072336265884653, Coverage@5: 0.17631501616220982, NCDG@5: 0.0028616631536379973, HR_pos@5: 0.00469208211143695, HR_neg@5: 0.0005865102639296188, MRR_pos@5: 0.0017790811339198436, MRR_neg@5: 0.0002932551319648094, NCDG_pos@5: 0.002491616377349752, NDCG_neg@5: 0.0003700467762882449, Matthews@5: 0.00983683484304452\n",
      "HR@10:0.01055718475073314, MRR@10: 0.0027489177489177495, Coverage@10: 0.2347928298560094, NCDG@10: 0.004541327011235406, HR_pos@10: 0.00997067448680352, HR_neg@10: 0.0005865102639296188, MRR_pos@10: 0.002455662616952939, MRR_neg@10: 0.0002932551319648094, NCDG_pos@10: 0.004171280234947162, NDCG_neg@10: 0.0003700467762882449, Matthews@10: 0.02957400032204537\n",
      "HR@20:0.021114369501466276, MRR@20: 0.0034384651283818728, Coverage@20: 0.29973552747575666, NCDG@20: 0.00715716819295655, HR_pos@20: 0.01935483870967742, HR_neg@20: 0.0017595307917888563, MRR_pos@20: 0.00307076830907215, MRR_neg@20: 0.00036769681930972254, NCDG_pos@20: 0.006499543830900477, NDCG_neg@20: 0.0006576243620560728, Matthews@20: 0.030940523148929738\n",
      "Results for alpha=4\n",
      "HR@5:0.002346041055718475, MRR@5: 0.0007331378299120235, Coverage@5: 0.16191595650896268, NCDG@5: 0.0011323616176383538, HR_pos@5: 0.002346041055718475, HR_neg@5: 0.0, MRR_pos@5: 0.0007331378299120235, MRR_neg@5: 0.0, NCDG_pos@5: 0.0011323616176383538, NDCG_neg@5: 0.0, Matthews@5: 0.04155943921333978\n",
      "HR@10:0.0035190615835777126, MRR@10: 0.0009146767211283339, Coverage@10: 0.2283279459300617, NCDG@10: 0.00153678421027258, HR_pos@10: 0.0035190615835777126, HR_neg@10: 0.0, MRR_pos@10: 0.0009146767211283339, MRR_neg@10: 0.0, NCDG_pos@10: 0.00153678421027258, NDCG_neg@10: 0.0, Matthews@10: 0.05092965985171159\n",
      "HR@20:0.0093841642228739, MRR@20: 0.0013248603186456706, Coverage@20: 0.31677931237143697, NCDG@20: 0.003023168404589203, HR_pos@20: 0.008797653958944282, HR_neg@20: 0.0005865102639296188, MRR_pos@20: 0.001279744144497238, MRR_neg@20: 4.511617414843221e-05, NCDG_pos@20: 0.002869121756473546, NDCG_neg@20: 0.00015404664811565606, Matthews@20: 0.0711023187778119\n",
      "Results for alpha=5\n",
      "HR@5:0.0011730205278592375, MRR@5: 0.0002932551319648094, Coverage@5: 0.15221863062004115, NCDG@5: 0.0005051924434878511, HR_pos@5: 0.0005865102639296188, HR_neg@5: 0.0005865102639296188, MRR_pos@5: 0.0001466275659824047, MRR_neg@5: 0.0001466275659824047, NCDG_pos@5: 0.00025259622174392553, NDCG_neg@5: 0.00025259622174392553, Matthews@5: 0.022959505459634096\n",
      "HR@10:0.0035190615835777126, MRR@10: 0.0005781315458734814, Coverage@10: 0.2253893623273582, NCDG@10: 0.0012352782612605445, HR_pos@10: 0.0017595307917888563, HR_neg@10: 0.0017595307917888563, MRR_pos@10: 0.0002890657729367407, MRR_neg@10: 0.0002890657729367407, NCDG_pos@10: 0.0006176391306302722, NDCG_neg@10: 0.0006176391306302722, Matthews@10: 0.03981381473006467\n",
      "HR@20:0.007038123167155425, MRR@20: 0.0008071071875625955, Coverage@20: 0.3247134880987364, NCDG@20: 0.0021061482984546537, HR_pos@20: 0.002346041055718475, HR_neg@20: 0.00469208211143695, MRR_pos@20: 0.00033794162826420896, MRR_neg@20: 0.00046916555929838664, NCDG_pos@20: 0.0007761365819072927, NDCG_neg@20: 0.0013300117165473604, Matthews@20: 0.022625367189434652\n",
      "Results for alpha=6\n",
      "HR@5:0.005278592375366569, MRR@5: 0.002072336265884653, Coverage@5: 0.17631501616220982, NCDG@5: 0.0028616631536379973, HR_pos@5: 0.0, HR_neg@5: 0.005278592375366569, MRR_pos@5: 0.0, MRR_neg@5: 0.002072336265884653, NCDG_pos@5: 0.0, NDCG_neg@5: 0.0028616631536379973, Matthews@5: nan\n",
      "HR@10:0.010557184750733138, MRR@10: 0.0027489177489177495, Coverage@10: 0.2347928298560094, NCDG@10: 0.004541327011235406, HR_pos@10: 0.0, HR_neg@10: 0.010557184750733138, MRR_pos@10: 0.0, MRR_neg@10: 0.0027489177489177495, NCDG_pos@10: 0.0, NDCG_neg@10: 0.004541327011235406, Matthews@10: nan\n",
      "HR@20:0.021114369501466276, MRR@20: 0.0034384651283818728, Coverage@20: 0.29973552747575666, NCDG@20: 0.00715716819295655, HR_pos@20: 0.0, HR_neg@20: 0.021114369501466276, MRR_pos@20: 0.0, MRR_neg@20: 0.0034384651283818728, NCDG_pos@20: 0.0, NDCG_neg@20: 0.00715716819295655, Matthews@20: nan\n",
      "Test loss: 0.5594744086265564\n",
      "Train loss: 0.2833749685269683\n",
      "\n",
      "\n"
     ]
    }
   ],
   "source": [
    "print('Alpha: 4')\n",
    "h = (256, 4)\n",
    "training_testing_pipeline_augment(training, testset_valid, holdout_valid, data_description,\n",
    "                                  triangular_model, h, device, MVDataset, batch_size=32, tensor_model=True)"
   ]
  },
  {
   "cell_type": "code",
   "execution_count": 9,
   "id": "6d0fe53f",
   "metadata": {
    "ExecuteTime": {
     "end_time": "2023-06-02T18:13:03.596741Z",
     "start_time": "2023-06-02T18:13:03.570750Z"
    }
   },
   "outputs": [],
   "source": [
    "h = (256, 4)\n",
    "h1, h2 = h\n",
    "ae = triangularAE(data_description['n_items'], data_description['n_ratings'], h1, h2).to(device)"
   ]
  },
  {
   "cell_type": "code",
   "execution_count": 10,
   "id": "42a7d61c",
   "metadata": {
    "ExecuteTime": {
     "end_time": "2023-06-02T18:13:07.053388Z",
     "start_time": "2023-06-02T18:13:04.065318Z"
    }
   },
   "outputs": [
    {
     "data": {
      "text/plain": [
       "<All keys matched successfully>"
      ]
     },
     "execution_count": 10,
     "metadata": {},
     "output_type": "execute_result"
    }
   ],
   "source": [
    "alpha = 4\n",
    "ae.load_state_dict(torch.load(f'best_ae_{h}_{alpha}.pt'))"
   ]
  },
  {
   "cell_type": "code",
   "execution_count": 11,
   "id": "30796fe8",
   "metadata": {
    "ExecuteTime": {
     "end_time": "2023-06-02T18:13:11.826685Z",
     "start_time": "2023-06-02T18:13:09.037346Z"
    }
   },
   "outputs": [],
   "source": [
    "data = pd.DataFrame((ae.L.weight @ ae.L.weight.T).cpu().detach().numpy())\n",
    "data.columns = np.arange(1,6)\n",
    "data.index = np.arange(1,6)"
   ]
  },
  {
   "cell_type": "code",
   "execution_count": 12,
   "id": "4e6d2e50",
   "metadata": {
    "ExecuteTime": {
     "end_time": "2023-06-02T18:09:33.765580Z",
     "start_time": "2023-06-02T18:09:33.700452Z"
    }
   },
   "outputs": [],
   "source": [
    "data.to_clipboard()"
   ]
  },
  {
   "cell_type": "code",
   "execution_count": 13,
   "id": "c93d3d7c",
   "metadata": {
    "ExecuteTime": {
     "end_time": "2023-06-02T18:13:19.435461Z",
     "start_time": "2023-06-02T18:13:19.301462Z"
    }
   },
   "outputs": [
    {
     "data": {
      "image/png": "[encoded data removed]",
      "text/plain": [
       "<Figure size 400x400 with 1 Axes>"
      ]
     },
     "metadata": {},
     "output_type": "display_data"
    }
   ],
   "source": [
    "plt.figure(figsize=(4,4))\n",
    "plt.imshow(data, cmap='Blues', norm=None, vmin=-1, vmax=1)\n",
    "for i in range(data.shape[0]):\n",
    "    for j in range(data.shape[1]):\n",
    "        if data.values[i, j] > 0.8:\n",
    "            text = plt.text(j, i, np.round(data.values[i, j], 2),\n",
    "                          ha=\"center\", va=\"center\", color=\"w\")\n",
    "        else:\n",
    "            text = plt.text(j, i, np.round(data.values[i, j], 2),\n",
    "                            ha=\"center\", va=\"center\", color=\"k\")\n",
    "plt.xticks(np.arange(5), labels=np.arange(1,6))\n",
    "plt.yticks(np.arange(5), labels=np.arange(1,6));"
   ]
  },
  {
   "cell_type": "markdown",
   "id": "8ff928e6",
   "metadata": {},
   "source": [
    "## 2"
   ]
  },
  {
   "cell_type": "code",
   "execution_count": 49,
   "id": "e558e6c4",
   "metadata": {
    "ExecuteTime": {
     "end_time": "2023-06-02T21:06:25.021895Z",
     "start_time": "2023-06-02T21:06:24.999886Z"
    },
    "code_folding": [
     0,
     39
    ]
   },
   "outputs": [],
   "source": [
    "class squarerootAE(nn.Module):\n",
    "    def __init__(self, n_items, n_ratings, hid1, hid2):\n",
    "        super(squarerootAE, self).__init__()\n",
    "        self.V = nn.Linear(n_items, hid1, bias=False)\n",
    "        torch.nn.init.xavier_uniform_(self.V.weight)\n",
    "        self.W = nn.Linear(n_ratings, hid2, bias=False)\n",
    "        torch.nn.init.xavier_uniform_(self.W.weight)\n",
    "        self.L = nn.Linear(n_ratings, n_ratings, bias=False)\n",
    "        torch.nn.init.xavier_uniform_(self.L.weight)\n",
    "        #         self.norm = nn.LayerNorm(n_ratings)\n",
    "        self.vec = nn.Linear(n_ratings, 1)\n",
    "        torch.nn.init.xavier_uniform_(self.vec.weight)\n",
    "\n",
    "        self.relu = nn.ReLU()\n",
    "\n",
    "    def forward(self, x):\n",
    "        # encode\n",
    "        x = self.L(x)\n",
    "        x = self.relu(x)\n",
    "        x = self.W(x)\n",
    "        x = self.relu(x)\n",
    "        xT = torch.transpose(x, -1, -2)\n",
    "        yT = self.V(xT)\n",
    "        y = torch.transpose(yT, -1, -2)\n",
    "        y = self.relu(y)\n",
    "        # decode\n",
    "        output = F.linear(y, self.W.weight.T)\n",
    "        output = self.relu(output)\n",
    "        outputT = torch.transpose(output, -1, -2)\n",
    "        outputT = torch.linalg.solve(self.L.weight, outputT)\n",
    "        outputT = self.relu(outputT)\n",
    "        outputT = F.linear(outputT, self.V.weight.T)\n",
    "        output = torch.transpose(outputT, -1, -2)\n",
    "\n",
    "        #         output = self.relu(output)\n",
    "        # vec\n",
    "        output = self.vec(output).squeeze(-1)\n",
    "        return output\n",
    "\n",
    "def square_root_model(h, data_description, device):\n",
    "    h1, h2 = h\n",
    "    ae = squarerootAE(data_description['n_items'], data_description['n_ratings'], h1, h2).to(device)\n",
    "    criterion = nn.BCEWithLogitsLoss().to(device)\n",
    "    optimizer = optim.Adam(ae.parameters())\n",
    "    scheduler = optim.lr_scheduler.ExponentialLR(optimizer, gamma=0.9)\n",
    "\n",
    "    return ae, criterion, optimizer, scheduler"
   ]
  },
  {
   "cell_type": "code",
   "execution_count": 50,
   "id": "e7be972e",
   "metadata": {
    "ExecuteTime": {
     "end_time": "2023-06-02T21:19:50.685671Z",
     "start_time": "2023-06-02T21:06:25.133882Z"
    }
   },
   "outputs": [
    {
     "name": "stdout",
     "output_type": "stream",
     "text": [
      "Alpha: 4\n",
      "Hidden sizes: (128, 3)\n"
     ]
    },
    {
     "name": "stderr",
     "output_type": "stream",
     "text": [
      "D:\\GitHub\\Thesis_2023\\utils.py:68: RuntimeWarning: invalid value encountered in double_scalars\n",
      "  C = (TP/N - S*P) / np.sqrt(P*S*(1-P)*(1-S))\n"
     ]
    },
    {
     "name": "stdout",
     "output_type": "stream",
     "text": [
      "Current epoch 50\n",
      "Results for alpha=2\n",
      "HR@5:0.012316715542521995, MRR@5: 0.0046529814271749756, Coverage@5: 0.03790772847487511, NCDG@5: 0.006527677361041996, HR_pos@5: 0.012316715542521995, HR_neg@5: 0.0, MRR_pos@5: 0.0046529814271749756, MRR_neg@5: 0.0, NCDG_pos@5: 0.006527677361041996, NDCG_neg@5: 0.0, Matthews@5: 0.028021869661604547\n",
      "HR@10:0.021700879765395895, MRR@10: 0.0058616115067727965, Coverage@10: 0.05465765501028504, NCDG@10: 0.009517260550320256, HR_pos@10: 0.021700879765395895, HR_neg@10: 0.0, MRR_pos@10: 0.0058616115067727965, MRR_neg@10: 0.0, NCDG_pos@10: 0.009517260550320256, NDCG_neg@10: 0.0, Matthews@10: 0.03737329111733023\n",
      "HR@20:0.04457478005865103, MRR@20: 0.007438172140513641, Coverage@20: 0.08639435791948281, NCDG@20: 0.015289484267898126, HR_pos@20: 0.04457478005865103, HR_neg@20: 0.0, MRR_pos@20: 0.007438172140513641, MRR_neg@20: 0.0, NCDG_pos@20: 0.015289484267898126, NDCG_neg@20: 0.0, Matthews@20: 0.05420068295606828\n",
      "Results for alpha=3\n",
      "HR@5:0.012316715542521995, MRR@5: 0.0046529814271749756, Coverage@5: 0.03790772847487511, NCDG@5: 0.006527677361041996, HR_pos@5: 0.011730205278592375, HR_neg@5: 0.0005865102639296188, MRR_pos@5: 0.004359726295210166, MRR_neg@5: 0.0002932551319648094, NCDG_pos@5: 0.00615763058475375, NDCG_neg@5: 0.0003700467762882449, Matthews@5: 0.03438523426605712\n",
      "HR@10:0.021700879765395895, MRR@10: 0.0058616115067727965, Coverage@10: 0.05465765501028504, NCDG@10: 0.009517260550320256, HR_pos@10: 0.01994134897360704, HR_neg@10: 0.0017595307917888563, MRR_pos@10: 0.005425918167853652, MRR_neg@10: 0.00043569333891914537, NCDG_pos@10: 0.008782170865145666, NDCG_neg@10: 0.0007350896851745916, Matthews@10: 0.032290085478468455\n",
      "HR@20:0.04457478005865103, MRR@20: 0.007438172140513641, Coverage@20: 0.08639435791948281, NCDG@20: 0.015289484267898126, HR_pos@20: 0.03929618768328446, HR_neg@20: 0.005278592375366569, MRR_pos@20: 0.006738483266337964, MRR_neg@20: 0.0006996888741756777, NCDG_pos@20: 0.01363896431441657, NDCG_neg@20: 0.001650519953481556, Matthews@20: 0.02486788577400358\n",
      "Results for alpha=4\n",
      "HR@5:0.012316715542521995, MRR@5: 0.0046529814271749756, Coverage@5: 0.03790772847487511, NCDG@5: 0.006527677361041996, HR_pos@5: 0.010557184750733138, HR_neg@5: 0.0017595307917888563, MRR_pos@5: 0.004066471163245357, MRR_neg@5: 0.0005865102639296188, NCDG_pos@5: 0.005652438141265898, NDCG_neg@5: 0.0008752392197760961, Matthews@5: 0.06341768049088779\n",
      "HR@10:0.021700879765395892, MRR@10: 0.0058616115067727965, Coverage@10: 0.05465765501028504, NCDG@10: 0.009517260550320256, HR_pos@10: 0.01818181818181818, HR_neg@10: 0.0035190615835777126, MRR_pos@10: 0.00507401200949588, MRR_neg@10: 0.0007875994972769167, NCDG_pos@10: 0.008107438934081342, NDCG_neg@10: 0.0014098216162389166, Matthews@10: 0.07876229512886063\n",
      "HR@20:0.04457478005865102, MRR@20: 0.007438172140513641, Coverage@20: 0.08639435791948281, NCDG@20: 0.015289484267898126, HR_pos@20: 0.03284457478005865, HR_neg@20: 0.011730205278592375, MRR_pos@20: 0.006082827420066282, MRR_neg@20: 0.0013553447204473598, NCDG_pos@20: 0.01180497336638597, NDCG_neg@20: 0.0034845109015121554, Matthews@20: 0.07007540524008328\n",
      "Results for alpha=5\n",
      "HR@5:0.012316715542521995, MRR@5: 0.0046529814271749756, Coverage@5: 0.03790772847487511, NCDG@5: 0.006527677361041996, HR_pos@5: 0.007038123167155425, HR_neg@5: 0.005278592375366569, MRR_pos@5: 0.0031671554252199413, MRR_neg@5: 0.0014858260019550342, NCDG_pos@5: 0.004121904980252341, NDCG_neg@5: 0.0024057723807896524, Matthews@5: 0.09401813827695195\n",
      "HR@10:0.021700879765395895, MRR@10: 0.0058616115067727965, Coverage@10: 0.05465765501028504, NCDG@10: 0.009517260550320256, HR_pos@10: 0.011143695014662757, HR_neg@10: 0.010557184750733138, MRR_pos@10: 0.003702229669971606, MRR_neg@10: 0.002159381836801192, NCDG_pos@10: 0.005435906289715606, NDCG_neg@10: 0.004081354260604651, Matthews@10: 0.10462848845043617\n",
      "HR@20:0.04457478005865102, MRR@20: 0.007438172140513641, Coverage@20: 0.08639435791948281, NCDG@20: 0.015289484267898126, HR_pos@20: 0.01935483870967742, HR_neg@20: 0.025219941348973606, MRR_pos@20: 0.0042572529504517915, MRR_neg@20: 0.0031809191900618494, NCDG_pos@20: 0.007494570471975346, NDCG_neg@20: 0.007794913795922781, Matthews@20: 0.11050143678464547\n",
      "Results for alpha=6\n",
      "HR@5:0.012316715542521995, MRR@5: 0.0046529814271749756, Coverage@5: 0.03790772847487511, NCDG@5: 0.006527677361041996, HR_pos@5: 0.0, HR_neg@5: 0.012316715542521995, MRR_pos@5: 0.0, MRR_neg@5: 0.0046529814271749756, NCDG_pos@5: 0.0, NDCG_neg@5: 0.006527677361041996, Matthews@5: nan\n",
      "HR@10:0.021700879765395895, MRR@10: 0.0058616115067727965, Coverage@10: 0.05465765501028504, NCDG@10: 0.009517260550320256, HR_pos@10: 0.0, HR_neg@10: 0.021700879765395895, MRR_pos@10: 0.0, MRR_neg@10: 0.0058616115067727965, NCDG_pos@10: 0.0, NDCG_neg@10: 0.009517260550320256, Matthews@10: nan\n",
      "HR@20:0.04457478005865103, MRR@20: 0.007438172140513641, Coverage@20: 0.08639435791948281, NCDG@20: 0.015289484267898126, HR_pos@20: 0.0, HR_neg@20: 0.04457478005865103, MRR_pos@20: 0.0, MRR_neg@20: 0.007438172140513641, NCDG_pos@20: 0.0, NDCG_neg@20: 0.015289484267898126, Matthews@20: nan\n",
      "Test loss: 0.42520028352737427\n",
      "Train loss: 0.36719405017237167\n",
      "\n",
      "\n"
     ]
    }
   ],
   "source": [
    "print('Alpha: 4')\n",
    "h = (128, 3)\n",
    "training_testing_pipeline_augment(training, testset_valid, holdout_valid, data_description,\n",
    "                                  square_root_model, h, device, MVDataset, batch_size=32, tensor_model=True)"
   ]
  },
  {
   "cell_type": "code",
   "execution_count": 51,
   "id": "b205cd20",
   "metadata": {
    "ExecuteTime": {
     "end_time": "2023-06-02T21:22:17.089419Z",
     "start_time": "2023-06-02T21:22:17.069415Z"
    }
   },
   "outputs": [],
   "source": [
    "h1, h2 = h\n",
    "ae = squarerootAE(data_description['n_items'], data_description['n_ratings'], h1, h2).to(device)"
   ]
  },
  {
   "cell_type": "code",
   "execution_count": 52,
   "id": "4b17782d",
   "metadata": {
    "ExecuteTime": {
     "end_time": "2023-06-02T21:22:17.603415Z",
     "start_time": "2023-06-02T21:22:17.575413Z"
    }
   },
   "outputs": [
    {
     "data": {
      "text/plain": [
       "<All keys matched successfully>"
      ]
     },
     "execution_count": 52,
     "metadata": {},
     "output_type": "execute_result"
    }
   ],
   "source": [
    "alpha = 4\n",
    "ae.load_state_dict(torch.load(f'best_ae_{h}_{alpha}.pt'))"
   ]
  },
  {
   "cell_type": "code",
   "execution_count": 53,
   "id": "d0543450",
   "metadata": {
    "ExecuteTime": {
     "end_time": "2023-06-02T21:22:18.659416Z",
     "start_time": "2023-06-02T21:22:18.637414Z"
    }
   },
   "outputs": [],
   "source": [
    "data = pd.DataFrame((ae.L.weight @ ae.L.weight.T).cpu().detach().numpy())\n",
    "data.columns = np.arange(1,6)\n",
    "data.index = np.arange(1,6)"
   ]
  },
  {
   "cell_type": "code",
   "execution_count": 54,
   "id": "be865d90",
   "metadata": {
    "ExecuteTime": {
     "end_time": "2023-06-02T21:22:20.016415Z",
     "start_time": "2023-06-02T21:22:19.990417Z"
    }
   },
   "outputs": [],
   "source": [
    "data.to_clipboard()"
   ]
  },
  {
   "cell_type": "code",
   "execution_count": 57,
   "id": "3b3cf865",
   "metadata": {
    "ExecuteTime": {
     "end_time": "2023-06-02T21:23:13.430650Z",
     "start_time": "2023-06-02T21:23:13.300650Z"
    }
   },
   "outputs": [
    {
     "data": {
      "image/png": "[encoded data removed]",
      "text/plain": [
       "<Figure size 400x400 with 1 Axes>"
      ]
     },
     "metadata": {},
     "output_type": "display_data"
    }
   ],
   "source": [
    "plt.figure(figsize=(4,4))\n",
    "plt.imshow(data, cmap='Blues', norm=None, vmin=-1, vmax=1)\n",
    "for i in range(data.shape[0]):\n",
    "    for j in range(data.shape[1]):\n",
    "        if data.values[i, j] > 0.5:\n",
    "            text = plt.text(j, i, np.round(data.values[i, j], 2),\n",
    "                          ha=\"center\", va=\"center\", color=\"w\")\n",
    "        else:\n",
    "            text = plt.text(j, i, np.round(data.values[i, j], 2),\n",
    "                            ha=\"center\", va=\"center\", color=\"k\")\n",
    "plt.xticks(np.arange(5), labels=np.arange(1,6))\n",
    "plt.yticks(np.arange(5), labels=np.arange(1,6));"
   ]
  },
  {
   "cell_type": "markdown",
   "id": "a27ef6ba",
   "metadata": {},
   "source": [
    "## 3"
   ]
  },
  {
   "cell_type": "code",
   "execution_count": 37,
   "id": "976a5726",
   "metadata": {
    "ExecuteTime": {
     "end_time": "2023-06-02T19:21:31.480007Z",
     "start_time": "2023-06-02T19:21:31.430998Z"
    },
    "code_folding": [
     0,
     5,
     12,
     57
    ]
   },
   "outputs": [],
   "source": [
    "def triu_init(m):\n",
    "    if isinstance(m, nn.Linear):\n",
    "        with torch.no_grad():\n",
    "            m.weight.copy_(torch.tril(m.weight))\n",
    "\n",
    "def get_zero_grad_hook(mask):\n",
    "    def hook(grad):\n",
    "        return grad * mask\n",
    "\n",
    "    return hook\n",
    "\n",
    "# %%\n",
    "class twotriangularAE(nn.Module):\n",
    "    def __init__(self, n_items, n_ratings, hid1, hid2):\n",
    "        super(twotriangularAE, self).__init__()\n",
    "        self.V = nn.Linear(n_items, hid1, bias=False)\n",
    "        torch.nn.init.xavier_uniform_(self.V.weight)\n",
    "        self.W = nn.Linear(n_ratings, hid2, bias=False)\n",
    "        torch.nn.init.xavier_uniform_(self.W.weight)\n",
    "        self.L = nn.Linear(n_ratings, n_ratings, bias=False)\n",
    "        torch.nn.init.xavier_uniform_(self.L.weight)\n",
    "        triu_init(self.L)\n",
    "        self.LTinv = nn.Linear(n_ratings, n_ratings, bias=False)\n",
    "        torch.nn.init.xavier_uniform_(self.LTinv.weight)\n",
    "        triu_init(self.LTinv)\n",
    "\n",
    "        #         self.norm = nn.LayerNorm(n_ratings)\n",
    "        self.vec = nn.Linear(n_ratings, 1)\n",
    "        torch.nn.init.xavier_uniform_(self.vec.weight)\n",
    "\n",
    "        self.relu = nn.ReLU()\n",
    "\n",
    "    def forward(self, x):\n",
    "        # encode\n",
    "        x = self.L(x)\n",
    "        x = self.relu(x)\n",
    "        x = self.W(x)\n",
    "        x = self.relu(x)\n",
    "        xT = torch.transpose(x, -1, -2)\n",
    "        yT = self.V(xT)\n",
    "        y = torch.transpose(yT, -1, -2)\n",
    "        y = self.relu(y)\n",
    "        # decode\n",
    "        output = F.linear(y, self.W.weight.T)\n",
    "        output = self.relu(output)\n",
    "        output = self.LTinv(output)\n",
    "        output = self.relu(output)\n",
    "        outputT = torch.transpose(output, -1, -2)\n",
    "        outputT = F.linear(outputT, self.V.weight.T)\n",
    "        output = torch.transpose(outputT, -1, -2)\n",
    "\n",
    "        #         output = self.relu(output)\n",
    "        # vec\n",
    "        output = self.vec(output).squeeze(-1)\n",
    "        return output\n",
    "\n",
    "# %%\n",
    "def twotriangular_model(h, data_description, device):\n",
    "    h1, h2 = h\n",
    "    ae = twotriangularAE(data_description['n_items'], data_description['n_ratings'], h1, h2).to(device)\n",
    "    criterion = nn.BCEWithLogitsLoss().to(device)\n",
    "    optimizer = optim.Adam(ae.parameters())\n",
    "    scheduler = optim.lr_scheduler.ExponentialLR(optimizer, gamma=0.95)\n",
    "\n",
    "    mask = torch.tril(torch.ones_like(ae.L.weight))\n",
    "    ae.L.weight.register_hook(get_zero_grad_hook(mask))\n",
    "\n",
    "    mask = torch.tril(torch.ones_like(ae.LTinv.weight))\n",
    "    ae.LTinv.weight.register_hook(get_zero_grad_hook(mask))\n",
    "\n",
    "    return ae, criterion, optimizer, scheduler"
   ]
  },
  {
   "cell_type": "code",
   "execution_count": 38,
   "id": "62ac69fd",
   "metadata": {
    "ExecuteTime": {
     "end_time": "2023-06-02T19:36:04.107997Z",
     "start_time": "2023-06-02T19:21:31.882993Z"
    }
   },
   "outputs": [
    {
     "name": "stdout",
     "output_type": "stream",
     "text": [
      "Alpha: 4\n",
      "Hidden sizes: (128, 3)\n"
     ]
    },
    {
     "name": "stderr",
     "output_type": "stream",
     "text": [
      "D:\\GitHub\\Thesis_2023\\utils.py:68: RuntimeWarning: invalid value encountered in double_scalars\n",
      "  C = (TP/N - S*P) / np.sqrt(P*S*(1-P)*(1-S))\n"
     ]
    },
    {
     "name": "stdout",
     "output_type": "stream",
     "text": [
      "Current epoch 54\n",
      "Results for alpha=2\n",
      "HR@5:0.011143695014662757, MRR@5: 0.00407624633431085, Coverage@5: 0.03291213635027917, NCDG@5: 0.005816768679033646, HR_pos@5: 0.011143695014662757, HR_neg@5: 0.0, MRR_pos@5: 0.00407624633431085, MRR_neg@5: 0.0, NCDG_pos@5: 0.005816768679033646, NDCG_neg@5: 0.0, Matthews@5: 0.026638300896902774\n",
      "HR@10:0.02463343108504399, MRR@10: 0.005956104827072568, Coverage@10: 0.050543637966500146, NCDG@10: 0.010260652879607918, HR_pos@10: 0.02463343108504399, HR_neg@10: 0.0, MRR_pos@10: 0.005956104827072568, MRR_neg@10: 0.0, NCDG_pos@10: 0.010260652879607918, NDCG_neg@10: 0.0, Matthews@10: 0.03987833574825462\n",
      "HR@20:0.03870967741935484, MRR@20: 0.006917716312480392, Coverage@20: 0.07934175727299442, NCDG@20: 0.013802009755066819, HR_pos@20: 0.03870967741935484, HR_neg@20: 0.0, MRR_pos@20: 0.006917716312480392, MRR_neg@20: 0.0, NCDG_pos@20: 0.013802009755066819, NDCG_neg@20: 0.0, Matthews@20: 0.05035481397541435\n",
      "Results for alpha=3\n",
      "HR@5:0.011143695014662757, MRR@5: 0.00407624633431085, Coverage@5: 0.03291213635027917, NCDG@5: 0.005816768679033646, HR_pos@5: 0.011143695014662757, HR_neg@5: 0.0, MRR_pos@5: 0.00407624633431085, MRR_neg@5: 0.0, NCDG_pos@5: 0.005816768679033646, NDCG_neg@5: 0.0, Matthews@5: 0.046451899724954115\n",
      "HR@10:0.02463343108504399, MRR@10: 0.005956104827072568, Coverage@10: 0.050543637966500146, NCDG@10: 0.010260652879607918, HR_pos@10: 0.02404692082111437, HR_neg@10: 0.0005865102639296188, MRR_pos@10: 0.005890937019969277, MRR_neg@10: 6.516780710329097e-05, NCDG_pos@10: 0.010084095697400302, NDCG_neg@10: 0.00017655718220761362, Matthews@10: 0.05923701071447274\n",
      "HR@20:0.03870967741935484, MRR@20: 0.006917716312480392, Coverage@20: 0.07934175727299442, NCDG@20: 0.013802009755066819, HR_pos@20: 0.03636363636363636, HR_neg@20: 0.002346041055718475, MRR_pos@20: 0.006725628102451866, MRR_neg@20: 0.00019208821002852396, NCDG_pos@20: 0.013174569633141162, NDCG_neg@20: 0.0006274401219256554, Matthews@20: 0.054693548219845234\n",
      "Results for alpha=4\n",
      "HR@5:0.011143695014662757, MRR@5: 0.00407624633431085, Coverage@5: 0.03291213635027917, NCDG@5: 0.005816768679033646, HR_pos@5: 0.00997067448680352, HR_neg@5: 0.0011730205278592375, MRR_pos@5: 0.0037341153470185724, MRR_neg@5: 0.00034213098729227756, NCDG_pos@5: 0.005270917325324912, NDCG_neg@5: 0.0005458513537087349, Matthews@5: 0.06836337051292987\n",
      "HR@10:0.02463343108504399, MRR@10: 0.005956104827072568, Coverage@10: 0.050543637966500146, NCDG@10: 0.010260652879607918, HR_pos@10: 0.021700879765395895, HR_neg@10: 0.002932551319648094, MRR_pos@10: 0.005381231671554251, MRR_neg@10: 0.0005748731555183168, NCDG_pos@10: 0.009147237501071825, NDCG_neg@10: 0.0011134153785360944, Matthews@10: 0.0979085105577479\n",
      "HR@20:0.03870967741935484, MRR@20: 0.006917716312480392, Coverage@20: 0.07934175727299442, NCDG@20: 0.013802009755066819, HR_pos@20: 0.03284457478005865, HR_neg@20: 0.005865102639296188, MRR_pos@20: 0.006136305976127843, MRR_neg@20: 0.0007814103363525477, NCDG_pos@20: 0.011943012315636535, NDCG_neg@20: 0.00185899743943028, Matthews@20: 0.11044422411224049\n",
      "Results for alpha=5\n",
      "HR@5:0.00997067448680352, MRR@5: 0.003636363636363636, Coverage@5: 0.0490743461651484, NCDG@5: 0.005183060837191392, HR_pos@5: 0.005865102639296188, HR_neg@5: 0.004105571847507331, MRR_pos@5: 0.0022482893450635386, MRR_neg@5: 0.0013880742913000978, NCDG_pos@5: 0.003124371435124388, NDCG_neg@5: 0.0020586894020670045, Matthews@5: 0.08855151969818319\n",
      "HR@10:0.01935483870967742, MRR@10: 0.004801005446166737, Coverage@10: 0.07140758154569497, NCDG@10: 0.008130421643434964, HR_pos@10: 0.012316715542521995, HR_neg@10: 0.007038123167155425, MRR_pos@10: 0.003085462924172602, MRR_neg@10: 0.001715542521994135, NCDG_pos@10: 0.005187497819024522, NDCG_neg@10: 0.0029429238244104415, Matthews@10: 0.14024160901090338\n",
      "HR@20:0.030498533724340176, MRR@20: 0.005549933062779997, Coverage@20: 0.10373200117543344, NCDG@20: 0.010919408697213319, HR_pos@20: 0.016422287390029325, HR_neg@20: 0.01407624633431085, MRR_pos@20: 0.0033574359216025046, MRR_neg@20: 0.0021924971411774927, NCDG_pos@20: 0.006210263046466485, NDCG_neg@20: 0.004709145650746834, Matthews@20: 0.1352506946749388\n",
      "Results for alpha=6\n",
      "HR@5:0.011143695014662757, MRR@5: 0.005865102639296188, Coverage@5: 0.02762268586541287, NCDG@5: 0.007144099286071619, HR_pos@5: 0.0, HR_neg@5: 0.011143695014662757, MRR_pos@5: 0.0, MRR_neg@5: 0.005865102639296188, NCDG_pos@5: 0.0, NDCG_neg@5: 0.007144099286071619, Matthews@5: nan\n",
      "HR@10:0.02287390029325513, MRR@10: 0.007445654703719219, Coverage@10: 0.04319717895974141, NCDG@10: 0.010953062017108012, HR_pos@10: 0.0, HR_neg@10: 0.02287390029325513, MRR_pos@10: 0.0, MRR_neg@10: 0.007445654703719219, NCDG_pos@10: 0.0, NDCG_neg@10: 0.010953062017108012, Matthews@10: nan\n",
      "HR@20:0.04222873900293255, MRR@20: 0.008694435881070528, Coverage@20: 0.06523655598001764, NCDG@20: 0.015727951337795715, HR_pos@20: 0.0, HR_neg@20: 0.04222873900293255, MRR_pos@20: 0.0, MRR_neg@20: 0.008694435881070528, NCDG_pos@20: 0.0, NDCG_neg@20: 0.015727951337795715, Matthews@20: nan\n",
      "Test loss: 0.3985755443572998\n",
      "Train loss: 0.3187598085670329\n",
      "\n",
      "\n"
     ]
    }
   ],
   "source": [
    "print('Alpha: 4')\n",
    "h = (128, 3)\n",
    "training_testing_pipeline_augment(training, testset_valid, holdout_valid, data_description,\n",
    "                                  twotriangular_model, h, device, MVDataset, batch_size=32, tensor_model=True)"
   ]
  },
  {
   "cell_type": "code",
   "execution_count": 43,
   "id": "df8b7c97",
   "metadata": {
    "ExecuteTime": {
     "end_time": "2023-06-02T21:05:12.637055Z",
     "start_time": "2023-06-02T21:05:12.592053Z"
    }
   },
   "outputs": [],
   "source": [
    "h1, h2 = h\n",
    "ae = twotriangularAE(data_description['n_items'], data_description['n_ratings'], h1, h2).to(device)"
   ]
  },
  {
   "cell_type": "code",
   "execution_count": 44,
   "id": "93e1aa1c",
   "metadata": {
    "ExecuteTime": {
     "end_time": "2023-06-02T21:05:18.840053Z",
     "start_time": "2023-06-02T21:05:18.809074Z"
    }
   },
   "outputs": [
    {
     "data": {
      "text/plain": [
       "<All keys matched successfully>"
      ]
     },
     "execution_count": 44,
     "metadata": {},
     "output_type": "execute_result"
    }
   ],
   "source": [
    "alpha = 4\n",
    "ae.load_state_dict(torch.load(f'best_ae_{h}_{alpha}.pt'))"
   ]
  },
  {
   "cell_type": "code",
   "execution_count": 45,
   "id": "140284b2",
   "metadata": {
    "ExecuteTime": {
     "end_time": "2023-06-02T21:05:25.600052Z",
     "start_time": "2023-06-02T21:05:25.530058Z"
    }
   },
   "outputs": [],
   "source": [
    "data = pd.DataFrame((ae.L.weight @ ae.L.weight.T).cpu().detach().numpy())\n",
    "data.columns = np.arange(1,6)\n",
    "data.index = np.arange(1,6)"
   ]
  },
  {
   "cell_type": "code",
   "execution_count": 46,
   "id": "bc190675",
   "metadata": {
    "ExecuteTime": {
     "end_time": "2023-06-02T21:05:32.288055Z",
     "start_time": "2023-06-02T21:05:32.220055Z"
    }
   },
   "outputs": [],
   "source": [
    "data.to_clipboard()"
   ]
  },
  {
   "cell_type": "code",
   "execution_count": 47,
   "id": "46146b3a",
   "metadata": {
    "ExecuteTime": {
     "end_time": "2023-06-02T21:05:51.444052Z",
     "start_time": "2023-06-02T21:05:51.124053Z"
    }
   },
   "outputs": [
    {
     "data": {
      "image/png": "[encoded data removed]",
      "text/plain": [
       "<Figure size 400x400 with 1 Axes>"
      ]
     },
     "metadata": {},
     "output_type": "display_data"
    }
   ],
   "source": [
    "plt.figure(figsize=(4,4))\n",
    "plt.imshow(data, cmap='Blues', norm=None, vmin=-1, vmax=1)\n",
    "for i in range(data.shape[0]):\n",
    "    for j in range(data.shape[1]):\n",
    "        if data.values[i, j] > 0.8:\n",
    "            text = plt.text(j, i, np.round(data.values[i, j], 2),\n",
    "                          ha=\"center\", va=\"center\", color=\"w\")\n",
    "        else:\n",
    "            text = plt.text(j, i, np.round(data.values[i, j], 2),\n",
    "                            ha=\"center\", va=\"center\", color=\"k\")\n",
    "plt.xticks(np.arange(5), labels=np.arange(1,6))\n",
    "plt.yticks(np.arange(5), labels=np.arange(1,6));"
   ]
  },
  {
   "cell_type": "markdown",
   "id": "f299ad73",
   "metadata": {},
   "source": [
    "## 4"
   ]
  },
  {
   "cell_type": "code",
   "execution_count": 4,
   "id": "5795d1e2",
   "metadata": {
    "ExecuteTime": {
     "end_time": "2023-06-04T09:57:39.994925Z",
     "start_time": "2023-06-04T09:57:39.977939Z"
    },
    "code_folding": [
     0,
     5,
     12,
     61
    ]
   },
   "outputs": [],
   "source": [
    "def triu_init(m):\n",
    "    if isinstance(m, nn.Linear):\n",
    "        with torch.no_grad():\n",
    "            m.weight.copy_(torch.tril(m.weight))\n",
    "\n",
    "def get_zero_grad_hook(mask):\n",
    "    def hook(grad):\n",
    "        return grad * mask\n",
    "\n",
    "    return hook\n",
    "\n",
    "# %%\n",
    "class vartriangularAE(nn.Module):\n",
    "    def __init__(self, n_items, n_ratings, hid1, hid2):\n",
    "        super(vartriangularAE, self).__init__()\n",
    "        self.V = nn.Linear(n_items, hid1, bias=False)\n",
    "        torch.nn.init.xavier_uniform_(self.V.weight)\n",
    "        self.VT = nn.Linear(hid1, n_items, bias=False)\n",
    "        torch.nn.init.xavier_uniform_(self.VT.weight)\n",
    "        self.W = nn.Linear(n_ratings, hid2, bias=False)\n",
    "        torch.nn.init.xavier_uniform_(self.W.weight)\n",
    "        self.WT = nn.Linear(hid2, n_ratings, bias=False)\n",
    "        torch.nn.init.xavier_uniform_(self.WT.weight)\n",
    "        self.L = nn.Linear(n_ratings, n_ratings, bias=False)\n",
    "        torch.nn.init.xavier_uniform_(self.L.weight)\n",
    "        triu_init(self.L)\n",
    "        self.LTinv = nn.Linear(n_ratings, n_ratings, bias=False)\n",
    "        torch.nn.init.xavier_uniform_(self.LTinv.weight)\n",
    "        triu_init(self.LTinv)\n",
    "\n",
    "        #         self.norm = nn.LayerNorm(n_ratings)\n",
    "        self.vec = nn.Linear(n_ratings, 1)\n",
    "        torch.nn.init.xavier_uniform_(self.vec.weight)\n",
    "\n",
    "        self.relu = nn.ReLU()\n",
    "\n",
    "    def forward(self, x):\n",
    "        # encode\n",
    "        x = self.L(x)\n",
    "        x = self.relu(x)\n",
    "        x = self.W(x)\n",
    "        x = self.relu(x)\n",
    "        xT = torch.transpose(x, -1, -2)\n",
    "        yT = self.V(xT)\n",
    "        y = torch.transpose(yT, -1, -2)\n",
    "        y = self.relu(y)\n",
    "        # decode\n",
    "        output = self.WT(y)\n",
    "        output = self.relu(output)\n",
    "        output = self.LTinv(output)\n",
    "        output = self.relu(output)\n",
    "        outputT = torch.transpose(output, -1, -2)\n",
    "        outputT = self.VT(outputT)\n",
    "        output = torch.transpose(outputT, -1, -2)\n",
    "\n",
    "        #         output = self.relu(output)\n",
    "        # vec\n",
    "        output = self.vec(output).squeeze(-1)\n",
    "        return output\n",
    "\n",
    "# %%\n",
    "def vartriangular_model(h, data_description, device):\n",
    "    h1, h2 = h\n",
    "    ae = vartriangularAE(data_description['n_items'], data_description['n_ratings'], h1, h2).to(device)\n",
    "    criterion = nn.BCEWithLogitsLoss().to(device)\n",
    "    optimizer = optim.Adam(ae.parameters())\n",
    "    scheduler = optim.lr_scheduler.ExponentialLR(optimizer, gamma=0.95)\n",
    "\n",
    "    mask = torch.tril(torch.ones_like(ae.L.weight))\n",
    "    ae.L.weight.register_hook(get_zero_grad_hook(mask))\n",
    "\n",
    "    mask = torch.tril(torch.ones_like(ae.LTinv.weight))\n",
    "    ae.LTinv.weight.register_hook(get_zero_grad_hook(mask))\n",
    "\n",
    "    return ae, criterion, optimizer, scheduler"
   ]
  },
  {
   "cell_type": "code",
   "execution_count": 7,
   "id": "8d08ddb1",
   "metadata": {
    "ExecuteTime": {
     "end_time": "2023-06-04T10:27:30.882182Z",
     "start_time": "2023-06-04T09:58:18.628090Z"
    }
   },
   "outputs": [
    {
     "name": "stdout",
     "output_type": "stream",
     "text": [
      "Alpha: 4\n",
      "Hidden sizes: (128, 5)\n"
     ]
    },
    {
     "name": "stderr",
     "output_type": "stream",
     "text": [
      "D:\\GitHub\\Thesis_2023\\utils.py:68: RuntimeWarning: invalid value encountered in double_scalars\n",
      "  C = (TP/N - S*P) / np.sqrt(P*S*(1-P)*(1-S))\n"
     ]
    },
    {
     "name": "stdout",
     "output_type": "stream",
     "text": [
      "Current epoch 87\n",
      "Results for alpha=2\n",
      "HR@5:0.011143695014662757, MRR@5: 0.004447702834799609, Coverage@5: 0.12283279459300617, NCDG@5: 0.006088529312756702, HR_pos@5: 0.011143695014662757, HR_neg@5: 0.0, MRR_pos@5: 0.004447702834799609, MRR_neg@5: 0.0, NCDG_pos@5: 0.006088529312756702, NDCG_neg@5: 0.0, Matthews@5: 0.026638300896902774\n",
      "HR@10:0.025219941348973606, MRR@10: 0.006408788344272215, Coverage@10: 0.18072289156626506, NCDG@10: 0.010722688695924755, HR_pos@10: 0.025219941348973606, HR_neg@10: 0.0, MRR_pos@10: 0.006408788344272215, MRR_neg@10: 0.0, NCDG_pos@10: 0.010722688695924755, NDCG_neg@10: 0.0, Matthews@10: 0.040362422392844724\n",
      "HR@20:0.03812316715542522, MRR@20: 0.007244543616623549, Coverage@20: 0.26623567440493684, NCDG@20: 0.013910257954411958, HR_pos@20: 0.03812316715542522, HR_neg@20: 0.0, MRR_pos@20: 0.007244543616623549, MRR_neg@20: 0.0, NCDG_pos@20: 0.013910257954411958, NDCG_neg@20: 0.0, Matthews@20: 0.04995664442293813\n",
      "Results for alpha=3\n",
      "HR@5:0.01055718475073314, MRR@5: 0.005024437927663734, Coverage@5: 0.043491037320011756, NCDG@5: 0.006386628215529049, HR_pos@5: 0.00997067448680352, HR_neg@5: 0.0005865102639296188, MRR_pos@5: 0.004731182795698925, MRR_neg@5: 0.0002932551319648094, NCDG_pos@5: 0.0060165814392408035, NDCG_neg@5: 0.0003700467762882449, Matthews@5: 0.02957400032204537\n",
      "HR@10:0.02346041055718475, MRR@10: 0.006702043476237025, Coverage@10: 0.06288568909785483, NCDG@10: 0.010514275171310759, HR_pos@10: 0.022287390029325515, HR_neg@10: 0.0011730205278592375, MRR_pos@10: 0.00632500116371084, MRR_neg@10: 0.00037704231252618344, NCDG_pos@10: 0.009948724973712643, NDCG_neg@10: 0.0005655501975981177, Matthews@10: 0.046721280681371935\n",
      "HR@20:0.04633431085043989, MRR@20: 0.008207914359008845, Coverage@20: 0.08786364972083456, NCDG@20: 0.016194957563326295, HR_pos@20: 0.04398826979472141, HR_neg@20: 0.002346041055718475, MRR_pos@20: 0.007759187458669041, MRR_neg@20: 0.0004487269003398035, NCDG_pos@20: 0.01534471005583572, NDCG_neg@20: 0.0008502475074905742, Matthews@20: 0.0660625116473943\n",
      "Results for alpha=4\n",
      "HR@5:0.010557184750733138, MRR@5: 0.005024437927663734, Coverage@5: 0.043491037320011756, NCDG@5: 0.006386628215529049, HR_pos@5: 0.0093841642228739, HR_neg@5: 0.0011730205278592375, MRR_pos@5: 0.004535679374389051, MRR_neg@5: 0.0004887585532746823, NCDG_pos@5: 0.0057233263072759945, NDCG_neg@5: 0.0006633019082530543, Matthews@5: 0.0652977584643639\n",
      "HR@10:0.02346041055718475, MRR@10: 0.006702043476237025, Coverage@10: 0.06288568909785483, NCDG@10: 0.010514275171310759, HR_pos@10: 0.01935483870967742, HR_neg@10: 0.004105571847507331, MRR_pos@10: 0.005801331285202252, MRR_neg@10: 0.0009007121910347716, NCDG_pos@10: 0.00888100047282536, NDCG_neg@10: 0.0016332746984853985, Matthews@10: 0.07793976659565192\n",
      "HR@20:0.04633431085043989, MRR@20: 0.008207914359008845, Coverage@20: 0.08786364972083456, NCDG@20: 0.016194957563326295, HR_pos@20: 0.03519061583577713, HR_neg@20: 0.011143695014662757, MRR_pos@20: 0.0068848371011468075, MRR_neg@20: 0.0013230772578620375, NCDG_pos@20: 0.012865102214471338, NDCG_neg@20: 0.0033298553488549567, Matthews@20: 0.08161583027783267\n",
      "Results for alpha=5\n",
      "HR@5:0.007038123167155425, MRR@5: 0.0035386119257086995, Coverage@5: 0.293270643549809, NCDG@5: 0.00440473045778548, HR_pos@5: 0.004105571847507331, HR_neg@5: 0.002932551319648094, MRR_pos@5: 0.0021994134897360706, MRR_neg@5: 0.0013391984359726295, NCDG_pos@5: 0.002675428921785836, NDCG_neg@5: 0.0017293015359996435, Matthews@5: 0.07329469870167557\n",
      "HR@10:0.01407624633431085, MRR@10: 0.004455383326351068, Coverage@10: 0.41022627093740816, NCDG@10: 0.006658356395593587, HR_pos@10: 0.008797653958944282, HR_neg@10: 0.005278592375366569, MRR_pos@10: 0.0028043103849555466, MRR_neg@10: 0.0016510729413955218, NCDG_pos@10: 0.004171517902544492, NDCG_neg@10: 0.0024868384930490967, Matthews@10: 0.11600910085454683\n",
      "HR@20:0.026979472140762465, MRR@20: 0.005320741612176383, Coverage@20: 0.5365853658536586, NCDG@20: 0.009884317346094063, HR_pos@20: 0.013489736070381233, HR_neg@20: 0.013489736070381233, MRR_pos@20: 0.003138021665186351, MRR_neg@20: 0.002182719946990032, NCDG_pos@20: 0.0053690569841908335, NDCG_neg@20: 0.004515260361903229, Matthews@20: 0.11156053241537513\n",
      "Results for alpha=6\n",
      "HR@5:0.010557184750733138, MRR@5: 0.005024437927663734, Coverage@5: 0.043491037320011756, NCDG@5: 0.006386628215529049, HR_pos@5: 0.0, HR_neg@5: 0.010557184750733138, MRR_pos@5: 0.0, MRR_neg@5: 0.005024437927663734, NCDG_pos@5: 0.0, NDCG_neg@5: 0.006386628215529049, Matthews@5: nan\n",
      "HR@10:0.02346041055718475, MRR@10: 0.006702043476237025, Coverage@10: 0.06288568909785483, NCDG@10: 0.010514275171310759, HR_pos@10: 0.0, HR_neg@10: 0.02346041055718475, MRR_pos@10: 0.0, MRR_neg@10: 0.006702043476237025, NCDG_pos@10: 0.0, NDCG_neg@10: 0.010514275171310759, Matthews@10: nan\n",
      "HR@20:0.04633431085043988, MRR@20: 0.008207914359008845, Coverage@20: 0.08786364972083456, NCDG@20: 0.016194957563326295, HR_pos@20: 0.0, HR_neg@20: 0.04633431085043988, MRR_pos@20: 0.0, MRR_neg@20: 0.008207914359008845, NCDG_pos@20: 0.0, NDCG_neg@20: 0.016194957563326295, Matthews@20: nan\n",
      "Test loss: 0.16377213597297668\n",
      "Train loss: 0.08064154857832394\n",
      "\n",
      "\n"
     ]
    }
   ],
   "source": [
    "print('Alpha: 4')\n",
    "h = (128, 5)\n",
    "training_testing_pipeline_augment(training, testset_valid, holdout_valid, data_description,\n",
    "                                  vartriangular_model, h, device, MVDataset, batch_size=16, tensor_model=True)"
   ]
  },
  {
   "cell_type": "code",
   "execution_count": 8,
   "id": "2b607fe4",
   "metadata": {
    "ExecuteTime": {
     "end_time": "2023-06-04T10:35:47.843793Z",
     "start_time": "2023-06-04T10:35:47.774774Z"
    }
   },
   "outputs": [],
   "source": [
    "h1, h2 = h\n",
    "ae = vartriangularAE(data_description['n_items'], data_description['n_ratings'], h1, h2).to(device)"
   ]
  },
  {
   "cell_type": "code",
   "execution_count": 9,
   "id": "3e3f7235",
   "metadata": {
    "ExecuteTime": {
     "end_time": "2023-06-04T10:35:52.511349Z",
     "start_time": "2023-06-04T10:35:52.460352Z"
    }
   },
   "outputs": [
    {
     "data": {
      "text/plain": [
       "<All keys matched successfully>"
      ]
     },
     "execution_count": 9,
     "metadata": {},
     "output_type": "execute_result"
    }
   ],
   "source": [
    "alpha = 4\n",
    "ae.load_state_dict(torch.load(f'best_ae_{h}_{alpha}.pt'))"
   ]
  },
  {
   "cell_type": "code",
   "execution_count": 10,
   "id": "8a414d31",
   "metadata": {
    "ExecuteTime": {
     "end_time": "2023-06-04T10:35:57.075282Z",
     "start_time": "2023-06-04T10:35:57.050266Z"
    }
   },
   "outputs": [],
   "source": [
    "data = pd.DataFrame((ae.L.weight @ ae.L.weight.T).cpu().detach().numpy())\n",
    "data.columns = np.arange(1,6)\n",
    "data.index = np.arange(1,6)"
   ]
  },
  {
   "cell_type": "code",
   "execution_count": 11,
   "id": "8348dbb2",
   "metadata": {
    "ExecuteTime": {
     "end_time": "2023-06-04T10:36:01.192955Z",
     "start_time": "2023-06-04T10:36:01.087800Z"
    }
   },
   "outputs": [],
   "source": [
    "data.to_clipboard()"
   ]
  },
  {
   "cell_type": "code",
   "execution_count": 13,
   "id": "067e4036",
   "metadata": {
    "ExecuteTime": {
     "end_time": "2023-06-04T10:36:45.576731Z",
     "start_time": "2023-06-04T10:36:45.446643Z"
    }
   },
   "outputs": [
    {
     "data": {
      "image/png": "[encoded data removed]",
      "text/plain": [
       "<Figure size 400x400 with 1 Axes>"
      ]
     },
     "metadata": {},
     "output_type": "display_data"
    }
   ],
   "source": [
    "plt.figure(figsize=(4,4))\n",
    "plt.imshow(data, cmap='Blues', norm=None, vmin=-1, vmax=1)\n",
    "for i in range(data.shape[0]):\n",
    "    for j in range(data.shape[1]):\n",
    "        if data.values[i, j] > 0.5:\n",
    "            text = plt.text(j, i, np.round(data.values[i, j], 2),\n",
    "                          ha=\"center\", va=\"center\", color=\"w\")\n",
    "        else:\n",
    "            text = plt.text(j, i, np.round(data.values[i, j], 2),\n",
    "                            ha=\"center\", va=\"center\", color=\"k\")\n",
    "plt.xticks(np.arange(5), labels=np.arange(1,6))\n",
    "plt.yticks(np.arange(5), labels=np.arange(1,6));"
   ]
  },
  {
   "cell_type": "code",
   "execution_count": 15,
   "id": "ca844aba",
   "metadata": {
    "ExecuteTime": {
     "end_time": "2023-06-04T10:41:28.235760Z",
     "start_time": "2023-06-04T10:41:28.224748Z"
    }
   },
   "outputs": [],
   "source": [
    "def center_and_rescale_score(x, func=None):\n",
    "\n",
    "    if func is None:\n",
    "        func = np.arctan\n",
    "\n",
    "    return func(x - 3)\n",
    "\n",
    "eucl_matrix = np.zeros((5, 5))\n",
    "\n",
    "for i in range(5):\n",
    "    for j in range(5):\n",
    "\n",
    "        k, l = center_and_rescale_score(i + 1), center_and_rescale_score(j + 1)\n",
    "\n",
    "        diff = abs(k - l)\n",
    "\n",
    "        eucl_matrix[i, j] = 1 / (diff + 1)\n",
    "\n",
    "similarity = eucl_matrix"
   ]
  },
  {
   "cell_type": "code",
   "execution_count": 19,
   "id": "1ae3d5bf",
   "metadata": {
    "ExecuteTime": {
     "end_time": "2023-06-04T10:42:12.580399Z",
     "start_time": "2023-06-04T10:42:12.459398Z"
    }
   },
   "outputs": [
    {
     "data": {
      "image/png": "[encoded data removed]",
      "text/plain": [
       "<Figure size 400x400 with 1 Axes>"
      ]
     },
     "metadata": {},
     "output_type": "display_data"
    }
   ],
   "source": [
    "plt.figure(figsize=(4,4))\n",
    "plt.imshow(similarity, cmap='Blues', norm=None, vmin=-1, vmax=1)\n",
    "for i in range(similarity.shape[0]):\n",
    "    for j in range(similarity.shape[1]):\n",
    "        text = plt.text(j, i, np.round(similarity[i, j], 2),\n",
    "                          ha=\"center\", va=\"center\", color=\"w\")\n",
    "plt.xticks(np.arange(5), labels=np.arange(1,6))\n",
    "plt.yticks(np.arange(5), labels=np.arange(1,6));"
   ]
  },
  {
   "cell_type": "code",
   "execution_count": null,
   "id": "48aca586",
   "metadata": {},
   "outputs": [],
   "source": []
  }
 ],
 "metadata": {
  "kernelspec": {
   "display_name": "Python 3 (ipykernel)",
   "language": "python",
   "name": "python3"
  },
  "language_info": {
   "codemirror_mode": {
    "name": "ipython",
    "version": 3
   },
   "file_extension": ".py",
   "mimetype": "text/x-python",
   "name": "python",
   "nbconvert_exporter": "python",
   "pygments_lexer": "ipython3",
   "version": "3.9.13"
  },
  "toc": {
   "base_numbering": 1,
   "nav_menu": {},
   "number_sections": true,
   "sideBar": true,
   "skip_h1_title": false,
   "title_cell": "Table of Contents",
   "title_sidebar": "Contents",
   "toc_cell": false,
   "toc_position": {},
   "toc_section_display": true,
   "toc_window_display": false
  },
  "varInspector": {
   "cols": {
    "lenName": 16,
    "lenType": 16,
    "lenVar": 40
   },
   "kernels_config": {
    "python": {
     "delete_cmd_postfix": "",
     "delete_cmd_prefix": "del ",
     "library": "var_list.py",
     "varRefreshCmd": "print(var_dic_list())"
    },
    "r": {
     "delete_cmd_postfix": ") ",
     "delete_cmd_prefix": "rm(",
     "library": "var_list.r",
     "varRefreshCmd": "cat(var_dic_list()) "
    }
   },
   "types_to_exclude": [
    "module",
    "function",
    "builtin_function_or_method",
    "instance",
    "_Feature"
   ],
   "window_display": false
  }
 },
 "nbformat": 4,
 "nbformat_minor": 5
}
