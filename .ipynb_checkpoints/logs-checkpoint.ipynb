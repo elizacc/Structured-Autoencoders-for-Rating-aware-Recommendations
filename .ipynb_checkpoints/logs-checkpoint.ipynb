{
 "cells": [
  {
   "cell_type": "code",
   "execution_count": 1,
   "id": "6104c075",
   "metadata": {
    "ExecuteTime": {
     "end_time": "2023-05-28T11:53:27.644463Z",
     "start_time": "2023-05-28T11:53:18.598783Z"
    }
   },
   "outputs": [],
   "source": [
    "import pandas as pd"
   ]
  },
  {
   "cell_type": "markdown",
   "id": "2870e067",
   "metadata": {},
   "source": [
    "## Base tuning"
   ]
  },
  {
   "cell_type": "code",
   "execution_count": 39,
   "id": "938257d3",
   "metadata": {
    "ExecuteTime": {
     "end_time": "2023-05-24T17:07:48.054066Z",
     "start_time": "2023-05-24T17:07:48.044066Z"
    }
   },
   "outputs": [],
   "source": [
    "with open('logs_food_bae.txt') as f:\n",
    "    lines = f.readlines()"
   ]
  },
  {
   "cell_type": "code",
   "execution_count": 46,
   "id": "466092b6",
   "metadata": {
    "ExecuteTime": {
     "end_time": "2023-05-24T17:07:58.393892Z",
     "start_time": "2023-05-24T17:07:58.375880Z"
    }
   },
   "outputs": [],
   "source": [
    "alpha = 6\n",
    "keys = []\n",
    "alphas = []\n",
    "topks = []\n",
    "mcs = []\n",
    "for line in lines:\n",
    "    if 'Hidden' in line:\n",
    "        for i in range(alpha-1):\n",
    "            for n in [5,10,20]:\n",
    "                keys.append(int(line.split(':')[-1].strip()))\n",
    "                alphas.append(i+2)\n",
    "                topks.append(n)\n",
    "    if 'HR' in line:\n",
    "        mcs.append(float(line.split(':')[-1].strip()))"
   ]
  },
  {
   "cell_type": "code",
   "execution_count": 47,
   "id": "86850710",
   "metadata": {
    "ExecuteTime": {
     "end_time": "2023-05-24T17:07:59.929032Z",
     "start_time": "2023-05-24T17:07:59.910841Z"
    }
   },
   "outputs": [],
   "source": [
    "batches = np.array([[2**i] * 84 for i in range(4,10)]).flatten()"
   ]
  },
  {
   "cell_type": "code",
   "execution_count": 48,
   "id": "1247ce06",
   "metadata": {
    "ExecuteTime": {
     "end_time": "2023-05-24T17:08:00.259196Z",
     "start_time": "2023-05-24T17:08:00.237197Z"
    }
   },
   "outputs": [],
   "source": [
    "res = pd.DataFrame([batches, keys, alphas, topks, mcs]).T\n",
    "res.columns = ['batch_size', 'hidden_size', 'alpha', 'top_k', 'mcc']"
   ]
  },
  {
   "cell_type": "code",
   "execution_count": 49,
   "id": "6b5b9354",
   "metadata": {
    "ExecuteTime": {
     "end_time": "2023-05-24T17:08:00.611199Z",
     "start_time": "2023-05-24T17:08:00.599199Z"
    }
   },
   "outputs": [
    {
     "data": {
      "text/html": [
       "<div>\n",
       "<style scoped>\n",
       "    .dataframe tbody tr th:only-of-type {\n",
       "        vertical-align: middle;\n",
       "    }\n",
       "\n",
       "    .dataframe tbody tr th {\n",
       "        vertical-align: top;\n",
       "    }\n",
       "\n",
       "    .dataframe thead th {\n",
       "        text-align: right;\n",
       "    }\n",
       "</style>\n",
       "<table border=\"1\" class=\"dataframe\">\n",
       "  <thead>\n",
       "    <tr style=\"text-align: right;\">\n",
       "      <th></th>\n",
       "      <th>batch_size</th>\n",
       "      <th>hidden_size</th>\n",
       "      <th>alpha</th>\n",
       "      <th>top_k</th>\n",
       "      <th>mcc</th>\n",
       "    </tr>\n",
       "  </thead>\n",
       "  <tbody>\n",
       "    <tr>\n",
       "      <th>0</th>\n",
       "      <td>16.0</td>\n",
       "      <td>16.0</td>\n",
       "      <td>2.0</td>\n",
       "      <td>5.0</td>\n",
       "      <td>-0.015172</td>\n",
       "    </tr>\n",
       "    <tr>\n",
       "      <th>1</th>\n",
       "      <td>16.0</td>\n",
       "      <td>16.0</td>\n",
       "      <td>2.0</td>\n",
       "      <td>10.0</td>\n",
       "      <td>-0.007058</td>\n",
       "    </tr>\n",
       "    <tr>\n",
       "      <th>2</th>\n",
       "      <td>16.0</td>\n",
       "      <td>16.0</td>\n",
       "      <td>2.0</td>\n",
       "      <td>20.0</td>\n",
       "      <td>-0.039148</td>\n",
       "    </tr>\n",
       "    <tr>\n",
       "      <th>3</th>\n",
       "      <td>16.0</td>\n",
       "      <td>16.0</td>\n",
       "      <td>3.0</td>\n",
       "      <td>5.0</td>\n",
       "      <td>-0.010347</td>\n",
       "    </tr>\n",
       "    <tr>\n",
       "      <th>4</th>\n",
       "      <td>16.0</td>\n",
       "      <td>16.0</td>\n",
       "      <td>3.0</td>\n",
       "      <td>10.0</td>\n",
       "      <td>-0.001370</td>\n",
       "    </tr>\n",
       "  </tbody>\n",
       "</table>\n",
       "</div>"
      ],
      "text/plain": [
       "   batch_size  hidden_size  alpha  top_k       mcc\n",
       "0        16.0         16.0    2.0    5.0 -0.015172\n",
       "1        16.0         16.0    2.0   10.0 -0.007058\n",
       "2        16.0         16.0    2.0   20.0 -0.039148\n",
       "3        16.0         16.0    3.0    5.0 -0.010347\n",
       "4        16.0         16.0    3.0   10.0 -0.001370"
      ]
     },
     "execution_count": 49,
     "metadata": {},
     "output_type": "execute_result"
    }
   ],
   "source": [
    "res.head()"
   ]
  },
  {
   "cell_type": "code",
   "execution_count": 50,
   "id": "3234b1fa",
   "metadata": {
    "ExecuteTime": {
     "end_time": "2023-05-24T17:08:02.498806Z",
     "start_time": "2023-05-24T17:08:02.492810Z"
    }
   },
   "outputs": [],
   "source": [
    "best = res.groupby('alpha')['mcc'].max()"
   ]
  },
  {
   "cell_type": "code",
   "execution_count": 51,
   "id": "7e0341e6",
   "metadata": {
    "ExecuteTime": {
     "end_time": "2023-05-24T17:08:02.783718Z",
     "start_time": "2023-05-24T17:08:02.777712Z"
    }
   },
   "outputs": [
    {
     "data": {
      "text/plain": [
       "alpha\n",
       "2.0    0.020534\n",
       "3.0    0.022694\n",
       "4.0    0.016301\n",
       "5.0    0.016787\n",
       "6.0    0.023696\n",
       "Name: mcc, dtype: float64"
      ]
     },
     "execution_count": 51,
     "metadata": {},
     "output_type": "execute_result"
    }
   ],
   "source": [
    "best"
   ]
  },
  {
   "cell_type": "code",
   "execution_count": 52,
   "id": "bbce7b52",
   "metadata": {
    "ExecuteTime": {
     "end_time": "2023-05-24T17:08:05.231165Z",
     "start_time": "2023-05-24T17:08:05.213425Z"
    }
   },
   "outputs": [
    {
     "data": {
      "text/html": [
       "<div>\n",
       "<style scoped>\n",
       "    .dataframe tbody tr th:only-of-type {\n",
       "        vertical-align: middle;\n",
       "    }\n",
       "\n",
       "    .dataframe tbody tr th {\n",
       "        vertical-align: top;\n",
       "    }\n",
       "\n",
       "    .dataframe thead th {\n",
       "        text-align: right;\n",
       "    }\n",
       "</style>\n",
       "<table border=\"1\" class=\"dataframe\">\n",
       "  <thead>\n",
       "    <tr style=\"text-align: right;\">\n",
       "      <th></th>\n",
       "      <th>batch_size</th>\n",
       "      <th>hidden_size</th>\n",
       "      <th>alpha</th>\n",
       "      <th>top_k</th>\n",
       "      <th>mcc</th>\n",
       "    </tr>\n",
       "  </thead>\n",
       "  <tbody>\n",
       "    <tr>\n",
       "      <th>317</th>\n",
       "      <td>128.0</td>\n",
       "      <td>16.0</td>\n",
       "      <td>2.0</td>\n",
       "      <td>20.0</td>\n",
       "      <td>0.020534</td>\n",
       "    </tr>\n",
       "  </tbody>\n",
       "</table>\n",
       "</div>"
      ],
      "text/plain": [
       "     batch_size  hidden_size  alpha  top_k       mcc\n",
       "317       128.0         16.0    2.0   20.0  0.020534"
      ]
     },
     "execution_count": 52,
     "metadata": {},
     "output_type": "execute_result"
    }
   ],
   "source": [
    "res[res['mcc']==best.loc[2]]"
   ]
  },
  {
   "cell_type": "code",
   "execution_count": 53,
   "id": "b36dd76c",
   "metadata": {
    "ExecuteTime": {
     "end_time": "2023-05-24T17:08:05.576157Z",
     "start_time": "2023-05-24T17:08:05.562161Z"
    }
   },
   "outputs": [
    {
     "data": {
      "text/html": [
       "<div>\n",
       "<style scoped>\n",
       "    .dataframe tbody tr th:only-of-type {\n",
       "        vertical-align: middle;\n",
       "    }\n",
       "\n",
       "    .dataframe tbody tr th {\n",
       "        vertical-align: top;\n",
       "    }\n",
       "\n",
       "    .dataframe thead th {\n",
       "        text-align: right;\n",
       "    }\n",
       "</style>\n",
       "<table border=\"1\" class=\"dataframe\">\n",
       "  <thead>\n",
       "    <tr style=\"text-align: right;\">\n",
       "      <th></th>\n",
       "      <th>batch_size</th>\n",
       "      <th>hidden_size</th>\n",
       "      <th>alpha</th>\n",
       "      <th>top_k</th>\n",
       "      <th>mcc</th>\n",
       "    </tr>\n",
       "  </thead>\n",
       "  <tbody>\n",
       "    <tr>\n",
       "      <th>320</th>\n",
       "      <td>128.0</td>\n",
       "      <td>16.0</td>\n",
       "      <td>3.0</td>\n",
       "      <td>20.0</td>\n",
       "      <td>0.022694</td>\n",
       "    </tr>\n",
       "  </tbody>\n",
       "</table>\n",
       "</div>"
      ],
      "text/plain": [
       "     batch_size  hidden_size  alpha  top_k       mcc\n",
       "320       128.0         16.0    3.0   20.0  0.022694"
      ]
     },
     "execution_count": 53,
     "metadata": {},
     "output_type": "execute_result"
    }
   ],
   "source": [
    "res[res['mcc']==best.loc[3]]"
   ]
  },
  {
   "cell_type": "code",
   "execution_count": 54,
   "id": "d92049b2",
   "metadata": {
    "ExecuteTime": {
     "end_time": "2023-05-24T17:08:06.074207Z",
     "start_time": "2023-05-24T17:08:06.053848Z"
    }
   },
   "outputs": [
    {
     "data": {
      "text/html": [
       "<div>\n",
       "<style scoped>\n",
       "    .dataframe tbody tr th:only-of-type {\n",
       "        vertical-align: middle;\n",
       "    }\n",
       "\n",
       "    .dataframe tbody tr th {\n",
       "        vertical-align: top;\n",
       "    }\n",
       "\n",
       "    .dataframe thead th {\n",
       "        text-align: right;\n",
       "    }\n",
       "</style>\n",
       "<table border=\"1\" class=\"dataframe\">\n",
       "  <thead>\n",
       "    <tr style=\"text-align: right;\">\n",
       "      <th></th>\n",
       "      <th>batch_size</th>\n",
       "      <th>hidden_size</th>\n",
       "      <th>alpha</th>\n",
       "      <th>top_k</th>\n",
       "      <th>mcc</th>\n",
       "    </tr>\n",
       "  </thead>\n",
       "  <tbody>\n",
       "    <tr>\n",
       "      <th>97</th>\n",
       "      <td>32.0</td>\n",
       "      <td>1024.0</td>\n",
       "      <td>4.0</td>\n",
       "      <td>10.0</td>\n",
       "      <td>0.016301</td>\n",
       "    </tr>\n",
       "  </tbody>\n",
       "</table>\n",
       "</div>"
      ],
      "text/plain": [
       "    batch_size  hidden_size  alpha  top_k       mcc\n",
       "97        32.0       1024.0    4.0   10.0  0.016301"
      ]
     },
     "execution_count": 54,
     "metadata": {},
     "output_type": "execute_result"
    }
   ],
   "source": [
    "res[res['mcc']==best.loc[4]]"
   ]
  },
  {
   "cell_type": "code",
   "execution_count": 55,
   "id": "bb735665",
   "metadata": {
    "ExecuteTime": {
     "end_time": "2023-05-24T17:08:07.505143Z",
     "start_time": "2023-05-24T17:08:07.488140Z"
    }
   },
   "outputs": [
    {
     "data": {
      "text/html": [
       "<div>\n",
       "<style scoped>\n",
       "    .dataframe tbody tr th:only-of-type {\n",
       "        vertical-align: middle;\n",
       "    }\n",
       "\n",
       "    .dataframe tbody tr th {\n",
       "        vertical-align: top;\n",
       "    }\n",
       "\n",
       "    .dataframe thead th {\n",
       "        text-align: right;\n",
       "    }\n",
       "</style>\n",
       "<table border=\"1\" class=\"dataframe\">\n",
       "  <thead>\n",
       "    <tr style=\"text-align: right;\">\n",
       "      <th></th>\n",
       "      <th>batch_size</th>\n",
       "      <th>hidden_size</th>\n",
       "      <th>alpha</th>\n",
       "      <th>top_k</th>\n",
       "      <th>mcc</th>\n",
       "    </tr>\n",
       "  </thead>\n",
       "  <tbody>\n",
       "    <tr>\n",
       "      <th>100</th>\n",
       "      <td>32.0</td>\n",
       "      <td>1024.0</td>\n",
       "      <td>5.0</td>\n",
       "      <td>10.0</td>\n",
       "      <td>0.016787</td>\n",
       "    </tr>\n",
       "  </tbody>\n",
       "</table>\n",
       "</div>"
      ],
      "text/plain": [
       "     batch_size  hidden_size  alpha  top_k       mcc\n",
       "100        32.0       1024.0    5.0   10.0  0.016787"
      ]
     },
     "execution_count": 55,
     "metadata": {},
     "output_type": "execute_result"
    }
   ],
   "source": [
    "res[res['mcc']==best.loc[5]]"
   ]
  },
  {
   "cell_type": "code",
   "execution_count": 56,
   "id": "2df63a62",
   "metadata": {
    "ExecuteTime": {
     "end_time": "2023-05-24T17:08:12.658773Z",
     "start_time": "2023-05-24T17:08:12.643770Z"
    }
   },
   "outputs": [
    {
     "data": {
      "text/html": [
       "<div>\n",
       "<style scoped>\n",
       "    .dataframe tbody tr th:only-of-type {\n",
       "        vertical-align: middle;\n",
       "    }\n",
       "\n",
       "    .dataframe tbody tr th {\n",
       "        vertical-align: top;\n",
       "    }\n",
       "\n",
       "    .dataframe thead th {\n",
       "        text-align: right;\n",
       "    }\n",
       "</style>\n",
       "<table border=\"1\" class=\"dataframe\">\n",
       "  <thead>\n",
       "    <tr style=\"text-align: right;\">\n",
       "      <th></th>\n",
       "      <th>batch_size</th>\n",
       "      <th>hidden_size</th>\n",
       "      <th>alpha</th>\n",
       "      <th>top_k</th>\n",
       "      <th>mcc</th>\n",
       "    </tr>\n",
       "  </thead>\n",
       "  <tbody>\n",
       "    <tr>\n",
       "      <th>253</th>\n",
       "      <td>128.0</td>\n",
       "      <td>64.0</td>\n",
       "      <td>6.0</td>\n",
       "      <td>10.0</td>\n",
       "      <td>0.023696</td>\n",
       "    </tr>\n",
       "  </tbody>\n",
       "</table>\n",
       "</div>"
      ],
      "text/plain": [
       "     batch_size  hidden_size  alpha  top_k       mcc\n",
       "253       128.0         64.0    6.0   10.0  0.023696"
      ]
     },
     "execution_count": 56,
     "metadata": {},
     "output_type": "execute_result"
    }
   ],
   "source": [
    "res[res['mcc']==best.loc[6]]"
   ]
  },
  {
   "cell_type": "markdown",
   "id": "81ba8842",
   "metadata": {},
   "source": [
    "## AE tuning"
   ]
  },
  {
   "cell_type": "code",
   "execution_count": null,
   "id": "2a6845f6",
   "metadata": {},
   "outputs": [],
   "source": []
  },
  {
   "cell_type": "markdown",
   "id": "099d0e64",
   "metadata": {},
   "source": [
    "## AE results"
   ]
  },
  {
   "cell_type": "code",
   "execution_count": 16,
   "id": "104ebf22",
   "metadata": {
    "ExecuteTime": {
     "end_time": "2023-05-28T13:28:21.907170Z",
     "start_time": "2023-05-28T13:28:21.886182Z"
    }
   },
   "outputs": [],
   "source": [
    "with open('clothing_easer_res.txt') as f:\n",
    "    lines = f.readlines()"
   ]
  },
  {
   "cell_type": "code",
   "execution_count": 17,
   "id": "f33fde37",
   "metadata": {
    "ExecuteTime": {
     "end_time": "2023-05-28T13:28:22.241159Z",
     "start_time": "2023-05-28T13:28:22.233157Z"
    }
   },
   "outputs": [
    {
     "data": {
      "text/plain": [
       "['failed to get console mode for stdout: The handle is invalid.\\n',\n",
       " 'Looking in indexes: https://artifactory.tcsbank.ru/artifactory/api/pypi/python-all/simple\\n',\n",
       " 'Collecting torch==1.13.1\\n',\n",
       " '  Downloading https://artifactory.tcsbank.ru/artifactory/api/pypi/python-all/packages/packages/torch/1.13.1/torch-1.13.1-cp38-cp38-manylinux1_x86_64.whl (887.4 MB)\\n',\n",
       " '     в”Ѓв”Ѓв”Ѓв”Ѓв”Ѓв”Ѓв”Ѓв”Ѓв”Ѓв”Ѓв”Ѓв”Ѓв”Ѓв”Ѓв”Ѓв”Ѓв”Ѓв”Ѓв”Ѓв”Ѓв”Ѓв”Ѓв”Ѓв”Ѓв”Ѓв”Ѓв”Ѓв”Ѓв”Ѓв”Ѓв”Ѓв”Ѓв”Ѓв”Ѓв”Ѓв”Ѓв”Ѓ 887.4/887.4 MB 291.0 MB/s eta 0:00:00\\n',\n",
       " 'Collecting scipy==1.10.1\\n',\n",
       " '  Downloading https://artifactory.tcsbank.ru/artifactory/api/pypi/python-all/packages/packages/scipy/1.10.1/scipy-1.10.1-cp38-cp38-manylinux_2_17_x86_64.manylinux2014_x86_64.whl (34.5 MB)\\n',\n",
       " '     в”Ѓв”Ѓв”Ѓв”Ѓв”Ѓв”Ѓв”Ѓв”Ѓв”Ѓв”Ѓв”Ѓв”Ѓв”Ѓв”Ѓв”Ѓв”Ѓв”Ѓв”Ѓв”Ѓв”Ѓв”Ѓв”Ѓв”Ѓв”Ѓв”Ѓв”Ѓв”Ѓв”Ѓв”Ѓв”Ѓв”Ѓв”Ѓв”Ѓв”Ѓв”Ѓв”Ѓв”Ѓв”Ѓв”Ѓ 34.5/34.5 MB 276.3 MB/s eta 0:00:00\\n',\n",
       " 'Collecting numpy==1.22.2\\n',\n",
       " '  Downloading https://artifactory.tcsbank.ru/artifactory/api/pypi/python-all/packages/packages/numpy/1.22.2/numpy-1.22.2-cp38-cp38-manylinux_2_17_x86_64.manylinux2014_x86_64.whl (16.8 MB)\\n',\n",
       " '     в”Ѓв”Ѓв”Ѓв”Ѓв”Ѓв”Ѓв”Ѓв”Ѓв”Ѓв”Ѓв”Ѓв”Ѓв”Ѓв”Ѓв”Ѓв”Ѓв”Ѓв”Ѓв”Ѓв”Ѓв”Ѓв”Ѓв”Ѓв”Ѓв”Ѓв”Ѓв”Ѓв”Ѓв”Ѓв”Ѓв”Ѓв”Ѓв”Ѓв”Ѓв”Ѓв”Ѓв”Ѓв”Ѓв”Ѓ 16.8/16.8 MB 176.8 MB/s eta 0:00:00\\n',\n",
       " 'Collecting scikit-learn==1.2.1\\n',\n",
       " '  Downloading https://artifactory.tcsbank.ru/artifactory/api/pypi/python-all/packages/packages/scikit-learn/1.2.1/scikit_learn-1.2.1-cp38-cp38-manylinux_2_17_x86_64.manylinux2014_x86_64.whl (9.8 MB)\\n',\n",
       " '     в”Ѓв”Ѓв”Ѓв”Ѓв”Ѓв”Ѓв”Ѓв”Ѓв”Ѓв”Ѓв”Ѓв”Ѓв”Ѓв”Ѓв”Ѓв”Ѓв”Ѓв”Ѓв”Ѓв”Ѓв”Ѓв”Ѓв”Ѓв”Ѓв”Ѓв”Ѓв”Ѓв”Ѓв”Ѓв”Ѓв”Ѓв”Ѓв”Ѓв”Ѓв”Ѓв”Ѓв”Ѓв”Ѓв”Ѓв”Ѓ 9.8/9.8 MB 248.4 MB/s eta 0:00:00\\n',\n",
       " 'Collecting tqdm==4.64.1\\n',\n",
       " '  Downloading https://artifactory.tcsbank.ru/artifactory/api/pypi/python-all/packages/packages/tqdm/4.64.1/tqdm-4.64.1-py2.py3-none-any.whl (78 kB)\\n',\n",
       " '     в”Ѓв”Ѓв”Ѓв”Ѓв”Ѓв”Ѓв”Ѓв”Ѓв”Ѓв”Ѓв”Ѓв”Ѓв”Ѓв”Ѓв”Ѓв”Ѓв”Ѓв”Ѓв”Ѓв”Ѓв”Ѓв”Ѓв”Ѓв”Ѓв”Ѓв”Ѓв”Ѓв”Ѓв”Ѓв”Ѓв”Ѓв”Ѓв”Ѓв”Ѓв”Ѓв”Ѓв”Ѓв”Ѓв”Ѓ 78.5/78.5 kB 157.3 MB/s eta 0:00:00\\n',\n",
       " 'Collecting pandas==1.5.3\\n',\n",
       " '  Downloading https://artifactory.tcsbank.ru/artifactory/api/pypi/python-all/packages/packages/pandas/1.5.3/pandas-1.5.3-cp38-cp38-manylinux_2_17_x86_64.manylinux2014_x86_64.whl (12.2 MB)\\n',\n",
       " '     в”Ѓв”Ѓв”Ѓв”Ѓв”Ѓв”Ѓв”Ѓв”Ѓв”Ѓв”Ѓв”Ѓв”Ѓв”Ѓв”Ѓв”Ѓв”Ѓв”Ѓв”Ѓв”Ѓв”Ѓв”Ѓв”Ѓв”Ѓв”Ѓв”Ѓв”Ѓв”Ѓв”Ѓв”Ѓв”Ѓв”Ѓв”Ѓв”Ѓв”Ѓв”Ѓв”Ѓв”Ѓв”Ѓв”Ѓ 12.2/12.2 MB 276.0 MB/s eta 0:00:00\\n',\n",
       " 'Collecting numba>=0.21.0\\n',\n",
       " '  Downloading https://artifactory.tcsbank.ru/artifactory/api/pypi/python-all/packages/packages/numba/0.57.0/numba-0.57.0-cp38-cp38-manylinux2014_x86_64.manylinux_2_17_x86_64.whl (3.6 MB)\\n',\n",
       " '     в”Ѓв”Ѓв”Ѓв”Ѓв”Ѓв”Ѓв”Ѓв”Ѓв”Ѓв”Ѓв”Ѓв”Ѓв”Ѓв”Ѓв”Ѓв”Ѓв”Ѓв”Ѓв”Ѓв”Ѓв”Ѓв”Ѓв”Ѓв”Ѓв”Ѓв”Ѓв”Ѓв”Ѓв”Ѓв”Ѓв”Ѓв”Ѓв”Ѓв”Ѓв”Ѓв”Ѓв”Ѓв”Ѓв”Ѓв”Ѓ 3.6/3.6 MB 180.2 MB/s eta 0:00:00\\n',\n",
       " 'Requirement already satisfied: requests>=2.7.0 in /usr/local/lib/python3.8/dist-packages (from -r /home/requirements.txt (line 8)) (2.28.2)\\n',\n",
       " 'Collecting ipython==8.0.0\\n',\n",
       " '  Downloading https://artifactory.tcsbank.ru/artifactory/api/pypi/python-all/packages/packages/ipython/8.0.0/ipython-8.0.0-py3-none-any.whl (747 kB)\\n',\n",
       " '     в”Ѓв”Ѓв”Ѓв”Ѓв”Ѓв”Ѓв”Ѓв”Ѓв”Ѓв”Ѓв”Ѓв”Ѓв”Ѓв”Ѓв”Ѓв”Ѓв”Ѓв”Ѓв”Ѓв”Ѓв”Ѓв”Ѓв”Ѓв”Ѓв”Ѓв”Ѓв”Ѓв”Ѓв”Ѓв”Ѓв”Ѓв”Ѓв”Ѓв”Ѓв”Ѓв”Ѓв”Ѓ 747.4/747.4 kB 117.7 MB/s eta 0:00:00\\n',\n",
       " 'Collecting nvidia-cuda-runtime-cu11==11.7.99\\n',\n",
       " '  Downloading https://artifactory.tcsbank.ru/artifactory/api/pypi/python-all/packages/packages/nvidia-cuda-runtime-cu11/11.7.99/nvidia_cuda_runtime_cu11-11.7.99-py3-none-manylinux1_x86_64.whl (849 kB)\\n',\n",
       " '     в”Ѓв”Ѓв”Ѓв”Ѓв”Ѓв”Ѓв”Ѓв”Ѓв”Ѓв”Ѓв”Ѓв”Ѓв”Ѓв”Ѓв”Ѓв”Ѓв”Ѓв”Ѓв”Ѓв”Ѓв”Ѓв”Ѓв”Ѓв”Ѓв”Ѓв”Ѓв”Ѓв”Ѓв”Ѓв”Ѓв”Ѓв”Ѓв”Ѓв”Ѓв”Ѓв”Ѓв”Ѓ 849.3/849.3 kB 170.1 MB/s eta 0:00:00\\n',\n",
       " 'Collecting nvidia-cublas-cu11==11.10.3.66\\n',\n",
       " '  Downloading https://artifactory.tcsbank.ru/artifactory/api/pypi/python-all/packages/packages/nvidia-cublas-cu11/11.10.3.66/nvidia_cublas_cu11-11.10.3.66-py3-none-manylinux1_x86_64.whl (317.1 MB)\\n',\n",
       " '     в”Ѓв”Ѓв”Ѓв”Ѓв”Ѓв”Ѓв”Ѓв”Ѓв”Ѓв”Ѓв”Ѓв”Ѓв”Ѓв”Ѓв”Ѓв”Ѓв”Ѓв”Ѓв”Ѓв”Ѓв”Ѓв”Ѓв”Ѓв”Ѓв”Ѓв”Ѓв”Ѓв”Ѓв”Ѓв”Ѓв”Ѓв”Ѓв”Ѓв”Ѓв”Ѓв”Ѓв”Ѓ 317.1/317.1 MB 275.8 MB/s eta 0:00:00\\n',\n",
       " 'Collecting nvidia-cuda-nvrtc-cu11==11.7.99\\n',\n",
       " '  Downloading https://artifactory.tcsbank.ru/artifactory/api/pypi/python-all/packages/packages/nvidia-cuda-nvrtc-cu11/11.7.99/nvidia_cuda_nvrtc_cu11-11.7.99-2-py3-none-manylinux1_x86_64.whl (21.0 MB)\\n',\n",
       " '     в”Ѓв”Ѓв”Ѓв”Ѓв”Ѓв”Ѓв”Ѓв”Ѓв”Ѓв”Ѓв”Ѓв”Ѓв”Ѓв”Ѓв”Ѓв”Ѓв”Ѓв”Ѓв”Ѓв”Ѓв”Ѓв”Ѓв”Ѓв”Ѓв”Ѓв”Ѓв”Ѓв”Ѓв”Ѓв”Ѓв”Ѓв”Ѓв”Ѓв”Ѓв”Ѓв”Ѓв”Ѓв”Ѓв”Ѓ 21.0/21.0 MB 275.9 MB/s eta 0:00:00\\n',\n",
       " 'Requirement already satisfied: typing-extensions in /usr/local/lib/python3.8/dist-packages (from torch==1.13.1->-r /home/requirements.txt (line 1)) (4.4.0)\\n',\n",
       " 'Collecting nvidia-cudnn-cu11==8.5.0.96\\n',\n",
       " '  Downloading https://artifactory.tcsbank.ru/artifactory/api/pypi/python-all/packages/packages/nvidia-cudnn-cu11/8.5.0.96/nvidia_cudnn_cu11-8.5.0.96-2-py3-none-manylinux1_x86_64.whl (557.1 MB)\\n',\n",
       " '     в”Ѓв”Ѓв”Ѓв”Ѓв”Ѓв”Ѓв”Ѓв”Ѓв”Ѓв”Ѓв”Ѓв”Ѓв”Ѓв”Ѓв”Ѓв”Ѓв”Ѓв”Ѓв”Ѓв”Ѓв”Ѓв”Ѓв”Ѓв”Ѓв”Ѓв”Ѓв”Ѓв”Ѓв”Ѓв”Ѓв”Ѓв”Ѓв”Ѓв”Ѓв”Ѓв”Ѓв”Ѓ 557.1/557.1 MB 268.5 MB/s eta 0:00:00\\n',\n",
       " 'Collecting joblib>=1.1.1\\n',\n",
       " '  Downloading https://artifactory.tcsbank.ru/artifactory/api/pypi/python-all/packages/packages/joblib/1.2.0/joblib-1.2.0-py3-none-any.whl (297 kB)\\n',\n",
       " '     в”Ѓв”Ѓв”Ѓв”Ѓв”Ѓв”Ѓв”Ѓв”Ѓв”Ѓв”Ѓв”Ѓв”Ѓв”Ѓв”Ѓв”Ѓв”Ѓв”Ѓв”Ѓв”Ѓв”Ѓв”Ѓв”Ѓв”Ѓв”Ѓв”Ѓв”Ѓв”Ѓв”Ѓв”Ѓв”Ѓв”Ѓв”Ѓв”Ѓв”Ѓв”Ѓв”Ѓв”Ѓв”Ѓ 298.0/298.0 kB 40.9 MB/s eta 0:00:00\\n',\n",
       " 'Collecting threadpoolctl>=2.0.0\\n',\n",
       " '  Downloading https://artifactory.tcsbank.ru/artifactory/api/pypi/python-all/packages/packages/threadpoolctl/3.1.0/threadpoolctl-3.1.0-py3-none-any.whl (14 kB)\\n',\n",
       " 'Collecting python-dateutil>=2.8.1\\n',\n",
       " '  Downloading https://artifactory.tcsbank.ru/artifactory/api/pypi/python-all/packages/packages/python-dateutil/2.8.2/python_dateutil-2.8.2-py2.py3-none-any.whl (247 kB)\\n',\n",
       " '     в”Ѓв”Ѓв”Ѓв”Ѓв”Ѓв”Ѓв”Ѓв”Ѓв”Ѓв”Ѓв”Ѓв”Ѓв”Ѓв”Ѓв”Ѓв”Ѓв”Ѓв”Ѓв”Ѓв”Ѓв”Ѓв”Ѓв”Ѓв”Ѓв”Ѓв”Ѓв”Ѓв”Ѓв”Ѓв”Ѓв”Ѓв”Ѓв”Ѓв”Ѓв”Ѓв”Ѓв”Ѓв”Ѓ 247.7/247.7 kB 90.8 MB/s eta 0:00:00\\n',\n",
       " 'Collecting pytz>=2020.1\\n',\n",
       " '  Downloading https://artifactory.tcsbank.ru/artifactory/api/pypi/python-all/packages/packages/pytz/2023.3/pytz-2023.3-py2.py3-none-any.whl (502 kB)\\n',\n",
       " '     в”Ѓв”Ѓв”Ѓв”Ѓв”Ѓв”Ѓв”Ѓв”Ѓв”Ѓв”Ѓв”Ѓв”Ѓв”Ѓв”Ѓв”Ѓв”Ѓв”Ѓв”Ѓв”Ѓв”Ѓв”Ѓв”Ѓв”Ѓв”Ѓв”Ѓв”Ѓв”Ѓв”Ѓв”Ѓв”Ѓв”Ѓв”Ѓв”Ѓв”Ѓв”Ѓв”Ѓв”Ѓ 502.3/502.3 kB 139.4 MB/s eta 0:00:00\\n',\n",
       " 'Requirement already satisfied: pygments in /usr/local/lib/python3.8/dist-packages (from ipython==8.0.0->-r /home/requirements.txt (line 9)) (2.14.0)\\n',\n",
       " 'Collecting prompt-toolkit!=3.0.0,!=3.0.1,<3.1.0,>=2.0.0\\n',\n",
       " '  Downloading https://artifactory.tcsbank.ru/artifactory/api/pypi/python-all/packages/packages/prompt-toolkit/3.0.38/prompt_toolkit-3.0.38-py3-none-any.whl (385 kB)\\n',\n",
       " '     в”Ѓв”Ѓв”Ѓв”Ѓв”Ѓв”Ѓв”Ѓв”Ѓв”Ѓв”Ѓв”Ѓв”Ѓв”Ѓв”Ѓв”Ѓв”Ѓв”Ѓв”Ѓв”Ѓв”Ѓв”Ѓв”Ѓв”Ѓв”Ѓв”Ѓв”Ѓв”Ѓв”Ѓв”Ѓв”Ѓв”Ѓв”Ѓв”Ѓв”Ѓв”Ѓв”Ѓв”Ѓв”Ѓ 385.8/385.8 kB 74.6 MB/s eta 0:00:00\\n',\n",
       " 'Collecting backcall\\n',\n",
       " '  Downloading https://artifactory.tcsbank.ru/artifactory/api/pypi/python-all/packages/packages/backcall/0.2.0/backcall-0.2.0-py2.py3-none-any.whl (11 kB)\\n',\n",
       " 'Collecting traitlets>=5\\n',\n",
       " '  Downloading https://artifactory.tcsbank.ru/artifactory/api/pypi/python-all/packages/packages/traitlets/5.9.0/traitlets-5.9.0-py3-none-any.whl (117 kB)\\n',\n",
       " '     в”Ѓв”Ѓв”Ѓв”Ѓв”Ѓв”Ѓв”Ѓв”Ѓв”Ѓв”Ѓв”Ѓв”Ѓв”Ѓв”Ѓв”Ѓв”Ѓв”Ѓв”Ѓв”Ѓв”Ѓв”Ѓв”Ѓв”Ѓв”Ѓв”Ѓв”Ѓв”Ѓв”Ѓв”Ѓв”Ѓв”Ѓв”Ѓв”Ѓв”Ѓв”Ѓв”Ѓв”Ѓ 117.4/117.4 kB 136.0 MB/s eta 0:00:00\\n',\n",
       " 'Collecting jedi>=0.16\\n',\n",
       " '  Downloading https://artifactory.tcsbank.ru/artifactory/api/pypi/python-all/packages/packages/jedi/0.18.2/jedi-0.18.2-py2.py3-none-any.whl (1.6 MB)\\n',\n",
       " '     в”Ѓв”Ѓв”Ѓв”Ѓв”Ѓв”Ѓв”Ѓв”Ѓв”Ѓв”Ѓв”Ѓв”Ѓв”Ѓв”Ѓв”Ѓв”Ѓв”Ѓв”Ѓв”Ѓв”Ѓв”Ѓв”Ѓв”Ѓв”Ѓв”Ѓв”Ѓв”Ѓв”Ѓв”Ѓв”Ѓв”Ѓв”Ѓв”Ѓв”Ѓв”Ѓв”Ѓв”Ѓв”Ѓв”Ѓв”Ѓ 1.6/1.6 MB 114.2 MB/s eta 0:00:00\\n',\n",
       " 'Requirement already satisfied: setuptools>=18.5 in /usr/local/lib/python3.8/dist-packages (from ipython==8.0.0->-r /home/requirements.txt (line 9)) (66.0.0)\\n',\n",
       " 'Collecting decorator\\n',\n",
       " '  Downloading https://artifactory.tcsbank.ru/artifactory/api/pypi/python-all/packages/packages/decorator/5.1.1/decorator-5.1.1-py3-none-any.whl (9.1 kB)\\n',\n",
       " 'Collecting pickleshare\\n',\n",
       " '  Downloading https://artifactory.tcsbank.ru/artifactory/api/pypi/python-all/packages/packages/pickleshare/0.7.5/pickleshare-0.7.5-py2.py3-none-any.whl (6.9 kB)\\n',\n",
       " 'Requirement already satisfied: pexpect>4.3 in /usr/local/lib/python3.8/dist-packages (from ipython==8.0.0->-r /home/requirements.txt (line 9)) (4.8.0)\\n',\n",
       " 'Collecting black\\n',\n",
       " '  Downloading https://artifactory.tcsbank.ru/artifactory/api/pypi/python-all/packages/packages/black/23.3.0/black-23.3.0-cp38-cp38-manylinux_2_17_x86_64.manylinux2014_x86_64.whl (1.6 MB)\\n',\n",
       " '     в”Ѓв”Ѓв”Ѓв”Ѓв”Ѓв”Ѓв”Ѓв”Ѓв”Ѓв”Ѓв”Ѓв”Ѓв”Ѓв”Ѓв”Ѓв”Ѓв”Ѓв”Ѓв”Ѓв”Ѓв”Ѓв”Ѓв”Ѓв”Ѓв”Ѓв”Ѓв”Ѓв”Ѓв”Ѓв”Ѓв”Ѓв”Ѓв”Ѓв”Ѓв”Ѓв”Ѓв”Ѓв”Ѓв”Ѓв”Ѓ 1.6/1.6 MB 130.1 MB/s eta 0:00:00\\n',\n",
       " 'Collecting stack-data\\n',\n",
       " '  Downloading https://artifactory.tcsbank.ru/artifactory/api/pypi/python-all/packages/packages/stack-data/0.6.2/stack_data-0.6.2-py3-none-any.whl (24 kB)\\n',\n",
       " 'Collecting matplotlib-inline\\n',\n",
       " '  Downloading https://artifactory.tcsbank.ru/artifactory/api/pypi/python-all/packages/packages/matplotlib-inline/0.1.6/matplotlib_inline-0.1.6-py3-none-any.whl (9.4 kB)\\n',\n",
       " 'Requirement already satisfied: wheel in /usr/local/lib/python3.8/dist-packages (from nvidia-cublas-cu11==11.10.3.66->torch==1.13.1->-r /home/requirements.txt (line 1)) (0.38.4)\\n',\n",
       " 'Requirement already satisfied: importlib-metadata in /usr/local/lib/python3.8/dist-packages (from numba>=0.21.0->-r /home/requirements.txt (line 7)) (4.13.0)\\n',\n",
       " 'Collecting llvmlite<0.41,>=0.40.0dev0\\n',\n",
       " '  Downloading https://artifactory.tcsbank.ru/artifactory/api/pypi/python-all/packages/packages/llvmlite/0.40.0/llvmlite-0.40.0-cp38-cp38-manylinux_2_17_x86_64.manylinux2014_x86_64.whl (42.1 MB)\\n',\n",
       " '     в”Ѓв”Ѓв”Ѓв”Ѓв”Ѓв”Ѓв”Ѓв”Ѓв”Ѓв”Ѓв”Ѓв”Ѓв”Ѓв”Ѓв”Ѓв”Ѓв”Ѓв”Ѓв”Ѓв”Ѓв”Ѓв”Ѓв”Ѓв”Ѓв”Ѓв”Ѓв”Ѓв”Ѓв”Ѓв”Ѓв”Ѓв”Ѓв”Ѓв”Ѓв”Ѓв”Ѓв”Ѓв”Ѓв”Ѓ 42.1/42.1 MB 279.6 MB/s eta 0:00:00\\n',\n",
       " 'Requirement already satisfied: certifi>=2017.4.17 in /usr/lib/python3/dist-packages (from requests>=2.7.0->-r /home/requirements.txt (line 8)) (2019.11.28)\\n',\n",
       " 'Requirement already satisfied: charset-normalizer<4,>=2 in /usr/local/lib/python3.8/dist-packages (from requests>=2.7.0->-r /home/requirements.txt (line 8)) (3.0.1)\\n',\n",
       " 'Requirement already satisfied: urllib3<1.27,>=1.21.1 in /usr/local/lib/python3.8/dist-packages (from requests>=2.7.0->-r /home/requirements.txt (line 8)) (1.26.14)\\n',\n",
       " 'Requirement already satisfied: idna<4,>=2.5 in /usr/lib/python3/dist-packages (from requests>=2.7.0->-r /home/requirements.txt (line 8)) (2.8)\\n',\n",
       " 'Collecting parso<0.9.0,>=0.8.0\\n',\n",
       " '  Downloading https://artifactory.tcsbank.ru/artifactory/api/pypi/python-all/packages/packages/parso/0.8.3/parso-0.8.3-py2.py3-none-any.whl (100 kB)\\n',\n",
       " '     в”Ѓв”Ѓв”Ѓв”Ѓв”Ѓв”Ѓв”Ѓв”Ѓв”Ѓв”Ѓв”Ѓв”Ѓв”Ѓв”Ѓв”Ѓв”Ѓв”Ѓв”Ѓв”Ѓв”Ѓв”Ѓв”Ѓв”Ѓв”Ѓв”Ѓв”Ѓв”Ѓв”Ѓв”Ѓв”Ѓв”Ѓв”Ѓв”Ѓв”Ѓв”Ѓв”Ѓв”Ѓ 100.8/100.8 kB 160.8 MB/s eta 0:00:00\\n',\n",
       " 'Requirement already satisfied: ptyprocess>=0.5 in /usr/local/lib/python3.8/dist-packages (from pexpect>4.3->ipython==8.0.0->-r /home/requirements.txt (line 9)) (0.7.0)\\n',\n",
       " 'Collecting wcwidth\\n',\n",
       " '  Downloading https://artifactory.tcsbank.ru/artifactory/api/pypi/python-all/packages/packages/wcwidth/0.2.6/wcwidth-0.2.6-py2.py3-none-any.whl (29 kB)\\n',\n",
       " 'Requirement already satisfied: six>=1.5 in /usr/lib/python3/dist-packages (from python-dateutil>=2.8.1->pandas==1.5.3->-r /home/requirements.txt (line 6)) (1.14.0)\\n',\n",
       " 'Collecting mypy-extensions>=0.4.3\\n',\n",
       " '  Downloading https://artifactory.tcsbank.ru/artifactory/api/pypi/python-all/packages/packages/mypy-extensions/1.0.0/mypy_extensions-1.0.0-py3-none-any.whl (4.7 kB)\\n',\n",
       " 'Requirement already satisfied: platformdirs>=2 in /usr/local/lib/python3.8/dist-packages (from black->ipython==8.0.0->-r /home/requirements.txt (line 9)) (2.6.2)\\n',\n",
       " 'Requirement already satisfied: tomli>=1.1.0 in /usr/local/lib/python3.8/dist-packages (from black->ipython==8.0.0->-r /home/requirements.txt (line 9)) (2.0.1)\\n',\n",
       " 'Collecting pathspec>=0.9.0\\n',\n",
       " '  Downloading https://artifactory.tcsbank.ru/artifactory/api/pypi/python-all/packages/packages/pathspec/0.11.1/pathspec-0.11.1-py3-none-any.whl (29 kB)\\n',\n",
       " 'Collecting click>=8.0.0\\n',\n",
       " '  Downloading https://artifactory.tcsbank.ru/artifactory/api/pypi/python-all/packages/packages/click/8.1.3/click-8.1.3-py3-none-any.whl (96 kB)\\n',\n",
       " '     в”Ѓв”Ѓв”Ѓв”Ѓв”Ѓв”Ѓв”Ѓв”Ѓв”Ѓв”Ѓв”Ѓв”Ѓв”Ѓв”Ѓв”Ѓв”Ѓв”Ѓв”Ѓв”Ѓв”Ѓв”Ѓв”Ѓв”Ѓв”Ѓв”Ѓв”Ѓв”Ѓв”Ѓв”Ѓв”Ѓв”Ѓв”Ѓв”Ѓв”Ѓв”Ѓв”Ѓв”Ѓв”Ѓв”Ѓв”Ѓ 96.6/96.6 kB 79.4 MB/s eta 0:00:00\\n',\n",
       " 'Requirement already satisfied: packaging>=22.0 in /usr/local/lib/python3.8/dist-packages (from black->ipython==8.0.0->-r /home/requirements.txt (line 9)) (23.0)\\n',\n",
       " 'Requirement already satisfied: zipp>=0.5 in /usr/local/lib/python3.8/dist-packages (from importlib-metadata->numba>=0.21.0->-r /home/requirements.txt (line 7)) (3.11.0)\\n',\n",
       " 'Collecting pure-eval\\n',\n",
       " '  Downloading https://artifactory.tcsbank.ru/artifactory/api/pypi/python-all/packages/packages/pure-eval/0.2.2/pure_eval-0.2.2-py3-none-any.whl (11 kB)\\n',\n",
       " 'Collecting asttokens>=2.1.0\\n',\n",
       " '  Downloading https://artifactory.tcsbank.ru/artifactory/api/pypi/python-all/packages/packages/asttokens/2.2.1/asttokens-2.2.1-py2.py3-none-any.whl (26 kB)\\n',\n",
       " 'Collecting executing>=1.2.0\\n',\n",
       " '  Downloading https://artifactory.tcsbank.ru/artifactory/api/pypi/python-all/packages/packages/executing/1.2.0/executing-1.2.0-py2.py3-none-any.whl (24 kB)\\n',\n",
       " 'Installing collected packages: wcwidth, pytz, pure-eval, pickleshare, executing, backcall, traitlets, tqdm, threadpoolctl, python-dateutil, prompt-toolkit, pathspec, parso, nvidia-cuda-runtime-cu11, nvidia-cuda-nvrtc-cu11, nvidia-cublas-cu11, numpy, mypy-extensions, llvmlite, joblib, decorator, click, asttokens, stack-data, scipy, pandas, nvidia-cudnn-cu11, numba, matplotlib-inline, jedi, black, torch, scikit-learn, ipython\\n',\n",
       " 'Successfully installed asttokens-2.2.1 backcall-0.2.0 black-23.3.0 click-8.1.3 decorator-5.1.1 executing-1.2.0 ipython-8.0.0 jedi-0.18.2 joblib-1.2.0 llvmlite-0.40.0 matplotlib-inline-0.1.6 mypy-extensions-1.0.0 numba-0.57.0 numpy-1.22.2 nvidia-cublas-cu11-11.10.3.66 nvidia-cuda-nvrtc-cu11-11.7.99 nvidia-cuda-runtime-cu11-11.7.99 nvidia-cudnn-cu11-8.5.0.96 pandas-1.5.3 parso-0.8.3 pathspec-0.11.1 pickleshare-0.7.5 prompt-toolkit-3.0.38 pure-eval-0.2.2 python-dateutil-2.8.2 pytz-2023.3 scikit-learn-1.2.1 scipy-1.10.1 stack-data-0.6.2 threadpoolctl-3.1.0 torch-1.13.1 tqdm-4.64.1 traitlets-5.9.0 wcwidth-0.2.6\\n',\n",
       " 'Looking in indexes: https://artifactory.tcsbank.ru/artifactory/api/pypi/python-all/simple\\n',\n",
       " 'Collecting polara\\n',\n",
       " '  Cloning https://github.com/evfro/polara.git (to revision develop) to /tmp/pip-install-ghdbcoe9/polara_ffbf3642c1604c20b99a1f8b9b365347\\n',\n",
       " '  Resolved https://github.com/evfro/polara.git to commit 8e48cfd88e616ca53f8bbda1702a3e2c8abaf38e\\n',\n",
       " '  Preparing metadata (setup.py): started\\n',\n",
       " \"  Preparing metadata (setup.py): finished with status 'done'\\n\",\n",
       " 'Building wheels for collected packages: polara\\n',\n",
       " '  Building wheel for polara (setup.py): started\\n',\n",
       " \"  Building wheel for polara (setup.py): finished with status 'done'\\n\",\n",
       " '  Created wheel for polara: filename=polara-0.7.2.dev0-py3-none-any.whl size=89447 sha256=789301d95f98d60e4316a0170685a909bc4f4bfd87cf89b0762a10ac2f6f885f\\n',\n",
       " '  Stored in directory: /tmp/pip-ephem-wheel-cache-8r_l2_z8/wheels/5e/e1/4c/eaa6d1a342974af58b0efac692b6846b8c034f8904e428626b\\n',\n",
       " 'Successfully built polara\\n',\n",
       " 'Installing collected packages: polara\\n',\n",
       " 'Successfully installed polara-0.7.2.dev0\\n',\n",
       " 'There are 39387 users\\n',\n",
       " 'Filtered 4925 invalid observations.\\n',\n",
       " \"{'lambda=10, alpha=2': 0.025482312765362093, 'lambda=10, alpha=3': 0.01795843103453624, 'lambda=10, alpha=4': 0.003291256186834526, 'lambda=10, alpha=5': 0.0060256259595609036, 'lambda=20, alpha=2': 0.025803928775632597, 'lambda=20, alpha=3': 0.01592496872846574, 'lambda=20, alpha=4': 0.0026134980034773726, 'lambda=20, alpha=5': 0.0015733251188604352, 'lambda=30, alpha=2': 0.021522995067206327, 'lambda=30, alpha=3': 0.012738863350432998, 'lambda=30, alpha=4': 0.001756740251969534, 'lambda=30, alpha=5': 0.005081985478562484, 'lambda=40, alpha=2': 0.022448588445149048, 'lambda=40, alpha=3': 0.014619281752639301, 'lambda=40, alpha=4': 0.0012875933068086619, 'lambda=40, alpha=5': 0.004144284141435598, 'lambda=50, alpha=2': 0.018949582426145944, 'lambda=50, alpha=3': 0.012889010596732265, 'lambda=50, alpha=4': 0.0010598328463133904, 'lambda=50, alpha=5': 0.0020923266596309786, 'lambda=60, alpha=2': 0.0193125073473096, 'lambda=60, alpha=3': 0.010956042149117537, 'lambda=60, alpha=4': 0.0004186446008879124, 'lambda=60, alpha=5': -0.000611197605164903, 'lambda=70, alpha=2': 0.01955226720524881, 'lambda=70, alpha=3': 0.011426391446386843, 'lambda=70, alpha=4': -0.004400344572979045, 'lambda=70, alpha=5': -0.003971870074953964, 'lambda=80, alpha=2': 0.01967150297318227, 'lambda=80, alpha=3': 0.00904992696602698, 'lambda=80, alpha=4': -0.005853593498693019, 'lambda=80, alpha=5': -0.0017027489388715625, 'lambda=90, alpha=2': 0.01955226720524881, 'lambda=90, alpha=3': 0.008810356247777009, 'lambda=90, alpha=4': -0.006284517341052592, 'lambda=90, alpha=5': -0.0023930704239209974, 'lambda=100, alpha=2': 0.019790314870734894, 'lambda=100, alpha=3': 0.009288473704956477, 'lambda=100, alpha=4': -0.005424636677261226, 'lambda=100, alpha=5': -0.0010155351382501363, 'lambda=110, alpha=2': 0.020026683398844204, 'lambda=110, alpha=3': 0.009762537270941223, 'lambda=110, alpha=4': -0.008307298525601218, 'lambda=110, alpha=5': -0.0012150282661130651, 'lambda=120, alpha=2': 0.020144248052799484, 'lambda=120, alpha=3': 0.009998074714795257, 'lambda=120, alpha=4': -0.006012615693233196, 'lambda=120, alpha=5': 0.001027782608250569, 'lambda=130, alpha=2': 0.020494510504070484, 'lambda=130, alpha=3': 0.010698830166467693, 'lambda=130, alpha=4': -0.006593154135881175, 'lambda=130, alpha=5': -0.0031598844662841176, 'lambda=140, alpha=2': 0.020726030540712672, 'lambda=140, alpha=3': 0.011161217168272007, 'lambda=140, alpha=4': -0.005747463084639318, 'lambda=140, alpha=5': -0.0033475728527551855, 'lambda=150, alpha=2': 0.020494510504070484, 'lambda=150, alpha=3': 0.015838903138396053, 'lambda=150, alpha=4': -0.0010400261477152943, 'lambda=150, alpha=5': 0.0014932326355100137, 'lambda=160, alpha=2': 0.020494510504070484, 'lambda=160, alpha=3': 0.015838903138396053, 'lambda=160, alpha=4': -0.0010400261477152943, 'lambda=160, alpha=5': 0.0014932326355100137, 'lambda=170, alpha=2': 0.020955994427432744, 'lambda=170, alpha=3': 0.014167830094138951, 'lambda=170, alpha=4': -0.0012388641545243528, 'lambda=170, alpha=5': 0.0010794356870929582, 'lambda=180, alpha=2': 0.021411367398678136, 'lambda=180, alpha=3': 0.015052712983206366, 'lambda=180, alpha=4': 0.0003852344060516322, 'lambda=180, alpha=5': 0.0021974896196875924, 'lambda=190, alpha=2': 0.014249291254799467, 'lambda=190, alpha=3': 0.010686010791568343, 'lambda=190, alpha=4': -0.0020311213075035156, 'lambda=190, alpha=5': 0.0011298343360903135, 'lambda=200, alpha=2': 0.014121522776117048, 'lambda=200, alpha=3': 0.010458163421715532, 'lambda=200, alpha=4': -0.0024370712550654725, 'lambda=200, alpha=5': 0.0004719691848351871, 'lambda=210, alpha=2': 0.014121522776117048, 'lambda=210, alpha=3': 0.010458163421715532, 'lambda=210, alpha=4': -0.0006249912284440963, 'lambda=210, alpha=5': 0.001990360365384296, 'lambda=220, alpha=2': 0.014503455278331185, 'lambda=220, alpha=3': 0.011139044183916902, 'lambda=220, alpha=4': 0.0005766144908799131, 'lambda=220, alpha=5': 0.0024374505008461964, 'lambda=230, alpha=2': 0.014881331845661714, 'lambda=230, alpha=3': 0.011812065995453485, 'lambda=230, alpha=4': 0.001763536193512508, 'lambda=230, alpha=5': 0.0013793671235320338, 'lambda=240, alpha=2': 0.014881331845661714, 'lambda=240, alpha=3': 0.011812065995453485, 'lambda=240, alpha=4': 0.001763536193512508, 'lambda=240, alpha=5': 0.0028791719558030567, 'lambda=250, alpha=2': 0.01513105081474345, 'lambda=250, alpha=3': 0.009781353302899864, 'lambda=250, alpha=4': 0.000764173849840098, 'lambda=250, alpha=5': 0.002672823317203864, 'lambda=260, alpha=2': 0.01513105081474345, 'lambda=260, alpha=3': 0.009781353302899864, 'lambda=260, alpha=4': 0.000764173849840098, 'lambda=260, alpha=5': 0.002672823317203864, 'lambda=270, alpha=2': 0.01513105081474345, 'lambda=270, alpha=3': 0.009781353302899864, 'lambda=270, alpha=4': 0.000764173849840098, 'lambda=270, alpha=5': 0.002672823317203864, 'lambda=280, alpha=2': 0.015379047693892128, 'lambda=280, alpha=3': 0.007767069879310097, 'lambda=280, alpha=4': -0.0002271771951104292, 'lambda=280, alpha=5': 0.00246817477527986, 'lambda=290, alpha=2': 0.015255262578509746, 'lambda=290, alpha=3': 0.00753708715532425, 'lambda=290, alpha=4': -0.0006220547969273239, 'lambda=290, alpha=5': 0.0018249010526055608, 'lambda=300, alpha=2': 0.015379047693892128, 'lambda=300, alpha=3': 0.007767069879310097, 'lambda=300, alpha=4': -0.0002271771951104292, 'lambda=300, alpha=5': 0.000980372054258844, 'lambda=310, alpha=2': 0.015379047693892128, 'lambda=310, alpha=3': 0.007767069879310097, 'lambda=310, alpha=4': 0.001548397919426301, 'lambda=310, alpha=5': 0.003955977496300836, 'lambda=320, alpha=2': 0.015379047693892128, 'lambda=320, alpha=3': 0.007767069879310097, 'lambda=320, alpha=4': 0.001548397919426301, 'lambda=320, alpha=5': 0.003955977496300836, 'lambda=330, alpha=2': 0.015502409970287429, 'lambda=330, alpha=3': 0.0079961733509105, 'lambda=330, alpha=4': 0.0019381797212135294, 'lambda=330, alpha=5': 0.004593751462025383, 'lambda=340, alpha=2': 0.015379047693892128, 'lambda=340, alpha=3': 0.007767069879310097, 'lambda=340, alpha=4': 0.001548397919426301, 'lambda=340, alpha=5': 0.005443780217321851, 'lambda=350, alpha=2': 0.015502409970287429, 'lambda=350, alpha=3': 0.0079961733509105, 'lambda=350, alpha=4': 0.0019381797212135294, 'lambda=350, alpha=5': 0.006078600419447702, 'lambda=360, alpha=2': 0.01208771980831561, 'lambda=360, alpha=3': 0.006001111641328609, 'lambda=360, alpha=4': 0.0009480896028652108, 'lambda=360, alpha=5': 0.0058618105486161086, 'lambda=370, alpha=2': 0.012217011125799941, 'lambda=370, alpha=3': 0.0062324296490747855, 'lambda=370, alpha=4': 0.0013367712817505724, 'lambda=370, alpha=5': 0.006492141677708935, 'lambda=380, alpha=2': 0.012217011125799941, 'lambda=380, alpha=3': 0.0062324296490747855, 'lambda=380, alpha=4': 0.0013367712817505724, 'lambda=380, alpha=5': 0.006492141677708935, 'lambda=390, alpha=2': 0.012474241537700981, 'lambda=390, alpha=3': 0.006692442724712471, 'lambda=390, alpha=4': 0.0003548600682006493, 'lambda=390, alpha=5': 0.006275168528035876, 'lambda=400, alpha=2': 0.012602188594528779, 'lambda=400, alpha=3': 0.006921153616459863, 'lambda=400, alpha=4': 0.0007424400537993904, 'lambda=400, alpha=5': 0.006901106288963411, 'lambda=410, alpha=2': 0.012856765926739852, 'lambda=410, alpha=3': 0.004953748881296434, 'lambda=410, alpha=4': -0.0002314836695324225, 'lambda=410, alpha=5': 0.006683979636016116, 'lambda=420, alpha=2': 0.012856765926739852, 'lambda=420, alpha=3': 0.004953748881296434, 'lambda=420, alpha=4': -0.0002314836695324225, 'lambda=420, alpha=5': 0.006683979636016116, 'lambda=430, alpha=2': 0.012983403856889739, 'lambda=430, alpha=3': 0.00518455431621975, 'lambda=430, alpha=4': 0.00015499373986813873, 'lambda=430, alpha=5': 0.0073056164802764315, 'lambda=440, alpha=2': 0.012983403856889739, 'lambda=440, alpha=3': 0.00518455431621975, 'lambda=440, alpha=4': 0.00015499373986813873, 'lambda=440, alpha=5': 0.0073056164802764315, 'lambda=450, alpha=2': 0.012983403856889739, 'lambda=450, alpha=3': 0.00518455431621975, 'lambda=450, alpha=4': 0.00015499373986813873, 'lambda=450, alpha=5': 0.0073056164802764315, 'lambda=460, alpha=2': 0.012983403856889739, 'lambda=460, alpha=3': 0.00518455431621975, 'lambda=460, alpha=4': 0.00015499373986813873, 'lambda=460, alpha=5': 0.0073056164802764315, 'lambda=470, alpha=2': 0.01310961298384512, 'lambda=470, alpha=3': 0.005414501291177808, 'lambda=470, alpha=4': 0.0005399981797218233, 'lambda=470, alpha=5': 0.006468624365793763, 'lambda=480, alpha=2': 0.013235397012646047, 'lambda=480, alpha=3': 0.0056435974345206115, 'lambda=480, alpha=4': 0.0009235428275536853, 'lambda=480, alpha=5': 0.005634837390807667, 'lambda=490, alpha=2': 0.009770423320470687, 'lambda=490, alpha=3': 0.003467938417658412, 'lambda=490, alpha=4': -0.00042575239852689047, 'lambda=490, alpha=5': 0.004804226923748252, 'lambda=500, alpha=2': 0.009902122708922571, 'lambda=500, alpha=3': 0.003699877954076829, 'lambda=500, alpha=4': -4.1831154924031564e-05, 'lambda=500, alpha=5': 0.0039767647059474834}\\n\",\n",
       " '[[init-process] Main process terminated]\\n']"
      ]
     },
     "execution_count": 17,
     "metadata": {},
     "output_type": "execute_result"
    }
   ],
   "source": [
    "lines"
   ]
  },
  {
   "cell_type": "code",
   "execution_count": 7,
   "id": "304098a0",
   "metadata": {
    "ExecuteTime": {
     "end_time": "2023-05-28T13:22:17.988161Z",
     "start_time": "2023-05-28T13:22:17.971140Z"
    }
   },
   "outputs": [],
   "source": [
    "lines2 = ['HR@5:0.0035184719778838906, MRR@5: 0.001729915389126246, Coverage@5: 0.0004527755139002083, NCDG@5: 0.0021739806835152785, HR_pos@5: 0.003183379408561615, HR_neg@5: 0.0003350925693222753, MRR_pos@5: 0.0015902934852419642, MRR_neg@5: 0.00013962190388428134, NCDG_pos@5: 0.0019844976050916448, NDCG_neg@5: 0.00018948307842363366, Matthews@5: -0.01741634167182831\\n',\n",
    " 'HR@10:0.007455809667420626, MRR@10: 0.0022127079867718218, Coverage@10: 0.0008602734764103958, NCDG@10: 0.0034041058884017846, HR_pos@10: 0.007036943955767781, HR_neg@10: 0.0004188657116528441, MRR_pos@10: 0.00206261444009622, MRR_neg@10: 0.00015009354667560245, NCDG_pos@10: 0.003188195325954885, NDCG_neg@10: 0.00021591056244689988, Matthews@10: -0.007852842306681915\\n',\n",
    " 'HR@20:0.0142414341961967, MRR@20: 0.0026747059854406708, Coverage@20: 0.0016752694014307706, NCDG@20: 0.005108902624126274, HR_pos@20: 0.01357124905755215, HR_neg@20: 0.0006701851386445506, MRR_pos@20: 0.0025056023795439007, MRR_neg@20: 0.00016910360589677, NCDG_pos@20: 0.004827407099841014, NDCG_neg@20: 0.0002814955242852607, Matthews@20: -0.005206774096662212\\n']\n",
    "lines3 = ['HR@5:0.0020943285582642203, MRR@5: 0.0012175030018709333, Coverage@5: 0.0005433306166802499, NCDG@5: 0.001433321524631659, HR_pos@5: 0.0020943285582642203, HR_neg@5: 0.0, MRR_pos@5: 0.0012175030018709333, MRR_neg@5: 0.0, NCDG_pos@5: 0.001433321524631659, NDCG_neg@5: 0.0, Matthews@5: 0.015215827481475513\\n',\n",
    " 'HR@10:0.0028482868392393397, MRR@10: 0.0013241142984797168, Coverage@10: 0.0009961061305804582, NCDG@10: 0.0016832679721466399, HR_pos@10: 0.002764513696908771, HR_neg@10: 8.377314233056883e-05, MRR_pos@10: 0.001312146706718207, MRR_neg@10: 1.196759176150983e-05, NCDG_pos@10: 0.0016553435913697837, NDCG_neg@10: 2.7924380776856273e-05, Matthews@10: 0.012496403706593977\\n',\n",
    " 'HR@20:0.0035184719778838906, MRR@20: 0.001372418107150452, Coverage@20: 0.0019922122611609164, NCDG@20: 0.0018552406035998634, HR_pos@20: 0.003350925693222753, HR_neg@20: 0.00016754628466113765, MRR_pos@20: 0.0013540064275173597, MRR_neg@20: 1.8411679633092047e-05, NCDG_pos@20: 0.0018053132459412784, NDCG_neg@20: 4.992735765858481e-05, Matthews@20: 0.010276916835802546\\n']\n",
    "lines4 = ['HR@5:0.007288263382759487, MRR@5: 0.00402390326994499, Coverage@5: 0.0019016571583808748, NCDG@5: 0.004818976998604814, HR_pos@5: 0.005864119963139817, HR_neg@5: 0.0014241434196196699, MRR_pos@5: 0.0033230013124458968, MRR_neg@5: 0.0007009019574990925, NCDG_pos@5: 0.00393980876789687, NDCG_neg@5: 0.0008791682307079442, Matthews@5: 0.004802166313336945\\n',\n",
    " 'HR@10:0.011393147356957359, MRR@10: 0.004559984894239732, Coverage@10: 0.003078873494521416, NCDG@10: 0.006134949873349728, HR_pos@10: 0.00921504565636257, HR_neg@10: 0.002178101700594789, MRR_pos@10: 0.00374605568121527, MRR_neg@10: 0.000813929213024463, NCDG_pos@10: 0.004999503509322742, NDCG_neg@10: 0.0011354463640269863, Matthews@10: 0.007114245153897624\\n',\n",
    " 'HR@20:0.018262545028064, MRR@20: 0.005015907430159265, Coverage@20: 0.004346644933441999, NCDG@20: 0.007844353015271529, HR_pos@20: 0.014408980480857836, HR_neg@20: 0.0038535645472061657, MRR_pos@20: 0.004084301874315156, MRR_neg@20: 0.0009316055558441087, NCDG_pos@20: 0.006283582334411989, NDCG_neg@20: 0.0015607706808595406, Matthews@20: 0.002493323792555884\\n']\n",
    "lines5 = ['HR@5:0.003769791404875597, MRR@5: 0.0020370835776716647, Coverage@5: 0.0003169428597301458, NCDG@5: 0.0024729078317238208, HR_pos@5: 0.0020105554159336515, HR_neg@5: 0.0017592359889419453, MRR_pos@5: 0.0011253525453073078, MRR_neg@5: 0.0009117310323643574, NCDG_pos@5: 0.0013508004293604327, NDCG_neg@5: 0.001122107402363388, Matthews@5: -0.004670736408564889\\n',\n",
    " 'HR@10:0.005696573678478679, MRR@10: 0.0022917273357082354, Coverage@10: 0.0006338857194602916, NCDG@10: 0.003093466279911036, HR_pos@10: 0.003183379408561615, HR_neg@10: 0.0025131942699170647, MRR_pos@10: 0.001278936639580017, MRR_neg@10: 0.001012790696128218, NCDG_pos@10: 0.0017270316297574178, NDCG_neg@10: 0.0013664346501536175, Matthews@10: -0.0018489783042675502\\n',\n",
    " 'HR@20:0.011895786210940774, MRR@20: 0.0027253199411286324, Coverage@20: 0.0014036040930906456, NCDG@20: 0.004665806840282038, HR_pos@20: 0.006618078244114937, HR_neg@20: 0.005277707966825836, MRR_pos@20: 0.0015230334854180474, MRR_neg@20: 0.0012022864557105855, NCDG_pos@20: 0.002603069860362224, NDCG_neg@20: 0.002062736979919813, Matthews@20: -0.003231276731648335\\n']"
   ]
  },
  {
   "cell_type": "code",
   "execution_count": 14,
   "id": "ef66aa3e",
   "metadata": {
    "ExecuteTime": {
     "end_time": "2023-05-28T13:23:43.723771Z",
     "start_time": "2023-05-28T13:23:43.713766Z"
    }
   },
   "outputs": [],
   "source": [
    "alpha = 5\n",
    "alphas = []\n",
    "topks = []\n",
    "metrics = []\n",
    "for line in lines5:\n",
    "    if 'HR@' in line:\n",
    "        for i in line.split(', '):\n",
    "            metrics.append(float(i.split(':')[-1].strip()))"
   ]
  },
  {
   "cell_type": "code",
   "execution_count": 15,
   "id": "4a764511",
   "metadata": {
    "ExecuteTime": {
     "end_time": "2023-05-28T13:23:44.463695Z",
     "start_time": "2023-05-28T13:23:44.418664Z"
    }
   },
   "outputs": [
    {
     "data": {
      "text/html": [
       "<div>\n",
       "<style scoped>\n",
       "    .dataframe tbody tr th:only-of-type {\n",
       "        vertical-align: middle;\n",
       "    }\n",
       "\n",
       "    .dataframe tbody tr th {\n",
       "        vertical-align: top;\n",
       "    }\n",
       "\n",
       "    .dataframe thead th {\n",
       "        text-align: right;\n",
       "    }\n",
       "</style>\n",
       "<table border=\"1\" class=\"dataframe\">\n",
       "  <thead>\n",
       "    <tr style=\"text-align: right;\">\n",
       "      <th></th>\n",
       "      <th>0</th>\n",
       "      <th>1</th>\n",
       "      <th>2</th>\n",
       "      <th>3</th>\n",
       "      <th>4</th>\n",
       "      <th>5</th>\n",
       "      <th>6</th>\n",
       "      <th>7</th>\n",
       "      <th>8</th>\n",
       "      <th>9</th>\n",
       "      <th>10</th>\n",
       "    </tr>\n",
       "  </thead>\n",
       "  <tbody>\n",
       "    <tr>\n",
       "      <th>0</th>\n",
       "      <td>0.00377</td>\n",
       "      <td>0.002037</td>\n",
       "      <td>0.000317</td>\n",
       "      <td>0.002473</td>\n",
       "      <td>0.002011</td>\n",
       "      <td>0.001759</td>\n",
       "      <td>0.001125</td>\n",
       "      <td>0.000912</td>\n",
       "      <td>0.001351</td>\n",
       "      <td>0.001122</td>\n",
       "      <td>-0.004671</td>\n",
       "    </tr>\n",
       "  </tbody>\n",
       "</table>\n",
       "</div>"
      ],
      "text/plain": [
       "        0         1         2         3         4         5         6   \\\n",
       "0  0.00377  0.002037  0.000317  0.002473  0.002011  0.001759  0.001125   \n",
       "\n",
       "         7         8         9         10  \n",
       "0  0.000912  0.001351  0.001122 -0.004671  "
      ]
     },
     "metadata": {},
     "output_type": "display_data"
    },
    {
     "data": {
      "text/html": [
       "<div>\n",
       "<style scoped>\n",
       "    .dataframe tbody tr th:only-of-type {\n",
       "        vertical-align: middle;\n",
       "    }\n",
       "\n",
       "    .dataframe tbody tr th {\n",
       "        vertical-align: top;\n",
       "    }\n",
       "\n",
       "    .dataframe thead th {\n",
       "        text-align: right;\n",
       "    }\n",
       "</style>\n",
       "<table border=\"1\" class=\"dataframe\">\n",
       "  <thead>\n",
       "    <tr style=\"text-align: right;\">\n",
       "      <th></th>\n",
       "      <th>0</th>\n",
       "      <th>1</th>\n",
       "      <th>2</th>\n",
       "      <th>3</th>\n",
       "      <th>4</th>\n",
       "      <th>5</th>\n",
       "      <th>6</th>\n",
       "      <th>7</th>\n",
       "      <th>8</th>\n",
       "      <th>9</th>\n",
       "      <th>10</th>\n",
       "    </tr>\n",
       "  </thead>\n",
       "  <tbody>\n",
       "    <tr>\n",
       "      <th>0</th>\n",
       "      <td>0.005697</td>\n",
       "      <td>0.002292</td>\n",
       "      <td>0.000634</td>\n",
       "      <td>0.003093</td>\n",
       "      <td>0.003183</td>\n",
       "      <td>0.002513</td>\n",
       "      <td>0.001279</td>\n",
       "      <td>0.001013</td>\n",
       "      <td>0.001727</td>\n",
       "      <td>0.001366</td>\n",
       "      <td>-0.001849</td>\n",
       "    </tr>\n",
       "  </tbody>\n",
       "</table>\n",
       "</div>"
      ],
      "text/plain": [
       "         0         1         2         3         4         5         6   \\\n",
       "0  0.005697  0.002292  0.000634  0.003093  0.003183  0.002513  0.001279   \n",
       "\n",
       "         7         8         9         10  \n",
       "0  0.001013  0.001727  0.001366 -0.001849  "
      ]
     },
     "metadata": {},
     "output_type": "display_data"
    },
    {
     "data": {
      "text/html": [
       "<div>\n",
       "<style scoped>\n",
       "    .dataframe tbody tr th:only-of-type {\n",
       "        vertical-align: middle;\n",
       "    }\n",
       "\n",
       "    .dataframe tbody tr th {\n",
       "        vertical-align: top;\n",
       "    }\n",
       "\n",
       "    .dataframe thead th {\n",
       "        text-align: right;\n",
       "    }\n",
       "</style>\n",
       "<table border=\"1\" class=\"dataframe\">\n",
       "  <thead>\n",
       "    <tr style=\"text-align: right;\">\n",
       "      <th></th>\n",
       "      <th>0</th>\n",
       "      <th>1</th>\n",
       "      <th>2</th>\n",
       "      <th>3</th>\n",
       "      <th>4</th>\n",
       "      <th>5</th>\n",
       "      <th>6</th>\n",
       "      <th>7</th>\n",
       "      <th>8</th>\n",
       "      <th>9</th>\n",
       "      <th>10</th>\n",
       "    </tr>\n",
       "  </thead>\n",
       "  <tbody>\n",
       "    <tr>\n",
       "      <th>0</th>\n",
       "      <td>0.011896</td>\n",
       "      <td>0.002725</td>\n",
       "      <td>0.001404</td>\n",
       "      <td>0.004666</td>\n",
       "      <td>0.006618</td>\n",
       "      <td>0.005278</td>\n",
       "      <td>0.001523</td>\n",
       "      <td>0.001202</td>\n",
       "      <td>0.002603</td>\n",
       "      <td>0.002063</td>\n",
       "      <td>-0.003231</td>\n",
       "    </tr>\n",
       "  </tbody>\n",
       "</table>\n",
       "</div>"
      ],
      "text/plain": [
       "         0         1         2         3         4         5         6   \\\n",
       "0  0.011896  0.002725  0.001404  0.004666  0.006618  0.005278  0.001523   \n",
       "\n",
       "         7         8         9         10  \n",
       "0  0.001202  0.002603  0.002063 -0.003231  "
      ]
     },
     "metadata": {},
     "output_type": "display_data"
    }
   ],
   "source": [
    "for i in range(3):\n",
    "    display(pd.DataFrame(metrics[11*i:11*(i+1)]).T)"
   ]
  },
  {
   "cell_type": "code",
   "execution_count": 81,
   "id": "8e21de15",
   "metadata": {
    "ExecuteTime": {
     "end_time": "2023-05-23T18:27:26.764686Z",
     "start_time": "2023-05-23T18:27:26.752686Z"
    }
   },
   "outputs": [
    {
     "data": {
      "text/plain": [
       "132"
      ]
     },
     "execution_count": 81,
     "metadata": {},
     "output_type": "execute_result"
    }
   ],
   "source": [
    "11*3*4"
   ]
  },
  {
   "cell_type": "markdown",
   "id": "4a386d52",
   "metadata": {},
   "source": [
    "## dict"
   ]
  },
  {
   "cell_type": "code",
   "execution_count": 18,
   "id": "04fe0c4c",
   "metadata": {
    "ExecuteTime": {
     "end_time": "2023-05-28T13:28:56.916895Z",
     "start_time": "2023-05-28T13:28:56.800222Z"
    },
    "code_folding": [
     0
    ]
   },
   "outputs": [],
   "source": [
    "d = {'lambda=10, alpha=2': 0.025482312765362093, 'lambda=10, alpha=3': 0.01795843103453624, 'lambda=10, alpha=4': 0.003291256186834526, 'lambda=10, alpha=5': 0.0060256259595609036, 'lambda=20, alpha=2': 0.025803928775632597, 'lambda=20, alpha=3': 0.01592496872846574, 'lambda=20, alpha=4': 0.0026134980034773726, 'lambda=20, alpha=5': 0.0015733251188604352, 'lambda=30, alpha=2': 0.021522995067206327, 'lambda=30, alpha=3': 0.012738863350432998, 'lambda=30, alpha=4': 0.001756740251969534, 'lambda=30, alpha=5': 0.005081985478562484, 'lambda=40, alpha=2': 0.022448588445149048, 'lambda=40, alpha=3': 0.014619281752639301, 'lambda=40, alpha=4': 0.0012875933068086619, 'lambda=40, alpha=5': 0.004144284141435598, 'lambda=50, alpha=2': 0.018949582426145944, 'lambda=50, alpha=3': 0.012889010596732265, 'lambda=50, alpha=4': 0.0010598328463133904, 'lambda=50, alpha=5': 0.0020923266596309786, 'lambda=60, alpha=2': 0.0193125073473096, 'lambda=60, alpha=3': 0.010956042149117537, 'lambda=60, alpha=4': 0.0004186446008879124, 'lambda=60, alpha=5': -0.000611197605164903, 'lambda=70, alpha=2': 0.01955226720524881, 'lambda=70, alpha=3': 0.011426391446386843, 'lambda=70, alpha=4': -0.004400344572979045, 'lambda=70, alpha=5': -0.003971870074953964, 'lambda=80, alpha=2': 0.01967150297318227, 'lambda=80, alpha=3': 0.00904992696602698, 'lambda=80, alpha=4': -0.005853593498693019, 'lambda=80, alpha=5': -0.0017027489388715625, 'lambda=90, alpha=2': 0.01955226720524881, 'lambda=90, alpha=3': 0.008810356247777009, 'lambda=90, alpha=4': -0.006284517341052592, 'lambda=90, alpha=5': -0.0023930704239209974, 'lambda=100, alpha=2': 0.019790314870734894, 'lambda=100, alpha=3': 0.009288473704956477, 'lambda=100, alpha=4': -0.005424636677261226, 'lambda=100, alpha=5': -0.0010155351382501363, 'lambda=110, alpha=2': 0.020026683398844204, 'lambda=110, alpha=3': 0.009762537270941223, 'lambda=110, alpha=4': -0.008307298525601218, 'lambda=110, alpha=5': -0.0012150282661130651, 'lambda=120, alpha=2': 0.020144248052799484, 'lambda=120, alpha=3': 0.009998074714795257, 'lambda=120, alpha=4': -0.006012615693233196, 'lambda=120, alpha=5': 0.001027782608250569, 'lambda=130, alpha=2': 0.020494510504070484, 'lambda=130, alpha=3': 0.010698830166467693, 'lambda=130, alpha=4': -0.006593154135881175, 'lambda=130, alpha=5': -0.0031598844662841176, 'lambda=140, alpha=2': 0.020726030540712672, 'lambda=140, alpha=3': 0.011161217168272007, 'lambda=140, alpha=4': -0.005747463084639318, 'lambda=140, alpha=5': -0.0033475728527551855, 'lambda=150, alpha=2': 0.020494510504070484, 'lambda=150, alpha=3': 0.015838903138396053, 'lambda=150, alpha=4': -0.0010400261477152943, 'lambda=150, alpha=5': 0.0014932326355100137, 'lambda=160, alpha=2': 0.020494510504070484, 'lambda=160, alpha=3': 0.015838903138396053, 'lambda=160, alpha=4': -0.0010400261477152943, 'lambda=160, alpha=5': 0.0014932326355100137, 'lambda=170, alpha=2': 0.020955994427432744, 'lambda=170, alpha=3': 0.014167830094138951, 'lambda=170, alpha=4': -0.0012388641545243528, 'lambda=170, alpha=5': 0.0010794356870929582, 'lambda=180, alpha=2': 0.021411367398678136, 'lambda=180, alpha=3': 0.015052712983206366, 'lambda=180, alpha=4': 0.0003852344060516322, 'lambda=180, alpha=5': 0.0021974896196875924, 'lambda=190, alpha=2': 0.014249291254799467, 'lambda=190, alpha=3': 0.010686010791568343, 'lambda=190, alpha=4': -0.0020311213075035156, 'lambda=190, alpha=5': 0.0011298343360903135, 'lambda=200, alpha=2': 0.014121522776117048, 'lambda=200, alpha=3': 0.010458163421715532, 'lambda=200, alpha=4': -0.0024370712550654725, 'lambda=200, alpha=5': 0.0004719691848351871, 'lambda=210, alpha=2': 0.014121522776117048, 'lambda=210, alpha=3': 0.010458163421715532, 'lambda=210, alpha=4': -0.0006249912284440963, 'lambda=210, alpha=5': 0.001990360365384296, 'lambda=220, alpha=2': 0.014503455278331185, 'lambda=220, alpha=3': 0.011139044183916902, 'lambda=220, alpha=4': 0.0005766144908799131, 'lambda=220, alpha=5': 0.0024374505008461964, 'lambda=230, alpha=2': 0.014881331845661714, 'lambda=230, alpha=3': 0.011812065995453485, 'lambda=230, alpha=4': 0.001763536193512508, 'lambda=230, alpha=5': 0.0013793671235320338, 'lambda=240, alpha=2': 0.014881331845661714, 'lambda=240, alpha=3': 0.011812065995453485, 'lambda=240, alpha=4': 0.001763536193512508, 'lambda=240, alpha=5': 0.0028791719558030567, 'lambda=250, alpha=2': 0.01513105081474345, 'lambda=250, alpha=3': 0.009781353302899864, 'lambda=250, alpha=4': 0.000764173849840098, 'lambda=250, alpha=5': 0.002672823317203864, 'lambda=260, alpha=2': 0.01513105081474345, 'lambda=260, alpha=3': 0.009781353302899864, 'lambda=260, alpha=4': 0.000764173849840098, 'lambda=260, alpha=5': 0.002672823317203864, 'lambda=270, alpha=2': 0.01513105081474345, 'lambda=270, alpha=3': 0.009781353302899864, 'lambda=270, alpha=4': 0.000764173849840098, 'lambda=270, alpha=5': 0.002672823317203864, 'lambda=280, alpha=2': 0.015379047693892128, 'lambda=280, alpha=3': 0.007767069879310097, 'lambda=280, alpha=4': -0.0002271771951104292, 'lambda=280, alpha=5': 0.00246817477527986, 'lambda=290, alpha=2': 0.015255262578509746, 'lambda=290, alpha=3': 0.00753708715532425, 'lambda=290, alpha=4': -0.0006220547969273239, 'lambda=290, alpha=5': 0.0018249010526055608, 'lambda=300, alpha=2': 0.015379047693892128, 'lambda=300, alpha=3': 0.007767069879310097, 'lambda=300, alpha=4': -0.0002271771951104292, 'lambda=300, alpha=5': 0.000980372054258844, 'lambda=310, alpha=2': 0.015379047693892128, 'lambda=310, alpha=3': 0.007767069879310097, 'lambda=310, alpha=4': 0.001548397919426301, 'lambda=310, alpha=5': 0.003955977496300836, 'lambda=320, alpha=2': 0.015379047693892128, 'lambda=320, alpha=3': 0.007767069879310097, 'lambda=320, alpha=4': 0.001548397919426301, 'lambda=320, alpha=5': 0.003955977496300836, 'lambda=330, alpha=2': 0.015502409970287429, 'lambda=330, alpha=3': 0.0079961733509105, 'lambda=330, alpha=4': 0.0019381797212135294, 'lambda=330, alpha=5': 0.004593751462025383, 'lambda=340, alpha=2': 0.015379047693892128, 'lambda=340, alpha=3': 0.007767069879310097, 'lambda=340, alpha=4': 0.001548397919426301, 'lambda=340, alpha=5': 0.005443780217321851, 'lambda=350, alpha=2': 0.015502409970287429, 'lambda=350, alpha=3': 0.0079961733509105, 'lambda=350, alpha=4': 0.0019381797212135294, 'lambda=350, alpha=5': 0.006078600419447702, 'lambda=360, alpha=2': 0.01208771980831561, 'lambda=360, alpha=3': 0.006001111641328609, 'lambda=360, alpha=4': 0.0009480896028652108, 'lambda=360, alpha=5': 0.0058618105486161086, 'lambda=370, alpha=2': 0.012217011125799941, 'lambda=370, alpha=3': 0.0062324296490747855, 'lambda=370, alpha=4': 0.0013367712817505724, 'lambda=370, alpha=5': 0.006492141677708935, 'lambda=380, alpha=2': 0.012217011125799941, 'lambda=380, alpha=3': 0.0062324296490747855, 'lambda=380, alpha=4': 0.0013367712817505724, 'lambda=380, alpha=5': 0.006492141677708935, 'lambda=390, alpha=2': 0.012474241537700981, 'lambda=390, alpha=3': 0.006692442724712471, 'lambda=390, alpha=4': 0.0003548600682006493, 'lambda=390, alpha=5': 0.006275168528035876, 'lambda=400, alpha=2': 0.012602188594528779, 'lambda=400, alpha=3': 0.006921153616459863, 'lambda=400, alpha=4': 0.0007424400537993904, 'lambda=400, alpha=5': 0.006901106288963411, 'lambda=410, alpha=2': 0.012856765926739852, 'lambda=410, alpha=3': 0.004953748881296434, 'lambda=410, alpha=4': -0.0002314836695324225, 'lambda=410, alpha=5': 0.006683979636016116, 'lambda=420, alpha=2': 0.012856765926739852, 'lambda=420, alpha=3': 0.004953748881296434, 'lambda=420, alpha=4': -0.0002314836695324225, 'lambda=420, alpha=5': 0.006683979636016116, 'lambda=430, alpha=2': 0.012983403856889739, 'lambda=430, alpha=3': 0.00518455431621975, 'lambda=430, alpha=4': 0.00015499373986813873, 'lambda=430, alpha=5': 0.0073056164802764315, 'lambda=440, alpha=2': 0.012983403856889739, 'lambda=440, alpha=3': 0.00518455431621975, 'lambda=440, alpha=4': 0.00015499373986813873, 'lambda=440, alpha=5': 0.0073056164802764315, 'lambda=450, alpha=2': 0.012983403856889739, 'lambda=450, alpha=3': 0.00518455431621975, 'lambda=450, alpha=4': 0.00015499373986813873, 'lambda=450, alpha=5': 0.0073056164802764315, 'lambda=460, alpha=2': 0.012983403856889739, 'lambda=460, alpha=3': 0.00518455431621975, 'lambda=460, alpha=4': 0.00015499373986813873, 'lambda=460, alpha=5': 0.0073056164802764315, 'lambda=470, alpha=2': 0.01310961298384512, 'lambda=470, alpha=3': 0.005414501291177808, 'lambda=470, alpha=4': 0.0005399981797218233, 'lambda=470, alpha=5': 0.006468624365793763, 'lambda=480, alpha=2': 0.013235397012646047, 'lambda=480, alpha=3': 0.0056435974345206115, 'lambda=480, alpha=4': 0.0009235428275536853, 'lambda=480, alpha=5': 0.005634837390807667, 'lambda=490, alpha=2': 0.009770423320470687, 'lambda=490, alpha=3': 0.003467938417658412, 'lambda=490, alpha=4': -0.00042575239852689047, 'lambda=490, alpha=5': 0.004804226923748252, 'lambda=500, alpha=2': 0.009902122708922571, 'lambda=500, alpha=3': 0.003699877954076829, 'lambda=500, alpha=4': -4.1831154924031564e-05, 'lambda=500, alpha=5': 0.0039767647059474834}"
   ]
  },
  {
   "cell_type": "code",
   "execution_count": 19,
   "id": "f7e3d1f5",
   "metadata": {
    "ExecuteTime": {
     "end_time": "2023-05-28T13:28:58.269352Z",
     "start_time": "2023-05-28T13:28:58.248381Z"
    }
   },
   "outputs": [
    {
     "data": {
      "text/plain": [
       "[('lambda=20, alpha=2', 0.025803928775632597),\n",
       " ('lambda=10, alpha=2', 0.025482312765362093),\n",
       " ('lambda=40, alpha=2', 0.022448588445149048),\n",
       " ('lambda=30, alpha=2', 0.021522995067206327),\n",
       " ('lambda=180, alpha=2', 0.021411367398678136),\n",
       " ('lambda=170, alpha=2', 0.020955994427432744),\n",
       " ('lambda=140, alpha=2', 0.020726030540712672),\n",
       " ('lambda=130, alpha=2', 0.020494510504070484),\n",
       " ('lambda=150, alpha=2', 0.020494510504070484),\n",
       " ('lambda=160, alpha=2', 0.020494510504070484),\n",
       " ('lambda=120, alpha=2', 0.020144248052799484),\n",
       " ('lambda=110, alpha=2', 0.020026683398844204),\n",
       " ('lambda=100, alpha=2', 0.019790314870734894),\n",
       " ('lambda=80, alpha=2', 0.01967150297318227),\n",
       " ('lambda=70, alpha=2', 0.01955226720524881),\n",
       " ('lambda=90, alpha=2', 0.01955226720524881),\n",
       " ('lambda=60, alpha=2', 0.0193125073473096),\n",
       " ('lambda=50, alpha=2', 0.018949582426145944),\n",
       " ('lambda=10, alpha=3', 0.01795843103453624),\n",
       " ('lambda=20, alpha=3', 0.01592496872846574),\n",
       " ('lambda=150, alpha=3', 0.015838903138396053),\n",
       " ('lambda=160, alpha=3', 0.015838903138396053),\n",
       " ('lambda=330, alpha=2', 0.015502409970287429),\n",
       " ('lambda=350, alpha=2', 0.015502409970287429),\n",
       " ('lambda=280, alpha=2', 0.015379047693892128),\n",
       " ('lambda=300, alpha=2', 0.015379047693892128),\n",
       " ('lambda=310, alpha=2', 0.015379047693892128),\n",
       " ('lambda=320, alpha=2', 0.015379047693892128),\n",
       " ('lambda=340, alpha=2', 0.015379047693892128),\n",
       " ('lambda=290, alpha=2', 0.015255262578509746),\n",
       " ('lambda=250, alpha=2', 0.01513105081474345),\n",
       " ('lambda=260, alpha=2', 0.01513105081474345),\n",
       " ('lambda=270, alpha=2', 0.01513105081474345),\n",
       " ('lambda=180, alpha=3', 0.015052712983206366),\n",
       " ('lambda=230, alpha=2', 0.014881331845661714),\n",
       " ('lambda=240, alpha=2', 0.014881331845661714),\n",
       " ('lambda=40, alpha=3', 0.014619281752639301),\n",
       " ('lambda=220, alpha=2', 0.014503455278331185),\n",
       " ('lambda=190, alpha=2', 0.014249291254799467),\n",
       " ('lambda=170, alpha=3', 0.014167830094138951),\n",
       " ('lambda=200, alpha=2', 0.014121522776117048),\n",
       " ('lambda=210, alpha=2', 0.014121522776117048),\n",
       " ('lambda=480, alpha=2', 0.013235397012646047),\n",
       " ('lambda=470, alpha=2', 0.01310961298384512),\n",
       " ('lambda=430, alpha=2', 0.012983403856889739),\n",
       " ('lambda=440, alpha=2', 0.012983403856889739),\n",
       " ('lambda=450, alpha=2', 0.012983403856889739),\n",
       " ('lambda=460, alpha=2', 0.012983403856889739),\n",
       " ('lambda=50, alpha=3', 0.012889010596732265),\n",
       " ('lambda=410, alpha=2', 0.012856765926739852),\n",
       " ('lambda=420, alpha=2', 0.012856765926739852),\n",
       " ('lambda=30, alpha=3', 0.012738863350432998),\n",
       " ('lambda=400, alpha=2', 0.012602188594528779),\n",
       " ('lambda=390, alpha=2', 0.012474241537700981),\n",
       " ('lambda=370, alpha=2', 0.012217011125799941),\n",
       " ('lambda=380, alpha=2', 0.012217011125799941),\n",
       " ('lambda=360, alpha=2', 0.01208771980831561),\n",
       " ('lambda=230, alpha=3', 0.011812065995453485),\n",
       " ('lambda=240, alpha=3', 0.011812065995453485),\n",
       " ('lambda=70, alpha=3', 0.011426391446386843),\n",
       " ('lambda=140, alpha=3', 0.011161217168272007),\n",
       " ('lambda=220, alpha=3', 0.011139044183916902),\n",
       " ('lambda=60, alpha=3', 0.010956042149117537),\n",
       " ('lambda=130, alpha=3', 0.010698830166467693),\n",
       " ('lambda=190, alpha=3', 0.010686010791568343),\n",
       " ('lambda=200, alpha=3', 0.010458163421715532),\n",
       " ('lambda=210, alpha=3', 0.010458163421715532),\n",
       " ('lambda=120, alpha=3', 0.009998074714795257),\n",
       " ('lambda=500, alpha=2', 0.009902122708922571),\n",
       " ('lambda=250, alpha=3', 0.009781353302899864),\n",
       " ('lambda=260, alpha=3', 0.009781353302899864),\n",
       " ('lambda=270, alpha=3', 0.009781353302899864),\n",
       " ('lambda=490, alpha=2', 0.009770423320470687),\n",
       " ('lambda=110, alpha=3', 0.009762537270941223),\n",
       " ('lambda=100, alpha=3', 0.009288473704956477),\n",
       " ('lambda=80, alpha=3', 0.00904992696602698),\n",
       " ('lambda=90, alpha=3', 0.008810356247777009),\n",
       " ('lambda=330, alpha=3', 0.0079961733509105),\n",
       " ('lambda=350, alpha=3', 0.0079961733509105),\n",
       " ('lambda=280, alpha=3', 0.007767069879310097),\n",
       " ('lambda=300, alpha=3', 0.007767069879310097),\n",
       " ('lambda=310, alpha=3', 0.007767069879310097),\n",
       " ('lambda=320, alpha=3', 0.007767069879310097),\n",
       " ('lambda=340, alpha=3', 0.007767069879310097),\n",
       " ('lambda=290, alpha=3', 0.00753708715532425),\n",
       " ('lambda=430, alpha=5', 0.0073056164802764315),\n",
       " ('lambda=440, alpha=5', 0.0073056164802764315),\n",
       " ('lambda=450, alpha=5', 0.0073056164802764315),\n",
       " ('lambda=460, alpha=5', 0.0073056164802764315),\n",
       " ('lambda=400, alpha=3', 0.006921153616459863),\n",
       " ('lambda=400, alpha=5', 0.006901106288963411),\n",
       " ('lambda=390, alpha=3', 0.006692442724712471),\n",
       " ('lambda=410, alpha=5', 0.006683979636016116),\n",
       " ('lambda=420, alpha=5', 0.006683979636016116),\n",
       " ('lambda=370, alpha=5', 0.006492141677708935),\n",
       " ('lambda=380, alpha=5', 0.006492141677708935),\n",
       " ('lambda=470, alpha=5', 0.006468624365793763),\n",
       " ('lambda=390, alpha=5', 0.006275168528035876),\n",
       " ('lambda=370, alpha=3', 0.0062324296490747855),\n",
       " ('lambda=380, alpha=3', 0.0062324296490747855),\n",
       " ('lambda=350, alpha=5', 0.006078600419447702),\n",
       " ('lambda=10, alpha=5', 0.0060256259595609036),\n",
       " ('lambda=360, alpha=3', 0.006001111641328609),\n",
       " ('lambda=360, alpha=5', 0.0058618105486161086),\n",
       " ('lambda=480, alpha=3', 0.0056435974345206115),\n",
       " ('lambda=480, alpha=5', 0.005634837390807667),\n",
       " ('lambda=340, alpha=5', 0.005443780217321851),\n",
       " ('lambda=470, alpha=3', 0.005414501291177808),\n",
       " ('lambda=430, alpha=3', 0.00518455431621975),\n",
       " ('lambda=440, alpha=3', 0.00518455431621975),\n",
       " ('lambda=450, alpha=3', 0.00518455431621975),\n",
       " ('lambda=460, alpha=3', 0.00518455431621975),\n",
       " ('lambda=30, alpha=5', 0.005081985478562484),\n",
       " ('lambda=410, alpha=3', 0.004953748881296434),\n",
       " ('lambda=420, alpha=3', 0.004953748881296434),\n",
       " ('lambda=490, alpha=5', 0.004804226923748252),\n",
       " ('lambda=330, alpha=5', 0.004593751462025383),\n",
       " ('lambda=40, alpha=5', 0.004144284141435598),\n",
       " ('lambda=500, alpha=5', 0.0039767647059474834),\n",
       " ('lambda=310, alpha=5', 0.003955977496300836),\n",
       " ('lambda=320, alpha=5', 0.003955977496300836),\n",
       " ('lambda=500, alpha=3', 0.003699877954076829),\n",
       " ('lambda=490, alpha=3', 0.003467938417658412),\n",
       " ('lambda=10, alpha=4', 0.003291256186834526),\n",
       " ('lambda=240, alpha=5', 0.0028791719558030567),\n",
       " ('lambda=250, alpha=5', 0.002672823317203864),\n",
       " ('lambda=260, alpha=5', 0.002672823317203864),\n",
       " ('lambda=270, alpha=5', 0.002672823317203864),\n",
       " ('lambda=20, alpha=4', 0.0026134980034773726),\n",
       " ('lambda=280, alpha=5', 0.00246817477527986),\n",
       " ('lambda=220, alpha=5', 0.0024374505008461964),\n",
       " ('lambda=180, alpha=5', 0.0021974896196875924),\n",
       " ('lambda=50, alpha=5', 0.0020923266596309786),\n",
       " ('lambda=210, alpha=5', 0.001990360365384296),\n",
       " ('lambda=330, alpha=4', 0.0019381797212135294),\n",
       " ('lambda=350, alpha=4', 0.0019381797212135294),\n",
       " ('lambda=290, alpha=5', 0.0018249010526055608),\n",
       " ('lambda=230, alpha=4', 0.001763536193512508),\n",
       " ('lambda=240, alpha=4', 0.001763536193512508),\n",
       " ('lambda=30, alpha=4', 0.001756740251969534),\n",
       " ('lambda=20, alpha=5', 0.0015733251188604352),\n",
       " ('lambda=310, alpha=4', 0.001548397919426301),\n",
       " ('lambda=320, alpha=4', 0.001548397919426301),\n",
       " ('lambda=340, alpha=4', 0.001548397919426301),\n",
       " ('lambda=150, alpha=5', 0.0014932326355100137),\n",
       " ('lambda=160, alpha=5', 0.0014932326355100137),\n",
       " ('lambda=230, alpha=5', 0.0013793671235320338),\n",
       " ('lambda=370, alpha=4', 0.0013367712817505724),\n",
       " ('lambda=380, alpha=4', 0.0013367712817505724),\n",
       " ('lambda=40, alpha=4', 0.0012875933068086619),\n",
       " ('lambda=190, alpha=5', 0.0011298343360903135),\n",
       " ('lambda=170, alpha=5', 0.0010794356870929582),\n",
       " ('lambda=50, alpha=4', 0.0010598328463133904),\n",
       " ('lambda=120, alpha=5', 0.001027782608250569),\n",
       " ('lambda=300, alpha=5', 0.000980372054258844),\n",
       " ('lambda=360, alpha=4', 0.0009480896028652108),\n",
       " ('lambda=480, alpha=4', 0.0009235428275536853),\n",
       " ('lambda=250, alpha=4', 0.000764173849840098),\n",
       " ('lambda=260, alpha=4', 0.000764173849840098),\n",
       " ('lambda=270, alpha=4', 0.000764173849840098),\n",
       " ('lambda=400, alpha=4', 0.0007424400537993904),\n",
       " ('lambda=220, alpha=4', 0.0005766144908799131),\n",
       " ('lambda=470, alpha=4', 0.0005399981797218233),\n",
       " ('lambda=200, alpha=5', 0.0004719691848351871),\n",
       " ('lambda=60, alpha=4', 0.0004186446008879124),\n",
       " ('lambda=180, alpha=4', 0.0003852344060516322),\n",
       " ('lambda=390, alpha=4', 0.0003548600682006493),\n",
       " ('lambda=430, alpha=4', 0.00015499373986813873),\n",
       " ('lambda=440, alpha=4', 0.00015499373986813873),\n",
       " ('lambda=450, alpha=4', 0.00015499373986813873),\n",
       " ('lambda=460, alpha=4', 0.00015499373986813873),\n",
       " ('lambda=500, alpha=4', -4.1831154924031564e-05),\n",
       " ('lambda=280, alpha=4', -0.0002271771951104292),\n",
       " ('lambda=300, alpha=4', -0.0002271771951104292),\n",
       " ('lambda=410, alpha=4', -0.0002314836695324225),\n",
       " ('lambda=420, alpha=4', -0.0002314836695324225),\n",
       " ('lambda=490, alpha=4', -0.00042575239852689047),\n",
       " ('lambda=60, alpha=5', -0.000611197605164903),\n",
       " ('lambda=290, alpha=4', -0.0006220547969273239),\n",
       " ('lambda=210, alpha=4', -0.0006249912284440963),\n",
       " ('lambda=100, alpha=5', -0.0010155351382501363),\n",
       " ('lambda=150, alpha=4', -0.0010400261477152943),\n",
       " ('lambda=160, alpha=4', -0.0010400261477152943),\n",
       " ('lambda=110, alpha=5', -0.0012150282661130651),\n",
       " ('lambda=170, alpha=4', -0.0012388641545243528),\n",
       " ('lambda=80, alpha=5', -0.0017027489388715625),\n",
       " ('lambda=190, alpha=4', -0.0020311213075035156),\n",
       " ('lambda=90, alpha=5', -0.0023930704239209974),\n",
       " ('lambda=200, alpha=4', -0.0024370712550654725),\n",
       " ('lambda=130, alpha=5', -0.0031598844662841176),\n",
       " ('lambda=140, alpha=5', -0.0033475728527551855),\n",
       " ('lambda=70, alpha=5', -0.003971870074953964),\n",
       " ('lambda=70, alpha=4', -0.004400344572979045),\n",
       " ('lambda=100, alpha=4', -0.005424636677261226),\n",
       " ('lambda=140, alpha=4', -0.005747463084639318),\n",
       " ('lambda=80, alpha=4', -0.005853593498693019),\n",
       " ('lambda=120, alpha=4', -0.006012615693233196),\n",
       " ('lambda=90, alpha=4', -0.006284517341052592),\n",
       " ('lambda=130, alpha=4', -0.006593154135881175),\n",
       " ('lambda=110, alpha=4', -0.008307298525601218)]"
      ]
     },
     "execution_count": 19,
     "metadata": {},
     "output_type": "execute_result"
    }
   ],
   "source": [
    "sorted(d.items(), key=lambda x: x[1], reverse=True)"
   ]
  },
  {
   "cell_type": "code",
   "execution_count": null,
   "id": "2000cb6b",
   "metadata": {},
   "outputs": [],
   "source": []
  }
 ],
 "metadata": {
  "kernelspec": {
   "display_name": "Python 3 (ipykernel)",
   "language": "python",
   "name": "python3"
  },
  "language_info": {
   "codemirror_mode": {
    "name": "ipython",
    "version": 3
   },
   "file_extension": ".py",
   "mimetype": "text/x-python",
   "name": "python",
   "nbconvert_exporter": "python",
   "pygments_lexer": "ipython3",
   "version": "3.9.13"
  },
  "toc": {
   "base_numbering": 1,
   "nav_menu": {},
   "number_sections": true,
   "sideBar": true,
   "skip_h1_title": false,
   "title_cell": "Table of Contents",
   "title_sidebar": "Contents",
   "toc_cell": false,
   "toc_position": {},
   "toc_section_display": true,
   "toc_window_display": false
  },
  "varInspector": {
   "cols": {
    "lenName": 16,
    "lenType": 16,
    "lenVar": 40
   },
   "kernels_config": {
    "python": {
     "delete_cmd_postfix": "",
     "delete_cmd_prefix": "del ",
     "library": "var_list.py",
     "varRefreshCmd": "print(var_dic_list())"
    },
    "r": {
     "delete_cmd_postfix": ") ",
     "delete_cmd_prefix": "rm(",
     "library": "var_list.r",
     "varRefreshCmd": "cat(var_dic_list()) "
    }
   },
   "types_to_exclude": [
    "module",
    "function",
    "builtin_function_or_method",
    "instance",
    "_Feature"
   ],
   "window_display": false
  }
 },
 "nbformat": 4,
 "nbformat_minor": 5
}
