{
 "cells": [
  {
   "cell_type": "code",
   "execution_count": 1,
   "id": "f16cd3f8",
   "metadata": {
    "ExecuteTime": {
     "end_time": "2022-09-29T13:16:40.265341Z",
     "start_time": "2022-09-29T13:16:29.795335Z"
    }
   },
   "outputs": [],
   "source": [
    "import numpy as np\n",
    "import pandas as pd\n",
    "import matplotlib.pyplot as plt\n",
    "import torch\n",
    "import torch.nn as nn\n",
    "import torch.optim as optim\n",
    "from torch.utils.data import Dataset, DataLoader\n",
    "from torch.autograd import Variable\n",
    "\n",
    "from tqdm.notebook import tqdm\n",
    "\n",
    "import polara\n",
    "from polara import get_movielens_data\n",
    "from polara.preprocessing.dataframes import leave_one_out, reindex\n",
    "\n",
    "from dataprep import transform_indices\n",
    "from evaluation import topn_recommendations, downvote_seen_items\n",
    "\n",
    "from polara.lib.tensor import hooi\n",
    "from polara.lib.sparse import tensor_outer_at\n",
    "from polara.evaluation.pipelines import random_grid\n",
    "\n",
    "from sa_hooi import sa_hooi, form_attention_matrix, get_scaling_weights, generate_position_projector\n",
    "\n",
    "from scipy.sparse import csr_matrix, coo_matrix, diags\n",
    "from scipy.sparse.linalg import norm, svds\n",
    "from scipy.linalg import solve_triangular, sqrtm\n",
    "\n",
    "from IPython.utils import io"
   ]
  },
  {
   "cell_type": "code",
   "execution_count": 2,
   "id": "f7096374",
   "metadata": {
    "ExecuteTime": {
     "end_time": "2022-09-29T13:16:43.122087Z",
     "start_time": "2022-09-29T13:16:43.097002Z"
    },
    "code_folding": [
     0
    ]
   },
   "outputs": [],
   "source": [
    "# Utils\n",
    "def model_evaluate(recommended_items, holdout, holdout_description, alpha=3, topn=10, dcg=False):\n",
    "    itemid = holdout_description['items']\n",
    "    rateid = holdout_description['feedback']\n",
    "    if alpha == None:\n",
    "        alpha = np.median(holdout[rateid].unique())\n",
    "    n_test_users = recommended_items.shape[0]\n",
    "    holdout_items = holdout[itemid].values\n",
    "    assert recommended_items.shape[0] == len(holdout_items), f\"{recommended_items.shape} != {holdout_items.shape}\"\n",
    "    \n",
    "    hits_mask = recommended_items[:, :topn] == holdout_items.reshape(-1, 1)\n",
    "    pos_mask = (holdout[rateid] >= alpha).values\n",
    "    neg_mask = (holdout[rateid] < alpha).values\n",
    "    \n",
    "    # HR calculation\n",
    "    #hr = np.sum(hits_mask.any(axis=1)) / n_test_users\n",
    "    hr_pos = np.sum(hits_mask[pos_mask].any(axis=1)) / n_test_users\n",
    "    hr_neg = np.sum(hits_mask[neg_mask].any(axis=1)) / n_test_users\n",
    "    hr = hr_pos + hr_neg\n",
    "    \n",
    "    # MRR calculation\n",
    "    hit_rank = np.where(hits_mask)[1] + 1.0\n",
    "    mrr = np.sum(1 / hit_rank) / n_test_users\n",
    "    pos_hit_rank = np.where(hits_mask[pos_mask])[1] + 1.0\n",
    "    mrr_pos = np.sum(1 / pos_hit_rank) / n_test_users\n",
    "    neg_hit_rank = np.where(hits_mask[neg_mask])[1] + 1.0\n",
    "    mrr_neg = np.sum(1 / neg_hit_rank) / n_test_users\n",
    "    \n",
    "    # Matthews correlation\n",
    "    TP = np.sum(hits_mask[pos_mask]) # + \n",
    "    FP = np.sum(hits_mask[neg_mask]) # +\n",
    "    cond = (hits_mask.sum(axis = 1) == 0)\n",
    "    FN = np.sum(cond[pos_mask])\n",
    "    TN = np.sum(cond[neg_mask])\n",
    "    N = TP+FP+TN+FN\n",
    "    S = (TP+FN)/N\n",
    "    P = (TP+FP)/N\n",
    "    C = (TP/N - S*P) / np.sqrt(P*S*(1-P)*(1-S))\n",
    "    \n",
    "    # DCG calculation\n",
    "    if dcg:\n",
    "        pos_hit_rank = np.where(hits_mask[pos_mask])[1] + 1.0\n",
    "        neg_hit_rank = np.where(hits_mask[neg_mask])[1] + 1.0\n",
    "        ndcg = np.mean(1 / np.log2(pos_hit_rank+1))\n",
    "        ndcl = np.mean(1 / np.log2(neg_hit_rank+1))\n",
    "    \n",
    "    # coverage calculation\n",
    "    n_items = holdout_description['n_items']\n",
    "    cov = np.unique(recommended_items).size / n_items\n",
    "    if dcg:\n",
    "        return hr, hr_pos, hr_neg, mrr, mrr_pos, mrr_neg, cov, C, ndcg, ndcl\n",
    "    else:\n",
    "        return hr, hr_pos, hr_neg, mrr, mrr_pos, mrr_neg, cov, C\n",
    "\n",
    "def make_prediction(tf_scores, holdout, data_description):\n",
    "    for n in [5, 10, 20]:\n",
    "        tf_recs = topn_recommendations(tf_scores, n)\n",
    "        hr, hr_pos, hr_neg, mrr, mrr_pos, mrr_neg, cov, C = model_evaluate(tf_recs, holdout, data_description, topn=n)\n",
    "        if n == 10:\n",
    "            mrr10 = mrr\n",
    "            hr10 = hr\n",
    "            c10 = C\n",
    "        print(f\"HR@{n} = {hr:.4f}, MRR@{n} = {mrr:.4f}, Coverage@{n} = {cov:.4f}\")\n",
    "        print(f\"HR_pos@{n} = {hr_pos:.4f}, HR_neg@{n} = {hr_neg:.4f}\")\n",
    "        print(f\"MRR_pos@{n} = {mrr_pos:.4f}, MRR_neg@{n} = {mrr_neg:.4f}\")\n",
    "        print(f\"Matthews@{n} = {C:.4f}\")\n",
    "        print(\"-------------------------------------\")\n",
    "    \n",
    "    return mrr10, hr10, c10\n",
    "\n",
    "def valid_mlrank(mlrank):\n",
    "    '''\n",
    "    Only allow ranks that are suitable for truncated SVD computations\n",
    "    on unfolded compressed tensor (the result of ttm product in HOOI).\n",
    "    '''\n",
    "    #s, r1, r2, r3 = mlrank\n",
    "    s, r1, r3 = mlrank\n",
    "    r2 = r1\n",
    "    #print(s, r1, r2, r3)\n",
    "    return r1*r2 > r3 and r1*r3 > r2 and r2*r3 > r1"
   ]
  },
  {
   "cell_type": "markdown",
   "id": "2fd76395",
   "metadata": {},
   "source": [
    "## Preprocess data"
   ]
  },
  {
   "cell_type": "code",
   "execution_count": 3,
   "id": "54815216",
   "metadata": {
    "ExecuteTime": {
     "end_time": "2022-09-29T13:17:01.668558Z",
     "start_time": "2022-09-29T13:17:01.658561Z"
    },
    "code_folding": [
     0
    ]
   },
   "outputs": [],
   "source": [
    "def full_preproccessing(data = None):\n",
    "    if (data is None):\n",
    "        data = get_movielens_data(\"ml-1m.zip\", include_time=True)\n",
    "    test_timepoint = data['timestamp'].quantile(\n",
    "    q=0.8, interpolation='nearest'\n",
    "    )\n",
    "    \n",
    "    labels, levels = pd.factorize(data.movieid)\n",
    "    data.movieid = labels\n",
    "\n",
    "    labels, levels = pd.factorize(data.userid)\n",
    "    data.userid = labels\n",
    "    \n",
    "#     if (data[\"rating\"].nunique() > 5):\n",
    "#         data[\"rating\"] = data[\"rating\"] * 2\n",
    "        \n",
    "    data[\"rating\"] = data[\"rating\"].astype(int)\n",
    "\n",
    "    test_data_ = data.query('timestamp >= @test_timepoint')\n",
    "    train_data_ = data.query(\n",
    "    'userid not in @test_data_.userid.unique() and timestamp < @test_timepoint'\n",
    "    )\n",
    "    \n",
    "    training, data_index = transform_indices(train_data_.copy(), 'userid', 'movieid')\n",
    "    test_data = reindex(test_data_, data_index['items'])\n",
    "\n",
    "    testset_, holdout_ = leave_one_out(\n",
    "    test_data, target='timestamp', sample_top=True, random_state=0\n",
    "    )\n",
    "    testset_valid_, holdout_valid_ = leave_one_out(\n",
    "        testset_, target='timestamp', sample_top=True, random_state=0\n",
    "    )\n",
    "\n",
    "    test_users_val = np.intersect1d(testset_valid_.userid.unique(), holdout_valid_.userid.unique())\n",
    "    testset_valid = testset_valid_.query('userid in @test_users_val').sort_values('userid')\n",
    "    holdout_valid = holdout_valid_.query('userid in @test_users_val').sort_values('userid')\n",
    "\n",
    "    test_users = np.intersect1d(testset_.userid.unique(), holdout_.userid.unique())\n",
    "    testset = testset_.query('userid in @test_users').sort_values('userid')\n",
    "    holdout = holdout_.query('userid in @test_users').sort_values('userid')\n",
    "    \n",
    "    assert holdout_valid.set_index('userid')['timestamp'].ge(\n",
    "        testset_valid\n",
    "        .groupby('userid')\n",
    "        ['timestamp'].max()\n",
    "    ).all()\n",
    "\n",
    "    data_description = dict(\n",
    "        users = data_index['users'].name,\n",
    "        items = data_index['items'].name,\n",
    "        feedback = 'rating',\n",
    "        n_users = len(data_index['users']),\n",
    "        n_items = len(data_index['items']),\n",
    "        n_ratings = training['rating'].nunique(),\n",
    "        min_rating = training['rating'].min(),\n",
    "        test_users = holdout_valid[data_index['users'].name].drop_duplicates().values, # NEW\n",
    "        n_test_users = holdout[data_index['users'].name].nunique() # NEW CHECK\n",
    "    )\n",
    "\n",
    "    return training, testset_valid, holdout_valid, testset, holdout, data_description, data_index"
   ]
  },
  {
   "cell_type": "code",
   "execution_count": 4,
   "id": "5df9d793",
   "metadata": {
    "ExecuteTime": {
     "end_time": "2022-09-29T13:17:02.914105Z",
     "start_time": "2022-09-29T13:17:02.119469Z"
    }
   },
   "outputs": [
    {
     "name": "stdout",
     "output_type": "stream",
     "text": [
      "Filtered 177 invalid observations.\n"
     ]
    }
   ],
   "source": [
    "training, testset_valid, holdout_valid, testset, holdout, data_description, data_index = full_preproccessing()"
   ]
  },
  {
   "cell_type": "markdown",
   "id": "0dba7fe1",
   "metadata": {},
   "source": [
    "## Model"
   ]
  },
  {
   "cell_type": "code",
   "execution_count": 5,
   "id": "6eaacb66",
   "metadata": {
    "ExecuteTime": {
     "end_time": "2022-09-29T13:17:05.502823Z",
     "start_time": "2022-09-29T13:17:05.489825Z"
    }
   },
   "outputs": [],
   "source": [
    "class MVDataset(Dataset):\n",
    "    def __init__(self, data, data_description):\n",
    "        useridx = data[data_description['users']].values\n",
    "        itemidx = data[data_description['items']].values\n",
    "        feedbackidx = data[data_description['feedback']].values\n",
    "        values = np.ones(len(itemidx), dtype=np.float32)\n",
    "        \n",
    "        self.tensor = torch.sparse_coo_tensor(np.array([useridx, itemidx, feedbackidx-1]), torch.tensor(values),\n",
    "                                            size=torch.Size((data_description[\"n_users\"], data_description[\"n_items\"], data_description['n_ratings'])))\n",
    "        self.matrix = torch.sparse_coo_tensor(np.array([useridx, itemidx]), torch.tensor(values),\n",
    "                                      size=torch.Size((data_description[\"n_users\"], data_description[\"n_items\"])), dtype=torch.float32)\n",
    "\n",
    "    def __len__(self):\n",
    "        return self.tensor.shape[0]\n",
    "\n",
    "    def __getitem__(self, idx):\n",
    "        return self.tensor[idx], self.matrix[idx]"
   ]
  },
  {
   "cell_type": "code",
   "execution_count": 6,
   "id": "830ba43d",
   "metadata": {
    "ExecuteTime": {
     "end_time": "2022-09-29T13:17:06.099423Z",
     "start_time": "2022-09-29T13:17:06.033423Z"
    }
   },
   "outputs": [],
   "source": [
    "train_dataset = MVDataset(training, data_description)\n",
    "train_dataloader = DataLoader(train_dataset, batch_size=16, shuffle=True)"
   ]
  },
  {
   "cell_type": "code",
   "execution_count": 7,
   "id": "3ec8553c",
   "metadata": {
    "ExecuteTime": {
     "end_time": "2022-09-29T13:17:07.691493Z",
     "start_time": "2022-09-29T13:17:07.125784Z"
    }
   },
   "outputs": [],
   "source": [
    "device = torch.device('cuda:0' if torch.cuda.is_available() else 'cpu')"
   ]
  },
  {
   "cell_type": "code",
   "execution_count": 14,
   "id": "2e847ab6",
   "metadata": {
    "ExecuteTime": {
     "end_time": "2022-09-29T13:41:52.574127Z",
     "start_time": "2022-09-29T13:41:49.629420Z"
    }
   },
   "outputs": [],
   "source": [
    "class AE(nn.Module):\n",
    "    def __init__(self, n_items, n_ratings, hid1, hid2, hid3):\n",
    "        super(AE, self).__init__()\n",
    "        self.V = nn.Linear(n_items, hid1)\n",
    "        self.VT = nn.Linear(hid1, n_items)\n",
    "        self.W = nn.Linear(n_ratings, hid3)\n",
    "        self.WT = nn.Linear(hid3, n_ratings)\n",
    "#         self.L = nn.Linear(n_ratings, hid2)\n",
    "#         self.Linv = nn.Linear(hid2, n_ratings)\n",
    "        self.vec = nn.Linear(n_ratings, 1)\n",
    "#         self.relu = nn.ReLU()\n",
    "        \n",
    "    def forward(self, x):\n",
    "        # encode\n",
    "#         x = torch.transpose(self.V(torch.transpose(self.W(self.L(x)), -1, -2)), -1, -2)\n",
    "        x = torch.transpose(self.V(torch.transpose(self.W(x), -1, -2)), -1, -2)\n",
    "        # decode\n",
    "#         output = torch.transpose(self.VT(torch.transpose(self.Linv(self.WT(x)), -1, -2)), -1, -2)\n",
    "        output = torch.transpose(self.VT(torch.transpose(self.WT(x), -1, -2)), -1, -2)\n",
    "#         print(output.shape)\n",
    "        # vec\n",
    "        output = self.vec(output).squeeze(-1)\n",
    "        return output\n",
    "\n",
    "ae = AE(data_description['n_items'], data_description['n_ratings'], 100, 50, 20).to(device)\n",
    "criterion = nn.BCEWithLogitsLoss().to(device)\n",
    "optimizer = optim.Adam(ae.parameters())"
   ]
  },
  {
   "cell_type": "code",
   "execution_count": 15,
   "id": "6311702f",
   "metadata": {
    "ExecuteTime": {
     "end_time": "2022-09-29T13:59:55.854003Z",
     "start_time": "2022-09-29T13:41:55.484556Z"
    },
    "scrolled": true
   },
   "outputs": [
    {
     "name": "stdout",
     "output_type": "stream",
     "text": [
      "epoch: 1 loss: 0.4140553976712602\n",
      "epoch: 2 loss: 0.31763626350445695\n",
      "epoch: 3 loss: 0.2634862016760901\n",
      "epoch: 4 loss: 0.22943014911051546\n",
      "epoch: 5 loss: 0.20271022941512562\n",
      "epoch: 6 loss: 0.17864976538701005\n",
      "epoch: 7 loss: 0.15892916806181717\n",
      "epoch: 8 loss: 0.14224362641238095\n",
      "epoch: 9 loss: 0.12650025024842682\n",
      "epoch: 10 loss: 0.10822111435150833\n",
      "epoch: 11 loss: 0.0960387433791875\n",
      "epoch: 12 loss: 0.08489581057976248\n",
      "epoch: 13 loss: 0.07388198509644926\n",
      "epoch: 14 loss: 0.06669347265853864\n",
      "epoch: 15 loss: 0.06070153035697866\n",
      "epoch: 16 loss: 0.056337652553556564\n",
      "epoch: 17 loss: 0.053256068169400934\n",
      "epoch: 18 loss: 0.05086023255847813\n",
      "epoch: 19 loss: 0.04934638272622105\n",
      "epoch: 20 loss: 0.04827419609138359\n",
      "epoch: 21 loss: 0.046956763041209194\n",
      "epoch: 22 loss: 0.045898484854439224\n",
      "epoch: 23 loss: 0.04492983293862602\n",
      "epoch: 24 loss: 0.0441970450503661\n",
      "epoch: 25 loss: 0.04327204038671563\n",
      "epoch: 26 loss: 0.042602756043219385\n",
      "epoch: 27 loss: 0.04231119254945816\n",
      "epoch: 28 loss: 0.0409845147170266\n",
      "epoch: 29 loss: 0.03996918694384759\n",
      "epoch: 30 loss: 0.039304585946019224\n",
      "epoch: 31 loss: 0.03848247098202786\n",
      "epoch: 32 loss: 0.038280281827746704\n",
      "epoch: 33 loss: 0.0376997719613019\n",
      "epoch: 34 loss: 0.03695205660460147\n",
      "epoch: 35 loss: 0.03660351616654838\n",
      "epoch: 36 loss: 0.03544767830199963\n",
      "epoch: 37 loss: 0.03488209351813525\n",
      "epoch: 38 loss: 0.03405556578035658\n",
      "epoch: 39 loss: 0.033454453628440475\n",
      "epoch: 40 loss: 0.033120772490898766\n",
      "epoch: 41 loss: 0.033124347792917425\n",
      "epoch: 42 loss: 0.03275619181438109\n",
      "epoch: 43 loss: 0.032379453604140976\n",
      "epoch: 44 loss: 0.03199721431910769\n",
      "epoch: 45 loss: 0.031362429212374185\n",
      "epoch: 46 loss: 0.030702798773817132\n",
      "epoch: 47 loss: 0.030246664714137936\n",
      "epoch: 48 loss: 0.029989353600847587\n",
      "epoch: 49 loss: 0.029906842962242244\n",
      "epoch: 50 loss: 0.029736731156065\n",
      "epoch: 51 loss: 0.029350848512703115\n",
      "epoch: 52 loss: 0.028964439637205575\n",
      "epoch: 53 loss: 0.028639436772700106\n",
      "epoch: 54 loss: 0.02869055008564549\n",
      "epoch: 55 loss: 0.028385363721501515\n",
      "epoch: 56 loss: 0.027978353662772126\n",
      "epoch: 57 loss: 0.027340936757038147\n",
      "epoch: 58 loss: 0.026762597402383327\n",
      "epoch: 59 loss: 0.0264804173114427\n",
      "epoch: 60 loss: 0.026435745273078425\n",
      "epoch: 61 loss: 0.026511019849207965\n",
      "epoch: 62 loss: 0.026787383743467626\n",
      "epoch: 63 loss: 0.026804873810502026\n",
      "epoch: 64 loss: 0.0261584281370267\n",
      "epoch: 65 loss: 0.02580910236557269\n",
      "epoch: 66 loss: 0.025269941555873286\n",
      "epoch: 67 loss: 0.025056839927556585\n",
      "epoch: 68 loss: 0.025044729015772486\n",
      "epoch: 69 loss: 0.024773471625975232\n",
      "epoch: 70 loss: 0.02482304223272461\n",
      "epoch: 71 loss: 0.024946796226451236\n",
      "epoch: 72 loss: 0.025717302225530148\n",
      "epoch: 73 loss: 0.025085326081860378\n",
      "epoch: 74 loss: 0.024557270747975687\n",
      "epoch: 75 loss: 0.02385741261563051\n",
      "epoch: 76 loss: 0.02320668985892771\n",
      "epoch: 77 loss: 0.023089616140873914\n",
      "epoch: 78 loss: 0.022886756204124472\n",
      "epoch: 79 loss: 0.02317501940809832\n",
      "epoch: 80 loss: 0.023484046675599692\n",
      "epoch: 81 loss: 0.023312345426180835\n",
      "epoch: 82 loss: 0.022958091114846507\n",
      "epoch: 83 loss: 0.02302296327127053\n",
      "epoch: 84 loss: 0.025736516676424594\n",
      "epoch: 85 loss: 0.023032293034096558\n",
      "epoch: 86 loss: 0.022217703529734737\n",
      "epoch: 87 loss: 0.02142356148805846\n",
      "epoch: 88 loss: 0.020953281548864833\n",
      "epoch: 89 loss: 0.02103772936981827\n",
      "epoch: 90 loss: 0.0214375917981152\n",
      "epoch: 91 loss: 0.021795780324701513\n",
      "epoch: 92 loss: 0.022071270627921885\n",
      "epoch: 93 loss: 0.0222690918270066\n",
      "epoch: 94 loss: 0.022244548264625814\n",
      "epoch: 95 loss: 0.0218673168894336\n",
      "epoch: 96 loss: 0.021462042753197505\n",
      "epoch: 97 loss: 0.021909480223829828\n",
      "epoch: 98 loss: 0.020843824887934247\n",
      "epoch: 99 loss: 0.02027996364032173\n",
      "epoch: 100 loss: 0.020113791925100127\n"
     ]
    }
   ],
   "source": [
    "# Training the AE\n",
    "n_epochs = 100\n",
    "history = []\n",
    "\n",
    "for epoch in range(1, n_epochs + 1):   \n",
    "    train_loss = 0\n",
    "    for batch in train_dataloader:\n",
    "        optimizer.zero_grad()\n",
    "        \n",
    "        user_tensor, user_matrix = batch\n",
    "        \n",
    "        input_tensor = user_tensor.to_dense().to(device)\n",
    "        target = user_matrix.to_dense().to(device)\n",
    "        \n",
    "        output = ae(input_tensor)\n",
    "        target.require_grad = False # we don't use it in training\n",
    "\n",
    "        loss = criterion(output, target)\n",
    "        loss.backward()\n",
    "        optimizer.step()\n",
    "        train_loss += loss.data.item()\n",
    "        \n",
    "    history.append(train_loss / len(train_dataloader))\n",
    "        \n",
    "    print('epoch: '+str(epoch)+' loss: '+str(train_loss / len(train_dataloader)))"
   ]
  },
  {
   "cell_type": "code",
   "execution_count": 16,
   "id": "efe35f26",
   "metadata": {
    "ExecuteTime": {
     "end_time": "2022-09-29T14:00:16.899055Z",
     "start_time": "2022-09-29T14:00:16.786057Z"
    }
   },
   "outputs": [
    {
     "data": {
      "text/plain": [
       "[<matplotlib.lines.Line2D at 0x1f292b001c0>]"
      ]
     },
     "execution_count": 16,
     "metadata": {},
     "output_type": "execute_result"
    },
    {
     "data": {
      "image/png": "[encoded data removed]",
      "text/plain": [
       "<Figure size 432x288 with 1 Axes>"
      ]
     },
     "metadata": {
      "needs_background": "light"
     },
     "output_type": "display_data"
    }
   ],
   "source": [
    "plt.plot(history)"
   ]
  },
  {
   "cell_type": "code",
   "execution_count": 17,
   "id": "8d5c66a8",
   "metadata": {
    "ExecuteTime": {
     "end_time": "2022-09-29T14:00:23.311957Z",
     "start_time": "2022-09-29T14:00:19.395979Z"
    }
   },
   "outputs": [
    {
     "name": "stdout",
     "output_type": "stream",
     "text": [
      "test loss: 0.25729891470615424\n"
     ]
    }
   ],
   "source": [
    "# Testing the AE\n",
    "test_loss = 0\n",
    "\n",
    "for user in testset.userid.unique():\n",
    "    itemidx = testset.loc[testset.userid == user, data_description['items']].values\n",
    "    feedbackidx = testset.loc[testset.userid == user, data_description['feedback']].values\n",
    "    values = np.ones(len(itemidx), dtype=np.float32)\n",
    "\n",
    "    user_tensor_test = torch.sparse_coo_tensor(np.array([itemidx, feedbackidx-1]), torch.tensor(values),\n",
    "                              size=torch.Size((data_description[\"n_items\"], data_description['n_ratings']))).to_dense().to(device).unsqueeze(0)\n",
    "    target = torch.sparse_coo_tensor(np.array([itemidx]), torch.tensor(values),\n",
    "                              size=torch.Size((data_description[\"n_items\"], ))).to_dense().to(device).unsqueeze(0)\n",
    "    \n",
    "    output = ae(user_tensor_test)\n",
    "    target.require_grad = False\n",
    "\n",
    "    loss = criterion(output, target)\n",
    "    test_loss += loss.data.item()\n",
    "    \n",
    "print('test loss: '+str(test_loss / testset.userid.nunique()))"
   ]
  },
  {
   "cell_type": "code",
   "execution_count": 18,
   "id": "9f7f2dd8",
   "metadata": {
    "ExecuteTime": {
     "end_time": "2022-09-29T14:00:28.660872Z",
     "start_time": "2022-09-29T14:00:25.238874Z"
    }
   },
   "outputs": [],
   "source": [
    "scores = torch.zeros((len(testset.userid.unique()), data_description['n_items']))\n",
    "for i, user in enumerate(testset.userid.unique()):\n",
    "    itemidx = testset.loc[testset.userid == user, data_description['items']].values\n",
    "    feedbackidx = testset.loc[testset.userid == user, data_description['feedback']].values\n",
    "    values = np.ones(len(itemidx), dtype=np.float32)\n",
    "\n",
    "    user_matrix_test = torch.sparse_coo_tensor(np.array([itemidx, feedbackidx-1]), torch.tensor(values),\n",
    "                              size=torch.Size((data_description[\"n_items\"], data_description['n_ratings']))).to_dense().unsqueeze(0).to(device)\n",
    "    \n",
    "    output = ae(user_matrix_test)\n",
    "    scores[i] = output[0].T\n",
    "\n",
    "        \n",
    "scores = scores.detach().numpy()"
   ]
  },
  {
   "cell_type": "code",
   "execution_count": 19,
   "id": "971d12e7",
   "metadata": {
    "ExecuteTime": {
     "end_time": "2022-09-29T14:00:30.231084Z",
     "start_time": "2022-09-29T14:00:30.022995Z"
    }
   },
   "outputs": [
    {
     "name": "stdout",
     "output_type": "stream",
     "text": [
      "HR@5 = 0.0138, MRR@5 = 0.0068, Coverage@5 = 0.5340\n",
      "HR_pos@5 = 0.0115, HR_neg@5 = 0.0023\n",
      "MRR_pos@5 = 0.0059, MRR_neg@5 = 0.0009\n",
      "Matthews@5 = 0.0024\n",
      "-------------------------------------\n",
      "HR@10 = 0.0247, MRR@10 = 0.0082, Coverage@10 = 0.6796\n",
      "HR_pos@10 = 0.0207, HR_neg@10 = 0.0040\n",
      "MRR_pos@10 = 0.0071, MRR_neg@10 = 0.0011\n",
      "Matthews@10 = 0.0048\n",
      "-------------------------------------\n",
      "HR@20 = 0.0500, MRR@20 = 0.0100, Coverage@20 = 0.7786\n",
      "HR_pos@20 = 0.0420, HR_neg@20 = 0.0081\n",
      "MRR_pos@20 = 0.0086, MRR_neg@20 = 0.0014\n",
      "Matthews@20 = 0.0081\n",
      "-------------------------------------\n"
     ]
    },
    {
     "data": {
      "text/plain": [
       "(0.008229734293564082, 0.024726854514088556, 0.004805383786448424)"
      ]
     },
     "execution_count": 19,
     "metadata": {},
     "output_type": "execute_result"
    }
   ],
   "source": [
    "# our\n",
    "downvote_seen_items(scores, testset, data_description)\n",
    "make_prediction(scores, holdout, data_description)"
   ]
  },
  {
   "cell_type": "markdown",
   "id": "398b2974",
   "metadata": {},
   "source": [
    "## Baseline"
   ]
  },
  {
   "cell_type": "code",
   "execution_count": 5,
   "id": "1eae81be",
   "metadata": {
    "ExecuteTime": {
     "end_time": "2022-09-28T18:09:08.316026Z",
     "start_time": "2022-09-28T18:09:08.282026Z"
    }
   },
   "outputs": [],
   "source": [
    "useridx = training[data_description['users']].values\n",
    "itemidx = training[data_description['items']].values\n",
    "# feedbackidx = training[data_description['feedback']].values\n",
    "values = np.ones(len(itemidx))"
   ]
  },
  {
   "cell_type": "code",
   "execution_count": 6,
   "id": "6ca6f61b",
   "metadata": {
    "ExecuteTime": {
     "end_time": "2022-09-28T18:09:09.015118Z",
     "start_time": "2022-09-28T18:09:08.942082Z"
    },
    "code_folding": []
   },
   "outputs": [],
   "source": [
    "user_tensor_train = torch.sparse_coo_tensor(np.array([useridx, itemidx]), torch.tensor(values),\n",
    "                                      size=torch.Size((data_description[\"n_users\"], data_description[\"n_items\"])), dtype=torch.float32)"
   ]
  },
  {
   "cell_type": "code",
   "execution_count": 7,
   "id": "3d3841dc",
   "metadata": {
    "ExecuteTime": {
     "end_time": "2022-09-28T18:09:09.405511Z",
     "start_time": "2022-09-28T18:09:09.387561Z"
    }
   },
   "outputs": [],
   "source": [
    "class SimpleDataset(Dataset):\n",
    "    def __init__(self, data):\n",
    "        self.data = data\n",
    "\n",
    "    def __len__(self):\n",
    "        return self.data.shape[0]\n",
    "\n",
    "    def __getitem__(self, idx):\n",
    "        return self.data[idx]"
   ]
  },
  {
   "cell_type": "code",
   "execution_count": 8,
   "id": "ba89d5a7",
   "metadata": {
    "ExecuteTime": {
     "end_time": "2022-09-28T18:09:10.449673Z",
     "start_time": "2022-09-28T18:09:10.427415Z"
    }
   },
   "outputs": [],
   "source": [
    "train_dataset = SimpleDataset(user_tensor_train)\n",
    "train_dataloader = DataLoader(train_dataset, batch_size=16, shuffle=True)"
   ]
  },
  {
   "cell_type": "code",
   "execution_count": 22,
   "id": "6f2192a6",
   "metadata": {
    "ExecuteTime": {
     "end_time": "2022-09-28T18:19:58.153732Z",
     "start_time": "2022-09-28T18:19:58.112247Z"
    }
   },
   "outputs": [],
   "source": [
    "class baseAE(nn.Module):\n",
    "    def __init__(self, n_items, hid):\n",
    "        super(baseAE, self).__init__()\n",
    "        self.V = nn.Linear(n_items, hid)\n",
    "        self.VT = nn.Linear(hid, n_items)\n",
    "        self.relu = nn.ReLU()\n",
    "\n",
    "    def forward(self, x):\n",
    "        # encode\n",
    "        x = self.V(x)\n",
    "        # decode\n",
    "        output = self.VT(x)\n",
    "        output = self.relu(output)\n",
    "        return output\n",
    "\n",
    "bae = baseAE(data_description['n_items'], 200).to(device)\n",
    "criterion = nn.BCEWithLogitsLoss().to(device)\n",
    "optimizer = optim.Adam(bae.parameters())"
   ]
  },
  {
   "cell_type": "code",
   "execution_count": 23,
   "id": "b37bb4ff",
   "metadata": {
    "ExecuteTime": {
     "end_time": "2022-09-28T18:20:11.179886Z",
     "start_time": "2022-09-28T18:20:03.699117Z"
    },
    "scrolled": true
   },
   "outputs": [
    {
     "name": "stdout",
     "output_type": "stream",
     "text": [
      "epoch: 1 loss: 0.6932113050075059\n"
     ]
    },
    {
     "ename": "KeyboardInterrupt",
     "evalue": "",
     "output_type": "error",
     "traceback": [
      "\u001b[1;31m---------------------------------------------------------------------------\u001b[0m",
      "\u001b[1;31mKeyboardInterrupt\u001b[0m                         Traceback (most recent call last)",
      "Input \u001b[1;32mIn [23]\u001b[0m, in \u001b[0;36m<cell line: 5>\u001b[1;34m()\u001b[0m\n\u001b[0;32m      5\u001b[0m \u001b[38;5;28;01mfor\u001b[39;00m epoch \u001b[38;5;129;01min\u001b[39;00m \u001b[38;5;28mrange\u001b[39m(\u001b[38;5;241m1\u001b[39m, n_epochs \u001b[38;5;241m+\u001b[39m \u001b[38;5;241m1\u001b[39m):   \n\u001b[0;32m      6\u001b[0m     train_loss \u001b[38;5;241m=\u001b[39m \u001b[38;5;241m0\u001b[39m\n\u001b[1;32m----> 7\u001b[0m     \u001b[38;5;28;01mfor\u001b[39;00m user_matrix \u001b[38;5;129;01min\u001b[39;00m train_dataloader:\n\u001b[0;32m      8\u001b[0m         optimizer\u001b[38;5;241m.\u001b[39mzero_grad()\n\u001b[0;32m     10\u001b[0m         input_tensor \u001b[38;5;241m=\u001b[39m user_matrix\u001b[38;5;241m.\u001b[39mto_dense()\u001b[38;5;241m.\u001b[39mto(device)\n",
      "File \u001b[1;32m~\\anaconda3\\lib\\site-packages\\torch\\utils\\data\\dataloader.py:521\u001b[0m, in \u001b[0;36m_BaseDataLoaderIter.__next__\u001b[1;34m(self)\u001b[0m\n\u001b[0;32m    519\u001b[0m \u001b[38;5;28;01mif\u001b[39;00m \u001b[38;5;28mself\u001b[39m\u001b[38;5;241m.\u001b[39m_sampler_iter \u001b[38;5;129;01mis\u001b[39;00m \u001b[38;5;28;01mNone\u001b[39;00m:\n\u001b[0;32m    520\u001b[0m     \u001b[38;5;28mself\u001b[39m\u001b[38;5;241m.\u001b[39m_reset()\n\u001b[1;32m--> 521\u001b[0m data \u001b[38;5;241m=\u001b[39m \u001b[38;5;28;43mself\u001b[39;49m\u001b[38;5;241;43m.\u001b[39;49m\u001b[43m_next_data\u001b[49m\u001b[43m(\u001b[49m\u001b[43m)\u001b[49m\n\u001b[0;32m    522\u001b[0m \u001b[38;5;28mself\u001b[39m\u001b[38;5;241m.\u001b[39m_num_yielded \u001b[38;5;241m+\u001b[39m\u001b[38;5;241m=\u001b[39m \u001b[38;5;241m1\u001b[39m\n\u001b[0;32m    523\u001b[0m \u001b[38;5;28;01mif\u001b[39;00m \u001b[38;5;28mself\u001b[39m\u001b[38;5;241m.\u001b[39m_dataset_kind \u001b[38;5;241m==\u001b[39m _DatasetKind\u001b[38;5;241m.\u001b[39mIterable \u001b[38;5;129;01mand\u001b[39;00m \\\n\u001b[0;32m    524\u001b[0m         \u001b[38;5;28mself\u001b[39m\u001b[38;5;241m.\u001b[39m_IterableDataset_len_called \u001b[38;5;129;01mis\u001b[39;00m \u001b[38;5;129;01mnot\u001b[39;00m \u001b[38;5;28;01mNone\u001b[39;00m \u001b[38;5;129;01mand\u001b[39;00m \\\n\u001b[0;32m    525\u001b[0m         \u001b[38;5;28mself\u001b[39m\u001b[38;5;241m.\u001b[39m_num_yielded \u001b[38;5;241m>\u001b[39m \u001b[38;5;28mself\u001b[39m\u001b[38;5;241m.\u001b[39m_IterableDataset_len_called:\n",
      "File \u001b[1;32m~\\anaconda3\\lib\\site-packages\\torch\\utils\\data\\dataloader.py:561\u001b[0m, in \u001b[0;36m_SingleProcessDataLoaderIter._next_data\u001b[1;34m(self)\u001b[0m\n\u001b[0;32m    559\u001b[0m \u001b[38;5;28;01mdef\u001b[39;00m \u001b[38;5;21m_next_data\u001b[39m(\u001b[38;5;28mself\u001b[39m):\n\u001b[0;32m    560\u001b[0m     index \u001b[38;5;241m=\u001b[39m \u001b[38;5;28mself\u001b[39m\u001b[38;5;241m.\u001b[39m_next_index()  \u001b[38;5;66;03m# may raise StopIteration\u001b[39;00m\n\u001b[1;32m--> 561\u001b[0m     data \u001b[38;5;241m=\u001b[39m \u001b[38;5;28;43mself\u001b[39;49m\u001b[38;5;241;43m.\u001b[39;49m\u001b[43m_dataset_fetcher\u001b[49m\u001b[38;5;241;43m.\u001b[39;49m\u001b[43mfetch\u001b[49m\u001b[43m(\u001b[49m\u001b[43mindex\u001b[49m\u001b[43m)\u001b[49m  \u001b[38;5;66;03m# may raise StopIteration\u001b[39;00m\n\u001b[0;32m    562\u001b[0m     \u001b[38;5;28;01mif\u001b[39;00m \u001b[38;5;28mself\u001b[39m\u001b[38;5;241m.\u001b[39m_pin_memory:\n\u001b[0;32m    563\u001b[0m         data \u001b[38;5;241m=\u001b[39m _utils\u001b[38;5;241m.\u001b[39mpin_memory\u001b[38;5;241m.\u001b[39mpin_memory(data)\n",
      "File \u001b[1;32m~\\anaconda3\\lib\\site-packages\\torch\\utils\\data\\_utils\\fetch.py:49\u001b[0m, in \u001b[0;36m_MapDatasetFetcher.fetch\u001b[1;34m(self, possibly_batched_index)\u001b[0m\n\u001b[0;32m     47\u001b[0m \u001b[38;5;28;01mdef\u001b[39;00m \u001b[38;5;21mfetch\u001b[39m(\u001b[38;5;28mself\u001b[39m, possibly_batched_index):\n\u001b[0;32m     48\u001b[0m     \u001b[38;5;28;01mif\u001b[39;00m \u001b[38;5;28mself\u001b[39m\u001b[38;5;241m.\u001b[39mauto_collation:\n\u001b[1;32m---> 49\u001b[0m         data \u001b[38;5;241m=\u001b[39m [\u001b[38;5;28mself\u001b[39m\u001b[38;5;241m.\u001b[39mdataset[idx] \u001b[38;5;28;01mfor\u001b[39;00m idx \u001b[38;5;129;01min\u001b[39;00m possibly_batched_index]\n\u001b[0;32m     50\u001b[0m     \u001b[38;5;28;01melse\u001b[39;00m:\n\u001b[0;32m     51\u001b[0m         data \u001b[38;5;241m=\u001b[39m \u001b[38;5;28mself\u001b[39m\u001b[38;5;241m.\u001b[39mdataset[possibly_batched_index]\n",
      "File \u001b[1;32m~\\anaconda3\\lib\\site-packages\\torch\\utils\\data\\_utils\\fetch.py:49\u001b[0m, in \u001b[0;36m<listcomp>\u001b[1;34m(.0)\u001b[0m\n\u001b[0;32m     47\u001b[0m \u001b[38;5;28;01mdef\u001b[39;00m \u001b[38;5;21mfetch\u001b[39m(\u001b[38;5;28mself\u001b[39m, possibly_batched_index):\n\u001b[0;32m     48\u001b[0m     \u001b[38;5;28;01mif\u001b[39;00m \u001b[38;5;28mself\u001b[39m\u001b[38;5;241m.\u001b[39mauto_collation:\n\u001b[1;32m---> 49\u001b[0m         data \u001b[38;5;241m=\u001b[39m [\u001b[38;5;28;43mself\u001b[39;49m\u001b[38;5;241;43m.\u001b[39;49m\u001b[43mdataset\u001b[49m\u001b[43m[\u001b[49m\u001b[43midx\u001b[49m\u001b[43m]\u001b[49m \u001b[38;5;28;01mfor\u001b[39;00m idx \u001b[38;5;129;01min\u001b[39;00m possibly_batched_index]\n\u001b[0;32m     50\u001b[0m     \u001b[38;5;28;01melse\u001b[39;00m:\n\u001b[0;32m     51\u001b[0m         data \u001b[38;5;241m=\u001b[39m \u001b[38;5;28mself\u001b[39m\u001b[38;5;241m.\u001b[39mdataset[possibly_batched_index]\n",
      "\u001b[1;31mKeyboardInterrupt\u001b[0m: "
     ]
    }
   ],
   "source": [
    "# Training the simpleAE\n",
    "n_epochs = 100\n",
    "history = []\n",
    "\n",
    "for epoch in range(1, n_epochs + 1):   \n",
    "    train_loss = 0\n",
    "    for user_matrix in train_dataloader:\n",
    "        optimizer.zero_grad()\n",
    "        \n",
    "        input_tensor = user_matrix.to_dense().to(device)\n",
    "        \n",
    "        target = input_tensor.clone()\n",
    "        output = bae(input_tensor)\n",
    "        target.require_grad = False # we don't use it in training\n",
    "\n",
    "        loss = criterion(output, target)\n",
    "        loss.backward()\n",
    "        optimizer.step()\n",
    "        train_loss += loss.data.item()\n",
    "        \n",
    "    history.append(train_loss / len(train_dataloader))\n",
    "        \n",
    "    print('epoch: '+str(epoch)+' loss: '+str(train_loss / len(train_dataloader)))"
   ]
  },
  {
   "cell_type": "code",
   "execution_count": 18,
   "id": "08890705",
   "metadata": {
    "ExecuteTime": {
     "end_time": "2022-09-28T18:19:03.007348Z",
     "start_time": "2022-09-28T18:19:02.568292Z"
    }
   },
   "outputs": [
    {
     "data": {
      "text/plain": [
       "[<matplotlib.lines.Line2D at 0x2641f820dc0>]"
      ]
     },
     "execution_count": 18,
     "metadata": {},
     "output_type": "execute_result"
    },
    {
     "data": {
      "image/png": "[encoded data removed]",
      "text/plain": [
       "<Figure size 432x288 with 1 Axes>"
      ]
     },
     "metadata": {
      "needs_background": "light"
     },
     "output_type": "display_data"
    }
   ],
   "source": [
    "plt.plot(history)"
   ]
  },
  {
   "cell_type": "code",
   "execution_count": 19,
   "id": "c8a743e8",
   "metadata": {
    "ExecuteTime": {
     "end_time": "2022-09-28T18:19:08.308366Z",
     "start_time": "2022-09-28T18:19:05.379722Z"
    }
   },
   "outputs": [],
   "source": [
    "scores = torch.zeros((len(testset.userid.unique()), data_description['n_items']))\n",
    "for i, user in enumerate(testset.userid.unique()):\n",
    "    itemidx = testset.loc[testset.userid == user, data_description['items']].values\n",
    "    feedbackidx = testset.loc[testset.userid == user, data_description['feedback']].values\n",
    "    values = np.ones(len(itemidx), dtype=np.float32)\n",
    "\n",
    "    user_matrix_test = torch.sparse_coo_tensor(np.array([itemidx]), torch.tensor(values),\n",
    "                              size=torch.Size((data_description[\"n_items\"], ))).to_dense().unsqueeze(0).to(device)\n",
    "    \n",
    "    output = bae(user_matrix_test)\n",
    "    scores[i] = output[0].T\n",
    "\n",
    "        \n",
    "scores = scores.detach().numpy()"
   ]
  },
  {
   "cell_type": "code",
   "execution_count": 24,
   "id": "3085410c",
   "metadata": {
    "ExecuteTime": {
     "end_time": "2022-09-28T18:28:36.052656Z",
     "start_time": "2022-09-28T18:28:35.817014Z"
    }
   },
   "outputs": [
    {
     "name": "stdout",
     "output_type": "stream",
     "text": [
      "HR@5 = 0.0242, MRR@5 = 0.0143, Coverage@5 = 0.5042\n",
      "HR_pos@5 = 0.0213, HR_neg@5 = 0.0029\n",
      "MRR_pos@5 = 0.0121, MRR_neg@5 = 0.0022\n",
      "Matthews@5 = 0.0229\n",
      "-------------------------------------\n",
      "HR@10 = 0.0385, MRR@10 = 0.0161, Coverage@10 = 0.6283\n",
      "HR_pos@10 = 0.0334, HR_neg@10 = 0.0052\n",
      "MRR_pos@10 = 0.0136, MRR_neg@10 = 0.0025\n",
      "Matthews@10 = 0.0211\n",
      "-------------------------------------\n",
      "HR@20 = 0.0696, MRR@20 = 0.0182, Coverage@20 = 0.7270\n",
      "HR_pos@20 = 0.0581, HR_neg@20 = 0.0115\n",
      "MRR_pos@20 = 0.0153, MRR_neg@20 = 0.0029\n",
      "Matthews@20 = 0.0065\n",
      "-------------------------------------\n"
     ]
    },
    {
     "data": {
      "text/plain": [
       "(0.016116952819080477, 0.03852788959171938, 0.021061964711250054)"
      ]
     },
     "execution_count": 24,
     "metadata": {},
     "output_type": "execute_result"
    }
   ],
   "source": [
    "# base\n",
    "downvote_seen_items(scores, testset, data_description)\n",
    "make_prediction(scores, holdout, data_description)"
   ]
  },
  {
   "cell_type": "code",
   "execution_count": null,
   "id": "f3331d90",
   "metadata": {},
   "outputs": [],
   "source": []
  }
 ],
 "metadata": {
  "kernelspec": {
   "display_name": "Python 3 (ipykernel)",
   "language": "python",
   "name": "python3"
  },
  "language_info": {
   "codemirror_mode": {
    "name": "ipython",
    "version": 3
   },
   "file_extension": ".py",
   "mimetype": "text/x-python",
   "name": "python",
   "nbconvert_exporter": "python",
   "pygments_lexer": "ipython3",
   "version": "3.9.7"
  },
  "toc": {
   "base_numbering": 1,
   "nav_menu": {},
   "number_sections": true,
   "sideBar": true,
   "skip_h1_title": false,
   "title_cell": "Table of Contents",
   "title_sidebar": "Contents",
   "toc_cell": false,
   "toc_position": {},
   "toc_section_display": true,
   "toc_window_display": false
  },
  "varInspector": {
   "cols": {
    "lenName": 16,
    "lenType": 16,
    "lenVar": 40
   },
   "kernels_config": {
    "python": {
     "delete_cmd_postfix": "",
     "delete_cmd_prefix": "del ",
     "library": "var_list.py",
     "varRefreshCmd": "print(var_dic_list())"
    },
    "r": {
     "delete_cmd_postfix": ") ",
     "delete_cmd_prefix": "rm(",
     "library": "var_list.r",
     "varRefreshCmd": "cat(var_dic_list()) "
    }
   },
   "types_to_exclude": [
    "module",
    "function",
    "builtin_function_or_method",
    "instance",
    "_Feature"
   ],
   "window_display": false
  }
 },
 "nbformat": 4,
 "nbformat_minor": 5
}
